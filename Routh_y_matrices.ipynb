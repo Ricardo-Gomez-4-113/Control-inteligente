{
  "nbformat": 4,
  "nbformat_minor": 0,
  "metadata": {
    "colab": {
      "provenance": [],
      "authorship_tag": "ABX9TyPkZVp5Bfz2Q4Hc6GfKzlbW",
      "include_colab_link": true
    },
    "kernelspec": {
      "name": "python3",
      "display_name": "Python 3"
    },
    "language_info": {
      "name": "python"
    }
  },
  "cells": [
    {
      "cell_type": "markdown",
      "metadata": {
        "id": "view-in-github",
        "colab_type": "text"
      },
      "source": [
        "<a href=\"https://colab.research.google.com/github/Ricardo-Gomez-4-113/Control-inteligente/blob/main/Routh_y_matrices.ipynb\" target=\"_parent\"><img src=\"https://colab.research.google.com/assets/colab-badge.svg\" alt=\"Open In Colab\"/></a>"
      ]
    },
    {
      "cell_type": "markdown",
      "source": [
        "# Ejercicio A\n",
        "\n",
        "\n",
        "---\n",
        "\n"
      ],
      "metadata": {
        "id": "iFcsYDtzF6lO"
      }
    },
    {
      "cell_type": "markdown",
      "source": [
        "# Formulas\n",
        "\\begin{equation}\n",
        "m\\ddot{x} + b\\dot{x} + kx = 0\n",
        "\\end{equation}\n",
        "\\begin{equation}\n",
        "x = x_1\n",
        "\\end{equation}\n",
        "\\begin{equation}\n",
        "\\dot{x} = x_2\n",
        "\\end{equation}\n",
        "\\begin{equation}\n",
        "\\ddot{x} = \\dot{x_2}\n",
        "\\end{equation}\n",
        "\\begin{equation}\n",
        "\\dot{x_1} = x_2\n",
        "\\end{equation}\n",
        "\\begin{equation}\n",
        "\\dot{x_2} = - \\frac{b}{m} \\dot{x} - \\frac{k}{m}x\n",
        "\\end{equation}\n",
        "\n",
        "\n",
        "---\n",
        "\n"
      ],
      "metadata": {
        "id": "9YrT2y4sF-B-"
      }
    },
    {
      "cell_type": "markdown",
      "source": [
        "# Forma matricial"
      ],
      "metadata": {
        "id": "azrXsJhWTooU"
      }
    },
    {
      "cell_type": "markdown",
      "source": [
        "\\begin{equation}\n",
        "\\begin{bmatrix}\n",
        "\\dot{x_1}\\\\\n",
        "\\dot{x_2}\n",
        "\\end{bmatrix}\n",
        "= \\begin{bmatrix}\n",
        "0 & 1\\\\\n",
        "- \\frac{k}{m} & - \\frac{b}{m}\n",
        "\\end{bmatrix}\n",
        "\\begin{bmatrix}\n",
        "x_1\\\\\n",
        "x_2\n",
        "\\end{bmatrix}\n",
        "\\end{equation}\n",
        "\n",
        "\n",
        "---\n",
        "\\begin{equation}\n",
        "\\begin{bmatrix}\n",
        "1 & 0\n",
        "\\end{bmatrix}\n",
        "\\begin{bmatrix}\n",
        "x_1\\\\\n",
        "x_2\n",
        "\\end{bmatrix}\n",
        "\\end{equation}"
      ],
      "metadata": {
        "id": "2_lfrvx7GG1U"
      }
    },
    {
      "cell_type": "markdown",
      "source": [
        "# Función de transferencia"
      ],
      "metadata": {
        "id": "hY4G1ePIVcJS"
      }
    },
    {
      "cell_type": "markdown",
      "source": [
        "Se sustituye **A**, **B**, y **D** en la ecuación:\n",
        "\\begin{equation}\n",
        "G(s) = C(sI - A)^{-1} B + D\n",
        "\\end{equation}\n"
      ],
      "metadata": {
        "id": "5oHx5ABqXZB6"
      }
    },
    {
      "cell_type": "markdown",
      "source": [
        "# Ejercicio B"
      ],
      "metadata": {
        "id": "ui7w99kj7AXA"
      }
    },
    {
      "cell_type": "markdown",
      "source": [
        "# Formulas\n",
        "\\begin{equation}\n",
        "m\\ddot{x} + k_1(x-y) + k_2x = 0\n",
        "\\end{equation}\n",
        "\\begin{equation}\n",
        "k_1(x-y) = b_1y\n",
        "\\end{equation}\n",
        "\\begin{equation}\n",
        "x = -\\frac{x_1}{m}(x-y)-\\frac{k_2}{m}x\n",
        "\\end{equation}\n",
        "\\begin{equation}\n",
        "y = -\\frac{k_1}{b_1}(x-y)\n",
        "\\end{equation}\n",
        "\n",
        "---\n",
        "\\begin{equation}\n",
        "\\ddot{x} = \\dot{x_2} = -\\frac{k_1}{m}(x_1-y)-\\frac{k_2}{m}x_1\n",
        "\\end{equation}\n",
        "\\begin{equation}\n",
        "\\ddot{x} = x_2\n",
        "\\end{equation}\n",
        "\\begin{equation}\n",
        "y = x = -\\frac{k_1}{b}(x-y)\n",
        "\\end{equation}\n",
        "\n",
        "\n",
        "---\n",
        "\n",
        "\\begin{equation}\n",
        "x_1 = x\n",
        "\\end{equation}\n",
        "\\begin{equation}\n",
        "\\dot{x_1} = \\dot{x}\n",
        "\\end{equation}\n",
        "\\begin{equation}\n",
        "x_2 = \\dot{x}\n",
        "\\end{equation}\n",
        "\\begin{equation}\n",
        "\\ddot{x} = \\dot{x}\n",
        "\\end{equation}\n",
        "\\begin{equation}\n",
        "\\dot{x_1} = x_2\n",
        "\\end{equation}\n",
        "\\begin{equation}\n",
        "\\dot{x_2} = -\\frac{k_1}{m}(x_1-x_3) - \\frac{k_2}{m}(\\dot{x_1})\n",
        "\\end{equation}\n",
        "\\begin{equation}\n",
        "x_3 = y\n",
        "\\end{equation}\n",
        "\\begin{equation}\n",
        "\\dot{x_3} = \\dot{y}\n",
        "\\end{equation}\n",
        "\\begin{equation}\n",
        "\\dot{x_3} = \\frac{k_1}{b}(x_1-x_3)\n",
        "\\end{equation}"
      ],
      "metadata": {
        "id": "kVkPdjXr7H2I"
      }
    },
    {
      "cell_type": "markdown",
      "source": [
        "# Forma matricial"
      ],
      "metadata": {
        "id": "9TWbde2v_SN1"
      }
    },
    {
      "cell_type": "markdown",
      "source": [
        "\\begin{equation}\n",
        "\\begin{bmatrix}\n",
        "\\dot{x_1}\\\\\n",
        "\\dot{x_2}\\\\\n",
        "\\dot{x_3}\\\\\n",
        "\\end{bmatrix}\n",
        "= \\begin{bmatrix}\n",
        "0 & 1\\\\\n",
        "1 & 0\n",
        "\\end{bmatrix}\n",
        "\\begin{bmatrix}\n",
        "x_1\\\\\n",
        "x_2\n",
        "\\end{bmatrix}\n",
        "\\end{equation}\n",
        "\n",
        "\n",
        "---\n"
      ],
      "metadata": {
        "id": "PEf-wP85Ag8W"
      }
    },
    {
      "cell_type": "markdown",
      "source": [
        "# Ejercicio C\n",
        "\n",
        "\n",
        "---\n",
        "\n"
      ],
      "metadata": {
        "id": "qBKDHu7tekrn"
      }
    },
    {
      "cell_type": "markdown",
      "source": [
        "## Formulas\n",
        "\\begin{equation}\n",
        "\\ddot{Θ} + \\frac{g}{l} \\sin{Θ} = 0\n",
        "\\end{equation}\n",
        "\\begin{equation}\n",
        "Θ = x_1\n",
        "\\end{equation}\n",
        "\\begin{equation}\n",
        "\\dot{Θ} = x_2\n",
        "\\end{equation}\n",
        "\\begin{equation}\n",
        "\\ddot{Θ} = \\dot{x_2}\n",
        "\\end{equation}\n",
        "\\begin{equation}\n",
        "\\dot{x_2} = - \\frac{g}{l} \\sin{Θ}\n",
        "\\end{equation}\n",
        "\n",
        "\n",
        "---\n",
        "\n"
      ],
      "metadata": {
        "id": "SMFJpPfC27QW"
      }
    },
    {
      "cell_type": "markdown",
      "source": [
        "# Forma matricial"
      ],
      "metadata": {
        "id": "B6vkJVh03Ct4"
      }
    },
    {
      "cell_type": "markdown",
      "source": [
        "\\begin{equation}\n",
        "\\begin{bmatrix}\n",
        "\\dot{x_1}\\\\\n",
        "\\dot{x_2}\n",
        "\\end{bmatrix}\n",
        "= \\begin{bmatrix}\n",
        "0 & 1\\\\\n",
        "1 & 0\n",
        "\\end{bmatrix}\n",
        "\\begin{bmatrix}\n",
        "x_1\\\\\n",
        "x_2\n",
        "\\end{bmatrix}\n",
        "\\end{equation}\n",
        "\n",
        "\n",
        "---\n",
        "\n"
      ],
      "metadata": {
        "id": "ZtrYQKzV3E2G"
      }
    },
    {
      "cell_type": "markdown",
      "source": [
        "# Desarrollo"
      ],
      "metadata": {
        "id": "2lecsUqA5ECB"
      }
    },
    {
      "cell_type": "markdown",
      "source": [
        "Se sustituye **A**, **B**, y **D** en la ecuación:\n",
        "\\begin{equation}\n",
        "G(s) = C(sI - A)^{-1} B + D\n",
        "\\end{equation}"
      ],
      "metadata": {
        "id": "KV5NIpFI6JSa"
      }
    },
    {
      "cell_type": "markdown",
      "source": [
        "\\begin{equation}\n",
        "=\n",
        "\\begin{bmatrix}\n",
        "0 & 1\\\\\n",
        "\\end{bmatrix}\n",
        "\\left\\lbrace\n",
        "\\begin{bmatrix}\n",
        "s & 0\\\\\n",
        "0 & s\n",
        "\\end{bmatrix}\n",
        "-\\begin{bmatrix}\n",
        "0 & 1\\\\\n",
        "1 & 0\n",
        "\\end{bmatrix}\n",
        "\\right\\rbrace^{-1}\\\\\n",
        "= \\begin{bmatrix}\n",
        "0 & 1\\\\\n",
        "\\end{bmatrix}\n",
        "\\begin{bmatrix}\n",
        "s & -1\\\\\n",
        "-1 & s\n",
        "\\end{bmatrix}^{-1}\n",
        "\\end{equation}\n",
        "\n",
        "\n",
        "---\n",
        "\n"
      ],
      "metadata": {
        "id": "3FPiiQqm6PJZ"
      }
    },
    {
      "cell_type": "markdown",
      "source": [
        "# Criterio de estabilidad de Routh"
      ],
      "metadata": {
        "id": "2CGPdGU_BrEb"
      }
    },
    {
      "cell_type": "markdown",
      "source": [
        "El criterio de estabilidad de Routh dice si existen o no raíces inestables en una ecuación polinomial, sin tener que obtenerlas en realidad. Este crite rio de estabilidad sólo se aplica a los polinomios con una cantidad finita de términos. Cuando se aplica el criterio a un sistema de control, la información sobre la estabilidad absoluta se obtiene  directamente de los coeficientes de la ecuación característica.\n",
        "\n",
        "\n",
        "\n",
        "---\n",
        "\n",
        "\n",
        "\n",
        "\n"
      ],
      "metadata": {
        "id": "qg2ohNGnB5Wf"
      }
    },
    {
      "cell_type": "markdown",
      "source": [
        "# Ejercicio 1:"
      ],
      "metadata": {
        "id": "xml5GhJ6WpHj"
      }
    },
    {
      "cell_type": "markdown",
      "source": [
        "Dado el polinomio característico\n",
        "\\begin{equation}\n",
        "P(s)=s^3+5s^2+6s+2\n",
        "\\end{equation}"
      ],
      "metadata": {
        "id": "YLtCJok4WqcL"
      }
    },
    {
      "cell_type": "markdown",
      "source": [
        "## Acomodo"
      ],
      "metadata": {
        "id": "9EAPDE5Ncpyw"
      }
    },
    {
      "cell_type": "markdown",
      "source": [
        "\\begin{equation}\n",
        "s^3+5s^2+6s+2 = 0\n",
        "\\end{equation}"
      ],
      "metadata": {
        "id": "laGVBi_McxI2"
      }
    },
    {
      "cell_type": "markdown",
      "source": [
        "## Matriz"
      ],
      "metadata": {
        "id": "vG8y7RJsi8Mn"
      }
    },
    {
      "cell_type": "markdown",
      "source": [
        "| Coeficientes |Valor 1|Valor 2 |\n",
        "|:------------:|:-----:|:------:|\n",
        "| $s^3$        | 1     | 6\n",
        "| $s^2$        | 5     | 2\n",
        "| $s^1$        |       |\n",
        "| $s^0$        |       |\n"
      ],
      "metadata": {
        "id": "zbocYU3ui-qp"
      }
    },
    {
      "cell_type": "code",
      "source": [
        "b1 = ((5*6)-(1*2))/5\n",
        "b1"
      ],
      "metadata": {
        "colab": {
          "base_uri": "https://localhost:8080/"
        },
        "id": "WqwMWlCkocgy",
        "outputId": "3189d6f6-b53f-4a3e-e230-95e497c15a66"
      },
      "execution_count": null,
      "outputs": [
        {
          "output_type": "execute_result",
          "data": {
            "text/plain": [
              "5.6"
            ]
          },
          "metadata": {},
          "execution_count": 11
        }
      ]
    },
    {
      "cell_type": "markdown",
      "source": [
        "| Coeficientes |Valor 1|Valor 2 |\n",
        "|:------------:|:-----:|:------:|\n",
        "| $s^3$        | 1     | 6\n",
        "| $s^2$        | 5     | 2\n",
        "| $s^1$        | 5.6      |\n",
        "| $s^0$        |       |\n",
        "\n"
      ],
      "metadata": {
        "id": "4pSMRfTPqNUU"
      }
    },
    {
      "cell_type": "code",
      "source": [
        "b2 = ((5*0)-(0*1))/5\n",
        "b2"
      ],
      "metadata": {
        "colab": {
          "base_uri": "https://localhost:8080/"
        },
        "id": "jgLrkhoorxb2",
        "outputId": "ce3ac544-166a-4aa7-fd61-c9c025e9842a"
      },
      "execution_count": null,
      "outputs": [
        {
          "output_type": "execute_result",
          "data": {
            "text/plain": [
              "0.0"
            ]
          },
          "metadata": {},
          "execution_count": 14
        }
      ]
    },
    {
      "cell_type": "markdown",
      "source": [
        "| Coeficientes |Valor 1|Valor 2 |\n",
        "|:------------:|:-----:|:------:|\n",
        "| $s^3$        | 1     | 6\n",
        "| $s^2$        | 5     | 2\n",
        "| $s^1$        | 5.6   |0\n",
        "| $s^0$        |       |"
      ],
      "metadata": {
        "id": "oSMhgIub1vkU"
      }
    },
    {
      "cell_type": "code",
      "source": [
        "c1 = ((5.6*2)-(5*0))/5.6\n",
        "c1"
      ],
      "metadata": {
        "colab": {
          "base_uri": "https://localhost:8080/"
        },
        "id": "KVC1Ry0d5iu7",
        "outputId": "cef05eea-51d1-4834-d080-f973ed10389d"
      },
      "execution_count": null,
      "outputs": [
        {
          "output_type": "execute_result",
          "data": {
            "text/plain": [
              "2.0"
            ]
          },
          "metadata": {},
          "execution_count": 1
        }
      ]
    },
    {
      "cell_type": "markdown",
      "source": [
        "| Coeficientes |Valor 1|Valor 2 |\n",
        "|:------------:|:-----:|:------:|\n",
        "| $s^3$        | 1     | 6\n",
        "| $s^2$        | 5     | 2\n",
        "| $s^1$        | 5.6   | 0\n",
        "| $s^0$        | 2  |"
      ],
      "metadata": {
        "id": "0TZnhKkl5nfG"
      }
    },
    {
      "cell_type": "markdown",
      "source": [
        "# Conclusión"
      ],
      "metadata": {
        "id": "9QgZtRk45vDW"
      }
    },
    {
      "cell_type": "markdown",
      "source": [
        "El polinomio característico es estale, debido a que no hay cambios de signo."
      ],
      "metadata": {
        "id": "AN8NNOq07GAD"
      }
    },
    {
      "cell_type": "markdown",
      "source": [
        "# Ejercicio 2:"
      ],
      "metadata": {
        "id": "7c5-mWvY8jt5"
      }
    },
    {
      "cell_type": "markdown",
      "source": [
        "Dado el polinomio característico\n",
        "\\begin{equation}\n",
        "P(s)=s^4+2s^3+4s^2+2s+1\n",
        "\\end{equation}"
      ],
      "metadata": {
        "id": "gwvqAdO88l3g"
      }
    },
    {
      "cell_type": "markdown",
      "source": [
        "# Acomodo"
      ],
      "metadata": {
        "id": "YGma_Rf69WW7"
      }
    },
    {
      "cell_type": "markdown",
      "source": [
        "\\begin{equation}\n",
        "s^4+2s^3+4s^2+2s+1 = 0\n",
        "\\end{equation}"
      ],
      "metadata": {
        "id": "dX0CDauO9N-u"
      }
    },
    {
      "cell_type": "markdown",
      "source": [
        "# Matriz"
      ],
      "metadata": {
        "id": "gm5pjvR89pTB"
      }
    },
    {
      "cell_type": "markdown",
      "source": [
        "| Coeficientes |Valor 1|Valor 2 |Valor 3|\n",
        "|:------------:|:-----:|:------:|:-----:|\n",
        "| $s^4$        |1      |4       |1      |\n",
        "| $s^3$        |2      |2       |0      |\n",
        "| $s^2$        |       |        |       |\n",
        "| $s^1$        |       |        |       |\n",
        "| $s^0$        |       |        |       |"
      ],
      "metadata": {
        "id": "G0jr60379qzH"
      }
    },
    {
      "cell_type": "code",
      "source": [
        "b1 = ((2*4)-(1*2))/2\n",
        "b1"
      ],
      "metadata": {
        "colab": {
          "base_uri": "https://localhost:8080/"
        },
        "id": "WMaPeV2AAOVn",
        "outputId": "f83f0822-0a8c-45af-9650-40c2b518a8ee"
      },
      "execution_count": null,
      "outputs": [
        {
          "output_type": "execute_result",
          "data": {
            "text/plain": [
              "3.0"
            ]
          },
          "metadata": {},
          "execution_count": 13
        }
      ]
    },
    {
      "cell_type": "markdown",
      "source": [
        "| Coeficientes |Valor 1|Valor 2 |Valor 3|\n",
        "|:------------:|:-----:|:------:|:-----:|\n",
        "| $s^4$        |1      |4       |1      |\n",
        "| $s^3$        |2      |2       |0      |\n",
        "| $s^2$        |3      |        |       |\n",
        "| $s^1$        |       |        |       |\n",
        "| $s^0$        |       |        |       |\n"
      ],
      "metadata": {
        "id": "7resG0G_AirZ"
      }
    },
    {
      "cell_type": "code",
      "source": [
        "b2 = ((2*1)-(1*0))/2\n",
        "b2"
      ],
      "metadata": {
        "colab": {
          "base_uri": "https://localhost:8080/"
        },
        "id": "R8vJ-PY9BUV0",
        "outputId": "a0876d2b-2b4b-4b38-aad7-6eaa16ccb2b7"
      },
      "execution_count": null,
      "outputs": [
        {
          "output_type": "execute_result",
          "data": {
            "text/plain": [
              "1.0"
            ]
          },
          "metadata": {},
          "execution_count": 15
        }
      ]
    },
    {
      "cell_type": "markdown",
      "source": [
        "| Coeficientes |Valor 1|Valor 2 |Valor 3|\n",
        "|:------------:|:-----:|:------:|:-----:|\n",
        "| $s^4$        |1      |4       |1      |\n",
        "| $s^3$        |2      |2       |0      |\n",
        "| $s^2$        |3      |1       |       |\n",
        "| $s^1$        |       |        |       |\n",
        "| $s^0$        |       |        |       |\n",
        "|              |       |        |       |"
      ],
      "metadata": {
        "id": "sGJ_uWl_B2AO"
      }
    },
    {
      "cell_type": "code",
      "source": [
        "b3 = ((2*0)-(1*0))/2\n",
        "b3"
      ],
      "metadata": {
        "colab": {
          "base_uri": "https://localhost:8080/"
        },
        "id": "2fJrRfAECC97",
        "outputId": "dda5a358-5368-4065-e422-9afd170647d0"
      },
      "execution_count": null,
      "outputs": [
        {
          "output_type": "execute_result",
          "data": {
            "text/plain": [
              "0.0"
            ]
          },
          "metadata": {},
          "execution_count": 17
        }
      ]
    },
    {
      "cell_type": "markdown",
      "source": [
        "| Coeficientes |Valor 1|Valor 2 |Valor 3|\n",
        "|:------------:|:-----:|:------:|:-----:|\n",
        "| $s^4$        |1      |4       |1      |\n",
        "| $s^3$        |2      |2       |0       |\n",
        "| $s^2$        |3      |1       |0      |\n",
        "| $s^1$        |       |        |       |\n",
        "| $s^0$        |       |        |       |"
      ],
      "metadata": {
        "id": "jC3zwBuOCmFM"
      }
    },
    {
      "cell_type": "code",
      "source": [
        "c1 = ((3*2)-(2*1))/3\n",
        "c1"
      ],
      "metadata": {
        "colab": {
          "base_uri": "https://localhost:8080/"
        },
        "id": "kKFIOXXIDA_b",
        "outputId": "7bc282fc-34b0-4f02-abe7-38645f7c3b9a"
      },
      "execution_count": null,
      "outputs": [
        {
          "output_type": "execute_result",
          "data": {
            "text/plain": [
              "1.3333333333333333"
            ]
          },
          "metadata": {},
          "execution_count": 18
        }
      ]
    },
    {
      "cell_type": "markdown",
      "source": [
        "| Coeficientes |Valor 1|Valor 2 |Valor 3|\n",
        "|:------------:|:-----:|:------:|:-----:|\n",
        "| $s^4$        |1      |4       |1      |\n",
        "| $s^3$        |2      |2       |0      |\n",
        "| $s^2$        |3      |1       |0      |\n",
        "| $s^1$        |1.3    |        |       |\n",
        "| $s^0$        |       |        |       |"
      ],
      "metadata": {
        "id": "UStl8WGPEKGx"
      }
    },
    {
      "cell_type": "code",
      "source": [
        "c2 = ((3*0)-(2*0))/3\n",
        "c2"
      ],
      "metadata": {
        "colab": {
          "base_uri": "https://localhost:8080/"
        },
        "id": "jBXL8LieE-ZK",
        "outputId": "cbe7d563-a80a-4ff9-ef25-d49db9bf32ea"
      },
      "execution_count": null,
      "outputs": [
        {
          "output_type": "execute_result",
          "data": {
            "text/plain": [
              "0.0"
            ]
          },
          "metadata": {},
          "execution_count": 19
        }
      ]
    },
    {
      "cell_type": "markdown",
      "source": [
        "| Coeficientes |Valor 1|Valor 2 |Valor 3|\n",
        "|:------------:|:-----:|:------:|:-----:|\n",
        "| $s^4$        |1      |4       |1      |\n",
        "| $s^3$        |2      |2       |0      |\n",
        "| $s^2$        |3      |1       |0      |\n",
        "| $s^1$        |1.3    |0       |       |\n",
        "| $s^0$        |       |        |       |"
      ],
      "metadata": {
        "id": "4jwnH0izE_aO"
      }
    },
    {
      "cell_type": "code",
      "source": [
        "c3 = ((3*0)-(2*0))/3\n",
        "c3"
      ],
      "metadata": {
        "colab": {
          "base_uri": "https://localhost:8080/"
        },
        "id": "Fxxh19IkFKra",
        "outputId": "79cd4b32-7d99-40ca-ebdb-9e17172fe750"
      },
      "execution_count": null,
      "outputs": [
        {
          "output_type": "execute_result",
          "data": {
            "text/plain": [
              "0.0"
            ]
          },
          "metadata": {},
          "execution_count": 20
        }
      ]
    },
    {
      "cell_type": "markdown",
      "source": [
        "| Coeficientes |Valor 1|Valor 2 |Valor 3|\n",
        "|:------------:|:-----:|:------:|:-----:|\n",
        "| $s^4$        |1      |4       |1      |\n",
        "| $s^3$        |2      |2       |0      |\n",
        "| $s^2$        |3      |1       |0      |\n",
        "| $s^1$        |1.3    |0       |0      |\n",
        "| $s^0$        |       |        |       |"
      ],
      "metadata": {
        "id": "WQJN5d6ZFgG9"
      }
    },
    {
      "cell_type": "code",
      "source": [
        "d1 = ((1.3*1)-(3*0))/1.3\n",
        "d1"
      ],
      "metadata": {
        "colab": {
          "base_uri": "https://localhost:8080/"
        },
        "id": "N1P3jGrnFiDP",
        "outputId": "98444437-3886-4181-d84c-370953c6cbfa"
      },
      "execution_count": null,
      "outputs": [
        {
          "output_type": "execute_result",
          "data": {
            "text/plain": [
              "1.0"
            ]
          },
          "metadata": {},
          "execution_count": 2
        }
      ]
    },
    {
      "cell_type": "markdown",
      "source": [
        "| Coeficientes |Valor 1|Valor 2 |Valor 3|\n",
        "|:------------:|:-----:|:------:|:-----:|\n",
        "| $s^4$        |1      |4       |1      |\n",
        "| $s^3$        |2      |2       |0      |\n",
        "| $s^2$        |3      |1       |0      |\n",
        "| $s^1$        |1.3    |0       |0      |\n",
        "| $s^0$        |1      |        |       |"
      ],
      "metadata": {
        "id": "-O7OKInMG0Rc"
      }
    },
    {
      "cell_type": "markdown",
      "source": [
        "# Conclusión"
      ],
      "metadata": {
        "id": "LR4mnZLdG2pw"
      }
    },
    {
      "cell_type": "markdown",
      "source": [],
      "metadata": {
        "id": "ngb1JhctHD4j"
      }
    },
    {
      "cell_type": "markdown",
      "source": [
        "# Ejercicio 3:"
      ],
      "metadata": {
        "id": "WZmQ6fwuIW97"
      }
    },
    {
      "cell_type": "markdown",
      "source": [
        "Dado el polinomio característico\n",
        "\\begin{equation}\n",
        " P(s)=s^5+4s^4+6s^3+4s^2+2s+1\n",
        "\\end{equation}"
      ],
      "metadata": {
        "id": "Nz3_xqi4Idsa"
      }
    },
    {
      "cell_type": "markdown",
      "source": [
        "# Acomodo"
      ],
      "metadata": {
        "id": "3zfIntl7Ih_M"
      }
    },
    {
      "cell_type": "markdown",
      "source": [
        "\\begin{equation}\n",
        " s^5+4s^4+6s^3+4s^2+2s+1 = 0\n",
        "\\end{equation}"
      ],
      "metadata": {
        "id": "UKh-7bCeI_rk"
      }
    },
    {
      "cell_type": "markdown",
      "source": [
        "# Matriz"
      ],
      "metadata": {
        "id": "E1emto-cJExD"
      }
    },
    {
      "cell_type": "markdown",
      "source": [
        "| Coeficientes |Valor 1|Valor 2 |Valor 3|\n",
        "|:------------:|:-----:|:------:|:-----:|\n",
        "| $s^5$        |1      |6       |2      |\n",
        "| $s^4$        |4      |4       |1      |\n",
        "| $s^3$        |       |        |       |\n",
        "| $s^2$        |       |        |       |\n",
        "| $s^1$        |       |        |       |\n",
        "| $s^0$        |       |        |       |"
      ],
      "metadata": {
        "id": "EdZ5toYPJIKP"
      }
    },
    {
      "cell_type": "code",
      "source": [
        "b1 = ((4*6)-(1*4))/4\n",
        "b1"
      ],
      "metadata": {
        "colab": {
          "base_uri": "https://localhost:8080/"
        },
        "id": "gwe2RsjXL9ik",
        "outputId": "a9a3216f-f74b-4ff6-bc96-4f3275588e66"
      },
      "execution_count": null,
      "outputs": [
        {
          "output_type": "execute_result",
          "data": {
            "text/plain": [
              "5.0"
            ]
          },
          "metadata": {},
          "execution_count": 22
        }
      ]
    },
    {
      "cell_type": "markdown",
      "source": [
        "| Coeficientes |Valor 1|Valor 2 |Valor 3|\n",
        "|:------------:|:-----:|:------:|:-----:|\n",
        "| $s^5$        |1      |6       |2      |\n",
        "| $s^4$        |4      |4       |1      |\n",
        "| $s^3$        | 5     |        |       |\n",
        "| $s^2$        |       |        |       |\n",
        "| $s^1$        |       |        |       |\n",
        "| $s^0$        |       |        |       |"
      ],
      "metadata": {
        "id": "v4VIuREqNLH9"
      }
    },
    {
      "cell_type": "code",
      "source": [
        "b2 = ((4*2)-(1*1))/4\n",
        "b2"
      ],
      "metadata": {
        "colab": {
          "base_uri": "https://localhost:8080/"
        },
        "id": "9zBAywjVNNwK",
        "outputId": "17be0567-df7c-4429-e3a7-20063c35e05e"
      },
      "execution_count": null,
      "outputs": [
        {
          "output_type": "execute_result",
          "data": {
            "text/plain": [
              "1.75"
            ]
          },
          "metadata": {},
          "execution_count": 24
        }
      ]
    },
    {
      "cell_type": "markdown",
      "source": [
        "| Coeficientes |Valor 1|Valor 2 |Valor 3|\n",
        "|:------------:|:-----:|:------:|:-----:|\n",
        "| $s^5$        |1      |6       |2      |\n",
        "| $s^4$        |4      |4       |1      |\n",
        "| $s^3$        | 5     |1.75    |       |\n",
        "| $s^2$        |       |        |       |\n",
        "| $s^1$        |       |        |       |\n",
        "| $s^0$        |       |        |       |"
      ],
      "metadata": {
        "id": "3VJpiJAEPLfj"
      }
    },
    {
      "cell_type": "code",
      "source": [
        "b3 = ((4*0)-(1*0))/4\n",
        "b3"
      ],
      "metadata": {
        "colab": {
          "base_uri": "https://localhost:8080/"
        },
        "id": "tsep-wf2PLIJ",
        "outputId": "3f41afec-6773-46ad-ef7d-f0060eda9d88"
      },
      "execution_count": null,
      "outputs": [
        {
          "output_type": "execute_result",
          "data": {
            "text/plain": [
              "0.0"
            ]
          },
          "metadata": {},
          "execution_count": 26
        }
      ]
    },
    {
      "cell_type": "markdown",
      "source": [
        "| Coeficientes |Valor 1|Valor 2 |Valor 3|\n",
        "|:------------:|:-----:|:------:|:-----:|\n",
        "| $s^5$        |1      |6       |2      |\n",
        "| $s^4$        |4      |4       |1      |\n",
        "| $s^3$        | 5     |1.75    |0      |\n",
        "| $s^2$        |       |        |       |\n",
        "| $s^1$        |       |        |       |\n",
        "| $s^0$        |       |        |       |"
      ],
      "metadata": {
        "id": "3b8S2sTNPctP"
      }
    },
    {
      "cell_type": "code",
      "source": [
        "c1 = ((5*4)-(4*1.75))/5\n",
        "c1"
      ],
      "metadata": {
        "colab": {
          "base_uri": "https://localhost:8080/"
        },
        "id": "__dH405PQNuv",
        "outputId": "8e13c903-ae38-4f2d-8fad-d8b6114e1a75"
      },
      "execution_count": null,
      "outputs": [
        {
          "output_type": "execute_result",
          "data": {
            "text/plain": [
              "2.6"
            ]
          },
          "metadata": {},
          "execution_count": 27
        }
      ]
    },
    {
      "cell_type": "markdown",
      "source": [
        "| Coeficientes |Valor 1|Valor 2 |Valor 3|\n",
        "|:------------:|:-----:|:------:|:-----:|\n",
        "| $s^5$        |1      |6       |2      |\n",
        "| $s^4$        |4      |4       |1      |\n",
        "| $s^3$        |5      |1.75    |0      |\n",
        "| $s^2$        |2.6    |        |       |\n",
        "| $s^1$        |       |        |       |\n",
        "| $s^0$        |       |        |       |"
      ],
      "metadata": {
        "id": "A_P5z9JhRWC2"
      }
    },
    {
      "cell_type": "code",
      "source": [
        "c2 = ((5*1)-(4*0))/5\n",
        "c2"
      ],
      "metadata": {
        "colab": {
          "base_uri": "https://localhost:8080/"
        },
        "id": "3jgmt5cnRa5W",
        "outputId": "8c635a7e-b808-46c7-fea0-65b5ccfd87e7"
      },
      "execution_count": null,
      "outputs": [
        {
          "output_type": "execute_result",
          "data": {
            "text/plain": [
              "1.0"
            ]
          },
          "metadata": {},
          "execution_count": 28
        }
      ]
    },
    {
      "cell_type": "markdown",
      "source": [
        "| Coeficientes |Valor 1|Valor 2 |Valor 3|\n",
        "|:------------:|:-----:|:------:|:-----:|\n",
        "| $s^5$        |1      |6       |2      |\n",
        "| $s^4$        |4      |4       |1      |\n",
        "| $s^3$        |5      |1.75    |0      |\n",
        "| $s^2$        |2.6    |1       |       |\n",
        "| $s^1$        |       |        |       |\n",
        "| $s^0$        |       |        |       |"
      ],
      "metadata": {
        "id": "cn6ixixQRx0P"
      }
    },
    {
      "cell_type": "code",
      "source": [
        "c3 = ((5*0)-(4*0))/5\n",
        "c3"
      ],
      "metadata": {
        "colab": {
          "base_uri": "https://localhost:8080/"
        },
        "id": "A0cCpV5lRzmr",
        "outputId": "ddfaed4d-5175-4334-d90b-e3b969c1400b"
      },
      "execution_count": null,
      "outputs": [
        {
          "output_type": "execute_result",
          "data": {
            "text/plain": [
              "0.0"
            ]
          },
          "metadata": {},
          "execution_count": 29
        }
      ]
    },
    {
      "cell_type": "markdown",
      "source": [
        "| Coeficientes |Valor 1|Valor 2 |Valor 3|\n",
        "|:------------:|:-----:|:------:|:-----:|\n",
        "| $s^5$        |1      |6       |2      |\n",
        "| $s^4$        |4      |4       |1      |\n",
        "| $s^3$        |5      |1.75    |0      |\n",
        "| $s^2$        |2.6    |1       |0      |\n",
        "| $s^1$        |       |        |       |\n",
        "| $s^0$        |       |        |       |"
      ],
      "metadata": {
        "id": "_qST5YiWR_7M"
      }
    },
    {
      "cell_type": "code",
      "source": [
        "d1 = ((2.6*1.75)-(5*1))/2.6\n",
        "d1"
      ],
      "metadata": {
        "colab": {
          "base_uri": "https://localhost:8080/"
        },
        "id": "T819kOPGSEUS",
        "outputId": "a147d831-ceb7-4a77-b9e8-66f0a0c8f3f8"
      },
      "execution_count": null,
      "outputs": [
        {
          "output_type": "execute_result",
          "data": {
            "text/plain": [
              "-0.17307692307692313"
            ]
          },
          "metadata": {},
          "execution_count": 6
        }
      ]
    },
    {
      "cell_type": "markdown",
      "source": [
        "| Coeficientes |Valor 1|Valor 2 |Valor 3|\n",
        "|:------------:|:-----:|:------:|:-----:|\n",
        "| $s^5$        |1      |6       |2      |\n",
        "| $s^4$        |4      |4       |1      |\n",
        "| $s^3$        |5      |1.75    |0      |\n",
        "| $s^2$        |2.6    |1       |0      |\n",
        "| $s^1$        |-0.17  |        |       |\n",
        "| $s^0$        |       |        |       |"
      ],
      "metadata": {
        "id": "SIbuOkAmS-xy"
      }
    },
    {
      "cell_type": "code",
      "source": [
        "d2 = ((2.6*0)-(5*0))/2.6\n",
        "d2"
      ],
      "metadata": {
        "colab": {
          "base_uri": "https://localhost:8080/"
        },
        "id": "mB__zr37JdZ1",
        "outputId": "2c17ed56-281b-4d11-9b31-3b7782453fd4"
      },
      "execution_count": null,
      "outputs": [
        {
          "output_type": "execute_result",
          "data": {
            "text/plain": [
              "0.0"
            ]
          },
          "metadata": {},
          "execution_count": 5
        }
      ]
    },
    {
      "cell_type": "markdown",
      "source": [
        "| Coeficientes |Valor 1|Valor 2 |Valor 3|\n",
        "|:------------:|:-----:|:------:|:-----:|\n",
        "| $s^5$        |1      |6       |2      |\n",
        "| $s^4$        |4      |4       |1      |\n",
        "| $s^3$        |5      |1.75    |0      |\n",
        "| $s^2$        |2.6    |1       |0      |\n",
        "| $s^1$        |-0.17  |0       |       |\n",
        "| $s^0$        |1      |        |       |"
      ],
      "metadata": {
        "id": "0FkzydewKM6R"
      }
    },
    {
      "cell_type": "code",
      "source": [
        "d3 = ((-.17*1)-(2.6*0))/-.17\n",
        "d3"
      ],
      "metadata": {
        "colab": {
          "base_uri": "https://localhost:8080/"
        },
        "id": "mLFPMgyFK-dX",
        "outputId": "ce14d3a5-3a85-42eb-ee12-40d39e409b3e"
      },
      "execution_count": null,
      "outputs": [
        {
          "output_type": "execute_result",
          "data": {
            "text/plain": [
              "1.0"
            ]
          },
          "metadata": {},
          "execution_count": 8
        }
      ]
    },
    {
      "cell_type": "markdown",
      "source": [
        "# Conclusión"
      ],
      "metadata": {
        "id": "doMUhJTcTDE7"
      }
    },
    {
      "cell_type": "markdown",
      "source": [
        "El polinomio característico es inestale, debido a que hay cambios de signo."
      ],
      "metadata": {
        "id": "mqlG1mRcTHKe"
      }
    },
    {
      "cell_type": "markdown",
      "source": [
        "# Ejercicio 4:"
      ],
      "metadata": {
        "id": "1SsA0BlNTfd_"
      }
    },
    {
      "cell_type": "markdown",
      "source": [
        "Dado el polinomio característico\n",
        "\\begin{equation}\n",
        " P(s)=s^3+3s^2+3s+1\n",
        "\\end{equation}"
      ],
      "metadata": {
        "id": "fkPoRw0FUD-z"
      }
    },
    {
      "cell_type": "markdown",
      "source": [
        "# Acomodo"
      ],
      "metadata": {
        "id": "XB4sayTxUTev"
      }
    },
    {
      "cell_type": "markdown",
      "source": [
        "\\begin{equation}\n",
        " s^3+3s^2+3s+1 = 0\n",
        "\\end{equation}"
      ],
      "metadata": {
        "id": "2rsy0xoAUZ0F"
      }
    },
    {
      "cell_type": "markdown",
      "source": [
        "# Matriz"
      ],
      "metadata": {
        "id": "kBqcPhEkU07Q"
      }
    },
    {
      "cell_type": "markdown",
      "source": [
        "| Coeficientes |Valor 1|Valor 2 |\n",
        "|:------------:|:-----:|:------:|\n",
        "| $s^3$        | 1     | 3\n",
        "| $s^2$        | 3     | 1\n",
        "| $s^1$        |       |\n",
        "| $s^0$        |       |\n"
      ],
      "metadata": {
        "id": "RYRS3YmwU4kn"
      }
    },
    {
      "cell_type": "code",
      "source": [
        "b1 = ((3*3)-(1*1))/3\n",
        "b1"
      ],
      "metadata": {
        "colab": {
          "base_uri": "https://localhost:8080/"
        },
        "id": "nguORwFnUSzH",
        "outputId": "a15f1d7b-9217-4509-c488-f6ff3c2882e9"
      },
      "execution_count": null,
      "outputs": [
        {
          "output_type": "execute_result",
          "data": {
            "text/plain": [
              "2.6666666666666665"
            ]
          },
          "metadata": {},
          "execution_count": 31
        }
      ]
    },
    {
      "cell_type": "markdown",
      "source": [
        "| Coeficientes |Valor 1|Valor 2 |\n",
        "|:------------:|:-----:|:------:|\n",
        "| $s^3$        | 1     | 3\n",
        "| $s^2$        | 3     | 1\n",
        "| $s^1$        | 2.6   |\n",
        "| $s^0$        |       |\n"
      ],
      "metadata": {
        "id": "coWVOBFIXF_8"
      }
    },
    {
      "cell_type": "code",
      "source": [
        "b2 = ((3*0)-(1*0))/3\n",
        "b2"
      ],
      "metadata": {
        "colab": {
          "base_uri": "https://localhost:8080/"
        },
        "id": "qOOSA3KRXK2p",
        "outputId": "6d5b7a99-eb0d-4da4-8a6f-c571909257a7"
      },
      "execution_count": null,
      "outputs": [
        {
          "output_type": "execute_result",
          "data": {
            "text/plain": [
              "0.0"
            ]
          },
          "metadata": {},
          "execution_count": 33
        }
      ]
    },
    {
      "cell_type": "markdown",
      "source": [
        "| Coeficientes |Valor 1|Valor 2 |\n",
        "|:------------:|:-----:|:------:|\n",
        "| $s^3$        | 1     | 3\n",
        "| $s^2$        | 3     | 1\n",
        "| $s^1$        | 2.6   |0\n",
        "| $s^0$        |       |"
      ],
      "metadata": {
        "id": "KB5sSKC_XUSV"
      }
    },
    {
      "cell_type": "code",
      "source": [
        "c1 = ((2.6*1)-(3*0))/3\n",
        "c1"
      ],
      "metadata": {
        "colab": {
          "base_uri": "https://localhost:8080/"
        },
        "id": "B6TP27pVXcbQ",
        "outputId": "a55b89a6-e55e-4564-f58f-b4c754a881b8"
      },
      "execution_count": null,
      "outputs": [
        {
          "output_type": "execute_result",
          "data": {
            "text/plain": [
              "0.8666666666666667"
            ]
          },
          "metadata": {},
          "execution_count": 34
        }
      ]
    },
    {
      "cell_type": "markdown",
      "source": [
        "| Coeficientes |Valor 1|Valor 2 |\n",
        "|:------------:|:-----:|:------:|\n",
        "| $s^3$        | 1     | 3\n",
        "| $s^2$        | 3     | 1\n",
        "| $s^1$        | 2.6   |0\n",
        "| $s^0$        | .86   |"
      ],
      "metadata": {
        "id": "eYUtXWQlX5S9"
      }
    },
    {
      "cell_type": "markdown",
      "source": [
        "# Conclusión"
      ],
      "metadata": {
        "id": "9VPCoef8Ydzs"
      }
    },
    {
      "cell_type": "markdown",
      "source": [
        "El polinomio característico es estale, debido a que no hay cambios de signo."
      ],
      "metadata": {
        "id": "SchCd64LX9rI"
      }
    },
    {
      "cell_type": "markdown",
      "source": [
        "# Ejercicio 5:"
      ],
      "metadata": {
        "id": "G16kP4rpTqBW"
      }
    },
    {
      "cell_type": "markdown",
      "source": [
        "Dado el polinomio característico\n",
        "\\begin{equation}\n",
        " P(s) = s^3 + (k+1)s^2+(2k+1)s+k\n",
        "\\end{equation}"
      ],
      "metadata": {
        "id": "JxUBOKZlUDDm"
      }
    },
    {
      "cell_type": "markdown",
      "source": [
        "# Acomodo"
      ],
      "metadata": {
        "id": "tcPLHz0NWJqW"
      }
    },
    {
      "cell_type": "markdown",
      "source": [
        "\\begin{equation}\n",
        "P(s) = s^3 + ks^2 + s^2 + 2sk + k + s\n",
        "\\end{equation}"
      ],
      "metadata": {
        "id": "ibKTl0IcWQT9"
      }
    },
    {
      "cell_type": "markdown",
      "source": [
        "| Coeficientes |Valor 1|Valor 2 |Valor 3|\n",
        "|:------------:|:-----:|:------:|:-----:|\n",
        "| $s^3$        |1      |1       |1      |\n",
        "| $s^2$        |1      |2       |0      |\n",
        "| $s^1$        |       |        |       |\n",
        "| $s^0$        |       |        |       |"
      ],
      "metadata": {
        "id": "wDYt51BBWfx1"
      }
    },
    {
      "cell_type": "code",
      "source": [
        "b1 = ((1*1)-(1*2))/1\n",
        "b1"
      ],
      "metadata": {
        "colab": {
          "base_uri": "https://localhost:8080/"
        },
        "id": "sX1fGMo0Y4ow",
        "outputId": "6bee07f9-852e-44d5-97dc-2b9ff3687b08"
      },
      "execution_count": null,
      "outputs": [
        {
          "output_type": "execute_result",
          "data": {
            "text/plain": [
              "-1.0"
            ]
          },
          "metadata": {},
          "execution_count": 2
        }
      ]
    },
    {
      "cell_type": "markdown",
      "source": [
        "| Coeficientes |Valor 1|Valor 2 |Valor 3|\n",
        "|:------------:|:-----:|:------:|:-----:|\n",
        "| $s^3$        |1      |1       |1      |\n",
        "| $s^2$        |1      |2       |0      |\n",
        "| $s^1$        |-1     |        |       |\n",
        "| $s^0$        |       |        |       |"
      ],
      "metadata": {
        "id": "6mbcOKdOx9ib"
      }
    },
    {
      "cell_type": "code",
      "source": [
        "b2 = ((1*1)-(1*0))/1\n",
        "b2"
      ],
      "metadata": {
        "colab": {
          "base_uri": "https://localhost:8080/"
        },
        "id": "vId5eRK8y3Sj",
        "outputId": "f0ee5ae0-9489-4c18-df6c-c02df8584bdb"
      },
      "execution_count": null,
      "outputs": [
        {
          "output_type": "execute_result",
          "data": {
            "text/plain": [
              "1.0"
            ]
          },
          "metadata": {},
          "execution_count": 3
        }
      ]
    },
    {
      "cell_type": "markdown",
      "source": [
        "| Coeficientes |Valor 1|Valor 2 |Valor 3|\n",
        "|:------------:|:-----:|:------:|:-----:|\n",
        "| $s^3$        |1      |1       |1      |\n",
        "| $s^2$        |1      |2       |0      |\n",
        "| $s^1$        |-1     |1       |       |\n",
        "| $s^0$        |       |        |       |"
      ],
      "metadata": {
        "id": "PWH8pZhIzTrz"
      }
    },
    {
      "cell_type": "markdown",
      "source": [
        "# Diagramas de control"
      ],
      "metadata": {
        "id": "a3KlWGiiTgAt"
      }
    },
    {
      "cell_type": "markdown",
      "source": [
        "![eje1.png](data:image/png;base64,iVBORw0KGgoAAAANSUhEUgAAA98AAAIFCAYAAADLIU5NAAAAAXNSR0IArs4c6QAAAARnQU1BAACxjwv8YQUAAAAJcEhZcwAAFiUAABYlAUlSJPAAAM/DSURBVHhe7N0FYBTX2gbgN+7ugRAsuDsEd5fiUGiRUmrUqdwK9VJvqStU8OIOxd3dNcTdXe58s7MQQhKCbPR9/n/u7J5JUrLZnXO+I98xylGAiIiIiIiIiAzGWDsTERERERERkYEw+CYiIiIiIiIyMAbfRERERERERAbG4JuIiIiIiIjIwBh8ExERERERERkYg28iIiIiIiIiA2PwTURERERERGRgDL6JiIiIiIiIDIzBNxEREREREZGBMfgmIiIiIiIiMjAG30REREREREQGxuCbiIiIiIiIyMAYfBMREREREREZGINvIiIiIiIiIgNj8E1ERERERERkYAy+iYiIiIiIiAyMwTcRERERERGRgTH4JiIiIiIiIjIwBt9EREREREREBsbgm4iIiIiIiMjAGHwTERERERERGRiDbyIiIiIiIiIDY/BNREREREREZGAMvomIiIiIiIgMjME3ERERERERkYEx+CYiIiIiIiIyMAbfRERERERERAbG4JuIiIiIiIjIwBh8ExERERERERkYg28iIiIiIiIiA2PwTURERERERGRgDL6JiIiIiIiIDIzBNxEREREREZGBMfgmIiIiIiIiMjAG30REREREREQGxuCbiIiIiIiIyMAYfBMREREREREZGINvIiIiIiIiIgNj8E1ERERERERkYAy+iYiIiIiIiAyMwTcRERERERGRgTH4JiIiIiIiIjIwBt9EREREREREBsbgm4iIiIiIiMjAGHwTERERERERGRiDbyIiIiIiIiIDY/BNREREREREZGAMvomIiIiIiIgMjME3ERERERERkYEx+CYiIiIiIiIyMAbfRERERERERAbG4JuIiIiIiIjIwBh8ExERERERERkYg28iIiIiIiIiA2PwTURERERERGRgDL6JiIiIiIiIDIzBNxEREREREZGBMfgmIiIiIiIiMjAG30REREREREQGxuCbiIiIiIiIyMAYfBMREREREREZGINvIiIiIiIiIgNj8E1ERERERERkYAy+iYiIiIiIiAyMwTcRERERERGRgTH4JiIiIiIiIjIwBt9EREREREREBsbgm4iIiIiIiMjAGHwTERERERERGRiDbyIiIiIiIiIDY/BNREREREREZGAMvomIiIiIiIgMjME3ERERERERkYEx+CYiIiIiIiIyMAbfRERERERERAbG4JuIiIiIiIjIwBh8ExERERERERkYg28iIiIiIiIiA2PwTURERERERGRgDL6JiIiIiIiIDIzBNxEREREREZGBMfgmIiIiIiIiMjAG30REREREREQGxuCbiIiIiIiIyMAYfBMREREREREZGINvIiIiIiIiIgNj8E1ERERERERkYAy+iYiIiIiIiAyMwTcRERERERGRgTH4JiIiIiIiIjIwBt9EREREREREBsbgm4iIiIiIiMjAGHwTERERERERGRiDbyIiIiIiIiIDY/BNREREREREZGAMvomIiIiIiIgMjME3ERERERERkYEx+CYiIiIiIiIyMAbfRERERERERAbG4JuIiIiIiIjIwBh8ExERERERERkYg28iIiIiIiIiA2PwTURERERERGRgDL6JiIiIiIiIDMwoR6E9JiIqEampqdi7d6/6+MyZMwgPD1cf58fZ2Rnjxo2Do6OjVkJEREREVPox+CaiEhUbG4uqVasiLi5OK7kzCbyHDx+OH374ASYmJlpp+fHZZ59h7dq12rOK4e2330bHjh21Z0RERETlD4NvIipR6enpatC1b98+9bkEYd7e3qhVqxYSEhJw7NgxZGdno2HDhnBwcFBHyL/66itERESgU6dO2LhxI8zMzNTvLcvOnTuHv//+W31samoKY+OKtSooMzNT/TvrTZo0Se2UISIiIiovGHwTUakwYcIEzJ49Ww2+Z8yYoZXmTwLvfv364cCBAxg1ahTmzZunXSl7pNMhOjoaV65cwcqVK9Wy5557Dr169VIfVxQffPABdu7cqT0Dhg4dii5duqBGjRpaCREREVHZxuCbiEqFNWvWqAG1KMptKTk5GX369MH27dthb2+PJUuWoFu3btrV0k9GepOSkjBixAh1NL93795YsGCBdpX69u2LDh06YNq0abCxsdFKiYiIiMouZjsnolJBgq2xY8eqj1955RX1XBhra2usW7dOHSmXQLx79+6YPHmydrX0k8RyElzKv3n37t345JNPtCskvvvuOyQmJmL69OlaCREREVHZxpFvIio1Fi1apI4Ed+7cGVu2bNFK7+zixYvo0aMHrl69qq4Bl0C8NNu0aRNWr16NOnXqYMCAAeoad7rd/v37sXXrVoSEhKhBuJeXl3aFiIiIqOzhyDcRlRoSQAsJuO5GzZo1b4wcyyhyaXfixAns2rVLTSrGwLtgrVq1Qs+ePdUR8KVLl+LChQvaFSIiIqKyh8E3EZUasoWYZDm/F56enuo5ODhYPZdW8u/LyMhAlSpVtBIqTJMmTfDxxx/jm2++wY4dO7RSIiIiorKHwTcRlSr6keCjR4+q56KysrJSz6mpqeq5tHrjjTcQFhaGX3/9tVzuUU5ERERE+WPwTUSlUmxsrPaofJG9y2U/axnlNzIy0kqJiIiIqLxj8E1Epcq9JtWKiYlRz87OzuqZiIiIiKg0YfBNRKXKva75Pnz4sHquVKmSeiYiIiIiKk0YfBNRqXL58mXtUdGlp6erSbksLCwwcOBArZSIiIiIqPRg8E1EpYYkWVu5cqX6WPb6LorFixerSdpkjfi0adPg5+enXSEiIiIiKj0YfBNRqSEBtBxvv/22VlKw0NBQDB8+HOPGjUNUVBRGjRqFd999V7tKRERERFS6MPgmolJDRrtzcnIwY8YMreR2mZmZ+P7779GhQwd11Fv29163bh3mzZsHS0tL7auIiIiIiEoXBt9EVOrEx8djx44d6iGPxZUrV7B27Vr4+vriqaeeQmRkJGbOnInz58+jV69e6tcQEREREZVWDL6JqNTYsGEDrK2t4eDggI4dO6qHPJb9sKtXr46+ffsiIiICI0eOxJkzZzB9+nSYmZlp301EREREVHox+CaiUqNKlSro1KmTOv087yFZzN955x1cv34d8+fPV6ebExERERGVFUY5ssCSiIiKhSSJq1y5Mr788kut5H6kIzMjDmEXz+N8wGVcD4uDNktfZWtrCycndzg6+aBW05pwtrOChXatLJGEev7+/upMh4kTJ2qlRERERGULg28iomL0wILv1BgkRAfgytWz2L9zDw5fOooLAdGICjNRLmYgOS4UxibWcHCpC99qPTH5g4fRrJoHnHXfXaYw+CYiIqLygNPOiYjKoqubcfin1/BEr8fxwuJw2LR5Bp/8shq7d29VjoX49cNBaFIN2L//NFauuobzcelI1L6ViIiIiIofg28iorIkJxs4NRff/zoHzy+NwPVGU/Duu89hXO+O8HP3gKWlnXJUQ6OuA9G1fiO0tLJAdi0fuFmaw0b7EURERERU/Bh8ExGVFRnxyI7cg2V/L8bSVcGIsmiCgdNGo59/I9T2coOtubnyRXJbt4K9WwvUr1MdbVvZo0rbxqhsY8Xgm4iIiKgEMfgmIioj0hPDEH5oDv5auhNnYjzQ2L8vJo9siip2lvkkUquEKo1boeuoLnioV0Pla6xgqV0hIsOSPAVBQUFISUlBdna2VkpERBUdg28iorIgJxPxoQHYNe8XnIiKgVWH5mjWpx2aKJcKymBeqfXDGDDlc3zU3wuVHLkfOpEhSZCdlpaGpKQk7N+/H+vXr1cD8MzMTO0riIioomPwTURUFsSfRdjZLZizAoiI6YiWjZuhc7uymLucqHyS0e5///0XL7zwAr799lts27YN+/btU0e/iYiIBINvIqIyIOLiYRzbvgz7Yo2Q2LA5ataqhgZ2HM0mKmknTpzAX3/9pW4fuHr1avV5cHAw4uLi1FFwTjsnIiI9Bt9ERKVeMiKuX8G5o6cQbmQE79aNUa2qN1y1q0RUvGJjY3Hs2DE12F6+fDmWLVuGdevW4ezZszdGunNyctQzERGRHoNvIqLSLjMUMZHRCAoyhpGRFVo18IOvp5t2kYiKgwTT8fHxCAkJwZEjRzB//ny8//77WLp0Ka5evape5yg3EREVhsE3EVFpF3kW1y5ew6HL1sqTBvB2t4aDne4SERWPjIwMbNiwAW+99RZmzJiB7du3IzU1VQ24GXQTEVFRGOVwXhQRaaQB+corr+DcuXNaCT1oBw8exMiRI9X1oUV28jd8NWs23vr5HBKNe+D9/97BMP+aqJV7yXfMYexZtxHz5+3CNeWpPhSwqVQXNQY8jyf9XeDt8ADWiEdfxIXje7HvYhROeYzAE+1dUMVJ9he/s7Tw8wjb8wcWhDVClfpt0apeVVRz0i4WQhJZ+fv7w9LSElWqVNFKiYqX3B9l1Ds0NFRdyy0Ka0JZWVnBw8MD3t7eMDNjfoaKxsbGBjNnzuQ9i4huweCbiG6QxmW7du1gbW2NVq1aaaX0IMna0D59+txd8H3wO3z83Z94bW4IjD3G4+dlj6NPMx94a5dVCedxcvtqLP5jAeYsP4CQzGyYV2uOxj1GYvyjEzGkoQNcbU3VL83KSEZC8D4c3BGBNKfqqN6hBerYKRWCkXo5f1kpyn/jLLYs2IULMUlI9a0O8ypdMaSRPTyKmPgtPeY6Yk6uxOZrGbgaZw1nn7po26m9+t82L2Qelj74rl69Oho1aqSVEhWvrKwsdU33xYsXERMTo3xejAod8ba3t0eNGjVQp04dteOIKo5Lly5h48aN2LVrF+rXr6+VEhEx+CaiXPTB9/Dhw/Hiiy9qpXQv5LWUGQQuLi5wd3fXSqG+tpUrV7634HtJJIwbPYsFP45At/qeuG3QOO44Lmz/G1NHfo1DKTbwGf4MRj39NP7XUbc+PD0pFgnRoQgJvICz++dh/m/RsGw9CEM/eAKDlC8xLjD4TkN63DVc3/Qbvvs7ESbNeqLf1EHofC/LzrMzgYgtmL9kA/Zet4V3m/EY3cMHHlamKGj8XB98T58+HRMnTtRKiYqXTDvfunWrGlCdP38e0dHRiIiIKDAAlxHPfv36qZ95J6ciTPGgcmPNmjUYM2YMg28iug3XfBMRGUBaWhreffddtbFebLS+1Bzl/4C2aFyvBXpI4C3lOdmIuXIYO+d9hI+mDcaEV+bh3xNZSLJ1gYf0DRQy6p2TE46o4C2YNeVHJDXpDf8R9xh4C2NTwKMHRg3tiz4uRtj23M/YFZ2IKPYDUyknU8d79Oihrvd+88030aFDB3VE29TUFCYmJtpXERERFYzBNxGRAVhYWKjBd7du3bSSYpCUgNTQIJxSAtnEqh6w93CEGiNnZwDHZ2Ptzqs46jAaj81agT9f6oA2fg7qt91J8pULuLhjF1Z3fwP+neqj44NYwujUDDUae6Nrq1X49LddOH4uWrtAVPpVrVoVjz76KH7++WdMnjwZtWvXVssZhBMRUWEYfBMRGYCxsTH8/PzUaef3zccXldw9UD9VCaKvhiE2LR26nYRvFRMeiIun9yMhKwuuDfxQpYq3Lvg2UgIC1/po2Lw5uvg3R8O6TdGoqhMcrHVrwAsXjOtnjmLvyguo1Konqvt6wtlKu5RbWgRSAtZj9W//wwdvPo/nn5fjFeX4CjMXn8Deq7oEVTeYOcDTpzJaNvLA9dWHcOZ6JMK0S0SlnSRTq1SpkjqlWEbDJ0yYgClTpqBly5awtbVVv0bWhBMREeXG4JuIqLTzqIvateuiUxUj5AQfwM4TATgTlqQF4LLeNAmxV47hwK49WL3nIjKzcuDjVw2VvdyhhgHGSvBdqTWat2yMjg3cYC9FUl4UcRdx5dw5bDsONK1TBU72st1ZXvGIuX4U+xf9gxXbj+HYuasIDLyCqxcO4tCqn7Biz1mcCk3TvvYmWzdvVGvUEtUv70Pg1TBcidcuEJUhkgiwe/fuGDVqFAYMGIBevXqhcePGanAu2c5lWjoREZFg8E1EVOrVQK3mrdB9RFW4Oe3BwmWbsVKJhs8GBSEoKBBB4edwbMNcrFm5BcvOWsMo2xo+nm5wcXoAm4EHXEVwQCwOmtaEVyUTWOc36p0VgEuH/sNv767HRd8X8di7f2LRoj/x58+v4L2RGWjmmwNr83xGAZ1dYFW/FjqY7kHMpRBcvZ6lXSAqeySpWt++ffHGG2+oU9E7d+6MZs2aMdM5ERHdwOCbiKgMsKvTCx0nfYj5n/ZHb5O/sOb9YRjQrh3adeqKdhNfxzeXHVFtwGjMenEQmpkPQru6bvCtrH3zfbODqZkPKnkZwyq/OCIuFklRkQhSHsr2Z7pJt7awcW+PVi9sxtuP9MWA+jLeXrCwyChExcRpz4jKthYtWqhbCnp5eXHkm4iIbmDwTURUBphY2MKhUkM07/kcXnruY8x851N88tFH+Oj99/HR08/hyZGD0LfvUHQZ+Rze//M5DGzhC5+ibb9dqLjYaMTFxcEIpjAzM4JxfrWGdS141miHDs1ccHLtTPz42eeYs2gPLsRZw9yxClwdbGFrkV8iKiuYmLrBq7oJzK2zkVXInslEZYmMdsvabwm8ufabiIj0GHwTEZURphb2sK/UGu3aD8WQIWPUfWTHjBqFMb17o1uzevCrrgTBtVqh28hWqOXlgAcw6RypqSlIU45CWbrDq2579Bk3Fv41c5B4aRPWLf4Fc/6ej82XMxBd4LebwdjEBnYuRjAraJNvIiIionKCwTcRERVI9jY2NS1gCF325k6PRnhkNBKtKqP52Ofx+otPYWi3SkDwBvz744f4bmckrsdlat+QV5byI9KRlpSDLC73JiIionKOwTcRERXIydlNPfKnBN/h/2HR8g34afl5mJhbwatZX4x45TO89PQk9PNKwvo9+xERE6t9fV7JyEwPQcDZLCRxuTcRERGVcwy+iYgqlGSkpV7H4d2nER1xEcGhATh2Khw5MoqdD1mvamSUiIzMIASFZCEl9xRy+Z6wIATuOYKd205jTagRkrNNYZpwDanXryM+0Ax+3p6wtrTQviGP5CRkhAYjIDMLNs5OcHYsPCkbERERUVnG4JuIqNyTRGbXcGzFX/j9jRl456Nv8cfOYFyLuYIrh1di0afv46033sSsVcdwJDDPAm0PL7h6WKFO5iWEBGUhOVUrV0i4HpeWAqOs4wg9/zd++OANzHjrDbzx3nwsOWYM6w5DML6bLyo5F7DVkhp8R+JCVkO4V/WEjzcXfhMREVH5xeCbiKjckzA5EdHXL+L8oRM4eS4SWTU6olmnVmhe3RoWYRdw+PAhnLoeg+jkPOuz3WuicjVvtHQOwpmLEYhPTNMuKIyMkO5YA/XbVkW7RjnIunQIJ48cwqGzqUj0aIkWDz+MEW3c4OmQ/5rx1LhohF+9jED39vCt5onqrtoFIiIionKIwTcRUbkn23zVR5en3sHHa9dibQHHj090RrdaeXOkV4Nn1Zqo55+D3Qd3IygsChlacjQjI2O41RuBsVN+wC+/5P5Zv+Knz57A+C71UcXUBPlOOs/ORERoIA6fOAzT7k1Rq5IrfLRLREREROURg28iIiqUe6NW8B81AQM2f4Rd205jW4B24X7EHsKl40HYfKAfpk/yR6PaztoFIiIiovLJKKegLDtEVOFkZ2ejXbt2GD58OF588UWtlB4keW0rV66ML7/8UispCxKRHHkOx/78FgsOecGpXS/0G9MJLZy0y3cjO1MNvDds2Ihdp7OQ7dEXY8Y3hq+dOay1L8krKioK/v7+mD59OiZOnKiVEhXujz/+wO7du7VnFcOTTz6Jpk2bas+opKxZswZjxozBrl27UL9+fa2UiMqDN998E0ePHsXKlSu1krvDkW8iIroDW1g71kHbcePRzs8SVuEHcWjfTqw5HY+Y5KJv0J2ZGIGY02uxde9hHAk2h0X1Jug5siWqWxcceBPdjYCAADXoluPcuXPIzMysUMemTZtu/P5yhIWFaa8MERE9CLNmzcLevXu1Z/k7cuQI1q9fjw8//BCvvfYa3nrrLfz333/qNY58E9ENHPk2vLI58p1L+Emc2LsJ/50MwwGfqZjR2xN+bgVsJZZHSvBxBG6YiR8C26Jmix7o2qI26hQhyRpHvulOJOhOSUnBvn378MEHH6hlH330ER566CH1cUXx9NNPY+PGjdozYObMmejYsSOcnbmsozhx5JuofIqOjoaLiwvat2+PHTt2aKVASEgIVq1aheDgYHz33XeIiIjQrtxK7tEc+SYioqJzVQLmno/hsWmv47thlVHNpejbg1l61EW1kd9hxnMT8WiXGqjJeIAeEJluLR00q1evVgMeOfr27atdrThklEX/+8vx/fffY+7cudpVys/p06e1R0REhZMgW3h5ealn8cMPP6BmzZqYMmUKZsyYgcTERHTo0AFTp07FO++8gxUrVuCvv/5Sv+fbb79l8E1ERHfB2AxmljawsbWDo5UJTI2NtAt3ZmRiBlMrR9jbWsPawlT5Xu0C0T06e/YsBg0ahIEDB+L3339XZ+y4urqqh6VlAfvLl2P29vY3fn85ZKpjaGjojdkAFZl+ZEoax126dFGPSpUqqSPTUkZEdCfx8fHq2cnJCSdOnMCIESPUzt/k5GQ12Jap5pcvX8b27dvVoFzuwQMGDMDDDz+MAwcOoEaNGgy+iYiIqOyRKeaLFy9G3bp10bNnTzUAb9WqlXaVhEyNlKVEqamp+Oabb9Qpk2VeRhRw/WsEXj0Fd3d3dUSpMLL94eOPPw5vb2+1ESwjUVu3blUPc3NzdO7cWW1AExHdSUZGhnr++++/0ahRIyxatAgODg7YvHmzGmxLXeTp6al+TV7S2ffPP/8w+CYiIqKyR9bbyTRzWdtdtWpVrZTykun30iCUIHTbtm1lPwnblXeV4324BwxS11XKSFNe0iB+6qmn1NFt+f1//vlnNGnSRF1vuWnZV4je1hXZ2yvhytF52LJlC+rVq6d9JxFRweTeImSkW0axP/30U8TGxqr3mqJo3bo1g28iouJkYmKiniUzMfNd3pkkAZTXSl43I6OiT3Gn8i0rK0v9/Og/T1Q4WX84Z84cNWnhunXrtNIy4vw04Phg4OwTwOV3gCjdv9/M1AhOjrbq7AdZ1y4j/HKPkENGsmW9u4xuS8fMT999gl1LnsGsZ4zRzfkjOOE4jIyV944R3z9EVDRjx45V12wLWe508eJFvPTSS+rzu8Hgm4ioGL3//vvw8PDAY489pgYQVDhJGjVq1Ch8/PHH6N+/v1ZKFd3rr7+uTqGWEU0qx7KSgbBFQOwuIHwxEKg0fDN0U+eNMmMR9q8l/vvcEt6RT+LDUacx/207vP2otXrMebcBoncPx5WldTClwSewvv4KEDoXkE5P74lAm9OAfUv1ZxERFUZ2qFm6dKmaV0NITo17xeCbiKgYSUZMmQJap04dvPzyy2rPKRVMpnMdP34cfn5+cHNz00qportw4YK69k6mC3NGRDlmYg20vw40XgH4KsGzPNekZhjh3PUs+Dc0Q+cmumNkVwvMmGCtHuM7hcIpYwsQf1D7DoWpg3IT/kA5Zio/y0YrJCIqmCxteeGFF9QcEZJITRgb33sIzeCbiKiYNWvWTN1/WLLvbtiwAWfOnNGukJ6sw5S1VZI1VKZ32dnZaVeIqEIxMgUc2irB90tAvdlSoBZbmuXgeMojcBsYjf8tqA80Wnb74TVeCbJt1a+HVXVdmfdk3XMiojsICAhQ9+wXv/76qzogICQQv1cMvomISoCM5M6fP1/NkLlkyRIEBQUhODj4RibNiio9PV19LT7//HM899xzOHLkiLqFlGQJJaIKzqmLEnsrTVcTO8DMGf3790NkXDZW71IaxI7+tx6WlYGQP4GsRN33tdwL2DbQfhAR0Z1NnjxZXeIkI9/Dhg27rxFvPQbfREQlSJJ3SNZMSRbUp08fXL16VbtSMZ06dUpNDjVlyhTs3r0bn3zyiXaFiEgha7ata6pT0e0rd1e3mgsMDLyx/+4NllUAn2eA5luBhguVAi5PIKKik8GRjRs3omHDhuqAgLCwsFDPaWlp6vleMPgmIipBsh+kZOaVhGLSsyrB5ujRo285Dh06pH11+SGj2Xl/Tzl++eUXNSldmzZt4Ovrq+7jS0R0g6zxTzgCHGyPkPOr0K1bN0RFRamZ3CW7+fnz59UvS0hIxNZrHbH1QIT6nIjobrz66qvq+e2331bPQp9jRHZiuVdGOdzrhog0cjOREdjhw4fjxRdf1EqpuCQlJakZNfPuw+vt7Q1bW23dYjkRHh5+Y+1UbrIt0PPPP/9ApnZR+SU5E6pXr47PPvtMK6E7kc+cv78/3njjDTzyyCNaaRm03UP5H13Dd/D/4rF8Z7r6uDDSeJ4xY4b2zPDWrFmjrhOV3Rrq16+vlRJRWXH69Gn1sys5enIPgOzcuVOdnffkk0/iu+++00rvDoNvIrqBwXfpJGuf9Rk2ywvpUZYRf6J7cX/BdzZyctKRFBON2PhYxCWlIvcMQlNTU1hZWcPc3A5OHk6wtjSHqXatLCs3wffeBkC6roPyjXlV8PO/1xERoRvdbtWqldqppx/9bt68uZqssVOnTgy+iajIFixYoG5z+u677+LNN9/USoFt27ahc+fODL6J6MFg8F06SRKy+5niVBpJgCMH0b24v+A7BdlZ17Hv3/lYsnE51u87pQRr2iWFLAWpW7cpqlXrjOHPPoTGtX3grF0ry8pN8H20z83tw+r/Cbj0UbdtlPfCwoUL1fqrpDH4Jirb5H4i95XZs2ffcr+Uz3T79u3x+OOP48cff9RK7w7n9RERlXKypYWlpWW5Ohh4U4kI2ofz897BtB6P4uW/LyCpxghM//hvJVhaqRy/45sZA9CiZg727TuGZcsu4XRECvKk8aKSZuqoPVDkZKon6TAReZfsEBHdi8TERPVsb2+vnvX0W4zd6840spsLg28iIiIq/4L2YOvahfjkr61YccUFNdt0Q/fu/dG9Y2907dpNOfpi4LAB6NKkNrwSUxBqYq18kwnMdN9NpUVaiPZAEfwHELcPle1D1Dxs5W2GEBGVDP29xMTERD3r6cv1ideKSpJBTps2DZUrV2bwTUREROVYdjqQfA1nNv+LefO3YeEJG1Qa8RgmjhuEni3qw1NNZijNIUd41myP5vUbo0N1Szi3rAsvexvcOu5BJc5Yt9WPKnYHcKw/Rtaeg+ytrhhTdzZw6hHgyrtKYP4bkHJF+0JNVjKQek17QkSUP/1WYvqRbj0zMzM1j4SVlZVWUrBr165h7NixqF27Nrp06YJZs2ahQYMGDL6JiIio/MpJj0PGtSX48ZeVWLvNCDXrD8Z7MweisY8Tbt9DoDq8a/ih/WBPtOreCtWcHWCnXaFSwsxFe6BwHwK49EZYgq6LxNXiOhC1Brg+C7j4KnCgFbCzEnBihNISnqkE6gOVsrZA9Cb164mI8lPQlmJnzpxBQkLCjaUuhXn44Ycxd+5cNZCXUe8lS5bgxIkTDL6JiIio/EqOi8bBRT/iaNBV5LSsjyYPdUNrpbygzfs8mw9Fv2f/wncjq6GOR65RVip93JTgu/5feP6f1jDqFIkj5rOBRsuA6u8AlZ8ErP10Mx9itijB92dA4jEgJ0N3EBEVQEa4RWamLq+E3tWrV9Wzj4+Pei5MQECAOkL+yy+/4Ouvv8aQIcr9SsHgm6ikZUQDEUpj4dqnQNAvWiEREd23lCDEXd2JJSuDcDXMDzUatEC3Hr7qaPatK/luMrdxgZNXTVRzsYSVGZtJZYFsLybsXGsDjv66wFsC8Ba7gdbHgZqfAL4vK8d0XZlLH/XriYjyo1/rnZWVpZ71Vq1apZ6bNGmingvz2muvISUlBT179tRKdFirEJW0Y4OAM48pwbfSOLj0OhC5WrtARET3IynsHC7vW4KNp9MR6dgcfnUboG01G+0qlRf6LOdubm7q+RYWXoD3BF3gLQG4jIYTERVCv+bbwuLm7KctW7Zg79696NixIxo1aqSVFmzq1Kn4/fff1cdRUVHqWTD4JipJYfNvT/5y+lHgcFfdmrWEw1ohERHdnUxEXD2HI5vX4EJGBoxa1UeV2r6orl2lsipXlmET3VrvuLg49Zx3WyAionuhH/HOndV8/nylza549tln1XNRTJgwAaNHj8aLL76olTD4JioZCYeUALsbcO4ZIDtFV2bbUDddztwNSDyhy9Z6pJdy9AbOPgHE7gLSgnRfS0REdxCDpIRYhF4HcrKBNg3qoG7VKto1KrtytLPCRDeLQZ+ROD09XT0TEd0P/bTznJyb9xsJvh0cHPDQQw9pJUUjSdfmzJmDyZMnq88ZfBMVN0n8cmyIEmAfB+xbAc5ddeWVpuoSxbQ5DfhfBarPUD791rpAPXwxcHwwcLADcHoCEPw7kKq0KImIShFZe3vkyBGsW7eu5AOh2EsIuXIZBy6aIzPbD97uDnBxKmilN5UduUa+zZzUk6WlpXqW9ZVERPdL36Gnn36+bds2xMfHq1uG3QsvLy/89ttvGDRoEINvomKVGQ+cmawb7a72phJsK0G1zwu6a6F/685CevMrP6UE4deUYPwk0GA+4K18nzQ0IlcBF18B9jcDzioBe+x27ZuIiEpWYGAgdu/ejeXLl2P27NnqGrmgoBKasRMdjIjQEJyMt0BmTk24udrA0UG7ppccgKsHV2P2xx/jU+X4WDs+/+5X/LkvAiHxDygrdlI4Is7txq6NyzB3fziCYov2c1PDzuLqnkWYu24/Dl+NRwxjy1uZ6dZ49+nTB/369VNHpYiI7pd+urn+LKPXYuDAger5bkld6OfnhxUrVjD4JipWsv+oBOCu/ZWgexpgbAU4tAasagJxe4C0QO0LczH3AJy7ATU/AlodAhov1wXuFpWA8H+B40N109eJiEpYSEgITp8+jX379uGHH35QGyybN29W9zaVILxYR8MT45GYFI8QYzPk2FWFm7M1HKy1a3rp0Yi6tBdb5/+IL95+E2++9hre+uhLzFqwCbsuJyIu5dZMtzrpSI6+jqtH92DX0WsIjk1BgaF0jvL9qaEIOHoAB7dsxa4jR7D7SoISROf3c2+XmRCKyIt7sPfgLmzZewhHryjPdQMxFZeZs+7s0EY3O0zxwQcfqFmIc6/PJCK6V6mpqepZn3Bt//796lm/Xdjdql27No4dO4Zu3box+CYqVgnHdGeP4bqznqu27UnkWt25MA7tdIF766NAnR+VO4O3LnHbdjfdlmVERCVMv05OpqB/9dVXePnll7FkyRJERkaqiWyys7PV68XCwhyoWwWudla4bVzUsQma9x2HT76dgLYutnCEEVwb90bXJz7FN8N9UcdDN505t5zsaFzZOxc/PzkQvZ/8C8uOBUGX7iuvHCX2TkVW8Br8+cU8zNtuBu9R7+DzYTXQwOv2n5sf25qd0WL4q/hmtDmub56F+WvWYkd4NuTVy7XyuWKRzOWSH0XqQSIiA8hbRx09ehTVqlWDo6OjVnL3ZM/vTZs2MfgmKlYmVrpzdp7RH3ctGA/+VXcuKvehQNP1gNd43fPzLwDXZuoeExGVMH2gHRMTgzVr1uCFF17AJ598om7XUjo1R12/thjY0x0mJvmPosYcWoPd61dgzjkgOVMrzFc0kuN34Jdnf0KYV0u0emQsensAd711uLkTUGkYnp/cC3WDA7H1o0U4oBQn665WPHbNdPlRnHtoBURED5YE2ZJLQhKvLV26VC0ryvZiRcHgm6g4WfrqzsnndWc9m7q6BkV6uHJEaIVFZO4J+H0O1PtDeZKjBN+fKUH4c0BGtO46EVEJk+nm4eHhOHfuHHbs2IF58+bh66+/xsaNG9XyEpWWisyoCFzPzkKimw9cfXzg52IB47xTmLOVSDvmoBJ4X8PBw+nwqA2YmGrX8pEWGYyQveuwDE3h3bIlujX3hquF0vC625nRxmZK3eEB33pd0ahqGkxiV+HrJecQGaebFklERA9WnTp11Knny5Ytu7HF2BNPPKGe75dRTu4c6kRkWBJ0H/TXrflWg+VcZNT74mtAleeBqq9rhXcp6RRwdACQlQBUfxuo/LR2oWhkhKpdu3YYPnz4LXsSElHZcubMGXWddXGRtbZ2dnY4efIkDhw4gPPn83Qw5iJfK4epqSmaNWuGNm3aqJlg8yOjDq1atVJ/dm6y1Uv16tXx2WefaSX5uLYc83/9DS9/shfBVSbjq18nYGgnP3hrl/VSLm3FmSVvYsDHBxBf63FMmPII3prQDC7KtZtxciay0mMQuPFL/LXCCueDrsDJdSV+u/wsPnlvFEZ0qglX7St14hF6eD22fvcJvvJ6Fy8Pa4WhTeQn5pGZjOzk6zh3+gICwpOhi6dlXMQBdlVroXpVT9R21605FCFbvsC/y9fitcsPY8XXA9C6mjPyLmMviHRy+Pv7o2fPnujUqZNWWnZYW1uja9eu6rm0k1keY8aMwa5du1C/fn2tlIjKCrlfenh4qCPgmZmZavs4KSlJu3p/GHwTFbcDLZXW3lWg9XHAIleDMz0M2NtAVybX7lVqALC/OWBqD7TcB5jd2iQsDINvovLhww8/xDvvvANX16J//u+HBNKyHk6aFDJaUJTEahKASzIbWQcn358fCbS+/PJL9WfnVqTgG2ewd84f+PHpPzA/sQueXvAyxgxogsZWZjBRV0xnISM5GVf3LMCa76bgvfWA24ivMXXCWDzb8dZAOTszFinRR/Hnyy8hsMHTcHExhsP2F/GSEnx/kF/wnXECB5fOw9dT5sD2y614pKcf2lTSrt2QiYzYy4g99je+/W0pNh6OwrUYWS9vhIwEd3iOeB4TxvXBC511Gb1Vl1djw8JVGPNhJt7a8hYGNPZBtUJG33PTB9+y7r4sBLC5yRZitra2ajDr4+OjlZZeDL6Jyr5nnnkG3377rfp45syZmD59uvr4fjH4Jipul98CAn/QZS+X7cNyOzZQl/Vc1nHLNPR7dfkd5b+h3DBkBF1G0ouIwTdR+SDB98qVK29MlysOZmZm2LlzJ9avX4/Dhw9rpbczNtateJPAW/ZM7du3723BtZ58rYuLi/qzcyta8J2OyEPLsOW39zDx9wCYDHwTj09+CM/3rA5PNfgOwYWVC7Fozlx8sfaAuo1Xhxf+wuRHRuPhhrfuB54ceAhX1nyACcc745GBvdDdch92/l5I8H1pBVbNW4RJX4Rg4tzfMbZNFTS4LU/PVVzatRI/j34fJx/6EIP7tkLP2iZIjT2NIz89j9WuL6Np19G3Bt8Zp3B09UJ8OvYXOM3ahDG966Fd3qH8AuiD76lTp2LYsGFaadkg2/N8+umnDL6JqNhIR/IXX3wBT09PTJw4USu9f1zzTVTc9EF1Yj6j267a/oHRm3Xne2WrVfZZFTYlD1GFJ8Gtr69vsR3e3t5wcnJSk9TkR6aQy2h3jRo1MGLECHVkXgKUhg0bqt+b3yGNnryBd9GZw6FGO7Qe/zpmvuyPlkarsf2HaZg6ejRGjxmL0a98hO8OxcKoXgc890hXNLHtimbVvVG9yq2BNxLOI+DYHvz6RzwaNGmFerUrw/ZO/6SMDGSmmyHFuJryO5jBxkYrzy0xFomh13EiOAZWJs6o7O6jvI5+qFmnI7pMmYVnRvRC37q3TrdXXgyYWpjCOjsB14PCERt/9/d4mQ2R39+vNB9ubrk6IIiIioHUZa+//voDDbwFg2+i4mbfUndOyCf4duqgO8fcZ/BNRFQK6Nd32yjRZ7169TBw4EAMHToUAwYMQI8ePdRRQXt7e+2rHzwzx8rwbtIXI8ZOwuT+HdCjYTX4KMGnBKCujt6oUq81WvcZinGPPoYpTz2Gfq1roNot+5ElIuTMbhzedwDH7LuiZ5NqqO2eN5JORvi5czi55RCuyrR7pSQlJRlJianK726v/O7GEjPfzsgR1na+qFnXHfFnN2LnmpXYvOMcQtLc4dJoMFo1qJ3PVmeWMLOwgaNHDpLTkpGuBPlERFR2MPgmKm4WlQCrGrrkaGnBWqHGurYu83n8AaX1dlErJCIqmxwcHNSRS0msJgG3rKEbOXKkGogXF1NLB7jWGYqR497Fu+/OwqxZyvHNN5j12mt4YUQfdG3bDr6tRuHxj0ahW3Nf3JL6Lekqju3cig07TyC5WX1YxV1GyOlDOH7uKq5FZSIrMQgB5w9gy+LVWPrHJpxWviVFvi0pHvHxd9hxwqYq3Gp1xdDh3WEWtQ2bF/2I2X/Mx9pdx3ExIh1J+S6bt4GFlQM8fJXfy1wrIiKiMoPBN1FJcOmtO1//WnfOzVEb/Y4/qDvfi8w43dmkbCXVIaKyT0a6ZYq5aNGihbq3t6zNHjJkCJydndXyMuP0f9hz6CT+3nYUBz4bgRH9uqjrpoc8/j4+WhOLhKO/4vOnn8Tz7/yNhZe177kLDlVqw/+V7/HNx6/g4fYmCNkzE69MfggfbQzFmSjti4iIqNxg8E1UEnym6bKQh84Fks9qhRqHNrrz/QTfUet0Z7smujMRUTGQ9dwSnMoot2SJffzxx9GoUSOYm5urGc0lMC9Tag/BI6//gA0bN2Hj+rVYu2aNmkzrz89fwLM9HGDbYBye/Pg3LFj3I375ehRaKd9iqxz2Ds5wdvFQf0S+Indh/caNmPXvOZiYW6FSk14Y/MwMTHvmcQz2SsCuw0cRFJFf9B2PlMRIBJwBMrjNNxFRmcPgm6gkmDkDfp8C2Urr6XyerOL6NeGpV3Xnu5V4DIjZClhWUX6WNAWJiIqH7Isq+3bL2u7WrVujZs2a6tTzMsu+CqrXb6nuL5378G9eD3VdjWGaZA/vuk3RrGsrtGnuC1cjI8jybnMzc1hYyLZhEYiJzUJamu7H3RB5EWd37lMC+RPYF22ETFsPVKrkAV9HG9gnKFVEDnLtMZ5LchySoyMQkGAEO3sHWFne3AOciIhKPwbfRCXFtT9g2xiI3w+cHKsVKsw9lfJGSgC9DUgL0grvwtWPdWfZYswkvxS7RESGIYnVZNuwpk2bFrh3d1mXlhCEyNBAXLuehszA4zi6UznOhCBGuXZj71YbW1jZm8Iz6xLCQzOQmKSVa1IT45EcchJXTmzEnGVrsGLVGqxZ8R/2HQlHinMzdG7iC2/nfJYNxcciKTIBl419UKWqK5wd888sT0REpRODb6KSVH+OLvla9Abl2KgVKhzaKZ9OpVGVfF4rKKKYLcrP2aRL6ub5sFZIREQPSvz1XTh1aA+2HTODpdVhrP12Ef6dux+3pMj0qQbPWlXQw/Q8ooKTkZCYrV3QiTExh71POJzNFmHei2Pw5KNjMOaJ3/D9Pju4Pfk6pj5UC3UqW2lffVNWTDTiIjNxyaoPGjS0gxd34CIiKlMYfBOVJAmSq7+le3xyDBC+SPdYpp7LlPSo9brnRZFyBTg7Vfe45kzdmYiIHiin6j3R95lZ+GP3bmxTjt27v8QHT3dBfe26ji9cPGujWbcM7Dp9BAFhEVq5jmud4Rj1+K/4+2/5fv2xGAtnv4pn+jdDLWsL3B56A9evncXZ8HMw6eePxnbWKGRVORERlUIMvolKmkvfm8Hy2SeBuN2AY3vd88hVuvOdJJ4EDncGMqIBr3HKz+ylXSAiogfJ1NIRjh5VUb1ePXXLtHr1fOHjYQ+ZJH5znbYFnGvUQ5vxY9H46Hyc2Xsce3OtIjKzcoaLe3XUUL5G9zPk8INfdW94ONnAysQYunzxucQcxskjybgW3hRTH2+Fyi7W6vpyIiIqOxh8E5UG3hOVAPwT3eNTjwLpYbrRbzknHteVF+bCi0BWMuDcA/D7QiskIqKSYu3iixr+YzCqYQ6SThzAtq0ncDFRuVXfWBheRFkpQPwZ7N21CSfi7ODUeCDGt6sMZxtu9E1EVNYw+CYqLbwnAJWfAjJjgNNKAO7QVlceNl93zk9mrBKsjwMSDutGyxvM1S4QEVHJcoClbXM89NpE+JmEIHjramy/GIyrUWlIybh1DXhBslITkBR+HgHnNmHx5kuIq+mHTlN6oIFyjanWiIjKHgbfRKVJ9RlKED4ZSLkMBP2sK0s6rTvnR0a8ZU9vUyegzk9aIRERlQrGFoBnHzzy8sMY2yULwXPfwHMLL+JkSNE26U68uAUHFnyIp//JgG+P5zG2X190dNUuEhFRmcPgm6i0qfmRbhsySbgmEk/dfJxb2EIgYoUSeNsDjZcB5u7aBSIiKhWMjAATS1hXqos6XUZgxPgn8VovH9RwLdqUcWufFqjf/wW8OnEQBrT0RXUXS5iz5UZEVGbxFk5UGtX6ErCqpnssU8uj1uoe6yWfA849pXssI9429XSPiYio9LGwh72XH2o1aIF2NezhbF20PdDNHLzhVrM12jWqgaquVuAybyKiso3BN1FpZOoI1P9HdxYhf+nOIn4/cHyI7rHvy4Bzd91jIiIiIipVJMODzF/MUp9RRcfgm6g0id0OXHxNuUMnAtZ+SgCuBN3mnoBVdd310HnAiVFAegTg9YgSfE/XlRMRERFRqSNBd4hypKjPqKJj8E1UWpwYBhwfCgT/qhy/68oc2gBtTgCVHleujwDOT1MKswEf5ez3me5riIiIiIio1GPwTVRq5Po4XvsECNKyl8t675MjgZgtgJkL0HAxUO1N3TUiIiIiIioTGHwTlRYNFwIdI3Qj2kbmwKU3gO1uwKnxQOp1wLYh0PYsYN9C+wYiIiIiIiorGHwTlTaylrv+n4BLL8DRH3DtBzRZAzTbrH0BEREREZUVsr+Bke4hVXAMvolKI8f2SgD+N9BoGVBvNmDfUrtARERERGWFBN5eymGlPqOKjsE3ERERlSnPP/88HBwc8NZbbyEnJ0crpYIcOHAA06dPV4+OHTtqpURUHGTEWwJwBl0k+D4gIiKiMqVDhw5o164dUlJS8O233yI4OFi7QvkJCgrCmjVr0LlzZ1SrVk0rJSKi4sbgm4iIiMqcbt26Ydy4cZgzZw527NiB0NBQ7QrpnT17FocOHUJUVBQaN24MCwsL7QoREZUEBt9ERERUJjVo0AC7du3CDz/8gH/++UcrJb0nnnhCnSEgo96rVq1C5cqVtStERFQSGHwTERFRmWRsbKyO5n7xxReIjo5Gly5dMGTIEFy/fl37iorp5MmT6msxYcIErFu3DjNmzFBfJ3m9iIio5BjlMFMJEWmys7PVUZLhw4fjxRdf1EqJqKz58MMPsWHDBmzdulUrKf/+++8/7NmzR03Alp6eflsiNpmiXrt2be1Z+bB8+XI1mVpeEmSbm5vjkUcegY+Pj1Zads2fP19NFiezHMrC7yMzDcaMGaP+e+vXr6+VEhEx+CaiXCT47tGjBwYPHoxnnnlGKyWisqYiBt96cXFxeOmll9QkY7kNGDAAvr6+2rPyYcuWLTh16pT27Ka6devi888/156Vff/++6+a2X79+vVlYuo8g28iKgiDb6IKSD72EmhnZmZqJTpS9thjj6mJjKThkJuMpJiYmMDIyEg9iKj0qsjBd0FkRs/GjRu1Z+XDl19+qU4tLy+kDsrKylLPucnfTbLa//zzz/Dw8NBKdaRekvqpNE2pZ/BNRAVh8E1UASUlJSEwMBBHjhxBRkaGVqoLyufNm4datWqhRYsWWqmOt7c36tWrpzZ8uG6QqHRj8H27gIAAJCYmas/KBy8vLzg5OWnPyr6IiAicO3cOV65c0Up0JGu7ZLQfNWoU7OzstFIdyeIuMxpk3/fSgsE3ERWEwTdRBSQNm82bN2P79u1ITU29ZW2kJCqytbW9pUEnI92yN2ynTp3QvXt3mJmZaVeIqDRi8E1lkdRJ8p49ffr0LaPfCQkJiIyMVNd7m5qaaqW6GVn+/v7o2rVrqQpyGXwTUUE4fEVUAUnwLMfly5dx/vx5XLhw4cYhwbg0cnKXyRETEwMbGxtOOSciIoOwsrJSZyfkrZdkD3dZJiUdx7nL5euEJJcjIioLGHwTVUCSsKZz585wdnYu0ii2paWlmiW4Y8eOt4w6EBERPSgtW7ZU9263trbWSgoma71lCnr79u3h5+enlRIRlW4MvokqKJla3rNnT3Utd2FruKWB07RpU7VBREREZEgSSMuWl4V19MoMLOk87tOnD1xcXLRSIqLSj8E3UQUlIwb9+/dXE6gVlvpB1t3JaESzZs20EiIiIsOQbdJkNFuynhdE6ixJsPbQQw/Bzc1NKyUiKv0YfBNVUDLdXDLESkNHMubmt5Zb1tHJdHMZiXB1ddVKiYiIDMPR0RE1a9ZUZ1tJnpG8pK6SgFt235BEoLJOnIiorGDwTVTBtW7dWm3E5J16Lg0cWest2c1ljTgREVFxkM5emZklu27k7RiW59WrV1dzkHDbSyIqa3jXIqrg2rZtq26FknfquTyXke9evXqpI+RERETFwd3dHYMGDcp3726pmyT47tatm5qThIioLGHwTUSoUaOGGoTrGzIymlCpUiV11LsoWWeJiIgeJKmHZO23BNr6EW6poyT/CPfOJqKyisE3EaFWrVrqFD796LecZR14v3798l1zR0REZEgSaHfp0kVd162vmyQBaKtWrdC4cWP1ORFRWcPgm4jUjOeS3KZKlSqwsLBQE95IkjUpk+dERETFSUa7JeGndA7LGnAJxmVGluQoYR4SIiqrGHwTkUr2TJWRbgm8pXHTvHlz7QoREVHJkE5gmWouWc1lKZS3t7d2hYio7GHwTUQqGVkYPnw4XFxc1Cl97dq1064QERGVjKZNm6JNmzZq/hHJgO7j46NdISIqexh8E5HK1NQUdnZ26tQ+2WKMe6cSEVFJk/pIDpmGLjlIzMzMtCtERGUPg28iIiIiIiIiA2PwTURERERERGRgDL6JiIiIiIiIDIzBNxEREREREZGBMfgmIiIiIiIiMjAG30REREREREQGxuCbiIiIiIiIyMAYfBMRERERFYegX4FDnYDtbrpjV3Xg3NNAepj2BURUnjH4JiIiIiIytOA/gEuvAUmntQJFVgIQtgA4/yyQGaMVElF5xeCbiAwmPeY6kq8fQk5OtlZCRERUcnJycpR66bBaPxWroJ+Bi9N1j/0+BzpG6A7/q4BzdyD6P+D0BN11Iiq3GHwTkcFEXjmGCzsWIiebwTcREZUOF3ctQsSlw9qzYhAyB7j0P6XVbQnU/ATwGg+kXgMCv9WNfNf5HrBrBsTuAs4+oX0TEZVHDL6JyGB2no/Hd5tCkJWdo5UQERGVrB/+C8X2c/HaMwMLnQdceEn3uNbXgLc2un39G+DyO0DEcsDUCaitPDdz1o2AZyXrvoaIyh0G30RkMBlZOUhOLwOj3pmxuhEHrrcjIir3pF6S+snQbDMOAOen6Z7Umw24P6R7nJt1Le1cG3AbAuSkAQnFOCpPRMWKwTcRVWwxW4EDbYHjg5Ujn4YRERHRXbI0Byolfqx7UuVFwLWf7rGeXQvdOWqt7iwsPHWj3ilXtAIiKm8YfBNRxSUZZ0+NBTIidc8TTyplZ5QHOTfPREVw+fJlbN26Fbt370ZyMqeMElV0H04ygWl2lBKBPw5UfVUrzcWhte4cuQbITtM9JqJyj8E3Ed0nCVDlkOnleQ998Hqn6yVE1uJlpwO+LwFVXtCVRSkNoeDfgUMdgYhlujKifFy4cAFPPfUU3N3dUaNGDXTp0gX+/v6wsbGBkZHRjcPMzAy9evXCuXPntO8kIsMrqN6RQxR2/f7qJifj85jYR2ti5xd4C6vqgEtv3f7eF17UlaVH6M6mtrozEZU7DL6J6D5JI+WschzN5whSjqQ8ZbmPKOUoQTmZurNdS91WLyL+kC4oF1nybye6VXZ2Nt555x3UqlUL33//PVJTU9GhQwd07tw536N27drYsGEDunbtylFxomITrRz51TtyyL1d6qf8rkl9JgH4vatjuUg9h9o8BZgUEkjLlmNWNXT7fO+pozsLu+a6MxGVO0Y5suEhEZFCgopHH30UPXr0wLhx47TSwmVlZGDP3D8RHxamldy069x5HLsagMd7dIWJ8e19fQ1794VPoybasxJw9QMg4Cug9re6RDi7lEZQTpZypOuu1/wI8J6se0ykOX36NOrXr6+OaL/55pt48cUXYW1trZbPmjULI0eOVIPu3GRUXKalHzx4EM2bG75h/eGHH6oBv/w3icq6devW4euvv8Yff/wBT09PrbRwgSeO4/jaVdqzm3KU//t54xbUq1wJHerW1kpvsnNzQ5sx42FmYaGV3KWQv4ALL+DQ+RxYtt2m3isKlawE+5ffA6I36J77TAOqval7TETlDke+iei+yC5iF0KscCLA5rYjJMYcKekmOJnPNTmiE021n1JCrGrqzmlBgJEZ4NLzZuBd9xcG3pSvevXqqUH0tWvX1OBbAm9x/vx5/PjjjzcC3vj4eLz99tto06aNWubs7Ixq1aqp14jIsGKSTPOtd05cs0FSmjFCY83zvX4h2ArZ9zrwLcnSrn2kPnz5pyz1fEfWdYAG/wAdI3QHA2+ico0j30R0w72MfGcqjZTNSnshNkMryOXA8n9wattajP/kDxibKsFtHi2cgOo22pOSIJnOTwzXBdkyyh34PXD5bd211kcBi0q6x0RFMHv2bEyYMAGvvvoqrKys1CnpYWFhMDU1RevWrfHll1+iZcuW2lcbFke+qTy5l5HvK0lKHZTP7pHS7P1r+qOo3a4bWg8Zr5Xe5KBUVV3dALN7GZ4KXwScfRIhma1R96Gd2LVr151HvomoQuHINxHdFxMjoL0r0FdpD+U96toDjkpDpnc+1+TwsdJ+SInR9z1qZ3clEJfbopkzA2+6a+vXr1fP8+bNU0e8w8PD1Snop06dws6dO4st8CYioLJSv+RX78jhpNRLdezyv9bBBTBV6rV7ErFcPV3L6KaeiYjyYvBNRPfFSGmkWJsAtqa3HxbKHcZYuW5TwPV7Gll4kG5klrXXnbNT5X+AjGggM15XRlQEISEhWLJkyY3HU6dORUREBObPn68mZiOi4iX1S371jhxSL0n9lN81a+WQeu2eqFtUAnHZ1dUzEVFeDL6JqOKStd5CtnwRWYk3A/GUC7ozURH88MMPSE/X5Qvw9vbG2bNnMWzYMDXR2muvvYY9e/ao14ionJK9ulMDAJu6yMq5fZkVEZFg8E1EFVeGNvJt7qE7xx+8OeKdcll3JiqC/fv3q2fZ4/vq1avqWmv98fHHH6Ndu3bqWnAiKqfSgnVnfX1CRJQPBt9EVHHJ9HJhrC0+TzqpOwtZuxe+WHtCVLBDhw6p671r1qyJxMRENaFTWlqaWr5lyxZ1VFwync+cOROhoaHadxFRuZIZqzubuerORET5YPBNRAZjV7MtPLtMhZGxiVZSyiQc051tG+jOYQt1ZxG9CTj7hLYOnKhgc+bMUc9jx45Vz8Lc3BzNmjVT9/uW9d8DBw5Uy48fP66eiajkeHSeAjs/f+3Zg6JP4Hmv+5QRUUXArcaIKoisrCx1X2LZ+iguLg5JSUlITk6+ccg2Y/b29vj7779Ro0YNdWskmUIrexjL4ejoCA8PD/j6+sLYuGj9dhcj0hAYm4GONW1gfM8ZbAxE9vPeWQWw9AFaHtCNgu+pAxhbK22nJN3XeI0H/D7XPSYqQKVKlRAcHIwLFy6oo9/5efrpp9URcJme3rx5c63UcLjVGJUVMTExCAwMVBMU5q6X9I+l/rly5Yo6i2TEiBFwd3e/US9JHeXq6qp+BuVcFNLs3X4pCd4OZvBzs9BKH4CEw8CRXoD7Q1hzeRDGjBnDrcaI6DYMvonKIQmkMzIy1EZNdHT0jbNMeY2KikJCQgJSU1NvOUxMTNREUUFBQer3W1paqnsVy1kOW1tbuLi4qHusyhRaOZycnNTDzMysyAF5qZF0GjjUCXDtD9T7Qzfqfe4p3TUjU6WFlgk0Xgo4tNeVEeVDEqpJgCtbi82YMUMrvdXmzZsxaNAg9bEEGPJ5MjQG31QaZWZmqgF17npJPhOyLZ88T0lJuVEn6R9LXSP1k/6zk/eQjmEJyOXQ10tylsBc6qZik3wWONgB8J6INec7GTb4vvwWELsb8JsJ2Bm+M4+IHhwG30TliIxu6xs3EmTLmtMDBw7g4MGDOH36tJr0qU6dOuoogT6AlkOCan2jRRpD+kN+hv7x9evXcebMGezbtw8NGzZEixYt1EOm1sqIgwTqpqamaiOpTIhcBZyeAFR+UgnA+wHHH9Jlq7XwBlz6AsG/AnV+BNyHat9AFZ18ruRzJCPXRkZG+Oqrr/D888+rjetVq1ahatWq2lfqrF27Fq+//jqOHj2qfv2sWbPw1FNaB4+BMfim0kKamVI3yW4AMutKRrGlTtIfEiDLHvgy40pfF8lZDn0gLZ27uesmOaR+kuPixYs4cuSI+rP19ZJ8Rv38/NTvlyUgUi/JZ9Dg9tRWKuIUrIn/0bDB9y5f5b+TDFSaCtR4Tys0HMlhIfe/ikQ6dqRdQ/SgMfgmKkdk1FqC4//++09tjMj+wnXr1lUDbnks0/QsLCzUIFkfKOc9pJGU+5BgXs4ykq6vgM+fP69upSSHNHyaNGmC7t27o1WrVuroeZlwbaZyfAY4d9ONIGSn6Mrr/gxkxAIXpwNVXweqPK8rpwpv4sSJ+OOPP+Dg4IDatWurU8jlsQS48hnI7bHHHsPvv/+ufqZk3ff06dPVz0hxYfBNpYXUGbLkSTqj9u7dqyYllDpJf3h5ealBjgTJeeul3B26eesk/SH1koyQy+i5vl6SQ75Pgvq+ffuqgb2dnZ36cwxKOnHTArEp8gUMGz3VMMF3yhXgQCvd4wZzlTqsh+6xAS1YsADvvPOO9qz0exChjdzDX3jhBe0Z0YPD4JuojJNGh6zj3rZtm7rmVBor0piRQFvWaMs0cTnLlLwHRf57uQ9pXMmaV5muLkG+BBtubm5qoF9qnRwJRG/WPZZp5uZuSqMpBGh3UWncKMeR3rpRbxn9LidkPX9FC8YmT56MNm3aaM/uj3RsybrtNWvWqFNghcz6aNBAS9inkdkmsl5VPofLli1TO6WKG4NvKmnx8fE4efKk+rmR7fdkZohMEZcOq9x1kyxpehBkmrosrdLXSzKNXf4N8t+WTmEZEW/atKn63zeYa58qxycIyWyJug/tfvDBd2acbnlU1HrA5xmg2lvahQdPZhLINolyr5O/U7Vq1bQrFYO0aQICArRnUPMN9OzZU3tGdO8YfBOVYTJ9T6aCy+izNDqkp19Gutu2bas2dIpjmp0E3NK42b17tzraILcUaVRJ4in5t+SdilsqyNq8w91108ydOgAN5gN7JIBSboftLihBeJASaTUBHFoDjVfpvqeMktkQsg2WuHTpEkJCQtTHFYWMUEtHkF6vXr3UZRf3Q97jMg1WOrjkLCN5evJcRsGlkSb7ehu0oV8IBt9UUiQIPnXqFM6dO6cuV5IgTjpiu3Xrhnr16qnTyYtDbGysOktr06ZNap4TCfJ9fHzUDmIJiA0yEp4RCRzth6yUYDSamICFyx9g8C2zs06MUKLivYB1HaCpcl83sdYuPjgyo0c6TWSZgOzOIB380qE+fvx47SsqBulkXbz45naj0vkgS/fkfUx0Pxh8E5UxEuzKtDsJoiSR044dO9RGxqhRo9ChQwd1tK2kSKC3fft2zJ8/Xw14OnbsqFba8m+SjoFSkZQt8DvgspYYy9gc8L+iPDACdngrDZraQIudSnSVoWVCr6zLhF4GSaNXRl9lvbE+Edhbb72lrkOsSF5++WWsXLlSewb1tZDp30XNjJwfWd89YMAA9b0tGZhldOTy5ctqgCEja7JWsKTdc/CdHgFc/QBIvap77tQZqPT4zb3wiQogU8BlpFk6+WTGh3QMy7prSTYoHcIlSdaWy+f28OHDaoec/Jukc1hG4vXT2h+YwO+VOuZt7DqZA8dO2x5M8J0aAJyfBsTuAqxqAM02P/DAW8IBuZd9//33WL58uXqPnDt3LqpUUepCUmcBSIfS//73P/U1kWUSRPeCwTdRGSO90DIdSrYukgpg8ODBasNGGv6SuOaBNyTugjS+9GvDZbrdihUr1BH5b775Rp22VqLT0GUrsYsvAxErlEDCDMhWAmzHDkCjJUBaMLCvsfK8vfJ8qe7r5XlmrBKcX9M9L2OGDh2qBob+/v439qGWkdrSEBgWJxmVlhEcvUceeUTtpJI12Pdq9uzZmDBhgvozZs6cqZWWLvcUfCedAU4/oltTmpuZM1D/L8C++KfPU9kh07yXLFmCn376CaNHj1Znf8jWlPq6qSRJvST3Aem0lpwo0kEsAbiM5kpCtwcqMw4xO3rDyeQiwq0ehXvLT7UL90jqLMluLjOybOoqn8V/dFtkPmDSsd+nTx+1c3LSpEnqzDnZfrQk2xSliSyvk06l9957T81fUCpn9VGZwOCbqAyRvVD37NmjVgCyxVHjxo3VqVD3M4pnKJGRkepooCR+kwBg2LBhaidBsSdki1oHhP6tGzmQ4MLCS8tm/hvg9SjgpzSM4verUwXhORqo9Y3u+/Y21AXf7a/rnpcR8ppLUChT42SKpbw3HtSa5/JAEj6tW7dO7SiSRtS9kCmsspOAjOrd7xR2Q7nr4DstUPkM9Nc18GX7vRofACa2wLkndetLJQBvfRwwLsV5HKhEyEws2QVAZpjIyHf79u3V6eX63COliXQMy3pwmRYvS6Uk4JSOSvn3PsiOyc1r/0JLoxdgJ79+66NKvXOP94lLrwFBv+oeS/JPSQJqAPJ6yDIZ6cyXGT2SoI5uJ503MttQ2mCSkE3aYUR3y2RGQRuTElGpImuwJPCWKX0SVPXv319du1YsGVzvgTS6ZOq5BH+yLYw+AY70oj/I5G+FkgD7vNJgST6vW4vn0A5oulF5fgGI3Qa4PwTYtwRitugCDJc+gKO/7nuDfgayk5UGT9nJdipTKmXkSd4T0qCUzo7KlStrV0nI6yHBgmRflo4haWTebcInGcmTUQ8ZFSqtpIEo94pHH31UKylETpbyOVHe5wkHAbchQL1fAFPld5NAWz4jssY05TJg5QvY3ppcjio2ubfLGmEJZKVDS7b4kpFTuceXxmm5kpBUPrfSaSZjT7JVmXRYyqi43AceVPK3MxeCcO7QEtTzNVLqmu3K52qQ0uK+i6UbMlPrwnNA6D+66eUNFwKeY7WLD56sjZdtESUAb9SokVZKeUndKu0vmX0o91fJbyD5bYjuRilYgElU3iQiJug6As4FICwVyMzWiu+RTJeTLVR27typrqGT0YSXXnpJbfyX9FS+O5HGlwQ3r7zyitoY0482yO8jAZDBhc5VAot0qNnMa3wINF6uCyhkRFtYadPG4vbpzg5a4C2slQpVErKllp2RbxnVXbRoEd544w11VJbyJ8HBwIED1RFwGRmWhlSFFr0eiFypfDaUYMlXOpvyNA2qvqYL0CNXawVU9mQgSwnoAk+eR1BoLOIytOL7IEs6ZIeNjRs3qjOd5HMlU7ml47VY9tS+R/Jvk39j79691X+vJIST+4DUr/L4QXlrdhZSTWsBSad1u2ukh2tX7iD8X+BQe+W8RIn2miiB92LdkigD0ees6NSpU6nuUCwt5DWSNph0WMjaeKK7xeCb6IG7iENL5+GfT+fhP6WuTbyPGFN65qUxII0bqSAl06asxSqLpkyZoo7ESmZ0yT4r0xMNvuql1hdK4PA/oPl2oNJjWqFCRhWETKsVMgouAbpdU91zYas9jtujO5dy0pkhr6eM7NCdyf6/S5cuVadnV+gGlHQwXf1Y97jOT7osynnJ7BAZ8ZYlHAlHtEIqW+KQkrAfi1//AkvWHsepeK34Hsl0bUk+JR1+MmosOUhKYku9+yXJ0F577TW1o1iSsskMM/ndHkTdFBQJXLd9S/eZSjiqNA1eAbJu7oxwm8QTwLFBwNmpusSHsiyqoRKIy+fPgObNm4eff/5ZzRHyQLdFI6J8MfgmKsWkcfPvv/+qowv9+vVT19KVZZLoSkYbpMdY/3sZlG1joMpzSuMnzyiwPvg2d4e6tzdMABul0ZE7e6xtQ91ZpqyXAe+++646eiHJ1SpaUjW6D4nHdVPKHdoALoXsYevcXXeO3qg7U4Um+QS2bdsGKysrTJs2rVTmHSkqGxsbdf2uzM6SmVmydl1mnD0I6SaVlQB6nlK32ACRq4ALLyqft0vaVY0siZL9wU+OAeJ264Lt+n/r8pHI8g8iKlcYfBOVUjLSLWtSZaRYpoNJQhjZFqUsc3JyUnvWJQiXvcnl95MtsYqfflRDOcue3+p68DxJySy0xHASmJQBEnjL+rMGDRowOy3dmYzEBf4ABP+qG/32mgAYFbJGV58LIW8mdKpQJOOz7P0so8QydVt2Uyjr2y7J/VLWgLdu3VrtRJA17PI7SmLFB8JCCcBbHQLMPXRTyQ931WUvl4BbjlPjlfMnulHxmh8DTdYALr20byai8obBN1EpI1PepNKX6XxXrlxR9yKVBo4EruWBbOsiv4/stSoB+L59+9S1g/J7F5usJN1Zpp3L+rrsVMBJaRDlJlPQjS11a2Fl32+i8uTsFF0AEK5trefYTncukH4NbzF+TqlUkUzhQUFB6haSEmw3adKkXE1TljqpWbNmcHBwwJo1a9T6V37nB8LMRQnADwJVX1Xqn2Rdx5cE3HLEH9Dtp9/2DOBdNpeVEVHRMfguy2RNUlo8YiJD1S2oCjtCQsIRFZ2AxNRMJcgx8Dpbumeyzkymu+nX0smUPtmHtCyPKuRHpkVPnDhR/b0kg7tMP5dMuQZfA66XEaE7y7Tz2F1KXGECOORZryhlkuTG1Embmk5UjuTog2jlM2fuqTuICiD3ZskMLrOVtm/fjh49epTLLQxl+07ZFlPqX/ldZZeOB1YvSWdulReBNieBRstuHq0OAw0X6a4TUbnH4Lssy0oDjv2OmS+MURNxFXYMHfoY3vhwLlYcClYDcCqdpJKXBGu//fabOtVcAtTyTNbZyfvz119/RVKSNhpdHGR6nwTXktQmM0a3xk6ffC03+xbKH0X5nCUojSOi8sTnae2BwqG19qAQ6WG6s3RGUYUjnaMy1VzWREv9JMugyivZSur3339Xc5PIln0PvFNYpp/LMg79YemjXSCiisBIualwGLSsylaC6Kiz2LT+H/wxbwXmrpG1eC3w0It94d+iKrQVq4i6sAeHthzF6atxMKlbH0Oe+xQDm3ujlrP2BXTXUsPPIejwGszbG4HE1LzTMGMQeiEU0UpMZ9OgLrwslbo2TzeXc7NByt+oEfyr22glOrJuV7Y/kt72wYMHo2nTXNm3yylp0Mk0RllzJ8nYfH19tSsGtEP5dFh4At6TlRf9bV1GdEnMllf8QeBoH90U9KYbtMLS6eGHH1a3QPn++++1EroTWe4gSyCmTp2KJ554QistHySLuyTFki2U8pUZD+xVAihZ7+37snJM1y7kptzbAr7WbTGWeEwrU0jmc+eeQOWpDMZLmfiTq7HzwDFsP5c3nXkaMtOicWl/IIwq+cK5kjtcLbRLGnNnH3i0GYnhTR3gbnfrNpayQ8XRo0fVdd6yc0VF2FVBAnDZQk3yaPTt21crLRqZtj5mzBjs2rWr1E/NnzlzpppkTrYzpaKTOlf2/f7hhx+0EqKi4ch3WWasVH5uDdC6ST20reMOmChRnnsTtOw2AA+NGoVR2jH24Ucwsm9T1HONxv6tazF31SGcCIhGsvZj6O4ZGZvBzMoejo7O6lrsWw972FpawtLMEtYOea/pDgcbS1iY3roPqiSykTXQ0liWLVskGK0IZJShefPmauPu0qVLatIww5M+R+X1V/fwVm6DBe2hat9MNyIu2yuVof2+718GsjIjEXRmN7as/wtz5nyDb765eUijdOnSVdiy5SiC4pKUZj2VOZJF2bW/7rFZPpmqZUeAEyOBqx/eDLyNrXSBd+JJJSj/QpedWb9zAJUKRuZWsLZzzKfekTJbWCl1l5W1Hewc815XDkd72Fsaw9j4Zt0kuThkNpYsD5JcJNJZZWxcMZqOUg/L+JRkdY+NjVW3cySi0iPu6kEcWnlr++Sbn+fil5WnEJiUhnTt69Q8C3HHsX3RX/j9xtfOUo65WLPvIq4Vc0DEke9yIOPI75jzx2947NcLQIuX8ctHwzDMvxpuyYt9cTlWzP0Fo9/dipSaT+C9T8bj0YENUTHCu+J2FJu+3YADR3Pg+9Yr6OupxHZFWLIt655lP2/Za/Prr7+Gt7d+7kL5J5ndn3nmGfTp00ddS1ijRg3tigGkhwN76yuBdStdJnOZgu5/RbkbFjCSoybF+RSo/i5QufSOjj6wke/UGCREB+DK1XPYv2svjlw+hovXoxAVKhnU05EcFyYtfNg51YGPT09M/vBhtKjljbK40VCFHvkWxwbq9rGv/JTy/p6hFSrCFyt1xqtAZpwu639asK5c9sqvoQTjMcrPPDNFt2RDPhPy2aBSLhKJ0Qfx66PLYDJkDJoP7Ih2LtqlQqSmpqqzkxYsWKAmJJP9vCuSv/76S62TH3nkETUZm4x0FgVHvss/jnyXvMDdv2L9nx9ixt9XEJ6itFBMbWBbvS3q93kK37zWHfXdbKHOL01X6qrwTfjo2a8xb9MRnIhPg5GRDdx9OmLEy9MwenQPtC3C/fBB4ch3ORATHaEcSkBhZgb4VoKLtRUctGs3ODjBwcUddbOyYH4+ENExiVDeilSKSMV39uxZTJo0Sc22WpHIqMuUKVNw+vRpdU2hQUlmcyFJ12SLMdnfu6DAW+i3fIlYrjuXdwHbcfy3/+GJ7hPxwoIgmDWbio9+WqX8XbYpx2L8NvMhtPQzwYEDp7Fi5VWcjUlDovatVMZkaVspJRzSnYWMZF/6ny7w9nz45rRyGSWv+rrusWRmbrJCNysk+Hcg5aqunModGe2ePXs2qlevjo4dO2qlFUfLli3RokULfPfddwgPV9pZRFRqVGozGD0em4FpDZTqykop8GqARoOH4N2ZA1Df1QbWui9T4iNH5YsfwtjRQ9CxTW2lwBam5k0x9sVnMKFfC7Qu5mW4DL7LgZioYERHBMHayhI9WjeHp4vzjU1hbjBSSpRD/uBGnOxQqsjkE0nsIvtd29jYqFPdJBt4RSLrCCVzrmR3l1FwmX5vONqnI+Wa7pw3y3leto11idckQDk+BLesfS1vTi/AL7/PxjOLQnCl4eN4e8bzSsXUGbXc3GFubq0cVVC/Yz90bdgUbawskF2nCtyszHU9y1T2SMJBkXRauRFpU2ovKQG2BOCVpujyIiSdAqyq6gLv3EkJresoDZ1HdGvGg37SCqk8iYmJwalTp9SzzEaSALyikT3MJbmcTL2XzvGICO0zQwWQ+0gILuxdhDlfP41Jk7qga9cu6NJFdwwcOBDPPvs8Pv74T2w/foWDQHRfjIwd4OFVH8PH9YOzmxJgG7nA2tgTPmYmMFNinhuxkBoDmcDEOALGxhbwadAbT8/+CmMHtoSflx1yrbQpFgy+yzRJ9BWLmIhYREUYw8KsMhrUdIGD3e1znJMiQhEedA2BpqbIaFhTCdAd4K5do5IlwbdM65PAUwJv2QfbxESm+FYc8vu6uLiov79sPyavh+FpifJsGujOhZFpuSJ2J3D9W93j8iQjAYjagxVzF2PJigBEmDTGoOfGol+Hxqjj7QZbdas7qS6sYO/aAvXq1ES7Vrao0q4JKtvZoGgTManUycnSnSX5mn47vaj1ygfSWvlT1wSufaY8tgFqKmdrP9313HymKQ0aU900dX3wTuWGJP6Ue7Hcl/38/GBrm8+OEOWcdAxXrVpVCSC74syZM+rWrVSA+OtIOLwIf3/wCWb9vQm7g3LgXbclunXrju7dW6FJLTNkxRzF0qUrMHfuPhy4GAlmjKD7YwYLJw9U7t4VTRzs4RGTjqzIVEjmoFtSIWcmAdF7sWPXccRZ1ULn0ZMwplcT1KnsBFvL4k8eyeC7LJN9WlOuICgoFkGhDjAzq4HK3qawlqkXuaXEIPDoaZw8cBnhFq6o1kupSH3dGXyXApLMJi0tDfv371enmpfHfVPvRtu2bdXR/wMHDqivi7w+BmdZhOzqLr11a19FeqjuXI5kJEUg/NAczF2+Eyej3NCgXV9MGd0Mvg5WyJMQWeGFyg1aoevo7hjWpxGqOlqDu9OWA6naTBBJRijJaS5OVwJrc6DWV4BTJ+1aHmbOum36MmOVeuaSVkjlgSQXk0Dz8OHDauBZuXJl7UrF4+7uro7Ynjt3DleuXEFGRoZ2hW5ICEbQiS1Y/s/v+PbH/3AgxAruTfpj9CMv47XXX8f//vcyXnx2NAZ29kN2YBDOXEtCaEKWOk5OdF+sHGBUwx9tfe1QNTsQ8cGXcSFSaddofctK5YSUuIs4teJvbDxtBMu6XTB0WA+0cAKsiz/uVjH4LsuylXdW6HGcuxSOM2F2MLXyhY+nCazVlnC2EptnIisjFUlXD2H/+mPYtT0dzm6t8Ej/FqhbtSymRyorTGBqYQlL5Q9hpnzCZLZLQaQSl3VkUqkLLy8v9VxRSZI5mQkgr4dM7zNMIyfPsgvLIjQqZXRPvxVT3D7lf4qhU6C4KPeJhIgg7Jr/K06ER8G8bRM0698essld3n48Pa8WI9B3ypf4ZKA3fJ2KkE2QSqfcN6c0bUTPqavuLJ1NTVYCboN1zwtiquWnkMSFVIoZKX9uU1jaWsPC3BR5Ntu4jaz1lqVQsgOF7LxR1ERj5ZGMflerVk19Pa5du6a+NqSRZYzZ6Ug9vwHrFv6O8d+fxIkaYzH+2afx3Jg+qOfmBmP1PuOKyvU6wL9dF/SxMoZjHR+4uNiBGxXS/bNT7m3N0aidPbyrnUNU9BHsP5KF1DRdWy8rIwghFzfh6+fnIaLOGHQYMgiDaqmXSgyD77JMRgXDghCcmIBAHw9YdW+JFhZm0OUNSERawhkE7lmI956bgS8PhCN62BQ889tnGN3YDVVvZCGgB88PLYeOxbjXHkZPD8C2kJ41WUe2Y8cOdT1dRR5ZyE22HpNpfvK6GKSRY5RrSr+M3FkUMee/BCHmyh9UgveUAF1ZeZB4HhHnNuHPFTkIjfJH84Yt0K19Mab9pNJBP3Jd73cl6F6r29ferpmujMoBB1jZt8GImS9jWL8maGCvFRdA8m7IHtetW7eGhcXt818qGtleTbKdy1aYMv2cNLJ0JWwD5v+1BL/9HQYn50F46+Ph6Nrc5/bEv/CBs0cddBhoiibdm6CGt4fWXiW6P9K/4+5dA7b2rkhSPqMBwSHIzNQNfYcd2Y0dS+ZjRa93MGaYP/rXv8PNrxgw+C7DsrIycf74HoSGByIj5iIitn2HN555Ao9PmoRJk57C1Kffx0sfbMClql3Q8Ymn8cxTwzG8pQ8q25nBomItKS5mlrBxdoGrlwsczACTQkYYJPjevn27msiGwbeOBN8yyiCvS3x8vFb6AJm5KXdqbbRWsjYXlax91e+LHLFEdy4HIi8fw7Gt/2JfTDYSGjRD9drV0Ui5R1AFkDv5ZlaS9kAhCQbVjiYqP0xhbGILZx8vODta33G6pYx4R0VFqUuhGHzfDL6Tk5MZfOeSnZ2JC9sWYveR/bhm64o6Dw1Gz1pe8LGxUN5xeVnAqWprdHz6W0wf2Rqtqtrn8zVE98II7nWboppHJVhHxuDMgeMISU1D2IkV2LrjOFZEdMTTj/dB6/qecLQq+QCIwXeZlaEE37G4dO4SYqLiYG9jjWreHkoFYaS0p5IReekYDqxegcUb9iK9Vmd06DsAQ9rWRR075fZX2PsuMxXZsQG4dPg/bD98BocDi7bzfE5WBhIvbsOhA3ux+3QQQhOVtlw5mplrCLKeWYJvWd8swWZF2te7MNIJ4evri3379qnB9wNf922sBN52jXSPnbvrzkXl3FN3jlyjO5d5yYgKvIrzR04hTInDPFs2UN6Llcvknt10n1LL0WwOumey7EfWe8va5tjYWDRv3pzBt0KC7yZNmqi5SC5cuKC0v7LU16pCy0xEVswp7Fh/ACcu5sC6RiN0GdEC1azNb27xlIeVsw+q+o9Hj0ZKPe/MJUv0YBgZGcG2elP4Va2MKlmRCN2/HWdP7sSKFTux+4o5nP2HY7y/Lyo5lo4MNQy+yywlSM4ORkiAEvTGW6Fyo+4Y+c7v+P7n3/H779/gw2nD8FA96VO8hMS4DBinmOCOeUqzUpAadR1X92zBjnWLsHT7Uey8nGs0pBASfMefWoXtm1dg6eZ9agAekZKFdAbgBZLpazKyIFP7ZLTX1ZUhj3Bzc1MD8NDQUERHR6uNnQeuxkeA16PKf+whraCIJPGUbUPddPXyIDMMscp78HqgkfIhtkTLen6o5s1UjBVHruBBAom0IGBPbSD0H62wCMzddGdjrmUqL6TTU+omadDWrl0bZmacCSPBd82aNdXXQvKRGKRjuIzJTApF/JkFWL87Bhdj6sO3elsM6OAKK0tOrSyvpGMuMTFRHTgqVWTeuXMd1PSrjPpu8Ug7sxk7F8/BH/9lId65HaZOaoNK5qYoLd09DL7LrFTkZAch6EIGEqIbw8OtGVo2UdpBah3pgtoNmqNr3/bqV+5YsxmHTp5FpPqsEPGncXbrPDz9yHwE1HocI0cNweQ2RVv7aWRmBY/eb+Px0R3gb70Hc755CwsuJSBI8v1TvoKCghAcHIzBgwer22zRTfJ6yOsi2XblNXrg7JQPi9+nyhv3LhsJ8vXNNgMNF2oFZVzUOQRcuoqDl6yRjQbwdLOBY8kvh6KSEvgj1D2+7yajf9RG3Vn2AqcyTwLKY8eOqZ2gssUY3apx48ZqThLZgi09PV0rrZjiQgOwd8G3OBYTjqiGNeHaog4kSwTHs8sv6ZTbtWsX1q9fr5WUJu6o6ueH2g0dkJR0En/8cRFVe3TGqEk9IHMdS1PAy+C7rIqLRcaRfdiekIzrHh6wreyBSkrgrdso3himlavAvVFT9FKe2Zw/gCsXr+FCoRsqXsCBVcuwesExuE57C12b+qGuiyWszYv2FpEechMLW1h7tEQ7/26Y0tkTB1+dg71HLqO4d8WUxoP0TMuaYdnCq7SSKX2yj6qjo2OF29f7TkxNTdWt1+T1KUoPqyRmO336NP7991/ExMRopXRHUWGIiI7EhSyZVloDHm6WuC2pcexR7F/0Cab1749BytFfO0Y89jxeWRmCgJgH1ACNvoRL2/7B3z9/junLg3A5qugzHtIiLyFw+XR8/vM/mLtd+TncPLZojHLd3xOPAkFK8G1spbRhRmiFdyBbjAmrGrrvo0LJemFZSy33qZAQbV/1UkamUkunpwSWkuWbbmVlZaW+RgEBAeooYHGSek7Wm5eOei4BqUkRuHY+BcmpOajjVw1N6/pBxn8KSXNDZZzsRCPJcBcuXIhnn30Wf/31l3pPK3nyrjNR29KmpkbIMTdDaqs+aNXED608Le78vkyOQtKFbVj/65uYOX8bVp68u5H96L2/Y/lfX+OT+btwSLm1J92hWcTgu4xKT0xA9IXTCExPhWmNyqhUswo8lfIbIZy1C2w9qqJ5JSX4TjujBDGhuB6lXctHwvnd2HcxCketG2PYiLZoUMlWTRZ21yxc4e7bDK1atkTN5GXYum8/dp0t5D9sALIWS24QW7duxeLFi/H3339jz549pS4o00/dkeBbgk26SV4PeV2kgyIp6c5LHyRIl46WVatW4c8//8S6detw+fJl7SoVKDUVaelpSDCzBCpVg7uDJezzDluY2sLewRoedtE4vWk9/lu9GttOBSMwxxM1XMxhoe5ZlIzE6Is4s3sFFsz7DF999SE+/FA5Pv0SH85ehV3nIxFd0CyYLCXIVgL8rf+uw3+7riPazgfVXS1gZVr06snYzEq59VSHj20UAk7+h/Vbt+GoEhem3djnk/KVe6p4erjuXOtzwNJH9/hOwhbpRskdOEJaFDJqJCOma9euVeullStX4uzZs9rV0kOWQkmAaWNjo5WQnnRIyBR02SJU2hrFKb96rsQCn5QwxIddxuFzyt0/1R0+np6o6n17fnMqX6RNJksCpX0lA1xyL5s3b57a1j569KhhlgneheSkOCQmRCttAnN4NmgMXy9XKM2JwiVdxeWD27Dwt804l+0JO6Xt6WJzd21yUwcvuDqawiL+KJYt+Au7rkYiNFW7mA8G32VShvIGi8GlcxeRnpYOr2o+qFajirpf4s0/qB0srN3hW0+Jh63CEB0bhbDI/D4U0nMbjcubtuN8onLj7DIcA2sB+eYkSI9CTNBJnDywVQ1sdcce7Nx/HseCUpCSoa1/snSHbaVG6N8jEmcPH8WuPVdRnKtDZORbksXISOimTZvwww8/qD3FO3fuVHuNpdIsDWTNt4yEyFpvBt+3knV18rpIB4W8RncijUX52x4/fhyzZ89We2NlWtSRI0fUEYqi/IwKzUJ5/1Vxg72l+e17e9vWRJ02XfDwo51RQ73uBJ+mvdH74YmY0s5FCcrNkBR+Bmf3Lsaif37CP6uXYMX6tdiwdimWL/wNn372A/5auAeHLkTi9tz1achICcSlzQuwZsMZnEvzQ4NuI5Sf6wqvu+j9M3Pwhlu7KRjRvQH8zK/gwoFNWLv5EoJTMpT/AhXI1FF7oDFWWinuQ7UndyBbDEWu0j3W7wJAhZKGqwTbJ0+exNy5czFnzhy18SoBudRZcr8raRJ0S6ewBJgVeW/vgkiHhLm5udqRUtxrvuW/mbee27Bhg1rPyf7jxVrPxYci9vpF7L5ujKSManB2dIZb3tVzmQlIiriII9u2YseNNuNWbNu+AwcvRyMyqbCZA5KPIhWxgcEIuRwMGTopsKsjIwWpMUG4fv4ojgfEICKx6DMScrIzkRp6GpcvXcD5wGjEKgFTdgXPo1cU+mSDMtC1ZMkS/Pbbb1ixYgX27t2rJiQs/sEu7f0SHYHI8FiYKXVbwxqV4OxQ2Owd+Z44hJ3ajt3rNmPVISX2afswBnZqjHbV7q7j0b5uH/h37oa+SswVc3IpNv93FCeuxKCgzXIZfJdBOTlxiIm8jH3bzyI5MQ2ujo5wc5LQOzcl+LZwQ5XqRrBQAumomFiERURCqopb7is5ys06+wC2rjyO1BAztG1YV7uQm3xHNrIjlAb0srfx1pQe6N2rB3r0UI7uozF4whd4eUUIQuIzdF+usLKyQfO2veB8JRohp6/gVAnkJZGKUW4QUiFt27YNb7/9Nj744ANs2bIFGRmSLb5ks5VK8C2jurK+mQltbqUPvuX1kdepqPSNIWng/vrrr3jmmWfUESZpmMgUQf17gu6S8prd/L9WaFinJXp11hJtKQK2/o2lX72OmQuPwL77h/j4tzXYuuo3/P1WP7S4ugkL3vwBs5fswdk8L31OTgRiw7bi+2d+RXztLmg7eii6uisV073MW5Qp1O5dMXRwHwysZI7t037ArrBYRLAlVbC824mpORCK2CwI/kNpt+wGLLzvbsu+Ck7uP/r7lATc//zzDx5//HG18SoN2ZK+T8l/VzoJZPomg+/b2draqsG3BBf6v2Nxyv3+kXpO3jclUs8lxCIpMhRnYKSEPJXg5GgP57x5SBMvIWDnT3ixd08M7NoFXbrI0RU9+g3G1N8OYM8V6SxQ6pScbGQpbTJpl916hODw4pVY9csKHFa+Mt+OVOV7ZYeekAPLsPCrl/DG/CPYcaloiYJFdnoKwjd9jN9//R5fLz2AI0GZSMuSf5P2BVQo/XtNZmXITJ7nnnsO33zzDQ4dOqT+DYutnS3/iZxwJTZKQGSoAyzM66FtMx94uBYcfOfkKP+2rKPYOHsRtu9PQL033sEgPwdUvtcVVHZ14Nd8ML56uTOif16BnWsP4FwB2z4x+C6D4q8fw7kDW7H9tHJvk7uRElgj6vZFjnYOzmjTcRDs7J0RuvMIjqzcjkNK+S0zIaSn9MAu7Im1R4i9O7xutqdzkcULh7H8q7/w70Yr2I1bii3bdmH37mWY/7E/Jre5qvuy3CyVd2+LtmjtdAn2wadw9JRWXkKkQpIbgDR2pJKaMGECfv75Z7WxU1I48l0wCb6lU+Jug289qRDkkO+Vnva33noL77zzDv7777/iqQjKm6REpIUE4bTymiZU9YCdhxNuu1V4N4Jt/3fwePv6qCcVnk1NONfqiYf7m8DbLQRx8TEIz5P1MfnaZVzasgVrO01Hy86N0NVXu3A/HJqiakNf9PZfia//2oXDp++YarLiMs0TXGXJZ60IAUX4v8qxQHlgBNSbrZyYYuleyD1KGqdylqVRslTjtddeU6cVl+RsHQbfBdOPfMtOHPJ3K0n694/UczLAoK/nZMZfsf3bJMu0nxJ8u9jjtrSxtn6o2m4svpv7LHrXq6zWGXbVmqLFM7Px0ZjmaF9dRhfDER2wAt/07YGh7dqh3Y3DXzkG46kvV2F1YbsgRm7H6j/+wVe/BMB87Lf438gW6OxX9FFLY3NrNVnw1NHKf89qN/6c9TYWKsF7cCFThul20q7S50A4ceIEvv32W0ybNg3z589XA3PDU9p14cdx4UIITly3gYmxL7w8zWBTyMB3TlYmwjauwG6b+kjtORqPN1U+3/dblVm4wbjyUPTvdhIXrm3Gn8svaBduZaS8YGyJliXXtuDfZQvxx/y1OLj3GmQ1tbufEuT2GY2BY8diRBPHm0nSEpQ71tlfMWzSH9h0IgNWDZWb0tQBGNVqJFrXdISnzDhMkK1lPkGf18Nh2WUgnn57NLrl3ZMsK1Gpjdfhk0mfYnd0HdR64n18MLwyzEyTEHPpAK4FReGKYw909bOFw43N66XncQ++H/wmdqW3QKVn3sMnffJMcTQQWXMiySCkF06mv+QlyeHkbV+9enXUqFEDtWrVQv369dU9PCWZSnGR4H/16tX47LPP1K21ivO/XdpJY0J68V9++WUMGTIEEydO1K7kT6Y6LV26VJ2Cl5f+7y3BvPy95e8uf+9GjRqhSpUq2leVfQ8//DDs7e3x/fffayVFEL4W82f9ig9n7sEJl3H4bulUDGxTDZW1y3oxx5dg95+vYsz3l5X7xNt4esooPD/I78b2hdHnt+Ps9TCctmiD4c09lfuAbiZH/PWj2PuJP15d2gzVHn4aT70xEl1v3F9CcGHDIqz4ag7WdPkJbwypiy4182k0pUUhLeIw/tuwDUcuJyBcncclP98bHm27olMrP/irjbibki5uxsl/38fQ5R0w7fURGNe/Pry0a7nJNF9/f39MnToVTzzxhFZaPkggJ58H6Xwq0JV3geuzdCPgMuVc9vpuqnyG7JRWSEHSQoBj/XVrvau8oBwvahfoTqRRKkug1qxZo44K5aa/T0miSX3dVLduXfU+JVtcFRepP0eOHIkOHTpgrNKm8PSUbDKkJ8vWli9frnbiL1iwoMDXR/7GY8aMUTNDS33zIOzbt0+d4lvUeq5evXrq+8fXt/BezZkzZ6rtJVmaV2QXV2HTwh/Q482NQINn8dabD+OJYY3V3EO3SFUCr8CFeHrsN1i2Px3W7Qdj0vfvYqLSXnRTtyQLRNj5TZjZ7nMEd+0CjybKv/2W27knvGvWQ5t+DdWffXOOoETHV7Hts6+x+YwNkuoOwLjJnaD8WFjfy1hGcgCunNmj3C8PYvfpxhjwdBe0bloJeeYG3ULqXFkCICP6FYWs9ZajsOWbsmRFSCdVtWrV1PvXvXTkSWJXmWFbJNlZwKmf8PYHs/HNykSYNpyAXxdNRnsfp9s7hVSJyEg5j+VPTcMah4fg22cc3u6Z7+ijmpPm2IFd2H3gPM7e6EdwhV3VJqjV3l+NuyzNbo5ly1KGkMVT8eYyYwR69cWszwdD9gLJHdcz+C5rlBvegtU7sWT3Fa1Ax75GK9TvNR6T2zjD1kILgNNjlFbxHvzy1VocvhKOaFtbWFarhb6dJ8O/ngsqOytxdVwAUv57Gw+9ZwSX/oPw3HuD0Fr33TfJaEjUHvz0xuf470wOzFsOxbjeDVGjfh14uNnDLt+eIhlBOYbZ41/Ghpg6sB/3Nn4ccbNJL9lUpVJ60GTE1MLCQh1FkGkvkhiiIHKD0FdWzZo1Q5s2bYo1u6s+KZis3ZIbE0e/b5KGqaw7fPTRR1GnTp1bbsAyIpR7ixeZBnj16lU1EY1UhAWRxokcMiIgHS2yjY7sr16UhG6lmaWlJbp166YGkHcdfOMKDv39O/56bw5mnffDqJ/ewPgBLdHRyxZW6jyuZMRevYSDa//Ewj8/x18HgXpPzMHT44dgQos7VaZJiLq4GyufG4RPrg5Hx8cm4qVnO+FGGBG3C5v+mosvPtiDWj+swcT2nmh021b38Yi9fBAnls7GvJOxiErWfUYyUxMQdTYQmX3exMPDe2Gqf57qNeY0wg78gxGPHkOz/z2PYQ93g38+uYD0wXfLli2LXsmXEdIZJcGejIYVxME0GO2df8b5pC6wNo5GHdv/cCJhAE4nyj4ZtzMxykRn52/gan4ZYWm1sDV6mnaFiuL69etqACVrdPWjRHnJPUrqJrlPSfAt700Jou6V3B/vpm6Rf9fHH3+MUaNGqfdfJl27ldQ/y5YtUwPWp556Su0syY/8jWfNmqWOREs98yBcvHhRredkK7iCyHtH3kMyIq6v5yQYL4x0JkhuFIME30nBwIXflcD4N6w5Uxm1Bj6KL+ZNQmPlkq61JcH3ViX4ng3n999G52Ed0P62euB2WWkRSAmYhxn/24706n3Qa/Ik9LvfPqrk6wg9uR0fT50H4ylPoGf/DuhdueC9NyX4lo7/5s2bayXFR5KbyXtRZgkUJ9n6VbbJLWxNt7z/hLTHvby81Pf/vbStR48erW45e2dZSsCbgOvzXsNbP63GnNN2cPWfjD9+eBTtvJ2QdzWEKi0QKYHL8ezAH5He63n0fHwixtTWrt0g7cwonF38E9bsPoV9QfJcsrelIO5qKJLc28Bn+EtqbGOfe297yYdy/g+8/94O7ImrgTG/voWBShPFLtdtmMF3BZcWeRmBix7HxFlu8B46Mv/gW3Nq7mf4a94CLDgaAZ/KbdHv8cfRuWNT1KvskE8ALm/SQKx89XGsCa+KnN63Bt8SeD722GPaswdHglj5oMtNKTU1tcAGTm4yvU5GneXQ99gVB5naJ/uFypo/fYVJOnJbkgBcRg6ko0Yyn+vJjV9eOz3p1ZceVvmbFzXTpgSs8veWr5dGR1nm7u6uBlqvv/76PQTfSgx8cgV2Lv4Kj/9wADFtnsMjI3phYkdfeMj0Y7NIXFn1L1YsWYs/915AvPKy935/ISaP7Iv+hbbnspCefA4X9y3Hpw99hf29X8OESYPwUvdq2nXFqbn4e/YKPDcfeOHf7zCivgtuG/jOOo2jK+fhy7HfIvjZ+Xh+bFv0rW+EpPBDOPzDU1ji9D80a9sH41rmzXkRgtjg//BJuxcRNvRTdH5kLMY1ylU5avTBtwRF5S3IkG2J5B4o+zUXRcvaOVjyVhpOXDFG3zdu71H1q5SNf17NgJdzDnadMsbDM82RWbzJnss8uafJrB75uxSl6SUdyXKfkvO9kpGnu2n4yr9L7rEvvfQSxo8fX6x1YlkgnSKyLOCFF15QO4GLswkt/z39+6co9PWc1I+FkXtFgwYN7i74vroOWxb/jAHTVyKlztN4/e1xmDqyGSppl/Wyoy8hbds76PXmeuxObYuuIx/Hrx/0UYN03b/qXoLvTKSEncW5357AC9Fj0bVrT7zRt7p2LZccpQ7LSkZiQiKSUjKQfuN+ZQYTSxtY21rD8cZsTZ3ksPM49HV3vBIyHu16jcIHoxqo4VZ+JPiWNqck9S1u8v6T2YEyk6Y4SVI1OWRwqyD69rTUPV27dkW/fv1QqVLed8aDkomM1GjEhZ7G4teexJzNZ7A33QeOLfvjjQ+fR/+6VVDdRrfV2C0iTyNpx5do92IA6kx4ApOnDkaPvFVlTozy43fi466vYo9jX9R77Hl8NFDmQoTgzOL38d954FztN/FhP0/Y5Q6+1aVbe7Hw+U+xcb8J7N6ej9fbm8DV+mYbn8F3BXc3wXd6YhxCzh3A4a3/YvWyudgZZI2qA17DyInTMEG6MW9RePAtgZJk7nzQ9CObUjnKuidZ410QCbrla729vdWRQ5niUpxr3CTTreyXKInBnJ2d71hBViTSyJC92idPnozu3bur0x/19Gsk9WRUR3qBpUNHtr4oiH5ESb6/c+fO6NOnj9rgkOdlmfxOHh4e6ijVvQTf2enJiAs5hVPbv8E3q/bh6OkEJMWawlhGy+rURPMGndHJ1ww+ScfwzXtAvzkvot/AZmhQaI7ACJxZOweLvv0NX4UPxdsfjcVg/5rw1aajq9TgewteXOyET7a/jh6VHOGdt50fvQe7l8zBG88ugLcSfD+uBN8d6tsiOysN6fFRSDJxVAITq5uzfW64GXyf6Pwauk0Yh+c63T75TB98yzTbcePGaaXlg6y5k8+DLMEpKs/A4TDLuIRYl5eRYD9aLTPLuAzb+AWwSVwNo+xkZJhVQ4zr60izLP7RnrJOEmRJdvPNmzffNu1cT+5TUjfJfal169bo3bu3OivrXsn98W46duXeK8t8BgwYgEceeeSWjk8C4uPj1c5OGdX+6aef1M7P4iKj6VLPyfrugug78uX9I9Oh5f3TuPFtDbRbSJ0hbZG7Cr4zzuDkxvl4v98H2GA2FGO+fhKPP9EJDbXLevEBh3D4q+54bmE8Iuo/jaGTnscXI6qq2+Lq3pX3EnwHIfjkenzb+wWETvkHfYf1xLB6+VRImQlKVbAK//ym1EUbTuHQda0ctVGp2yj0HzMAb/S8dWJ5dkIw0re+g6GfGMOhS1+89O4ANNOu5cXg+yZ9+0raZnLf6tWrlzoqrw/EDTez8xou71uDH4e9i+UxUbim7nBiAmNzFzg4DcVz3z2GkUOaKn/xPNTg+ysl+M5E2+cfxpQnu6JZ3mZEWqjy/lmCaSO+wHWPIeisBN/PDpQFbFlIT4pFqnILzzBzhJO18t+75R57M/heuk1pq0z7Cd8+5AUv+5uvAYPvCk437fwtDHnPGK75TTtPCUZs6An8tssVvdpWRy1PIC7sAq5d2YslX87CbuueqDH4Bfw2Ju8wWOHTzg2psDXfcoOQQ24QMlVIP6VPAnAZMS/OAFiylMq6MJmWJuuzinPKe2knU8Hlb/fuu++q045kBKYwha35lgpBbnOyrl7+5jINT//3lk6P8uKe1nxrstITkRx1FqevBCI0IhUp8vGVykR2UnDzgY+jORxzYnD6CODd1g+eSqCc/2Q86ciIxtHFP2LZ3F3YEuCBVu+8hHFtqqO2i80tIwjxu7/DX39swXubauHz3a+gm5fD7VMW0yJwadc6zHv/QyxL8EHtBq3RrWcPtO3REX7Kn67grcBjkBB2AH+MfhTb676EtsPG4cUut48AV/g133lFrQVOFfBZM1NecC/lWuWnlRee+/nei8LWfOvvUzJapL9PSU4KuW8VZ4An9ad0RMl/XzqlHtSU6fJCZgVI5778HWWv7eJcE1/Ymm/9+0dGGFu0aHGjnpP3jyytK8w9rflGAiJObcX2j17E9LXZMO41CcMnj8bzXauq03xNEIuIk/uxZ8lCfPX3Hzh8PRtVBr+FsU++ilc65M5vI8H3BiX4fg/h/tWR6aHcp9U9KZX6p0pzdVS7R+tGqJZ7clPkQZzdLMuKNqDdZz9i1JAO6HxbUg+pAw5hxcsfYotlYzj41UOrKvLfjcKFVX/ipEMf+PR4Ep8O8tZ9uV5mrPLzV+LN8f8gsFJXdHx9Oib4adfyYPCd/31LZiPK+7B47luJSAgPxNktxxCkPLs591Ei6Uqo06YWqvoqgbiu8Ia0oMMIWvEmBnzojs6vPaIE353VpRC3kCW3ydcx/3+vYvHBUITb10WPDp3Q6aGBqO/rCJcCm+wSVp/H+g/fxfKd0Qh66Hs1/vGyv9lBxPlEFZyJsQlsbR1gaiJTmZKVxqh2QS8lCkkXlUB73i5sOxWJcGMnuFWpjRbN68PP2gbWqRlKZX1z/e0NWUrDIi4IYVEpSMmygL1d3ixuxUvf8y+ZxSXglrUkksirb9++amIZWRNV3CPPEmzLVFcZ4S1oFKSi0o98y3pF6TW9W/pOFllzJAn1ZJR72LBh6miOfiSgPAXe98vE3BZ2Xi3Qut1gDBo0Sl3vOUppeI/q1QvdmtVDreo14V6jJToPa4laBQbe6chMC0Hg7jlY/e9uHAvzQN0+ozG2W11UzxN4i9RU3T2nUBZucK/tjz6PPIoOdcyQdm0LNvz7M/6Y8xc2XUhFZIHfbgYjYxvYOhnD7N5n7FY8Ln2Aur8CTl0AR/+bR40PgObbgKr/Y+D9gOnvVdIBK3kHRowYgYEDB6r3KclFUpyBt5B/i5OTkzpyKqO8dCvpsJMOCgloZYZCScqvnhs+fLhaz8nIo9Rzdwq8750dHLwbo+2jUzBiSCU4p+zF9kU/4LtvvsEs5fjmz38wf9sBnIlWgu669VHJpj5qeVRGDd+89bktrB1rocNjveDfqhbqeLvD3dkB7uZJuH5wJVbOW45l605ABq1vtJKSk5AeGYfLOTVh62oDh/wqpPQ4pISdwrZNRxGRUR11Wg1WO5NGjhyDhyeMweg+zW9L1KmSEVpPL3haxiIrKgSXrpb83vulkbzvhCxrkdmJ8r7T37eaNm1ajPctpe3iXgctlb/tYPXvqz+GKUdbNM4n8BZZmZlITIhDtiRqK4iJ8l61q4U2Spuoa6d6Sih/Hgc3/IE/f/0Wy3aewplCN1KxhqWNOawLmEzL4LuiU4Jv2DvAwTQcmQnRCI/QyjVZqalICbmOyJPbsXH3HqzeeRAH9x/Awa07cS3KFh7u1dC4ej5zhGStdXAQQlLMkOPkhqqVi3/qmv7mIBWk9MpJxsW2bduqjZvp06er61BKsldfgm8JLiMjIxl85yGvh7wu0jlxLzMC5HWVv600PqQykJFNGT2Xxqz+fUEPVkZSBCLObcCG37/D9mtOcO4wGlOf6o2G5qY3sqLnJg1GU7NCOrzSlftRZBTizDzQZMxzmP78kxjesyrMorZi2Y/v4/vtobgaU9DnRvYWTUNaco5SyWpFVDRug4CGC4FGy24elaYA5sU3wlfe6e9Bcn+TESLJhi2B96RJk9RDppnLet2SIP82Bt8Fk+BbOoclqJVRv5KUt56T/eL19Vxx/NvMnarAs8uzePbp8Zjobwn3sP+w6s8/8bdy/Ll8M3ZFWMGxwwi8M300RvUYg66N6qHebRuMOCrBU2sM+ehNPPG/LzBjhhK4f/kpvn5vOh5rmoWYPSsxb95aHFTeimnaajPJ5ZOeJkGTBxwdLJTPka78FlI1pCjtWydrmCQEI+7yeVy6HInYVFdU7vwiBvUbgsEN8wvL5LNpAXNLY6RmJiMqV34Z0t2zZOBCEqnlvm/JEsGSvG/dLfl8WFhaKfe7Aj4nmUlISYjA2WtxcPd/CGMefxrTHumBxj5h2D/vPcxZvhWbLxU2eJCOzPQspBeQnoHBd0UngU2rdmjjFA+v+DCE5Am+5a0VZZ6CmnU2YPcfk/B0v3Zo13k42o3YgMN1RqHzpIcwqkN+wbdy5wsOwLXUBjD1ro8mD2anjbsiHy45pIKSpA8ffPAB3nzzTXW9b2kgI7r6ke+iJIarSCT4ltdFpnTdzci3dLRI41EqBQm4ZQq2TA2TqXdkWFHn9mLL58/grcVOcB/yMEY/2wONZAerAvo6HJ1clUq8kN7xiC1YumoDvvv3LIxNzeHZpDeGvTQTLz07FUMqp2Dz/gMIjS4o42qKEnSH4PrZTCSy7USliNyf9Pcp6RCWddW///672oAtzi3FCiPrvCX4lkRcdKvcI98lEXznfv9IPScBt76eK4nBBCNjU3g0ehSTnvsb8+fvxu7d2jFvHv56YxomDe6BKm1fxmt/TseUR9qijvZ9t5K1sDL9WwvczO0An7YYN6QvWtZPRWT0Aew5pNzVtUAmKTEeYaGByMmV++U21r6wrT4Yw/s0Q8TR3/H120/jjXf/wu5r2YgvNC+rTA32hkdVKzixv/E2sgNDx44d1dlxf/zxh3rf8vMrYF5+KSaBd6XK1WBW0IzXxPO4cmwZnvhkDy5cj4eDbyO0HvEspn/1K57rUAnpEZdw5Pxl7YvzkmnnYYgOSUB4Afl8GXxXdEZK8G3cCg1bOyDdKhB7TpzRLuhYudRG3a7/w8efrsbSJRuxccMGbNiwQjlm4YPnhqBX/Spwz6d1nZKShEN71yO6mgu861VD/WJ8p0nFJFtsyHRySRzz1VdfqdPMpWKSpA8lUWHmh9POCyavh+wjKR0nRRn5lr9t+/bt1cR5sn7t+eefV5N+yOiqvqFCBnRtC05sW4FPd1uj4VPvYkiPNmjuIklIpLEInFn8EhYtmo3FZ7WvV8jfxMgoCZlZ1xEckolkWWeeW3gwQvYewa6tp7AyxAgJWSYwSbiGlICriLlmCj8vyTBaQC97SjIyQ4JwPTML1s5OcHHkVGkqeZIYUXIMSON1xowZePXVV9GpU6cb96nSUDfJ55Ij3wWTDgn9yLf8zYqTdCJLPSeDCfp6TkYbS7KeU+/jxiZK28pMXbqX+zBT2lum8u9SAnRTM3lsXEDQIf9u/SEn3XR6E89K8La3h3NyEq4FhtwySJGjBjiFUL7fwtENLZ74ADPeno6pfTyQdv5HvDa+Gz5achT7ZIFwgZR/h/y/9s+hm2Tppswg7dmzp272WilqU98NXftD3kPBiImNR1S0rvyGhDgknz2LY8u3Y/XZOJxLVN676QkwCj2GsHOpsDd2hLdzATN65ceGhyFSuVckWVnBR2mryOcgt7L3itEDJj2OzqjXrw/qO6cBWxZhxXkgVuthNLWwh717PTRs1EFpNHRWR407d+6gHM3Q0K8SPO2tbt+GITUciUHHsWqjK+o0awL/tlXzXXNhKHIjkIQPkulT1j1JIC6Ja+5l7bAhSQNHKvBLly4VeeuQikJeD3ld5EZflGy7Mg1K1hk99NBDaoZNWf/GNd3FQWqZOFw5tgv7t27HycBUBBxbgxW/f4ZPZ7yubn8mxyc/7cCW4zG4ZfWcuydcPG1QP/MiwoKV4DvPDK64tDTkZJ9E5OV/8MP7r2PGG8rPmjEXCw9mw6LjMIztXg0+bgUE30pjLTMkDBcy68Glihd8K3MnASp5sie07LAg+Uakc7hOnTrqkqjSRBql0pkpHaBhYWFaKenJcihJCCrbhBoug3P+pL0g9dzQoUPVAKg81HOpYWdxcfufeG/5SZwOybO+OjUZKcr7ME15nW2sZYqwLhqWUUsHR5cbz2+TdBkXzhzE/M1BMPeug9Y9BmHIww9jYP+28A3fgR0HTyp1VUG77eiShsaFp3PWVD6kU0Xeh9KRWKZZ28C4Zi00sAiCaUwMIvME3ymZGUhMD4WD6Tqs+XsmZr6ttD/e+hLvzTqIgKo90bZrK7Svl3eLU43kMQ8PQViCI5IdaqNJfdnu79Zwm8E3qbxaDkTnhtXROOkoFi/ai5PBiYi/l8HYtEiEBxzG/oMHcNFqMDq1bgX/OoZK+JE/Cb4l67NMjykt0/jyI40uWTdz5swZtTddRhpIqfq0ERfJdi7ZWiUAvxPpWJFRARntltkEVJyURgpsYONZDz27dkTVnGuIuHQMx47dPMLNm8G1cn3Uyh1nuNWAd3UftHELwvnL4YhJuLUDKsOxGuq1roGOzU1hfO0Yzp1UftbFVCS5tkDz8eMxrI0nvB3zD6pT42MRfvkCgt3awqeaF6qXrviGKijZr1uyY8t9SjpfSyMJaKTelFFG2f9egnBuiiPt6Rz1tQgJCVGDb8n2LJ298veUjn7ZtUQO2cXEUGQ9reQIkPePzAorD9IjL+HKzn/w5W9rsfNYAKIT05VGQDpykiIQfPIUAuKUANuzGprVdISluW700FKCbwcH5c2ahNTUTGTkzfkbcx7n9m/DL/8cwumIdBi51kS9Nl3Ro3sXtLE1QnKsElwnJGlfnEd2JpAchLDwFCQlm8G6jKxhprtk7QiTGm3g75ukvI1CcTXo1lk+WVZusK9RF8NHVIJ3TiAizh/H8TNBOBfliaoPjUfv3i3Qqlr+bU25W0ZfOYeQHGcYVW2CllWV92yenfAYfJPGDy0HDEb/UU0Q+dUMbD58Aaej0pCSUciamlykYspOS0JK2AHs3vkfft4cghYfP4K2TauDq23zJ9kgZYQhICBA3fNc1pGRLFlIUUcXQkND1denKME3lRQZeXBDw4HP47mfVmP16oKOH/Du4z3R7pZ+OF+4+/ihYScTHDiyF4GhkUjP1f/kWmcoRk6ahR9/zP1zfsVPXzyJR7s2QFVzU/0KwVtlZyAqPAgHjxyASZdG8KvirvyXiKgopPNaRlRlGrMEmnFxkhG4aO2A8k5eC5kNINtayjaY69evV5/Ldn6yjEAOSTylm9J66yFrsul2kvDKJDUV5tuWYdeW/dh3OgAx4YGIObsVG1dvQ0BqVfi17IsBjQEb/TRL5XuMTLNhgStKWyEFcXlWR2THxSD+zBmc2rIbS06H40xIDGKCLiHq/Elcv2YDX1dPeDkXkIZazVcUhNCUTGQ7OKKyJ9sf5ZMDjE2aoVk3FyRkXcWJ02eUeEc3aC1sPZugWa838MknK7Fw4Sp1e8FVq+Zj6eIP8Mr4rmhbxRX5zsnMyUZOVgqOHT6AKGdzeLWuq25hlneGMINvusm+Hmp3HoVZc0ahyvmfsGDBUvy6J+9CiPzlZKQgdP07+GneTuxKbovxz76LkTXtUKl0zfQudaT3VqbyX7x4UR1lIKidEVeuXFHXRcoMBiq/XOs3h/+4qei/60sc2HoMm69qF+5H7FFcPXEN63YNwLPj/NGsHhtPRHdLkihJx+eePXvYMayQDggZ7b58+bIacMvypvPnz+sGHpRrR44cwWeffYY33nhD3fJL1vLrp4TLUgOun8+ftY0Xavi2Rb8GZjj476d4YnRftOvSB/6jXsbspDboPGkC/vd4O8g23jcm+Xt6wb5RffQzOYuciATExGnlGpktnuUYqATYf2HOM70xsns7tOv1EiZ/E4bMJ2di/MNt4F+3gLZFhhKBBQXgampDmFdSAqcGWjmVOyZm5mj06IvoYRwKy/Vz8eMRQCZe3Je0cORc/xerNzVATd+uGD+olnbhVgy+6SYTK1i5VEG1dl3RoddwDO7QGO2qFW2bJyMTMyV274v2XftjcJfWaFevMtysTJBnmQPlIcG3VNKyvpnBt44E39LAkdeFwXf5ZmblDS+/3njsmfYwOrkdu1Zswv7om73PdyUnG4jej02bNmLDtST4PTMZPWp6wtsqz3wvIrojmXquD76Zk+Rm8C0Bt/jyyy9vZHmWkW3JLfPiiy/ivffew5o1a9TRcJnRJsH5iRMnsGLFCvVr6VYmrr5w7zQKU96YjrdmvIY3X38FL708HS+99jaeeXISBndqjrrudpAFRjdWeJt5wtatITq2T8fV8Eu4FHhrbgIr71Zo23ca3nt3Jj54fTpen/4SXpr+HJ59cTIeGdsX/jU94KG0T/OTlpqE04e2ItLbC+61aqABB5DKLUkUaO3WHj0Hd0GLquk48M33+O9qIsLu9XaXdAUBpzdh5i+bgF690aZrazRzyn/ZAkMjupWpJYwdq6BG827o1KwumvsUPfi2rdkZLVq2hX/9SvCyVW6qfHfdkQSXkv322rVrCAoKqvDrvuX3DwwMVA95XWSrMSrPbGBpVwutRj8M/3r2sI8+gsN7t2HVqThEJRV9+73MpCjEnVqNrXsP43CwGcyrNUWv0a1Q3c5S+S8Q0d2qUaOGGnwfPnxYXQpUkaeey+8uGc6PHz+u7k4iidZatGihXaX7YuMEq5pN0LpPX4x8+OEbe93L8VD3NqhXyRW3t0JtYe1cE23Hd4dj6CFcP3IYJ3Ntk2vlVAM1G/XFoEGTMGGC/ueNxtiR3dC+YRV421jcnihYpMcgMewi1m/OgneTumjWsioK2QyTyjwJUjxRo20P+HdviUaml3Hl4DpsOXoJp0LvLgJPvrYfJw/txJYT4Qg2aoBWA9ugaYNKKCjjFcMjohIkycEaNmyoTuuTSr2iT02T31/We0tiG5mqV5RtxqiMM7ECXDvioceGoF8bK2QcW4P5h2MQnngXwXdCOKIPz8eaoxmwrtUPQwYMQUdXpRFWvDsBEZUbkuxS8pJIvST35Io89VzqI3kN5JBRbtliqSxur1SeWDm5o/6Y6ehnHoD0QzuwfG8ootOVuuBe+4gyk5AQfhoXT+7Fzut90a1NW3Rtxo2+KwT7umjQpR+eeqkLKl9fh/1HzuJIYN69TwuXeGkbDh05hxPJ9TFy6ivoXdsbvoU0X3n3ICoFunfvrlbqkhm6Ijt69Kg6qiD7mFIF41ILtbpPxKRpb+KHET7wc8t3bCJfFu5+qDLiB7z17CRM6qb8nOLdYIGoXJItOnv06IGDBw+qCTArqujoaHUaueypLdnNZSaAlFFJkjlNrTDi9UfQwCkax775GkuCgNh72aVHxBzA7i3LMXPZeTT/9gn4t6iJKtolqgCs3WBbpwcGTvsS7z7aA8Ma390Gya7tn8LIKa9hxqNd0KYSYHuH3U0ZfBOVMAm6BwwYoFbmK1eu1EorpmXLlqmj3/3799dKqMIwNoWphTWsbWxhb2kCU+MC9nDNh5HyvSaW9rC1sYaVhfJzWLMR3bfq1aujX79+mDt3Ls6dO6eVVjySh+Tbb79Vk6zpd9+Q7UGpJEn9YAbLKl3Re8wQTBjihIRFr+GL5Uex63IB24jlIzs9GeGbP8WcJbuxJ6ER+o17AUMbuMDHVqlTtK+hCkDNoG8OC2s72FqZw9Ls7hoRxubWsLSyUb/XTHnj3Kn5wiYKUSng6+ur7lMtiW127tyJ5ORk7UrFIPumbt++XV1XJ9uLyetBREQlR3KSyLZjMv1cduTQJxurSGTnjZMnT8LNzU1NQletWjW1XAJyKgUsPeHTqAXa9uyIlrWqo7aHLRzuZr2RsQnMnarA07cRmjZtg65tmqGmgxlsbqRWJ3rwGHwTlTAZ+Zb1YzKlTbKnzp8/Xx0FryjJ1+T3lLV08+bNQ926ddGqVSv1NSEiopIj92FbW1uMHj1a3Y1DMp/L+mfJ4F0RyO8qCeck+J4wYYI66m1lpUt/LR3FVEpYu8CxZhu0H/wYHulUEw288s8wnR9jUws4Nh2JXr37Y1DbmqjmxGTBZHh8ixGVEk2bNlVHGWQEODg4uMIkuJH1c9Kw27Hj/+3dB3xV5f3H8W/2JAuSkABhbwSCohiUIYpKnThq3bOOqlVrq3aprdJqravav7NW66goIg5UVEBG2HsTViAJhJEBWZD1P7+TE4sIosCV5Obz7uv03Pucc5N7Ae9zvudZU93w3adPH+8IAOBosklBzznnHHc4kM1JUlhY6B3xf/ZZly1b5o53v+iii9x1u0tKStxjdlMCAA4F4RtoQGx5l0svvVQff/xxk+nit3LlSn322We6+uqr3TGGAICG5cwzz3TD53vvvddkemVZPWyt/yNHjvRK9PVN8dDQg8yoBAAHQPgGGhBb3sVmly0qKnK7utn63/7MxtNZy4KN+bbPnZyc7B0BADQUtq51u3bt3LHf8+bN8+tlMW3OFfuM69atc2c3P/HEE70jUnx8vLvfsWOHuweAH4rwDTQgzZo1U7du3XTssce6wXv27NnuRY6/jbGrqalRcXGxZs2apZycHPfCrmvXrnTlA4AGyG4MH3PMMWrVqpXbIrxhwwZ3glB/Y5/J6iT7jBa0e/fu7U6GWq9v377uuG+7aQwAh4LwDTQwNsbuyiuvVEhIiObMmaMlS5aoqqrKbwK4fQ77PDZ+0FoX7PNaV/vw8O8/SQoA4Mdl83HYMpALFixwbwzn5ub61Y1h+yz5+fnuTWGbaG3w4ME64YQTvKN1zjvvPAUFBem+++5z62d/YDf94+Li3LlXmspcM4fDhl3YvDx2zVLfEwL4IQjfQAN14403uktu3X///W63bH8K39at3j6XLd1is8gCABo+63r+0ksvuS3DH3zwgV+N/7bPMnnyZP3rX//S3//+d/Xq1cs78j/WDf1vf/ubO1HoGWec4d6E+C4W5l977bUG/ed0+eWX66abbtJJJ53kDnfDd7PVWWwCPluh5u677/ZKge+P8A00ULGxsRo0aJBOP/10/fGPf3QnJvMH1l3vz3/+s9uCYpW9fU4cvltvvdVdI/03v/mNX3YHPdKs54Xd4PrFL37hzjcA4OCsR5bNzXHFFVe4s4G/8MIL3pHG74033nAnOr3hhhvc79KwsDDvyDdZULU62T6/tYzbpGwH2iysX3XVVe6kog2Vredun+ORRx5xb6x89NFH3hHsjw2b27x5s9vybZMQAj8U4RtowKxl+Cc/+YnbtWnSpEluVzj74m+M7M7/3Llz9dVXX6l58+bu52J28yPH7sLbzQzrWfDcc89p48aN3hHsj7VIjRs3zr3otP/OAHx/p5xyivr166eCggK9+eab7gRkjbFusu9LWz5szJgxblfinj17ujO7BwcHe2fs34MPPqhPPvnEvYls9dmB2PKhr776qnsTvSFLTEzUxRdfrM6dO7vXGdazAd9ky8A+9dRTeuutt3T++ee78/MAh4LwDTRgNrGLTUR25513uhOw2d3z5cuXu7OxNpYLHQvd1m3e3venn37qjhO0z2OVvH0+HDknn3yy22pjF5LWfdIuJvFN1rJlN4Fs7V4LD/wbBH44GyNsgdJu+L399tuaPn26+93emMYM79mzx/0emDlzpt599103eNuYbrvZHRh48Mtj+/wffvih2w3ZQvz+tlWrVrlzuNg48YbOPvNdd93ltoS///777vekbU19Znf7e1yxYoXGjx+v//znP5owYYJ7DWMTxQKHgvANNHBWIVrXbOsea5W8dS/OyspqNF2L7X3aBcjNN9+sXbt26ZZbbnEr9+9zcYMfzlpxv/zyS/fu/Msvv+yVot4vf/lLZWRkuH8+X3zxBa3ewCGybre2Msfvfvc7/eEPf9Arr7zihtnGYuvWrRo9erSuu+46XXvtte4wL27G1Q1hshsL9j1pm900b8qsoePnP/+52zsgMzPTnevAZv0HDlVArd3SAdDgWYuCzUZqM7HWd3ezijEtLc07o+Gx5WimTZvmvt+zzz5b/fv3d5dtOdBYOhw5NqZ57Nixbgu4XSQ/88wzTTpo2vrEdlFpE+V07NjRbd2y2Zv91ahRo9wWGvv7B3zFejZZTyxrGbSQVllZ6Qa3448/XqGhod5ZDYtd9lo9ajffbOI0GwLVvXt3d9bvg3U3byq2bdv29XJq7733nhYvXuw+rmet+XbDwp9Yy/ajjz7qPfsfayiwz2qz39tcAA2B9VCw3pDWyw2ND+EbaGSsa5+FWWthaNGihTsjq609GhkZ2SBak+0usXUzX7hwoTtzqo0JTElJ0YgRI9zJZ/DjmTp1qrvZ17xdZO47VMGWeNvfjL6NmY1VtC6w+7L/NqxVyz5z+/btvVL/RfjGj81utNp4YevhZPN51N9sbSjLSNoN7PqlxNatW+feBLa1y4cNG+adgf2xlt59Z0G3Lvu2+RO78bK/f6s2cZ7dbGhIrd2E78aN8A00Qta68N///tdtzbPKwib+sNY8WwbGunQfLcXFxW5r99q1a93Z2a1ytjHrNpFLYxjz5q+s67/Ngm4XnHsbPny43016Z90C922lMfY5rVWjoQQBXyN842iw1lKbLdtuutp/cza3h+2tbjqarNeYff9ZnWl1k924PvXUU91u8/jhbNiOzQ7vT2zVCxuW1BgQvhs3wjfQiNV3LbY70zbZ1k9/+lP3Tr7d0bclYYzdtfWV+q8PuxlgrQr2fuymgAUgmw3UJq+x94OGyZbAsX87/uThhx925xVo6gjfOFps9nCbGdrmnLB6wW7y2dJkduPL6iW7EevLeslY3WQ9fewGsL0Hm1DNeoxZF3lbYtDqy++apRxoyAjfjRvhG2jErEVz586d7qzWdpFtF9upqam65JJL3PHgdrHjy67oNt7PujPPmDHDXW7GJrCx8X5Dhgxxu5hbK3xTaWlsjHJyctwuov4kKSmJi2oH4RtHS/04cFsH23qhTJw40f23aBObWRC31nBfjwe30G3hxH633QSwLvDWvdxWOLC1mW2YFuO70VgRvhs3wjfgB+xCw7p626Q3NibclgaxQN62bVv3Qse6fttkWzbm9XDCeH3YttnWbckm21t3Pgv8FnhsTJRNXGNd4Otb3gH8+AjfaAhs4i6rJ2ypyaKiInfMtdUj1hXd6iXbkpOTD3sSTmvdttVAbGUNq5usi3lVVZV7E9gmV7TfY3WhzT8CNHaE78aN8A34EetmZyHcJpyaPXu2e0ETHR3tLlVmm7UK2l3/qKgoN4hbq/S+m7Wm771Z2La9tZBaS4a1btvYbmtxt+6F1uXcWhVsvVe7oPJ1d0IAB0f4RkNhl5m2WVd0W1PbetxY/WM9o6xeshu3toyTPd67Xtr7sdUre9dHe9dPFuoteNtNZ6uXrH6ycqvvbNZ1m6Xa6kLqJvgLwnfjRvgG/Jh1+Zs7d67mzJnjjse2FgZrnbbJZuxCp/7ix/ZxcXFuC4FNlGMXL/UBu35vLRbWmm4tGenp6W7gtslqGNMNNDyEbzRUFpStPrIbxFY32Y3d+rrJ6iGrj/aum+yGsQVnu/lbXx/V1022WZi3+skCttVLttkKILRyw18Rvhs3wjfgx6zbXf1mrQS2XIh1ybOu6RayraXA9rZZK7aNgbNzrbXcWiPsoqd+b+tbdunSRT169HAvcuzc+g1Aw0L4RkNlPbT2rps2b97sdku3mcgtmO9bN+29ROLedVL93rqT24oftqyZDXeqr5cawtKbgC8Qvhs3wjfQRNgFjLUWWCuDTYZj48Trt/qZyn/729+6yzH17NnTDdg2KY5t9ti6ADZr1sxtjaD7HtCwEb7RWNiN4fq6qb4+2rtueu6559zjtlzi3nVS/WOrl6yF3OoooCkgfDduhG8ALpux/KyzztKnn37qdtsD0HgRvuEv7rnnHrdF3GYtB0D4buzokwPAZd31bIIaZikHADQU9ZOGAoA/IHwDcNn4OOu2xzg5AEBDUd+9HAD8AVfZAAAAAAD4GOEbAAAAAAAfI3wDAAAAAOBjhG8AAAAAAHyM8A0AAAAAgI8RvgEAAAAA8LGAWof3GEATNn/+fF1//fX697//rd69e3ulP0xlcZ4K1i/Q9Kydqqj84V8t0e37q2uHNuqaHO6VADgUo0aN0oQJEzR58mSvBGicHnnkERUWFuqvf/2rV/LDlW2ar1Vrs7Uir9wr+f6Co1sotvMADWgXpdiIIK8UOHruuusuZWdna8yYMV4JGhPCNwDXkQjf5bmLtG7qm3r2iy0qLq/ySr+/pJOv0RmDj9fp3WO8EgCHgvANf3EkwnfBnNf16eSZ+nhhoVfy/YUnd1brU2/SjQObKzU2xCsFjh7Cd+NG+AbgOhLhu7a2RrU11aqu8Qp+qIAgBQYGKMjZABw6wjf8xZEI31Yv1dTUqOaQrngDFBAY5NRLzqMA6iYcfYTvxo0x3wCOmICAQAUGhSgk5BC34ECCNwDgiHLDc/B+6pzvtQUrOMgJ4ARvAEcA4RsAAAAAAB8jfAMAAAAA4GOEbwAum/6hurra3QMAAAA4sgjfAFzl5eXKyspSRUWFVwIAAADgSCF8A3BZi7cFb1q+AQAAgCOP8A0AAAAAgI8RvgEAAAAA8DHCNwAAAAAAPkb4BgAAAADAxwjfAAAAAAD4GOEbAAAAAAAfI3wDAAAAAOBjhG8AAAAAAHyM8A0AAIAGqaioSAUFBd4zAGjcCN8AAABokEpKSrRz507vGQA0boRvAAAAAAB8jPANAAAAAICPEb4BaO3atZo5c6b7eMaMGVq/fr37GACAo6G6ulrTp09Xdna2Nm/erEmTJqm8vNw7CgCNE+EbgLKysjR16lTV1tZqypQpWrNmjXcEAIAfX01NjSZPnqx169YpNzdXEyZMIHwDaPQI30ATZzPJWtheuXKl+3z58uVuGLdyAAB+bHv27NGWLVu0aNEi5efna8eOHZo/f77y8vJUUVHhnQUAjQ/hG2jipk2bpqVLlyooKMh9bnt7npmZ6T4HAODHZIF7zJgx2rVrlwIDA93NAvnHH3+sTZs2eWcBQOND+AaauLlz57qt3Ta+ztjewre1MgAA8GOzlu5PPvnE3Vv3c9tsybEvv/zSbf0GgMaK8A00UWVlZZo1a5Y2bNjgXtTYeG9je3tuk65ZMKeLHwDgx2It2wsWLHCDd2VlpVcqVVVVuWVLlixhUlAAjRbhG2iC6gO2deGzcXUBAQHekf+x1oXx48ertLTUKwEAwHesbrL5R2w41P7qJTNnzhwtXrzYewYAjQvhG2iCrGt5YWGhO8O5ja2zLn17swsgC+U287lNvFbfJR0AAF+xcd024acNe7KW7n1ZXWXB24ZK7d69++seWwDQWBC+gSbIuprbeDoL1QdqXbBy6/L36aefuuusAgDgS3ZD2IJ1/QSg+2OTr61du9Yd/73vjWMAaOgI30ATYy0FNqbO1k+1NVMP1HJg5XbcLnBycnK8UgAAjiyrb2ybPXu2Vq1a9Z2h2s6ztb8tqBO+ATQ2hG+gidm4caM7m7nt99etb2/W8m2t5MuWLSOAAwB8wib2tO7kFry3b99+wJvCxo7ZsCk719YBt/lLAKCxIHwDTcyaNWvcbuRxcXGKjY39eouOjnaP237vcjvPArh18wMA4Eiz1TdmzJjhjvmOj4//Rh0UFhamkJCQb5RZvWRDo+w1xcXF3k8BgIYvoPa7bi8C8Ds2wZq1fC9cuNArqWPd+P75z3/qtttuU9u2bb3SOv369VPPnj2VlJTklQBoyEaNGqUJEya4w0uAhs4mT7PhUBamt27d6pXWGTt2rLvqxuWXX+6V1LEAftJJJ6lNmzaKjIz0SgH/d9ddd7mNKGPGjPFK0JgQvoEmxloWrJvezp07vZI6Ntbukksucb/M09PTvdI6MTExbot4aGioVwKgISN8ozGxsdsWwK07udVRe3vggQfc9b3/8Y9/eCV1goODlZCQ4LaMf9cEbYC/IXw3bnQ7B5oYC9B2wdKuXbtvbCkpKe5x2+97zM4neAMAfMFmMI+IiFBqauq36p9mzZopKirqW+WtW7d2W7wJ3gAaE8I3AAAAAAA+RvgGAAAAAMDHCN8AAAAAAPgY4RsAAAAAAB8jfAMAAAAA4GOEbwAAAAAAfIzwDQAAAACAjwXUOrzHAJqwqVOnavDgwcrMzNSAAQO8UgCN0ahRozRhwgRNnjzZKwEap9tuu03jxo2jXgI8ixYtUq9evTRmzBivBI0J4RuAi/AN+A/CN/yFBYwpU6Z4z4CDCwgI8B75r969e+vaa6/1nqExIXwDcBG+Af9B+AYAoOFhzDcAAAAAAD5G+AYAAAAAwMcI3wAAAAAA+BjhGwAAAAAAHyN8AwAAAADgY4RvAAAAAAB8jPANAAAAAICPEb4BAAAAAPAxwjcAAAAAAD5G+AbQ9NRWSXkvS9l/q9sqNnoHAAAAAN8gfANoOsrXSsuvkWb2ktbc6wTvR+u2ZVc4B2vqzgEAAAB8IKDW4T0G0IRNnTpVgwcPVmZmpgYMGOCVNnI750pF06SK9dLWsU6+Lq8rD2stRfeWUq6SNj0lFWdK/WdJER3qjjcRY8aM0cqVK71nTcPPfvYzdejg/3/Po0aN0oQJEzR58mSvBAAAHG2EbwAuvwjf1p18y1tSvrPtnOMV1guUmp8mxQ+Tki+WgqLqitf/yQng/5B6vCK1OKuuzI9t2bJFK1ascB+/8847Xz9uKi6//PKvw3dQUJD69eun6Oho97k/IXwDANDwEL4BuPwifC+9TCqYUPc4OE5qli7FHC/Fnug87vu/wL23wknSypukY0ZL0X28Qv9iX/OVlZXufvTo0br++uvd8rfeeksjR450HzcVI0aM0Jdffuk+ttD92WefKT093Q3i/oTwDQBAw8OYbwD+ofCruuAd2U3q/Z6UkVUXqNveLcUN3H/wNvFDpRNX+W3wNhUVFbr66quVkZGhGTNmuDdYbBs61PnsTcyTTz759ef/4IMP9Oc//1ljx471jgIAAPgO4RuAfyhzArRJvsgJ2yfXPYY7pvvee+91u1dbAD/33HN17LHHult8fLx3VtPRpUuXrz9///79dckll2jhwoV67bXXvDMAAAB8g/ANwD+Et63b24zmcC1dutTtelxUVKQLL7xQt912m04//XTvKEJDQ90J2Nq3b68lS5boww8/VHm5NykfAADAEUb4BuAf4k6SAkKl7eOl6l1eYdP27rvvuoHy1VdfVbt27bxS7Ou6665zu+Q//PDD7gR0ZWVl3hEAAIAjh/ANwD/YmO6kkVJVkVQw0Sv8HnYtdLZ53hM0VcOHD9dTTz2la6+9lknKAACATxC+AfiPqG51+8ptdfsDKVkkrblPmtZKWnCas50hlS7zDvqHhx56yN3//ve/d/f4blFRUUpMTFR+fj5dzwEAgE8QvgH4j7A2dfs9W+v2+ypZKmX9Wpp/qpT3kvMNGF43E3rLS5301d07yT9MmTLF3dvycQAAADj6CN8A/EeA95VWW1O3N7s3S5tfrVvLe/4w5/G/69YA7/CANGCF1Pt9qctTzol8HQIAAMB3uNoE4D/CWtftKzZK25xQvexKaVZvKetuaesYKbKj1PUfUsZqqfUvnG/A0LrzAQAAAB8jfAPwH4EhdfudM6QVN0g7PnECd2cp7U6p91ip30Qp+RLnhIC68wAAAIAfCeEbgJ+okba8Wfdw9xYpooN0zGjpuGlSu9/WLUVmY7wBAACAo4DwDcA/rPuTlPtC3eOoHnWhO36o84SvOQAAABx9XJUCaPy2viPlPFs3kZqxVu8Arws6AAAA0AAQvgE0frkv1+1tBnMAAACgASJ8A2j8asqc/3O+znbn1j0HAAAAGhjCN4DGz102LETaNs4rwOGztdJLVJC7TAtnfKSxY1/Syy+/pJdeqtteffVVffjhh5o8eZ7W5m6X3f4AAADAgRG+ATR+yT+VTlwhdXnMK8BhqapQdXGuclbPUeaX4/Tu6Of1wiuP6MknH9fjjz+qR0b9Xn/6w1364x/vd56P1uQF67XDeykAAAD2j/ANwD8ENXO2GO/JIaguk4pneU+auMI1Kp04Sg+cf6Vu/9tELQgbqjv++p4mTp6qzMwPNPql23X1iGQtWbJUn366RvPW7SR8AwAAHAThG0DTVbvHCdyZTticJC27XFp0lrR4pFS+1juhCcrJ1KwPX9SFD0/QeA3SqVfcoF9eM1L923dS84QExcW1U5d+QzRk6Gk6tbpaka0SFRUbLW+eeQAAABwA4RtA01OWJS25UJrewQnc5zqPL5aKptYds33J0rrHTc3OFZo38WO99fp0fbUiRek/vVDnnDNEGV3bKSEiQoEBAc5J4YqK66b2nY7XsH5S5wFd1Do1Uc3rfgIOUXV1tRYuXKh169aptLTUKwUAAP6E8A2g6aipkFb/UpqbIRV+5XwDhktxA+u2Vjc6SfJxKX2ClHiO94KmpXjNZ5rw6af6cFaJErufr2suO1nHd0tWtHf8fxIUk9xLJ182VD85+1j1bpekZt4R/DA7d+7U2rVrNXv2bHcCu5kzZ2rLli3eUQAA4E8I3wCahqoiadmV0pY360J3219LGWuk3u/XbR0fklKukJqlOydbC28TUlvrbNVa+vl7mr9sgYo6tFafG0eqf3yMkrxT9hXTuo8G3PWFHrh0sIZ2/nY8x4HVOn/e1tJdWVmpJUuW6Pnnn9ctt9yicePGafr06Vqzxvl3CQAA/A7hG4AfqQ/N+4RnG9M9d2DdPqqn1He8E75/4x2E9uyQct7RpxO3aXFWD7VJGaJLz0tVbEywdwKOpKKiIo0dO1Z33323HnvsMc2dO9ctt0BeU2NLvAEAAH9E+AbgP0Jb1u337NVt19b+Xn6NU7ZVanGWE7w/lqKP8Q7ClBVt1fJPntfsdXnKTeygFn3TNSgxTFHBVBFH0ooVKzR69Gg9/fTTbhfz+fPnKzs72w3jAADA/wXUWv83AE3e1KlTNXjwYD3wwAPq3LmzV9r4jEy5T0EBVXp386PqHv2l+sR8oJraYM0tvkhrS0/0zvJ/f/nLXzRy5Ej37/O77dGOrOn68v7TdP/n1dra9zZdcN0deuGSDt7xpsMmOxs4cKCeeeYZXXDBBV7p4dm1a5c2bdqkvLw8N2zPmzdPWVlZCgwMdFu69zVgwACdd955Ov30072SQzNq1ChNmDBBkydP9koAAMDRRvgG4LIJny666CLvWeP1r7t2a1h6td7PDNbpx1bJJui+47kwfTInyDujadi6davuueeeg4fvmu3KXfyZ/nPjVXp+eaBaXvyQrrr1N7rJhr43MfXh+/7779eZZ57plR6e9evX65NPPtHEiRNVUVHhln1X1/L09HT3dw8dOtQdE36onn32Wfe/acI3AAANB+EbgGv37t3atm2b96zxCi+foRabb3Ef1waEaUfLJ1QR0XRavOtdeumlOuWUUw4evosXa8XkN3XHz/6m2RWddOId9+qGO6/R+W28401Iffjes2ePIiIivNLDU1VVpfLycjd4f5/qNjQ0VC1btlSbNm3c4G6vPxTW4m5BnvANAEDDQfgG4H82vypVbpcSz5ciml73aTN8+HBlZGQcPHznTtG8j17QiFveVEHNEF10/+26+Z7zdPLe2bNsk7ZlTdOLT4zXmrLdKvGKAwID1ebMOzRy0DHKaB/llR6mPaVSQZZmTv9KC6o6qVnHDF1+XLx38MBqa6pVMONFTcoO0faYdJ10fD91bi6F/YAOD/Xh225cnHDCCV7p4dm8ebNmzZrldjm3UG++q+W7S5cu7nuw328B+nCq6MTERLcFHQAANAyEbwDwQ987fK//QrPef1YD7x6n6vhLddP91+uXtw1RN++wq2KzCtZmavSzL+nND2drYU6BdscmKzF9hC67/he6ZHAPpScFqWpnsbZsXqlVOWu1cUuRiou91ye0V7eex6hv1w5q+V2rklVs1Y71S/Xlm1O1PTFae9ocpw6d++qcXrHeCQdWW1ujogWjNXvtFi3eEaHq0BSdPHyYuidFKSHUO+kgfDHm23qTLFq0SMuXL3fHetvvsPHfNuZ7fyH8SI35BgAADQ9T2QIA6rRMUFRslGK8p18LT1FC56G66e5zNaBziuIVqZiUvhp404O6/oxeSm/thN2SAhUvn6bP3nlRr/33Rb3y9mt68w1ne+VJPfHY03rx1QmasnCLLI9/e5oxU6riTfO16LNxeumdTdrd8WwNHzb4ewVvExAQqPh+l+j00wZpaFqR1s14W+MnrdTqLSUq9845Gqz1+dRTT9Xtt9/utqgPGjRIXbt2VXJystvFHAAANB2EbwDAD9RZyYmn6KqLWquF16xcvmOlVn31V/3p/95RTtL5+vmjHytzsrO98yvd3ixX2c++rL89NFqznXNL3Vfsa7XmfDRWo1+YpXaPPKsRAzqrezPv0A8Rm65+J52nP1/ZV6t+96qmTluu9d6ho826ktva3k888YRGjBih5s2buy3gQUFNazJAAACaKsI3AODgbObtvE3KrihTfos4hbVPVZvAAIXZdPKuWtWGRatm6D0aMeRUDe/YXMERztbmAvUZkqS0TrWqrqlxztq/HTMma/6ucGUN/4XuGhiiNjEB7kz1P5jzosCoNEV3OE3nnzZdMxdO1tgvGkb8rg/aFrptGbhHH31Ud955p/r16+ceD3Deu20AAMA/Eb4BoCmLT1BUWnv1d0JfdH6hSneWapd3aG+7ndC9ZuE0bS3aobDWyUo7prNaO+X1HadDm3dQ28E36J7rL9IZ6R2VFOUcccKmIsJUGxyo2rgohSbFKcE5N7juJR6bhGytFn0+R3k5QUobMFSdEwIUGVJ39BtKsrRh7n/15j/u0x9+d5/uu8+2v+jBx97V85k7lL/LW5orKEJhsa100sDWqlqbo+Vz1mqDU3zgac5+XNbdPDU1Vb169XInRPvZz36mW265xR3v3aNHD6WkpHhnAgAAf0L4BoCmLK6VEjr308ieCUosW6fVWWs1e32R2zW8LqzuVnnBRm1YkKl3vlygvO071TwlSR27dZTNQV4fpEMT2qr1CZfo1uE91TO1mSory1S0faPWZ36lFVtjFN2tr04Y3FWtnHO/kaurd0vb5yhzTp62FUWqb9fW+2n9tXeyQ5vmfampH76vcZPnaNGSJVq6dJ5mTxyrT8a+rTfmFmpH6f9GkweHhqlt/yFqV7ZDu7NWamGB81Ma4PSirVq1cgP41VdfrXPPPdedJC8tLc07CgAA/AnhGwCatGQlJB+nC39xgtp1WqsZcyfr5ffmadWOHcp3th2FG7Vu/iea9MqzenZqjbILw9QiNk6tW7bwXr83S7eVqthVrC05WZo/dbxG/+YpTdp1jPpefKl+c8OJsjbdb4Tv3U74XjxPCwujtLlZSzm5/ttqq5yQvlhf/HuMPvisWqHnvqzXR4/Thx++ppcePkM3DilSTHiQgvau0Wwys2PS1TshT/H5y7VwabWqqxvu4h4hISHuDOfWBT0uLs4rBQAA/oTwDcDn1q9fr4KCAu8ZGprQ5u3V6qJ/6i8PXK2b+mZpx7vX6cKMDA12toyLb9Qv31+lvH5X6vlR5+mCHueqf6se6tPTe/E3WBfy+frowdv06+Ejde3tj+vx+XtUGZWk+LiDzVqerGbNmit5f+HbluTK36JtpaWqcJ5ad/e6yquFWg24Vef/8iX986JWaneANcV2lpQod8vWw1ozGwAA4HARvgEccR9//LFOPvlkd2yrdSHu0KGDzjjjDO8oGprA4DCFxqep18DLdfXV9+nBX9+vP9x7r+5ztntvvEW3XHSRzvnJ6co481bd+vAvdfXPMtQzwnvxN1gn9DT1PvtnuvK3v9fv7rtbd918ouI2TNa45/+r/3trnrY6Z3gjs13V1VXatnWLdldUKigwWCEh7pxp3xTg/NyY/urZu7cSgzfqy9fu16N/+Zc+n7NZBUpSXFJbpcWHKix47yrNHrdQfHK4ohNqtMcmjAMAADiKCN8AjqgvvvhCZ511lqZNm6aePXtqyJAhOv/88/Xggw96Z6Chikrqpd79z9XIkdfommu87cILNXLwiTquW3vFtxmgE8/KUP9j2zqRd39syawUdRl8pkY4r736mit07bVn66TWu1Sw8FN9NO5TzciRSq2B3FNTU6OSXcWqrPqOcOyEckV3Up9TztHQU49V28DVmv/Ff/T26y9p7JeztdgS/bdY9RatyNgQRR7KkmUAAABHGOEbwBFlyyeZd999VwsWLNCkSZP03nvv6cwzz3TL4Z9q9pSroiBfhbuqtNvL0SERzZTYc6jO/kkvpbfK0/bVX+mL5dIu6zvusZ4RIaGh7jJc+1WzR9UVBcrJ36XYvqfp/Jvu0h9uvVAZXQu15MPH9K/X39aYpWXeyXurG39eubvGXSUNAADgaCN8Azhi9uzZ44ZtWyrpggsu8ErRFJRtWqV1Y/6pcVOLlb3dK/wegoKDlZLaVhER0V7JPsrzVLruXT3w3BRlLt6qqKT26nHGdbrj6dd159n9lFSZp+mLnUT/LTbz+WZt21Smgry6EgAAgKOJ8A3giNm4caOqqqrc9YvRtJSX5GrNonf08l/+T59OXqXsIqewsszJv/M1dewSLc9OU3KvETovXYqLrHuNCXD+FxQUqICAbdpVWqBt26RvzItWUaqq9au0ePwMTViUr4U7gxQcIEWWZKkku1QhFZFKbb6f2cGrnfCdn+dO0rY7IkqpSYn7WcIMAADgx0P4BnDErFmzxt3bBGtoWgIjYhSW1EbhBXP15bvP6++PPKSHRj2mh/42Rp/ktVXqSRfoskuGKz1RiqhfHNzYDGttO6p99E7F7NqqzfuM395TXaWisiKFVX+lzE+f09Puz33c+blfaklQT3UZeJLOsB+6Lwvfm3OUW5aomubt1b1LhAIDCd8AAODoIXwDOGI2bNigyMhI9ejRwytBUxHZor06DrpaF57TWTE167V01kRN/GqmJi4sUtAJ5+gn11ykK0f0UIJz7t7ZWyFhUscTlJ5Wq+bVm5WVXfyNJcGqQ6JVk9xZw86IV2rgGmW7P3e2Ji4IUHjG+Rp6/qk6rde3lzGrqapU4drlygtKU1jbHkpv61R41HgAAOAoCnAuclj4FMBhs68S626+fPly5eTkqFWrVt6Rb5s3b54++ugj3X///V4JjrThw4crIyNDDzzwgFfSsC188ad6bl6lFrW5Q5N+c5JCgwN1yA3VtTWqKMrV9L8O1qjii9Vz6JV6+qcHvyG0bt06DRw4UM888wxzFgAAgCOOdgAAR8T111/vBu9TTjlFWVlZevLJJ93gZ9uNN96ooUOHult6erqOO+44t9zOB0yX867SKWmx6jT+aT02s1Y5O70Dh6I8R2XrP9e7nwzUiX2HaORp7b0DAAAARw8t3wAOi7VgW0v3LbfcorCwMEVERKiwsNA7un/WIvurX/1KI0eO9EpwpDW2lm9pmzZmjte09ybp7dW9ddE9F+vk9NZqu9fkbN9LyRqtXjJV4z6drdzaM3X6Bcfr+D4t1dw7/F1o+QYAAL5E+AZwWI4//njNmTPHeyZ17drVLbNJ11JTU9WlSxfvSJ0hQ4Z4j+BLjS98O0rXK2fRDL30168UfdZgtTrmWHVvk6a+rSO8Ew6strZG5RvnaN2m1ZqzaosWZAdo8GXX6cS0eKUe/OUuwjcAAPAlwjeAwzJ79mxdc801bhfyMWPG0JrdQDTK8G1273SXJ/v4gzH6qjJdcb1/ot+eluwdPLDammpt/ui3emdFqHIThuq8M05Reso+M6sfBOEbAAD4EmO+ARyWmpoaN3gPGjSI4I3DFxottR6gU65+UPfdcLF+cVIL78BBBAQq6dR7dc1Nv9J9l2ToWCd4hwd5xwAAABoAwjeAwzJjxgx3f/HFF7t74LA4IVrB4YqISVB8TLRiI75fgg4ICFBwZLxiYuMU3yxcYcFW5h0EAABoAAjfAA7L/Pnz3X3fvn3dPQAAAIBvI3wDOCy5ubnuvmXLlu4eAAAAwLcRvgEclk6dOrn7iRMnunsAAAAA30b4BnBY6idZe+yxx/TCCy9o8uTJmj59unbv3u2WAwAAABBLjQE4fOedd57GjRvnPasTHBysd999V+eee647G/rmzZs1bNgw7yh87e2339aKFSvUunVrXX/99V4pDmTBggV65513FB0d7S4zZuvVAwAAHEmEbwBHRGZmpj7//HPZV0p2drbefPNNVVdX6+abb9azzz7rhvHS0lKFhIR4r4Cv2d/BlClTdM4557jrV8fGxnpHsK/XX39df/zjH91eGykpKV4pAADAkUP4BuATU6dO1dlnn63i4mK3NfHPf/6z7rjjDu8ofiw2DOCKK67QW2+9peOOO07h4eHeEVj1Z/8+7SaR9dywm0Qff/wxkwcCAACfIHwD8Jn8/Hy35TUjI0OtWrXySvFjst4Ga9as0b333uuG8EsvvdQ7AvuzsT+PlStXasiQIbrnnnuUlpbm9tIAAAA40gjfAODnKisrNX78eM2ePVt5eXlq0aKFfvvb3yo+Pt47o+lZunSpnnzySfXp08ftmdGxY0cNGjTIOwoAAHDkEb4BoIl444033G7oYWFh6t69u0JDQ70jdc466yy/G+88adIkt+V/X9bdfMOGDW5rd5s2bbxSAAAA3yF8A0ATk5OT43ZB37p1q1dS54EHHlCPHj28Z/7h6aef1rRp07xn/2NDIV588UXvGQAAgO8RvgGgibEJxkpKStwJx/Z28cUXu13T/Yl1Lbel8PZl47qtuzkAAMCPhfANAHDNnDlTBQUF3jP/YGO6mewPAAA0BIRvAAAAAAB8LNDbAwAAAAAAHyF8AwAAAADgY4RvAAAAAAB8jPANAAAAAICPEb4BAAAAAPAxwjcAAAAAAD5G+AYAAAAAwMcI3wAAAAAA+BjhGwAAAAAAHyN8AwAAAADgY4RvAAAAAAB8jPANAAAAAICPEb4BAAAAAPAxwjcAAAAAAD5G+AYAAAAAwMcI3wAAAAAA+BjhGwAAAAAAHyN8AwAAAADgY4RvAAAAAAB8jPANAAAAAICPEb4BAAAAAPAxwjcAAAAAAD5G+AYAAAAAwMcCah3eYwAA8KOpUXVllaqra5xHjsBgBQcHKTgwwD0KAAD8Cy3fAAAcFcs17eUH9auMDGUMGqqM372nsQu2eMcAAIC/oeUbAIBDUqjiLcv0xeNjtahstwq80oOJatFavc+/S8NaTNaXT/5T/3hsnGYFhUkDf69H7rlQN43ophjvXAAA4D8I3wAAHJIdKsxdqI8eeEOfLfhMmevztN4SeECAWqefpi6tmys5qu5MU7g2U2vXFWpX88G6/t9v65rUJcqeNFHjP1us3MAQqc0ZunDkQA3rn6ZY7zUAAMB/EL4BADhkVoVWadaT5+mZ/4zX6/ODFBDUTBf/43PdfNZxGtym7iyz/L836ZVXF+uzgnM0atJdOjEyVM29Y01dzZ5SVZQWa/vOStVGxCk2OlJxkSHeUQAA/ANjvgEAOGSVzpanbVsqVOz2O2+uwIBzlN4rXq1S7Pn/dDr7cp1yyVU6rVOq2gYGKNwrh1SSNVlTn7lKQwafpIxfv6ZXMnO8IwAA+A9avgEAOGRlzrZI/7r0V3pl3AxNq22r4PY36JW3rtbw3q2UVHeSp0jLP3tH4//1kibXtFGoAhTklDbv0EfHX/p7ndvFeRxRd6a029lWa8Jjo/XVrJXOo3rH6bjjpNjYzfpySqHU/wqdFTlDNXmLNX65d4paq/fwETpt5GkaUN+0npOpzClf6ImxS9ynvc69Sp3Cy1Qz03k/m6Qqd7p1771c8hudqw805pPp+nzBTjVr0VMj7rxBJ6U1U8twJyjnr1LWuD/oP3Nqtamo7nVB4ZFKG3Glum/LVFFWtpbrGOc1P9fA1Agl7ecuQ3neEm2Y/oaeHL9RBSWVqizO1bbs5ZqZVay+d47WHZedqSv6RXtnAwDgH4IecHiPAQDAD7FnlxNsJ+uNN6coc/U2VTRvrZanXKYrT+2ojvERCinNV8n62frP1B1SZJyax0pRocUq2B2grfMmacHs2Zq7sVzbovtrQI9YJUSHKHhPgUry5uuTt97Uf19+R5OcQLojobP6tG+hsqzZyl47TdPmztLEKctU2W2YujerVGxAsfKLtmjZexM0Z8karQ9MUGi7HjqlfTP3be5YOEafv/ey/v7mTC1fXqmWJw5Uh7RYxZXmqjBgp7I+n6p5M+dqUXaeNhft1ra572nMR59rwpQNyt0Wr/RLhqlT810qXpSpSa++oXfGvqJ3F4eqJiZZHTrEKTa8UNlz1mjFpI80ZX62Fpe31dDzT1a7mFBFB7tv4RtqKopVVpCrdQUB2rl2qlYtW6i52QGqVVeddcMVGtq/g9L2Gi8PAIA/oNs5AACHqKaiXBVL5mt5cZE2Oc9DgmvVPG6P8lcu1eJZszTrqy80ddxb+r+Plmhh7i5FdjpJJ1/ziP7291/p0v5p6hgpFRfu1KwZc7WtrEyVKlPJ5qVa8sGr+vt9L+qD1SWqPf4nuvCOh/T444/rNxdK4SWrNWvWDud3xeiEXinqMfR6nXn9/Xrgnos0OCJMcdqq9bkbNG+5LVtmndt2K3fjWm1YkyUFhEmRGerYtpNOPP0MnfPrv+ixx2/UeV1aqbVzZvHWTZr+wb80Zs42VTdrq+OPP0H9j+2nri1DFFA0SzPee0b/fPifemFGokJ7XaRLbv+DRj3xJ436w8XqsfAzrZi/WgurkxTRtY96JwUr1vl1+xOW2EUdTr9TDzz8kG4/r7eOt18e2EyKGqyu7ROUmlh3HgAA/oTwDQDAIaqqqlRezgZVlFv3c6k0d7kWPnGxLjt7iDJs/e6z79RlT2zTmZefrhN7pTnB2Ng48VxtWb9bRVudh5HhCmjXWsmhIYrSei2d+qH+cfu/Na+oTDvTztKAwSN0zbAkBTinJrXsoGaxlkxjFBTYU61T2iqtdaTi452ivSTFxah9y/oEu1WFO3Zpe77zMDhI6tZGCXFR3nvZR2JXRV70pF57/3NlZmY629v6YPTPdVpClLa//29NnPihpijBOfEc3frrC3Xe6d2+PWlcs2gFt05RamDgQca1VzvbZu3YWq7C7c7DiFCpVzslRocz2zsAwC8RvgEAOCSlKivdqDlTl7nhVuqk9n1u1qOTJ+nDSZM0adIreu7vv9SZ3U/UyWkRSowMcAO09uxxsneOtlRUyIZMJ8bFakTG8YqNilTA+jXKWbNKX9TUqsI51uaYrurcub2SA51XBgRoW/567Sp2kmqzFgruebLS0yKVFOX83G1bVLJonj6prnKithQX00ypSRa+reV7qwo2l2jbJid7h4WpS0Y/tU9uURe+S0uk2dM1o7jIHVeeGB+nEQNPULzz+qCgoLqttkyBWz7S5K9yNGeZ8/PiY6SzBqlXizi1ct5XQHm5qvPylFNVKftTSEtJ0tBj+yjECfru5z2gKmfb7LyvMu3YLIVHR6vH4BPULj5WdZ3lAQDwL4RvAAAOSan2VORp9cJilRQ5QTImWXFdjtWQQYM0yN1G6OzzR+q6X5yh3smRivHGPleVl2rH4jlas2untskJmlGtdEzneIWHBaskP0/bNuc45ZLNgZbSKkUpSS0UpkonyO5Qfl6xE76d8B4VraCOXdS2WZj7cyuKC7U9e422VFdrt7ooJbmdunUKc7K3E5azV2jN5nwtK3fCd0iQ2ndqr+YxMQq197K7QjuyVii/rEQl3nvp5b2Xr1XtlvKWakVekdY56To0MlxpfboqMSpCNj/cHud3b1s6T6udn1Ws5kqITVXX9rEKCjzIJUZlpbR2iZZvLVBWhRQWHqZO3TopLipSLDIGAPBHhG8AAA5FeaEq8tdqYW61ip18Gp7SQi26t3PHTluwlVqoZdvuOuWCPmoZHeaVOWHVCd+5i2Yqd1eRdoW3UnRiV3VzXhTuJM4yJwSXllr7sVXPsUpuEa+EuEip2knOpSu1fkOZthVIIZERSmibqviQYCeY71ZR4Taty9qgaid8K7qnklPaqVOqZe9alTvhesP2rcp2Im1wUILapMQrOsreTaUqnM+wenmW8zvLnDdQ9166t6p7L/VqqqpUlrdR+eVl2uk8jwgLU7e2rd29KS8uUM6SOcrZXa4ypTgBvqVSk51PcJArjJrKPSpbuURriwqU63yKsNB4tWsd7/xcojcAwD8RvgEAOATV+ZtVtHC2Jjrh1FqqE9NS1bVPdyd+1ofv/alR5e4y5WSvUkWFE3gT0xTTqaf6tXRCrZM5A53EaptkLc/tFdss0gmz1aqpKFL56q80b1WxNjrhu5kTvrultVKYE75tCbPt+dlaNn+9qm3NsDYt1CwxVgnVldqza7vWbshWQVGxc16sgoK6OuE7RFFOnpdKVFayUbOnrNTOQue9JLdTbJdjdJzzXiL3yr/V1c7n27HVbSW3dxbi/M7kFs0Var+7ard2FW9T1ros7dljY9mbKzKyuZKSDha+a52fu0e5m7JVWlLiPE9QaGgntW0VqHAWQAcA+CnCNwAAh2Drlo1aOHeiO+ma+d846+9S6oTUrcpZXyvL3vuKi2+h+Oa2Orj9zBVasmq9sjbkaEfOYr3z8FOatTHPDfqREeFOUE1VSPCBW4l3bpyv6Y8O0u1PfKjxC2xGs2gnfLdVSkrw1+F7d3m+spfVqtzyb3yswlMSleo83PunBodHKrX/SerWPNG9sVC4c5fGTZmpHcW7pI1fadnksfrjJ9L20rrzv58y7a7YqHnTl2l7vo18j3XCfCu1aRWg8APMkA4AQGPHOt8AAPxAL7/8sv7x3EuaNHetNhZKNbU2lnuntuRv0azSRB2T2kzxUfsLxgEKqqpQTGmWJizboZytharYsVZZCzK1tKKNEpJaKy0uSM1KV2vRxiIVb8/XpiUrtHTeau2q3qy5G0pUXJamdj2H6YKbhuuYWCesBgUppKJAtcUbNG7+VidQ79Su3KXK3rhZ5Z0u0Ak9myuseKe2bcrXzuoCbds4T5kLClSYn6vQovl6evRc5VXVqFX/03XKGefqzC6R35goLSAwSEGRSWqhAhUVb9e8tfnanb9GeYsm6/OsEm0JaK6zO1ZpbtZ2lVbsUvmuDcpaskhfLKhRQmq8WjSP8noC2Cj2NZr1xut68/Hn9fKHn+qz6UuVtb1S5dVVqtqzVXlZMzV1Y4hCImLVrWW0+yoAAPwF4RsAgB9o8eLF2lZUoaQO/dQ3vZ/69eun7h1aq2WLOAWn9tRJneIVv3ff7a8FKTgoVInNo7UzNFVpbduoa5sERYaEKL5Tf3Xt1FFdWrdQ++RIKa6TOrdOVHJMpIIDahS+e52WbNilmhYZOvbU83TVyC5KCrIO6iGKCA1Rs/h4lYal6piubdQ2KUbNW3ZQtzNu1tn9k5USm6CExBR1PKa1EsNDFR7TVmktE9QuMULbQ1PUs2+6hp56uoYcn64O+yxbpgDnl4Q1V2qLCIUnJCo8LlX92sUrJiJUQal91L3v8bpqUFuVO7+7a48O6tyuhWJCIxQc11F9j2mllIRIL3zbzOtF2rx8vXKyd6goLEaJHXurex/78+uhXt1TlRAcrNCUHurWvpW6Jke5rwIAwF8E1NpsLAAA4CiyqrhMRXnbVVRYotLAYKlZsto4IT28epPWzX5fr979K72e7YT6M+/UZdf9XPcMte7pAACgsWDMNwAAR121sy3W54/9WrdmZCjjtLOV8afPNXn1DuXN+UhfvPB7PbWkVnktL9Ipw4bppye1qHsZAABoNGj5BgDgqLOquFAznrlLr7z4ql5cFiold1N6u+aKqczTzopKVZx4n35x5nEa1r+92rWKFZOCAwDQuBC+AQBoIPIXfaAF8+Zo+nqvwBMa11LJJ/5UZ/eKVUrMgWc4BwAADRfhGwAAAAAAH2PMNwAAAAAAPkb4BgAAAADAxwjfAAAAAAD4lPT/JShpE3K5blUAAAAASUVORK5CYII=)"
      ],
      "metadata": {
        "id": "Ni_zag5tyNPg"
      }
    },
    {
      "cell_type": "markdown",
      "source": [
        "\\begin{equation}\n",
        "A = R + D - E\n",
        "\\end{equation}\n",
        "\\begin{equation}\n",
        "D = CG_1\n",
        "\\end{equation}\n",
        "\\begin{equation}\n",
        "E = BG_3\n",
        "\\end{equation}\n",
        "\\begin{equation}\n",
        "B = AG_2\n",
        "\\end{equation}\n",
        "\\begin{equation}\n",
        "C = B + F - Y\n",
        "\\end{equation}\n",
        "\\begin{equation}\n",
        "F = BG_4\n",
        "\\end{equation}\n",
        "\\begin{equation}\n",
        "Y = C - G_5\n",
        "\\end{equation}\n",
        "\n",
        "\n",
        "---\n",
        "\\begin{equation}\n",
        "A = \\frac{B}{G_2}\n",
        "\\end{equation}\n",
        "\\begin{equation}\n",
        "C = B + BG_4 - y\n",
        "\\end{equation}\n",
        "\\begin{equation}\n",
        "D = (B + BG_4 - Y)G_1\n",
        "\\end{equation}\n",
        "\\begin{equation}\n",
        "E = BG_3\n",
        "\\end{equation}\n",
        "\\begin{equation}\n",
        "F = BG_4\n",
        "\\end{equation}\n",
        "\\begin{equation}\n",
        "B = C - F + Y\n",
        "\\end{equation}\n",
        "\\begin{equation}\n",
        "B = \\frac{Y}{G_5} - BG_4 + Y\n",
        "\\end{equation}\n",
        "\\begin{equation}\n",
        "B = \\frac{Y}{G_5} - BG_4 + Y\n",
        "\\end{equation}\n",
        "\\begin{equation}\n",
        "B + BG_4 = Y + \\frac{Y}{G_5}\n",
        "\\end{equation}\n",
        "\\begin{equation}\n",
        "B(1 + G_4) = Y (\\frac{G_5 + 1}{G_5})\n",
        "\\end{equation}\n",
        "\\begin{equation}\n",
        "B = Y (\\frac{G_5 + 1}{G_5 + G_5G_4})\n",
        "\\end{equation}\n",
        "\\begin{equation}\n",
        "\\frac{B}{G_2} = R + (B + BG_4 - Y)G_1 - BG_3\n",
        "\\end{equation}\n",
        "\\begin{equation}\n",
        "\\frac{B}{G_2} = R + BG_1 + BG_1G_4 - YG_1 - BG_3\n",
        "\\end{equation}\n",
        "\\begin{equation}\n",
        "\\frac{B}{G_2} - BG_1 - BG_1G_4 + BG_3 = R - YG_1\n",
        "\\end{equation}\n",
        "\\begin{equation}\n",
        "B[\\frac{1}{G_2} - G_1 - G_1G_4 + G_3] = R - YG_1\n",
        "\\end{equation}\n",
        "\\begin{equation}\n",
        "B[\\frac{1 - G_1 - G_1G_4 + G_3}{G_2}] = R - YG_1\n",
        "\\end{equation}\n",
        "\\begin{equation}\n",
        "Y[\\frac{G_5 + 1}{G_5 + G5G_G4}] [\\frac{1 - G_1G_2 - G_1G_2G_4 + G_2G_3}{G_2}] + YG_1= R\n",
        "\\end{equation}\n",
        "\\begin{equation}\n",
        "Y[\\frac{(G_5 + 1)(1 - G_1G_2G_4 + G_2G_3)}{G_2(G_5 + G_5G_4)}] = R\n",
        "\\end{equation}\n",
        "# Resultado:\n",
        "\\begin{equation}\n",
        "\\frac{Y(s)}{R(s)} = \\frac{G_2(G_5 + G_4G_5)}{(G_5 + 1)(1-G_1G_2-G_1G_2G_4 + G_2G_3) + G_1G_2(G_5 + G_4G_5)}\n",
        "\\end{equation}"
      ],
      "metadata": {
        "id": "CgkQFEHw0WvD"
      }
    },
    {
      "cell_type": "markdown",
      "source": [
        "![figura f2.png](data:image/png;base64,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)"
      ],
      "metadata": {
        "id": "gHY2545IKgKo"
      }
    },
    {
      "cell_type": "markdown",
      "source": [
        "\\begin{equation}\n",
        "A = R(s) - E - G\n",
        "\\end{equation}\n",
        "\\begin{equation}\n",
        "B = A \\times G_3(s)\n",
        "\\end{equation}\n",
        "\\begin{equation}\n",
        "C = A \\times G_2(s)\n",
        "\\end{equation}\n",
        "\\begin{equation}\n",
        "D = A \\times G_4(s)\n",
        "\\end{equation}\n",
        "\\begin{equation}\n",
        "E = C(s) \\times G_7(s)\n",
        "\\end{equation}\n",
        "\\begin{equation}\n",
        "F = B + C\n",
        "\\end{equation}\n",
        "\\begin{equation}\n",
        "G = F \\times G_1(s)\n",
        "\\end{equation}\n",
        "\\begin{equation}\n",
        "H = F \\times G_5(s)\n",
        "\\end{equation}\n",
        "\\begin{equation}\n",
        "I = H + D - C(s)\n",
        "\\end{equation}\n",
        "\\begin{equation}\n",
        "C(s) = I \\times G_6(s)\n",
        "\\end{equation}\n",
        "\n",
        "\n",
        "---\n",
        "\n",
        "\\begin{equation}\n",
        "I = AG_3(s)G_5(S) + AG_2(s)G_5(S) + R(s)G_4(s) - C(s)G_7(s)G_4(s) - AG_3(s)G_1(s) + AG_2(s)G_1(s) - C(s)\n",
        "\\end{equation}\n",
        "\\begin{equation}\n",
        "I + C(s) = AG_3(s)G_5(S) + AG_2(s)G_5(S) + R(s)G_4(s) - C(s)G_7(s)G_4(s) - AG_3(s)G_1(s) + AG_2(s)G_1(s)\n",
        "\\end{equation}\n"
      ],
      "metadata": {
        "id": "igcKxaAlEalt"
      }
    },
    {
      "cell_type": "markdown",
      "source": [
        "# Metodo completo"
      ],
      "metadata": {
        "id": "9vqs5owjf2Wk"
      }
    },
    {
      "cell_type": "markdown",
      "source": [
        "\\begin{equation}\n",
        "\\frac{96.93e^{-.5}}{s^2+5.033s+80.78}\n",
        "\\end{equation}"
      ],
      "metadata": {
        "id": "6i9CoC8vf_hY"
      }
    },
    {
      "cell_type": "markdown",
      "source": [
        "# Polinomio caracteristico"
      ],
      "metadata": {
        "id": "BouDOCBXgBD6"
      }
    },
    {
      "cell_type": "markdown",
      "source": [
        "\\begin{equation}\n",
        "s^2+5.033s+80.78\n",
        "\\end{equation}"
      ],
      "metadata": {
        "id": "LxR8WulogEqg"
      }
    },
    {
      "cell_type": "markdown",
      "source": [
        "# Matrices"
      ],
      "metadata": {
        "id": "leoXjb8agYlH"
      }
    },
    {
      "cell_type": "markdown",
      "source": [
        "| Coeficientes |Valor 1|Valor 2 |\n",
        "|:------------:|:-----:|:------:|\n",
        "| $s^2$        |1      | 80.78  |\n",
        "| $s^1$        |5.033  | 0      |\n",
        "| $s^0$        |       |        |"
      ],
      "metadata": {
        "id": "9T7zRcqagbb5"
      }
    },
    {
      "cell_type": "code",
      "source": [
        "b1=((5.033*80.78)-(1*0))/5.033\n",
        "b1"
      ],
      "metadata": {
        "colab": {
          "base_uri": "https://localhost:8080/"
        },
        "id": "DMbADxgKhus3",
        "outputId": "2e8d1464-5198-4e6d-de7f-c9707c7d111b"
      },
      "execution_count": null,
      "outputs": [
        {
          "output_type": "execute_result",
          "data": {
            "text/plain": [
              "80.78"
            ]
          },
          "metadata": {},
          "execution_count": 2
        }
      ]
    },
    {
      "cell_type": "markdown",
      "source": [
        "| Coeficientes |Valor 1|Valor 2 |\n",
        "|:------------:|:-----:|:------:|\n",
        "| $s^2$        |1      | 80.78  |\n",
        "| $s^1$        |5.033  | 0      |\n",
        "| $s^0$        |80.78  |        |"
      ],
      "metadata": {
        "id": "TgC6YpibiUDu"
      }
    },
    {
      "cell_type": "code",
      "source": [
        "b2=((5.033*0)-(1*0))/5.033\n",
        "b2"
      ],
      "metadata": {
        "colab": {
          "base_uri": "https://localhost:8080/"
        },
        "id": "ZEeS7IrmiQPi",
        "outputId": "9b502eb1-2139-4932-81eb-4e9056bd1779"
      },
      "execution_count": null,
      "outputs": [
        {
          "output_type": "execute_result",
          "data": {
            "text/plain": [
              "0.0"
            ]
          },
          "metadata": {},
          "execution_count": 3
        }
      ]
    },
    {
      "cell_type": "markdown",
      "source": [
        "| Coeficientes |Valor 1|Valor 2 |\n",
        "|:------------:|:-----:|:------:|\n",
        "| $s^2$        |1      | 80.78  |\n",
        "| $s^1$        |5.033  | 0      |\n",
        "| $s^0$        |80.78  | 0      |"
      ],
      "metadata": {
        "id": "hWkH85Wpi8W8"
      }
    },
    {
      "cell_type": "markdown",
      "source": [
        "# Conclusion"
      ],
      "metadata": {
        "id": "9fRz4ns9jRGz"
      }
    },
    {
      "cell_type": "markdown",
      "source": [
        "El polinomio caracteristico es estable."
      ],
      "metadata": {
        "id": "AvHpLcedjUHz"
      }
    },
    {
      "cell_type": "markdown",
      "source": [
        "# Teorema del valor final\n",
        "\n",
        "![lim.png](data:image/png;base64,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)"
      ],
      "metadata": {
        "id": "toBQbnmSlYYl"
      }
    },
    {
      "cell_type": "markdown",
      "source": [
        "\\begin{equation}\n",
        "\\frac{1}{s} \\times\\frac{96.93e^{-.5}}{s^2+5.033s+80.78} \\times \\frac{1}{s}\\\\\n",
        "\\end{equation}"
      ],
      "metadata": {
        "id": "yHgqUBJolcHW"
      }
    },
    {
      "cell_type": "markdown",
      "source": [
        "\\begin{equation}\n",
        "\\frac{96.93e^{-.5}}{(s^2+5.033s+80.78)s}\n",
        "\\end{equation}"
      ],
      "metadata": {
        "id": "wLeeVCl3mSWI"
      }
    },
    {
      "cell_type": "markdown",
      "source": [
        "\\begin{equation}\n",
        "f(\\infty) = \\lim_{s \\to 0}= \\frac{96.93e^{-.5}}{s^2+5.033s+80.78} = \\frac{96.93e^{-.5}}{0^2+5.033(0)+80.78} = \\frac{96.93e^{-.5}}{80.78}\n",
        "\\end{equation}"
      ],
      "metadata": {
        "id": "1-AClCXFmmxF"
      }
    }
  ]
}