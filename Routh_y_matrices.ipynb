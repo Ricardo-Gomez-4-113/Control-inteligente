{
  "nbformat": 4,
  "nbformat_minor": 0,
  "metadata": {
    "colab": {
      "provenance": [],
      "authorship_tag": "ABX9TyNd68vZleiDuwFY250Q6CDt",
      "include_colab_link": true
    },
    "kernelspec": {
      "name": "python3",
      "display_name": "Python 3"
    },
    "language_info": {
      "name": "python"
    }
  },
  "cells": [
    {
      "cell_type": "markdown",
      "metadata": {
        "id": "view-in-github",
        "colab_type": "text"
      },
      "source": [
        "<a href=\"https://colab.research.google.com/github/Ricardo-Gomez-4-113/Control-inteligente/blob/main/Routh_y_matrices.ipynb\" target=\"_parent\"><img src=\"https://colab.research.google.com/assets/colab-badge.svg\" alt=\"Open In Colab\"/></a>"
      ]
    },
    {
      "cell_type": "markdown",
      "source": [
        "# Ejercicio A\n",
        "\n",
        "\n",
        "---\n",
        "\n"
      ],
      "metadata": {
        "id": "iFcsYDtzF6lO"
      }
    },
    {
      "cell_type": "markdown",
      "source": [
        "# Formulas\n",
        "\\begin{equation}\n",
        "m\\ddot{x} + b\\dot{x} + kx = 0\n",
        "\\end{equation}\n",
        "\\begin{equation}\n",
        "x = x_1\n",
        "\\end{equation}\n",
        "\\begin{equation}\n",
        "\\dot{x} = x_2\n",
        "\\end{equation}\n",
        "\\begin{equation}\n",
        "\\ddot{x} = \\dot{x_2}\n",
        "\\end{equation}\n",
        "\\begin{equation}\n",
        "\\dot{x_1} = x_2\n",
        "\\end{equation}\n",
        "\\begin{equation}\n",
        "\\dot{x_2} = - \\frac{b}{m} \\dot{x} - \\frac{k}{m}x\n",
        "\\end{equation}\n",
        "\n",
        "\n",
        "---\n",
        "\n"
      ],
      "metadata": {
        "id": "9YrT2y4sF-B-"
      }
    },
    {
      "cell_type": "markdown",
      "source": [
        "# Forma matricial"
      ],
      "metadata": {
        "id": "azrXsJhWTooU"
      }
    },
    {
      "cell_type": "markdown",
      "source": [
        "\\begin{equation}\n",
        "\\begin{bmatrix}\n",
        "\\dot{x_1}\\\\\n",
        "\\dot{x_2}\n",
        "\\end{bmatrix}\n",
        "= \\begin{bmatrix}\n",
        "0 & 1\\\\\n",
        "- \\frac{k}{m} & - \\frac{b}{m}\n",
        "\\end{bmatrix} \n",
        "\\begin{bmatrix}\n",
        "x_1\\\\\n",
        "x_2\n",
        "\\end{bmatrix}\n",
        "\\end{equation}\n",
        "\n",
        "\n",
        "---\n",
        "\n"
      ],
      "metadata": {
        "id": "2_lfrvx7GG1U"
      }
    },
    {
      "cell_type": "markdown",
      "source": [
        "# Desarollo"
      ],
      "metadata": {
        "id": "hY4G1ePIVcJS"
      }
    },
    {
      "cell_type": "markdown",
      "source": [
        "Se sustituye **A**, **B**, y **D** en la ecuación: \n",
        "\\begin{equation}\n",
        "G(s) = C(sI - A)^{-1} B + D\n",
        "\\end{equation} "
      ],
      "metadata": {
        "id": "5oHx5ABqXZB6"
      }
    },
    {
      "cell_type": "markdown",
      "source": [
        "\\begin{equation}\n",
        "=\n",
        "\\begin{bmatrix}\n",
        "0 & 1\\\\\n",
        "\\end{bmatrix}\n",
        "\\left\\lbrace \n",
        "\\begin{bmatrix}\n",
        "s & 0\\\\\n",
        "0 & s\n",
        "\\end{bmatrix} \n",
        "-\\begin{bmatrix}\n",
        "0 & 1\\\\\n",
        "- \\frac{k}{m} & - \\frac{b}{m}\n",
        "\\end{bmatrix}\n",
        "\\right\\rbrace^{-1}\\\\\n",
        "= \\begin{bmatrix}\n",
        "0 & 1\\\\\n",
        "\\end{bmatrix}\n",
        "\\begin{bmatrix}\n",
        "s & -1\\\\\n",
        "\\frac{k}{m} s & + \\frac{b}{m}\n",
        "\\end{bmatrix}^{-1}\n",
        "\\end{equation}"
      ],
      "metadata": {
        "id": "XXYZoExCWFuU"
      }
    },
    {
      "cell_type": "markdown",
      "source": [
        "# Ejercicio B"
      ],
      "metadata": {
        "id": "ui7w99kj7AXA"
      }
    },
    {
      "cell_type": "markdown",
      "source": [
        "# Formulas\n",
        "\\begin{equation}\n",
        "m\\ddot{x} + k_1(x-y) + k_2x = 0\n",
        "\\end{equation}\n",
        "\\begin{equation}\n",
        "k_1(x-y) = b_1y\n",
        "\\end{equation}\n",
        "\\begin{equation}\n",
        "x = -\\frac{x_1}{m}(x-y)-\\frac{k_2}{m}x\n",
        "\\end{equation}\n",
        "\\begin{equation}\n",
        "y = -\\frac{k_1}{b_1}(x-y)\n",
        "\\end{equation}\n",
        "\n",
        "---\n",
        "\\begin{equation}\n",
        "\\ddot{x} = \\dot{x_2} = -\\frac{k_1}{m}(x_1-y)-\\frac{k_2}{m}x_1\n",
        "\\end{equation}\n",
        "\\begin{equation}\n",
        "\\ddot{x} = x_2\n",
        "\\end{equation}\n",
        "\\begin{equation}\n",
        "y = x = -\\frac{k_1}{b}(x-y)\n",
        "\\end{equation}\n",
        "\n",
        "\n",
        "---\n",
        "\n",
        "\\begin{equation}\n",
        "x_1 = x\n",
        "\\end{equation}\n",
        "\\begin{equation}\n",
        "\\dot{x_1} = \\dot{x}\n",
        "\\end{equation}\n",
        "\\begin{equation}\n",
        "x_2 = \\dot{x}\n",
        "\\end{equation}\n",
        "\\begin{equation}\n",
        "\\ddot{x} = \\dot{x}\n",
        "\\end{equation}\n",
        "\\begin{equation}\n",
        "\\dot{x_1} = x_2\n",
        "\\end{equation}\n",
        "\\begin{equation}\n",
        "\\dot{x_2} = -\\frac{k_1}{m}(x_1-x_3) - \\frac{k_2}{m}(\\dot{x_1})\n",
        "\\end{equation}\n",
        "\\begin{equation}\n",
        "x_3 = y\n",
        "\\end{equation}\n",
        "\\begin{equation}\n",
        "\\dot{x_3} = \\dot{y}\n",
        "\\end{equation}\n",
        "\\begin{equation}\n",
        "\\dot{x_3} = \\frac{k_1}{b}(x_1-x_3)\n",
        "\\end{equation}"
      ],
      "metadata": {
        "id": "kVkPdjXr7H2I"
      }
    },
    {
      "cell_type": "markdown",
      "source": [
        "# Forma matricial"
      ],
      "metadata": {
        "id": "9TWbde2v_SN1"
      }
    },
    {
      "cell_type": "markdown",
      "source": [
        "\\begin{equation}\n",
        "\\begin{bmatrix}\n",
        "\\dot{x_1}\\\\\n",
        "\\dot{x_2}\\\\\n",
        "\\dot{x_3}\\\\\n",
        "\\end{bmatrix}\n",
        "= \\begin{bmatrix}\n",
        "0 & 1\\\\\n",
        "1 & 0\n",
        "\\end{bmatrix} \n",
        "\\begin{bmatrix}\n",
        "x_1\\\\\n",
        "x_2\n",
        "\\end{bmatrix}\n",
        "\\end{equation}\n",
        "\n",
        "\n",
        "---\n"
      ],
      "metadata": {
        "id": "PEf-wP85Ag8W"
      }
    },
    {
      "cell_type": "markdown",
      "source": [
        "# Ejercicio C\n",
        "\n",
        "\n",
        "---\n",
        "\n"
      ],
      "metadata": {
        "id": "qBKDHu7tekrn"
      }
    },
    {
      "cell_type": "markdown",
      "source": [
        "## Formulas\n",
        "\\begin{equation}\n",
        "\\ddot{Θ} + \\frac{g}{l} \\sin{Θ} = 0\n",
        "\\end{equation}\n",
        "\\begin{equation}\n",
        "Θ = x_1\n",
        "\\end{equation}\n",
        "\\begin{equation}\n",
        "\\dot{Θ} = x_2\n",
        "\\end{equation}\n",
        "\\begin{equation}\n",
        "\\ddot{Θ} = \\dot{x_2}\n",
        "\\end{equation}\n",
        "\\begin{equation}\n",
        "\\dot{x_2} = - \\frac{g}{l} \\sin{Θ}\n",
        "\\end{equation}\n",
        "\n",
        "\n",
        "---\n",
        "\n"
      ],
      "metadata": {
        "id": "SMFJpPfC27QW"
      }
    },
    {
      "cell_type": "markdown",
      "source": [
        "# Forma matricial"
      ],
      "metadata": {
        "id": "B6vkJVh03Ct4"
      }
    },
    {
      "cell_type": "markdown",
      "source": [
        "\\begin{equation}\n",
        "\\begin{bmatrix}\n",
        "\\dot{x_1}\\\\\n",
        "\\dot{x_2}\n",
        "\\end{bmatrix}\n",
        "= \\begin{bmatrix}\n",
        "0 & 1\\\\\n",
        "1 & 0\n",
        "\\end{bmatrix} \n",
        "\\begin{bmatrix}\n",
        "x_1\\\\\n",
        "x_2\n",
        "\\end{bmatrix}\n",
        "\\end{equation}\n",
        "\n",
        "\n",
        "---\n",
        "\n"
      ],
      "metadata": {
        "id": "ZtrYQKzV3E2G"
      }
    },
    {
      "cell_type": "markdown",
      "source": [
        "# Desarrollo"
      ],
      "metadata": {
        "id": "2lecsUqA5ECB"
      }
    },
    {
      "cell_type": "markdown",
      "source": [
        "Se sustituye **A**, **B**, y **D** en la ecuación: \n",
        "\\begin{equation}\n",
        "G(s) = C(sI - A)^{-1} B + D\n",
        "\\end{equation} "
      ],
      "metadata": {
        "id": "KV5NIpFI6JSa"
      }
    },
    {
      "cell_type": "markdown",
      "source": [
        "\\begin{equation}\n",
        "=\n",
        "\\begin{bmatrix}\n",
        "0 & 1\\\\\n",
        "\\end{bmatrix}\n",
        "\\left\\lbrace \n",
        "\\begin{bmatrix}\n",
        "s & 0\\\\\n",
        "0 & s\n",
        "\\end{bmatrix} \n",
        "-\\begin{bmatrix}\n",
        "0 & 1\\\\\n",
        "1 & 0\n",
        "\\end{bmatrix}\n",
        "\\right\\rbrace^{-1}\\\\\n",
        "= \\begin{bmatrix}\n",
        "0 & 1\\\\\n",
        "\\end{bmatrix}\n",
        "\\begin{bmatrix}\n",
        "s & -1\\\\\n",
        "-1 & s\n",
        "\\end{bmatrix}^{-1}\n",
        "\\end{equation}\n",
        "\n",
        "\n",
        "---\n",
        "\n"
      ],
      "metadata": {
        "id": "3FPiiQqm6PJZ"
      }
    },
    {
      "cell_type": "markdown",
      "source": [
        "# Criterio de estabilidad de Routh"
      ],
      "metadata": {
        "id": "2CGPdGU_BrEb"
      }
    },
    {
      "cell_type": "markdown",
      "source": [
        "El criterio de estabilidad de Routh dice si existen o no raíces inestables en una ecuación polinomial, sin tener que obtenerlas en realidad. Este crite rio de estabilidad sólo se aplica a los polinomios con una cantidad finita de términos. Cuando se aplica el criterio a un sistema de control, la información sobre la estabilidad absoluta se obtiene  directamente de los coeficientes de la ecuación característica.\n",
        " \n",
        "\n",
        "\n",
        "---\n",
        "\n",
        "\n",
        "\n",
        "\n"
      ],
      "metadata": {
        "id": "qg2ohNGnB5Wf"
      }
    },
    {
      "cell_type": "markdown",
      "source": [
        "# Ejercicio 1: "
      ],
      "metadata": {
        "id": "xml5GhJ6WpHj"
      }
    },
    {
      "cell_type": "markdown",
      "source": [
        "Dado el polinomio característico\n",
        "\\begin{equation}\n",
        "P(s)=s^3+5s^2+6s+2\n",
        "\\end{equation}"
      ],
      "metadata": {
        "id": "YLtCJok4WqcL"
      }
    },
    {
      "cell_type": "markdown",
      "source": [
        "## Acomodo"
      ],
      "metadata": {
        "id": "9EAPDE5Ncpyw"
      }
    },
    {
      "cell_type": "markdown",
      "source": [
        "\\begin{equation}\n",
        "s^3+5s^2+6s+2 = 0\n",
        "\\end{equation}"
      ],
      "metadata": {
        "id": "laGVBi_McxI2"
      }
    },
    {
      "cell_type": "markdown",
      "source": [
        "## Matriz"
      ],
      "metadata": {
        "id": "vG8y7RJsi8Mn"
      }
    },
    {
      "cell_type": "markdown",
      "source": [
        "| Coeficientes |Valor 1|Valor 2 |\n",
        "|:------------:|:-----:|:------:|\n",
        "| $s^3$        | 1     | 6        \n",
        "| $s^2$        | 5     | 2\n",
        "| $s^1$        |       |\n",
        "| $s^0$        |       |\n"
      ],
      "metadata": {
        "id": "zbocYU3ui-qp"
      }
    },
    {
      "cell_type": "code",
      "source": [
        "b1 = ((5*6)-(1*2))/5\n",
        "b1"
      ],
      "metadata": {
        "colab": {
          "base_uri": "https://localhost:8080/"
        },
        "id": "WqwMWlCkocgy",
        "outputId": "3189d6f6-b53f-4a3e-e230-95e497c15a66"
      },
      "execution_count": null,
      "outputs": [
        {
          "output_type": "execute_result",
          "data": {
            "text/plain": [
              "5.6"
            ]
          },
          "metadata": {},
          "execution_count": 11
        }
      ]
    },
    {
      "cell_type": "markdown",
      "source": [
        "| Coeficientes |Valor 1|Valor 2 |\n",
        "|:------------:|:-----:|:------:|\n",
        "| $s^3$        | 1     | 6        \n",
        "| $s^2$        | 5     | 2\n",
        "| $s^1$        | 5.6      |\n",
        "| $s^0$        |       |\n",
        "\n"
      ],
      "metadata": {
        "id": "4pSMRfTPqNUU"
      }
    },
    {
      "cell_type": "code",
      "source": [
        "b2 = ((5*0)-(0*1))/5\n",
        "b2"
      ],
      "metadata": {
        "colab": {
          "base_uri": "https://localhost:8080/"
        },
        "id": "jgLrkhoorxb2",
        "outputId": "ce3ac544-166a-4aa7-fd61-c9c025e9842a"
      },
      "execution_count": null,
      "outputs": [
        {
          "output_type": "execute_result",
          "data": {
            "text/plain": [
              "0.0"
            ]
          },
          "metadata": {},
          "execution_count": 14
        }
      ]
    },
    {
      "cell_type": "markdown",
      "source": [
        "| Coeficientes |Valor 1|Valor 2 |\n",
        "|:------------:|:-----:|:------:|\n",
        "| $s^3$        | 1     | 6        \n",
        "| $s^2$        | 5     | 2\n",
        "| $s^1$        | 5.6   |0\n",
        "| $s^0$        |       |"
      ],
      "metadata": {
        "id": "oSMhgIub1vkU"
      }
    },
    {
      "cell_type": "code",
      "source": [
        "c1 = ((5.6*2)-(5*0))/5.6\n",
        "c1"
      ],
      "metadata": {
        "colab": {
          "base_uri": "https://localhost:8080/"
        },
        "id": "KVC1Ry0d5iu7",
        "outputId": "cef05eea-51d1-4834-d080-f973ed10389d"
      },
      "execution_count": null,
      "outputs": [
        {
          "output_type": "execute_result",
          "data": {
            "text/plain": [
              "2.0"
            ]
          },
          "metadata": {},
          "execution_count": 1
        }
      ]
    },
    {
      "cell_type": "markdown",
      "source": [
        "| Coeficientes |Valor 1|Valor 2 |\n",
        "|:------------:|:-----:|:------:|\n",
        "| $s^3$        | 1     | 6        \n",
        "| $s^2$        | 5     | 2\n",
        "| $s^1$        | 5.6   | 0\n",
        "| $s^0$        | 2  |"
      ],
      "metadata": {
        "id": "0TZnhKkl5nfG"
      }
    },
    {
      "cell_type": "markdown",
      "source": [
        "# Conclusión"
      ],
      "metadata": {
        "id": "9QgZtRk45vDW"
      }
    },
    {
      "cell_type": "markdown",
      "source": [
        "El polinomio característico es estale, debido a que no hay cambios de signo."
      ],
      "metadata": {
        "id": "AN8NNOq07GAD"
      }
    },
    {
      "cell_type": "markdown",
      "source": [
        "# Ejercicio 2:"
      ],
      "metadata": {
        "id": "7c5-mWvY8jt5"
      }
    },
    {
      "cell_type": "markdown",
      "source": [
        "Dado el polinomio característico\n",
        "\\begin{equation}\n",
        "P(s)=s^4+2s^3+4s^2+2s+1 \n",
        "\\end{equation}"
      ],
      "metadata": {
        "id": "gwvqAdO88l3g"
      }
    },
    {
      "cell_type": "markdown",
      "source": [
        "# Acomodo"
      ],
      "metadata": {
        "id": "YGma_Rf69WW7"
      }
    },
    {
      "cell_type": "markdown",
      "source": [
        "\\begin{equation}\n",
        "s^4+2s^3+4s^2+2s+1 = 0\n",
        "\\end{equation}"
      ],
      "metadata": {
        "id": "dX0CDauO9N-u"
      }
    },
    {
      "cell_type": "markdown",
      "source": [
        "# Matriz"
      ],
      "metadata": {
        "id": "gm5pjvR89pTB"
      }
    },
    {
      "cell_type": "markdown",
      "source": [
        "| Coeficientes |Valor 1|Valor 2 |Valor 3|\n",
        "|:------------:|:-----:|:------:|:-----:|\n",
        "| $s^4$        |1      |4       |1      |\n",
        "| $s^3$        |2      |2       |0      |\n",
        "| $s^2$        |       |        |       | \n",
        "| $s^1$        |       |        |       | \n",
        "| $s^0$        |       |        |       |       "
      ],
      "metadata": {
        "id": "G0jr60379qzH"
      }
    },
    {
      "cell_type": "code",
      "source": [
        "b1 = ((2*4)-(1*2))/2\n",
        "b1"
      ],
      "metadata": {
        "colab": {
          "base_uri": "https://localhost:8080/"
        },
        "id": "WMaPeV2AAOVn",
        "outputId": "f83f0822-0a8c-45af-9650-40c2b518a8ee"
      },
      "execution_count": null,
      "outputs": [
        {
          "output_type": "execute_result",
          "data": {
            "text/plain": [
              "3.0"
            ]
          },
          "metadata": {},
          "execution_count": 13
        }
      ]
    },
    {
      "cell_type": "markdown",
      "source": [
        "| Coeficientes |Valor 1|Valor 2 |Valor 3|\n",
        "|:------------:|:-----:|:------:|:-----:|\n",
        "| $s^4$        |1      |4       |1      |\n",
        "| $s^3$        |2      |2       |0      |\n",
        "| $s^2$        |3      |        |       | \n",
        "| $s^1$        |       |        |       | \n",
        "| $s^0$        |       |        |       |\n",
        "     "
      ],
      "metadata": {
        "id": "7resG0G_AirZ"
      }
    },
    {
      "cell_type": "code",
      "source": [
        "b2 = ((2*1)-(1*0))/2\n",
        "b2"
      ],
      "metadata": {
        "colab": {
          "base_uri": "https://localhost:8080/"
        },
        "id": "R8vJ-PY9BUV0",
        "outputId": "a0876d2b-2b4b-4b38-aad7-6eaa16ccb2b7"
      },
      "execution_count": null,
      "outputs": [
        {
          "output_type": "execute_result",
          "data": {
            "text/plain": [
              "1.0"
            ]
          },
          "metadata": {},
          "execution_count": 15
        }
      ]
    },
    {
      "cell_type": "markdown",
      "source": [
        "| Coeficientes |Valor 1|Valor 2 |Valor 3|\n",
        "|:------------:|:-----:|:------:|:-----:|\n",
        "| $s^4$        |1      |4       |1      |\n",
        "| $s^3$        |2      |2       |0      |\n",
        "| $s^2$        |3      |1       |       | \n",
        "| $s^1$        |       |        |       | \n",
        "| $s^0$        |       |        |       |\n",
        "|              |       |        |       |      "
      ],
      "metadata": {
        "id": "sGJ_uWl_B2AO"
      }
    },
    {
      "cell_type": "code",
      "source": [
        "b3 = ((2*0)-(1*0))/2\n",
        "b3"
      ],
      "metadata": {
        "colab": {
          "base_uri": "https://localhost:8080/"
        },
        "id": "2fJrRfAECC97",
        "outputId": "dda5a358-5368-4065-e422-9afd170647d0"
      },
      "execution_count": null,
      "outputs": [
        {
          "output_type": "execute_result",
          "data": {
            "text/plain": [
              "0.0"
            ]
          },
          "metadata": {},
          "execution_count": 17
        }
      ]
    },
    {
      "cell_type": "markdown",
      "source": [
        "| Coeficientes |Valor 1|Valor 2 |Valor 3|\n",
        "|:------------:|:-----:|:------:|:-----:|\n",
        "| $s^4$        |1      |4       |1      |\n",
        "| $s^3$        |2      |2       |0       |\n",
        "| $s^2$        |3      |1       |0      | \n",
        "| $s^1$        |       |        |       | \n",
        "| $s^0$        |       |        |       |"
      ],
      "metadata": {
        "id": "jC3zwBuOCmFM"
      }
    },
    {
      "cell_type": "code",
      "source": [
        "c1 = ((3*2)-(2*1))/3\n",
        "c1"
      ],
      "metadata": {
        "colab": {
          "base_uri": "https://localhost:8080/"
        },
        "id": "kKFIOXXIDA_b",
        "outputId": "7bc282fc-34b0-4f02-abe7-38645f7c3b9a"
      },
      "execution_count": null,
      "outputs": [
        {
          "output_type": "execute_result",
          "data": {
            "text/plain": [
              "1.3333333333333333"
            ]
          },
          "metadata": {},
          "execution_count": 18
        }
      ]
    },
    {
      "cell_type": "markdown",
      "source": [
        "| Coeficientes |Valor 1|Valor 2 |Valor 3|\n",
        "|:------------:|:-----:|:------:|:-----:|\n",
        "| $s^4$        |1      |4       |1      |\n",
        "| $s^3$        |2      |2       |0      |\n",
        "| $s^2$        |3      |1       |0      | \n",
        "| $s^1$        |1.3    |        |       | \n",
        "| $s^0$        |       |        |       |"
      ],
      "metadata": {
        "id": "UStl8WGPEKGx"
      }
    },
    {
      "cell_type": "code",
      "source": [
        "c2 = ((3*0)-(2*0))/3\n",
        "c2"
      ],
      "metadata": {
        "colab": {
          "base_uri": "https://localhost:8080/"
        },
        "id": "jBXL8LieE-ZK",
        "outputId": "cbe7d563-a80a-4ff9-ef25-d49db9bf32ea"
      },
      "execution_count": null,
      "outputs": [
        {
          "output_type": "execute_result",
          "data": {
            "text/plain": [
              "0.0"
            ]
          },
          "metadata": {},
          "execution_count": 19
        }
      ]
    },
    {
      "cell_type": "markdown",
      "source": [
        "| Coeficientes |Valor 1|Valor 2 |Valor 3|\n",
        "|:------------:|:-----:|:------:|:-----:|\n",
        "| $s^4$        |1      |4       |1      |\n",
        "| $s^3$        |2      |2       |0      |\n",
        "| $s^2$        |3      |1       |0      | \n",
        "| $s^1$        |1.3    |0       |       | \n",
        "| $s^0$        |       |        |       |"
      ],
      "metadata": {
        "id": "4jwnH0izE_aO"
      }
    },
    {
      "cell_type": "code",
      "source": [
        "c3 = ((3*0)-(2*0))/3\n",
        "c3"
      ],
      "metadata": {
        "colab": {
          "base_uri": "https://localhost:8080/"
        },
        "id": "Fxxh19IkFKra",
        "outputId": "79cd4b32-7d99-40ca-ebdb-9e17172fe750"
      },
      "execution_count": null,
      "outputs": [
        {
          "output_type": "execute_result",
          "data": {
            "text/plain": [
              "0.0"
            ]
          },
          "metadata": {},
          "execution_count": 20
        }
      ]
    },
    {
      "cell_type": "markdown",
      "source": [
        "| Coeficientes |Valor 1|Valor 2 |Valor 3|\n",
        "|:------------:|:-----:|:------:|:-----:|\n",
        "| $s^4$        |1      |4       |1      |\n",
        "| $s^3$        |2      |2       |0      |\n",
        "| $s^2$        |3      |1       |0      | \n",
        "| $s^1$        |1.3    |0       |0      | \n",
        "| $s^0$        |       |        |       |"
      ],
      "metadata": {
        "id": "WQJN5d6ZFgG9"
      }
    },
    {
      "cell_type": "code",
      "source": [
        "d1 = ((1.3*1)-(3*0))/1.3\n",
        "d1"
      ],
      "metadata": {
        "colab": {
          "base_uri": "https://localhost:8080/"
        },
        "id": "N1P3jGrnFiDP",
        "outputId": "98444437-3886-4181-d84c-370953c6cbfa"
      },
      "execution_count": null,
      "outputs": [
        {
          "output_type": "execute_result",
          "data": {
            "text/plain": [
              "1.0"
            ]
          },
          "metadata": {},
          "execution_count": 2
        }
      ]
    },
    {
      "cell_type": "markdown",
      "source": [
        "| Coeficientes |Valor 1|Valor 2 |Valor 3|\n",
        "|:------------:|:-----:|:------:|:-----:|\n",
        "| $s^4$        |1      |4       |1      |\n",
        "| $s^3$        |2      |2       |0      |\n",
        "| $s^2$        |3      |1       |0      | \n",
        "| $s^1$        |1.3    |0       |0      | \n",
        "| $s^0$        |1      |        |       |"
      ],
      "metadata": {
        "id": "-O7OKInMG0Rc"
      }
    },
    {
      "cell_type": "markdown",
      "source": [
        "# Conclusión"
      ],
      "metadata": {
        "id": "LR4mnZLdG2pw"
      }
    },
    {
      "cell_type": "markdown",
      "source": [],
      "metadata": {
        "id": "ngb1JhctHD4j"
      }
    },
    {
      "cell_type": "markdown",
      "source": [
        "# Ejercicio 3:"
      ],
      "metadata": {
        "id": "WZmQ6fwuIW97"
      }
    },
    {
      "cell_type": "markdown",
      "source": [
        "Dado el polinomio característico\n",
        "\\begin{equation}\n",
        " P(s)=s^5+4s^4+6s^3+4s^2+2s+1\n",
        "\\end{equation}"
      ],
      "metadata": {
        "id": "Nz3_xqi4Idsa"
      }
    },
    {
      "cell_type": "markdown",
      "source": [
        "# Acomodo"
      ],
      "metadata": {
        "id": "3zfIntl7Ih_M"
      }
    },
    {
      "cell_type": "markdown",
      "source": [
        "\\begin{equation}\n",
        " s^5+4s^4+6s^3+4s^2+2s+1 = 0\n",
        "\\end{equation}"
      ],
      "metadata": {
        "id": "UKh-7bCeI_rk"
      }
    },
    {
      "cell_type": "markdown",
      "source": [
        "# Matriz"
      ],
      "metadata": {
        "id": "E1emto-cJExD"
      }
    },
    {
      "cell_type": "markdown",
      "source": [
        "| Coeficientes |Valor 1|Valor 2 |Valor 3|\n",
        "|:------------:|:-----:|:------:|:-----:|\n",
        "| $s^5$        |1      |6       |2      |\n",
        "| $s^4$        |4      |4       |1      |\n",
        "| $s^3$        |       |        |       |\n",
        "| $s^2$        |       |        |       |\n",
        "| $s^1$        |       |        |       |\n",
        "| $s^0$        |       |        |       |"
      ],
      "metadata": {
        "id": "EdZ5toYPJIKP"
      }
    },
    {
      "cell_type": "code",
      "source": [
        "b1 = ((4*6)-(1*4))/4\n",
        "b1"
      ],
      "metadata": {
        "colab": {
          "base_uri": "https://localhost:8080/"
        },
        "id": "gwe2RsjXL9ik",
        "outputId": "a9a3216f-f74b-4ff6-bc96-4f3275588e66"
      },
      "execution_count": null,
      "outputs": [
        {
          "output_type": "execute_result",
          "data": {
            "text/plain": [
              "5.0"
            ]
          },
          "metadata": {},
          "execution_count": 22
        }
      ]
    },
    {
      "cell_type": "markdown",
      "source": [
        "| Coeficientes |Valor 1|Valor 2 |Valor 3|\n",
        "|:------------:|:-----:|:------:|:-----:|\n",
        "| $s^5$        |1      |6       |2      |\n",
        "| $s^4$        |4      |4       |1      |\n",
        "| $s^3$        | 5     |        |       |\n",
        "| $s^2$        |       |        |       |\n",
        "| $s^1$        |       |        |       |\n",
        "| $s^0$        |       |        |       |"
      ],
      "metadata": {
        "id": "v4VIuREqNLH9"
      }
    },
    {
      "cell_type": "code",
      "source": [
        "b2 = ((4*2)-(1*1))/4\n",
        "b2"
      ],
      "metadata": {
        "colab": {
          "base_uri": "https://localhost:8080/"
        },
        "id": "9zBAywjVNNwK",
        "outputId": "17be0567-df7c-4429-e3a7-20063c35e05e"
      },
      "execution_count": null,
      "outputs": [
        {
          "output_type": "execute_result",
          "data": {
            "text/plain": [
              "1.75"
            ]
          },
          "metadata": {},
          "execution_count": 24
        }
      ]
    },
    {
      "cell_type": "markdown",
      "source": [
        "| Coeficientes |Valor 1|Valor 2 |Valor 3|\n",
        "|:------------:|:-----:|:------:|:-----:|\n",
        "| $s^5$        |1      |6       |2      |\n",
        "| $s^4$        |4      |4       |1      |\n",
        "| $s^3$        | 5     |1.75    |       |\n",
        "| $s^2$        |       |        |       |\n",
        "| $s^1$        |       |        |       |\n",
        "| $s^0$        |       |        |       |"
      ],
      "metadata": {
        "id": "3VJpiJAEPLfj"
      }
    },
    {
      "cell_type": "code",
      "source": [
        "b3 = ((4*0)-(1*0))/4\n",
        "b3"
      ],
      "metadata": {
        "colab": {
          "base_uri": "https://localhost:8080/"
        },
        "id": "tsep-wf2PLIJ",
        "outputId": "3f41afec-6773-46ad-ef7d-f0060eda9d88"
      },
      "execution_count": null,
      "outputs": [
        {
          "output_type": "execute_result",
          "data": {
            "text/plain": [
              "0.0"
            ]
          },
          "metadata": {},
          "execution_count": 26
        }
      ]
    },
    {
      "cell_type": "markdown",
      "source": [
        "| Coeficientes |Valor 1|Valor 2 |Valor 3|\n",
        "|:------------:|:-----:|:------:|:-----:|\n",
        "| $s^5$        |1      |6       |2      |\n",
        "| $s^4$        |4      |4       |1      |\n",
        "| $s^3$        | 5     |1.75    |0      |\n",
        "| $s^2$        |       |        |       |\n",
        "| $s^1$        |       |        |       |\n",
        "| $s^0$        |       |        |       |"
      ],
      "metadata": {
        "id": "3b8S2sTNPctP"
      }
    },
    {
      "cell_type": "code",
      "source": [
        "c1 = ((5*4)-(4*1.75))/5\n",
        "c1"
      ],
      "metadata": {
        "colab": {
          "base_uri": "https://localhost:8080/"
        },
        "id": "__dH405PQNuv",
        "outputId": "8e13c903-ae38-4f2d-8fad-d8b6114e1a75"
      },
      "execution_count": null,
      "outputs": [
        {
          "output_type": "execute_result",
          "data": {
            "text/plain": [
              "2.6"
            ]
          },
          "metadata": {},
          "execution_count": 27
        }
      ]
    },
    {
      "cell_type": "markdown",
      "source": [
        "| Coeficientes |Valor 1|Valor 2 |Valor 3|\n",
        "|:------------:|:-----:|:------:|:-----:|\n",
        "| $s^5$        |1      |6       |2      |\n",
        "| $s^4$        |4      |4       |1      |\n",
        "| $s^3$        |5      |1.75    |0      |\n",
        "| $s^2$        |2.6    |        |       |\n",
        "| $s^1$        |       |        |       |\n",
        "| $s^0$        |       |        |       |"
      ],
      "metadata": {
        "id": "A_P5z9JhRWC2"
      }
    },
    {
      "cell_type": "code",
      "source": [
        "c2 = ((5*1)-(4*0))/5\n",
        "c2"
      ],
      "metadata": {
        "colab": {
          "base_uri": "https://localhost:8080/"
        },
        "id": "3jgmt5cnRa5W",
        "outputId": "8c635a7e-b808-46c7-fea0-65b5ccfd87e7"
      },
      "execution_count": null,
      "outputs": [
        {
          "output_type": "execute_result",
          "data": {
            "text/plain": [
              "1.0"
            ]
          },
          "metadata": {},
          "execution_count": 28
        }
      ]
    },
    {
      "cell_type": "markdown",
      "source": [
        "| Coeficientes |Valor 1|Valor 2 |Valor 3|\n",
        "|:------------:|:-----:|:------:|:-----:|\n",
        "| $s^5$        |1      |6       |2      |\n",
        "| $s^4$        |4      |4       |1      |\n",
        "| $s^3$        |5      |1.75    |0      |\n",
        "| $s^2$        |2.6    |1       |       |\n",
        "| $s^1$        |       |        |       |\n",
        "| $s^0$        |       |        |       |"
      ],
      "metadata": {
        "id": "cn6ixixQRx0P"
      }
    },
    {
      "cell_type": "code",
      "source": [
        "c3 = ((5*0)-(4*0))/5\n",
        "c3"
      ],
      "metadata": {
        "colab": {
          "base_uri": "https://localhost:8080/"
        },
        "id": "A0cCpV5lRzmr",
        "outputId": "ddfaed4d-5175-4334-d90b-e3b969c1400b"
      },
      "execution_count": null,
      "outputs": [
        {
          "output_type": "execute_result",
          "data": {
            "text/plain": [
              "0.0"
            ]
          },
          "metadata": {},
          "execution_count": 29
        }
      ]
    },
    {
      "cell_type": "markdown",
      "source": [
        "| Coeficientes |Valor 1|Valor 2 |Valor 3|\n",
        "|:------------:|:-----:|:------:|:-----:|\n",
        "| $s^5$        |1      |6       |2      |\n",
        "| $s^4$        |4      |4       |1      |\n",
        "| $s^3$        |5      |1.75    |0      |\n",
        "| $s^2$        |2.6    |1       |0      |\n",
        "| $s^1$        |       |        |       |\n",
        "| $s^0$        |       |        |       |"
      ],
      "metadata": {
        "id": "_qST5YiWR_7M"
      }
    },
    {
      "cell_type": "code",
      "source": [
        "d1 = ((2.6*1.75)-(5*1))/2.6\n",
        "d1"
      ],
      "metadata": {
        "colab": {
          "base_uri": "https://localhost:8080/"
        },
        "id": "T819kOPGSEUS",
        "outputId": "a147d831-ceb7-4a77-b9e8-66f0a0c8f3f8"
      },
      "execution_count": null,
      "outputs": [
        {
          "output_type": "execute_result",
          "data": {
            "text/plain": [
              "-0.17307692307692313"
            ]
          },
          "metadata": {},
          "execution_count": 6
        }
      ]
    },
    {
      "cell_type": "markdown",
      "source": [
        "| Coeficientes |Valor 1|Valor 2 |Valor 3|\n",
        "|:------------:|:-----:|:------:|:-----:|\n",
        "| $s^5$        |1      |6       |2      |\n",
        "| $s^4$        |4      |4       |1      |\n",
        "| $s^3$        |5      |1.75    |0      |\n",
        "| $s^2$        |2.6    |1       |0      |\n",
        "| $s^1$        |-0.17  |        |       |\n",
        "| $s^0$        |       |        |       |"
      ],
      "metadata": {
        "id": "SIbuOkAmS-xy"
      }
    },
    {
      "cell_type": "code",
      "source": [
        "d2 = ((2.6*0)-(5*0))/2.6\n",
        "d2"
      ],
      "metadata": {
        "colab": {
          "base_uri": "https://localhost:8080/"
        },
        "id": "mB__zr37JdZ1",
        "outputId": "2c17ed56-281b-4d11-9b31-3b7782453fd4"
      },
      "execution_count": null,
      "outputs": [
        {
          "output_type": "execute_result",
          "data": {
            "text/plain": [
              "0.0"
            ]
          },
          "metadata": {},
          "execution_count": 5
        }
      ]
    },
    {
      "cell_type": "markdown",
      "source": [
        "| Coeficientes |Valor 1|Valor 2 |Valor 3|\n",
        "|:------------:|:-----:|:------:|:-----:|\n",
        "| $s^5$        |1      |6       |2      |\n",
        "| $s^4$        |4      |4       |1      |\n",
        "| $s^3$        |5      |1.75    |0      |\n",
        "| $s^2$        |2.6    |1       |0      |\n",
        "| $s^1$        |-0.17  |0       |       |\n",
        "| $s^0$        |1      |        |       |"
      ],
      "metadata": {
        "id": "0FkzydewKM6R"
      }
    },
    {
      "cell_type": "code",
      "source": [
        "d3 = ((-.17*1)-(2.6*0))/-.17\n",
        "d3"
      ],
      "metadata": {
        "colab": {
          "base_uri": "https://localhost:8080/"
        },
        "id": "mLFPMgyFK-dX",
        "outputId": "ce14d3a5-3a85-42eb-ee12-40d39e409b3e"
      },
      "execution_count": null,
      "outputs": [
        {
          "output_type": "execute_result",
          "data": {
            "text/plain": [
              "1.0"
            ]
          },
          "metadata": {},
          "execution_count": 8
        }
      ]
    },
    {
      "cell_type": "markdown",
      "source": [
        "# Conclusión"
      ],
      "metadata": {
        "id": "doMUhJTcTDE7"
      }
    },
    {
      "cell_type": "markdown",
      "source": [
        "El polinomio característico es inestale, debido a que hay cambios de signo."
      ],
      "metadata": {
        "id": "mqlG1mRcTHKe"
      }
    },
    {
      "cell_type": "markdown",
      "source": [
        "# Ejercicio 4:"
      ],
      "metadata": {
        "id": "1SsA0BlNTfd_"
      }
    },
    {
      "cell_type": "markdown",
      "source": [
        "Dado el polinomio característico\n",
        "\\begin{equation}\n",
        " P(s)=s^3+3s^2+3s+1\n",
        "\\end{equation}"
      ],
      "metadata": {
        "id": "fkPoRw0FUD-z"
      }
    },
    {
      "cell_type": "markdown",
      "source": [
        "# Acomodo"
      ],
      "metadata": {
        "id": "XB4sayTxUTev"
      }
    },
    {
      "cell_type": "markdown",
      "source": [
        "\\begin{equation}\n",
        " s^3+3s^2+3s+1 = 0\n",
        "\\end{equation}"
      ],
      "metadata": {
        "id": "2rsy0xoAUZ0F"
      }
    },
    {
      "cell_type": "markdown",
      "source": [
        "# Matriz"
      ],
      "metadata": {
        "id": "kBqcPhEkU07Q"
      }
    },
    {
      "cell_type": "markdown",
      "source": [
        "| Coeficientes |Valor 1|Valor 2 |\n",
        "|:------------:|:-----:|:------:|\n",
        "| $s^3$        | 1     | 3        \n",
        "| $s^2$        | 3     | 1\n",
        "| $s^1$        |       |\n",
        "| $s^0$        |       |\n"
      ],
      "metadata": {
        "id": "RYRS3YmwU4kn"
      }
    },
    {
      "cell_type": "code",
      "source": [
        "b1 = ((3*3)-(1*1))/3\n",
        "b1"
      ],
      "metadata": {
        "colab": {
          "base_uri": "https://localhost:8080/"
        },
        "id": "nguORwFnUSzH",
        "outputId": "a15f1d7b-9217-4509-c488-f6ff3c2882e9"
      },
      "execution_count": null,
      "outputs": [
        {
          "output_type": "execute_result",
          "data": {
            "text/plain": [
              "2.6666666666666665"
            ]
          },
          "metadata": {},
          "execution_count": 31
        }
      ]
    },
    {
      "cell_type": "markdown",
      "source": [
        "| Coeficientes |Valor 1|Valor 2 |\n",
        "|:------------:|:-----:|:------:|\n",
        "| $s^3$        | 1     | 3        \n",
        "| $s^2$        | 3     | 1\n",
        "| $s^1$        | 2.6   |\n",
        "| $s^0$        |       |\n"
      ],
      "metadata": {
        "id": "coWVOBFIXF_8"
      }
    },
    {
      "cell_type": "code",
      "source": [
        "b2 = ((3*0)-(1*0))/3\n",
        "b2"
      ],
      "metadata": {
        "colab": {
          "base_uri": "https://localhost:8080/"
        },
        "id": "qOOSA3KRXK2p",
        "outputId": "6d5b7a99-eb0d-4da4-8a6f-c571909257a7"
      },
      "execution_count": null,
      "outputs": [
        {
          "output_type": "execute_result",
          "data": {
            "text/plain": [
              "0.0"
            ]
          },
          "metadata": {},
          "execution_count": 33
        }
      ]
    },
    {
      "cell_type": "markdown",
      "source": [
        "| Coeficientes |Valor 1|Valor 2 |\n",
        "|:------------:|:-----:|:------:|\n",
        "| $s^3$        | 1     | 3        \n",
        "| $s^2$        | 3     | 1\n",
        "| $s^1$        | 2.6   |0\n",
        "| $s^0$        |       |"
      ],
      "metadata": {
        "id": "KB5sSKC_XUSV"
      }
    },
    {
      "cell_type": "code",
      "source": [
        "c1 = ((2.6*1)-(3*0))/3\n",
        "c1"
      ],
      "metadata": {
        "colab": {
          "base_uri": "https://localhost:8080/"
        },
        "id": "B6TP27pVXcbQ",
        "outputId": "a55b89a6-e55e-4564-f58f-b4c754a881b8"
      },
      "execution_count": null,
      "outputs": [
        {
          "output_type": "execute_result",
          "data": {
            "text/plain": [
              "0.8666666666666667"
            ]
          },
          "metadata": {},
          "execution_count": 34
        }
      ]
    },
    {
      "cell_type": "markdown",
      "source": [
        "| Coeficientes |Valor 1|Valor 2 |\n",
        "|:------------:|:-----:|:------:|\n",
        "| $s^3$        | 1     | 3        \n",
        "| $s^2$        | 3     | 1\n",
        "| $s^1$        | 2.6   |0\n",
        "| $s^0$        | .86   |"
      ],
      "metadata": {
        "id": "eYUtXWQlX5S9"
      }
    },
    {
      "cell_type": "markdown",
      "source": [
        "# Conclusión"
      ],
      "metadata": {
        "id": "9VPCoef8Ydzs"
      }
    },
    {
      "cell_type": "markdown",
      "source": [
        "El polinomio característico es estale, debido a que no hay cambios de signo."
      ],
      "metadata": {
        "id": "SchCd64LX9rI"
      }
    },
    {
      "cell_type": "markdown",
      "source": [
        "# Ejercicio 5:"
      ],
      "metadata": {
        "id": "G16kP4rpTqBW"
      }
    },
    {
      "cell_type": "markdown",
      "source": [
        "Dado el polinomio característico\n",
        "\\begin{equation}\n",
        " P(s) = s^3 + (k+1)s^2+(2k+1)s+k\n",
        "\\end{equation}"
      ],
      "metadata": {
        "id": "JxUBOKZlUDDm"
      }
    },
    {
      "cell_type": "markdown",
      "source": [
        "# Acomodo "
      ],
      "metadata": {
        "id": "tcPLHz0NWJqW"
      }
    },
    {
      "cell_type": "markdown",
      "source": [
        "\\begin{equation}\n",
        "P(s) = s^3 + ks^2 + s^2 + 2sk + k + s \n",
        "\\end{equation}"
      ],
      "metadata": {
        "id": "ibKTl0IcWQT9"
      }
    },
    {
      "cell_type": "markdown",
      "source": [
        "| Coeficientes |Valor 1|Valor 2 |Valor 3|\n",
        "|:------------:|:-----:|:------:|:-----:|\n",
        "| $s^6$        |1      |1       |1      |\n",
        "| $s^5$        |1      |2       |1      |\n",
        "| $s^4$        |       |        |       |\n",
        "| $s^3$        |       |        |       |\n",
        "| $s^2$        |       |        |       |\n",
        "| $s^1$        |       |        |       |\n",
        "| $s^0$        |       |        |       |"
      ],
      "metadata": {
        "id": "wDYt51BBWfx1"
      }
    },
    {
      "cell_type": "code",
      "source": [
        "b1 = ((1*1)-(1*2))/1\n",
        "b1"
      ],
      "metadata": {
        "colab": {
          "base_uri": "https://localhost:8080/"
        },
        "id": "sX1fGMo0Y4ow",
        "outputId": "5b68c603-97fd-4f6d-b585-69fb839a3fce"
      },
      "execution_count": null,
      "outputs": [
        {
          "output_type": "execute_result",
          "data": {
            "text/plain": [
              "-1.0"
            ]
          },
          "metadata": {},
          "execution_count": 1
        }
      ]
    },
    {
      "cell_type": "markdown",
      "source": [
        "| Coeficientes |Valor 1|Valor 2 |Valor 3|\n",
        "|:------------:|:-----:|:------:|:-----:|\n",
        "| $s^6$        |1      |1       |1      |\n",
        "| $s^5$        |1      |2       |1      |\n",
        "| $s^4$        |-1     |        |       |\n",
        "| $s^3$        |       |        |       |\n",
        "| $s^2$        |       |        |       |\n",
        "| $s^1$        |       |        |       |\n",
        "| $s^0$        |       |        |       |"
      ],
      "metadata": {
        "id": "RlVJuh2xZYJ1"
      }
    },
    {
      "cell_type": "code",
      "source": [
        "b2 = ((1*1)-(1*1))/1\n",
        "b2"
      ],
      "metadata": {
        "colab": {
          "base_uri": "https://localhost:8080/"
        },
        "id": "Xv-y8xcZEFmE",
        "outputId": "8cd5d1b9-3ddd-4a6b-c64e-25e22c712fc5"
      },
      "execution_count": 1,
      "outputs": [
        {
          "output_type": "execute_result",
          "data": {
            "text/plain": [
              "0.0"
            ]
          },
          "metadata": {},
          "execution_count": 1
        }
      ]
    },
    {
      "cell_type": "markdown",
      "source": [
        "| Coeficientes |Valor 1|Valor 2 |Valor 3|\n",
        "|:------------:|:-----:|:------:|:-----:|\n",
        "| $s^6$        |1      |1       |1      |\n",
        "| $s^5$        |1      |2       |1      |\n",
        "| $s^4$        |-1     |0       |      |\n",
        "| $s^3$        |       |        |       |\n",
        "| $s^2$        |       |        |       |\n",
        "| $s^1$        |       |        |       |\n",
        "| $s^0$        |       |        |       |"
      ],
      "metadata": {
        "id": "4d-ZA4lWOmJ1"
      }
    },
    {
      "cell_type": "code",
      "source": [
        "b3 = ((1*0)-(1*0))/1\n",
        "b3"
      ],
      "metadata": {
        "colab": {
          "base_uri": "https://localhost:8080/"
        },
        "id": "f6NIqIYyPMbs",
        "outputId": "5d8c7d03-3c19-441a-b812-873a1e844d26"
      },
      "execution_count": 2,
      "outputs": [
        {
          "output_type": "execute_result",
          "data": {
            "text/plain": [
              "0.0"
            ]
          },
          "metadata": {},
          "execution_count": 2
        }
      ]
    },
    {
      "cell_type": "markdown",
      "source": [
        "| Coeficientes |Valor 1|Valor 2 |Valor 3|\n",
        "|:------------:|:-----:|:------:|:-----:|\n",
        "| $s^6$        |1      |1       |1      |\n",
        "| $s^5$        |1      |2       |1      |\n",
        "| $s^4$        |-1     |0       |0      |\n",
        "| $s^3$        |       |        |       |\n",
        "| $s^2$        |       |        |       |\n",
        "| $s^1$        |       |        |       |\n",
        "| $s^0$        |       |        |       |"
      ],
      "metadata": {
        "id": "a5lwpBRiPsY2"
      }
    },
    {
      "cell_type": "code",
      "source": [
        "c1 = ((-1*2)-(1*0))/-1\n",
        "c1"
      ],
      "metadata": {
        "colab": {
          "base_uri": "https://localhost:8080/"
        },
        "id": "r7nkCJgPPugK",
        "outputId": "5c870c9c-d8d2-49d0-cb70-32206fca8276"
      },
      "execution_count": 4,
      "outputs": [
        {
          "output_type": "execute_result",
          "data": {
            "text/plain": [
              "2.0"
            ]
          },
          "metadata": {},
          "execution_count": 4
        }
      ]
    },
    {
      "cell_type": "markdown",
      "source": [
        "| Coeficientes |Valor 1|Valor 2 |Valor 3|\n",
        "|:------------:|:-----:|:------:|:-----:|\n",
        "| $s^6$        |1      |1       |1      |\n",
        "| $s^5$        |1      |2       |1      |\n",
        "| $s^4$        |-1     |0       |0      |\n",
        "| $s^3$        |2      |        |       |\n",
        "| $s^2$        |       |        |       |\n",
        "| $s^1$        |       |        |       |\n",
        "| $s^0$        |       |        |       |"
      ],
      "metadata": {
        "id": "qIilYe6tRKHS"
      }
    },
    {
      "cell_type": "code",
      "source": [
        "c2 = ((-1*0)-(1*0))/-1\n",
        "c2"
      ],
      "metadata": {
        "colab": {
          "base_uri": "https://localhost:8080/"
        },
        "id": "VNMyiSsmRMk9",
        "outputId": "7e8293fa-591f-4135-a2d9-21bff8f8c122"
      },
      "execution_count": 5,
      "outputs": [
        {
          "output_type": "execute_result",
          "data": {
            "text/plain": [
              "-0.0"
            ]
          },
          "metadata": {},
          "execution_count": 5
        }
      ]
    },
    {
      "cell_type": "markdown",
      "source": [
        "| Coeficientes |Valor 1|Valor 2 |Valor 3|\n",
        "|:------------:|:-----:|:------:|:-----:|\n",
        "| $s^6$        |1      |1       |1      |\n",
        "| $s^5$        |1      |2       |1      |\n",
        "| $s^4$        |-1     |0       |0      |\n",
        "| $s^3$        |2      |0       |       |\n",
        "| $s^2$        |       |        |       |\n",
        "| $s^1$        |       |        |       |\n",
        "| $s^0$        |       |        |       |"
      ],
      "metadata": {
        "id": "MVRaN9z9XCaz"
      }
    },
    {
      "cell_type": "code",
      "source": [
        "c3 = ((-1*0)-(1*0))/-1\n",
        "c3"
      ],
      "metadata": {
        "colab": {
          "base_uri": "https://localhost:8080/"
        },
        "id": "KPm2gjhIXGDf",
        "outputId": "6cde1364-e996-49a1-a3fe-63eee4335265"
      },
      "execution_count": 6,
      "outputs": [
        {
          "output_type": "execute_result",
          "data": {
            "text/plain": [
              "-0.0"
            ]
          },
          "metadata": {},
          "execution_count": 6
        }
      ]
    },
    {
      "cell_type": "markdown",
      "source": [
        "| Coeficientes |Valor 1|Valor 2 |Valor 3|\n",
        "|:------------:|:-----:|:------:|:-----:|\n",
        "| $s^6$        |1      |1       |1      |\n",
        "| $s^5$        |1      |2       |1      |\n",
        "| $s^4$        |-1     |0       |0      |\n",
        "| $s^3$        |2      |0       |0      |\n",
        "| $s^2$        |       |        |       |\n",
        "| $s^1$        |       |        |       |\n",
        "| $s^0$        |       |        |       |"
      ],
      "metadata": {
        "id": "dw6LRfpnsc7g"
      }
    },
    {
      "cell_type": "code",
      "source": [
        "d1 = ((2*0)-(-1*0))/2\n",
        "d1"
      ],
      "metadata": {
        "colab": {
          "base_uri": "https://localhost:8080/"
        },
        "id": "Y6D1JDlise6t",
        "outputId": "9776893d-4bb1-462a-df20-99e7e4e96e03"
      },
      "execution_count": 7,
      "outputs": [
        {
          "output_type": "execute_result",
          "data": {
            "text/plain": [
              "0.0"
            ]
          },
          "metadata": {},
          "execution_count": 7
        }
      ]
    },
    {
      "cell_type": "markdown",
      "source": [
        "| Coeficientes |Valor 1|Valor 2 |Valor 3|\n",
        "|:------------:|:-----:|:------:|:-----:|\n",
        "| $s^6$        |1      |1       |1      |\n",
        "| $s^5$        |1      |2       |1      |\n",
        "| $s^4$        |-1     |0       |0      |\n",
        "| $s^3$        |2      |0       |0      |\n",
        "| $s^2$        |0      |        |       |\n",
        "| $s^1$        |       |        |       |\n",
        "| $s^0$        |       |        |       |"
      ],
      "metadata": {
        "id": "luaGsMKoxd3C"
      }
    },
    {
      "cell_type": "code",
      "source": [
        "d2 = ((2*0)-(-1*0))/2\n",
        "d2"
      ],
      "metadata": {
        "colab": {
          "base_uri": "https://localhost:8080/"
        },
        "id": "UKJxZ8_DxiXI",
        "outputId": "c0e8e922-af98-489c-a2cf-3d1b61846a35"
      },
      "execution_count": 9,
      "outputs": [
        {
          "output_type": "execute_result",
          "data": {
            "text/plain": [
              "0.0"
            ]
          },
          "metadata": {},
          "execution_count": 9
        }
      ]
    },
    {
      "cell_type": "markdown",
      "source": [
        "| Coeficientes |Valor 1|Valor 2 |Valor 3|\n",
        "|:------------:|:-----:|:------:|:-----:|\n",
        "| $s^6$        |1      |1       |1      |\n",
        "| $s^5$        |1      |2       |1      |\n",
        "| $s^4$        |-1     |0       |0      |\n",
        "| $s^3$        |2      |0       |0      |\n",
        "| $s^2$        |0      |0       |       |\n",
        "| $s^1$        |       |        |       |\n",
        "| $s^0$        |       |        |       |"
      ],
      "metadata": {
        "id": "8anMk8qixtPS"
      }
    },
    {
      "cell_type": "code",
      "source": [
        "d3 = ((2*0)-(-1*0))/2\n",
        "d3"
      ],
      "metadata": {
        "colab": {
          "base_uri": "https://localhost:8080/"
        },
        "id": "-c59y_R8zQY4",
        "outputId": "8e5efaa2-aed1-48e0-f05c-f2ff76431788"
      },
      "execution_count": 10,
      "outputs": [
        {
          "output_type": "execute_result",
          "data": {
            "text/plain": [
              "0.0"
            ]
          },
          "metadata": {},
          "execution_count": 10
        }
      ]
    },
    {
      "cell_type": "markdown",
      "source": [
        "| Coeficientes |Valor 1|Valor 2 |Valor 3|\n",
        "|:------------:|:-----:|:------:|:-----:|\n",
        "| $s^6$        |1      |1       |1      |\n",
        "| $s^5$        |1      |2       |1      |\n",
        "| $s^4$        |-1     |0       |0      |\n",
        "| $s^3$        |2      |0       |0      |\n",
        "| $s^2$        |0      |0       |0      |\n",
        "| $s^1$        |       |        |       |\n",
        "| $s^0$        |       |        |       |"
      ],
      "metadata": {
        "id": "RoSPF2nf2J03"
      }
    },
    {
      "cell_type": "code",
      "source": [
        "e1 = ((0*0)-(2*0))/0\n",
        "e1"
      ],
      "metadata": {
        "colab": {
          "base_uri": "https://localhost:8080/",
          "height": 183
        },
        "id": "OWOOzh1H2LkC",
        "outputId": "1084f604-9256-4d49-fad5-74f3e0fb1761"
      },
      "execution_count": 11,
      "outputs": [
        {
          "output_type": "error",
          "ename": "ZeroDivisionError",
          "evalue": "ignored",
          "traceback": [
            "\u001b[0;31m---------------------------------------------------------------------------\u001b[0m",
            "\u001b[0;31mZeroDivisionError\u001b[0m                         Traceback (most recent call last)",
            "\u001b[0;32m<ipython-input-11-da2e4faaf9aa>\u001b[0m in \u001b[0;36m<cell line: 1>\u001b[0;34m()\u001b[0m\n\u001b[0;32m----> 1\u001b[0;31m \u001b[0me1\u001b[0m \u001b[0;34m=\u001b[0m \u001b[0;34m(\u001b[0m\u001b[0;34m(\u001b[0m\u001b[0;36m0\u001b[0m\u001b[0;34m*\u001b[0m\u001b[0;36m0\u001b[0m\u001b[0;34m)\u001b[0m\u001b[0;34m-\u001b[0m\u001b[0;34m(\u001b[0m\u001b[0;36m2\u001b[0m\u001b[0;34m*\u001b[0m\u001b[0;36m0\u001b[0m\u001b[0;34m)\u001b[0m\u001b[0;34m)\u001b[0m\u001b[0;34m/\u001b[0m\u001b[0;36m0\u001b[0m\u001b[0;34m\u001b[0m\u001b[0;34m\u001b[0m\u001b[0m\n\u001b[0m\u001b[1;32m      2\u001b[0m \u001b[0me1\u001b[0m\u001b[0;34m\u001b[0m\u001b[0;34m\u001b[0m\u001b[0m\n",
            "\u001b[0;31mZeroDivisionError\u001b[0m: division by zero"
          ]
        }
      ]
    },
    {
      "cell_type": "markdown",
      "source": [
        "# Diagramas de control"
      ],
      "metadata": {
        "id": "a3KlWGiiTgAt"
      }
    },
    {
      "cell_type": "markdown",
      "source": [
        "![WhatsApp Image 2023-06-02 at 12.27.36 PM.jpeg](data:image/jpeg;base64,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)"
      ],
      "metadata": {
        "id": "Ni_zag5tyNPg"
      }
    },
    {
      "cell_type": "markdown",
      "source": [
        "\\begin{equation}\n",
        "A = C \\times G_1(s)\n",
        "\\end{equation}\n",
        "\\begin{equation}\n",
        "B = A \\times G_3(s)\n",
        "\\end{equation}\n",
        "\\begin{equation}\n",
        "C = R(s) - B\n",
        "\\end{equation}\n",
        "\\begin{equation}\n",
        "D = A \\times G_4(s)\n",
        "\\end{equation}\n",
        "\\begin{equation}\n",
        "E = D - Y(s)\n",
        "\\end{equation}\n",
        "\\begin{equation}\n",
        "F = E \\times G_1(s)\n",
        "\\end{equation}\n",
        "\\begin{equation}\n",
        "G = E \\times G_5(s)\n",
        "\\end{equation}\n",
        "\n",
        "\n",
        "---\n",
        "\n",
        "\\begin{equation}\n",
        "A = R(s)G_2(s) - BG_2(s)\n",
        "\\end{equation}\n",
        "\\begin{equation}\n",
        "B = R(s)G_2(s)G_3(s) - BG_2(s)G_3(s)\n",
        "\\end{equation}\n",
        "\\begin{equation}\n",
        "C = R(s) - (R(s)G_2(s)G_3(s) - BG_2(s)G_3(s))\n",
        "\\end{equation}\n",
        "\\begin{equation}\n",
        "D = R(s)G_2(s)G_4(s) - BG_2(s)G_4(S)\n",
        "\\end{equation}\n",
        "\\begin{equation}\n",
        "E = ((s)G_2(s)G_4(s) - BG_2(s)G_4(S)) - Y(s)\n",
        "\\end{equation}\n",
        "\\begin{equation}\n",
        "F = ((s)G_2(s)G_4(s)G_1(s) - BG_2(s)G_4(S)G_1(s)) - Y(s)G_1(s)\n",
        "\\end{equation}\n",
        "\\begin{equation}\n",
        "G = ((s)G_2(s)G_4(s)G_5(s) - BG_2(s)G_4(S)G_5(s)) - Y(s)G_5(s)\n",
        "\\end{equation}"
      ],
      "metadata": {
        "id": "CgkQFEHw0WvD"
      }
    },
    {
      "cell_type": "markdown",
      "source": [
        "![Figura2.png](data:image/png;base64,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)"
      ],
      "metadata": {
        "id": "gHY2545IKgKo"
      }
    },
    {
      "cell_type": "markdown",
      "source": [
        "\\begin{equation}\n",
        "A = R(s)\n",
        "\\end{equation}\n",
        "\\begin{equation}\n",
        "B = A - G_3(s)\n",
        "\\end{equation}\n",
        "\\begin{equation}\n",
        "C = A - G_4(s)\n",
        "\\end{equation}\n",
        "\\begin{equation}\n",
        "D = G - G_7(s)\n",
        "\\end{equation}\n",
        "\\begin{equation}\n",
        "E = F + G_1(s)\n",
        "\\end{equation}\n",
        "\\begin{equation}\n",
        "F = a \\times G_2(s)\n",
        "\\end{equation}\n",
        "\\begin{equation}\n",
        "G = F + G_5(s)\n",
        "\\end{equation}\n",
        "\\begin{equation}\n",
        "C(s) = G_6(s) - G\n",
        "\\end{equation}\n",
        "\n",
        "\n",
        "---\n",
        "\\begin{equation}\n",
        "D = (F + G_5(s)) - G_7(s) \n",
        "\\end{equation}\n",
        "\\begin{equation}\n",
        "E = (a \\times G_2(s)) + G_1(s)\n",
        "\\end{equation}\n",
        "\\begin{equation}\n",
        "F = a \\times G_2(s)\n",
        "\\end{equation}\\begin{equation}\n",
        "G = (a \\times G_2(s)) + G_5(s)\n",
        "\\end{equation}\n",
        "\\begin{equation}\n",
        "C(s) = G_6(s) - ((a \\times G_2(s)) + G_5(s))\n",
        "\\end{equation}"
      ],
      "metadata": {
        "id": "igcKxaAlEalt"
      }
    }
  ]
}