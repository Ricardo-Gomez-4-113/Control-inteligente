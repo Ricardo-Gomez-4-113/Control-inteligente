{
  "nbformat": 4,
  "nbformat_minor": 0,
  "metadata": {
    "colab": {
      "provenance": [],
      "authorship_tag": "ABX9TyMU3N/Amxtap1Av7UaKL8S5",
      "include_colab_link": true
    },
    "kernelspec": {
      "name": "python3",
      "display_name": "Python 3"
    },
    "language_info": {
      "name": "python"
    }
  },
  "cells": [
    {
      "cell_type": "markdown",
      "metadata": {
        "id": "view-in-github",
        "colab_type": "text"
      },
      "source": [
        "<a href=\"https://colab.research.google.com/github/Ricardo-Gomez-4-113/Control-inteligente/blob/main/Routh_y_matrices.ipynb\" target=\"_parent\"><img src=\"https://colab.research.google.com/assets/colab-badge.svg\" alt=\"Open In Colab\"/></a>"
      ]
    },
    {
      "cell_type": "markdown",
      "source": [
        "# Ejercicio A\n",
        "\n",
        "\n",
        "---\n",
        "\n"
      ],
      "metadata": {
        "id": "iFcsYDtzF6lO"
      }
    },
    {
      "cell_type": "markdown",
      "source": [
        "# Formulas\n",
        "\\begin{equation}\n",
        "m\\ddot{x} + b\\dot{x} + kx = 0\n",
        "\\end{equation}\n",
        "\\begin{equation}\n",
        "x = x_1\n",
        "\\end{equation}\n",
        "\\begin{equation}\n",
        "\\dot{x} = x_2\n",
        "\\end{equation}\n",
        "\\begin{equation}\n",
        "\\ddot{x} = \\dot{x_2}\n",
        "\\end{equation}\n",
        "\\begin{equation}\n",
        "\\dot{x_1} = x_2\n",
        "\\end{equation}\n",
        "\\begin{equation}\n",
        "\\dot{x_2} = - \\frac{b}{m} \\dot{x} - \\frac{k}{m}x\n",
        "\\end{equation}\n",
        "\n",
        "\n",
        "---\n",
        "\n"
      ],
      "metadata": {
        "id": "9YrT2y4sF-B-"
      }
    },
    {
      "cell_type": "markdown",
      "source": [
        "# Forma matricial"
      ],
      "metadata": {
        "id": "azrXsJhWTooU"
      }
    },
    {
      "cell_type": "markdown",
      "source": [
        "\\begin{equation}\n",
        "\\begin{bmatrix}\n",
        "\\dot{x_1}\\\\\n",
        "\\dot{x_2}\n",
        "\\end{bmatrix}\n",
        "= \\begin{bmatrix}\n",
        "0 & 1\\\\\n",
        "- \\frac{k}{m} & - \\frac{b}{m}\n",
        "\\end{bmatrix} \n",
        "\\begin{bmatrix}\n",
        "x_1\\\\\n",
        "x_2\n",
        "\\end{bmatrix}\n",
        "\\end{equation}\n",
        "\n",
        "\n",
        "---\n",
        "\n"
      ],
      "metadata": {
        "id": "2_lfrvx7GG1U"
      }
    },
    {
      "cell_type": "markdown",
      "source": [
        "# Desarollo"
      ],
      "metadata": {
        "id": "hY4G1ePIVcJS"
      }
    },
    {
      "cell_type": "markdown",
      "source": [
        "Se sustituye **A**, **B**, y **D** en la ecuación: \n",
        "\\begin{equation}\n",
        "G(s) = C(sI - A)^{-1} B + D\n",
        "\\end{equation} "
      ],
      "metadata": {
        "id": "5oHx5ABqXZB6"
      }
    },
    {
      "cell_type": "markdown",
      "source": [
        "\\begin{equation}\n",
        "=\n",
        "\\begin{bmatrix}\n",
        "0 & 1\\\\\n",
        "\\end{bmatrix}\n",
        "\\left\\lbrace \n",
        "\\begin{bmatrix}\n",
        "s & 0\\\\\n",
        "0 & s\n",
        "\\end{bmatrix} \n",
        "-\\begin{bmatrix}\n",
        "0 & 1\\\\\n",
        "- \\frac{k}{m} & - \\frac{b}{m}\n",
        "\\end{bmatrix}\n",
        "\\right\\rbrace^{-1}\\\\\n",
        "= \\begin{bmatrix}\n",
        "0 & 1\\\\\n",
        "\\end{bmatrix}\n",
        "\\begin{bmatrix}\n",
        "s & -1\\\\\n",
        "\\frac{k}{m} s & + \\frac{b}{m}\n",
        "\\end{bmatrix}^{-1}\n",
        "\\end{equation}"
      ],
      "metadata": {
        "id": "XXYZoExCWFuU"
      }
    },
    {
      "cell_type": "markdown",
      "source": [
        "# Ejercicio B"
      ],
      "metadata": {
        "id": "ui7w99kj7AXA"
      }
    },
    {
      "cell_type": "markdown",
      "source": [
        "# Formulas\n",
        "\\begin{equation}\n",
        "m\\ddot{x} + k_1(x-y) + k_2x = 0\n",
        "\\end{equation}\n",
        "\\begin{equation}\n",
        "k_1(x-y) = b_1y\n",
        "\\end{equation}\n",
        "\\begin{equation}\n",
        "x = -\\frac{x_1}{m}(x-y)-\\frac{k_2}{m}x\n",
        "\\end{equation}\n",
        "\\begin{equation}\n",
        "y = -\\frac{k_1}{b_1}(x-y)\n",
        "\\end{equation}\n",
        "\n",
        "---\n",
        "\\begin{equation}\n",
        "\\ddot{x} = \\dot{x_2} = -\\frac{k_1}{m}(x_1-y)-\\frac{k_2}{m}x_1\n",
        "\\end{equation}\n",
        "\\begin{equation}\n",
        "\\ddot{x} = x_2\n",
        "\\end{equation}\n",
        "\\begin{equation}\n",
        "y = x = -\\frac{k_1}{b}(x-y)\n",
        "\\end{equation}\n",
        "\n",
        "\n",
        "---\n",
        "\n",
        "\\begin{equation}\n",
        "x_1 = x\n",
        "\\end{equation}\n",
        "\\begin{equation}\n",
        "\\dot{x_1} = \\dot{x}\n",
        "\\end{equation}\n",
        "\\begin{equation}\n",
        "x_2 = \\dot{x}\n",
        "\\end{equation}\n",
        "\\begin{equation}\n",
        "\\ddot{x} = \\dot{x}\n",
        "\\end{equation}\n",
        "\\begin{equation}\n",
        "\\dot{x_1} = x_2\n",
        "\\end{equation}\n",
        "\\begin{equation}\n",
        "\\dot{x_2} = -\\frac{k_1}{m}(x_1-x_3) - \\frac{k_2}{m}(\\dot{x_1})\n",
        "\\end{equation}\n",
        "\\begin{equation}\n",
        "x_3 = y\n",
        "\\end{equation}\n",
        "\\begin{equation}\n",
        "\\dot{x_3} = \\dot{y}\n",
        "\\end{equation}\n",
        "\\begin{equation}\n",
        "\\dot{x_3} = \\frac{k_1}{b}(x_1-x_3)\n",
        "\\end{equation}"
      ],
      "metadata": {
        "id": "kVkPdjXr7H2I"
      }
    },
    {
      "cell_type": "markdown",
      "source": [
        "# Forma matricial"
      ],
      "metadata": {
        "id": "9TWbde2v_SN1"
      }
    },
    {
      "cell_type": "markdown",
      "source": [
        "\\begin{equation}\n",
        "\\begin{bmatrix}\n",
        "\\dot{x_1}\\\\\n",
        "\\dot{x_2}\\\\\n",
        "\\dot{x_3}\\\\\n",
        "\\end{bmatrix}\n",
        "= \\begin{bmatrix}\n",
        "0 & 1\\\\\n",
        "1 & 0\n",
        "\\end{bmatrix} \n",
        "\\begin{bmatrix}\n",
        "x_1\\\\\n",
        "x_2\n",
        "\\end{bmatrix}\n",
        "\\end{equation}\n",
        "\n",
        "\n",
        "---\n"
      ],
      "metadata": {
        "id": "PEf-wP85Ag8W"
      }
    },
    {
      "cell_type": "markdown",
      "source": [
        "# Ejercicio C\n",
        "\n",
        "\n",
        "---\n",
        "\n"
      ],
      "metadata": {
        "id": "qBKDHu7tekrn"
      }
    },
    {
      "cell_type": "markdown",
      "source": [
        "## Formulas\n",
        "\\begin{equation}\n",
        "\\ddot{Θ} + \\frac{g}{l} \\sin{Θ} = 0\n",
        "\\end{equation}\n",
        "\\begin{equation}\n",
        "Θ = x_1\n",
        "\\end{equation}\n",
        "\\begin{equation}\n",
        "\\dot{Θ} = x_2\n",
        "\\end{equation}\n",
        "\\begin{equation}\n",
        "\\ddot{Θ} = \\dot{x_2}\n",
        "\\end{equation}\n",
        "\\begin{equation}\n",
        "\\dot{x_2} = - \\frac{g}{l} \\sin{Θ}\n",
        "\\end{equation}\n",
        "\n",
        "\n",
        "---\n",
        "\n"
      ],
      "metadata": {
        "id": "SMFJpPfC27QW"
      }
    },
    {
      "cell_type": "markdown",
      "source": [
        "# Forma matricial"
      ],
      "metadata": {
        "id": "B6vkJVh03Ct4"
      }
    },
    {
      "cell_type": "markdown",
      "source": [
        "\\begin{equation}\n",
        "\\begin{bmatrix}\n",
        "\\dot{x_1}\\\\\n",
        "\\dot{x_2}\n",
        "\\end{bmatrix}\n",
        "= \\begin{bmatrix}\n",
        "0 & 1\\\\\n",
        "1 & 0\n",
        "\\end{bmatrix} \n",
        "\\begin{bmatrix}\n",
        "x_1\\\\\n",
        "x_2\n",
        "\\end{bmatrix}\n",
        "\\end{equation}\n",
        "\n",
        "\n",
        "---\n",
        "\n"
      ],
      "metadata": {
        "id": "ZtrYQKzV3E2G"
      }
    },
    {
      "cell_type": "markdown",
      "source": [
        "# Desarrollo"
      ],
      "metadata": {
        "id": "2lecsUqA5ECB"
      }
    },
    {
      "cell_type": "markdown",
      "source": [
        "Se sustituye **A**, **B**, y **D** en la ecuación: \n",
        "\\begin{equation}\n",
        "G(s) = C(sI - A)^{-1} B + D\n",
        "\\end{equation} "
      ],
      "metadata": {
        "id": "KV5NIpFI6JSa"
      }
    },
    {
      "cell_type": "markdown",
      "source": [
        "\\begin{equation}\n",
        "=\n",
        "\\begin{bmatrix}\n",
        "0 & 1\\\\\n",
        "\\end{bmatrix}\n",
        "\\left\\lbrace \n",
        "\\begin{bmatrix}\n",
        "s & 0\\\\\n",
        "0 & s\n",
        "\\end{bmatrix} \n",
        "-\\begin{bmatrix}\n",
        "0 & 1\\\\\n",
        "1 & 0\n",
        "\\end{bmatrix}\n",
        "\\right\\rbrace^{-1}\\\\\n",
        "= \\begin{bmatrix}\n",
        "0 & 1\\\\\n",
        "\\end{bmatrix}\n",
        "\\begin{bmatrix}\n",
        "s & -1\\\\\n",
        "-1 & s\n",
        "\\end{bmatrix}^{-1}\n",
        "\\end{equation}\n",
        "\n",
        "\n",
        "---\n",
        "\n"
      ],
      "metadata": {
        "id": "3FPiiQqm6PJZ"
      }
    },
    {
      "cell_type": "markdown",
      "source": [
        "# Criterio de estabilidad de Routh"
      ],
      "metadata": {
        "id": "2CGPdGU_BrEb"
      }
    },
    {
      "cell_type": "markdown",
      "source": [
        "El criterio de estabilidad de Routh dice si existen o no raíces inestables en una ecuación polinomial, sin tener que obtenerlas en realidad. Este crite rio de estabilidad sólo se aplica a los polinomios con una cantidad finita de términos. Cuando se aplica el criterio a un sistema de control, la información sobre la estabilidad absoluta se obtiene  directamente de los coeficientes de la ecuación característica.\n",
        " \n",
        "\n",
        "\n",
        "---\n",
        "\n",
        "\n",
        "\n",
        "\n"
      ],
      "metadata": {
        "id": "qg2ohNGnB5Wf"
      }
    },
    {
      "cell_type": "markdown",
      "source": [
        "# Ejercicio 1: "
      ],
      "metadata": {
        "id": "xml5GhJ6WpHj"
      }
    },
    {
      "cell_type": "markdown",
      "source": [
        "Dado el polinomio característico\n",
        "\\begin{equation}\n",
        "P(s)=s^3+5s^2+6s+2\n",
        "\\end{equation}"
      ],
      "metadata": {
        "id": "YLtCJok4WqcL"
      }
    },
    {
      "cell_type": "markdown",
      "source": [
        "## Acomodo"
      ],
      "metadata": {
        "id": "9EAPDE5Ncpyw"
      }
    },
    {
      "cell_type": "markdown",
      "source": [
        "\\begin{equation}\n",
        "s^3+5s^2+6s+2 = 0\n",
        "\\end{equation}"
      ],
      "metadata": {
        "id": "laGVBi_McxI2"
      }
    },
    {
      "cell_type": "markdown",
      "source": [
        "## Matriz"
      ],
      "metadata": {
        "id": "vG8y7RJsi8Mn"
      }
    },
    {
      "cell_type": "markdown",
      "source": [
        "| Coeficientes |Valor 1|Valor 2 |\n",
        "|:------------:|:-----:|:------:|\n",
        "| $s^3$        | 1     | 6        \n",
        "| $s^2$        | 5     | 2\n",
        "| $s^1$        |       |\n",
        "| $s^0$        |       |\n"
      ],
      "metadata": {
        "id": "zbocYU3ui-qp"
      }
    },
    {
      "cell_type": "code",
      "source": [
        "b1 = ((5*6)-(1*2))/5\n",
        "b1"
      ],
      "metadata": {
        "colab": {
          "base_uri": "https://localhost:8080/"
        },
        "id": "WqwMWlCkocgy",
        "outputId": "3189d6f6-b53f-4a3e-e230-95e497c15a66"
      },
      "execution_count": null,
      "outputs": [
        {
          "output_type": "execute_result",
          "data": {
            "text/plain": [
              "5.6"
            ]
          },
          "metadata": {},
          "execution_count": 11
        }
      ]
    },
    {
      "cell_type": "markdown",
      "source": [
        "| Coeficientes |Valor 1|Valor 2 |\n",
        "|:------------:|:-----:|:------:|\n",
        "| $s^3$        | 1     | 6        \n",
        "| $s^2$        | 5     | 2\n",
        "| $s^1$        | 5.6      |\n",
        "| $s^0$        |       |\n",
        "\n"
      ],
      "metadata": {
        "id": "4pSMRfTPqNUU"
      }
    },
    {
      "cell_type": "code",
      "source": [
        "b2 = ((5*0)-(0*1))/5\n",
        "b2"
      ],
      "metadata": {
        "colab": {
          "base_uri": "https://localhost:8080/"
        },
        "id": "jgLrkhoorxb2",
        "outputId": "ce3ac544-166a-4aa7-fd61-c9c025e9842a"
      },
      "execution_count": null,
      "outputs": [
        {
          "output_type": "execute_result",
          "data": {
            "text/plain": [
              "0.0"
            ]
          },
          "metadata": {},
          "execution_count": 14
        }
      ]
    },
    {
      "cell_type": "markdown",
      "source": [
        "| Coeficientes |Valor 1|Valor 2 |\n",
        "|:------------:|:-----:|:------:|\n",
        "| $s^3$        | 1     | 6        \n",
        "| $s^2$        | 5     | 2\n",
        "| $s^1$        | 5.6   |0\n",
        "| $s^0$        |       |"
      ],
      "metadata": {
        "id": "oSMhgIub1vkU"
      }
    },
    {
      "cell_type": "code",
      "source": [
        "c1 = ((5.6*2)-(5*0))/5.6\n",
        "c1"
      ],
      "metadata": {
        "colab": {
          "base_uri": "https://localhost:8080/"
        },
        "id": "KVC1Ry0d5iu7",
        "outputId": "cef05eea-51d1-4834-d080-f973ed10389d"
      },
      "execution_count": null,
      "outputs": [
        {
          "output_type": "execute_result",
          "data": {
            "text/plain": [
              "2.0"
            ]
          },
          "metadata": {},
          "execution_count": 1
        }
      ]
    },
    {
      "cell_type": "markdown",
      "source": [
        "| Coeficientes |Valor 1|Valor 2 |\n",
        "|:------------:|:-----:|:------:|\n",
        "| $s^3$        | 1     | 6        \n",
        "| $s^2$        | 5     | 2\n",
        "| $s^1$        | 5.6   | 0\n",
        "| $s^0$        | 2  |"
      ],
      "metadata": {
        "id": "0TZnhKkl5nfG"
      }
    },
    {
      "cell_type": "markdown",
      "source": [
        "# Conclusión"
      ],
      "metadata": {
        "id": "9QgZtRk45vDW"
      }
    },
    {
      "cell_type": "markdown",
      "source": [
        "El polinomio característico es estale, debido a que no hay cambios de signo."
      ],
      "metadata": {
        "id": "AN8NNOq07GAD"
      }
    },
    {
      "cell_type": "markdown",
      "source": [
        "# Ejercicio 2:"
      ],
      "metadata": {
        "id": "7c5-mWvY8jt5"
      }
    },
    {
      "cell_type": "markdown",
      "source": [
        "Dado el polinomio característico\n",
        "\\begin{equation}\n",
        "P(s)=s^4+2s^3+4s^2+2s+1 \n",
        "\\end{equation}"
      ],
      "metadata": {
        "id": "gwvqAdO88l3g"
      }
    },
    {
      "cell_type": "markdown",
      "source": [
        "# Acomodo"
      ],
      "metadata": {
        "id": "YGma_Rf69WW7"
      }
    },
    {
      "cell_type": "markdown",
      "source": [
        "\\begin{equation}\n",
        "s^4+2s^3+4s^2+2s+1 = 0\n",
        "\\end{equation}"
      ],
      "metadata": {
        "id": "dX0CDauO9N-u"
      }
    },
    {
      "cell_type": "markdown",
      "source": [
        "# Matriz"
      ],
      "metadata": {
        "id": "gm5pjvR89pTB"
      }
    },
    {
      "cell_type": "markdown",
      "source": [
        "| Coeficientes |Valor 1|Valor 2 |Valor 3|\n",
        "|:------------:|:-----:|:------:|:-----:|\n",
        "| $s^4$        |1      |4       |1      |\n",
        "| $s^3$        |2      |2       |0      |\n",
        "| $s^2$        |       |        |       | \n",
        "| $s^1$        |       |        |       | \n",
        "| $s^0$        |       |        |       |       "
      ],
      "metadata": {
        "id": "G0jr60379qzH"
      }
    },
    {
      "cell_type": "code",
      "source": [
        "b1 = ((2*4)-(1*2))/2\n",
        "b1"
      ],
      "metadata": {
        "colab": {
          "base_uri": "https://localhost:8080/"
        },
        "id": "WMaPeV2AAOVn",
        "outputId": "f83f0822-0a8c-45af-9650-40c2b518a8ee"
      },
      "execution_count": null,
      "outputs": [
        {
          "output_type": "execute_result",
          "data": {
            "text/plain": [
              "3.0"
            ]
          },
          "metadata": {},
          "execution_count": 13
        }
      ]
    },
    {
      "cell_type": "markdown",
      "source": [
        "| Coeficientes |Valor 1|Valor 2 |Valor 3|\n",
        "|:------------:|:-----:|:------:|:-----:|\n",
        "| $s^4$        |1      |4       |1      |\n",
        "| $s^3$        |2      |2       |0      |\n",
        "| $s^2$        |3      |        |       | \n",
        "| $s^1$        |       |        |       | \n",
        "| $s^0$        |       |        |       |\n",
        "     "
      ],
      "metadata": {
        "id": "7resG0G_AirZ"
      }
    },
    {
      "cell_type": "code",
      "source": [
        "b2 = ((2*1)-(1*0))/2\n",
        "b2"
      ],
      "metadata": {
        "colab": {
          "base_uri": "https://localhost:8080/"
        },
        "id": "R8vJ-PY9BUV0",
        "outputId": "a0876d2b-2b4b-4b38-aad7-6eaa16ccb2b7"
      },
      "execution_count": null,
      "outputs": [
        {
          "output_type": "execute_result",
          "data": {
            "text/plain": [
              "1.0"
            ]
          },
          "metadata": {},
          "execution_count": 15
        }
      ]
    },
    {
      "cell_type": "markdown",
      "source": [
        "| Coeficientes |Valor 1|Valor 2 |Valor 3|\n",
        "|:------------:|:-----:|:------:|:-----:|\n",
        "| $s^4$        |1      |4       |1      |\n",
        "| $s^3$        |2      |2       |0      |\n",
        "| $s^2$        |3      |1       |       | \n",
        "| $s^1$        |       |        |       | \n",
        "| $s^0$        |       |        |       |\n",
        "|              |       |        |       |      "
      ],
      "metadata": {
        "id": "sGJ_uWl_B2AO"
      }
    },
    {
      "cell_type": "code",
      "source": [
        "b3 = ((2*0)-(1*0))/2\n",
        "b3"
      ],
      "metadata": {
        "colab": {
          "base_uri": "https://localhost:8080/"
        },
        "id": "2fJrRfAECC97",
        "outputId": "dda5a358-5368-4065-e422-9afd170647d0"
      },
      "execution_count": null,
      "outputs": [
        {
          "output_type": "execute_result",
          "data": {
            "text/plain": [
              "0.0"
            ]
          },
          "metadata": {},
          "execution_count": 17
        }
      ]
    },
    {
      "cell_type": "markdown",
      "source": [
        "| Coeficientes |Valor 1|Valor 2 |Valor 3|\n",
        "|:------------:|:-----:|:------:|:-----:|\n",
        "| $s^4$        |1      |4       |1      |\n",
        "| $s^3$        |2      |2       |0       |\n",
        "| $s^2$        |3      |1       |0      | \n",
        "| $s^1$        |       |        |       | \n",
        "| $s^0$        |       |        |       |"
      ],
      "metadata": {
        "id": "jC3zwBuOCmFM"
      }
    },
    {
      "cell_type": "code",
      "source": [
        "c1 = ((3*2)-(2*1))/3\n",
        "c1"
      ],
      "metadata": {
        "colab": {
          "base_uri": "https://localhost:8080/"
        },
        "id": "kKFIOXXIDA_b",
        "outputId": "7bc282fc-34b0-4f02-abe7-38645f7c3b9a"
      },
      "execution_count": null,
      "outputs": [
        {
          "output_type": "execute_result",
          "data": {
            "text/plain": [
              "1.3333333333333333"
            ]
          },
          "metadata": {},
          "execution_count": 18
        }
      ]
    },
    {
      "cell_type": "markdown",
      "source": [
        "| Coeficientes |Valor 1|Valor 2 |Valor 3|\n",
        "|:------------:|:-----:|:------:|:-----:|\n",
        "| $s^4$        |1      |4       |1      |\n",
        "| $s^3$        |2      |2       |0      |\n",
        "| $s^2$        |3      |1       |0      | \n",
        "| $s^1$        |1.3    |        |       | \n",
        "| $s^0$        |       |        |       |"
      ],
      "metadata": {
        "id": "UStl8WGPEKGx"
      }
    },
    {
      "cell_type": "code",
      "source": [
        "c2 = ((3*0)-(2*0))/3\n",
        "c2"
      ],
      "metadata": {
        "colab": {
          "base_uri": "https://localhost:8080/"
        },
        "id": "jBXL8LieE-ZK",
        "outputId": "cbe7d563-a80a-4ff9-ef25-d49db9bf32ea"
      },
      "execution_count": null,
      "outputs": [
        {
          "output_type": "execute_result",
          "data": {
            "text/plain": [
              "0.0"
            ]
          },
          "metadata": {},
          "execution_count": 19
        }
      ]
    },
    {
      "cell_type": "markdown",
      "source": [
        "| Coeficientes |Valor 1|Valor 2 |Valor 3|\n",
        "|:------------:|:-----:|:------:|:-----:|\n",
        "| $s^4$        |1      |4       |1      |\n",
        "| $s^3$        |2      |2       |0      |\n",
        "| $s^2$        |3      |1       |0      | \n",
        "| $s^1$        |1.3    |0       |       | \n",
        "| $s^0$        |       |        |       |"
      ],
      "metadata": {
        "id": "4jwnH0izE_aO"
      }
    },
    {
      "cell_type": "code",
      "source": [
        "c3 = ((3*0)-(2*0))/3\n",
        "c3"
      ],
      "metadata": {
        "colab": {
          "base_uri": "https://localhost:8080/"
        },
        "id": "Fxxh19IkFKra",
        "outputId": "79cd4b32-7d99-40ca-ebdb-9e17172fe750"
      },
      "execution_count": null,
      "outputs": [
        {
          "output_type": "execute_result",
          "data": {
            "text/plain": [
              "0.0"
            ]
          },
          "metadata": {},
          "execution_count": 20
        }
      ]
    },
    {
      "cell_type": "markdown",
      "source": [
        "| Coeficientes |Valor 1|Valor 2 |Valor 3|\n",
        "|:------------:|:-----:|:------:|:-----:|\n",
        "| $s^4$        |1      |4       |1      |\n",
        "| $s^3$        |2      |2       |0      |\n",
        "| $s^2$        |3      |1       |0      | \n",
        "| $s^1$        |1.3    |0       |0      | \n",
        "| $s^0$        |       |        |       |"
      ],
      "metadata": {
        "id": "WQJN5d6ZFgG9"
      }
    },
    {
      "cell_type": "code",
      "source": [
        "d1 = ((1.3*1)-(3*0))/1.3\n",
        "d1"
      ],
      "metadata": {
        "colab": {
          "base_uri": "https://localhost:8080/"
        },
        "id": "N1P3jGrnFiDP",
        "outputId": "98444437-3886-4181-d84c-370953c6cbfa"
      },
      "execution_count": null,
      "outputs": [
        {
          "output_type": "execute_result",
          "data": {
            "text/plain": [
              "1.0"
            ]
          },
          "metadata": {},
          "execution_count": 2
        }
      ]
    },
    {
      "cell_type": "markdown",
      "source": [
        "| Coeficientes |Valor 1|Valor 2 |Valor 3|\n",
        "|:------------:|:-----:|:------:|:-----:|\n",
        "| $s^4$        |1      |4       |1      |\n",
        "| $s^3$        |2      |2       |0      |\n",
        "| $s^2$        |3      |1       |0      | \n",
        "| $s^1$        |1.3    |0       |0      | \n",
        "| $s^0$        |1      |        |       |"
      ],
      "metadata": {
        "id": "-O7OKInMG0Rc"
      }
    },
    {
      "cell_type": "markdown",
      "source": [
        "# Conclusión"
      ],
      "metadata": {
        "id": "LR4mnZLdG2pw"
      }
    },
    {
      "cell_type": "markdown",
      "source": [],
      "metadata": {
        "id": "ngb1JhctHD4j"
      }
    },
    {
      "cell_type": "markdown",
      "source": [
        "# Ejercicio 3:"
      ],
      "metadata": {
        "id": "WZmQ6fwuIW97"
      }
    },
    {
      "cell_type": "markdown",
      "source": [
        "Dado el polinomio característico\n",
        "\\begin{equation}\n",
        " P(s)=s^5+4s^4+6s^3+4s^2+2s+1\n",
        "\\end{equation}"
      ],
      "metadata": {
        "id": "Nz3_xqi4Idsa"
      }
    },
    {
      "cell_type": "markdown",
      "source": [
        "# Acomodo"
      ],
      "metadata": {
        "id": "3zfIntl7Ih_M"
      }
    },
    {
      "cell_type": "markdown",
      "source": [
        "\\begin{equation}\n",
        " s^5+4s^4+6s^3+4s^2+2s+1 = 0\n",
        "\\end{equation}"
      ],
      "metadata": {
        "id": "UKh-7bCeI_rk"
      }
    },
    {
      "cell_type": "markdown",
      "source": [
        "# Matriz"
      ],
      "metadata": {
        "id": "E1emto-cJExD"
      }
    },
    {
      "cell_type": "markdown",
      "source": [
        "| Coeficientes |Valor 1|Valor 2 |Valor 3|\n",
        "|:------------:|:-----:|:------:|:-----:|\n",
        "| $s^5$        |1      |6       |2      |\n",
        "| $s^4$        |4      |4       |1      |\n",
        "| $s^3$        |       |        |       |\n",
        "| $s^2$        |       |        |       |\n",
        "| $s^1$        |       |        |       |\n",
        "| $s^0$        |       |        |       |"
      ],
      "metadata": {
        "id": "EdZ5toYPJIKP"
      }
    },
    {
      "cell_type": "code",
      "source": [
        "b1 = ((4*6)-(1*4))/4\n",
        "b1"
      ],
      "metadata": {
        "colab": {
          "base_uri": "https://localhost:8080/"
        },
        "id": "gwe2RsjXL9ik",
        "outputId": "a9a3216f-f74b-4ff6-bc96-4f3275588e66"
      },
      "execution_count": null,
      "outputs": [
        {
          "output_type": "execute_result",
          "data": {
            "text/plain": [
              "5.0"
            ]
          },
          "metadata": {},
          "execution_count": 22
        }
      ]
    },
    {
      "cell_type": "markdown",
      "source": [
        "| Coeficientes |Valor 1|Valor 2 |Valor 3|\n",
        "|:------------:|:-----:|:------:|:-----:|\n",
        "| $s^5$        |1      |6       |2      |\n",
        "| $s^4$        |4      |4       |1      |\n",
        "| $s^3$        | 5     |        |       |\n",
        "| $s^2$        |       |        |       |\n",
        "| $s^1$        |       |        |       |\n",
        "| $s^0$        |       |        |       |"
      ],
      "metadata": {
        "id": "v4VIuREqNLH9"
      }
    },
    {
      "cell_type": "code",
      "source": [
        "b2 = ((4*2)-(1*1))/4\n",
        "b2"
      ],
      "metadata": {
        "colab": {
          "base_uri": "https://localhost:8080/"
        },
        "id": "9zBAywjVNNwK",
        "outputId": "17be0567-df7c-4429-e3a7-20063c35e05e"
      },
      "execution_count": null,
      "outputs": [
        {
          "output_type": "execute_result",
          "data": {
            "text/plain": [
              "1.75"
            ]
          },
          "metadata": {},
          "execution_count": 24
        }
      ]
    },
    {
      "cell_type": "markdown",
      "source": [
        "| Coeficientes |Valor 1|Valor 2 |Valor 3|\n",
        "|:------------:|:-----:|:------:|:-----:|\n",
        "| $s^5$        |1      |6       |2      |\n",
        "| $s^4$        |4      |4       |1      |\n",
        "| $s^3$        | 5     |1.75    |       |\n",
        "| $s^2$        |       |        |       |\n",
        "| $s^1$        |       |        |       |\n",
        "| $s^0$        |       |        |       |"
      ],
      "metadata": {
        "id": "3VJpiJAEPLfj"
      }
    },
    {
      "cell_type": "code",
      "source": [
        "b3 = ((4*0)-(1*0))/4\n",
        "b3"
      ],
      "metadata": {
        "colab": {
          "base_uri": "https://localhost:8080/"
        },
        "id": "tsep-wf2PLIJ",
        "outputId": "3f41afec-6773-46ad-ef7d-f0060eda9d88"
      },
      "execution_count": null,
      "outputs": [
        {
          "output_type": "execute_result",
          "data": {
            "text/plain": [
              "0.0"
            ]
          },
          "metadata": {},
          "execution_count": 26
        }
      ]
    },
    {
      "cell_type": "markdown",
      "source": [
        "| Coeficientes |Valor 1|Valor 2 |Valor 3|\n",
        "|:------------:|:-----:|:------:|:-----:|\n",
        "| $s^5$        |1      |6       |2      |\n",
        "| $s^4$        |4      |4       |1      |\n",
        "| $s^3$        | 5     |1.75    |0      |\n",
        "| $s^2$        |       |        |       |\n",
        "| $s^1$        |       |        |       |\n",
        "| $s^0$        |       |        |       |"
      ],
      "metadata": {
        "id": "3b8S2sTNPctP"
      }
    },
    {
      "cell_type": "code",
      "source": [
        "c1 = ((5*4)-(4*1.75))/5\n",
        "c1"
      ],
      "metadata": {
        "colab": {
          "base_uri": "https://localhost:8080/"
        },
        "id": "__dH405PQNuv",
        "outputId": "8e13c903-ae38-4f2d-8fad-d8b6114e1a75"
      },
      "execution_count": null,
      "outputs": [
        {
          "output_type": "execute_result",
          "data": {
            "text/plain": [
              "2.6"
            ]
          },
          "metadata": {},
          "execution_count": 27
        }
      ]
    },
    {
      "cell_type": "markdown",
      "source": [
        "| Coeficientes |Valor 1|Valor 2 |Valor 3|\n",
        "|:------------:|:-----:|:------:|:-----:|\n",
        "| $s^5$        |1      |6       |2      |\n",
        "| $s^4$        |4      |4       |1      |\n",
        "| $s^3$        |5      |1.75    |0      |\n",
        "| $s^2$        |2.6    |        |       |\n",
        "| $s^1$        |       |        |       |\n",
        "| $s^0$        |       |        |       |"
      ],
      "metadata": {
        "id": "A_P5z9JhRWC2"
      }
    },
    {
      "cell_type": "code",
      "source": [
        "c2 = ((5*1)-(4*0))/5\n",
        "c2"
      ],
      "metadata": {
        "colab": {
          "base_uri": "https://localhost:8080/"
        },
        "id": "3jgmt5cnRa5W",
        "outputId": "8c635a7e-b808-46c7-fea0-65b5ccfd87e7"
      },
      "execution_count": null,
      "outputs": [
        {
          "output_type": "execute_result",
          "data": {
            "text/plain": [
              "1.0"
            ]
          },
          "metadata": {},
          "execution_count": 28
        }
      ]
    },
    {
      "cell_type": "markdown",
      "source": [
        "| Coeficientes |Valor 1|Valor 2 |Valor 3|\n",
        "|:------------:|:-----:|:------:|:-----:|\n",
        "| $s^5$        |1      |6       |2      |\n",
        "| $s^4$        |4      |4       |1      |\n",
        "| $s^3$        |5      |1.75    |0      |\n",
        "| $s^2$        |2.6    |1       |       |\n",
        "| $s^1$        |       |        |       |\n",
        "| $s^0$        |       |        |       |"
      ],
      "metadata": {
        "id": "cn6ixixQRx0P"
      }
    },
    {
      "cell_type": "code",
      "source": [
        "c3 = ((5*0)-(4*0))/5\n",
        "c3"
      ],
      "metadata": {
        "colab": {
          "base_uri": "https://localhost:8080/"
        },
        "id": "A0cCpV5lRzmr",
        "outputId": "ddfaed4d-5175-4334-d90b-e3b969c1400b"
      },
      "execution_count": null,
      "outputs": [
        {
          "output_type": "execute_result",
          "data": {
            "text/plain": [
              "0.0"
            ]
          },
          "metadata": {},
          "execution_count": 29
        }
      ]
    },
    {
      "cell_type": "markdown",
      "source": [
        "| Coeficientes |Valor 1|Valor 2 |Valor 3|\n",
        "|:------------:|:-----:|:------:|:-----:|\n",
        "| $s^5$        |1      |6       |2      |\n",
        "| $s^4$        |4      |4       |1      |\n",
        "| $s^3$        |5      |1.75    |0      |\n",
        "| $s^2$        |2.6    |1       |0      |\n",
        "| $s^1$        |       |        |       |\n",
        "| $s^0$        |       |        |       |"
      ],
      "metadata": {
        "id": "_qST5YiWR_7M"
      }
    },
    {
      "cell_type": "code",
      "source": [
        "d1 = ((2.6*1.75)-(5*1))/2.6\n",
        "d1"
      ],
      "metadata": {
        "colab": {
          "base_uri": "https://localhost:8080/"
        },
        "id": "T819kOPGSEUS",
        "outputId": "a147d831-ceb7-4a77-b9e8-66f0a0c8f3f8"
      },
      "execution_count": null,
      "outputs": [
        {
          "output_type": "execute_result",
          "data": {
            "text/plain": [
              "-0.17307692307692313"
            ]
          },
          "metadata": {},
          "execution_count": 6
        }
      ]
    },
    {
      "cell_type": "markdown",
      "source": [
        "| Coeficientes |Valor 1|Valor 2 |Valor 3|\n",
        "|:------------:|:-----:|:------:|:-----:|\n",
        "| $s^5$        |1      |6       |2      |\n",
        "| $s^4$        |4      |4       |1      |\n",
        "| $s^3$        |5      |1.75    |0      |\n",
        "| $s^2$        |2.6    |1       |0      |\n",
        "| $s^1$        |-0.17  |        |       |\n",
        "| $s^0$        |       |        |       |"
      ],
      "metadata": {
        "id": "SIbuOkAmS-xy"
      }
    },
    {
      "cell_type": "code",
      "source": [
        "d2 = ((2.6*0)-(5*0))/2.6\n",
        "d2"
      ],
      "metadata": {
        "colab": {
          "base_uri": "https://localhost:8080/"
        },
        "id": "mB__zr37JdZ1",
        "outputId": "2c17ed56-281b-4d11-9b31-3b7782453fd4"
      },
      "execution_count": null,
      "outputs": [
        {
          "output_type": "execute_result",
          "data": {
            "text/plain": [
              "0.0"
            ]
          },
          "metadata": {},
          "execution_count": 5
        }
      ]
    },
    {
      "cell_type": "markdown",
      "source": [
        "| Coeficientes |Valor 1|Valor 2 |Valor 3|\n",
        "|:------------:|:-----:|:------:|:-----:|\n",
        "| $s^5$        |1      |6       |2      |\n",
        "| $s^4$        |4      |4       |1      |\n",
        "| $s^3$        |5      |1.75    |0      |\n",
        "| $s^2$        |2.6    |1       |0      |\n",
        "| $s^1$        |-0.17  |0       |       |\n",
        "| $s^0$        |1      |        |       |"
      ],
      "metadata": {
        "id": "0FkzydewKM6R"
      }
    },
    {
      "cell_type": "code",
      "source": [
        "d3 = ((-.17*1)-(2.6*0))/-.17\n",
        "d3"
      ],
      "metadata": {
        "colab": {
          "base_uri": "https://localhost:8080/"
        },
        "id": "mLFPMgyFK-dX",
        "outputId": "ce14d3a5-3a85-42eb-ee12-40d39e409b3e"
      },
      "execution_count": null,
      "outputs": [
        {
          "output_type": "execute_result",
          "data": {
            "text/plain": [
              "1.0"
            ]
          },
          "metadata": {},
          "execution_count": 8
        }
      ]
    },
    {
      "cell_type": "markdown",
      "source": [
        "# Conclusión"
      ],
      "metadata": {
        "id": "doMUhJTcTDE7"
      }
    },
    {
      "cell_type": "markdown",
      "source": [
        "El polinomio característico es inestale, debido a que hay cambios de signo."
      ],
      "metadata": {
        "id": "mqlG1mRcTHKe"
      }
    },
    {
      "cell_type": "markdown",
      "source": [
        "# Ejercicio 4:"
      ],
      "metadata": {
        "id": "1SsA0BlNTfd_"
      }
    },
    {
      "cell_type": "markdown",
      "source": [
        "Dado el polinomio característico\n",
        "\\begin{equation}\n",
        " P(s)=s^3+3s^2+3s+1\n",
        "\\end{equation}"
      ],
      "metadata": {
        "id": "fkPoRw0FUD-z"
      }
    },
    {
      "cell_type": "markdown",
      "source": [
        "# Acomodo"
      ],
      "metadata": {
        "id": "XB4sayTxUTev"
      }
    },
    {
      "cell_type": "markdown",
      "source": [
        "\\begin{equation}\n",
        " s^3+3s^2+3s+1 = 0\n",
        "\\end{equation}"
      ],
      "metadata": {
        "id": "2rsy0xoAUZ0F"
      }
    },
    {
      "cell_type": "markdown",
      "source": [
        "# Matriz"
      ],
      "metadata": {
        "id": "kBqcPhEkU07Q"
      }
    },
    {
      "cell_type": "markdown",
      "source": [
        "| Coeficientes |Valor 1|Valor 2 |\n",
        "|:------------:|:-----:|:------:|\n",
        "| $s^3$        | 1     | 3        \n",
        "| $s^2$        | 3     | 1\n",
        "| $s^1$        |       |\n",
        "| $s^0$        |       |\n"
      ],
      "metadata": {
        "id": "RYRS3YmwU4kn"
      }
    },
    {
      "cell_type": "code",
      "source": [
        "b1 = ((3*3)-(1*1))/3\n",
        "b1"
      ],
      "metadata": {
        "colab": {
          "base_uri": "https://localhost:8080/"
        },
        "id": "nguORwFnUSzH",
        "outputId": "a15f1d7b-9217-4509-c488-f6ff3c2882e9"
      },
      "execution_count": null,
      "outputs": [
        {
          "output_type": "execute_result",
          "data": {
            "text/plain": [
              "2.6666666666666665"
            ]
          },
          "metadata": {},
          "execution_count": 31
        }
      ]
    },
    {
      "cell_type": "markdown",
      "source": [
        "| Coeficientes |Valor 1|Valor 2 |\n",
        "|:------------:|:-----:|:------:|\n",
        "| $s^3$        | 1     | 3        \n",
        "| $s^2$        | 3     | 1\n",
        "| $s^1$        | 2.6   |\n",
        "| $s^0$        |       |\n"
      ],
      "metadata": {
        "id": "coWVOBFIXF_8"
      }
    },
    {
      "cell_type": "code",
      "source": [
        "b2 = ((3*0)-(1*0))/3\n",
        "b2"
      ],
      "metadata": {
        "colab": {
          "base_uri": "https://localhost:8080/"
        },
        "id": "qOOSA3KRXK2p",
        "outputId": "6d5b7a99-eb0d-4da4-8a6f-c571909257a7"
      },
      "execution_count": null,
      "outputs": [
        {
          "output_type": "execute_result",
          "data": {
            "text/plain": [
              "0.0"
            ]
          },
          "metadata": {},
          "execution_count": 33
        }
      ]
    },
    {
      "cell_type": "markdown",
      "source": [
        "| Coeficientes |Valor 1|Valor 2 |\n",
        "|:------------:|:-----:|:------:|\n",
        "| $s^3$        | 1     | 3        \n",
        "| $s^2$        | 3     | 1\n",
        "| $s^1$        | 2.6   |0\n",
        "| $s^0$        |       |"
      ],
      "metadata": {
        "id": "KB5sSKC_XUSV"
      }
    },
    {
      "cell_type": "code",
      "source": [
        "c1 = ((2.6*1)-(3*0))/3\n",
        "c1"
      ],
      "metadata": {
        "colab": {
          "base_uri": "https://localhost:8080/"
        },
        "id": "B6TP27pVXcbQ",
        "outputId": "a55b89a6-e55e-4564-f58f-b4c754a881b8"
      },
      "execution_count": null,
      "outputs": [
        {
          "output_type": "execute_result",
          "data": {
            "text/plain": [
              "0.8666666666666667"
            ]
          },
          "metadata": {},
          "execution_count": 34
        }
      ]
    },
    {
      "cell_type": "markdown",
      "source": [
        "| Coeficientes |Valor 1|Valor 2 |\n",
        "|:------------:|:-----:|:------:|\n",
        "| $s^3$        | 1     | 3        \n",
        "| $s^2$        | 3     | 1\n",
        "| $s^1$        | 2.6   |0\n",
        "| $s^0$        | .86   |"
      ],
      "metadata": {
        "id": "eYUtXWQlX5S9"
      }
    },
    {
      "cell_type": "markdown",
      "source": [
        "# Conclusión"
      ],
      "metadata": {
        "id": "9VPCoef8Ydzs"
      }
    },
    {
      "cell_type": "markdown",
      "source": [
        "El polinomio característico es estale, debido a que no hay cambios de signo."
      ],
      "metadata": {
        "id": "SchCd64LX9rI"
      }
    },
    {
      "cell_type": "markdown",
      "source": [
        "# Ejercicio 5:"
      ],
      "metadata": {
        "id": "G16kP4rpTqBW"
      }
    },
    {
      "cell_type": "markdown",
      "source": [
        "Dado el polinomio característico\n",
        "\\begin{equation}\n",
        " P(s) = s^3 + (k+1)s^2+(2k+1)s+k\n",
        "\\end{equation}"
      ],
      "metadata": {
        "id": "JxUBOKZlUDDm"
      }
    },
    {
      "cell_type": "markdown",
      "source": [
        "# Acomodo "
      ],
      "metadata": {
        "id": "tcPLHz0NWJqW"
      }
    },
    {
      "cell_type": "markdown",
      "source": [
        "\\begin{equation}\n",
        "P(s) = s^3 + ks^2 + s^2 + 2sk + k + s \n",
        "\\end{equation}"
      ],
      "metadata": {
        "id": "ibKTl0IcWQT9"
      }
    },
    {
      "cell_type": "markdown",
      "source": [
        "| Coeficientes |Valor 1|Valor 2 |Valor 3|\n",
        "|:------------:|:-----:|:------:|:-----:|\n",
        "| $s^6$        |1      |1       |1      |\n",
        "| $s^5$        |1      |2       |1      |\n",
        "| $s^4$        |       |        |       |\n",
        "| $s^3$        |       |        |       |\n",
        "| $s^2$        |       |        |       |\n",
        "| $s^1$        |       |        |       |\n",
        "| $s^0$        |       |        |       |"
      ],
      "metadata": {
        "id": "wDYt51BBWfx1"
      }
    },
    {
      "cell_type": "code",
      "source": [
        "b1 = ((1*1)-(1*2))/1\n",
        "b1"
      ],
      "metadata": {
        "colab": {
          "base_uri": "https://localhost:8080/"
        },
        "id": "sX1fGMo0Y4ow",
        "outputId": "5b68c603-97fd-4f6d-b585-69fb839a3fce"
      },
      "execution_count": null,
      "outputs": [
        {
          "output_type": "execute_result",
          "data": {
            "text/plain": [
              "-1.0"
            ]
          },
          "metadata": {},
          "execution_count": 1
        }
      ]
    },
    {
      "cell_type": "markdown",
      "source": [
        "| Coeficientes |Valor 1|Valor 2 |Valor 3|\n",
        "|:------------:|:-----:|:------:|:-----:|\n",
        "| $s^6$        |1      |1       |1      |\n",
        "| $s^5$        |1      |2       |1      |\n",
        "| $s^4$        |-1     |        |       |\n",
        "| $s^3$        |       |        |       |\n",
        "| $s^2$        |       |        |       |\n",
        "| $s^1$        |       |        |       |\n",
        "| $s^0$        |       |        |       |"
      ],
      "metadata": {
        "id": "RlVJuh2xZYJ1"
      }
    },
    {
      "cell_type": "code",
      "source": [
        "b2 = ((1*1)-(1*1))/1\n",
        "b2"
      ],
      "metadata": {
        "colab": {
          "base_uri": "https://localhost:8080/"
        },
        "id": "Xv-y8xcZEFmE",
        "outputId": "8cd5d1b9-3ddd-4a6b-c64e-25e22c712fc5"
      },
      "execution_count": null,
      "outputs": [
        {
          "output_type": "execute_result",
          "data": {
            "text/plain": [
              "0.0"
            ]
          },
          "metadata": {},
          "execution_count": 1
        }
      ]
    },
    {
      "cell_type": "markdown",
      "source": [
        "| Coeficientes |Valor 1|Valor 2 |Valor 3|\n",
        "|:------------:|:-----:|:------:|:-----:|\n",
        "| $s^6$        |1      |1       |1      |\n",
        "| $s^5$        |1      |2       |1      |\n",
        "| $s^4$        |-1     |0       |      |\n",
        "| $s^3$        |       |        |       |\n",
        "| $s^2$        |       |        |       |\n",
        "| $s^1$        |       |        |       |\n",
        "| $s^0$        |       |        |       |"
      ],
      "metadata": {
        "id": "4d-ZA4lWOmJ1"
      }
    },
    {
      "cell_type": "code",
      "source": [
        "b3 = ((1*0)-(1*0))/1\n",
        "b3"
      ],
      "metadata": {
        "colab": {
          "base_uri": "https://localhost:8080/"
        },
        "id": "f6NIqIYyPMbs",
        "outputId": "5d8c7d03-3c19-441a-b812-873a1e844d26"
      },
      "execution_count": null,
      "outputs": [
        {
          "output_type": "execute_result",
          "data": {
            "text/plain": [
              "0.0"
            ]
          },
          "metadata": {},
          "execution_count": 2
        }
      ]
    },
    {
      "cell_type": "markdown",
      "source": [
        "| Coeficientes |Valor 1|Valor 2 |Valor 3|\n",
        "|:------------:|:-----:|:------:|:-----:|\n",
        "| $s^6$        |1      |1       |1      |\n",
        "| $s^5$        |1      |2       |1      |\n",
        "| $s^4$        |-1     |0       |0      |\n",
        "| $s^3$        |       |        |       |\n",
        "| $s^2$        |       |        |       |\n",
        "| $s^1$        |       |        |       |\n",
        "| $s^0$        |       |        |       |"
      ],
      "metadata": {
        "id": "a5lwpBRiPsY2"
      }
    },
    {
      "cell_type": "code",
      "source": [
        "c1 = ((-1*2)-(1*0))/-1\n",
        "c1"
      ],
      "metadata": {
        "colab": {
          "base_uri": "https://localhost:8080/"
        },
        "id": "r7nkCJgPPugK",
        "outputId": "5c870c9c-d8d2-49d0-cb70-32206fca8276"
      },
      "execution_count": null,
      "outputs": [
        {
          "output_type": "execute_result",
          "data": {
            "text/plain": [
              "2.0"
            ]
          },
          "metadata": {},
          "execution_count": 4
        }
      ]
    },
    {
      "cell_type": "markdown",
      "source": [
        "| Coeficientes |Valor 1|Valor 2 |Valor 3|\n",
        "|:------------:|:-----:|:------:|:-----:|\n",
        "| $s^6$        |1      |1       |1      |\n",
        "| $s^5$        |1      |2       |1      |\n",
        "| $s^4$        |-1     |0       |0      |\n",
        "| $s^3$        |2      |        |       |\n",
        "| $s^2$        |       |        |       |\n",
        "| $s^1$        |       |        |       |\n",
        "| $s^0$        |       |        |       |"
      ],
      "metadata": {
        "id": "qIilYe6tRKHS"
      }
    },
    {
      "cell_type": "code",
      "source": [
        "c2 = ((-1*0)-(1*0))/-1\n",
        "c2"
      ],
      "metadata": {
        "colab": {
          "base_uri": "https://localhost:8080/"
        },
        "id": "VNMyiSsmRMk9",
        "outputId": "7e8293fa-591f-4135-a2d9-21bff8f8c122"
      },
      "execution_count": null,
      "outputs": [
        {
          "output_type": "execute_result",
          "data": {
            "text/plain": [
              "-0.0"
            ]
          },
          "metadata": {},
          "execution_count": 5
        }
      ]
    },
    {
      "cell_type": "markdown",
      "source": [
        "| Coeficientes |Valor 1|Valor 2 |Valor 3|\n",
        "|:------------:|:-----:|:------:|:-----:|\n",
        "| $s^6$        |1      |1       |1      |\n",
        "| $s^5$        |1      |2       |1      |\n",
        "| $s^4$        |-1     |0       |0      |\n",
        "| $s^3$        |2      |0       |       |\n",
        "| $s^2$        |       |        |       |\n",
        "| $s^1$        |       |        |       |\n",
        "| $s^0$        |       |        |       |"
      ],
      "metadata": {
        "id": "MVRaN9z9XCaz"
      }
    },
    {
      "cell_type": "code",
      "source": [
        "c3 = ((-1*0)-(1*0))/-1\n",
        "c3"
      ],
      "metadata": {
        "colab": {
          "base_uri": "https://localhost:8080/"
        },
        "id": "KPm2gjhIXGDf",
        "outputId": "6cde1364-e996-49a1-a3fe-63eee4335265"
      },
      "execution_count": null,
      "outputs": [
        {
          "output_type": "execute_result",
          "data": {
            "text/plain": [
              "-0.0"
            ]
          },
          "metadata": {},
          "execution_count": 6
        }
      ]
    },
    {
      "cell_type": "markdown",
      "source": [
        "| Coeficientes |Valor 1|Valor 2 |Valor 3|\n",
        "|:------------:|:-----:|:------:|:-----:|\n",
        "| $s^6$        |1      |1       |1      |\n",
        "| $s^5$        |1      |2       |1      |\n",
        "| $s^4$        |-1     |0       |0      |\n",
        "| $s^3$        |2      |0       |0      |\n",
        "| $s^2$        |       |        |       |\n",
        "| $s^1$        |       |        |       |\n",
        "| $s^0$        |       |        |       |"
      ],
      "metadata": {
        "id": "dw6LRfpnsc7g"
      }
    },
    {
      "cell_type": "code",
      "source": [
        "d1 = ((2*0)-(-1*0))/2\n",
        "d1"
      ],
      "metadata": {
        "colab": {
          "base_uri": "https://localhost:8080/"
        },
        "id": "Y6D1JDlise6t",
        "outputId": "9776893d-4bb1-462a-df20-99e7e4e96e03"
      },
      "execution_count": null,
      "outputs": [
        {
          "output_type": "execute_result",
          "data": {
            "text/plain": [
              "0.0"
            ]
          },
          "metadata": {},
          "execution_count": 7
        }
      ]
    },
    {
      "cell_type": "markdown",
      "source": [
        "| Coeficientes |Valor 1|Valor 2 |Valor 3|\n",
        "|:------------:|:-----:|:------:|:-----:|\n",
        "| $s^6$        |1      |1       |1      |\n",
        "| $s^5$        |1      |2       |1      |\n",
        "| $s^4$        |-1     |0       |0      |\n",
        "| $s^3$        |2      |0       |0      |\n",
        "| $s^2$        |0      |        |       |\n",
        "| $s^1$        |       |        |       |\n",
        "| $s^0$        |       |        |       |"
      ],
      "metadata": {
        "id": "luaGsMKoxd3C"
      }
    },
    {
      "cell_type": "code",
      "source": [
        "d2 = ((2*0)-(-1*0))/2\n",
        "d2"
      ],
      "metadata": {
        "colab": {
          "base_uri": "https://localhost:8080/"
        },
        "id": "UKJxZ8_DxiXI",
        "outputId": "c0e8e922-af98-489c-a2cf-3d1b61846a35"
      },
      "execution_count": null,
      "outputs": [
        {
          "output_type": "execute_result",
          "data": {
            "text/plain": [
              "0.0"
            ]
          },
          "metadata": {},
          "execution_count": 9
        }
      ]
    },
    {
      "cell_type": "markdown",
      "source": [
        "| Coeficientes |Valor 1|Valor 2 |Valor 3|\n",
        "|:------------:|:-----:|:------:|:-----:|\n",
        "| $s^6$        |1      |1       |1      |\n",
        "| $s^5$        |1      |2       |1      |\n",
        "| $s^4$        |-1     |0       |0      |\n",
        "| $s^3$        |2      |0       |0      |\n",
        "| $s^2$        |0      |0       |       |\n",
        "| $s^1$        |       |        |       |\n",
        "| $s^0$        |       |        |       |"
      ],
      "metadata": {
        "id": "8anMk8qixtPS"
      }
    },
    {
      "cell_type": "code",
      "source": [
        "d3 = ((2*0)-(-1*0))/2\n",
        "d3"
      ],
      "metadata": {
        "colab": {
          "base_uri": "https://localhost:8080/"
        },
        "id": "-c59y_R8zQY4",
        "outputId": "8e5efaa2-aed1-48e0-f05c-f2ff76431788"
      },
      "execution_count": null,
      "outputs": [
        {
          "output_type": "execute_result",
          "data": {
            "text/plain": [
              "0.0"
            ]
          },
          "metadata": {},
          "execution_count": 10
        }
      ]
    },
    {
      "cell_type": "markdown",
      "source": [
        "| Coeficientes |Valor 1|Valor 2 |Valor 3|\n",
        "|:------------:|:-----:|:------:|:-----:|\n",
        "| $s^6$        |1      |1       |1      |\n",
        "| $s^5$        |1      |2       |1      |\n",
        "| $s^4$        |-1     |0       |0      |\n",
        "| $s^3$        |2      |0       |0      |\n",
        "| $s^2$        |0      |0       |0      |\n",
        "| $s^1$        |       |        |       |\n",
        "| $s^0$        |       |        |       |"
      ],
      "metadata": {
        "id": "RoSPF2nf2J03"
      }
    },
    {
      "cell_type": "code",
      "source": [
        "e1 = ((0*0)-(2*0))/0\n",
        "e1"
      ],
      "metadata": {
        "colab": {
          "base_uri": "https://localhost:8080/",
          "height": 183
        },
        "id": "OWOOzh1H2LkC",
        "outputId": "1084f604-9256-4d49-fad5-74f3e0fb1761"
      },
      "execution_count": null,
      "outputs": [
        {
          "output_type": "error",
          "ename": "ZeroDivisionError",
          "evalue": "ignored",
          "traceback": [
            "\u001b[0;31m---------------------------------------------------------------------------\u001b[0m",
            "\u001b[0;31mZeroDivisionError\u001b[0m                         Traceback (most recent call last)",
            "\u001b[0;32m<ipython-input-11-da2e4faaf9aa>\u001b[0m in \u001b[0;36m<cell line: 1>\u001b[0;34m()\u001b[0m\n\u001b[0;32m----> 1\u001b[0;31m \u001b[0me1\u001b[0m \u001b[0;34m=\u001b[0m \u001b[0;34m(\u001b[0m\u001b[0;34m(\u001b[0m\u001b[0;36m0\u001b[0m\u001b[0;34m*\u001b[0m\u001b[0;36m0\u001b[0m\u001b[0;34m)\u001b[0m\u001b[0;34m-\u001b[0m\u001b[0;34m(\u001b[0m\u001b[0;36m2\u001b[0m\u001b[0;34m*\u001b[0m\u001b[0;36m0\u001b[0m\u001b[0;34m)\u001b[0m\u001b[0;34m)\u001b[0m\u001b[0;34m/\u001b[0m\u001b[0;36m0\u001b[0m\u001b[0;34m\u001b[0m\u001b[0;34m\u001b[0m\u001b[0m\n\u001b[0m\u001b[1;32m      2\u001b[0m \u001b[0me1\u001b[0m\u001b[0;34m\u001b[0m\u001b[0;34m\u001b[0m\u001b[0m\n",
            "\u001b[0;31mZeroDivisionError\u001b[0m: division by zero"
          ]
        }
      ]
    },
    {
      "cell_type": "markdown",
      "source": [
        "# Diagramas de control"
      ],
      "metadata": {
        "id": "a3KlWGiiTgAt"
      }
    },
    {
      "cell_type": "markdown",
      "source": [
        "![image.png](data:image/png;base64,iVBORw0KGgoAAAANSUhEUgAABCYAAAIOCAYAAABkhAxeAAAAAXNSR0IArs4c6QAAAARnQU1BAACxjwv8YQUAAAAJcEhZcwAAFiUAABYlAUlSJPAAAP+lSURBVHhe7N0FYBTX2gbgN+6ukJAEJ1hw9yJFWipA3W7d5daNusvfW/fS0pYCpS0UihV3T5DgxIW4e/LPdzIbkrAJCYSNvc+90x1dks3ZmTPffOccszINiIiIiIiIiIgagbn+SkRERERERERkcgxMEBEREREREVGjYWCCiIiIiIiIiBoNAxNERERERERE1GgYmCAiIiIiIiKiRsPABBERERERERE1GgYmiIiIiIiIiKjRMDBBRERERERERI2GgQkiIiIiIiIiajQMTBARERERERFRo2FggoiIiIiIiIgaDQMTRERERERERNRoGJggIiIiIiIiokbDwAQRERERERERNRoGJoiIiIiIiIio0TAwQURERERERESNhoEJIiIiIiIiImo0Fi9p9PmL7uDBAygqKoSNjQ1KSkqQmJiArKxMODs7IyszE8nJSSgoKICDgwOSkpKQnp4GlJXBxtYWsbGxal85trS0FAkJ8WrZyckJ2dlZ6tj8/Hx1bEpyMtLSUrVDy2Bb6VhrKyuUausqH5uTk6P9W6e1Y/O0Yx2RklJ+rPwbcmx8XBwyMzNgpR0rDMc6OjqeOTZPO1ZbTk1N1aYUo8eamZkhPj5OHSs/Y552jBybl5ur3uvMsSXasXbq38nIyIClpeVZx8q/d1o7NrfasSXFxbCzk2MTtGPTtWMtYG5uUXGsvb29+oxOn05UP7v8/ulpaUjRji3Wj03Uj7UwN4eFRdVj5W9Tfmx2+bHa3yclJUX7mxap7acTE5GuHWuuHSs/d1xc+edup30WhYWF5cdmlx8rv5t81lIe1LHatvT08mPl8zIcK59jsfb+Ulays7LgpJWVimO195RjDWVFPidra+uqx2q/V3k5y1LlLFM7Nlk7tlD7XewrlTMz7W8rZSs2NkYdW5cymqwdm1bnMppd5djqZTROOzZTjtV+/urH1lRGDcdWKaOVyrexMip/r/LyXV7O5O9bYxnVypfRMqp9LrZaWYmPj1fHGi2j2s96+vSZMpqmH2soZxVlVCtj5tXKmaGM5ubmaMeeKWdnlVHtuBrLqF7OpEzJ52U4tsYyqm2rXkYNx9aljEpZTNS2G8pZ9TIqn0V5GUWdy2j1c2Gdyqj2arSMVhyrl9Fq5az82PLzaEGBfh6tVs4MZVR+/prKd/VyVv1YVUY1DV1Gq58Lq5dRY8eeKWdVy6h8ppXLWfUyWvXY8jIqP2/l8l1jGdW25ddYRou0Y+3V31OOrVcZrVbOjJZRrRwnauVf/lZyrKGcnX2smXZsTWW0vKxUnEf1Yw3lTMpojeVbO3+qY2s6j2pUGY3Ry7f2PmeX76plVObTtGuYsTJaVqmMyt/3nGVU+5nlZzNWRnNrKKPyb8ixNZUzdaxWRtR5VDu2cjk7u4yefR411BMqylm1MpqgHZuhHStlTP7mRsuo9rM7an9v+ZxqKqNSV4jTriNyrGyr+TxatYyWH1u1jBrOhYZyVnGsdh23q6WMqmMN13r92Az9WEM5qzhW+5ysqpUzw7GyXF7OtDKqXWcNxybpx4oqZVQrc8WGcnZWGdXLWQ1lVN6nxjKqff7lZbT8PGo4tkoZLauhnqAfe6aMlpczQxktP7batV47Nkk71lDOqpdR+fsayqioUr7186jh2FTt2FTt2OrlzMrItf6sMqodV6cyqv1NaiqjhmOrltEz5Uz+ntWPrV7O5FxXUxktLCwv39XLWfVj5VxoaVlTGdXqo07atb5aGTWUs1rLaLVyVv1Y+YzrWkbld7G3P3MuFFXOo9q8nGsS9DIqv++5yqihjiE/w1n1Ub2cVT/2TDmrpYxq9w5Sn6lezs4uo5bqZzFeRvVrvX6s/HxyrKGcyd/67HNw1bps9XJW+Vj5mxuOlb9JRfk+q4wa6rLasdr1UMqZTJWPlc9InUe1Y+WzqzgH16mMll/rq5dRw/1WRRnVflfLGs+jehnV9qt8bE3lzM7uTBk13G/VVkYrlxWZr+laX/l+q/xckad+p5qYNGMiOipKu3Eqn5cKjJrXl7Xf8sy8Rn5ptSyvirag9td3UvPl+8n/1Hz5lnL6bkKtl2W1rz5faXv5vOFo/b0q/l2NWj4zbzi24r0qaAuVl+Wgyssyr00V7y3L+mzFe1XfX1PxWRi2VXvfM59V+bJSeX99vvyz0ufl1cCwn4EsV9q3ynY1bzhae9WWz/qs9NmKYyu/V2Vquep7VdCPNfxqlbed/V7agr581mclKs8btqs30VXfV5vUZ3XO99ImWZb9DKrvq00Vn4/aVmkH2abPKtqybFW7y0ylXcvnDXtrr5W3CW1Zba32M6t1lfat+J1qei/9WLW1Yt9KKi2rffR9z/qsKs8L2Un2Vb+cTrYblvX9q35WOsO28qWK91Kz1f9dIfPV/53KO2izFVtltb5JHVJpt/P5rAx7KpX2VevVdn0P/VhFzmlqXl9heK/qv4NhWeZle/lSxbJSfZvMGLYZyHK196pQfV6bjL1X9c+9Yrn6z3xmh4pZRea1qeJ31OYNm9Ua2XbmXz6z0bCjbJdj9fc9+7Mqn1Uvan/5j2G+fNbwuVccWe1nVLPyn0o/Y/mk72RY1qifVZs/817aZNhmeF+ZtPkzn5VsFdqCYbtSvr3yZ1O+XL4o84Zd1arK+1beKGS+Yrs2VdqmZuU/+qGG96rYp/K8zGj/r/ibGH4HnZqV/2irK/++UjFV9BehfpRKy9XfS5FlbX3l96pQZbl8+5nfXyPL5S8V+8p2tUeVfbUFtZNBtfeSbWpZ363Svob3OkNbqLws8xXLhjcop2blP/o/Y3gvw0eltunz6kdR84adq76XWq0ty+oaP6vK9H0ryLK8GI5T2+VzPzNfQbYbfg55Vcs6w7H6rGFeqNfK+8pC5WWZr75sWKH/TtXfq2J3manYtXzfKntX7KiR1dqy7FblszL8jpX3FWpffZuQZX32zHvVUkarHVtlB3228ucu1CHavL5YTi0Y3kv/twxk3rCs/xyV9lTLFZvlP/pCjT/zmR3UrOG9KjYZfieZr7S9fL6GbTIjy9qxVf7dyu9lmBdqu/xHp8+qc4naVr5seC99sZwsVH8vwx7yUrFz+bEVe8qMtmzYrNarhVr+vgb6dsN7qU3yH8PPIfOVtqv5im3agmw3MPxbalafl6nye1W8kcawXVSeF7KfYbnSe8n7Vry3/r7qv2p7+QHqb1k+W2mbzGj0YysW5T+yoL+XYtgoZF6byn/n8mMNe6rd5D/6CvWiVuorZF4tC22m8jbD76BTs9p/zny25ZOxa1D5Bn1WVHkvfV6bqn5WauOZn1Hfvy6flUHFdsPPKAuVtqt5bar8O1SaLV9WS0beS+bVTjo1X2nvStvUrPafyj+GTBVfO8OrIhv0WSEHVV6WeW2q9bOqRAJJBw/s15eMM9P+aNUOu3g2rl+HkaPH6EtERERERERE1JJJNt6+vXsxeMgQfc3ZTBqYICIiIiIiIiKqzKRNOSIjI/Q5IiIiIiIiImrppB+KmJhofck4kwYmoiIYmCAiIiIiIiJqLaTD0diYWH3JOJMGJlxc3fQ5IiIiIiIiImrpZNQTZxdnfck49jFBRERERERERI3GpBkTYaGh+hwRERERERERtXRFRYUIDz+kLxln0sBERnqaPkdERERERERELV1paRkyMzL1JeNMGpgICArS54iIiIiIiIiopbOwsICfv5++ZBz7mCAiIiIiIiKiRmPSjImN69fpc0RERERERETU0hUUFGD7tm36knEmDUwQEREREREREVVm0qYc6enpcHV11ZeIiIiIiIiIqCUrLS1FdnY2nJ2d9TVnY8YEUQuQmZmJZ555Bu3bt4ePjw/MzMzOOUknNL1798arr76K3Nxc/Z2IiIiIiIhMy6QZE9LHxMjRY/QlImoov/zyC2644QZ9qf46dOiAH3/8EcOHD9fXtC5//PEHNm/erC+RwcCBA3HNNdfoS0RERERE9Sd9TOzbuxeDhwzR15yNgQmiFiAlJQUvvviiCi5ImtTbb7+N//73vyoroiZJSUlYvHixypiIjIyEo6Mj1q1bh/79++t7tGwRERFITExU8wsXLsSGDRvUPJ0xePDgKgEvc3NzdO7cmU3yiIiIiKjOmlxggogurlmzZmHBggWYPHkyli1bpq+t3enTpzFt2jTs3LlTtfuSzIGePXvqW1suCeR8//33av7RRx/FzJkz1TydsXTpUrz++uv6ElTw6vPPP8eYMQwwExEREVHDMWlgIjIyAoGBQfoSETW0f/75B1OmTFHz0jzhiiuuUPPnIh3Tjh49GmFhYWpZbtRfeOEFuLm5qeWW4s8//6zIjJCn/nKjLcaOHYu+ffuqeTrjwIEDWLlypb5U3nFRamoqQkJC2MSDiIiIiOqkuLgYCQnx8Pdvp685G5tyELUwd999N7766iv1VHvt2rX62nOLi4vDww8/rJo1CMmeWLRoES655BK13JxJ56BHjx5V2SQbN25U65glUX85OTkqYCWXjWuvvRZdu3Zlsw4iIiIiqlVdmnKYdFQOF9eW9fSVqCm69dZb1av0FyFTXbVt21bduG/fvl2N1iE387fffruKcDZ3EpSQgI2Xl5f6HQ3NXah+7Ozs8Oyzz6p+JqSchYaG6luIiIiIiIwzNzeDs0vNQ4UK9jFB1AJ5enqqDjG//PJL3HXXXfrausvLy1PDjmZlZam+JwYMGKBvaX6kScu2bdvg7e2NcePGsclGA5AmHqtWrVKdh/bp00dlTxARERERnS+TZkyE8ekakUkMGzZMvUrzjPMhT8a7d++u5mX0iuZM+pSQ5hty88ygRMOQzlHvvPNOlZa3Y8cObN26FWlpafpWIiIiIqIziooKER5+SF8yzqSBiYx0VlyJTKFfv37qNTc3V72eD8m6ELzhJGPs7e3x/PPPo1OnTrjtttsqOk4lIiIiIqqstLQMmRmZ+pJxJg1MBARxRA4iUzp48KA+V3/m5uWnh6KiIvXa3Jw6dUoNCSojizz22GNwcXHRt1BDkPLh4eEBKysrJCQkoLCwUN9CRERERHSGhYUF/Pz99CXjTBqY4FChRKZ1IRkTzZ30f/D999/DyckJM2bMqBgalIiIiIiITMfS0rLWoUKFSQMTMlwoEV18cjMuzrePCWFowsFMAyIiIiIiOl/SL9n2bdv0JeNMGpggItPo37+/epVhMs/XyZMn1WtAQIB6JSIiIiIiuhhMGpjoFdJHnyOipmzRokUq20LSroKDg/W1RERERERE9SN9kgXrI/7VhBkTRC3QunXlzaZuuukm9Vofa9euxaxZs9S8jLpgGJ2DiIiIiIjoYjBpYGJ/6D59joguppdfflm9jhgxQr3WRWxsLO6//36MGzcOJSUlasjRZ599Vt9KRERERERUfzLKX/ihQ/qSccyYIGqBZs6cqaa77rpLX1O73377TfUl8dlnn6nlqVOnYvny5SrtioiIiIiI6GIyaWBi5Ogx+hwRXUzz589X07lIQKJv37649tprUVpaiu7du2Px4sX4+++/4eXlpe9FRERERER0fmxsbDB4yBB9yTiTBiYiIyP0OSJqDBJ8kNE2oqKi8N///hfXXXcd9u3bB2tra7z55ps4ePAgLrvsMn1vIiIiIiKiC1NcXIyYmGh9yTiTBiaiIhiYILrYYmJi4OPjAzMzs7MmCwsLdOzYEYGBgfjggw9QVlaGe+65B8ePH8fTTz+tvwMREREREVHDkP7rYmNi9SXjTBqYcHF10+eI6GKRYMO5+Pr64s4778ShQ4fw+eefo127dvoWIiIiIiKihmNubgZnF2d9yTiTBiZ6h4Toc0R0sUiQITExUQUoapri4+Px1VdfITg4WD+KiIiIiIio4VlZWWv3Hd31JeNMGpgICw3V54iImrMCFOalIDkqHIfCNmLTpuVYsWK5GsnEMG3YsAG7du3FgQOnkJiWjXztqHPnshARERERtSxFRYUID29Cw4VmpKfpc0REzVkmspL3Y/+q7/Htx4/g0Udn4tpry4doNUwPPvggXnvtfXzxxRLsOBINOfsxMEFERERErU1paRkyMzL1JeNMGpgICArS54iImqHseODgr1j2wZt48/kv8O6aNBQGXorr7n0F733wf/jf/17D67Nvxd1XtoO9WQp27jyElSsjcCg2G6na4QxMEBEREVFrIx3w+/n76UvGmTQwERjIwAQRNVNZsUg+tg2r/l6IhX9uxqpdqch274quA6dg2vSbccstt+G2227BLTddjeuvGYGunrYoOp2G46eLkJZfhlL9bYiIiIiIWhNLS0v4+9fe2b5JAxMb16/T54iImpnojdi/+kfc9u4KzI0PgMOY/+DNF+/CtZcMRkc3N1iYmWk7ucDZKxghE6/ASP8g9HGwhUUXP7i6OMBd2yp7EBERERG1JgUFBdi+bZu+ZJxJAxNERM1OYSqQtBbL/lqJH389jtSM/hh96QTccMtQdHZ1gLOlJSzMzWGmAhNmMDN3gYVVH3Ts7ol+o5zReUgI/L3cIYMlMzBBRERERHQ2kwYmeoX00eeIiJqHwqzTSNq/BOs3bcOGo3mw6zgWI0YOwoRBgXC3soC1vt8ZttrUFkH9h2L45WMxfVw3dG3jAnttLQMTRK1Heno6Tp06pV4LCwv1tURERK2PlZUVgrs3oeFCiYiam6zkBOxf/gsORhxGShsvdLh+Mnp1DUInbZtF+S5GBYy5D5NveRkvTwtEP387fS0RtRbHjx/HP//8gxMnTiA7O1tfS0RERMaYNDCxP3SfPkdE1AxkHkLyyR1YujYPJ2M6w9NjMKZObIcOAfbq5FlbBoS5hRUsrWxgbWkOC3PmShC1BpGRkfj777/xzjvv4LvvvsPWrVuxa9cuxMTE6HsQERG1PkVFRQg/dEhfMo4ZE0RENciM3oNTYeux6WgB4i07w71DX4zq5go/t7MbcBBR65SRkYFjx46pIMSaNWuwcuVKLFu2DNu2bVOBiujoaLUPERER1cykgYmRo8foc0RETV9M2DaEbVmOIwUFSA8OhFP/ruhtaQlPfTsRUUREBP766y+8/vrr+OKLL7B9+3ZkZmairKwMpaUcKJiIiMjGxgaDhwzRl4wzaWAiMjJCnyMiasqko7rTSE/NRnJCKUq0e4uuQQHo260zrC0t2YklUSsnmRCLFy/GW2+9hS+//BJbtmxBSkqK6uRS0lUlKEFERETliouLERMTrS8ZZ9LARFQEAxNE1AyU5AE5J5EQn4GoeEuUlLqinY83OrXzgIUFW8ARtUbSHOPo0aPYvHkz/v33X6xevRorVqyoaLKRn5+v9mNQgoiIqKqSkhLExsTqS8aZtIbt4ioj+RMRNXGFWcDpMJyKSMLBaHsUlXSCm4srvNy1kybjEkStkjTZ+PPPP1WTjc8++0wFJCRYwSYbREREtTM3N4Ozi7O+ZJyZdkFlaJ/oAkhq0v/93/+pntep6ZC0anmyKTcRjz76qL62jtJPAId/wpNv/4Uv/4xFFobh9g/vxw13TcBQO8CmcluOjP04vm8H5v+wHpF5hajcxZ2DXzDajL4VV/XzQj9/e31tA0mPQPzJg9i3ezuOuk9Cmw49MKuvq76xbspKipG+9zeERaRiXWYXDOrfF92DvBHoou9QB19//TXuv/9+DB8+HD4+PvpaopYnPT0d8fHxOH36NAoKCtS6c1WhLC0t4e3tDV9fX3h5eelric6Po6MjHnnkEfTs2VNfQ0TUcpg0MBEWGoreISH6ElHLIO2JZ86cib1792LgwIH6Wmpsqamp6onmeQUmUo4Ae7/Cff+3HJ+vyAKcLsN/378RN982FMHaZqvyvcplhOHYzjWY99mvWLHzOMJiUqEdAYd2PdF5yGRMuO4+XDPAG/3bnQlMFOdnID/9JE4ezUFOmTM8+vSAr70FnKu8cQ2Ks4H8eBxctxtHT0QgqjgLGX6XonOXnriuX/2y0lRgYs+vCD0WgdUJLnB0C0SHTl3Qr28w2thqv4OlvmMtDIGJIUOGqBswopZKsiMSEhKQlJSkAhNmZmYqMFFbNUoCExKQkKCdpye7zaXzd/LkSdVkaMGCBRg3bpy+loioeSgqKsTx48cRHNxdX3M2kwYmNq5fx5E5qMUxBCbkScZPP/2kr6XGJkGJWbNm4bHHHruwwMTGQqDrrXj5mctw+5W94atttijfq5zcmORGAQlL8dYzP+GnBdugHY32176By2fdjNemtoGdlZm6iTHIOR2GBO39v3z3FE6V9cDQ/72KKQE26Oak71Cb7OPav7UMLzy8BcdKO6ljJ2s/VGdH7YRe6d+oi4rTf1Y4CqL/wQufbUOcQwiG3f08pmjv2d6hfHNtJDDxxBNPYP78+ZgwYYK+lqjlCQ0NxfLly7F27VoVnLCwsFAZc7VVo+S6MHr0aEyaNAkjR47U1xLVn4z48vzzzzMwQUTNkgT09+3dW+vIHCZtLR0QFKTPEbVMcmPIybRTTEyM6hl/w4YNZ21rSDW+m/q3KgcF3LV9R6N/72AMH+QOS8vyn6Ug4zQSQ1fgn6+fxfsvPYFH3lyBxfsLkGztCR8fM9jZ6ofXKgInQ9fh64d/QEbAIPS47hpM9jVDG9vz+30Nn5OZnT+s/CbjxitHYoRTKbY+/h12H4xCpL5fXVS8FydOLXQK0uow06dPx3PPPYd7770XgwcPhouLC8zNzVWQwtgx/G5wasiJiKi5kuukn7+fvmScSQMTgYEMTBBRC1RcDGRnIbuoEJlWzih17432AW3R1c8OFuZaZTI9AskRB7BuTxxOpeQiX56yZmUgq8gSuZYOcHQ0g2UdmnHkxx/A8aPhmH/EES49+2DoyF7o4gQ41aUJSG20n9nCpStC+g9DiJ897A4vxNZ9B7EzIl3fgYhcXV0RHByMUaNGqeyg8ePHq1dpwteuXTs1RrvgDSQREVFV0rTR37+dvmScSQMT0pSDiKghyQ3BM888o9KlG1S1e4va2ryVFeSjLCEWibk5iHWwQVlnP7i6OMBd26beJmo9ovauw1c7PWE/+nH855lX8H+39cCgjrX3TnyG/OtlSNu7A0ej0/DvJU+j1+BgjG9fvvUs0rykDlMVZhaA2wAEBHth6qg12LhrB5aui9L/ZSKqTLInrrjiCpU9cc8996g+VqpnTxAREVE5acqxfds2fck4DnxHRFSdkzPQqx+6eXqjf24BrI7HITM9BynaJmODAmZlpiJsz1qkJMXC3tUZnQaFIMDbA9IVpbo9CRyDLmOuwew7B2BMl/L19SNjfezD7vUHERmai/ED+8DHvZYROPLjURb/N1Z+91+8/NAMzJhhmP6DmbNexMOfb8WCfZXHDznDw7MNQvqOgXNEKlIOnUSoti6zfBMRGdG+fXtceeWVqv2/oYmHk1N5hzEMUBAREdWNSQMTvUL66HNERE2YtXZT4d0bPbq2x6Agc1hlHsT+oyew5UgK0opLUaR2KtambKRHhOHQ9i34feMJnEzMhr2DPdp37QhPV2fYaXuo2xKXQHgE9cCovm0Q5GEH6U6iXrcreWlA/G7sO5yOkym2COniC1cneffqJLchFSlRYdj520Js3B2Bw0klsLKy0qYSFGeeQFLoIuw5chLhifnlh1Rj5+ED35AhCMqLh0XkMexLADKN70pEGmni0bVrV9W55SWXXKKaeEycOLGiiYefnx+cneuaHUVERNTySF00uHvNI3IIZkwQEZ3FUZt6ofeQnhg+2Rn2DluxavNW/Pj3EZzKyUdmcTGKi3O1KR6RG+bh319+wv+tKcT+eDPY2djCv40PHOzPDA96wTLSgH27cCDdBsdt/eDnC+OdZap2FxE4uWctvvnvXOzOvwRdb/kC8+b9qk2f4/PXr8ST40+iq3cOzGt6kuvuAYuQEIQ4R8Ar9RB2h5YhI5ONOYjqQrInDE08br/9dpU9MWDAAPj7++t7EBERkTEmDUzsD92nzxERNX3OPS/D4FmP460nJuPqoAPIXfMsnrvletw6cyZm3no3Zj77f/jmhC3MBk7Hm49PwJUh49HDuS8G9raAl4f+Jg3KA3Y2nmgjgQljCRMiPRU5GemI0WYlNHLmx3CDW6dp6Hfnr7jv6omY2cdFX1+znLw8xCQkIq+gQF9DRHXVuXNnTJ06FR07dlTDhhIREbVWRUVFCD90SF8yjhkTREQ1sPHqjICQ8bjsihmYdclgTOrph7bODnC2t4e9nSPsbT3g3TEEPUZNwvSrZmHWtdfg8ktHY2BbK3jUFDg4D0XFRcjKykBxkSUsLe20mxzp3VjfWJ2ZBxyc2qBdRw8UJYbh6JaVWLlyJw5H5iLfrjPa9L0C/bu1RzefmsYnlSE+nODgov1bttq/m5OD4pKS8k1EVGfu7u7o1KmTejWM2EFERETGmTQwMXL0GH2OiKh5sHZqC++eN2LmLe/g7bd/xo8//oyff9amr7/Gz6+8ghduno7pY0fBv++tuOap23HvU5digL11pUyFC1eQn4fEhBjk5+fqa2ogzTNc+8K/60hcMb4bMo7+iYVfvYpXX/0GSzedwImUYhSXAqW1tsywg5m5Dzza2sDNR19FRERERHSeJEA/eMgQfck4kwYmIiMj9DkiIrpY3Dr2Rr+7X8Pjjz+A+6/oCr/SlVj69RN4//8+wjf7tHOx8QE5iIiIiIgaXHFxMWJiovUl40wamIiKYGCCiKi+LC2t4OTkCksra32NEUWZKMsMx95DETicbAGfkJEYOWkapl1+KcZPCIFn3hFE7NuMRXviEJeepx9kTBHKyrKQk1GM3Cx9FRERERHReSopKUFsTKy+ZJxJAxMurvUfvZ+IqGUp0278y1BSWqpey8pKtZN1+XxNbG3t4OPrp161I6Adou2vbzTITwASlmP+39uwcE0ESsrM4BzYF32n3Iz/PPcmbhzdA52s0rBh734kZ2TqBxlRloeykgQkx+UjLdEMZmbapG8iIiIiIqovc3OtXupS+9DZJg1M9A4J0eeIiFqrDGSkRWPftqNISTqF9MwY7ApNQEpqbVkMBsnIz09GXAK0V32VQV4uEB+DuO37sXvHCSyTOIXsk5+KsoQ9SDmZjuIMO3Tx94WjbU0dX2q09ylLTEBSQQEK7O3g7+sDW3bcR0RERETnycrKGsHB3fUl40wamAgLDdXniIhakzSkxYRi+89z8cecn/DrHyuxZG8yYtOikRq7C5t/+wW//6St/2sllh1MR2xGkX6czs4e8AtAG7tsuOUnqsBEXrXARFFJMTJzslCaF4bYY/9g/tw5mPvjHMz58U/89MsuHC0OgEePAZg6wBe+brUEGlRgIh4JBR4ocvFDcGcHODrUNAQIEREREVHtiooKER7ehIYLzUhP0+eIiFqTWMQdXIb5jz6Ml+97GrM/nI9FUdZILMlGXsI27PrmNbz/3GN44vX/4b1/ExCeWC3q4OIG9B6Anh6F6FgYh6i4YuTmleobyxWYmSPJwga+gSdhnvkb/nj5Prz82H2477EP8eDrB3Gw7SUInjUDd07wQZB3zRkTpbk5KIqLRWxRV5R4dkf/nto/X3vmHRERERFRjUpLy5BZW1NijUkDEwFBQfocEVFrEoCAvjPwn59+xkcLFmBBDdP377+A16b5I6StnX6cgas29UXHXm5wbpeOf3fuQ2Jqevkmna1rR7Tpexduu/cTfPRR5ff9Fr/NewXP3zMFU/oEQUYAra1hRmpyPML2rUdmkBs8undAb20d4xJEREREdL4sLCzg5++nLxln0sBEYCADE0TUGjnDybszeky6FKOnTMGUGqYJIwdjWAdHeDlWbzohoQQvdBg6EF26usN+4y84fjgSh1PKtwpLWxc4ePdC995jMXp05fcdr01DMah3e7T3coaD7Ft+SFXSo2ZuFOIjErFuqwPa9eyK/oMDtX+19kAGEREREVFtLC0t4e/fTl8yzqSBiY3r1+lzRERUXwGjp2FgSE9M3P0lDu8Mx5pjBSgsBUprHtCjbspKtP/nI//0Tpw6mox1YRMxcsBAXDq89gsIUVNSVFSErKwsTtWmnJwclJZWbfpFRERUm7/++gsdOnTArl279DUXpqCgANu3bdOXjDMrq22MugYmgYmRo8foS0Qtg1SGZ86cCUdHR8ydO1dfS41tm3byk7/LY489hkcffVRf29xlIjNiL6LXzsOc5VbI8umHiU/dikHugF/11h/1kRuFwqQdmLNwA46kecGuywxMG+uP7u2c4KTvUpOvv/4aTzzxhGo2MmHCBH0tkemtXLkS77//vr5EBlKxfO655+Dv76+voeboiy++UH9HOdeOGzdOX0tEdHFInW716tX47LPPcO+99+pra5aZmYnQ0FCcPHkSERERqunG9OnT0atXL7VdAhP79u7F4CFD1LIxJg1MpKenw9VV2koTtRwMTDRNLTMwock/rZ39w/DndztwNKkENsP7wLtNd3T2b4MB7ez1neqmrLQEedG7ERN7HIfiTmPfiULYte2OgZOmobcL4FmHNhwMTFBjOnr0KDZs2KDmk5KScOLECTVPZ9jb26Nz586wszsTvRwwYAD69OmjL1FzwMAEEZlSx44dVZBh3bp1GD16tL62XF5eHrZv347s7GzMmzcPsbGxOHjwoLoOVzds2DAsXrwYbm5uan9n55p7LmNggugCMTDRNLXYwIRBYhhO7NuAlf8swc62d6Jjn5F4bqJ0bVl3ZcWFSFz1GtaExeHnpMG4bPJEjOgViJ7e+g51wMAEmVphYSFyc3PV/MKFC/H444+r+RtuuAGffvqpmqcz9u/fj9tuuw3Hjx/X1wBPPvkkHnzwQRW0kKda1PQxMEFEpmRmZqZeIyMjERAQoOZjYmLwzjvv4Ndff0VycrJaV13fvn3h4uKith84cECta9euncq+8PX1rTUwYdI+JvaH7tPniIjogrgGoU2/yzD1rlfxyIzhuKbfeQR9LSzhNuBGjJnxMF6+/VJMCfFGoIu+jaiJWr9+vQo6yiRPaORGTab77rtP34MqCwoKwkcffVTxOckkT7ueeuopJCYm6ntRfcXHx+Pvv//GSy+9hG+//VZfS0TU/KWlpelzgLd3+dMq6WtCMu0+/vjjiqCEZN9JM4/ff/9dXZslCWHPnj1Yu3atCor/888/KkgRHR2NGTNmYNfOneq4mpg0MEFERA3Exhn2XoEI6D4IvTu0Qae6tLuoxszMHDZeXdC2Yy8MCG6HAE87OHEIDmqiiouLsXz5clU5at++vZpCQkJUpo5MPXr00PekypycnDB8+PCKz0mmfv36wdraWlUm9+1rfQ+N5AlgTU/7jJEsnT///FMFIcaOHQs/Pz+0bdsWl112GV5++WXccccd6ikiEVFLIE0uDLZu3Yqbb74Zl1xyCVJSUtS576uvvoI0uti5c6fqg+Kqq67CqFGjVBCisksvvRQbN25U2XkSqDhXVqNJAxPs+JKIiIjqSzrNkrar33zzDaKiolSlSKZbb71V34Pq48orr1TNO3744Qf1RCsjIwMlJSX61pYtNTUVnTp1Qv/+/fU1NZO0ZWmqJsEd+cwkCCHtrePi4vQ9yttPv/nmmxg0aJC+hoioeat8PZCmYz/99JPq3FICDZIRceedd+pbz006v/zxxx/V/KI//lAPGGpi0sBEZGSEPkdERERUN9LBpQQhxo8fjwceeEBfSxdCMk4kJVeGE3366adbTbMOCXBJ9o2kFkuTlsokDblyZkT37t3x3nvvqYwJIc2HPv/8c+zdu1c9LZRp8+bN6vMbM4YP34ioZajePO3666/HokWLVCDbx6d+/ZmJq6++Wr2HePXVV9WrMSYNTERFMDBBRERE9ZOQkKDar0oKPZtsNAzpgEye9ksbYRmxQ/qekBvulq5Lly4qKCNBhddee01lQAwZMkR19Ca9xlfOjMjKylKdts+ePRvHjh3D/Pnzcc8993BEEyJqse666y51bjSQkTl+/vlndW68EPKe0oRwy5YtapQOY0wamHBxddPniIguLktLS7i7u6t0NHkK1lrSlE2ltLRUpX/Lk0cPDw9YWVnpW4gajtw8SvqoPLH29PRUlRpqWFdccYUa0UQ6yFy1apW+tuUKDw+HjU15ZzpvvPGGyoyQYe+qk2DEH3/8oTpxkwwKaf5BRNSSSTMLGW2tMgnkNgR/fz/VF4WQjoONMWlgondIiD5HRHRxyVMxGV5NOjh7/vnnVbtiajgyXKOk48lTxDlz5qB37976FqKGI4Gvt956C6Ghofjll1/q1C8AUW1mzZqFw4cP60vlHBwc0K1bN9XvhvRdIh2sSjBCgjbMjiCi1kA6uZw8ebKav//++9VrQ7Kyssazzz6r5iX4IQ8NqzNpYCJMq1gQEZmCpCkPHToUAwcOhK2trUpDk5sbahiSgRIWFqZSnUeMGKGyU4gammRMyDjoMnSZ9PgtWRNEF0KGrBs9ejQsLCzUspzHpAd6yaT47rvvVKduDIARUWty+vRpTJs2Tc1LBp10+tvQiooKYWlpoerlQjoNrs6kgYmM9DNjohIRmYJ0uHPNNdeo3udXr16tMifYrOP8SPMNuUGUTvKkAzkZ/kkCQEREzYVkQkj/EYb05Aj2f0ZErZxki0n9uEOHDmr0K0M9WZpFN5TS0jJkZmTi3nvvVcvSmWZ1Jg1MBAQF6XNERKZjaNYhN9MvvPCCurmm+svPz8frr7+ueqa/7777cPnll+Puu+/WtxIRNR/Skao4ceKEeiUiao0++OADLFu2TM1L3w+SZWwISEhzyoYiWWp+/n7qgaE4fvy4qpdXZtLARGAgAxNEZHouLi6q13UZZ17aEst4yv/73/+wcOFCNVQendvBgwdV22u5WEmba5mkR38J+hARNTfSNEhI8w0iotZKMorFc889h+DgYDV/MTqalvqjv387lWkrdXFRvf83kwYmNq5fp88REZme9AYs7Yt/+ukn1bZNKqQyDFJ8fHyVKSUlpdU195C2/HKBqP5ZGKaNGzfi008/xaRJk1RQ55133lGdxRERNUeGMfX379+vAq9ERK3Nt99+q86B0n/T448/rq+FGj65oRUUFGD7tm1q3tfXV73GxcWpVwOTBiaIiBqb3Ex/+eWXasz+6667Dk8++aRqmlB5kjbIMkRhayLDMcroB9U/C8MkvdhLpgl7qCei5mzlypXo2bNnxZNBIctSETc2SV8Uu3fv1vckImo5JEtCPPXUU3B1dVXzQoIIF5OhCZ0hQGFgViaPyUxEhgWp/EsTtQRFRUXqxs3R0RFz587V11JzICdGSWGTkSUqk/Z1Xl5eFb22twZyKZBemfPy8vQ1VQ0ePFgFcohMSQJmkuUkzbEk04kuDrnxluvYPffco4K1LZkEnl9++WV9qW7Wrl2LMWPG6EuNQ/pJkpsICaqPGzdOX0tEdH6ioqIQGBio5qXuJ3Vfg1OnTqmOMEVDhQqkA3UZAWnp0qUqY02yNKr3McHABNEFYmCi5dmyZYuqoEuTjtZCLkiSSTJ+/Hh9DVHja7jAhFR1SlFcVIii/HzkFeajsKgU1VtsSRtYS0srWFjawM7eFpZWFmgN4cnWFJgQMiqHSEhIqAi4Ll68GE5OTmq+Mm9vb3Tv3l1fajwMTBBRQ5Lz4NixYxEUFKQCEZXJaEWGkYsaMjCxY8cO9W9KZ+rPPPMM3njjDX1rOZMGJqSPiZGjGzfiTNTQGJhoeTIyMnD06NEG7Y24qTM3N1cdWbq5uelriBpfwwUmSrUpBYknDiB82yas278TB44nITa2fKuQoERAQADatOkK/4DeGHnFMHQI8EZr+Ea0tsCEgVSBpRM2eVoon0G/fv30LU0PAxNE1JCkA3g570tH5ps3b9bXlovVLo7+/v5qvqFCBXKP9Mgjj6iHfr1790ZoaKi+5QwGJoguEAMTREQXR4MEJrJiURgfhi07DmL38TgcSc6GrWsJLGEF5NppO+QgK/kUEiMO4VSSJUrNu6FtwFj85/VrMKxfe5QnurZsrTUwIdq1a4eYmBisWrWqSWeMMTBBRA3p119/VU0qZISi9evX62vLJSYmVvT/IP1NXMgoHfJe0uH8Rx99pJaliYhkJvv4+Kjlykza+SWDEkRERGQS8tylIAvZUXtxYs33+On9L/HNz9uwNq0NOo+6DXc/8ho++OA9bXoFLz1zE26/uhucyrJx4nAcdoalIzarCMZ7XKGWSDq6JCJqLQxZwZItWF3lvIXzCUrs3LkTS5YswUMPPaQCHIagxO23365GeTMWlBAmDUxERkboc0REREQXUUkhcGIZ/l3yK27+vy1YVjQAHafejveevw1TB/ZCOxcXbSepBrnDM7AP+k24DKM9vNDV1QHmndrAw94GzuqNqCVLS0tTr+wDjYhaE8PIG5U7vTSoqSP02kjTEOk/QkY5GjRoEC6//HJ8/PHHatvQoUOxadMmvPTSbLRt21atM8akgYmoCAYmiIiI6CIrSEZh0k6s+Xs5/l56BPsi/dFpzDiMnz4KI4KD4O/mAnsrK21HeUpuDRv7dvBoMxh9gl3Qu6872vbphjZODgxMtHDSFDMnJ0fNSw/xREQE1bxNSFO3upB+I2699VbVoebBgwfVyHYyktHTTz+t+q+QphsDBgxAbEyljp2MMGlgwsWVnaoRERHRxVWcFYXMY39jwR8b8O/OQjj5TMAVV4/G5LGd4aFtPzsx1Q2W1l3RdUgHDJrQBQMHB8PfxRGO+lZqmaTts4GMvkFE1FpYqeB8eYC2OhlKVBiGEz2XY8eOqSCvvb09li1bpoafl2GWpW8J6VxTmJubwdml9nC/SQMTvUNC9DkiIiKiiyMl6ij2LvsZ4afjkN85EN1umILebb1Q27MfS1sndJo2G1df/yCeGe+D9h7n39kXNQ+pqanqVdpY29lJR6hERK2Doe8IQ5OOylavXq1eO3furF7PJUS7x5fsitzcXNxxxx0qMFGdlZU1goNrH3rZpIGJMCPDghARERE1iLISIPsYYo4exKrVcYhOaQvPoJ4Yd1kXBHg7wF7fzRhzCys4+nZD23Yd0cXbBg7WJq0iUSNISEhQr5J2TETUmpSWyjDagIWFhXo1kH53fvvtNzU/a9Ys9XouEtiVYIaMuBEXF4f7779f33JGUVEhwsMP6UvGmfSqm5Fe3sEQERERUUMrKy1GQfxWnDi4Dyt3WyKpMATtAvvg0iEe8HJjBgRVZej4koEJImptDJkSNjY26tVg7ty5qvPL7t2749JLL9XXnluXLl1UB5jOzs7q9bHHHtO3lCstLUNmRqa+ZJxJAxMBQUH6HBEREVHDKi0uxvGtq7B/32YcszRHbr+u8OgehN7aNnZkSdVlZWWpVycnJ/VKRNRaGDImqg+VPG/ePPV6/fXXq9f66Nu3L3766Sc1//nnn2PFihVqXkhmhp+/n75knEkDE4GBDEwQERHRxVCgVbRSkRgZj4TYNORrlaDA4E7o2DFQBSXOHqmdWjvpqE0YRuYgImotDE04DAEKERERoUbQEDfccIN6rS8ZJvTee+9Ffn4+rr76aoTqXTlIXz7+/rWP8mHSwMTG9ev0OSIiImpOiouLVXqndBhorLOsRleag7LCGCQm5CM5xUKrdNmjR8cAdG7nq+9AVJUhMHE+Y/YTETVnhs4vCwsL1auQkTSEZD4EXUBLh88++0yNxiFB3z59+mD58uWq3rB92zZ9D+PYsxMRERGdU0ZGBg4dOoQ///wT0dHR+tomJDcFJfH7EH4iAycSXGBu1hle7g5wc9G3E1XTu3dv1b7aMJwdEVFrYW5eHgaonDFhaIZxxRVXqNcLsWrVKlxyySVqfvLkyfjoo4/UfG1MGpjoFdJHnyMiIqLmJDY2Fnv37sWGDRtUj93z58/H9u3bkZKSou/RyPKyUJpwChGZeYgtdISZWQA83OzgWj0wUVoMZB3GkY2L8N1rr+FdbXqt0vR/c/7EvD1pSMg8e2z3C1KivV9mNOIPrMOm5fMxb/NJ7I7O1TfWTV5sKCK3/IrfV2zAmtAYRGUABdqvQ+dHepA/efIkvv32W30NEVHrYMiUsLKyUq/S9MKQMTFjxgz1eiEkI01G6rj99tvV8ssvv4zNejORmjBjgoiIiM4pPj4ehw8fVlkT0uP2Dz/8oNIzw8LCVNBCmnhUTgk1uYJ8lKUmI0n7GVItHGBu7w93V1u4OOrbDWRI0dwoRIeuwtJvPsLHr7+CV154AS+8OBuvvv8pvvpjPdYcy0ZqrrbfWcq0qQj5mclIjjyGk5GnEZ+Wq60BzjxzMqIkH8U5p5FwcB8ObluPzZvXYfWBeBw9Xb8mMQXJx3H64Eps3LIZ63YdxJ5jcUjMKUSesR+V6qRt27Zndf5GRNTSFRWVB98NTTrk2i7c3d3ViBwN5ZtvvsFLL72E3Nxc/Pe//8WPP/6obzmbSQMT+0P36XNERETU3JSVlVWkfUqmxKZNm1R65ttvv42lS5eq8cubBBcHmHX2g7uDDVz1VRXMrbSa12AMmjIDL751PUZ3bQMfbbWFrSPaXfoQLr/mVjw7wQftPYwNLyq/eyoits7Dwudvxv3Pf49Plx7CaW1trfkVOSeRdngpPn/zD6w46Aq36U/h3qm9MbFb/UaDcOw8Ft2nPozHLvdBm8w1WDTnf/j7yGkcy9Z3ICIiqgNDU46SkvLI9u7du9Vr586d1WtDmj17dkXzkFtuuQXfffedmq+OGRNERERUZxKcEJIdIVkSkZGR2L9/P9atW4dff/1VNfNo9CYelhaAnQ2sLCzOHo3DTKv6WLnA2cMb7Tv5wM3eBtbwhLV1PwwcMRhDBndCkLs17KzOriKVFuYj89Ba7N2yGvM3HcK28DjEpORA8kSMZ0xIuCIaJ3ZtxL8/rUScaze49xqKAZ0C0dXXCR4O9RsrxNLeHQ7eXRDQsT8G9wrEQN9CHJm/EXu3HkWUtr0R81WIiKgZadOmjXo1ZEwYmrQZ+oVoaDIM6ZV6cEKadzz77LNqvjKTBiZGjh6jzxEREVFzZ8iekI4xZUiwBQsWqDRNGbtcmnhIJ5mN3sSjJqUlKNN+rgLtdyi08IWV02AM6OmPbh0c9B2qkeYY2Yk4uWED9uw+iN3ZQNY5mlCUlRSgKHM/wnbuxpKVcXAfPQn9xwxCP1fA8XzHL7W0B1xD0G/AcEwf1gkl61Zj/+ad2J6Ui5ziWhuUEBERKYbmGgcOHFDDhMoDBfHII4+o14YmHQ0v+uMP3H///Wr5zTffxH333aeaghqYNDARGRmhzxEREVFLIVkUkg4qr8nJydi4cSM+/PBDvPvuu1i2bJnqn6LJyc1BSWIcogsLkOjqCPNObeFub4MaB/HIjUBu5Fos+tMKEfFuGDUKcD2rnUhVJXl5SNm8Fvvz7BE67n5cMrANhvjpGy+UY2c4B/bHhJH7kZy6BV8vCEdyWr6+kYiIqGaBgYHo1KkTTp06hYEDB6p1MlKRl5eXmm9oMuR4TEw0PvnkE7zwwgtq3eeffw5/f/+KfifMtEpEeU6mCWxcv45ZE9TiSOcxM2fOhKOjI+bOnauvJSK6cFFRUWr0i+zsxutEQJ5yuGp34DJ6wYkTJ9STlXNVHaTtqmRTuLi4oH379qrNqnSoVRPpfHDixIlq38ok00J6B5f3MQxjVqPMg8g9tQRPPzQHi3fbICngarzx+bW4bHRndNB3qSwj7HccW/wqHvrxJMIsR6LDpEfx7t19MaKbB6rmTEgWQjYS9izFweUL8GfkpSgt2AUv898wJ/pWjJ52FWY/PBq+2l52an+DNGSfPoT1b7yMlfm9cXLgA3hrqi96+Nrq26vJi0VO0hHs3rEPh6MzEZehr4czLB384NlnEAZ280H/dvb6eu3zSTmJ+L+fxnvrHLAidyz+99ZUDGrvgZo/aeOkbbFcxzp27Ijhw4fra1uOq666SlW4m7MvvvgCzz33nMpKGjdunL6WiOj8Sd9Q06ZN05egsh3lWnwxFBQUYN/evRg8ZIhalj6qbrvtNhw/flwtjxw50rSBibDQUPQOCdGXiFoGBiaI6GKRC7ecX4SHh4d6NTU5t/n5+SEnJ0cFSOS1rmQYMgcHBzg5OVW0YzVGAhnSW/fgwYP1NeXqFZhAIgpyQvHrXa9jwdIErCkZhDu+vA9XTu6LEW62qq8Jc5SgrLQQeampOLz2B6yZ+zy+2QpkdbsRg257Ey9O9ERfv6qBA9m/OOsgti75Hf/MXwHrWZ+iTd5WOG59EW9E34pBNQUmCg8j6fgafHjLZ4hrfzmCHn4Dt/UCAp317RUk8JGHrOObcGrnEvz6zw7sPpGFuAxJai1GYbYlSq2C4D7zMdx5WR/cObRSOchNBMJ/xFufHMHc7c6488fHML6XP3rY6NvryBCYkF7TPT099bXNX1ZWlmpOJGXnhhtu0Nc2TwxMENHF8Pzzz2Pz5s3qGiBNKy6WoqJCFYQIDj4z4kdeXp7KmpCfQeZNGpggaokYmCCii8UQmJCnCjfddJO+1rQkaCABBqm4bNmyBTt27KjoW8IYyX4wZExI51oSbJAnIZI2WhM5xtvbWwUxKqtfYKIIJQXpOPbri/hpwWq8uToHnjOfwoyZk/HM9C6Q2207ZKEoLxbh83/Bor+W45s1O5GcAwSOvwsTHvwY9w+0RLBX1VauJXnpSNrwAX7anY0f4vvindvHo13cfIQtPEdgImYdorcuwG2zD8ByyBW44plHMd0faFM1rUKTp03h2Pj5T1jy1b8IH/0ARgzvhct7ymeRjKj1vyBs6xas7/oepo8dXDUwUZoB5G/F/Fd/xl+/nYDny99j6qiumFjzR22UITAhmQWGMedbgjVr1uDRRx/F999/z8AEEVETJc1JFi9ezIwJogvFwAQRXSyGwMQzzzyDhx56SF/bOCTFc+XKlWr0DWOBCQlGSJVCmn106NBBtV2V16CgINVE4HwyPuoXmJDOJouQfXwddmxdhT/+XY/teb6wcfZFHz9vOGrbrRytYOZqDYekXBQkRyAxPhzbNwBtxl6Nqa8/jak+QKWWEtpNfzxy4vbjr49+xLayjkgZeSueGeULxwNfYdPP5whMnFqFqA2/YeabmfCcMBV3vHoLRmo/hGf1Ti9LsoDsDVj43hzM/WI7zG79GDOuHI4bhkkHFtlIPbYdsSeOINz5UnQO8ENf/8o/oDTx2YvFs7/AX9/uQcaD32Hm5BBc07vyPudmCEzcc889ePLJJ/W1zZ9UdOX3kqHpGJggImo8xjImqjNp55cZ6Wn6HBEREbUU0kxDAg+SFSFt+ceOHYvrrrsOs2bNwqBBg0zWDMXMwgpOXSdg8KXX4eHbJuKyLrlwSdyKDX/9hWXa9NfytVi2/TiinXug69ipeOg/l2HaiMswvHsv9GkPOFXcz8szmyLkJR9DfNhKrN1vgQKzIFw1rD28XaqnPJSgtDgPGTGJSEtOV6ECGayjpLgYhYVFKCt1gZ2tA9xcAUtjI3Golhxm2s9uDTNHS5inRiE98iRORSQhNdsODu0notelD2LWsM7VghLCTJusYGllAXPrEqRlZiA3jx1gEhFR01JaWobMjEx9yTiTBiYCgoL0OSIiImrOpPmFpXanLa/Si/eoUaPUMGPyxH3KlCkVY6Q3BjuPbggYdD/ufvBLfPLJQixcqE/ffINfX56NZ66fhEljJiFw2N2457278Z87R6KXdpxT+eEaiRakIiJsO1b/8hdSQ4YhaNwojPcG3M/qKiMX+ZmnsOWrBVi3bCsOaGukF46cnCycToxDUWGB2qtGMvynxwh07TUUo3o54sja/8O3H7yCt96bh3UHUhBXa7+nEunwgrOnI3y0KpZlzd14EBERNRoLCwv4+dc+LJVJAxOBgQxMEBERNVeG/iPkVZpX9OnTB9dccw1uueUWTJo0CT179kTbtm3h5uZWa2eXF5uFlR1sHH3h06YD2rfvgi5d9KljR3Ru1w5+nq5wdXGFrZMPfAN94O3jrEbisCg/HCguBKL34OiBUMzfEYv9O//BmgWf4J2XnsPsF57De98txYLd+Ug6vhV7l87BR69+jB/+3o/tp7JVjxES1igpLUFxcdE5RzCBmfavWjnDr88ojLrxLlx/+RD08c1E0sGF+O3LN/DTn6uw+hSQYTS+oWdMWFrA2kZbMmmtjoiIqG7kQYa/fzt9yTiTXsJkuFAiIiJqfuzs7FQwQob9lH4jJCghTTauvfZa1Y5fxkFvrJFDGlxZKZCejLxiK6S5dYVDTiSSD67DsmXL1LR2xyGExhQjKyUCMYf2YfO6UESV2aPI0VX1ZSEBDgsLS1hb28DMvJaqVnEOCnOTEBmfjhKPzuh92c34z6034OpJPdDBIwGHV36Npf+sxF+HspGWJw1EqpMQSCGKCktQkFf+YxMRETU1Mlzo9m3b9CXjGFsnIiKic2rfvr0KPgwZMgQPPPBAk2iycdFY2gGdp+HSO15VnQ1Wnz594VY8ONYe/r2mYMytL+PTBT/h5wVP4vFbhqKHdrj0BOHg4AQv77awsqolcyTnJFJPrMBnv+3Ayh1xsLSxh0fXERh13YO464kXcNsQP7gWJmBL2CFk50ouRnXF2pSEzJQsJEYARYXla4mIiJobkwYmeoX00eeIiIioOZFMiR49emDy5Mno1auXCkjICByN2WTjopE2EbZucPX2V6OLVJ+C/Lzg4wBYZ5bCysIZzp06IqBTG7TxdFRBifKMCQtYWVlob5WG3LxspKYBxRJHqCw7FfkRRxC6Zi+27I3FngwLFFg5wcnOEu6W+bBIK4VNoRWc7WxhYSzzQt4wPQmZWdlILrGAi4srHOzPGo+UiIioUcmw48Hdax6RQzBjgoiIiM7JwcEB7dq1UxkT0tlla1RWWoLC7ARkpKXhdFIxiuIikXDsOPaExSAhu0D1L1HB2gbmTvZwtTiNspxUJCadndFQnJ+H/OR4ZJ7ajdB927Fk825s27kbu7fvQujuI4jL9YSHVyD6d/KCg42RIT0kMJF0GmlZJUiy8kRbP3e4uzIwQUREzY9JAxP7Q/fpc0RERETNS0lRLlKPLcaerVuwdGMBUjJ2YefSRfjgnp+x9kgCYvX9FG9f2PbogUH2KWiTk4T400Bhkb5NJ6N3pFvlwi9wO+L3vYfP7puJO66fiZm3vYeH/xeJyAHXYcDMKbhhtCc8nK3KD6qsWHvD5ESkZHsi0W4ougY7oK2vvo2IiKiJKCoqQvihQ/qSccyYICIiIqoDcwtrOPj0QZ+Jt+CWF97Ci2/MxuznbsW9Nw5GX19nuOn7KVbesHbpgZ69rGBhexo7D51AVrV+Imw8uqBdv+tw8x2P4/GHH8PjD9yD++69B/fcdwfuvOd6zJoxAaP6dEQHJyvYWsgIHFUV5Ofi1OHdSLAsg3lIb3Rzs0MbI/ELIiKips6kgYmRo8foc0RERETNi7mlDZzaDkLfSTfg5iefxCPa9OST/8GD943BQD83VB2TxBU2dh0QPKozXF2zEbdzA6ISMpBaKTZh69oBft0vw2VXPIh77pH3Mkz34uEHrsYVY3qhl587XLR9K4YyNSjORm5GIvbsiUeugxM6j+2Jjk62VYMjRERETYCNjQ0GDxmiLxln0sBEZGSEPkdERETUslk5OqPrlbdimK89QtZ8in93xmN7nL7xQmUfQ2bEbqza2BOe7sNx18xu8HCz1TcSERE1HcXFxYiJidaXjDNpYCIqgoEJIiIiah3MLWxh49IHfUeMwPQrOyFz/TLsXr0ZO1OBrGr9TdRZcS6Qths7tm3Ewk0nYDdlIkJGDUB/V1vYW7CFLhERNT0lJSWIjanSE9NZTHoFc3FlgiERERG1FjKShh+C+g7H6OsmIqgwCjlHd2LPkSPYH5OOxHpGJ4qzTyMzdj+OHtmLnYcTcSjTBd2vHo4+AzvCX9veAgduJSKiFsDc3AzOLs76knEmDUz0DgnR54iIiIhaCYcOcOs6Dfc+cyUm9UhH2uJ38MXS/Vh5OEvfoW6yj61F+NL/4cMliYh3Hosrb34IU7t4o7OjvgMREVETZGVljeDg7vqScSYNTISFhupzRERERK2EuTUs7N3g3rk3godNxLgJ03HV4AD0bmun71A3tr494TdoBqaNvwSXDumBPu094GlvCZuzesYkIiJqOoqKChEe3oSGC81IT9PniIiIiFoRcyvAqS18ug3DoHGX44qBgQjxq2dgok0P+A+4ElPHDsGI7m3g7wxYMyhBRERNXGlpGTIzMvUl40wamAgICtLniIiIiIiIiKils7CwgJ+/n75knEkDE4GBDEwQERERERE1FWXalKFN9ev1hqjuLC0t4e/fTl8yzqSBiY3r1+lzRERERERE1NgkMJGjTblqiajhFRQUYPu2bfqScSYNTBARERERERERVWbSwESvkD76HBERERERERG1dFZWVgju3oSGCyUiIiIiIiIiqsykgYn9ofv0OSIiIiIiIiJq6YqKihB+6JC+ZBwzJoiIiIiIiFopM21y0SYntUTUOEwamBg5eow+R0RERFQ7MzMz9OrVC+7u7li/fj2Sk5P1LdRQTpw4gSNHjqBPnz4ICAjQ1xJRayKBCQdtsldLRA3PxsYGg4cM0ZeMM2lgIjIyQp8jIiIiqp2Me/7UU08hJCQE119/PXbt2qVvoYby888/48svv8SLL76I6dOn62uJiIgaTnFxMWJiovUl40wamIiKYGCCiIiI6kYyJpydnTFixAg899xzWLNmDX744Qd9KzWE3NxcZGdnq8/Zzs5OX0tERNRwSkpKEBsTqy8ZZ9LAhIurmz5HREREVDddunTBHXfcAWtra+zbtw9r165ls44LcPz4cfz7779qkqyUQYMGwdbWVt9KRETUsMzNzeDs4qwvGWfSwETvkBB9joiIiKjuZAz0p59+WvU5ccMNN2DPnj36FqqvX375BTNmzFCTg4MD3n77bfj4+OhbiYiIGpaVlTWCg7vrS8aZNDARFhqqzxERERHVnTTrcHR0xMiRI1V/CKtWrcJdd92FBx98EPv379f3otpER0fj+eefR1lZmQpGyDR58mTVjMPCwkLfi4iIqGEVFRUiPLwJDReakZ6mzxERERHVnzTruO2221QP3xERETh58iQ2b96MlStXVpmkP4rW2NxDmmlU/ywMk4xscuzYMXTt2lUFdWSS0TiIiIguptLSMmRmZOpLxpk0MBEQFKTPEREREZ0f6WvimWeewYIFC/DNN99g+fLlmDlzZpXp5ptvRmgrzNScP3/+WZ+FYfrss8/U53bFFVfoexMREV18kpXn5++nLxlnVib5fER03oqKinDvvfeqdrofffSRvpaI6MJt2rRJ3VDKzeRDDz2kr6XK5Bws2RExMTH6mnLSA/iRI0eQnp6ur2kd2rVrpyZj3N3dMW7cOLi4uOhrWjZp7iPX53fffRdXXnmlvrZ5+uKLL9TINBKMk78hEVFLY9LAxMb16zBy9Bh9iaj5kLF3CwsLkZGRgYKCAn1tOan8vvPOO2qYtUceeURfe4b0dC7tdyXtmG14iag+GJg4fzk5OXjjjTewe/dufU3rcNNNN6nOQVsLuTbLkKdyfa5epd25c6e6Pks/JKNGjdLXniHXZnmoIBk40odJU8bABBE1Z3L/tG/vXgweMkRfczYGJojqQMZ4P336NPZqX6jExER9bbnS0lKsXr1a9Rg/duxYfe0Zbdu2RUhICLy9vVUFiIiorhiYOH9SvcnPz1fB49ZEbrJlai2SkpJUPyMyjGz1v3VkZKS6Po8ePRqdOnXS154h12ZZL9dnBiaIiC6eJheYkHRKV1dXfYmo+YiKisKWLVuwfft2xMbGVnkqI/MJCQkwNzc/a7g1qegEBASoMeKHDx8OP7/a21YREVXGwARR7eS6vG3bNuzYsUM166l8fZasmfj4eHVtdnJy0teWk2v2gAEDMESrJI8YMYKBCSKii0ge5MqDXslUq4lJO78kaq6kwiKVGMmWkB7PK08nTpxQlZ+srKyztskkmRbShKOpV3qIiIiaG7k25+XlqWuxjDhS+forQQlh7Not+8q1W44nIqLGZ9Kz8f7QffocUfMimQ7Tp0+Hr6/vWW1YayP7SsbE5Zdfro4lIiKihtOvXz+V9VDf4L9cnwcOHIjBgwfra4iI6GKRjLbwQ4f0JeMYJiaqA3miIn1I9OjRA8HBwed8wiIVJEtLS7V/t27d1LF8KkNERNSwJCPRy8tLNceQBwB1uT5X3l+u1cxoJCJqfCa9U2LHl9ScScVFOsrq3bu3mj9XRUYqS3369FHBCSIiIro4PD09Vb8L0tn0uci1Wzq7HD9+PDMZiYhMREYnrK3jS2HSwERkZIQ+R9Q89e3bVwUmpOfv2pp0yDaZ+vfvr/YnIiKii0MCDRMmTECbNm1UB2u1ke2SMXHppZeq/YmI6OIrLi5GTEy0vmScSQMTUREMTFDzJU9ZJAtCnrDIeOg1DS8maaSyj6SJSuVHjiEiIqKLQ67F0iRDmlr26tWrxuYZcj2WfSSTUfZhE0siItOQh7qxMbH6knEmPSO7uLrpc0TNlww7JimgtY17Lk9hLrnkEhWYICIiootPAg7ShNLYAwHD9bpnz56qWWZN128iImp45uZmcHapeahQYdLARG/tQkDU3Ekb1kmTJqmgg7GUUVkngQnZR4IXREREdPFJ00kZpUNUb24py/LEToIS0sySgQkiItOxsrJGcHB3fck4kwYmwkJD9Tmi5ksqM/I0Rp7MdO/eveLJjKyX1FB5GiOporKeFR8iIiLTkKYZ0hHmyJEj1QMCQ1MNuRbLwwRZbxi5g9dnIiLTKSoqRHh4ExouNCM9TZ8jat6kQiPpotKW1bAspLIj6yU4QURERKYlAQhpSlm5Y0u5RnMkDiKixlNaWobMjEx9yTiTBiYCgoL0OaLmTSo5ki5aeYQOwyTrJVWUiIiITEsCEBMnTlQBCENzy8ojcdRlSFEiImpYkknu5++nLxln0sBEYCADE9QySGBCJukIU0bo8PDwUJUhmZfKjyGDgoiIiExHrr+SvShNKiV7UZYN82xiSUTUOKS5u79/O33JOJMGJjauX6fPEbUM8kTGMEKHpI3KvAQmiIiIqPFIIEKaVkqQwjDPoAQRUeMoKCjA9m3b9CXjTBqYIGppJCVUUkMlc8LPz48jcRARETUBhtE3JDAh89LMkoEJIqKmy6SBiV4hffQ5opaheiVHllnxISIialyVr8WGazOvz0REjcPKygrB3ZvQcKFERERERERERJWZNDCxP3SfPkdERERERERELV1RURHCDx3Sl4xjxgQRERERERERNRqTBiZGjh6jzxERERERERFRS2djY4PBQ4boS8aZNDARGRmhzxERERERERFRS1dcXIyYmGh9yTiTBiaiIhiYICIiIiIiImotSkpKEBsTqy8ZZ9LAhIurmz5HRERERERERC2dubkZnF2c9SXjTBqY6B0Sos8RERERERERUUtnZWWN4ODu+pJxJg1MhIWG6nNERERERERE1NIVFRUiPLwJDReakZ6mzxERERERERFRS1daWobMjEx9yTiTBiYCgoL0OSKqi7LSEpQWF6KsrFRfQ0RERI2prKwMZSVF2lSsryEiotpYWFjAz99PXzLOpIGJwEAGJojqIz/+AFI2fYGitCh9DRERETWqsjJkHvgbmeH/6CuIiKg2lpaW8Pdvpy8ZZ9LAxMb16/Q5IqqLqJg4rFy7EckpbAZFRETUFEjGxK59B7AvrPb20kREVK6goADbt23Tl4wzaWCCiOrnQEwuvlybiOjUQn0NERERNabSsjIsDU3D8v3p+hoiIrpQJg1M9Arpo88RERERERERUUtnZWWF4O5NaLhQIiIiIiIiIqLKTBqY2B+6T58jIiIyvdLSUoSFhWHu3Ll4+eWXa5xeeeUV/P7778jPz9ePJCIiIqLzUVRUhPBDtffLw4wJImoy+vbtq1K9Vq5cqa8hahhRUVG49dZb4eTkhJCQENx000146aWXapxmz56NGTNmYMSIEcjOztbfhYiIiIguBpMGJkaOHqPPEVG5Um1K1ab4GqYMbZJ9Uiqtqz7JPs3fgQMH1JPs4uJibNmyRV9LdOHmzZuH/v37Y86cOcjNzYWLiwsmTZqEZ555Bi+++CJuuOEGjBkzpso0evRoWFtbY/fu3Sp7gohamzxtMnbNlSlBmySbSiZj22Uy7ENERDY2Nhg8ZIi+ZJxJAxORkRH6HBGJsrJSFOaeQl7WfqNTUX5sHfaJ09+teZObREmzF3JTSNRQ3n33XSQnJyMoKAirV69Gamoqli9fjjfeeEM11ejUqRPWrl1bZVq3bh1ef/11dfzmzZvVKxG1HiVFGUavuTLlZx9ASXGmNqUb3S5Tfpbsk6W/GxFR6yYPHmNiovUl48zKZDBmE9m4fh2zJqjFkTZTTz75JOzt7StuZOqqSLspWvf1T4g7eFRfU9X+0zHYFHUcUzv3QoCLh762qq6jh2HIdVfqS82TpMq3a9cO6enlQ6/JjaE8tSZqCNHR0fj+++9xzz33wNvbW18LHDp0CD169FDzlcvcqlWr8Oyzz2LXrl1qWZqAyPGNYdOmTZg5c6YK3D300EP6WiKqCwkwyvVZmmdNmTJFX1s3EbtDsf7rufpSVaVlpVh6bD8szc0xuVMvfW1V5laWGHPXTWjXq/Ze6Ovqiy++wHPPPYcFCxZg3Lhx+loiouahoKAA+/burTVrwqQZEy6ubvocEYlS7SuYYd8Op126Gp2y7HxRamaOdMea98m2O3Oj1Vz98MMPKihhZ2enryFqOBL0kiYblYMSonulYaskW2fFihXo06cPJk6cWBGUuOSSS1TGBRG1LvlWTkavuTIlaVOBlaO2j7PR7TIlO3dBoaWj/m5ERK2bubkZnF2c9SXjTJoxQdQSXVDGRCmwKQWIr6EZauiK37H+h48w/al3EdhnsL62qs5avWdgM4/5DR06FNu2bVOp9hEREfjwww/xyCOP6FuJLo6vvvoKd999N3x9fVV/EtJBpvDy8sKdd96Jm2++GV27dlXrGgszJojO34VkTETlll+fjSktKcbit5+EpbUNpj3+pr62KgttGuEJ+DVQvJ0ZE0TU0pk0YyIsNFSfIyJhYQaEuABjvYxPXR0BS9nH1fh2mbo08wcyH3zwgQpKmJubo2PHjmqdoUkH0cUkgQmRkJCgghLSMZM09zh8+LAKMjZ2UIKIGo+XjfFrrkxjPAFPa8Cnln1Ga5OHtg8REcmD3EKEhzeh4UIz0tP0OSIS5maAu1ZxaWNrfHKxKt9HKjfGtssk+zRXOTk5eOutt9T8888/j8mTJ6v52NhY9Up0scTExKgRN4SZmZkameP48eP4/PPP4e7urtYTUetlZ2H8miuTrzbZattlMrZdJsM+REQkTWbLkJmRqS8ZZ9LAREBQkD5HRAT83//9H5KSklQqvaSqy5CO4ptvvlGvRBfLwoUL9TkZHacMP//8s+qLQoIUMvXs2RNPPPEE9u3bp+9FREREROfDwsICfv5++pJxJg1MBAYyMEFE5aSzwd9//13NS/q8ra1tlZE4srI4zBpdPH/99Zd6DQgIMJohcfDgQbz33nuq/5OTJ0/qa4mIiIioviwtLeHv305fMs6kgQkZLpSISCxZsgR79+5V7foffPBBfe0ZhjR7ooYmo29Ip3hi3rx5SElJUVkT0teJDBsq05w5cxAcHIz8/HzVvIOIiIiIzo8MF7pdq2fVxqSBCSKqHzNLa1jYuWjfVEt9Tcvx2WefqVdp21/5iXWXLl30OaKLY+vWrepVmg5JRoTB4MGDVdaOTDIixwsvvKDWr1q1Sr0SERmY2zjAwsZeXyIiogtl0sBEr5A++hwR1YVDQAjaTHwINp6B+pqWQToeXLNmjZqfNWuWejVo27atPkfU8KSDy5dfflnN33XXXer1XKTZERGRgZm5OTz6XQG3Ppfpa4iIqDZWVlYI7t5dXzLOrEzyV01EhgB0dXXVl4iatuzsbJw+fRoZGRlq9AhJQTJMkt4trzLEpZ2dHX755RfVdurqq69WTRNkkj4T5NXR0REuLi7w9vaGvX39nq4cOZ2PPVF5GN3ZEW2b8/Ab1ciY8nJz2KtXL4SGhqrOBg3Gjh2r0uylM8Lrr79eX0vUMCQQtmDBAnTq1AnHjh3T1xr3n//8B99//70qh1IeG8OmTZswc+ZM1TnsQw89pK8lat2k02RpgiXXZ8P1uPK1WSa53p44cUJdn6dPn45+/fqddX2Wa7Nk7Mn1ufJ16FxKtarzumPZsDQ3w6hOphmz+4svvsBzzz2nzl/jxo3T1xIRNQ/ykEfurZydnfU1ZzNpYEL6mBg5+kzndkRNgXwF5MtSVFRUZUpMTER4eLh6ui+VoMzMTNUho7wa5qVi4+Pjg/j4eBQXF8PJyUl94WQyzEuFx9/fX7VX9/LygrW1tYoayiTBDAlu1KdC1NzNnz8f11xzjb50RlBQkGrb/8knn+D9999XN4XffvutvpXowhkCYmL27Nlq2Ri54ZFsikWLFqnlxgySMTBBrZlcm0tKSs66Ph85ckQFHaKjo8+6NhuW5dosvcDHxcWpBwTVr80y+fn5oWPHjur6XPnaLJMcK9fnpoKBCSJqziRgvG/vXgweMkRfczYGJqjVKywsVBkRhw8frjJJ5UeGD3Rzc1MVGcmMkEmewhjmpWIjT1vkRkYqQ3l5eVWm3NxctV62S4DDwcEB3bp1U1PXrl1VfwpSYZJKUGtx55131jgcqDzZkidZV111lfpspPJJdD6k7MjIG/KUVPqOkJsYycaRzL2JEyeqDjCrk0i+BCR+/fVXfQ1w44034qefftKXTI+BCWrN5NosDwmqX59liGmZ5PpruB4bJsM1WrZJYEGuv3ItNnZ9Tk1NVe8v1+fK12YJVLRp00Zdn5sKBiaIqDlrcoEJoqZCvhwSMDh16hQiIiLUUxcJUMh6w6tUSAxDCUoAwlDZkdfKwQmZDJWc6q8ySaqpVIzk35D18lRGMi3kVW7CJfgh2QIyyb8j61sqOd1IZ4Pbt29H+/btVQeD0qeEBCEks6S73vZMtsnfRQIV1113nVpHVB+GJhsGElyUp6jSnFAyc/r0OdPnkXzf586di6+++go7duxQgcKRI0eq0WKuuOIKfa/GwcAEtTbyPZVmlHJ9joqKQnJy8lnXZ8lClMCBXJ8rX5OrX58lG7G267NcmxMSEtT1ufK1WV7lveX6LNcjCYLI9bkxtbbAxObNm7Fz5059iQykGeLUqVNbVaYttR4mDUxERkYgMDBIXyIyLUkJlUkqI1LRiYyMxJYtW1QfB0ePHkXv3r0rppCQEJUG2tBiY2MRFhZWMcmTn86dO6Nv374YMmSI9v0IhIeHh6pQSRppS7vwvPjii3j11VfVUywJTgwYMEDfUpWhn4na0u2bG6kMy9M5xoKrkrIgZV5uBBqSfL/feecdVY4OHTqkr4X6Xg0fPrxKirbcBBn2kQwpOUbOA00BAxPUGhiaa8j1WYIE8n2U67NkPsk2w3XZcI2WZpANTa7JUh/Yv3+/epXmmXJ9HjZsGHr27KmuzxL0kMCFnEdMrTUEJuRBjgSmhAzTLMM2U1VSP3r99derXMMMATqipkzOqQkJ8fD3b6evORubclCrITeGaWlpWL16Nfbs2aNSNyXFW1I35WmIZEjIJM0t5PViZC7Ikx5JF5f0VHmVSZ7WHDx4UP1M8nRm4MCBqtIhT3Yb+matMZ08eVJVKOV3f/fdd/H444/rW8726KOP4v/+7/9aVGBCKtnPP/+8Kod0hgQlXnvttSoZDA1txIgR6umbfK/lO2eM9P8izTik7MnP1FQwMEGtgTSxkgcEK1euVNlycu2TYL30ASE3XdWvzxcjaG+4Jhuuz1JfkOuzDC8sN8uSpTFp0iT06NGjUTpybw2BiS+//BI//PCDmp8yZQrGjx+v5ukMCaBJwKby7ZsEKti8h5o6uQdqUk05wkJD0TskRF8iMh258ZfsBGlnbrgxlMpN//79VXtSCUw0RnaCZHBIx5nys+3VvqxSIRLys0mHXIY2r82dPAmTG095CtahQwf1FKy2J16GTgqbe2BCUpGXLFmifn/pLV4quiY85TYL8tRHbjwqBwKlXwh5KtRQJAtCbnzee+891UTjwIEDKkVcvvPSfMgwNcUMJQYmqCWTLDL5PsowvhIEkOuzZAxKEEAy6iQwISNnNAYJRsjPtGvXLhUskeuz/GySTSnXZ8mikICmqbTUwIQEjbdt26bmpYmtIXg8efJkBiaMkMDEjz/+WKUuIdc4ySi67DIOX0tNV1FRoTrXBwfXPGQo+5igFkvSP+VmUG5Ili5dqp5YyxdCTtxyUZegROVUuMYmN69SAVq1apWapN8FuYmSjvrk6Yz0R9GUft76kEyBt99+Wz0FkzRZabNbG0NgQvqXkH4mmhOpWEtTITm1SmXrhRdeUOvkRltSU5luWZU0o7jvvvtU3w4G0j+EZC54eno2SNaQIeAgfUuMGdO8svYYmKCWRs6Ncn2Wm1AJyv/9999qBCw5N0qfLoMGDVLNJpoSaYYp1+c//vhDBVPkgYa085chryVwYoqmly0tMCH9hci1Un4vQ5aEZFLyPFd/9957r6pnvPLKK+q6yXoGNVfMmKAWS9oqSjDi448/VpUHiSZLT9ty0pYb/YuVDnq+JHtCnhRIIEVu1qSiJpFxaQLxwAMPqKdH0oFfcyM343LjKWT4TxkG9FykGYfcmMpNpNxMNicSjJCbSHm6Jk/hb7/9dnVzLZVX6bSqMdomN2VSOZVMJkO7YiF/8w0bNuDNN99skL4e5MmmfN8l4NfcvkMMTFBLI995uc59//33qi8HyZCS5hESsJZmVPIdlUB8U2Johik30pJtJdl/kuUoP7Nc36RjzIvd9LKlBSbkvC/nNTk/X3rppWqdZMjIRPUjD92kmbJ8p+S62ZIyaqjlqEvGhMVLJsyTPnrkMAKD2PklXVxyQyidZ0kHdpIiKilu0m+DdDApN4qGvhuaWtq2/DyGG1gZocLQAaZU4mQ4M2kGIFFw2ae5DC8q6a/XX3+96tBMbqqeffZZfUvt5CZVhmiUwERjj4pQH8uXL1dpqVK5lid+UuGWdrIyLwGx5prxcjFJGZd0aEOFVCaJl8uNi9wASCbRuTJszkVuHO64446LfuNwMchnIDcikj0lfeIQNWdJSUmqaeU///yjMiZkNCop1/LwQM6T0ofExejY8kLJzyTXX8ODDbk+S9aHBCskSCHXbwmmSAD0YpGMjTVr1qiMsgs9JzY2uU4uW7ZMfaajR49W5zc59zf2yCfNlTSHlHqhPJCT75i8SlYPUVMinV9GRkSqpno1MWlgAtp9YGN0GESthwQlpFNLuYBLJ1pyg/PEE09UjLLR1IIRNZEbWKkAGfqZkAu4PF2QypBUfKQC1NSDE/LZG1L05QZ93rx5da5wyu8tHYFec801Jm3De74khTIuLk49rZBXabYybdo09Xs3xUp2Uyc3KHKj8s0336jh/CTTSYIKrfGzZGCCWgKpkErAWW7iDTel0n+ABK4lk+xi3tA3NLmZlptoedAhdQ4570sfObJe6rgSbL0YmXEtKTAh2ZO//fab6rSR57WGIX2lTZgwQdW15KGc1HulnngxOnInOl/m5mZwdq653yCTPr7jUKF0sclN8J9//ol///1XpQY++OCDKmOiuWQYVCc3YzJWuwRX5KmCpKJLG9fdu3frezRdK1asUBdIqaxJxa2+T6ulCYRU/JoDSUe+5ZZb1NBy0p+G/M50YeQJkIzWIQG6u+++W/XYT0TNkzRP/Ouvv1R/T3IzL+nm0n+SnCubywOD6uRnl6y+Tz/9VC1LsGXhwoWqPwqixvLf//5X9dMiASwZlp2oqZCHS7UNFSpMGpiQ4UKptcrXplgc37oFW//egrCkAqQUlm9pCPIkRtJDZbQHaQs6fPhw1SeDjAAh0eLmmkIvP7dkR8gTJWmOIk8WpFInHYZJHxSG3qubIvkbXHnllaoi2hD9BDRlkpIs7Y3lqZ90Wsp+JC6cfG8lU2LYsGHqyY+MbiJPC4mooaUjK/kIdi5cjl07j+O4dlkpLNU3NQDJIpNMiWPHjqkMOMN3WposSkW1OQYm5GeWn10Cp/K7yO/Utm1b9TvK7yrNSels0keHZMLJ5yf9TTWloZlbAvlcpb4omTvyAEuaRBI1FXJ/tl0fgacmbPBMJiKBiUiEr12Dtb/9i50JBUgqKN9yoQx9Ski2hJyEJRhx4403quYALYm0F5RRKiTNXXoFl99XnsxI/w1NkXRgtmjRomY3CkJ9yZNAKXfyd2mOnZM2ddKE4f7771c990uQi4gaWiqyTu/Hph8WYdOmcIRnNUxgQvqHkXOjPDCQYLoEbCVgPWnSpCbXueWFkAcI0tmgXOskM9AQnJDfXT4DOkP6y/rggw/UDfRjjz2mglNERAYmDUz0CumjzxE1nD179qhe/KWjRckqkEpPS22LLpUeGaJMntCcOnVKNVmRZgTUeL788kv1NF9GH7nkkkv0tURErZv0DyOdXErfCHLzLoH15tI873xIU77bbrtNdeC5b98+LF68GAkJCfpWIqLWTZrVB5/jGsCMCWq2pBmDtDvfv3+/yiCQoIR0FCmpos0xNbQu5ImTPGGQyp2MMiJP6+X3l44xm2rmREsnnRPKUyAZ8kzSeomIWjs5J0rWgNygSyZZ//791QgcLTmrTAISAQEB6tosTRSkeZ98BvHx8foeRERUG5MGJvaH7tPniC6M9PAtN+XSu7dc9OWGUDrSkp6yWwOp/MjTeWlHKM05tm7dqp5OyedCRETUGEpLS9UQ1/LQQLL5pE2x9BUj/SPVtwPk5kgeHkgQRkYVks9BRkeQZiwyL58NEVFrJU3bwg8d0peMY8YENUuSIREWFqaG0ZMsiauuuqrVDSUoQ4fKcJoSpJDPQTr/lLGriYiIGoMEIqSzy/Xr16vghDRtkAyC1qZHjx54+OGHVf9X0uRSPpP8fOlri4iIamLSwMTI0XXsBK+sFIjfjQP/zlXDxZ1rev31N/DFF7/iz392YtfJNKTnNOBwD9SklJWVoaSkRPU2LH0syJCg/fr1g4+PT7MdeeN8yZMZGUpURh8ZO3ZsRdqsPJWRz4mIiMhU5NqTlJSE5cuXqxGKxo8fr/pdcHZ21vdoPeT3l464pVNMadYh/U1IdievzUTUWknW3OAhQ/Ql40x6JxcZGaHPnYOcuFOP4sSOJfjui/fw5usv44UXXsELL76P//viW3w7dy7m6tOPP3yH77/8BF9//C1+/PEvLFm3G4djM5DBwLTJleRlIDs5BlHa31mCBlWnKG1KQHJWFrIKspAWF4W4yOr7lE/Rp9ORnFOMUiMXcHniIBd3uQGXIULvuusulSbamklHmLfeeqtq2iKfi7xK2igREVFZSRGKshKRHC/XYWPX3VhExyUjoygfGRlJSI4+hciIs/eLjI5FbFo+sgtK9HeuSjL2Tp48qZpYypCFV199Nezt7fWtrY9kcV5++eVquOx169bh+PHjHL6RiFotaW4eE1P7UMpmZSYM325cv65uWRPyI+WnIvbYJuxa/yPe+Horduy3gqX1UNzx3kyMH9MFXfRdcxJPIOHARiz6aTX2RSQhw8sHEx78CJdPGIXLDTuRSWTs/wv7t/2L7zeeRmZe9YqLLBcgMykbBfnaBdvLE/bW5rAxEhrzHHwN+g0bixsHusHOquoOcmGXZgtSbLt06aIu+tbW1vrW1kuGTP3zzz/VyCTSxEMqhDJ8JV18d955JyIjI1W5dHFx0ddSQ4qJicHMmTMxbNgwvP/++/ra1mHTpk3qd3/mmWfw0EMP6WuJ6q4oIw5pO+fir83HsPKAsRvjQhQV5CEjPhtwdIK1qzMcLQDzan1I23gGwXvkrbhiUCBGdXLU154hI3Ds3LlTPRWTbAnpa4GgOqiW4Y4l21OCFFJvOR9ffPEFnnvuOXWtkUyM5kianMr5TJqhzp49W19LDW3evHm44YYbVFmRps5ETYE09du3d2+tWRMWL2n0+YtOouk+vr76Ui1kRAUre9iUZMAj9xBWbIvEiTRnWPqNxIxbx2Hs0B7o5uOj0ve9PN3h7ekBl6JYZKTFYuOhKGTad4eblzf6dneD9DqgXV/JBEqL8lBqbgs4tYF/QBDat29fafLTJidYpJfAosQJPoOHIbhrJ3TvVHmf8qlT1x7o2M4XAW5WsKhUM5JROKS5wu+//66yBIYOHapSJFtbEw5jZBQSqQxKR5hbtmxRo3bIZ8OgzcUnQ4XKuW3WrFkNPDa/ZL1kIOF4KA7sXodVG/7Ev/+ux+rV61X7bZl27Nih2nGfPJmMzLxS2Lf1UOe7lnbOy8zMVBWsdu3aqeGAWxMZ9UV+95EjR6oOBInqrbQEZSWFKLJ2h4OH/1nX3PbtPeHjaoPC6Hy4BHVFQL8B6N1ZuxZ3qLpfh06dtakrOvs6wMPhTJ9O0qGZfEdXr16tMiakiWXHjh1VcwYqb3Ypn4Wcr2X0LBnBSdbJVB8y7OqaNWvUtUb+Hs2RNPWR85l8BmPG1LF5N9WbdLq6aNEiVVZae1Zxc5SXGo2Yzd9h5cpVWLTsTJ1v/bYwrD9cgDI7G7h7OcJK21fdJRVlahWlA9jyzwr8vWAJVmj7rlPHbNOmw0g2d4C5mydctQOqB5xNqaysFDm5OWr0xJqYNGOivkqityBv++e49p11WBrVFtZ9bsfnL07E5cOCUGVQvuIC7Vv4HX78+Xfc88FGFATdgCtunonXZ0+Gv7aZl8amQJ7SHMKSN9Zgf3gZfJ58GMODnNGtHiOHyQ3Yxo0b8euvv+Kxxx7DlClT9C1kIEGbr7/+WkXK5emyVA7p4rooGRP5acjJTERScgRCt+/EvoN7sDfyAOJjLJCl+jctRn52GizMLeHo1ha+vsMxZOIEzHh0OtppW1tai25mTDBjgi6mk4g7tAe/PbkSZpdcho7XXoaxWr3RsY79SUtgNjw8HH/88Yd6gPDKK6+owDidIc1QX3jhBdXM8tprr0XXrl3h7u6ub60bZkxQXTFjonnLiNqDwwsexJd/HsRfOzOQrt3mllrZwcanOzwH3Yb/3n0Jrp/YTd0Lq/BmfgKQvAFfv/kT5v66DtvSc1BYZglrGx+4ePbDzKcexJWzxmOUdl63buLPck3644WFhupzdZOfl4uE+GgU5OcBDnYw828DNztbuOrbK0iGhZsnXFzd0Km0DA4xychNSIP2Z4L2t6QWQjIBpPIjFzVpv0pnkxFKJE1Uxk+XpzPUTEWsQfhv72H2tQ/j1R92Y1tRCK647yO89+mPWkXjJ236GO88MxXjBzjhyJEj2ncjAjvCUtQ5j93rEJEpSb9GCxcuhJOTk8qWkOaEVJVkR8gQ376+vvj5559VdiMRkTGOvu3R44ZXMXXcaExuB9hJkNi7K/xHTsBDz03B2CFBkLBmxU28tYe2fTxGj5uIKyb1g62N5FL4oE3QUFz/6N24enR3DNIOsGzEbAlRVFSo3cc1oeFCM9LT9Lm6ycvNQkLsCeTn58DdzRX9egfDw9lJNc+oQjX9sIalpRXsUQaLwiKUFharRGiOGt385eXlqSfSMknHKdKEQ5rx0Nnatm2LQYMGqacz8nnJUGUcoqwZyU4Ajv2N3/9cgk+WHsK6jPYI6DcKky+diGG9B6NPjxD0UNNgDB8/DsP79UJ37fthYWWDAlt7lR1Wx4ecREQXLCUlRV1rpMmRt7c3+vTpwyaERkhgQpov+Pn5VdRnkpOT9a3UMHKRnxWJU3tWYPmfn+Gzz2bjlVdmq8wMw/Thhx9izpxf8OefG3HgZDwytaN4n0BNjYW1Ixx9+6H/gIEYOaQrbG20mp21NxxdOqBnoCd8nW3PNOMQ5tqStTtc3azg6W4Jc/O26DH2Mky5/SZMn9hPO8Ydzo3cjEOUlpYhM0O+dTUzaWAiIChInzsXaV1ShLzcTCTExqAgrxRebh4Y0qsT3JwdynepRFqjFOXlIF+roOdqf6YSR3tYOdiykt5CSNvVsLAw1WmKBCRk+DF2Mmicm5ubyiaRCqJ0iCntDOWVmoHiLOTEH8LJNXPx46IdmH9Qq9wPvw7TZl2J6yYPQ2cPDzjZ2Gg7SqXfHW06D0avHn0xxg3w6+gNl3beaKNtacheLoiIaiNP/mXEDgcHB9UHjEwyGgVVJX1h+fv7q06pZfhUCeTIRA2gpBDISUBK1EEc2rsJ6/79B8tX/o7F/8zDoj9+x++/z8f83+bgx28+wFeff4Qvvvgec+b8ix2H45Aih5e/C1ETImEHVwR174WQIX3hpdX9bAptYFFgD4cyM1ULrKK0CChMRXpaHNJzC+DsNwQjrrwaV918GYZ194W3S9OoGUqA1s/fT18yzqSBicDAugYmRDryctMRH22G/Dw/2Nu1gZ8vYGfksy0rLUXa8XBERR7HMUtz5PTtCo/u7RGibatHFwbURKWmpmLDhg0ICgpSPX1bWckXlmoiabSSTivZE9I+ncOTNRPp+xC+/R/Mfms1Qg96oEvwRDz9yhQM690WbvouVbWHu3d7DJoA9BzZAR26doB0LczABBGZyrFjx1RmnjQhZCd75yb9PkkfE5ItIU1TqQHkJgEHf8Hy917Giw++h9dXpCKv/ZW469kv8ePceVi48DvM+epZzL63P4K8ihAWdgxr10bjQHS2CkwwY4KaLP8AuHYJxijtvqfd6XQURiUhsbgUZz1uLNRKcuIqrPt3B9YftsLg+57GpWMGYbA7UG1ww0YlQWt/f+kJrWYm/XFluNA6kf44syKRGh+DvceBjBxv2Nt5oq2PVumWB4aVFWSgJOkoQtccwoGd6SiyCES/QT3Rt3cgJLeCcfvmTZohJCYmqj4TZDx0uahzFI7ayRdfskokgLNv3z7VC7Zkm1DTFn9oCw7sWI1N0ako7dwTwSOHYmyQB/wcbNR57OwMPFu4BfVHv5tfwfWXj8bU3p4qis5vBxFdbDL0pWTjySgcEpiQ4btr62mdykmHl9KkIyEhQQ1/Lp+hNFGl85R0EDG7FuP97//GTzuzEO3QB5dMm4IJY8ZgUI9+CO4WjG7dQtCr7zCMmToRA9v5IaC4BLkOjjCztoa99haNnN1OVDMbfzh5dUH/PlZo43YKOen7cehkIZKrPG88jeSo3Vj+yXyEpvrAevAMzBrbCX0DnODUBJpvVCb3Itu3bdOXjGuiddgyIC0KKXHR2B1rhnTLNnBw90GgO2Cv8ldKUFaWj6LcNKRGHcXRLf9i3eY4HDvtgXbBo3Hp0J4Y0tVbvRM1FdJvrD2cvb3hHeADd1sL2NSh9MnTfrmAy9MFGQ5TLuoMTNROUqUMQ4XK5yafnzSHoSaqpEA7Wyfj2O5d2LvrIKJL3eA9LAQho3qik3ZFqS3ry7FNd3Sa+gIuGzUIYzpz/CEiOh/WsLR1gWd7f3h6OcPZ8tyVQxldQh4aSMeX0g+Up6enas5BtZMHLNIkVSro8tnJ9ZkPDs6DnrqefHgTdvzzBz6cfwQ7izrBf9I1uOOmyzBxYE/4OzvDSg3Jag87pwAE9R2PAR2DMKCNLVy7B2r1JBfI2DEtbXhtakm84KCV3e4DnODRJgE5uUdw8EgOklPPNEDKTzuMUwc34rffDyPNbQB6T5uJSd1sEdhMW7yb9A6vV0gffe4cpIuJtBRkpafiqJkZsvt0gXuPDqppRvkweHkoK41H2olNWDt/Ll568kP8luGEwituxC3vv4grh3dGL3ZB0MRIXLor+l95Na584GqMC7CDXx067pa2q3Lhlg61+DSmfqTy06NHDzXUonS0RU1UwWkgcTl27orFllAvlJaNw6A+3TC0v1uTinQTUUvlA3e/IZj29N2YOrU/tFMPbM9xtybDgkomowTAu3fvzg4v60EershwoY6Ojti9e7cabpXqqUj7zJLWYsWSlfj8B+2GLKM/xl06CXfeMxydXOxUxnRVsqYnArp4od9YB3Qb1gsBvl5VRzYgaoKsbezg3bYjHBzdUFBYiLjEJGTn5OpbgehNK7Bj8yb8O+gu9Lt0DP4z2B32Tan9RiWSyR2sXS9q0yR/8rKyUsRGhCMm6ijyUYbS2C04sPwbvPHcc5itTc899zKef+EdvP7hYvx9qBClY67BhNtuxA3XTsRlff3RwV07KbENRxMjtRw7OHp4wKONB1xszOs0li4DE+fPEJiQNFt2stV0ZSfH4ti6X7H/5CmcsnZHWf8h6BTgiy6OljCTEYeIiC4qK1jaOMHNzwdubo7QTj3nDIpKYEKaCkomowQm2PdT3UlWozR9keFVGZg4P/lZqTi55S/s2b8bhwst4TFqLPr264kBPk5a+TU3kgVRnjnhP/AKjLn+Qdw7ORj9A52qjmxA1ARZ2TvBu1sf+Ht4wzk7B5FhhxGXlIKUjDik7PwRq/ZkYEfOAFw1YzSG9gmAt5MlLJrxUy2TBib2h+7T52ojzTQKEH3qOGKjIlV/E055scg8vgvLli3Tpr+waN4vmPPRl/jqx3+x5bQd2lz7MGbeOBPXj+utIv2u5wrcSx8WhTnIS09AYvRxnEzIQGJWkb6xbopz05CTeAyRMXGISc5GVoG2jj3oNBgZaaW0tFQ96Zd0x5CQEJUqSnUnI3NIYEJ6TZfAhHye8rlSU1KErJQ4hK//F6cSE5Dp4QqP0f0R4O2uRthghYmImhq5lmRlZWH//v2wtbVFt27dmDFRD5IxYQhMSNaJBCZ4ba6H4mxkJ0Vi97/rcehkErI92qH79KHoEewPf21zbSEyz+4T0HfC7bhuiD+CfdhVNDV9Vg5OcO3aD0FtfOGnlf2ksH2IOnEER44fxNa/F2F7giuyA6fh9vHd0LuJt98oKipC+KFD+pJxTTBjQnIkEpCWnI/0FK1ibmGBkBlP4d73FmDBgvna9BU+fPYm3NS5DP4OMdr+GVrl3QfusEGd/xylxUDacURtW4TFX7+G9/7YiSUH6tcGPzdiK04seRWf/vAb5qw+hANJQE6hvpEumFR8pN2l3FRLPxPyREb6TaC6kwwTSReVwI58jtLBFis/TU0GCvLSEB9Thrwc7W/m5oJxA0Lg6yEJpkRETY90fCn9FknnjRKYkCGqOURo3UlgokOHDiowcUirpEsdRz5TqqOsw0g7tRnLN+TiaERnuLkMx6VjA9C5Pfs4oRbIyhHw7oX2Qd7o6ZkJ64hdiN68EP/8tRJP/ugBu05DcNvtQxDkUN6Za3Nn0sDEyNFj9Lna5AFlCUiJL0Bqgod2Ah+Ebr2C0XdQJ3Xx69SpNwb0649plw6Aj7c9kuLjsXPdLsSlpCNff4da5ScgP24TlsxZgVXbMpAXfCkGdA9Er7Z16PCgEmuP9vDqcQlGB2sFIW07lv3+I9afSMCps8ZwofMhPVUfOXJEtcGUESbklRWf+pHUWhkvXZ7MyBCiMqxbbu6ZdmnUBGRFIz0+EnuPlSE1ywOO9r7oFOAAJ7ZFI6ImSppXSsBbrs1+fn4qOMFOqetOmujJZ+br66uyGtPS0hAXF6dvpXNJOr4X4VuXITQpG6d9AuDYuzf6eTqi7bk6RqFWTwKAEgiUgOD27dtVk7Qmz9xGq9D7IaB9ALp2dYJV6XHs2XYA28Oy0WH6NAwdopV/L0fYWxhrwtS0SNO/wUOG6EvGmfRKEhkZoc/VojAbZRmnEJOQg7gsT5g5DkagnxvaqUE2JLHZEZ5+HdB/4ki08/JAkXYyD/13DY7FJyO51tYY8qQ4B1kJ4Ti58W+sXHcc4Rlt4TfqWkwZ3BmDA+sXZ7L1CUabgTMxdUQX9HBNRkLYCmzdFo79J9OQpW1v7MGfJONAes2WL6CMzNDchqOSk4WM8e3i4qIqP9Imk+pPghOSZis9gR8+fLjOgQkpL7KvDDXKET0uooxYZMRHYndsGVLyfGBr0wZtfc1gXz1OWpIP5J9G3PFwHNi9W7VLrjwdiDiN2Iz6NUerk5JClOalIz3hFKJjYnH0dAGyC+r/ZK8kNw25iUcRER2L6KQsZLLpG7Vilc+v0iSiuZHAhIzIIZmM0mSQzo80T+2t3VRLYEKyGhtb07/uy0WjAIknj+DInp2IzstHaQd/+PQPRpCtNVzLdyKqkTQliI+PV/WmVatWITQ0FBEREUhJSWnC90nyoMoVnj4+8At0gYXlaRyJydPKvyem3TYOQ3sHoK22xznvkqS1QEEmMk9HITY6EkcSc5Gedx71uYIsrTp6BDEx0YhI0OqH+WUorOPbyGcsx9XGpIGJKO2Pf05pKSjbtwuhGWk44GQPdPGHm6Nd1WYa7p6wCBmAvs6u6JFxGqVHt+FEdDoiau0/SD614wjfvBo/zV6Eon6Xos/V0zFBu6Z6nm/TSAtbwGMoho28BI9cFYyMX9Zgxx9bcEDb1NjPpeWPLwGJHTt24N9//20eUcFK8vPz1RMECa6w7eqFkc9PmsVIZVI+z7qQyon077Fy5UocOCAlmi6K9FRka+e8Y2VlyIQHbG290MbXDHbVAxP5CdrdwDL89uYTeHjGDMzUphmVpoc//Qfz9lQZ2Lph5KWgJGandl77BN/PnYtXVybiWFL926zlRG7HqSUv4fMffsV3Kw9g/2kgm03fqJWSjEA5v65YsaJZnl8NDzwki5GZjOdPHrjIE0QJTMhn2tjkui/9UTXd674E35OQlZ6NZO2SWKLdZ3Vu54fB3bvCzob1RDo3qQtLtoTcG61evRqvvfYaPvnkE6xfv755BYm79YHHsNEY72+DoLq2YCrIBBLDsH/5N/h5zpeY/XcUdkfX/261IPEwEv+ZjR9/moNPF+/G7rhSpOXpG89BMlZiY2oPwpo0MOHi6qbP1awgRzvhRJ9ERl4uLDxcETigJ/xcnatGQi0dYObQDm3a2MHbLQNl+dqHlJKF5FoCE6XFRcg4sB3h8ZlY124aeg7qhmFdXeFspb3d+X4KZtqBlo5w9OyKdl2GoG/AIaSd3oI5y04gIaWOf6WLRG7spSnEzp071UXmiy++wIIFC1RHSzLmeFMnUc3U1FSVHipjo3N0gvMjn580gxHyecrnWhfyxEQiyVu3bsXvv/+Ozz//XJUjiSxTA9JO0qVa7UqaoZV6uMPWxwNttHOSXfVzkpWLdgLthYEje2FQiCfKtL/DaZkKbFDWaxYG9uqCQYESzZDMsExkJh1C+MaFWDD3LbzzzpN48kl9evkdPP35H1gZGoe42q7BZSXa2xxE+OY1+Or9VThc3AnePYdgWg9n+DjV/0bExqMDPHtNxpie9nDJ2omlC77DumOxONG84qVEDaLy+XXhwoXN7vwqN7ASXJFri9xY0/mRhwbS3FI+z6ZwUyTlUkZaMZTLzz77TAXPmky5LNbqrmlHEBOdhPBoaxQU+8HT1QP+vrawPO+KPLUmkk0u90fynZOsIHlgJ534SjmX+6T58+djz549antTk52Vioy0BO13KIG7pxf8/P3gamNRpxEOkX0M0aHr8M17S7H7tAcce47G1F4eCHSvf0DP0rkNnHtNx9CenggyO4jlv36BNQeOIjxTBi7Qd6qBubkZnF2c9SXjTPpN7h0Sos8ZI79NIbKz0xFxIgK5OblwdHNBp5Du8HZxqjYmsZ12o+oLz7Y2cPfJRWlZHJJSs5CWXtNNVwFKi1IRtXk7TiSUInnUTegV3BY9ahp9sjgXJTlxiD8ZikOhO1RkrXzai527j2B/ZDoSMiv9W7Y+sPHugSED82FReAx//7Efkck50ltGo5En4zJMpPQrIMGI3377DYsWLcLatWvVhUeG4WzKqUvyc8kTBHkaIx1EMTBxfiQwIRUfeTIjn2dd/96y74kTJ3D06FFVZubOnYu///4bW7ZsUU1sYmJimmUKcpPm7gQrd2e4amX9rEuFtRvg1h8jLh2FSeN7wU/bxw7OcAvoh4HXP4DpY0IwsoOjuijknD6EE3uXY/kfP+OvlYuxdN0qrFu3DutW/Ym/fv8VX3z1M35fuhu7DidBntGdfdYsRGlJKhL3b8Du9duwZFsOCtqOQN9ho3FNX1e0dan/sIA23l3gM2AmJg/vht4e6Ug+uArbthxC2PEUSMJwU02gJLoY5PwqHUfK9dlwfl26dGmzOb9KpV0ecMi1mYGJ8yefnaurq7pRkkBPYzNc96VcyjWjyZXLonwg6Rhi4pMRnmSDgpJArX7jBm9P7Wapeh57URZyUyNxbO9u7K2ow5dPu0MP4GBsFlJz6nLlKUJhTiZOH4lESlomJJZeayvEolwUZCQiMTIcJ2KTEJWmXU9Lz3G3ZkRReixSYo8j/FQC4tPyVOf67Lu84UhH8IbO4CUgJ007JCghD+LWrFmj7ptOnjzZRJrClzdhykxPRcrpVK1+Zoc2Xp5o7+ehlftz3cZLDS8DyUe3I2z9Ovy1PhmpTn3RffgkXDPAC50863/+tnb1h1u/6zB2WAiGBRQi69hK7Nkeip0HE5Gmfaa1JcNaWVkjOLi7vmScSQMTYaGh+lxN0pGaHI29W48iPTUbDna2aNfGB3a21T84CUz4wF37QF3cywtYUmoaUtJrSplIQVHhXmxbGY7k48UY068X3J2d9G1G5EYi79Tv+PuLh/DCAzMxc6ZhugvX3fwm/vv9Hiw9VLX9nbW1DboED4BfmTMKN+7D0YxsNH6LwapfPol6y83lyy+/rJ7QbNq0qUlGBYU82Zf0RglMyFMZBibOj3xuUnmUAEV9AhMGhvIjlVA5UX///fd48cUX1QlcghbUmHrBv80gXDXFF35tzgx7dmrVt1j29Vt468c1SGlzGS5/9GssmP8bFnz1FJ6/sjM6hq/C8g9/xhxtu5yRzz5rpqK4aDf++XIRdu3PRdATL2LUgC7ofaGjUJlbA+6DMWT4JXh8Vk/kLFyPHQs3Y7+2iYkT1BoZhnCWG1N5Stdczq9yPZC6gwS9pRNHOj+SMSH9aEl6eVOqi1Uul9Wv+5KJ22iKtFue0wlIzs5CJKy1W662cHZ0gqeHNIvR9zHICkf0tjl4967bcHdFHb58uvn+p/H0wiPYGlmXzzwTKScPYNWbP2DzjnAc19bU2pw+IwpJYcux8ruX8b8Fa/HjzjQUlNQ/opC+bwG2/P4BXvz6byzeHYdTjd/Sp8WSsm4YFUea2C1btgyvvvqqyhjauHFjEwgSy63+aWSm5SDltL32s3ZEh3YB6NnZHVbnzBSS2tV+bJi3BGuWnYD3vU9g6KgBGOQGWF3obZVrHwT3G4+X7h0Gu637sf2bldirnTvS9M3GFGnf4fDwJjRcaEZ6zT+uFIzMmFBEhIdie3gh0rJKYa7dnFqlZ6jXqsxhplVyAzsGwz+wI8qKSxC3aS+O7joIOWWeVclNT0bx0X3YlWCBGDN3tPe3g73R3nvlpi0SJ3ZvwB8fLsHOzJ7wHvEfPPTQA9p0C26a4o+R3rtRWpSGrIKqMVMzK2vYdO2JAB9z9MzYguiTmYhO1Dc2EXLxk5tT6bRKUpf++ecffPrpp+pi09SaeMgNtIztLU/6GZg4f4aMiQsJTBhe5YmOZNlIG9Rt27Zh3rx5qvw0qVTPli4zHTnaFAHt7+HlA4c2bdDJ2QqOVmdO5YVZqcgyd0JS12swqN8ITAwJRmBgEAKDxyAkJASTQ7JgW3IS8QmxiE7WbjIK9AN1+YnROL1lJbZYdEJW9xGYNdwHHb1sYHeh/c+qpm8OsPfogrZdhqNv0BFkpWzCt0uOIS6paQZIiUxBbgSb0/mVGRMNo6llTFRn7Lov2bdSLpcvX276cinVkeIiFGvflyLpe8zPF85uTvC0BCyqVxHt2sIjsA+mXtkHXXwsUaj9/LHalOXcGZ59L8W0Pj7602K59hzD3j++w3f//S+e1qb/VplewOy3v8MP62NxMDFf3SIaDTMUavc3KVvw78IVWLQkAqmdpmnX2+4Y0cEBlub1r7/aBw5Cl5BBuLp3DpL2L8XylcuwIakUp6tdr6lhGQYNkPsk6WdF7pPkQa6U+0Zr4lGknRtSw7XvYAoOR9ugqMQf7q4u8PG21O6Rai9bhWlJSNm6HLsKPBDZ5RJMH+GPHn72sNe+Mxd8W2VhB1uXIPh2nYje7RNgXbgen/1+GEejau5XQbKHMjNq71jX4iWNPn/xaR+CnITPIiNxZEZjz6bFWLt6I9ZsiUeidv9k4eABV2fppd4Jzi72cK4UTDArK4VjYQwiIuOxctNJZJ/W9nfUKui9veBQYgt7cxvYGjKOk44h/+A6fLW2FFlte2L0lUPRxQlwrt5UuqxIKwCHsGfpciz832qc7n83hk27Fo9cPw7DhvVCcJtStLGMQUnAWHRo54+ebSr1UGdeCjjlImHfXsSv34qM7lPg4+eHXj4XWps/P/LlkXQ8abIhX7Dq5GIjPdPKF09SleTLKCM4SKaCRA4lki83s41FopaLFy9WPVb36tVLlZvG/HmaK6lYSAVSnnIcPHgQ48ePRxvtZvZcpGxIqrFUPKoHrKR8SNBI0tzkfaUsyb8jfx8pRxJEak2V1SVLlqjPY9asWfV/eph1DBEnj2HNmsMosOkKv05dccnEYLhamMPYO+WEr8DuHVvx0444WHYdi97DBmHGiCBIiz3D6S4rZh9SrPyQ1u1W3DGmGwYHupRfgazdUaKdZ81i/sDuWA+U+gYjZMJIdNBOY67qYKlu5SA5fBsO/j4PK5ymoc3AMbhvuDvsjbXe0M7BKEpDZkoMYk5pv0dkDCKjtfmYWG1KQWJGETLLbGBnZQbrylF9Swfth3WAbcqfCItLx+8HvDGmTxv4eTlU/A7VSVtQ6SOnXbt2mDRpkr62dZAbAvndR44cicGDB+trqTmTjp2b8/lVOoqTusWoUaPQtm1bNeoT1Z/Ut6SuJk0lJMgzZkztQ+rv2rVLpZnLtaZ9+/b62oZT+bpf/QascrmUEb4ql0t56CWvdSmXkjYv57OePXue8/c9S4F2w5OwG6t3HsPmk9odeuBQ7T16YmTvtpAc6Cq1bStn2Ds7o1v7IkQfisDhfXFIgxs6XXozJl5zA24f4oN26sInT8OPYP1n87D4m7+xLiUNUXGxSIiJVs2ho6O1+5HUUhQ6BqP32N7oHtwGntoRVWv2ucjV7jNit/yBxcvjEJ7lhx7X34RRwX7o62sNi/MITFi7tYOnjyd6eqXjyP69OHoqCXFFgfBys4abi7W6Vtb2rlK3l+bbffr0UZnH0gyHk3bPqJVt6d9HyrmUd/kOVp7kHCuTzEt5l+uvNH+XY2UQASnzUoarv29dJ/meyHe9XvJTtC/nZixbugMrd2cjza4fRlw+SLsvDYSPVghqvsvMRWb0QRxe8D1WYQhKQ6bgodHe8Has4V6qKB25GXGIPXVU1eciogw/dzLiU/KQVmqj6nK2lR6EqUEgbNvAMnkpohNP4rOtPhga7I2uga41llHVz4RzzSm4ZtqHXP8co4aWGIqSAz/jzg+W46+NR5GdVaByF8ytbGHn7IXeN7+OGdMvxSOjK3UKUVoExC7BkrnzMfvZ33BCq8YXBLSDx+D+uGHyE7hsaD+M7KbvG70JGdt/xMw3SmDWbyQe+eJWDNA+V6/qf5sSrYKQtAJ/fv0r/vf2Kvjc9jGmXjURN46V01AJivNzUJiXjTwLN9V0w6lK1oV0X7cXqz74Dr++uhRxt3+Ky64cjfu1Sn1jkGCDpCPJiBxhYWH6WuPkZkomCUbIE9URI0Zg7Nix9f/yNKANGzbg3nvvxf33369S7zw8PNQXmupHMiTkaYe0Ff31119V5HfgwIH61ppJezt5IiLtn+X4msjfRCqlUiFxc3PD0KFDMXr0aPTv31/fo+W78847VSBNKluSllsvhbuwZ8nv+N8N72N9yWi0mT4Dz/9yO/paW8JY+OjgnFuxcP48vLysAO2vexdXz5yF168MUBcm+XbI6bwoJwW5haVadcsJHo7WsLc+c56K2/4zdn19M95cPRY2w2fh8Tl3qXOhr/pqSSrjQez8dR7mPfIZ0u6Zg8GXTcbdA2roHKlU0mrXYMfaJZj3y2JsOqldO1UgXCK+HeA14FL0vPoaPDHOC73aVh1mpCw/A4Xb/4dP50XitZVtMPvHWzF5eEd00bdXJxdHOQ8MGzYM77//vr62dZAmd/K7P/PMM3jooYf0tdScyQ2mnF+lHX99z69yM9evXz99j8YhzUHl6fnrr7+uhvNuzLpCcyY3OnJue+GFFxAUFIR3331X32KcdM733HPPqWvNuHHj9LUNx3Ddl3IpdciaSHBMOiWXcikPjeS8XNfrvjwgkfPZNddcg9mzZ+tr6ygjSqtmf4mnPl2Kd/5JBbreiicfuxwP3DAAvtrmswLb+fFqNKuPXv4J3/xwEEcxAte+dQduenAShmv1dzsVMNDeR6u7z3twETZvyILbK09geCdXdK/SP59cQ23g6OYAe0etrqwtVb3hOoyj6//BL3e9h9MTnkXQ5dfjtpEucLUxR+V7uHqT4R21+5KMiBXYuOwQ/vdOLqZ/eh1GXxGCHtrm2gITknF13XXXqbqz3VnDfLVeUkeSYLAE0yQAUVdyfyTlXe6VLuReRL6/99xzj75UR2kngLBv8diHf+Pjf7NR3OEmPP/sdNxxTT/4aZtr7o78CI6tX4afbn0d8Ze/ig4z/oOHBlvDwbqGkpO8EUd2LsXPPyzA+qOFOFlxCmgPly4j0XHmLXh0fFuM6VTeoX5lhTs+xR9/7sINnzjj6W9vxjUz+6Ontr62MloTkwYmNq5fh5GjjURIsxNQeno//t4RhRPlNdszzMzh3mMsunbuiCGVx0SRp3U5p3Aq/Ci2bTqs2rQUaBdwC3dPdO88DJ392yBQ4gma/GMrEffvp7j9EzfYDrsEj311E/pq6/XNZ8hJIPcUdv65AIs++wHbLXvAu1MIxgzuh94jh6JDgBd8z/576KSAn8CWb77Cnx/Nw/6pH2PKlDF4cNSZf0VGRZgzZ46KwF1MkrovEVJ5oiER39ouMMLQTEKKgo+Pj3oqKdF4+SI2Fvm55QIpX2K5iMnJgM056k9ShOUELOVOhkSSp82VMyakYiRRYQNpOuPu7q7695Cbbfk7SJppbQx/F8m48ff3VxUsLy+veo0C0hx16dIFt9xyCx5++OHzD0wgCbE7V2HLuy/jo63mOOE7FIMefRR3Dg/AqEAX9RTITEbZiDmO2K2bMO/3H7B8615op0oMevA77bsxC4+PrMtYUXKaj8Ghpb/iz2eexc+2/0HnKTPwfy9NhLe2RT3vVMHexfhr7jK89PIWDHzrU0yePg5XGn0wl4ZC7Vy59bOvsflIKnbZdkYPXye425eipDBF+1nXItppIHJGPInXpviif7tqT1RLcoHTy7Hgy5X47JMjGPThe5gwoT/GS+3SCENgQioS8pS2NZGn69I30KBBg9TTL2r+JIvxfM6vcm0ODAysU9bbuUg94XwDChIsExIkDAgIUD8b1Z9cH+U6KU0G5BzXt6/UTGsmD5kku2Lq1KmqLDS006dPqyfK8rNUz+Spzth1vy7lUgJx0qGmBFkvemAiS9v/6C+Y/e4ifPpnPNK8ZuDhl2fhzv8MRUdtc3kN1xCYWIzt24vg/7/XML6bO0KMJHfXJOvob9i0YTNe+bkAU2+6EVOnjEQv7cLaYAOFaPc6h9atxoI3P0HEpAfR7ZJL8cRQP5jXUieWwMT111+v6iiSedzYNm/erOr08vN06tRJX2t6Uq6lI1fpw0fKeW0kACHlXOrRfn5+KggbHBx8QRlikvk4YMAAfakutDr6yZ0In/My3l18AItO2Gnl/ko89tR1+M+Moeis7VHjnVr8CmxbvhSPP7ISHe6fjUtuuQ6ztIJvd1YkQzpAiMXO7+Zg85ZwbLDuik4+LmjjLAU4C3E7NiCm0AvRw17B81Pa4dJgI6NqJK3A+kUr8dz9q9HvrTcx9topmO6nfYbViqjcj+zbuxeDhwzR15ytaQQmLrKMA0tw8u938OAP7eA0anLNgQldwp512L9kDr5ZH4boNHO4eXRGn6nTMWDIQPQN7gAfR2N/WMnxSMCeeZ9hxTffY8uwjzFxfNXAhKQNPf/88+pLcTFJhFQqHXJzKTed9WkTJVFwiYDLJDepjUXaeEm6oFy45IZEAi0MTNSffL0la+LHH39Ulchu3bpVqYzK5yxpaQZSyfD19VVpm7JNyk9d+6WQ8iLlTp7sSWRZyruchFoqubjIGNhSqTz/wIR2oYwLRcqWr/HBwm1YGmmL+A6X444J3TC2iyck38rMNhc5scdxes06/B16ELuPJiEhFpj46le4ctbluKGmNIMKJVo5KEBa1HJsXLgC3726BslXP4yxV07Ca9PksqYrKdTqZ19hzq9bcOdnmbjrixcw47LBGGMs6av4FHJTNuPjG97DjpyuKLn5Tbww1Rf9A0pRlBeDY399iB2pvghrezfuHuaOrt7VG6ZIudiLNR/PwbwX/0DBf+fikstG4+YQ4zc4hsCEfM5SAW5NpOMtSemXilFD3JBS45M0eLk+SxOlcwVvDde9yudXwxDQF8LT01O91/mQhx4SfP7www9VuWzMukJzZmge8dhjj6lshcbOPLmQcil1xrr8/HJjKOezp556qv6BiWztwnfsF7z6we/4v99jkB5wHR5+8mrc958hCNA2V79BK04+gpyN7+CZr9bhy+3msBtwP559YCLuuLw7PLTt5aX2QgIT8hnl4Mi8d7Byxwl8YH03Xru6B24Y6FO+ubqSfNX88XRCEpLTtBvOvPJHBuXPvG1h6+Wr1d9d0c7N6qygQ8qBpdqvfideiLkedt0vx/dPjoSTdtdX002pBCZuuOEGVS+56qqr9LWNRzqSlL+3/Dz1bsLTgKR8G7LJpW+92kh5lnIt5VsCElLnk6w1Wb74pN6dg+RT4QjfuBL/fPUhlh1OR2ieViELGIgrb7wOV08fj7FdfeBhZQmjjagO/Ix/lyzHzDdOY8rzD+G6/0zFeK3g21QPmJUkaOVyB76++yOs2lmM9Fv/h/9Oa49J3aU+lorjSz/BnpPZWOf1KG4e4lM1SaDCPuz943d8NfMN5D34Hfpecx0eGGR1VjOmJheYkBsd+SObWn0DE8UFecjPSMbJ3Suwfd3fWLduNXYmOMBn9J2YeNdruLEn0P6sX+PcgQm5wZMvxcV+iixRPrnYyRdPnmycKxBiiArKRVIiqxLRkzTBhqj8nK/t27fjySefVE+jpT2llJsLSZ9qrQwBBglMyPTOO++o5joGEgmWqTKpaEj7RGnGIU9npMzWRvaX04hEkSWlU5oBSapxfTvabG4ko0iyS+6+++4LCkyUFhegtCALJ3b9hHWb/sH3q/ciMc4CeVnm5b0TdwiCX5cQDA0eg6Fue5C2PxY/fAxM/+lBjJ81GIPP+bAyG6Xahefft5/C72vj8Wv2VLzwwuW4fEw3dKnceURFYCIUd31ugafm3Yurpoagj7F7jqyDyD71D166/1scKe6NwJvfxL1TfdEjwBZlpcUoys1AQaklCi2cVJM367M6aDoTmPj5uYWIvf1TTLnyEjw0SqqLZzMEJuT8VO/KbDMnw9tJGXvggQdw++2362upOZMn3/U9v8pDAzm/SqW+IZrKyfX0fK+pH3zwgWqn/fbbb6Njx47qZ6P6k4dGEsCXZloSKJIHV43JUC63bt2qMjlqU/26L+WyLk+CJSgh5zO5aa73ubxU+65oN1DznvsCcz7YjI2Wk3DdGzfj9scnQGo11RssZETswIHvb8SHi09heWoPdLz+fTx5VQiuHeiprq3lV6ULCUzIsQcw/6H3sWF3ATLu+xH/Ge6BsUE1BOpyo4Gkf/HbT/OxeNU+bDyh3Reo6pf8Yx3R4eqbMfnyUXhynDesql0zS2J3ar/6x7jpE3sk+gzEi3NvQy/t+1tDCISBiRqcKzBhuB+SenGPHj0qmrZLILYhmnLUnQzDchCLX/wKC79YglWZGUgtKkVhmfZvW9rA3nE0+o2djse+vBEDPR3hX35QVSowsU51Y3Ddu7fgxjtHq6a7Z43GkRupMh7efuJ7rDtgDZ9b/4c7prXHiO5yD1iq1ecyUaD92/kWLnC0sajax0SFM4GJmJs+RJ9Z1+ClSd5nBSbkc5VM7dqCO60iMFFwfDUS132JW//nCJsh44wHJvLikJd2HEsPuMDdQzpj80RuUgTiIkNx5OBmrJi7CIccRqB00my8P93/7NRkVdE+io1ffo0/PliAQ9M/xtRpVQMTpnSuPibki2f48kkqZteuXdXTdJmXSZ5KNmZTDqmwPfroo7jxxhtx+eWXq1RBuRBS/UgQTG7qFi5cqMqDZE3UpX3yufqYkBOznDrkRC1NGqTsSJqb/J0aKtW4ubigPiYqyUk6iNiYYwg7HoXUNGkHqW+QiL1XWwS06YT2DqdRlJyNsJ1aNWZyT/h38VFNMYyTU3sWTh/ZhoNLf8a8v+IR5xyMgFtuww1D2yPEzwWVbyfKiguQuf5t/DTvIB7/2QvPLLgbV07tBaNJoAUpyE8+jAVvvofV+xJxwLY7xg3qi8HDB6PXkAHwdwIcaj19SHD2BLbN+RZ/vvsDwqb8DxOmjMejYyr1I1SJITDBPibYx0RLcK4+JiqfX+XaLFNTOr9KQEJuXiVbrHv37ipLk+pPbpJOnDihMk86dOighihsTOfqY6L6dV/KpbzWp1xeUB8Tqp6dhNCfPsOy737Dhzts4XXFTZhw6zW4Z5gfArSLjr26tmQicd8u7FvzD375fQ42HUlHuvsgDH74B9x3SQdM61b5+bIhMPE9/l0chqJZQ2FrZgsbQ7KnRwe07dwbE0YOQ3sPG7hVjn5kRwCxf+Gl51dgY7QnBr35CWb0dEZ/o5exOMSFbsLWT7/GBrMgZLq0Q6+2zrAwy0ZWnHScuQZRA55Bz3FXquaP1QMTyDmh/erL8eKDq3CooD0GfvA+prczR7caqhwMTBhnLDBR+X5ImkgZ6rRSpmVZ7ockIGFa0sQvCUfX78ORfSchHQBUfdTXBh5+HTFwSi+0sbdWHaBXl7X1M6z6cw1u/9QNN31wM268a6S69z3rWVZRJpAbgb8+/B+Wr9qLbZbBGNavL4YOG4iQEcPQzs0Sruf89U8ifMXv+O2BZxA24V10m3ItXtXK8fkEJkwR9qmwP3SfPmdaNja2cHF1g6VlKYpLCpGvVfhLqw9EnJuA/KitWoHdiVVbo5BYZAUrr87o0n8kxk2aiCF+7nArzkPs6SQUGOswRfq80Crr2emZiE8y007g1rC2qrlLksYiXz4hKUryhZMnkMOHD1d9D0hmgozaIF/KxgxKCGlSIGmm8tRdUplNGD9rUeQkINkz8iqfZ0O0BZYAkTzdkYqyPCGRi8xll12GGTNmYMiQIUw3P08OXj3Qpe8VmDHzIdx118MqW0hNt9yC26ZMwCV926NDl8HoOuwSzHz4EvSrNSghzTfykB2/F+GbV2PR96twNKs9vPtMwM0z+qBbtaCEkG9YTnYWcnPPGnD5bDYesPTshwGjxyIk2AMWieuxc/XvWPrXX1i+ditCI9NxutbR7+Q85AhbBzu4+mjf98Y93RA1GdXPr9KpoATnm9L5VZ6SyyQp/+fqI4NqJmnNcqMkNz3/3959wEdR5v8D/2Q3u+nJpvcChBIgCS00pSlNBRWBU7Gj/j3LcZ53Z7nzbHd66jXLeefdeXr+rCfq2aUqCCg9BUgICZDee8+m/ec7mYWQbEJom/Z5vxwzM7uzJLvPzvPMd57n+/RlD9XekHIpASjJD9B35VICCiGIiI3DjKunIm5iA2qL9+Obr9Zh09bvsGXbNmz7fge2xe/Gzj27kHTgCLIaPZQLugD4OPghMswET4/Ond6lnW6Czwh/hEU5wbXiEAqO7Mf+vbux//tvsP6r/+Gj/32OLzamICW3Up3D40QfU7mYyMpAbrUj8h2CEBCgg0t36QfMeSg6noiv3tmGYzUjEXzRHbj3vjVKHX8P7r1zOW67ZiTmxnhhmJfBesJA6ZUUMRyhLuXwqD6OA4frUVHd+UKGzoZ89yS4JjMAys0Py/XQggUL1ACF7YMSQv7NUIyasxRLlXbgvZb24InlR7hxxWSM7iYoIerra1FTU6W0BU/tFd2FQXkFjxiMnz4HcXHD4VK5Gwe3f4ov//cxvtz0HfalFyJPKfitPV6GOcPg6AIv5TRg7CHXqtwsTUlO1rass2lgom/JB1OsNLrLUFCkVAidYwtKY7wlJwvZPyRiz/5MbCoESuU5dUVoyTuAoqM1sKtzxohAfzg5WGlFtygniNIS5SK6CoXKCdzkI1Oddh8R6gsS7ZZFghOS3FIqFZktVrrVyZfxXBK6nG8MTJwf8r5J41GGdEhvJcnVcbakYSLlRzI8S6+L1atXq9nZ5e6HBLOoP5HBq3k4tuEVfPvJOryVvgBx19+IW2++BJI+8ez7dZykNzog8vJbce2aB/GHB36EWcMKkbnjZfz+l7fhla8OYFu29kQiOi3L+VXq4c7nVwlS9CcdAxODOY/QhSbvnfQklguf/jocpmO9L0OIpFxKu1Eu3Pqq3ncbswgTVzyE3/5iCa4bcwzY8SievutG3KZ8V1befDtWPvwn/O1QC+omXo1H1yzEj+LmY6xrHKaMc4B/l2i+BITG46LVd+Mnb76KJ5/9L/75z7VY+/brWPvXx7DmYmf4pH2OVx55DZ9uT0a68uyu4QAvOBh9ldeW90nb1VllJRrKypCjtMnkklM6VbQHIDzgHj4fsbe/i/+3cilumOwJ/WmuzOrqG5GdX3DaBKXUPSnTUrblekh6RkhCWZkdR2YDlOEb/T1QeCGEzVmGJff+Cn96ZDUui2lEVfLr+OPPV+HltVuxTvmatZwmvnG+2DQw0ReJL1UmL+hHR2GcayUC64qQVwg0dKpL65WTRXlbPUye+1B4+DW8/pv78Kuf3Yf7fvEyHnkxGUdCLsHoyxfh+tl+CDB1F5goRnmVC3INcYgYYUJIUN/HfSxdlIREBC+99FK1O/DNN9+s5pKQOcil+7lUOvJF7S/kApqBiXMnPSWk8Sg/zyYwIWVCyo80nGTecWkkyxCbZcuWqbkqJMeCnMD7uocNnaoy8wAOvfcE3vvsOOLNY7Hw4dsw55IxiAp2Vu85WRsUJWcJD+Vc6ebew3A7mbmoIhEHEnbilY+OILdKB5+IsRg/exmuuv0eXHP5xZjhmI+09DQcyszTDrJGajiZM7sGRZmAmTddaQiydn69//77+/35tWNggj0mzl7HHhP9KTBhaTfKkA0ZZ9+53peeE31ZLnVGZ7j4DEdk3HVY8aNf4JGfPYnHfvUofvPoo3j0lw/i0dV34s6rL8dll8xBzKybsPInq3HXz5dghp8L/LpUftLudYCTezBM/iOVvy0Qfn4BCAgdhoAx0zH/4qlYMMELDVVbceR4Fg5nSL649iPN5kaUlBSo3wE7O73SvpLe0u2PdeGivHZYHObOGI76rM34+u0/4YW/vIuNO7OQW+cMg1sAPFxd1JxMljb7qaTm9oXJzwEefm1oVq45WtkuPmNSpqXXj6W3+D333INbb71V7QEk10j98XrobLm6eShtOm+lPPXwt1QfxvHDO/DyBweRmt8Ez5ARGDPjClx2011YsWIJ5nuWoig7HXuPZKFFuY7oXhUaaytRcKwNDT10upX3v6fEl8Km73xmpvKN7gtuPrAPn4CYoGb42BXh8PFy1NafmoCyxcED8ItE3EWBGB/eiFalYX885QAOpJYgrdQbnhddgWkLZ2HhOHd4uXa9uGttaUZV7nEUN9ijImgaRoS5IeTsEl6fFxIJlAtRSdgiXzapTORLuHDhQrXrnSS3lLswUkj6I/aYOD8sgQnpMXEmQzmkoSSNDz8/P/UkHhcXp564lyxZoo5XlKkLZfYO6mfke1Kdh7xDO/HF++9ie44PWkYuxLV3zMWEsb7wcZantKI69yDyMlOQVgbUaL3HpDHk4uKmXHA4oA11SqO5WWl4tT92QlsLUJ6CI/t34a21CUjKrEKdgze8h0/AlDmX4qIJ4xHtqFRMVeUoq5JOr92wDH2rbB/6ZmfnAON5GGZENBBIw1eGa0j9bDm/WobEDYTzKwMT50d/G8oh5dJS70tSU0u57Fjv95ehmvYO7nAPnoEpF1+H66+/D3fffZ+aIPg+SRR87bVYMXcapo4fDd9hszD18nlYvGISRro6dNvtvT11pnwG2mWRvSPgEYpRY8djckwovAzpKC4oQkZ2o3KB1t4ebW5uQlVlOcy96TXkHAaf4dMw/8rFGOZdj+r0zdj4v/fx5VdfY8tu5aKwRGmr9fgyUj+a4Goyws32qfoGDQmmST4XKdsydH358uXqDVvJlyLlfzBxdnJRzisuSvuqXmnLNSnnm/Ym4ikqjyL30C68/cE+7D5cikqdO9xCoxE7cw5mTZuCyW562NVWoaSioufrMHMF6qvLkVMg9+mNcOgmaCnXdDk5PXentWlgIiujjwIT8IbePgajJrnB4FOCLfuTUFZ5aqPZ2Wcshk1XTm4//Sf++tcP1WSB7cu/8M5bv8HDty/AgnEh6phua2+32dyAI8l7kIsqGC+egFEergjWHusL8gWTSLdUJIsXL8Zjjz2mdlGS4IQ0KPo7BibOj449JuT97G2PCWkUyzjSadOmqb1rnnrqKbXrppy8qZ87vgHJuzbh2W/s4Dh7FRZddy0uV65xArRhkm0tzTi2/jls+vAlvJYAZFa27z+pVvm+ZaOsvAEVnR+T72FZCSqTjyDlm334Nr0SB+Q5krSnLA01WVkoOKaDr7M3Akw9DBiRyHtpKaqrKlGg08Hk4wVPj/419I3oQrGcX2VsvszrL+fXgTQkzhKYkPxFDEycPXnv+tNQDn9/f/WCzVLvSzLOIV/vu5vg7OWLSKWealPKe1FpmdqeOhseYaMQu/pxrPn5Gtz/owkYZr8V37z1a/zh+Wfxj71m9UYBXVhy01Z6oslwOQlMnEvC8oFBzs+5qKyqgUy00yXdREU5atOOIu2bvdiWUow95UCLXG5VZqIh5yhyj7TC3d6EYKWNZr0nj0Y5j9WVl0NCDk6eJvh4WY+eyU3S3Jxcbcs6mwYmJAFl39BDb3RF5KKrMGmYD8Z++3fsjc/C7g49jXV6oxqBdXP3hre3r3ono33xhq+PCR6uTnAy2qtdoLt8NHXZaMhTPtSdgdA7TMYt145HiJ+LmlKnr8iFvVQy0viRqW5kyIYkvJQKcCB0UZLAimTClYpbptM624pgqFNPArm5asIZGUcnn39vyN0byUMiPWsmTpyo9r6RhlNve1xQX2hAG4pxYM8uJOxKRGVdGw5/+w4+fvGX+PlP7sFP7r1H7bZ470/W4Hf/ScOmw05wVepke8tHKt39wobBL9iEGW3paC2vRXmnwIR8CyuU72KrUw78PNdj+/tP4Y8PKq973/245+GP8W6iE+yvugOXLY7BzKgeKnwZrFhWjIoqJ2TbT0XYCE+E9oOhb0S20PH8OmHChAF3fpW76rLk5eWpwQk6O3LTJSMjQ52aU2bDkLu3MnPBe++9h23btqmP25KUS2l3yR1kuXAbCvW+uSIHJdv/jjc/+Qp/3nQcVfWdpjmvq0FjdQVy29pgp7wXJne3ExdoBqMDfHwD4OjUw82+xlKgeCvWbdmL/23Pg52TO4KjpmHaFatw4wMP4cq4cAQ352DTvmTklcoUkd2R7hRFKC9qQHmhssp7dWdFPjsJTkhvcbnOGAxDNroVGAyP8EBM12fAQTlPF5cpbbhO5aaqrRWNhmIEBWxF4ro/4KWHtLbig+/glQ31qF90B2YtnoaFEzxh32Xa9w4qylBTDqS1zYRPmD+Gh1sfkqTT2cH9NDehbPqJxMTKTMN9Q6e0vv1jF2DyuCgscjiM43sTsXN/FnLrleZ810w2vSPdmhuKUJSdhISEvTjWGougyJlYPiMYvu59O0RCvniWxk9UVFSvL0j7C6kMZaiJ2WxWL6zlJ4MTZ0aCEhLYkfdP3jvpmtnbrmpy0paGp/S6CQ7uy74/1Hvy/TCjps0NLn4jMXfuHES6KY2Z4hSkpJxcDh8+ghL9aDj7x2J8AHDiVCXTOvlFwj/EHzMDClFTVoLcwk6DBe10aHYLRtCYYVg43xsBdgWozlBe93AaUrKAep9YRK24HpfMGIHokO7Lmgx9q8zNQHGdDuXBMzAs1AOhXtqDRIPcQD+/Sld/ufEh0/jKRbX0bGSvxt6T90reMxnGsXHjRrzwwgt4+eWX8fHHH6u9Z1atWoXZs2erd3NnzJihJkG1tsj0nueTpVzKFLBDpd5vqS1FdcpX2Lx+Pf77dTyOFlShpqFZeaBJqdDKUJ5xHLmZhShwDoN3UABGBLoqF2jtl04G5brC3d0TRqNMNdmA+nr5XNWHTmqsAAp3Y/u3e/DF5nRkVLegzRSKsHFxmL1oIaZGBCGozYz84hLUdU5+11FLA2T2wLLSBlRUy+wfTsrvwSn0qQfe4fAMDcfMoDK01ZYgM0+GdZ96HdXi4g/P4cOxcJE/ItzK0ZCVgtTDSpsuoxFljqMwYvkNyrloPOKGuahBhe5UF2ajpKIOBYGzEBjqixG+EgTSHuzAYDAq16RjtS3rbBqYSEpM1Nb6gnyBIxF10Xzc/OQ1MOxbh4SPP8HGQqDEyuyfvSInirLv8f22zXjh4xS4X38Jpi6bgfHKQ/1/sET/JkEVqRwtd/xra2vVipx6T3pJyDAO6XEiUWEJ9Ay2MXTUkXy2gZi86lHc92LH4Widl7XK8iKefXAlFgcoFxknYpZSHYyAT1A4Js5pxfGyo0g+ntn+kMZOZ4BX5OW4ZNmT+P3vP8Sbb1pe87/K8he88PTtWL0wGtHebj3O/NHUbEZayl7ktFXAMHsiRprcEKI9RkT9m+QZkAtXqVuKi4vVADgDE2dGZlR46623UFpaqm5fdtll6pDbG264Qc3rIHnB5I7jzp071VkwrC0y1ILOk9RElG3diE37spBRXAuYa4CiAzi4Yxt27smDOXQFYqJHY2akcnHVJR5QhsbGYhQUtqKuTttl0ahcJxTkomDvQezfdQRf57UiRybTaKxU9ieg7FgpGsocMDIoAO7OPbTPZMhUQT5KGupR5+SI0MAAOLM9Rz0KhbvXSEyaq0dJUxb2p6arSVM78gibi6mLf4XHn3gfr73WsZ34Ml79y32456o4TA32gtw36qG/BDKPHsSxyiy0XToFEQHeGK7t76ypyYyUlH40XWhlRbm21hfkLbWHwWM4vMZdgWtvnYt5Y2pRsf5FvL8pERtSz6zLXF32PmRs/hveXH8ch5vH4+Kr7sDCCcMx1tdBTVFj0zd2EJILaek+GBYWpkbwk5KSUFJSoj1KvVFUVKTeIZc7W9KIlPdzUHdbG/IkiaQeRmd3uHq2d7XufjHB5O4MJ6WBdbJ3Xvs50ityPCbeeDumlMWj9fsN+K9Sh8gc1uozlIayzt4Jjs4e8PDwhpdXp9f0cIGLo1FpuOm6PwfW5cCctxM7dgXATj8Zq6+PRlhA3w59I6Lekx6Z7u7uam9MCUqkpqaqgXDqHbnhIm2aTZs2qdsyxO6rr75Se0G8/fbb+Pbbb5GQkKD2qNiwYQOefvppdYhH5+WBBx5Qj6ezZzC4wtsnBuMCTfBvSMUn//o9nnzkZ/jxTx7Aj3/1R7xxsA2145fiFz9bikVx4fBXGvgnbhy7ugJR4zHSsxmRjTkoLGxFbacZPBtlgGVrK5xNyWgqfQfvP3UfHrv/x/jxmqfx419vxw/6CQhZuhy3LgxGZGAPPZsblBcuyEF+fRjq3cdiUowenh49XSoS2cMtKAIxN96JKW35cN/+ET4+0Ij0DrlMdPYOcHByt9Ke84SnyRWuTkYY7fVqe85qaWssBoq/xd59LiitmoK7b52IqOGeanvO2vNbW9tQVVmlbVln06uUsIgIba0PGb1g9I3FRUvm4OLpYQhsyEN1dS0q6s5sPEdrYw0aq4pQWG+CR+gUXLpgMSaFeCOIAczzSrLnyt2Z+Ph49c4M9V5hYSEOHjyI0NBQddwoUW+4BgxHxKzrcGmYDv6lyVj35X4cyq5E6dn2LLNQh74VqkPf9u/bhWNt0QiIvBgrZwTD32NgDTUjGuokZ5XkIZCZJQ4dOqQOt6TekaGVX375pdoTVIatyhTu1kjwZ8GCBfjVr35ltceEDPegc2Pv5AH3iIsw9aKZmDd9OEx2lSgvyEJ6RjbSC+vRFDgRo+ZeiRuvmoCJw7whKUpPXDg5ugMhEzAqxIhhzkU4crwE5ZWSbPCkNoMLmrxGIWZqBKbHOsK1/DhKM9OV1y9BepEH3CbMw+QrFuLyGE8Ee3Y//WpjTRVK0g+iyBAEu5CxmBwGePafGWapn3L0DEDIzGsxa4QJY+oPY8u6fUhML0ZRo3IeOtdObo2lKM9Pwd4fNiO9PgzO4ZfgxlnhGObXfcGUoHZwSM/DxGwamAgP7ycXR3Z6wCsSYdOvwVV3PopfLpuCK8efWUZ454gZGLH0Mdx763W4ZX4UxvsCLv1rqvFBwRKY2L9/v9oDgHqvoKDgRGBCep4Q9Y437A2TsfjHyxEX7YzMPzyFbXuPIOlcc9y1KhcuZbuwc8dm/HHtIbgsn4O4FRepQ9/YviIaWGS4pSRGlsBEcnIye0ycAQlMSN0sJPeTzJhFfcTFCxh/KS669V489Kc/4e333sPatWtPLH/97QP48ZJpiHA0Whmi7aYsMYgY6w3fEdXYlpSE3JL2oTkWDu5h8I9djVV3voC//GUt/vtfy2u/oSxP4/E1V+OqKcMRrLNTB2N2p7K8CAl7NqMi2BUeMZGYCDuw1NDpSRmNxqzrluLSy0eg+O/P44ete7G7DGg617R9lQk4HL8RT/z9e9TPiMa0OxZior7ncikzA4aEhGpb1tk0MLFt6xZtrY9JRg6dPfRG6ZLspnZVcTSc2VuhszfC3tFNTUDj7GBQx5z1kBeEzpJcUMtQBOkqKkM5mGTr9OT9kUaiBHKOHTumnARC1IWod3Sw0znCMXA6Js1fhDX3xyGkbBP2r/8If95SjGOlPSTo6kZdzn5kbXoJb65PxyHzOMy55sdYOHEExvsaOfSNaACSO/3R0dHqsIT09HTU1dWp69QzS1Jqy40WmbpQekZQH5HhrQYHGJ1d4OrhoQaJOi4ebq7q8ER75bqhaxNfai4Dwi5egMlTJ2DaD//Esd0HsOk4YNa+CnY6PfQGmV5Xhj92fG2TsrjDzUWpa2XGP6uvr6k8iLz0HHz6TRzGj52MJfOHwyCXMdrDRN1rL6MOfhMw6qLLsOYXczBWn4Aj697CC5tzkCgzQJyhxuI0FH3zB6xdn4AtBWGYufynWDA1FlMCle+RUop7KpcSyN61c6e2ZR3LNfVrUmlLYEKyRcu0ZDKcg4GJnknDRxo9MtWYzMYi759UhES9JlOHuoQjLCYOS26Yh/EBejg3VKCouhmNzWf+/Wsz18FcXYLSRqWhFzKpfehbqA+HvhENUFInyzTkMnOE9ACQRJg1NZ1m8aEuJIAjCb0tM6XJkMuBNmsancpr5DSMmzgTV/nlo/pwErbvSEVGVTNqzjVfe3OdUmCykJ6yCweOlyDPexmmxMRiTpSPmu+JqNecguEXOQmX3TAfEyPdYDKXorjajPqz6DbR1tyI5upClDe4wOAdjUsWLUXciBCEObff9z9XNg1MRMdO0NaIes/X1xeLFy9W7zLIWFbelemZ9JY4cOCA2licP3++GtwhOitO3tCHxCFu2U9w24034DeL/DHS98ynQnYOn4ZhS5/A3bdej9ULxyPaD3Dj0DeiAU+mPJWeE5LMMS8vT9tL3ZFAxO7du0/kfZIE1TTQhSFkzGzc9vzN8Cs/hOQ3/4N12Y3I7jxDx5lqLAQKvsIHn27B+lwzpr9wJ6ZMjsQw7WGiM+LgBvjHIHrx7Vh1y114ckk4Joee+RySDv5jEHDZk7j5pltx71WTMTnIDp69vMkkSfijxvaj6UKJzkZAQACWLVum3mVYv349k2ydhkxDJom1ZOjLlVdeCR8fH+0RojNkp4Od3gCDg5N6V8/FqIP9WYxZk9fQO7jASXkN6bZqr9Q8vOFDNPBNmDBBDU588skn6o0D6llaWhreeecddUYTIcngeLNloNND7xwAx4jFWHL9QixfoFwAbn0Jn2/Yjv/GV8DcfOZ3pSsPfIbdG9biua8agGGX49LF12DxcGeEuCr/lvI4q086Y9ITVqe0vySNgaMTXBz0MJyclq3X7JTX0Bld1Dahk5rKwO68pjKwaWDiQGKCtkbUezL+Uho/0nVU7sgcOXJEHdZBXcn0YvL+SLdaGQMcExOjJikjIiI63yS5siRwrKqqQkZGBjIzM9VcUHQq6cGYnZ2N48ePq/W0BHOEBCXYnhkE7JV2lnsUYudehLkLojHcXvlMG+tQ1dCCsxl83NpYjYaGZpS0hWNU7CzMmjoF4z3s4CFJmYgGKOnRnZKcrG1Zxx4TNCDodDpMnz4do0ePxkcffaQm26KuJEnoF198oQYk4uLiOA6RiIguGKlj/Pz8cM0116h5jTZs2KD22qNTSbDm22+/VYdyXHvttepsYxaspwcR91D4Ri/CotWPY83Kebg5zhPGs7gr7TFhJWYsfwBP3nkFrpwchGEm7QGiQc6mgYlZc+Zqa0S9J5W2LNJrYtSoUfjhhx/Uuw4yBzgTYbaTuzHSKJSAjUytKmN+x48ff+K9IyIiOt+kfpE8RosWLVLroT179qjDCCX7OrWT96KsrAzx8fFq8ssrrrhC7QEq5P1zc5Mp/WhQ0OnVWfvU4Y9GAxzsdWfVBlNfw+gIZ0cjjMpr6Dn8kQYBOe9Nmz5d27LOpoGJzMwMbY3ozMmUl8OHD1fHNUm+CZkKUxpC1H43RsauWoZwSNdayZhORER0IUmdM2bMGHUGKLkIT05OVoMT1E6CEomJiWpPEuldIsM4jMb27L9y0Spz+xMRDXZyrZKTk61tWWfTwERWBgMTdG6Cg4Nxww03qI2eLVu2cCyrRmYs2bRpkzpd23XXXac2EImIiGxl6tSpmDJlCtatW6fmOqJ20sNThqCOHTsWF198sbrPyak9jb30+pT8HEREg53k1MnNydW2rLNpYMLD5KmtEZ0dT09PzJw5U+06KmM1d+7ciaKiIu3RoUkSgu7atUu9KyMBCWkcytzyREREtiI99SS/kfRklB58Bw8eHNKzaMn7IDOVHD58WF2XXiUjR45UH5ObLDKEQ9oy0vuTiGiw0+ns4O7hrm1ZZ9PARExsrLZGdHacnZ3V+b9lqi2p1Ldu3YqjR48OyXwT0tCRHhLSAPz+++/VaUHlfZEs6TLchYiIyFa8vb0RGRmp5jiSXo0SMC8tLR2S+SYkICOzb+zdu1cdYik5siQoYZm+WxJ6X3bZZer7c/PNN3MadCIa9AwGo3KdMlbbss6mgYmkxERtjejcLFiwQJ2lQzKAS0Ip6T0xFAMT0ltCkl1KYGLOnDmYPXu29igREZFtyWwTt99+u3rhvXnzZjVwLomZhxpLMurvvvtODTrcddddCA8P1x5t99xzz6k3WA4cOIB7771X20tENDg1NZmRktKPpgutrCjX1ojOjV6vV3sHPProo+r4zbfeektNLCUX60OB/J0y9/l//vMfFBcX45e//KWaGFTeFyIior4gAQmDwYClS5fikksuwSuvvKLOpCVji4fCzQP5GyX3ldwwefbZZ9WcGzKVqrwn8t50JL0///GPf6jrUpdfddVVePHFF7Fx40Y1h5a15aWXXlJvQNxxxx3qcQONDGGRgIy8Tw8//LCayJzOH3lfpQzt27cP//d//6eWP6L+orW1DVWVPefUsWlgIkw5CROdL5LdevHixQgICEBBQYF6d0a6TA4F2dnZaiNFghIyW8n8+fPVbrRke9JFV7ovr1+/HhlM8HveyV1HGbIl09/KQkT9n8w8MW3aNHXWCcmzIEMahsJwBblpkJCQgKSkJHV90qRJiO1hGPP111+Pp556Sg1mfPbZZ7j//vuxcOFCzJs3z+ry05/+FNu2bVN7YgxEJpNJDVqNHj1a7ekqQZjU1FTtUTofpGxIG1ESxYeFhWl7ifqe3DwNDgnWtqyzaWAiPJyBCTr/pGKXhJi//vWv1TnUh4IdO3bg97//vTqkRe7GUN+RLrrS0LrnnnvwzTffaHvpfPnyyy/V7/Ytt9yijsUmooFBevHJRbdcgL788stqTqTBTgIMr732mprwUnoGSIDmdH7zm9+owYwf//jHmDt3bo/Jq2Xox+rVq/H1119rewamH/3oR2qQ5U9/+hM+/PBDbS8RDWYyNXJISKi2ZZ1NAxPbtm7R1ojOH5mpY8aMGeqwDhmrKV0jB+OwDvl7Kioq1AaeDF956KGHEBcXp96BoL4jJ1rpNfHqq6+qd34kYFRXV6c9SudKyr009iXSzqFKRAOHg4MDgoKCsHLlSnWaTDk3Su+nwTaswzJ8Q2YJk3pZenbJ3WoZttDbRNTSq+Lvf/87vv32W7Wel9e0tsjUov/+97/VGVAGMjmXy1AWGe4iPWnkfZOcWXR2XnjhBfUm3apVq3DRRRfhJz/5ifYIUf8hiZB3KefJntg0MEF0Ich84JJUSjJcS5BCun5Ll0i5SBwMs3XIhZkk0pLusHL3WKYW8/X1VYexcAaO/kESvq1YsUIthzk5Ofj88885rOMcyHf4448/VhcJ8sh3W6bVI6KBQ4K2rq6u6nAGCaLLd3n37t0nhiEOhtk6LLNvbN++Xc2lIbmfJFAt03ZL7wZ5D8g6ualyxRVXqNOoyiwuksxczvkyLHcoJkw9G9LekPdM2hvyfZLyKDfqJDhBNBDZNDARHTtBWyM6v6Tyl0bA8uXL1Sm5pHv9J598Mihm65DAhOTOWLt2LX7xi19g8uTJapIsafDxDnL/Il1xlyxZov6UO190diQAJ3dZZZEGq/RGGTVqlPYoEQ0k0nNCklU/8MADOHjwIB5//HEkJyerd/8HOsuU3c8884w6O9YjjzyiBiZ4w6D3rr32WvUOvwx9kXO+JPMeKvnCzpX00pH3TIYzSxvxgw8+UGesI+qPJAlw1Niepwu1Uy7abHbVJt3T2O2cLqSGhgY1y7Ml+ZQELGbNmoWxyhdBkmUONNK1UXpKyN0Y+VtkfviJEyfC39+fDZ9+ShpUcudMGgyZmZnqvrvvvlsdO0w9kzuP0iVVukXHxMSo+yQgIWV+qJLvvjQ85YJnzZo12l6igUW+01I/S30m9bMMu5TvtfSkkKCFNFgHEmk6S3BFknrKuV7qZhmOIYvUzewpcWbk+kACO9JTQnqd7Nq1q0tOkmHDhqnJQSXh+VAiM7FIXjFrZLiQJJmVwIT0oO2v/va3v6kBSQmesC00dMmNVvleu7u7a3u6smlgQnJMzJrDAkm28d5776mNIEkkJQ0f6UkhJ265e9OfexpYGnCSVfnIkSPqkBS5syTdYZnocuCQitiSDFO69UoiuM6kUd55bvvBToZpyIWJNZIbRhqn8n7ddttt2t6hjYEJGmzkHPD222+r9bAMg5MbB3Ie9PHxgdFoVGfy6I+kudzU1ISysjJkZWWp7Qu5ESJDRm+88cZeJbqk05NhCX/+85+75JyQoboyREF6iw4lcqPDcpOjMxm28fOf/1zb6r8YmCAhw40S4uMxrYdePQxM0KC2f/9+NVmkJNuSRoMkpJJpNSUvRX8ljRyZ/vTdd99VG3AuLi6499572egZwOQiW+ap7+zNN98ccjNNvPLKK7jvvvu0rVPJnTBpuEiiPGrHwAQNVm+88YYavJVAhATdpXejXHzqdP0z/Zk0l6VXl9zNf//999V9cmEoQ/fowpP2nJwLJc/WUCJtQUlsOZAxMEGi3wUmiGxNGhFycS89D+Tn0aNH1S6Xcqd69uzZ/aoBJEmLZP5pmfJUfl+5wy69PKQru2Tg7mkKMerf5DO1lgxTGrjd3QkZrCIjI9XeP9ZIF2hp6MudU2rHwAQNVnJOlPwMUt9J3SzdfGUohAQmpe7rT+R3lfpZhohKr0apn6Vult9zoM+QMVBIe056D8jNm6FEhmqEhYVpWwMTAxPUWzYNTGRmZiA8PELbIrIdafxItF2ygUs3QMk3ISd6aVCEhISoF0ISpLBloMIyDaIk95PMytIwk+6hkq1cghRy8pYkWtaGANDgIL0HpLE7lCxcuBC33367tkWnw8AEDWaST0ACE9u2bVOnwZaxxzLkUqaSlPpZZqCSxNZSN9tyiIf0spQLYKmfpW6W303qZ8mBIFOgzpkzRw1McLYgotNjYIKEXPMUFOQr113d50PhUA4acr744gt89NFHavc46WK/bNkyddyiJfdEx8bP+WoIdf6aybZ8QaXhI2PqP/zwQ/WELUNNZGYRuXgjImJggoYK6ZUgUy3LMAkJANx5551qAEB6JUj9LGxVP0uXYwlGSNLBf/3rX2qgYtWqVbjyyiv7XW8Oov6OgQkS/W4oR1JiImJiY7Utor4hsyZIwirpQi/JlSTJpDSI5C6NpXumLNKr4nzlopCvmST2k9wRcndIenBIo0f+fbkzJP+23IWRBGCSZVlm3SAiYmCChgpLfiXpmSD1stSPUjdLD0KpGyUgYFkk99L5mslDElpKwmmply1DS+R3kMCHpU6WnpWyLsk6h1ryRaJzxcAEiaYmszqsPiqq+ylDmWOChiQp9rLINF8y/j8+Pl4NQkg3Ukm+JYt00ZREmdIIkcckW7jctZGfndel4SSLRAM7/6yrq1Pv/kgmbxkjaVlknzxHpkyTWQimTJmiNoTO110gIhr4GJigoUaGORYWFqr5BGQIptxMkECETDdvqZ+lbpZtqZ8tdbG1+lnq0871csd1qYdlqkpL/Szr8lPqbfk3pH6WvDdy84B1M9HZYWCCeos9Jog0iUr53LdvH3bv3q0uMteu3CGRubOlN4MlWCFLx3VpHElDRho2lqXjtiV/hPTSkOdLEEIWSQA4fvx47V8nIuqKgQka6iTPg9TPlrpZFum5IPWz9HK01MkSSOhcT0tuiu7qZlmkbpbek1JPS1JsqZvlp+R3klmCiOjcMTBBot/1mGCOCerPJAmXNFosizRapEFUVVWl3j2ROyyWxXLHRcidmY7rnRdnZ2d1Rg1pNFkaS/JTAhrSQ4OIqDsMTNBQJ/Vr5/pZ6mb5KfWzpV62LJb62dJjQoZpWKubZZHEmpaghqV+lkXqbJkliIjOHQMTJOS83K9yTHBWDhpIpMEjd1GkS6kEKWT8q/Si6LjIeFSZ8lGSZ8qdG+lWKot0O5UGj6xLY0fuvMg4VdkmIuotBiaIupL8E7JI/SzDMazVzzIURPJHSP0sNwEs9XPHRfI5Se8LqZ85VIPowmBggkS/m5WDaLCRmT1uvfVWfPDBB7j66qu1vURE5wcDE0Rn5+abb1Z7Wkj9LL0jiKhvMDBBvaXTftqEDOUgGkwkKab0hmCXTyIiov5DhmPIkEkiIup7MpRj186d2pZ1Ng1MEA02Ml2ZNH7s7e21PURERNTXJL+TDKvkEA0iooHBpoGJ6NgJ2hrR4KDX69XeEvKTiIiI+ge5cSAJMImIqO/JOTlqbPczcgj2mCAiIiIiIiKiPmPTwMSBxARtjYiIiIiIiIgGO5klKSU5Wduyjj0miIiIiIiIiKjP2DQwMWsOp4ghIiIiIiIiGipk2uZp06drW9bZNDCRmZmhrRERERERERHRYNfc3IycnGxtyzqbBiayMhiYICIiIiIiIhoqWlpakJuTq21ZZ9PAhIfJU1sjIiIiIiIiosFOp7ODu4e7tmWdXZtCWyeiM/T111/jsccew/PPP4958+Zpe89OW0szGvIPIjMnH8l59dreM2dnb4RLaAwigv0wys9R20tEA9H27duxcuVKPPLII1izZo22l4hO59FHH0VNTY1aPxuNRm3v2WmqLkRD3kEkZtehqKpJ23vmjKYguIaOR3SQI7xd7LW9RIPb3/72Nzz++ONYu3Yt5s5lvkHqnk0DE0mJiYiJjdW2iAa+8xmYaG2qR8m2v+Prb77Ha1sLtb1nzt7ZA4EL1mDJ3DismsJeSkQDGQMTRGfnfAYmajN3o2T7q3hxQz72HKvR9p45j9GzEbbgbtw9yxvRQU7aXqLBjYEJEk1NZqSnpyMqaqy2pyubBia2bd3CmTloUDmvPSZaW2Auz0JJaQVyys3a3rOgs4ejTzh8vTwQ5GHQdhLRQMTABNHZOZ+BiZb6CqV+zkZGSSOq6lu0vWfO3sUTjt5hCPM0wM1Rr+0lGtwYmCDR2NiIhPj4HmfmsGlgQmblCA+P0LaIBr7zGZggIuqMgQmis3M+AxNEdPYYmCAhs3IUFOQjJCRU29OVTZNfMihBRERERERENHTY29v3GJQQNg1MyFAOIiIiIiIiIhoaZCjHrp07tS3rbBqYICIiIiIiIiLqyKaBiejYCdoa0eDQ2tqqjpmyYaoWIiIiIiKiAcNgMCBqbPczcgj2mCA6B7W1tcjIyEBdXZ22h4iIiIiIiM6ETQMTBxITtDWiwUF6S0jWb/lJREREREREp2pqakJKcrK2ZR17TBARERERERFRn7FpYGLWHM5dS0RERERERDRUODg4YNr06dqWdTYNTGRmZmhrRERERERERDTYybD3nJxsbcs6mwYmsjIYmCAiIiIiIiIaKlpaWpCbk6ttWWfTwISHyVNbIyIiIiIiIqLBTqezg7uHu7ZlnU0DEzGxsdoaEREREREREQ12BoMRUVFjtS3rbBqYSEpM1NaIiIiIiIiIaLBrajIjJaUfTRdaWVGurRERERERERHRYNfa2oaqyiptyzqbBibCIiK0NSIiIiIiIiIa7PR6PYJDgrUt62wamAgPZ2CCiIiIiC4smZpOFiIi6nv29vYICQnVtqyzaWBi29Yt2hoRERER0YVRXFyMwsJCtLW1aXuIiKivNDY2YtfOndqWdTYNTBARERERXWhms1ltCBMR0cBg08BEdOwEbY2IiIiIiIiIBjuDwYCosf1oulAiIiIiIiIioo5sGpg4kJigrRENbDJmNT09HceOHTtlnYiIiPpORUUF9u3bh9LS0lPWiYio7zQ1NSElOVnbso49JojOggQj4uPjkZiYeGI9KSlJe5SIiIj6QlFRETZs2IC8vDx1fePGjcjPz9ceJSKi/sqmgYlZc+Zqa0QDmwQjDhw4gOTk5BPrKSkp2qNERETUF6R3xHfffYeCggJ1fcuWLeo6ERH1HQcHB0ybPl3bss6mgYnMzAxtjWjgkobOnj17kJubi7q6OjUwUVtbi+zsbLXLaHl5ufZMIiIishUZUik3DKQelm7DslRWViI1NRVpaWlobW3VnklERLbU3NyMnJxsbcs6mwYmsjIYmKCBT7qErl+/Xp0jXadr/wrJT8t+6TpKREREtiVDKvfv36+u29nZqT+lfpb9MuRSbiQQEZHttbS0IDcnV9uyzqaBCQ+Tp7ZGNHBJ4GHr1q0oLCxUv2RCfkpgQvYzyRYREZHtHT58WA1CmM1mtXeEBCLkLt2hQ4fUIZcMTBAR9Q2dzg7uHu7alnU2DUzExMZqa0QDjzRopCuo5JKQrqHS8OmosbFRzQAu3Ug5QwcREZFtSN0rQyyzsrLUoZUdAxCyLsMuZfjl3r17efOAiKgPGAxGREWN1bass2lgIikxUVsjGlikYSOLdBGVuzHSNdTSTdTCss0ZOoiIiGxD6uaOs29Yhlh2JPWzDL+U2To4QwcRke01NZmRktKPpgutrGBSQBq4pPEj3UFlkaEbst2RbEuiLQlKcIYOIiIi25BeENu2bVOnCLUMsexIhnVI8EJm6JBhmEREZFutrW2oqqzStqyzaWAiLCJCWyMaWKTRs2vXLrUraH19fZeghIXst8zQId1KOUMHERHRhXP06FH1hoEMsZSbA92R4ZfyHMlDceTIkW7rcSIiOv/0ej2CQ4K1LetsGpgID2dgggYWabjIInOgW2bc6DyEozN5XLqKSrdS6TpKRERE55elfj548KA6zPJ0U4FK3SyL9GpMSEhgYIKIyIbs7e0REhKqbVln08DEtq1btDWigUUCEt99990pM3F0RxpH0p1UZugoKSnR9hIREdH51nEmjp6CDfKY1N+WGTpOF8ggIqLzRyYJ2LVzp7ZlnU0DE0QDkcyyIY2e03UT7UgaSDKMIzExEampqdpeIiIiOh/Kysqwfft2ZGRkqLNu9LYHhGW45Y4dO9irkYioH7FpYCI6doK2RjRwyPRj0lPCy8tLXTw9PU8sLi4uatdQ+dlxvywmk0kd0iF5KYiIiOj8qa6uVns/yI2AznWzLEajEQaDoct+ea70lrDkpSAiogtPzsdRY3ueLtSuzYaD7GSeablYIxoo5OshgQmZZUPmP+9MelJ89NFHuO666xAVFaXtbSdJXuLi4jBmzBiEhIRoe4mIek/uCK9cuRKPPPII1qxZo+0loqqqKrV+3rdvn9oDorMPP/xQ7Tp87bXXqmObOwoMDFTr57CwMLZLiS6wv/3tb3j88cexdu1azJ07V9tLQ40EhGtqauDu7q7t6cqmgQnJMTFrDgskDRzy9ZAuojIsw9rc55IQ84knnsCzzz6LOXPmaHvbSU+KoKAgtdHj7Oys7SUi6j0GJoisk6GVUj9LcmoJUnQmF0LSCJb6We7UdeTq6qoGJ6Rulp4VRHThMDBBQgLFCfHxmDZ9uranK+aYIOqBZZiG9HiQuyudl+HDh6vPiYyM7PLYlClT1MAEgxJERETnlwQbPDw8MHr06C71ryze3t7qjYHJkyd3eUx6OMpjDEoQEfUfNg1MsLcEERERERER0dDh4ODQY28JYdPARGZmhrZGRERERERERINdc3MzcnK65gPqyKaBiawMBiaIiIiIiIiIhoqWlhbk5vQ8U6FNAxMeJk9tjYiIiIiIiIgGO53ODu4e3c/IIWwamIiJjdXWiIiIiIiIiGiwMxiMiIoaq21ZZ9PARFJiorZGRERERERERINdU5MZKSnJ2pZ1Ng1MVFaUa2tERERERERENNi1trahqrJK27LOpoGJsIgIbY2IiIiIiIiIBju9Xo/gkGBtyzq7NoW2TkRn6N1338Utt9yCtWvX4uqrr9b2EhGdH9u3b8fKlSvxyCOPYM2aNdpeIjqdm266CZmZmXjmmWdgNBq1vURkax9++CHeeOMNta08d+5cbS9RVzYNTGzbugWz5rBA0uDBwAQRXUgMTBCdHQlMfPTRR/Dx8dH2EFFfqKmpUe+WMzAxtDU2NiIhPh7Tpk/X9nTFwATROWBggoguJAYmiM7O119/jeTknhOtEZFtODk5YenSpQgNDdX20FDT7wITFRUVMJlM2hbRwMfABBFdSAxMEBER0UDX2tqq9p5xd3fX9nRl0+SXREREREREREQd2TQwcSAxQVsjIiIiIiIiosGuqakJKacZXsceE0RERERERETUZ2wamGDiSyIiIiIiIqKhw8HBocfEl8KmgYnMzAxtjYiIiIiIiIgGu+bmZuTkZGtb1tk0MJGVwcAEERERERER0VDR0tKC3Jxcbcs6mwYmPEye2hoRERERERERDXY6nR3cPbqfKlTYNDARExurrRERERERERHRYGcwGBEVNVbbss6mgYmkxERtjYiIiIiIiIgGu6YmM1JS+tF0oZUV5doaEREREREREQ12ra1tqKqs0rass2lgIiwiQlsjIiIiIiIiosFOr9cjOCRY27LOpoGJ8HAGJoiIiIiIiIiGCnt7e4SEhGpb1tk0MLFt6xZtjYiIiIiIiIgGu8bGRuzauVPbss6uTaGtX3ASmJg1Z662RTTwvfvuu7jllluwdu1aXH311dpeot554403sPM0J+mh6NJLL8WPfvQjbWto2759O1auXIlHHnkEa9as0fYSERERDRwSmEiIj8e06dO1PV3ZNDBRUVEBk8mkbRENfAxM0Jk6dOgQ8vPz1fUvvvgCBw8eVNfppClTpmD+/PnaFuDg4IDo6OghWX8wMEFEREQDXWtrK2pqauDu7q7t6YqBCaJzwMAEnam7774b7733nrr+5z//Gddcc426Tie9/vrreOqpp7QtICgoCP/5z38wdepUbc/QwcAEERERDXT9LjDBoRw02DAwQb0hF9U7duxQ14cPHw4fHx91fe7cuRg5cqS6TicdOHDglCEuZrMZ6enpmDFjxpAb4sHABBEREQ10vRnKYdPkl0REQ0lxcTE2bdqEpKQkZGVlqYsMU7jzzjvVhUEJ62TYhuU9kkWCERJDT0hIwNatW9Xed0REREQ0eNg0MMHeEkQ0lMiF9M0334yoqCi1V40sc+bM0R6l3vL29sbTTz8NT09P3HPPPWrvCSIiIiIaGCRfWE+9JYRNAxOZmRnaGhHR4CYzbqxbtw5PPPGEGoyQMXWyGI1G7RnUWzqdDi4uLli8eDHuvfdevPXWW/jggw+0R4mIiIioP2tubkZOTra2ZZ1NAxNZGQxMENHQsG3bNiQnJ2PVqlUYNWqUtpfOhQzxWLFiBezs7JCYmIgtW7ZwWAcRERFRP9fS0oLcnFxtyzqbBiY8TJ7aGhER0ZmTxKHPPPOMOsMTh3UQERER9X86nR3cPbqfkUPYNDARExurrRERDU4yo4RMCSqJLR944AF1TB2dPzKsw9nZWe01UVtbq04/RURERET9l8FgRFTUWG3LOpsGJpISE7U1IqLBKS8vD++88w78/f2xYMEC5URs0B4hIiIiIhp6mprMSElJ1rass2lgorKiXFsjIiIiIiIiosGutbUNVZVV2pZ1Ng1MhEVEaGtERERERERENNjp9XoEhwRrW9bZNDARHs7ABBEREREREdFQYW9vj5CQUG3LOpsGJrZt3aKtEREREREREdFg19jYiF07d2pb1tk0MEFERERERERE1JFNAxPRsRO0NSIiIiIiIiIa7GSWuqix/Wi6UCIiIiIiIiKijmwamDiQmKCtEREREREREdFg19TUhJTkZG3LOvaYICIiIiIiIqI+Y9PAxKw5c7U1IiIiIiIiIhrsHBwcMG36dG3LOpsGJjIzM7Q1IiLqnQpUFMQj4et/4Z8vrsHPfnYtrr321OVnP/sZfv/7F/Cvf32F+OMFyhFERERERP1Dc3MzcnKytS3rbBqYyMpgYIKIqFcaKoCC/Ti05Wus+/QrrP1mLxIzclFWV4fW1lZlqUNdVQbyUjdj8/pP8MEHXynLPhzIKWdggoiIiIj6jZaWFuTm5Gpb1tk0MOFh8tTWiIioR5UZQMK/8METv8ETv3oNz+xohdvkW/HTJ/6JDz74AGvX/gv/fOmn+NVto+FhrEZCwlFs2pSD1KJ6BiaIiIiIqN/Q6ezg7uGubVln08BETGystkZERN3K2Izd697Ctb/fiLXlo+Gz4Ha8+Nu7sHzWZAwzmbQnmeAZMB4TL1+O2YHBiHZ1AkaHwFP5aXkGEREREVFfMxiMiIoaq21ZZ9PARFJiorZGRERdNNcANWk4uH0T1n32Az7aDrSNmI7pV12OFfMmY3x4EDydnGBnZ6c82RGObqEIGDkPE0b4IXaMG3wmjIa/yY2BiT5QVFSEo0ePoqKiAmazWdtLRERERE1NZqSk9KPpQisryrU1IiLqrK2hAG35X+HDDzbg3Y/z0dp2Ca5auRirrp+EQJ0dnLTnnSTD4yYiMsYLE+d5I2rmJIR6mxiYsJG2tjY134eMmzx06BA2btyIzMxM1NbWas8gIiIiotbWNlRVVmlb1tk0MBEWEaGtERFRZ5UF2Uj44v9wKOcYKsMCMPLmJYgeHozh2uPdGbbgASy96RH89vIAjAtw1PbShXbkyBF8+OGHeOKJJ/Dmm29i165d2LNnDwoKCrRnEBEREZFer0dwSLC2ZZ1NAxPh4QxMEBFZVZ+P4swUfLsuCUfzjHAIGoOLl0/CyFBPtQeEDN7ojmnYNIyMvghzIl3h62qv7aULoaSkBAcPHsTmzZvVHhKbNm1S15OSkpCTk4P8/HzU1NRozyYiIiIie3t7hISEalvW2TQwsW3rFm2NiIg6aquIR17qXnzyTRuyi8YjKGAqli0OREhQ1wEcZFuW4RoyB3dqaqraS+K3v/0t3njjDezfvx/19fUnhnUQERER0akaGxuxa+dObcs6mwYmiIjIuoz923Bg9zdIbWtF1fgR8IgdiQl2dvDSHqe+k5aWdmLIxr///W/s27cPdXV1aiCCwQgiIiKic2fXJrd5bESylZtOTHVHNPC9++67uPnmm/GTn/wEkydP1vbSUHbgwAG89NJLeOWVV7B69Wptb0+alaUeO1++Ax/99wP85XvAZ/kzWLbyOry0PAIGfU+DOIauP/7xj3j55Zexdu1aTJ06Vdt7/siQjby8PBQWFiIlJUUdviEJLqV3hMyKYi0g4eXlhblz52Lx4sWIi4vT9p6b7du3Y+XKlXjkkUewZs0abS8RERHRwCHtJhnq6u7uru3pioEJonPw/vvv45ZbbtG2iNpnamhqalLvrPcqMNEm+Qjy8fWTP8fa9z7H/6XZYc4v3sKK627A/5sA6NmvzSoJTEgASIKD5ysI0NHu3buxYcMGfPfdd6iurlaDETKco6cqUwITs2fPxqJFizBlypQen9tbO3bswA033MDABBEREQ1Y/S4wITkmZs2Zq20RDXy5ubnqGHMiCykPzz33HP7617/2LjDRkAuU78BLD72E9/+XiJ01wVj+9B+w8vqlWB4BsMOEdRKYeOyxx9SeShci4C2B9KKiIpSWlqq5JcTpqkuDwQAfHx+MHj0agYGB6vESpDoXZWVl6tCR559/noEJIiIiGpAkx0RCfDymTZ+u7emKgQkiovNo/fr1atf7F154oXeBiYpU4PiH+MWvP8C7XxcgH5Nw5ysP4tpV8zDPA9B1DEzU56IgMxMJu9NRqWw2tu9VOXgFw31EHCYGOyHA3aDtPY/MtWipK0VudhYKzM6odB2p/ls+vZwFpLXZjIbceGSXNyGryQ9hocHwN7nAdJazm0pgQnI+SA8FCQacb5ahHDL1pwQXuhu+0ZGDgwP8/f0xbtw4BAcHq69hCWqcqxtvvBELFy7UtoiIiIgGjn4XmCAiGuzOODBRlAjE/xM3PrcB73zbBOgW4sG37sC1q6ZigvLwKSM5Ctfju/99jKd+/h8cbGhCUWsb5ARupzfAb9LlGHfLn/D4Yn/MHu6i3t1va21Bi7pIksb2l1DZ6aDT28Ngb68GPpRr7u5JFdGmvEZ5Nmoz92Hjhi+xozoUaRG34fFF/pgS5qw9sWct9RXKr/8UvjpQiU8qp+LyRQtw0fhQjPM3qL/DKQGYXrjQOSb27NmjTgcqQzkqKyvVoIQEKHqqMi9EjgkiIiKiocCmo5czMzO0NSIi6sLVCRgZDJObMzyVzS7X6qaJGDd3GZ568VYsnDgMQdruoLmrsfD6u/HbywMwLsARaGgA8vNx7PvP8dn/PYVHH12J1atXqgGTlT+6FivvfxpPvvUNEgqByo7dLqxpawHK92Dfhs/wu0fWIc1jMSYvXYVHF/oj0tdBe9Lp6Ywu8Jq2GguWLMHPZtci67t/49N1X2BTkfLyZu1J/UhkZCRWrFiBxx9/HLfffrs6ZMTJyUntOaHTMfEHERERUW9JD9KcnGxtyzqbtq6yMhiYICLqlsEe8HSFg9EeVkc4OPjBOyQSM+eORbifO1zgquwchbEz5mH2pdMxc5gLvF3s0VSVj8rUdfh23Sf4ets+pNQ6QefqBT9PB/gai1C2dwt2rf0K773zAxJzylDW/upW1KKlORPJmzdg385UpDmMhnfkFEwYOwbTwp1hctJrzzs96dXhGDge4aOnYHp0JMb51cOckYptH+5BWlEVKrTn9Reenp4YNWoUZsyYgXnz5qnDKJYuXapuh4WFwWg0qs+TQAURERERdU8SiOfm5Gpb1tk0MOFhknuARER01mQogQzNUH62wk85i89DXGwkpsR4aE8AGiqOoTDx3/hw3UZ8l+uKkdc8j4efeRVv/P1ZvPbMDbjFtxK6TV/ixV+/jW9TstFd/LqttRSNtXux7s11iE9rQeRPf4mLJo7AuO4TKp+ecyhcQufjpuWzMUlXj/hn38HetFxkNvWcv6EvjRgxAldffTUefvhhdRYeGaYhgQvpQSEBCgYniIiIiLqn09nB3aPnBqRNAxMxsbHaGhERnZWGeiA/B3nKzzw3J2B0KDy1oR+nkIvlmGsQOeta3DnBHxEeDoBTEOwCL8PIqf4YPk57Xg/qszOQt+kr7Ayeg5ZZV+A25RQeei5BCQu98rt4TceIce6YO+UbfL1tDzZ+n6M92L+NHDlSHRLz5JNPqjlEJk2axCEeRERERD0wGIyIihqrbVln01ZUUmKitkZERCpHZyA4DIHOLghubAKKKlDXYEad8pC1NIt11eXITtmHkqpytHi6w29SFPxNbug4YabBIwge45Zg0eVX4ap50zHO1wXuDvaAvRFw9oTR1QijyQg7Pw84Gw1w0o47SXovFKP4eCr2frIPDd7KvxE9CWN9ALf2EQynkjwUtRkoOPwNvvvs33jvrX/j3/+W5Q1l+RjvfrEPGw5Xo6RWm6HCTq/83QEIDvdHXKw9CuLTkJyYhTzlodOlvOhr0lNCghPTpk1TE10uWrQIV155pbodHh6uDvPoaY5uIiIioqGmqcmMlJRkbcs6mwYmKivKtTUiIlK5m4DxUzDe1xexTQ3QHctCcVkVCs0t6nCN9uCE/L8VLeYGlBTkYPfu71BaVgw3LxNGTYtFiPLz5EAOueYfi4AFj+CBHy3EXbPD1JkkWltb0GyuhrlWef2SZlTZmeAaHQ4fd+dTghqqtlag5Riy0g9h/cfZCHTxx5iIEO3BzlrR1lKPxvwfcHDzP/Da8/fjsYd/hp/9rH1Zc+9jePgPH+PF74qRVd6kHdPOxz8EUWOnw/1oHsqOZOJgM1DT/aQX/Y4kyLzqqqvw0EMPYdWqVZg+fbrag0KmDCUiIiKidq2tbaiqrNK2rLNpYCIsIkJbIyKidnJ3PRaTZ4/DtEuN0Om+wWff7MLb648hTzmJ16vPaVCWAmRsehNfv/MentnYhpRCwMnREaGBgXB2spoq8xQVFceQ/N0GfPnEP7C1eBhMl1yPF568DLPH+J0S1FDJ3KJHjyAvqxRb7EYCXi7w6vIkixI01u/Fl698hK+32KFy3l/x4J/fwYcfvon333oav7/FCYvHKL+sNb7+MI4fiziXVJiKUxF/EKip0R4bYMaNG6f2nohQ6jkXFxdtLxERERHp9XoEhwRrW9bZNDARHs7ABNGZysrKwn//+1/k5vacyZYGKply0wehcZdi5lULsHKxO9yqdyFh3Zt487XX8O9//Qv/+r+38a9Pv8LGQ9kobHFG5PgxCPEYgzC3MIwf7Qx3N/v2lzqFdD0oQVH6bmxTXuOD19/EW+9+ibVfJSOjOQCeo2IwMy4MgZ7O6m/QRVUF6mrakG+nXGh7OsHUXWDCXI2W8qM4lJCKY7l2cAqehbgZl2LhwsVYuPgKLF1+Da5cOB2LxrjBx6XTLB5OTtB7e8LXUIG2yiIczahGXYM23GOA8fLyQmhoKNzc3GAwGLS9RERERGRvb4+QkFBtyzqbBia2bd2irRFRd7Zv365OTejh4aEm1JNx69dddx1+9atfac+gwchj/FLMuObHePqBy3DVsKNo2fsK/vLIQ3jswQfx4JPP4sG/rcW6Sn94XbQUzzywGEsnLsakoAmIi1YuirvtzZCLnMSv8NFDD+HvT7+C1z7+HhsKjTDbO8HZYI+q6gY0NreoGSU6ah/60aosktQxCJ4mR3SbNqGhEW1lVahGG1rQDK+6KjTX1KKuXoc2+wiEL3gES5bfgTWzfRHm2TlBhcxmoYNOD9Q11KOguARm86nDPYiIiIhoYGtsbMSunTu1LetsGpggop798MMPuPTSS7Fx40ZUVZ0chzV69GjceOON2hYNVo4eEfCfcAdu+n8v4S9/WYsPPliLtWuV5fXXsfZ3v8Nvbr4SSy+5BIET/x9ufer/4ccPzMdE5bguOSJOGIYRF92Au5TXeEVZ3vzHU/jzL+MQmP0N1v/1VfzsiXXYfrgIldqzLSQwUV5WjMqKUm1PD5zDYAhehIunT4CfLh1fv34//vTMn/H6+9txoAioMWvPs8oFent/+IYZYfLTdhERERHRkGPTwER07ARtjYisuffee2E2m9Vs/0lJSeoFoiyHDx/GggULtGfRYKV3cIOz9xiMiroIM2fOx/z52jJnDubHxWHyqHCEBwfD2ScKo6ZEYWxMCHyU46wOxVB7I7jDI2AkxiqvcbGyLFw0H4uXXIKLR9nDrTIB33+5Ft8fzEWalfhDY2MDmsy9mCPD3hX2HsMRM/9KzJk/A9NCm1CfvQ071r+Dd976DzYkKq9fpj23C3vY2TnByUUPh65TgxARERHRICDDXKPG9qPpQomoexkZGYiPj1fX33nnHURHR6vrRGeqraUZLfU1aGxshrlDygZHUwACoufhssvGY/a4BrQe/RAJh/NxKEd7Qgc6nQ52ytKttjag1QxzYwNqm3QImbMCV91xHx6/dwVmj2lA+aH38fqzP8frG5PxfXZ3eSMkD0YLWlpk6Ej7HiIiIiIaemwamDiQmKCtEVFnBw8eVH+OGDECQUFB6jrR2ajPS0f+V//C9z8cR3yGtvMMSG4TTy9feHh4a3usaGsCynZhz64t+N0bSUjPrYazTxhCp12Na376BO645VqsjGhGblYaDmdmawd1VouW5iIUZ5lRUaTtIiIiIqJBpampCSnJydqWdewxQdRPHDlyRP0p+SSIzkVDRQ7yk/6HTZ9uxObNyciqBOokp6S5Fq0VWTiWlIfMLCPsAmZieIgXwjrFHyQw4eDgCKOD9GkoQ01tE+rrtActpItD2XFkJybg688TsPt4FQpaXeHqHYKIsCCEe3rAsx7QN7WirVV6RljRWIeWykIUVZlR32qEyd1NzdpMREREREOLTQMTs+bM1daIqDMZyiFkykGic9ForkBJaTy+//JTbPhkE75PLcbx3GIU5x5H0eE92PltNg5n+sJn0g2YFh0C5b+u7A3Q6xvg0JaNivJ6VHTKkCm5T1oqylB9NA0Zu/dgy8Es7M5U/o2iQhQfO4SijAKUlpkQ6uOHEJ9upvSoq0VrUREKzUCzqztCg3zg6MCpNomIiIgGEwcHB0ybPl3bss6mgYnMzLPoU0w0RHz33XfqT/aYoHPl5DUMQXG3YNp4F+jyP8UzP1mBO29cgRU3/QLXPfAZvtLNxPAb78YLT16GWWP8us7qIbklRoxCULg35ramAWW1KOscmFCWcmWxM+UiPORLbH/jfjx5u/JvXHsjVtz1Pv6Z4AHHW36OZVdPxJxx3QQmamvQXFiKLHMM7HxHY+J4wM1Fe4yIiIiIBoXm5mbk5HQ3tLedTQMTWdodYSI6lQzjSExMVNeXLVum/jydLVu2aGtEp3L0CkHg5OVYcM0SLLtmDmbHRWPShGhET5iAmKlxmHvVAiy6YiYunRCMYA8nGLXjTrBTqga3SPgFB2Hq6EoUleXheG6J9qBGp4e9fyzGzliMW26+GlddMg2zJin/RnQMoifPRNy8+Zh75ULMiApChGeXf0FVVVaI7GOHUOYfAfeIYYj2BFzZYYKIiIhoUGlpaUFuTq62ZZ1dm/THtZEk5cIrJjZW2yIiIRHEuLg4JCQkYNasWSd6TuTn5yM1NVVdT05ORlFRe3bAmpoabN68WX3+448/jieeeELdT/3D+vXrsXLlSrzwwgtYvXq1tndgytvzDuL/+3M8W3E7Rk5Zihdumw4nA2A415C2OqNHI9I2/gNb33se/zQ9jEvmLcKzV4/SnnB6f/zjH/Hyyy9j7dq1mDp1qraXiIiIiPqbpiYz0tPTERXV/ZShNu0xwaAEUVePPfaYGmSQpH/19fVq4kFZZGaOefPmqcu9996LJ598Ul3+9Kc/qc83mUwYN26c9ipE55/36BhMvHkN5pTshX77l3gjCcip0h48F62NQNlOHE2uwta9l+Cy2XFYcJG1RBdERERENNAZDMYegxLCpoEJ6TFBRO1effVVtYfEc889p25Lz4m9e/eq68LNzQ1z587tstx///1499138e2336p35okuFAf3UPiOugwLZo3ACGMxdr31Mfal5iOr8wwdZ6KxGA3F8fh263YkVergfukKXDR+BMb5OmtPICIiIqLBRHpMpKT0o+lCKyskVRoRiV27dmH79u1olWkXFZGRkbj99tvx9ttvqzMeVFVVqcGHzstf/vIXXH/99ZgwYYJ6HNGFY4LBOB5zbrgSUyZ4o+GzN5GUlIykgiqU1jbD3Nxednujra0VLfUVqC05gtz07fjk2zRkuvhi5i+uQky4LwK05xERERHR4NLaqlzbVPbc7damgYmwiAhtjYjeeOMNdZiGWLBgAdLS0vDaa6/hhhtuUPcR9Qt2esArDpMWXYnfPHsZRlauw97P38VvNxQivcSsPen0WhtrUbbz39jw+ef483cuCJ9zO65evATz/YBucmMSERER0SCg1+sRHBKsbVln08BEeDgDE0QWTU1Naq8Jcdddd6k/ifodmaHD6A2v8NGInnuR2lMndngoxvg5wsXY+yrETqeHwSsC/hHRGD92IqZPjEH08CD4OwIONq2JiIiIiMiWJJdeSEiotmWdTZuD27ZyekMii/j4eNTV1cHJyQlXXnmltpeon3I0wT4gGtHzb8CypVfgxxd5I9yr910ddEZnmGKXY+biG3D31TMwc6QJAa7ag0REREQ0aDU2NmLXzp3alnW8T0XUR/bv36/+lDvQBoNBXSciIiIiIhpqbBqYiI5lsj4ii2PHjqk/o6Ki1J9ERERERESDjdyEjRrbj6YLJaKTZDpQUVJSov4kIiIiIiIaimwamDiQmKCtEdGcOXPUnzt27EBNTY26TkRERERENJhI0v+U5GRtyzr2mCDqI7Nnz8bo0aNRWlqq9p6455578OSTT+Lpp5/Gtm3btGcRERERERENbjYNTMyaM1dbIyLx+uuvIyKifRrdv//973jiiSfw6KOPqkGL2267Tc1gK9577z0cOXJEXaf+TWZZCQ8PR0NDAwoKCtDa2qo9QudDc3Mz8vLy0NLSgtDQUBiNvZ8ZhIiIiIhsz8HBAdOmT9e2rLNrU2jrF1xmZobSYG+/CCOidpWVlXjnnXdQVFSkbmdkZOCtt95SL2jlAtfLy0udWnTUqFFITU1Vn0P9l3yektj0jTfegJxen3vuOTg7O2uP0rnKz8/Hww8/jKCgIKxatQrDhw+Hi4uL9igRERER9TdyY6mgIB8hIaHanq5sGpjYtnULe00Q9cKGDRtwyy23qHfchUQZ//a3v2H16tXqNvV/H374IRISEtSL5iuuuAIxMTHaI3QusrKysHLlSsyaNQt//OMftb1ERERE1F9JL/CE+Pgee03YdCiHh8lTWyOinixcuBBJSUl48MEH8cADD6g9JRiUGFhWrFiBBQsWqMNwtm/frg4/4LCOsyNR9pycHKSnp6s/fX194ePjoz1KRERERP2ZTmcHdw93bcs6m/aYICIaSqqqqnD8+HG89tpr6vbzzz+v5qCgM1NYWKgG6SRY5+3tjbvvvhvTp09HcHCw9gwiIiIiGshsGphISkxETGystkVENDR89NFH6rAOR0dH2NnZITIyEsuWLYPBYNCeQd3ZvXs3Nm7cqCYTlYSXJpMJ119/vZr4koiIiIj6v6Yms9rzNSpqrLanK+aYICKyga1bt+KnP/0p6urqEBcXpyZwlNwhHUk+CknqKMGLoUKGaUhCy/r6em3PqT755BN88cUXePHFFzFx4kRtLxERERENFL3JMcFZOYiIbECGdWRmZqp5JqT3xF//+leYzWbt0XZz585VEzoOpZ4UJSUl+OUvf4n9+/dre061aNEi3HrrreoMNZx9g4iIiGjg6XezchAREdRkpu+//756ku5Ip9PB3t5e2xoapAqS96G7qmjmzJm47LLLtC0iIiIiGow4lIOIqJ/YvHkz7r//fjQ1NWl7Bj+ZXeOFF17AlClTtD1ERERENJj0u6EcDEwQEXVPhntkZ2d323tgMJIeIpLIksM0iIiIiAanfheYqKioUDOqExEREREREdHgJznWampq4O7uru3pSqf9JCIiIiIiIiKyOZsGJg4kJmhrRERERERERDTYSf60lORkbcs69pggIiIiIiIioj7D6UKJiIiIiIiIqM/YtMdEZmaGtkZEREREREREg11zczNycrK1LetsGpjIymBggoiIiIiIiGioaGlpQW5OrrZlnU0DEx4mT22NiIiIiIiIiAY7nc4O7h7dTxUqmGOCiIiIiIiIiPqMTXtMJCUmamtERERERERENNg1NZmRktKPpgutrCjX1oiIiIiIiIhosGttbUNVZZW2ZZ1NAxNhERHaGhERERERERENdnq9HsEhwdqWdcwxQURERERERER9xqY9JrZt3aKtEREREREREdFg19jYiF07d2pb1tk0MEFERERERERE1JFNh3JUVFTAZDJpW0REREREREQ0mLW2tqKmpgbu7u7anq7YY4KIiIiIiIiI+oxNAxMHEhO0NSIiIiIiIiIa7JqampCSnKxtWcceE0RERERERETUZzhdKBERERERERH1GZv2mMjMzNDWiIiIiIiIiGiwa25uRk5OtrZlnU0DE1kZDEwQERERERERDRUtLS3IzcnVtqyzaWDCw+SprRERERERERHRYKfT2cHdo/upQgVzTBARERERERFRn7Fpj4mkxERtjYiIiIiIiIgGu6YmM1JS+tF0oZUV5doaEREREREREQ12ra1tqKqs0rass2lgIiwiQlsjIiIiIiIiosFOr9cjOCRY27KOOSaIiIiIiIiIqM/YNDCxbesWzJozV9siIiIaiJqVpQYlx/JQkFUEGaTY4hYAV59AjAt0hZNRrz6LiIiIiIDGxkYkxMdj2vTp2p6ubDqUg4iIaOCrV5YU7Hn/Bfxp5UrcqiwrH3kFD350GPlVje1PISIiIqJes2mPiYqKCphMJm2LiIjIliRokI2DX2/Hzs924bCyVavu773waUsRPX06ZnlswSfPv4HXXvgC+5T9daOXY/yim/HaQ3MxPsgdLu1PJyIiIhryWltbUVNTA3d3d21PVwxMEBHRENGgLGnY+faX+PrVT7A17yAOl9SisLr9UTf/CHgHDUOwG9BxNEZ9yXGUFeQgs9wL01Y/ghV33YbrvHdh5/824rPP9iFbeY7ZfzrCJ1yKn6yehpG+rlBegoiIiIgU/S4wwRwTRETUd6S6a4a5vhHlmYew/83V+M+6ZHyQ0P5ozPJfYvFtD+OWaCDAtX2fOPr177H1g9fwly1zMPdnt+GOXy/FFF0TDA2NaGxsRos8SWeA3t4IZ2flp07HcZJEREREGuaYICIiOsFOWQwwOtnB0bUF5uo2NNXJfidlmYSQkDGYMMkLAQFe8PI6uYy6aC5mXHsLLo6OxngfE/wNOhj0DnB0cYeH5XkmN3i4OsDAoES3GgoPo2jz83jptw/grkf/iB+/cxD7syq1R4mIiGgo43ShREQ0xBSi9PgufPzAL/DfHWnYXOoJOC/BLb9ahXsfWYyxyjNOzRGRg4Ljh/D+77agLTwIfjPGwEvZa68sBic3eA2LQZCnM3yc1SdrZOaOKhSmKcdmKP+esqX2rIBRWbzg69sCJ6d65OXVodklEC6uLojAcRRVNqG4Rn2iwglO7t4IGj0Cvi5GuBm03TUFKC/JR9LxMpibW+Hg6qH8DqPhVJGFprICKC+Jlg41uyk0Cn4+JoQgF6lZpcgtlVwbzgiIHA7/QF/4OAA6O8BcU4LqnCRklLagTA3YtLN3cYdL0DB4VGejpboKebUuCBilHBvgAx/lz7GTeI8VjSXpKCwsRKr8Qor63ASU7f4PXlmfjUMO0+Cz/Bm8et0IXD5O3k0iIiIaymwamMjMzEB4eIS2RURE1BeOoiB1C1677nf4LDEDexz8gMibce9PluHn/28mgpRnKNfqHbSgKucA9r56C/6z+Rg+TdGrfS+EV0Q05j7wH1w/awQWDNN2qqqUJQmfP/EaPnjhE2xRttpTWfgqyxxcfnktIiKy8O676agYeR1GjRuFB/BnfLGnFF8cUp+oCEfEhEux6vlf47LR3oj20HYf/gjb16/FbX/eiuLKegSMm6L8Ds8hfNerKNu2Fu+kAXUSF9HMvOsFLJ0/A8pvj0f+sRlvbipU9o7E8sd+gWuuX4wF/oBRB5Qkb0TSm7fipc212JLefqwwRU3GyFUPIC7xH6hJOoB30yOx/KmHsWzFpeqx+m4CE4Ubn8ann3yCh95Ng9rSaG1W/mtAfWMrQmYux9xfvot7p+gxJYh9TIiIiAaz5uZmFBTkIyQkVNvTlf4JhbZ+wR1ITEB4BAMTRETUh4qSUZy0Fa9/EY8DpbVocvNC8MUrsGBWDOaO9FSDErrCROQmfYs/fpqLQrM9gof5w9M3FGHj4xA1OgxexcmoKitHVo0BZRiGsBAPjIn0hHRq0NWko+DQN3jrL2/hf1/8gPhqHXQX34orrroa110yBpGt21BUeBg7D+QiM7McATEzMGnmHMwcGYuRE8dhdLgbWvaloryyAoV6e+SbojDazxXjAtq7ZOTt+wi7t3yKT3YXoqI6GF7B0zD/pkWYNCIYMTFRmDB7BFwLS1CTmo28xkZUlpcg89Bu7Prhe2yNP47cYjs0Ng5H3NKZmDTdB2HGdOx6823879W38d/vD2JffTS8x1+GO++7AUsuG49oHx2qvtiMIwfikVBuQI7bDCxcMg0zYoPhr/zB3fWY0Bld4BY8FlGT52CM43HY12TiUH4bWtuiMCJmHq6841KM97KDp6UnCBEREQ1KTU1NSDtyBCEhIdqermx6m8LD5KmtERER9Y2m0mJUHk/DUeWivUTZtmtrgqEpD/mp+7Bj/XpsUpb1X67HxvXf4bvDhcioMEPn4gX/ySsxb9m1uH75bMT5usDXHmg0N+JYZg6KyyrQrA7fKEPh4d3Y88n/8MEbX2PLkRqUhU/B1Cuvw8qbV+PW6y/H8hn1MDYW4uDBKpjNrgjx90VMdBRCpt6IS69egR8tnYZYZ0d4oQZ1DUVIzyxFeZXMKCKDQepQmJ+L7OPZaGlWtp3C4OI9FqNCPDFu5jzMXH4Tbl19GeaNCUWY8myZXKQwLxtpGTnIbglC+NhpWLjwUmWZhYmR/vBpK0L54S/x3Wfv4KOPt2Jdsh8Mw+ZhzoobcNPtt2P1Hdfgiqmh8Nn3DbKP5SO1yQ1tw8ch0M+EYOfugxLCOXQyxs1ehjvuWIXLp4RhjGXEhvMIuPsOR1Qo4HbK8BciIiIajHQ6O7h7dD8jh7BpYCImNlZbIyIi6hs1NVUoKSpAc7NZ3TZXFiLj09/j1V/fhpUrV7Yva17Dbz+qxpSFM3Bx3Ej4KM+TnBIyIKOpsRiFx5tRLYkjDAYgyBdu7m7Kc+qgRzJ2ffYV3v3D50gsrUGZ72T4xSzDzQuGYeJwFxgcHOEXOByubhKod1SW4TC5hyE4wBsBgTq4nJrcAk4ORowI9IPJVR6Q37cYleV1KC0CWiVO4WeCMdQP/nodur3Gj7oMMbf+Hm+89R7Wrl2rLK8qyz249ZLR8M0+hoNv/AnbUhMRD2+0YB6WXLMYN900BSEGvZoW9BROyu8cEgAPFyf07laDBFTyUV7SgHJ5v0SQNxwDvRCorMo7QERERIObwWBEVJRk8eqeTQMTSYmJ2hoREZGtSY+GUhTkZiEl8Tjq6yQJZBg8/Zdg1a9/i8defhEvvPCsstyD21ZejknB4zE1zB0hJr1aWaqdA2qq1R4X+eZmVLYBLs5OiBsfhfBAP+jq62CXmoS03Gz8UG9GTVsbvMJCMSJmPMLdnOCut0OzuRFlxTmoq60CHFyB8IkIDg3CKB8dHOztYJefg8qjR/BDkxk5yj/nYDQi2N8PbmrEQgIThagoqkVRdntgwmdYCIaNi0Sgwb49MKH8fkhOwpGyEkiN26QsI4cNw6Tx4+Hp6anOH+7u7qYsTnBsSEVJ+l58vrEax3Ja0OJpAi6Kw/CwQIxxNMDeTvl9KivRUFGBPOVvkRSW3h7umDU5BgFeniffkx5JYKIApfn1KM1r3+M/KgIRI4chQFlnYIKIiGjwa1LaNSkpydqWdTYNTFRWlGtrREREtiZdDEpRWlCIoyllaKxXth0D4Ro6E5csX4XrV6/G6tW3KcuNWHXdlbji0jjEBDjDu0MmTLNywV+VnYEscxMqlMtqZwdvjB8RhAAfd7Q2NKD+WBryyoqRqTxXggJe/r4IGxEOT4MBDjCjyVyNovxi1FYrl/kOzkD4aPj6+yDMBTAoNbK5qAAVWceR3tysvL4JzsrvFxnhAS8Po/KCykV+6XHkFVXiWAXQ3Ab4BvkjNCIUHnq9Ot9HS10t6tIPI1epb3Ngj1Z4IDzQHyPDfGGv61TlVx5HWfZhbD/SgvwqwN7DBR4TRyPA20PtISLPbizKR3l+Do63taEGzvBw88XEMSHwVp7bK401QHEasopqkCX5QBUBYUEICQ2EdOhkegkiIqLBr7W1DVWVWkOgGzYNTIQx8SUREfUZ6TFRjKrSahQcV67zpcOEtzvshwXA18Eerupz5B5+FCZfMhur1szBSD83bX+7mrws5KYkIq2xHmXK5bvBEI4AXyPclev0pmYzipUL+dqakxWvyd0NAT7esLeXbA/VMJtLUZjXonZsgIMMA/GHu5sLvJVNqZCrqspRWlKoVOASRBkNV9c4TIh2gL9M5iEHHYhHqvL4PmVT+k94urvDz8cLei3o0NjYgMKCXNTVyZyj0ociEp4eJvh6AXada/yKctSWlSCtrQ2VyqaLowNGBvurwzQsKjPTkX30MFLbWpXnBMLJMRghAXZw7jLGoxsVZUD8bhxQfiZpu3w8PeEtvTOIiIhoSNDr9QgOCda2rLNpYIJThRIRUZ9pbASOJCMjPxe7WpXrfGWXZ3AARkyIQpBype2mPkkGJ+hhb7CH0dFeueC3O2W4QnVlCYoLjsPcZEabVyichsdgbJAj/CV60ab8p1zAq1NjqnN7hMPDzQt+PjqlQlZepToXtXlHkJBuRr5yvS7DNMIDfeHp5qJUxmbl3ylGbmYm0g5locncLFfwMIb4I8Coh4tSW5sbG5R/OwfVNdVoUQMow2BSgw46NamUTFFaU5WHg/vSUFJYATh5KE+ZgtBQP4zwUv6qTjV+VWUZKsqK0dyqvBkKJwcHhAYEqMNTLCpK89WhJy3K3wV4w8HBF4H+dnDqZWCiob4OhblZqKuvRasa4omEt8lNWWza/CAiIqI+ZG9v3+NUocKmLYNtW2UmdyIiIttrbqhHWUo8svMykaFsqz0OfL0RHjkMno4Oaiihe3JhXofqygoUF5SjWWbEcPWE0ScIAR72cFMO1ul0cHJ2URM8tQc47NHU3IzGxlq0tdWi7Ok3O6UAABBSSURBVPghpO3diYTcBhTVA45GA8L9LYktpYdEDSrKylCUX4GWFuXfc3WCvacb3JTXNecdxNGEb/H1ziM4XiA9MiQyEA6TuzuUP0H5t5VNVKGuugBHkopQUdKgPEV53Ygo+Pt5IdQZkNhIR60GA3RGI0x2duowkGbl36yub1B+Z+V3aVT+jeKDSE7LREJGJdpjF84w2LtA+SfVnJ+n14Ca6jKkHz6GmqpaZVv+zhHw8nSBJyfpIiIiGjIaGxuxa+dObcs63rIgIqIhobGxDocP7kJ+zlFtD9RhFIF+PsoFd/ucG92TjBElqK6sQUmBchEvm53YG4zw8QuCi6tkT5Ckj8eQmZuJpMMFaGgsQMr3W/HN2i9wqLoGZcqjRuXqPsjfV0ts2bOcHW9g3b9+iYfe2IdthyVfk4RRgtVElt5elsBEJRrqSpGX3oqaCmXTUXlOiD88XJ0hM3V2ikvAI3wEQiPHYpRODw9lu7SyCt/uS0ReifLbVWUBif/G59uOYG2C8ve2d6o4QxWoKM3G/h9SUV4qY1dkaEkoPE3OyqI+gYiIiEilf0KhrV9wHiYTHB2Zg5uIiGzrs88+wzO/fx7rtyUiPrMe5fXt+83KFXxeRip2lxphcHBGVGDHjBIdyWW9AY51BWirL8I3h8tRoVzIm8vSkZHwHRJzmpCnC8Pw8DCYdDXwaM5FWkEtqspKUZJ2EPFbk3Es8xhKW+uRkluHxqZh8Aubhctvm4+JEa7wN0pkwQin2lyYa4uxKaVUzVXRWHIE6fu2ILctHG7RS3DlRYFwrK5FeXYR6lCOypJkJO1NxIZ99dBVJaM6Jwn/WZeEjMZmOAVFYsqS23FZbBBG+xq7BCbs9C5wNDpglHs5jpXX4GheCdpKj6HwwFZsiU/H/ypGI8pPj/E+LdibVoLWNuX3rsvAsYTt2LqzSDlGj2Fj/GHQ2XVIYpmJjD2b8L9fPYu3P/4U/133HbYfzMXxKqChpX1WlIrCJMQfPI51eR4I8XREsIntAiIiosFMepV6eHjAwaH7/qk2DUw0NDQwMEFERDaXlJSEvfsTofcIg1/oaIwe3b6E+ZtgcrZHq99ojAn3R3Rwe6aJrtoDBy72LXB0cUJhswmBAT6I8HOCobUZDn6R8A4fh+iRwxDsDvi726PWGAR/bw/4OtmhpckIo10Zms1lSM2uht5rOkbGLca1K8djpLcDXLXXdzW0wN7ZGUXK64cG+yDMxxH65iYETbgc0bOuwJVTPOHU5gijgxsCR/vBy9Ue+lYjzI5hGOsP5W/RIcPshqDhkZg0ZRrmLbgCk8Nc4WetU4bBDS7OLhgeaES5nQcMTiaM9nWEs74VjY6+aIy4FMsn+WLycB+UtJoQGRmE0EBXOJgb0eIQDK/AEEyKCYLzKYGJMpRmHcfhzfHIamhGtb0r3EKU9zlS3u9hyuIDT0cd7IwmNPqMwYzhngj16m0mTSIiIhqI2traYDabewxM2ClPUtN02YLkmJg1Z662RUREZBstLS3q0i07PXR6HezVJJI9aGtVZ8xobulUddpJAkp9e4JJSYDZ2ormVstzZFhHEb5/9Vl8+u/X8WZqG9wWPIj519+D3y0JQoC74WRvhrYW5fWVYzu9vp3y2nK3QWen/Pst8ju0Sa7Nk5TfX6+TPW3K36k9YmenHGOvLMrP7v4sSWqpLJJf4sSvq1IOkL/Hrk1Z6/r7SKDGTvl97CVxhfLvnHx5+d2UpVlZtD3Wtb++vN/tiTuJiIhosJIcEwnx8Zg2fbq2pysGJoiIiM5ZPkoyDuDblz5DfGE5Mt0CgPFX4rrZUbg0sBIZ3zyPdz74Fh/vqMAx19m45vabcNP1CzE72AmuBjVBBBEREdGg1O8CE0RERINTLvIPbcUH9z6EtfE52NEWAMSuwE2XjMPi4Boc2/AHfJvrgaP2UxE16XKsWj4Nl80eAZmcQt/+AkRERERDlk0DE5mZGQgPj9C2iIiIBos2VGbFI/4fP8IrXx7Fh4nKLhneIcMc7GS0RAvClvwC8669F09dHohAD+OJIQwcyEBERESDWXNzMwoK8hESEqrt6YpDOYiIiM6DptoylB/dgSO5NciW6To7cQmOgn/4KMQEOcKJwzeIiIhoiOh3QzmSEhMRExurbRERERERERHRYNbUZEZ6ejqiosZqe7pijgkiIiIiIiIi6jM27UsqPSaIiIiIiIiIaGiQHhMpKcnalnX6JxTa+gV38OABBAeHqHOxS0cNs9mszitvb2+PluZm5RduUvfr9Xp1XZJkCHm+jEuR51o9tqX9WJk7/cyPbenxWLNybLN2rLAcK8+VYy7YscpzZdtOTZxm17tjlb9Np2yfybHyPNm2vO89HWt572QOf73evvfHKn/PiWNlW3nfezpW/v6ePrPOx8r6OR+rve89lpVujrV8Zr0pZ+dybLdlRTn2RDnrcKw8t9uyYjnWrBzbrB2rOLNjz6CcKetNynMtf/8ZHas8T7Z7c6zlvetNOTuXY+XvP5NydvLY03/enY+VdfVY7X3vuaxYP9bymfWujFr/vM+ljHY8VliOled2/rw7H3s+ymhvjrWUUdHxWGtlpcuxzcqxTWdYvmW7x7LSV2X0wp5HuzvW8r73ppz1powqTzpxrDy382fW47GKMzlWnivbvTm2u3LWngj1NOWsm2OtlZUuxyrPk23L+96rY2X7NGWl87Gn+7w7Hit/g+V9P5djZf10xzZpx1reu94de/qy0vlY+akeq73vPR0rCXPP/tgzK6Pncqw8V7Ylka/y5vd4rOVc2PlYa2Wl67Ht7/u5HGutrHQ+Vj5Xs7lJ3T5dOet6bO/KmRzX+X2/oMcq67LP8t716ljtvTuTY+Vnb48VlmPluZ0/s+6PPf25sPOx8lzZtvaZdT5Wnifb53ascr2lO01ZUY4xWznW8pn1eOxpPu9zOba7cqbXX/gy2thoxtH0dIRHdD8Rhk0DE8mHDqG6qhoeHh7qH3fgwAEUFBQgODgY+crPI6mpqKmpga+fH9KOHEFmRob6x8vz9+/bi4L8Ari7ual/9IGkpBPHFhYUIlWOra6Gn3JsetoRZCjHKu8GPEwmxO/fj/z8fLgpx0pFm6QdGxQUhKKiIqQePqz8XlXw8/dX37CM48dPHJuQEI+8vDy4urrILrXXhxwbEBiI0pISHFaOraqshL9y7LFjR3H82HGlELbAZPJEovLcvNxcODs7q39HYkKCeqx/QADKykpxOCUFFRXlCFC25d88duyYevHr6emp/I6JyM3JhZNyrHzAkixEjpX3pqKiAinJySgvK1N/D5nt5NjRo0qDpQleXl7qe5ObkwNHR0cYjMZTjpXfNVk5tqy0BIGBQep7fFQ5VgqTl7c3DiqfSY5yrINyrINybLx2rI+PD6qU91c+w9KSUgQq711WZqb6flmOTT50ENnZ2TAqxzk6Oanvuxwrj9Uqn+sh5diSkmLlfQ9Wn5eeloaGhgZ4K68tf092VhbsDQb1/dq/b1/7sV6eqK+vx6GDB9XPSj5v+dvSlGNlv/xehw+nKL9LltKA0iufkxv27VXKinKsSfn85Esjf1NhYSGCQ0KUzzJXLVu1dbXw9fVVP3v5O+RL5e7ufsqx8iWylLMQ5dh8pRwcUY61lNEjR1KV90+OtVOOlTKq/M5KOZPXkS9kxzIqWWilfFfXWMpomlpG5fQr5fuUMqqUn6TE9mMDlc+3uzIqX3b5PU+UUReljCqvZ72MVihlNEApn8fURb4HJqWcJSacLKPS6DhRRpV/p6y8vL2MKj+ljFqOPVFGExOQqx0rjVdLOZPfUY5JUY61lNHjGUr5PnoMzcqFs6dnhzKqlJPO5btSKaNSHuQ7In+/pYzK5yHlWwKcOdlSRh3g4OBwopxJOaq2lNFSrYxmtZfRRuXi1lsto4e6L6O1Shk9eLKM5vRQRl2U9/pEGVXei85l1HJsfX2dUkZ91fcxS45V/taOx8r72KAce1A5trBQKStKOZP3VMpoXZ1ybMcyqpzYpXycKKNKuZHvnpRv2e5YRmtr28t3mqWMKp+tu3oePVlG5XM8tYy2n4O7K6MJ8UoZzZMy6qqU0bYT5Uw+o+LOZfSopYy2tpdR5fOV303+dnHiWOUzKi5uP7ZSK6NyLjsuxyqVeXv5TlDKaPuxyp+hllk5Vs6j8jnLe1upnBNl+0QZVctZhzKqfNby/lnKd8cyWlGulNGAQPVvlX9bLv48O55HlWMNHcuo8r5WKn+nWkalnKllVClnHcroIUsZVcpn5zIq9VR7GVXOwcrfL+fvo+lH1XOVlFEpR1J+jMpxcg4/eay3eu6RY4uLlTKqfGZSHmW8puXY5GSlfGdlK+d9A5ycOp5HvdTyJK9tOTYnRyujDdp5tKcyqjzn4AEp38p5NFg5j3Yuo6mWMnrqeVTKTZcymq+U0VTlPKp833x9T9b1ljJqOdZaGZVzpFpGtbq+czshfv8+9TnSTpBgreVY+XuLlDqgvZ2glFE/OY8q5fv4yXaCpYy6urqqZe9kGVXKd3GJWkZP1PWdymiinIPVMmqlru9URo8d71xGlbpeeT/l85LG2yllVGkfpCQr59FuyqilneDopNT1hlPreks7wVJGM9Rz8Ml2gqWu79xOkM+zWnmPkg9ZzsFd6/pTy2iH8q08ZimjJUrdI22sk2VUOY96y3lUK6PKeVTaNyfKmfI71Z8oo0VaGc3RzqOnllGpb04po8pn0NC5ru9URk+0EzqVUfn8JLjfXkbbs8V3bidImctU3gO5ySLHWtqjHh7uyne+03lUK6Mn2rJKe7S9jHat6zu2Zdvbo0oZPZyqtLUsZbRTe7RjGVXOrR3renm/rZVRuSg6UUblHKy85x3LqBx7soyWn3oe1ep6ea7aTlDe89O3E05tyx6wtGWt1fWd2rInyqiUsw5lVNqjUmefWkY7nEetlVGlPdpeRpW63vHUur6mpvbUMpqtlNG0dKUMtZdReUzaCVJGT2mPKsfWKWXilDKqPK9jGT2TdoKlLVuntRMsdb2cB1w71vUdyqilnSCfpVpGtbreUkYtbdkTZVRZl2BmxzJaqPzsWEYt10xW26PdXDNVaXW9pZ1wsox2bCd0PI8qdb3lWK2Mdm4nqOVMbSe4ntJOUNuyyud8OOVkO8FSRk+0ZZW6/kQZVd6DjufR8s5lVDkHq+1R5VzYsT3acxktVX+PE+1R86nn0Z6vmbS6Xjv25Hm09+0EOe+pbVlLXW8po8q/Kb/3yfLtpZSJTnW9VkZPtGVTLGX01POovI9dymiuUkaP9LKManW9pYx2bo9KO0HaOm7urup3tjvMMUFEREREREREfaa9rw0RERERERERUR9gYIKIiIiIiIiI+gwDE0RERERERETUZxiYICIiIiIiIqI+w8AEEREREREREfUZBiaIiIiIiIiIqM8wMEFEREREREREfYaBCSIiIiIiIiLqMwxMEBEREREREVGfYWCCiIiIiIiIiPoMAxNERERERERE1GcYmCAiIiIiIiKiPsPABBERERERERH1GQYmiIiIiIiIiKjPMDBBRERERERERH2GgQkiIiIiIiIi6iPA/wcnHEhXlOEhsAAAAABJRU5ErkJggg==)"
      ],
      "metadata": {
        "id": "Ni_zag5tyNPg"
      }
    },
    {
      "cell_type": "markdown",
      "source": [
        "\\begin{equation}\n",
        "A = C \\times G_1(s)\n",
        "\\end{equation}\n",
        "\\begin{equation}\n",
        "B = A \\times G_3(s)\n",
        "\\end{equation}\n",
        "\\begin{equation}\n",
        "C = R(s) - B\n",
        "\\end{equation}\n",
        "\\begin{equation}\n",
        "D = A \\times G_4(s)\n",
        "\\end{equation}\n",
        "\\begin{equation}\n",
        "E = D - Y(s)\n",
        "\\end{equation}\n",
        "\\begin{equation}\n",
        "F = E \\times G_1(s)\n",
        "\\end{equation}\n",
        "\\begin{equation}\n",
        "G = E \\times G_5(s)\n",
        "\\end{equation}\n",
        "\n",
        "\n",
        "---\n",
        "\n",
        "\\begin{equation}\n",
        "A = R(s)G_2(s) - BG_2(s)\n",
        "\\end{equation}\n",
        "\\begin{equation}\n",
        "B = R(s)G_2(s)G_3(s) - BG_2(s)G_3(s)\n",
        "\\end{equation}\n",
        "\\begin{equation}\n",
        "C = R(s) - (R(s)G_2(s)G_3(s) - BG_2(s)G_3(s))\n",
        "\\end{equation}\n",
        "\\begin{equation}\n",
        "D = R(s)G_2(s)G_4(s) - BG_2(s)G_4(S)\n",
        "\\end{equation}\n",
        "\\begin{equation}\n",
        "E = ((s)G_2(s)G_4(s) - BG_2(s)G_4(S)) - Y(s)\n",
        "\\end{equation}\n",
        "\\begin{equation}\n",
        "F = ((s)G_2(s)G_4(s)G_1(s) - BG_2(s)G_4(S)G_1(s)) - Y(s)G_1(s)\n",
        "\\end{equation}\n",
        "\\begin{equation}\n",
        "G = ((s)G_2(s)G_4(s)G_5(s) - BG_2(s)G_4(S)G_5(s)) - Y(s)G_5(s)\n",
        "\\end{equation}"
      ],
      "metadata": {
        "id": "CgkQFEHw0WvD"
      }
    },
    {
      "cell_type": "markdown",
      "source": [
        "![figura f2.png](data:image/png;base64,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)"
      ],
      "metadata": {
        "id": "gHY2545IKgKo"
      }
    },
    {
      "cell_type": "markdown",
      "source": [
        "\\begin{equation}\n",
        "A = R(s) - E - G\n",
        "\\end{equation}\n",
        "\\begin{equation}\n",
        "B = A \\times G_3(s)\n",
        "\\end{equation}\n",
        "\\begin{equation}\n",
        "C = A \\times G_2(s)\n",
        "\\end{equation}\n",
        "\\begin{equation}\n",
        "D = A \\times G_4(s)\n",
        "\\end{equation}\n",
        "\\begin{equation}\n",
        "E = C(s) \\times G_7(s)\n",
        "\\end{equation}\n",
        "\\begin{equation}\n",
        "F = B + C\n",
        "\\end{equation}\n",
        "\\begin{equation}\n",
        "G = F \\times G_1(s)\n",
        "\\end{equation}\n",
        "\\begin{equation}\n",
        "H = F \\times G_5(s)\n",
        "\\end{equation}\n",
        "\\begin{equation}\n",
        "I = H + D - C(s)\n",
        "\\end{equation}\n",
        "\\begin{equation}\n",
        "C(s) = I \\times G_6(s)\n",
        "\\end{equation}\n",
        "\n",
        "\n",
        "---\n",
        "\n",
        "\\begin{equation}\n",
        "I = AG_3(s)G_5(S) + AG_2(s)G_5(S) + R(s)G_4(s) - C(s)G_7(s)G_4(s) - AG_3(s)G_1(s) + AG_2(s)G_1(s) - C(s)\n",
        "\\end{equation}\n",
        "\\begin{equation}\n",
        "I + C(s) = AG_3(s)G_5(S) + AG_2(s)G_5(S) + R(s)G_4(s) - C(s)G_7(s)G_4(s) - AG_3(s)G_1(s) + AG_2(s)G_1(s)\n",
        "\\end{equation}\n"
      ],
      "metadata": {
        "id": "igcKxaAlEalt"
      }
    },
    {
      "cell_type": "markdown",
      "source": [
        "# Metodo completo"
      ],
      "metadata": {
        "id": "9vqs5owjf2Wk"
      }
    },
    {
      "cell_type": "markdown",
      "source": [
        "\\begin{equation}\n",
        "\\frac{96.93e^{-.5}}{s^2+5.033s+80.78}\n",
        "\\end{equation}"
      ],
      "metadata": {
        "id": "6i9CoC8vf_hY"
      }
    },
    {
      "cell_type": "markdown",
      "source": [
        "# Polinomio caracteristico"
      ],
      "metadata": {
        "id": "BouDOCBXgBD6"
      }
    },
    {
      "cell_type": "markdown",
      "source": [
        "\\begin{equation}\n",
        "s^2+5.033s+80.78\n",
        "\\end{equation}"
      ],
      "metadata": {
        "id": "LxR8WulogEqg"
      }
    },
    {
      "cell_type": "markdown",
      "source": [
        "# Matrices"
      ],
      "metadata": {
        "id": "leoXjb8agYlH"
      }
    },
    {
      "cell_type": "markdown",
      "source": [
        "| Coeficientes |Valor 1|Valor 2 |\n",
        "|:------------:|:-----:|:------:|\n",
        "| $s^2$        |1      | 80.78  |  \n",
        "| $s^1$        |5.033  | 0      |\n",
        "| $s^0$        |       |        |"
      ],
      "metadata": {
        "id": "9T7zRcqagbb5"
      }
    },
    {
      "cell_type": "code",
      "source": [
        "b1=((5.033*80.78)-(1*0))/5.033\n",
        "b1"
      ],
      "metadata": {
        "colab": {
          "base_uri": "https://localhost:8080/"
        },
        "id": "DMbADxgKhus3",
        "outputId": "2e8d1464-5198-4e6d-de7f-c9707c7d111b"
      },
      "execution_count": null,
      "outputs": [
        {
          "output_type": "execute_result",
          "data": {
            "text/plain": [
              "80.78"
            ]
          },
          "metadata": {},
          "execution_count": 2
        }
      ]
    },
    {
      "cell_type": "markdown",
      "source": [
        "| Coeficientes |Valor 1|Valor 2 |\n",
        "|:------------:|:-----:|:------:|\n",
        "| $s^2$        |1      | 80.78  |  \n",
        "| $s^1$        |5.033  | 0      |\n",
        "| $s^0$        |80.78  |        |"
      ],
      "metadata": {
        "id": "TgC6YpibiUDu"
      }
    },
    {
      "cell_type": "code",
      "source": [
        "b2=((5.033*0)-(1*0))/5.033\n",
        "b2"
      ],
      "metadata": {
        "colab": {
          "base_uri": "https://localhost:8080/"
        },
        "id": "ZEeS7IrmiQPi",
        "outputId": "9b502eb1-2139-4932-81eb-4e9056bd1779"
      },
      "execution_count": null,
      "outputs": [
        {
          "output_type": "execute_result",
          "data": {
            "text/plain": [
              "0.0"
            ]
          },
          "metadata": {},
          "execution_count": 3
        }
      ]
    },
    {
      "cell_type": "markdown",
      "source": [
        "| Coeficientes |Valor 1|Valor 2 |\n",
        "|:------------:|:-----:|:------:|\n",
        "| $s^2$        |1      | 80.78  |  \n",
        "| $s^1$        |5.033  | 0      |\n",
        "| $s^0$        |80.78  | 0      |"
      ],
      "metadata": {
        "id": "hWkH85Wpi8W8"
      }
    },
    {
      "cell_type": "markdown",
      "source": [
        "# Conclusion"
      ],
      "metadata": {
        "id": "9fRz4ns9jRGz"
      }
    },
    {
      "cell_type": "markdown",
      "source": [
        "El polinomio caracteristico es estable."
      ],
      "metadata": {
        "id": "AvHpLcedjUHz"
      }
    },
    {
      "cell_type": "markdown",
      "source": [
        "# Teorema del valor final\n",
        "\n",
        "![lim.png](data:image/png;base64,iVBORw0KGgoAAAANSUhEUgAAAfQAAACWCAYAAAAonXpvAAAAAXNSR0IArs4c6QAAAARnQU1BAACxjwv8YQUAAAAJcEhZcwAAFiUAABYlAUlSJPAAAGHcSURBVHhe7Z0JoOdj9f/P9y6zj2UYYxCRkL0UCRGSVEqbIiJa/JVSIlsLIks/kqRUCqWGkkRFlH1fso+dMYtlFjNzZ+7+/M/rfO+5nvn6fu/93mVm7v067zvPfLZnPc95znnOs30LSSGBQCAQCASGNeq6roFAIBAIBIYxQqEHAoFAIFADCIUeCAQCgUANIBR6IBAIBAI1gFDogUAgEAjUAEKhBwKBQCBQAwiFHggEAoFADSAUeiAQCAQCNYBQ6IFAIBAI1ABCoQcCgUAgUAMIhR4IBAKBQA0gFHogEAgEAjWAUOiBQCAQCNQAQqEHAoFAIFADCIUeCAQCgUANIH4PPfA6dHZ2mhsI6urqpFAomAsMTZSr5/r6+pqrM0RcR0dH11Px2cs51Mtamnfy621rKAE+8nw6XYdiPmsdodADS8DZIRpiILB80d7ebu2xoaGhuz3yjHOlORQQMmPoIBR6YAnADosXLzaHIGltbZXm5mbrgdNgR4wY0W3d8K6lpaX726hRo2TkyJEmiLgfPXq09dIDQw/U89y5c2XRokVWp9QTboUVVqg5Kx3+nT17tpUP/sSSpJyU2zHUyuttCtfU1CSvvvqqtakxY8ZYGag/2h5laWxstLIsjzK4+oC+5JP8kQ/yNG7cuLDSlzFCoQcMCBC/nn322XLmmWfKrFmzZMKECbLGGmuYMAEvvPCCCReU9oorrihvfvObTfG3tbXJjBkzZM6cOXb/7W9/W7761a/KKqus0q0somEvf3g9owh+/etfyx//+Ed5/vnnZfr06bLmmmvKJZdcIltttZXV6XAHPErn5N5775WTTz5ZHnzwQeNPOjIXX3yxfOxjHzO+RPlwHWpYuHCh5RNHWV5++WV529veJj/+8Y9l/fXXt7Itb9DxRzaccsopxjvz5s0zObDrrrvKb37zG5Md8FqtdRKHKsJ8CnQDYU/jo+ePANlpp51MmNxyyy1y2223mdtnn31MANKQEYh/+tOf5KabbpLbb79dLr/8cvngBz9o1oJb7oGhBe9cUYdf+cpX5L///a/svvvuZvW5wKWPXwv9fO+UvOMd75A///nP8rOf/cx40/mcMg41JUPecOSNTvWRRx4pb3nLW+Swww6T+fPny1VXXSXnnHOOKU7q7oILLpCHHnrIOtGMpi3remMUjjSPPvpo6zB9+MMfXmLEJ7BsERQPdINeNMLk2WefldVXX12OOuooU+q8xypHaHhj5Tp+/HgTmj5Ev+WWW1qYt771rfLSSy/ZUGf0yocuFixYYIqNYVIXvlyps1qqN+9cTpo0qVvJe3mHWscFpQzuueceueiii6weDj30ULPIN9poI1lvvfVkgw02kGuvvVY++clPyhe+8AVToo8++qi1U9rosi4TeaStk/Y666xj+YC+0DywbBEKPbAEEHgM9W288cbypje9yd5hzdETp6E6EBru+ObfETiEpZGjLAJDF3TKqCdXALUohCmfK++8bEOxnNQD+cUx4kWnmPbE1NY73/lOG2X497//LV/+8pet7gBrAegELM/ykG9GeJAdy2OUIPAaQqEHukFDRDCwuIXGiYLmHc6HKHP4M98IxxXhg+XuFj3CKTC0kSsDV361BOfT4cCL3mn2zrA/U4bVVltN1l13XWube+21l1x66aXyox/9SP72t79ZJ5q6o/O9PMpZ2nkfih2mNwJCoQcMLvRY9Yxg2GyzzWSllVYygVJJQJS+p1HzDquCYU4cz+6P7wzN0WEgHa488760swB4R6cg948rZwUw5883Rhdw+OcdefB35eb1eSa+PA2mDwibp8E7jwfn+ebKN89bXh6P18OUizcH38gD/twNpvVF/E5/pwt5zVEpLcKSHy9HaVmrBfETzmmSO69X6pxnpgT8SpqE5bv78Xy48/rtS35KQdicHzwNz1sOz2eeR8+Xvy8XridAG8JQFsJBXy8fK8nJE470ttlmGznooINkiy22WEKR5+njjziJy+venadRDrznO/68XXClfNWUpxY7hsMBQfWAgQaIQGCryUknnSSf/vSnbTjP31cDFyqf/exn5fTTT7e5dA+PQuDKitixY8favC1XnhEQlRzWSO4fx3Ajgi5XPu6P/OPwzzuGAv2dL/zK4+eZfOdp5NML+AG883hw5JuyESffPG/+nvx5vB7G4/W0c0AfwpEH/LnzodVS/30FtCJtpz/5ZgcCeQTEX9p583x6WPLj5fCy5v57A/E4DzhNckdZoQP1xjMjPX4lzZwX8eP5cEeZBgLKmteb1wX3njevhzyfeR4Jy9XfE87pWA28HOwugebkgd0HtEXqi2fi5Zl74idNryeQp0++oDflIl6nlaeTlykH74gbf6TjV9IirmrLE1i2iG1rgW44K5QT0vT6aeDf//735bzzzrNVtt/4xjfk8MMPt6FAhC2uNA6esTgQfmyD++c//2kLfhA6CAZGAj70oQ/JyiuvbGHw54Kf6//+9z+54oorui0ghNRuu+0m2223XbewRMjcd999cuGFF9q2JMKuuuqq1rF47LHHbJU+edhjjz3k/e9/vwknV1JsYeL7jTfeaPFgxbAVj5XfjDR4/Keddpql4cKR9D/60Y/KNddcI48//rjlDQtm++23t7AIZFb//+UvfzGhiWWDJcUCJhYcknfySfzkhSvxM3zqVhp+vKzQy+mSK7beQBgv67Rp02wx1Z133mn5oz4Yuv373/9uuxWgGTRk25orR/IN2DJF3lhRTR2Qx2233dboiXLxzkClfFE+QB5+/vOfyxNPPGHhoCX5wwJkbvi9732v0e1Xv/qVlRn3yiuv2Bzyl770JUsbPPXUU5Zn+NDp+L73vc+2S1G/0ByQL2hJHbIK+yMf+YjlgQVnH//4x+0737yc8B/8cNlllxn9qVcUGXSCLg6+3XzzzXLWWWfZSBb8yZayT33qU3L99dfL1KlTLV14mzokDeKuRB/S5zur1v/zn//YIrcHHnjAprB22GEHKx/t7IQTTpDf/e53lvbkyZNtaos0PvGJT1g+eWY1P2WFvtQxfP+5z31OfvGLX1jZSQu6U3fkDZ52niIdvpF3eOUf//hHN69QPujHqnv8enmoP8LwfOKJJ8qpp55qi2l/+ctfxra1ZYx6FdDf77oPvMFBg/NG7c8OBCSNkq0yd999tw3Hvfvd7zahjgD1sHkYgPDg3ZVXXilf+9rX5LrrrjOhu8suu8iLL74oP/nJT+Rf//qXKVEW4eGXdBhe/MEPfiA//OEPZeLEiaYIEeooT/bh3n///d3TAggjBCbhUeBsn0M5Ei+Cn8VFCFmENEKJkQOEGH7okKA8NtlkE9lzzz1NKLItCMWGnw033NDiJg88s9cW5U/+SIcrgpE42Xd7/vnnW3r4Ib0dd9xRdt55ZxPAKDIELXQj37kSgQ7s/ycfCFnoAa3ZusQeccqKtVWJzuWAoAX4JS9sfaLM0J48QS8UG4IbxYiyZOX0WmutZTQF8AJhqTvKwLZEFCcKGWVGvUJTBLeH6SlvfMPi5Mo++FtvvdX4YL/99jPFBV3gp0ceecRojXLlPZ0kwqHgyc83v/lNq5sPfOADRjPKxcgS9U/HiXgAeXKFQr0QJ9u/UObkm/eUkTrmO+Wk/llRjqJ8+9vfbh0g4ma/Pjs5yB91hlKnnvgOHVDAXFHu8Ce8Ds3ID6u/qQ9XnKXgHQ4eozzEQXzQlY4MPEZe1l57bVOw+EVx0zmmI0aduILlO/HAU3SIyfcdd9xhnd19993X6hlepe5R3AzdQwfv+DFU/8UvftE6q4zUwcPQhw7Bb3/7Wyv/5ptvvoSc4J6ywffUGXRB+cOz/g1/gaUMJXYg0CvU+kyq1NNxxx2XVIAkbeDpiCOOSKpskiqmpEKzy2cRKhzsHVdVfGnjjTdOam2kKVOmWFwOFZRJLY+09957pyeffNLiUisjfetb30oqmJIqXEsjhyr6pAo2qZJPquAtDRy47bbbLC3yqEI03XDDDUmFUNp6663tWa2bpAI9qRBOqtSSWqLpe9/7XlJhbuHB1VdfndQKSSq8k1qLll+Pn3ypkE0qMJMqv/T000/be6ACNKkyTCpYk1r3Sa2bpBaefVNBl1TpJxWGSa0wy4NapUZTFbZJhbXR5+ijj06q4CyMKil7r8IwHXvssUmtZKOP56U3OF20k5HUmkuqwJIqmaTWdZePlFTYGx0pD3mGfp4G7tJLLzVaqGBOqqy6ywOOOeaYpIozqfWa1PJLqhwq5o33zg+Oo446ysJrR627HlWZGE1UoSdVNFZu7TSZf8JrBy1phyhpxyupouum1TPPPJNU8Rtf8l4tSssPYSgvV1WySTsxaKGkyszor4rTvkFbtXKNDieffHLSDo7F6zj++OOTWrzpgAMOsDTzsl511VVJlbDlCZ4hj/D1uuuum9SqT9qxtDxoJ7gifQDf/Lt2/ow2hJ85c6a9K8VnP/tZ4yfoSH5JI48f/iYOVaTp0EMPXaJM2im2OoUvoD00cD7XDk1affXV7dsVV1zRzS+q0C2MdgiszJSHb9SX04O2CR322GOP9MILL9i7vvBsYGCIOfTAgKA81HW3JLQR2zf2tDNEiJXAMBw9e6x7hlGxGN71rneZhXHXXXeZFcEQJ5bA73//e9t7y1An3xnOVuFhVsTnP/95s3qwLLGIGQ7EqmAUgaFbFU525eAbhgc/85nP2HAx1gwH4zCczFA4VhQWD/nCAiFPDFliIREOKxGLC4uOfPEdy4m0GApliBgLindYOljxWIaUG+uOPJIPaEGaTCuQf6xb4nOrhTR5Jh2sIlVOFgZrkNEMhk7dwnJrqBLdHaQDKDOWHFYw1vWmm25q9IFWpMewLZYu+cPCA3wD0JVhU4ZpGTWALuQTS5YrdCM8W6ywJom3khXGe8pLvqEffrGuKRsjPljd0MHLxVAv6VD/WITQmG/wAPdcOWSFOoSfsAgpH9YnQ9bUVTVWodOSkRD4iXpnqgZaeJ1AS/JBGhy0xFA/acKTfONKmfDPSBJz3drxE+1M2jYz6hD+wlXKj+cDfoH+xMkz95SF8jpvkzZTIM5bOAf5gT5cCUu+GG2gzUBHppiIAzqRF+KFH/FLGNKEz4hDOxKinVvzA6gvaMAzdQ7P90bfwLJFKPRAv0HjLwcXTgBBj2JEYDC0h7BD6aGkGRpUy9muaumaYEGYIMxRQChIvjEMyFArSgdhhBLxoTyEJkPSCMtcgPONYWoUBuGJy4UYCorhUIQmHQqElOcJRY2SpzPBsCVxI8BIn3hwxEEY/HOP8HdliFAnnwxnc83nyhG8CE0EodMHMKTM3CiKFwXK8CyKivlUOjqkjyD28HnYSoDe+GPv8nPPPWfzrwh2yoSjHK5giBe/xJ2DTgQdMuJiugMa0SkhLuhBhwUakDfqmbJ7XJVAHUEXrnTumH5gmoOOEx0I8oZiZyieNFlvQB55z5Vh8jPOOMPmaemUMa/98MMP2xYuhnqhFcouV3I9AT6C1nQCqBfqlfxBH66Uk3QpN994z3A1UxROP66UnbwyLO7lY+oC/gP4w/UG+Ig0CA88fviIeIE/O0rp7fkiHkCnE37kGToSt9c1Yekg8OzhDjnkEKMvHWumvahf1jXQMYe+hPGOAf5L+Saw/BAKPTDooMEjNGjsKGqsBICi5sznY445Rr7zne/YFYGBoMIyQuniH0Xrgowr8bnQ8vcIE96h+LFoeXYhCBAydB4QfNy70CE88+ooDd4xx8heXo6uJD84TrtDKSCQUV6urAmLA7kQ8/x5Xl3g8kxYrk4P9wc8XsrPYio6N8yzM4/NCAVWEp0QBLELZ5SrK+ueQNwI3yeffNKUDflBKfHe8+LI6ZaDBXDkAbAeATpxFOlxxx1n9ELoo/DYA41iLI23EsgDypP8MDdMGVGqzIPzHmWOBchCLzp0HoZy853RAkZfoBEWMZ0gLGlX+gB+wD/KymlViWZ0WuAJ6tR5rpQm1JHXKb9nAN85D7hfykF+eSYer+tq6dIbiCcvQ7k4yRN+evPnecY/391BX9oNp9PRHhnRwrrnPHy+ex64ErYaXgwsO5RvyYHAAOANHqGKQuCZe6yxAw44QA488EA5+OCDzX3961+3IUwW0yA4UOZYVwgPhIVbKwgaF6A58O9DkTk8fc8L8biw9mFNQEcCocV+Xo7RJE9YKOeee64tSvve977XbSWiVLg6XMARd/4+z2epsHOBC9ya5ccsWITEQjUsRWhCupy1jlXtHRgcigVHuj2B/FBGLyf+PW13Dr55/rn6PUO9DqxlphigEwvYoBULyP7whz/YNAF1ilIvpVE55N/ZFcBRpuSTURP4haF03jF64mUl71yhGR0uLHMWdbF6m04h6TNigNIlLvyTF7dIQaV8eeeOeszpAvJnry/iw0LN6QaIw8H70u+DgdL8VQPy4PkgfGkcTh/oBv1Q3ix2ZUEcHTbaAj+0BK0ZcSAu2iP04jt0DgwNhEIP9BuVhBUCAuHAlaFrGj2g58/wHyvCec+2MIYxsdRQmgy9chIWQgWhQ/wobBc0xIdDsbnwxCJiCN4tIgffS/PnCp40SIt7rgxHkp88TwwlY6EgwPCHI7yDuEvjJ2/+zu/zPIHcj39j1T5DxtCBe6xOlGM+T+tgOxPWJAIVupTG7+A7FiPnl3uHwNMu54CX08GUhdcdecMx346jDqET9MdBR0BeK+UpB3nCL3HR0SMd3z7IvDMrq0mPcpA/5yemJRj6pTwMvdMJpJ7wg19PGyXDug3oBR1BTnu/AngSWuEvt+jxQxiH1z+KjLKX0itHT9+qQZ7PPK/5e0d+Xw7V5oVyMW/ODgLWNbznPe+xaR9GYPjGSJtPZVB/0Bt/jFY4nQZS5sDAEQo90Ce4wMblCi4XGrmAYSEVypoGz/Ye5sgRmghorsTBcCmKDMsM5YoAQcAjKHD4caVGOAS1C3osWKxs0i5VJh7GgX8cCt2tP/LE3C3D0gxRkyfuiZ+fFr3wwgvNGvMyeZyent+DPP1yeeHZ33HFesQaYuEaabJgDSXqippOTG6Nkycs0e9+97tGF4Sr56EUCFzyzOI8FC7WNlv+KKOHc4vT4fnzsiLQmTfnmXUQ5NE7WIR1xx59Fk/xvVrkipKRCZQ3eWQ4nzywDQsliz/SR6Ewb+1b7JirxrpHcXs5nFb45/nYY4+10Q78846yO738yjusfUYgoLfv0/Y6cAUPvVmLwDcWuTldQF4Hfs83/94XeBjSBMSH4zmPj2f349dKyP068mfipVzwDG2QuuYddUA7ZNSEPPDd4+KeqQoWIjIdQ3jaqceb0ySw7BAKPVA1aKwITYQrghSrjHsavzsHwpFnFj4xnIwVzc+vsk/YG70LX5QBw6euOBnWZfETgoV92ygRhAVCg3QZmsXyIk4UHPuTHbkC8DwA0iQs8WB1M3zIsC7zoQytk4aXhTKi/Fj5jNACCHjC8839uNL0NFDQpMl7/Obf8vcezuGCkPfkn3u+o0SwgLCMyBv0pqwoP569rOXAN8Cec/YDEzfWL8rN6cCqZ4abUWJ0Fgjj5SMPdJYYWmdkBRqx+Ix0oQXhuWe6hIOGqJve8lQKzwcKnZ84RXmyMBLrHMvd/QAvD/kkbzxDb0DZUDrMvVOPgBEOaMVIi4fNh9+dN4iPDg9TLayXYD0G0x6AMrk/4maBJJ1HOgkodIfXG+XnPod3DHoDaTgfAOLhHXn2OsF5/knL85bTiPfl/HKf54MwHpZ48APy8B6/f6PN0ZkmHhQ9C0i5ev7Iv9/ncXo+AksfQelAj3BrjB43Ao1GjYLBsuHQDN7hx61uFxouFADbgFgEh5BiLo55Vyx1/HLPYisOz0DxIMAYgj355JPNYsVy5+AXFA/Cl21DfMMfC+xQBi6EANY2ecNapEPgc/gOVyJsuSJu0iA+DklBWFFOhn5ZFIS1zJw/ipT46XD4IjM6AgxPusVLGizoww9lw5pz6w7gn4V2hKWzgOLhO5YmJ3mhIOioMPQOHelIsPKdg2sQknRsoBUnkDEtgCDNy10OpI0/zo5iPhSlxHYqOgmUk0VvlI8V5uSLDgSr1cmXxwsdqDtozxz6lClTzC80ZOibOjjiiCPMmiM/Oa2rAf7hC6xe6hQlwUI5FDJ5wKEQoAkdGToYKGA6J3Qk4AtoziI96galTP5Yic4JeAynEy/pQFPKAdza5hu0YKEdi+voAGDZs42Ozg/rLUiHURE6kPiBL4ArKtKFZmyzo8Pq/ECevY54dlcJrpiJy7cuwpO+rYy8exuDl/DDMx0yyuxpAkY74EPKxhoN2kWePvHiF/qRf9IiXbbncTIhYLidxYooZyx32gj0pEysm2BuHf5iqgpaEAedPuKFx6EH6QPS5d7TDywdxNGvgbKgUdJIUaAMPaNYXFHScBHoNGwEMFeEMpY4J3D5imcXxLAY96xiRsiyghngD2uZMBz5iXDAnwtyBBHWO9YhwpU0SIvtb6xyZh6TfPCezsVPf/pTE34IYYQfShIhwmIpBD5Wv+cFkAZKmCFDTpKjo4LyxDGUSBooc+JndTdKhOkB6ICQIw3yzRQBx9MS3kcTCMeQMcoJJYnQRXgCvhGWxWUswCN+0ufkOYQrliXpMAyMAvvrX/9qIxikywI+rEmfxqAMPYG6QlHQsYGOdBjoiLA1DwVOJwoFz5G8lIk6IH06OdCNsvAe5U+Hgo4FoO6w8Dl5jAVUpOHKq7c85aA+cNQvq/vhJ+rRf7vc43IxRX6oB8rBiA91SnmoAyxnOi3Ms8MDdPbobKDcOOkNBch74qJuUOaEoZ6pA9Kj40VdYqVTHjoLzNFTz9AKpU49QCd2bRx//PGmCD1e+Bl6cYYAadJBcLo4ytEHfiAPnO7GdjzSdSVNBwbeYScEfMiRy7Ql0qV9EQ6e5SRAOiZ0sqCD8yp55TujIIyYwWfQG54grzjaCrSicwm9aBPQmDxQfnibjjlbLCkX29jgQRZushuBEx3ZIglPQgtoSb6gF50j6J3XZ2DpIBR6oCycLQbaAIknj6tSfAgmvrmSQhGX+i99h7LCf2+Kza2E3A954n2psM3zyr13XCrFXy6f1YDyEi/xEzYvQ2ke/L6/8LR6iqNcmoCw5Wicl3ugeczT8zjKxck7nKdbLXrKX542/IQS6inunJd6442e0i2HavzjJ/dXbdzl2kB+n9OhNM7e8pWHBe6v0vvA0kMo9ECfgBDLG3hvytSBQHGh4mFw/j5/B0iDtECpf39frseff3dhW+rHQRooLJD79bRL8wTcPygV5l4W0FN5eOffQbmyAt5xz3fg9+Xy1Rs8bx7Ow3q6jnJxl8sfzt/3Jz+lqJRGKXJ/fHe/Oe0B7/Cb++HZ6493/j5H/t2/Ec7jLqfA87Q9XKmfviKPs1KnwfPKt9KyOJ24gtK20lOey33zeHjv93zjPs9fHrZSvgNLD6HQA4FAIBCoAcSiuEAgEAgEagCh0AOBQCAQqAGEQg8EAoFAoAYQCj0QCAQCgRpAKPRAIBAIBGoAodADgUAgEKgBhEIPBAKBQKAGEAo9EAgEAoEaQCj0QCAQCARqAKHQA4FAIBCoAYRCDwQCgUCgBhAKPRAIBAKBGkAo9EAgEAgEagCh0AOBQCAQqAGEQg8EAoFAoAYQCj0QCAQCgRpAKPRAIBAIBGoAodADgUAg8MZF6nKDBY8vd8sIhaToug8EAoFA4A2ATNPmGrDg/9lN39GTNu1nlH1BKPRAIBAILHekHrVh9SjqzZ61Z6d0qGu3IeqC/l9IrsTVFfy+j7DsaykK3BS64ixBP6LtC97wQ+70ZwbSp2lvb5fOzs6up6EB8tTR0TGgcgUClQB/4frLX4RrbW0dcu0mMDQAV7lz5O/Ku+IfKP7fMzr1L3Wp9Y5OlZWuzIHxNbxZTUxd6PJKfC3Spv8X/zxPhqWszMEb2kL3ovu1oD0zXDXIwwxVDIc8BpYf8qZfDY/gv62tTRoaGqSurs4Ucl/aTCmIDzeQOAK1ARQfyrColouqkLdAuaNLF752l6MYxnm5IPVqp/JX9L2kfzV17IqfQqt+a9QHvFhbeC1NZUj+63JVwvunBNH7DtIya10t54Km1x3n0sMb2kJHILlAcQHl79yVg1snixcvluuvv16mT59e0e+yhOf9sccek5tvvlnmzZs3JEcQljaggVuR7pw25ZDXe60jLyt8z0hONWXnO34bGxvlzjvvlHvvvVdaWlr6xF/EgSPc1VdfLXPmzLE8EEdv6Q9XUK6cD51elcqb188bC0VF15nUYk6owrbuP55Mxes3HH5yZ+/0T6mrPpW++LXYiuAeB5cSW5v6kSZ7EJkqMuehmUpz9eH6th86F1s/1WkcL+nD9ZrSoqSdhnrjb953qmLP87S08IZV6DQsI7Y2nFmzZskLL7xg1geKPUdpw6Kx1dfXy8KFC+WMM86QW265xeICy7sRUh6wwgoryGWXXSYXXHCBzJ492/KHMH6jADpgReaOenX65HA+ANRfLQtSLyu0ePnll+XZZ581vqhEGwc08bbxxz/+Uc4991x7j3KnLVQKW46epDdixAh57rnn5Mgjj5Qnnniiu83VGu29PH3hRcC3crSrRRRVtSrA9iQNzfUysmWEjF40WsYuHCfjF4w3N2bBGBnVNFpGLholIxaN1GupGyWjF2iY+WNlzKIxMqJthNR3KI2Nfp2qn1GmxXRGqUk+WsMY/R8UuelP15qmpzY66ExBd8tZ39AdZqTIzEefl2kXPyOd8zulTsvUoR0Os9aXAd5wQ+40GoqMILr77rvl/PPPl6amJhk1apSsvvrqst9++8kGG2xgFe7OQVgaY3Nzs5x88slmYXzta1+Tt771reavN8G4LIDAJA/PP/+8HHvssbL11lvLvvvuKxMmTHhdeWoNzsooi//+978yc+ZMm6t95ZVXZOedd5ZddtlFRo8ebXVPXbn/fBjZ39UaneiIUqYXX3xRfvzjH8szzzwjq6yyin2D59/5zncaDcopaCxqlPfll18uP//5z42vtttuO6NXJYUOHV1BuR9cTt+TTjpJ7r//fvm///s/WXvttbvzWC6+4QbKTrnpNP3rX/+y0TKMADrYH/nIR4wfc+UOXbzsOY38HtQCXSjNayXCSG41ZdrY3CiFmXr3mD7M54W6BnV8hI1wefGJBB3JO/qD+CXMaHVvUTdZ3YiW4vfUaAq1U+8bFjXoK715XOS2C2+SzfbcVMZuv5J0FLTDWniNT5dMrHfYmECH1mG7hm8qyBO/nCqrj15Dxu0/TjpW0q+FDs2ilpF4VcEbuuszp0iOvuej/vuKrvuaB8qOhkZD+t///iff+c53TKgdd9xxMn78ePnNb35jlssmm2wiY8aMsYqlwQEfCuMZoXbPPffIV7/6Vdlyyy27G6P7XZ4gDwjglVZaSdZYYw25+OKLrSzrrbdeN7MWGbb24NbmI488YpYk0yEIU6Yf1l13XVNaI0eOND9Og4ceekh+8IMfyF/+8heZNGmSrLbaaiaIQa3QyfkT3j700EPl4YcflrPOOst496KLLpL77rtP3vOe98iKK67YXWa/0iFCmRPm+OOPl4MPPtg6RtAIV8rzroC8nTktHcTrHeMddthB/vGPf1j6b3/7261u+O5uOMNHNB599FH53e9+J7fddptcccUVcscdd8imm24qW221VTd9XPnTufnmN79p/uDXiRMndtN3uNOjPIp2s5rFVv7CowWZ97cXZMQDY6Xwby33FerlhlZZ8NAiSTNFmp5ZIG1PNUt6skU6nmqR9EyrtD3ZLM0PLpaWa5ql41/tMvXmh6WuoV1GvWOctNc3qzqEH23GXOo7VZkvVjrOEvnfhffIpC1Xl1V2nyStdS1KZ3gZhQ69+05rbWFMlEun1mVhbJ2ssuaqMuOqabJi+4pSv762FU1b6phTZ8QA8L+67qRKlXrX99c8VAdtgG8IqDJOKpySNrSkFnb60pe+lDbeeON05ZVXJhX8adttt03aeNKnPvWppAohLV682Pw6CKsNL1133XVp1113Tar80/z585MqEYt7KIE8kXeuZ5xxRtpzzz3TXXfdtcT7NwJmzZqV9tprrzRq1KikyiipdWp1Tz1CB9whhxySJkyYYHWvyio9//zz3TQaavXaH1AGL8vPfvazpJ2W9Ktf/SpNmzYt7bHHHkmVaNpss83S3XffbXQpLTfPTU1NaZ999klf/vKX0/Tp060tVKKPv1dLNGln0vgOmkPT3D/v8KtKLGlHK/3+979PasEm7Yza+1rDSy+9lHbaaaeknaN06qmnmuyABtDEaQH/jR49GslutJ4zZ47JoXJ0Hu5QrlSn/GauM3VS5YvUvaTuBXU/U/eelGZvPyu1/7g9dU7X5znq5pU43j2v7t/Ke4e2pPs/fGdq+sXs1NnUkZo7F6TmtEBjb9GPSsMF6m+2Xk6el2494ubUNrs1dTZrLjrbNBeahv71F2Qf19ypOqZZ412scV2R0q0H35Da71M9slj/dS7SVLQ+O9qL+elOjpD6zpzHhOt7fpa/SbkMoOW0K71AHAt6sArGjRtnvWB6yjis2A984AMyefJke6Z3TFgc4RgyU2Eoa665pmgHwOYCPW6/DgWQb+vxaq9+7733tuuUKVNs8d4bAVg8KiRtlOJNb3qTWX6loL6gCzzAvQpNG8mAbrUEaEE5qft//vOfNoqx1lprGe8y/cB6i0984hPy5je/2fzlgCa8U2VrI1oMzTOCAXhf6t9pCq699lr59re/LdqJkLlz59o3d4D0VcmLdiZEOxZy5pln2joW2h1wf8Md0J8Rs1VXXdVoR9uErqWAbowS8h34fSmNawUFs5mLq9G5a61rk+bRanWP03ofqx6a1aUmmbvybGndpk1ktSSvrDhX5q4wTxauuECaVlwoi1ZcJK+uvEAWvkkt+PcmqTtohCyc2CSNKxVHV7GF29XyxXrWqIp4QEz+v2O3raR+fIM0j2xRv6+tiq8M+NFdeTDsbvU1UuuQ6YAdRCZNWk3mXjJT0++Uuk5NRVVuQS35HpMaAN4QCh0i4xBmNCaUufaY5S1veYsJ/Xe961023M7w32c/+1kbekSwe+NyQfW3v/1NnnzySdltt91knXXWMeHjceOGEsgPApPOCUOk//73v214GRrUOqg3H1p34VmqILx+WQPBnPApp5xiUyg+5D4U67S/oOysqWAqAsXN1AJTTShR+OKII46wNRbQA+e8w5U5d6ZtGB6nvRCX830pnMasSbnuuutkwYIF1nlgyB7kNOXKe6577bWXdcBYyPnqq6+WVXjDFdDKpxJK257TwjuRDLcfc8wxctpppxlf0tn0sDUH041aLnWwDUPvKF4DyveJVlnUvEhGTBop9ZOVPiqKRxRGdM1Da/s0BVwcTLc7VqxP1nhWUd5ZUT0bzfiCU34lrQUiz1//lKy85krSsLkq84YW9aNeu/4GAkIXh/cpmj5RpeNF1tt2I5n+9EzpfCjJiFatS82PFZ7tbF1b2pYE78q9rw5vCIXuoOEgLFio4sKGRsN7rPP111/fFscBb0QupBYtWmRzsnQAWDRHGL7hz/0MNZA3HMKYcpJ/FoiR31oSmuVAGXuqF1dcWPDf+ta3bD0FixtduIKhWq89obTclIdysggOpQmf+wJJ+H/zzTc3Sz1HHv4///mPzJgxQ973vveZNQ/fVKKL8xQK/amnnjIrHJrSpkrzBagDLFjywBw66xhYaMr7WoLTDJqXgvdeR9QHCp2RDRYJ5rw4HFCujnsEXtUVL13qvFXdTH2e3SELO5ukMFF5eFKdtKgFP7IwUsYUxoj9pTEy2twoGcmKOPqMSq76VfW/CUU6o+wb+MaCOkj5mCr0p5+TDXfcUOrG19tCuZ5RnONnO5xviOMIGroeXHnON8nBtd2W/gh1pLupyNgxY2Taf56wLXbS2iCpU0MlYshBnnPXP9S8QncmQ3AAtqhhrQBWtbswY1istRVuKipCh/eq77rrLpk6daqtGmfIHT+uFEobas7YNGbSJn53PFfL+Hl49r0jlKsNj3VA+I022sgE66233morvz1/1eahFkHZoSP0hK4oIa9/B/WKHxwWq/OIKy6uPPt7HwFyunIlnPvB8Zz7G+w6cH70tEmLMrI9jHKyUBKrj7zQSeWKnzwvXOEd/F966aWy4YYbyhZbbGEK2nk+B2UhLQ9PO2Eki9EhFJPzYTm4MqPDQCf7hhtusHx5nmodlJ2yOi/Ch0zt5fQE3Oe8CE9xdT7invDuPHzu8Es4lyN5+MGA8x55JB13r0vDb7t0F0oI69YsXN5NVQNq7mJpG9Muq66/qtTVF2SxLNIPSeqUjQoY1rCTeq9PqqmJj2eNqH2U3ozVF3qPasWZ3ib43XjVPG6mVv5IFsnVFcOXBZHiiiqcP85/a+loleYOlRkdi6Q5Neub9mK+UdapeKgN4wesqCe0rCSy/kbry5xnXpb0uPpp4x8dAzLsjkIXuwNLOt73DYSqaTgzuSBiCBHHHBVKjitDfyh2F1ilIPwDDzxgW06Y83MLpxzw6w7GprESJ0LUHfCGSf7KwcPjx8OTR6wdF5C9CT3yyHfKtfHGG9vWGVYr05hBT2FrBV7G0rJCG+gIPaHr2LFjjU45CIMfHDxCHeAH2lMvxMGzv+eZOiMcVxwKy/3giGdp0p24cV4+5xUULMqb1dOUmXywZsDzhH8P7zyJlf3ggw/ayNXKK69s31wB54A/icPj4WAjeMw7kqRBmuXalsfFNjj8MQWAYq/ULmoR0BQHjeBDRtOgJfD6BPhxXoSn3A98xnvCu+Mb9e1AsUJrwrkcwQ8yZLDgvE9eSMcd9c63nuQVVm1dh/ICn59hRLRZOlZVw3vtcdJZXzxaBitZKJLaZp2PaxubAW1QYspX6GV0+8oaB7sx9VWD/lffrjeQaY7I4odflbXfvI7UrVJnB72MqlMaFIprNkqBPc4BNIWk9G7WcixSurVpm9EwY+pHy7h6rae2MTKiRdu9dgzgYva9m9P7VFD+HdFV1k1GSct87WA9rPeanfZBpHkpanrbGswDE9MjZVEQQoZtI8yVIzywCmBuFDVMB/M5XNDQiPjONqj58+cvsYDIncOZlXcwMHHC3I8//rgNXbIYgyFvBKkP9XuDyuMiHhQG32l0jCpwgA1D5nQsEHYIWL654MvzkYPv5AMhybwmHRiGNyk3YcoJ2UogLm+Y3A+Wy8s+GPB6IG62rUEzRla22WYbE2SUmTKwCIuhaKxXTj/DOqKzRp2RH+pg2rRp3X7YqsiQMAucoB/vWfxFvWCVIoypF2hE3eHoPLIYDUWFoiNu1mh4GoNZbuA8D68zGoO1hzJnHhwBv9NOO5lSZwsb5YMenge/QjdodNVVVxnP7LnnnrbNCn6jTHmeSY/2wZoUrqRHWiyie/e7323haDe8J63S8H7PVBb73KE36UFjvuV+ewN5gfY5bw2GA33NSw6vE0Y7kAXUAfzoPAIvUu6nn37a+AgZhcxiwS5wfoXfcGyFY8QQmrIeArlFvMg15Az1DS/mhgf8Rhqc0Ae/wovIodxPf8sH4CXnadbqkA68w7oNZC31SVmBpdOVlLVUvTfLtlN5Y7Y+XC0y67lZktYryEp7rCwdqyRbNMcA+oj5moYq/oeveUBkBTXGJ40xa7hO4yw0FGS1NSfKyJWUp/WeOepCm8bJIjRVptOveFZW33YNadh6hCwsLBTtylpeXl9uTU/VObZ5Y7Omx1Y3LPxHVBnf3yazH50r9U9qfjs07vH6rdivsvTYlqYtSMO3SnundrTaNbxmcPp/X5DRo8bKmHeOkbpRRePSjoMtdgUs+GCgemk+DEFjpDFNmTJFDjroIPn4xz9uh1lw8Ajzgt/73vfkM5/5jK0EZ/4OweNhgCsuFCrWCsOVCOzcTw5nDFfGWMOsDH7/+98vX/7yl20PMHngUAnmbFE0pOFCCBAvvWnCk0/8ffjDH7a98gi8v/71rxbP//t//8+EJv4J6+FL4XnCUqKRo5hQ7uXy3xsQLAh1BAjXwXJ96VQMFNAbIPSYq+SQj09+8pOyzz77yG9/+1tbkY3ig54ofOj/sY99zDpy8Mkll1xifHLeeefJqaeeakISgfX3v/9dPvShD8kJJ5xgcUB3OoE//OEPrR7pwHHYDfXPCWmEy+t9sADvUbcI/C984QuWHnvHEeAMZXPKG+VFabIoDiVMPghTyhMsHqXjwjoD6hyB7SDf+EfxUEboQ1uCV1FcfEdxwP+kx+FGdGhJizzm5eYZHsCihzdpa7wDfeFTaF6OvwbqaIvejgYTXlfwB4vgnMfgxT/84Q9WX3TM8AMvfuUrX7F6+9SnPmWLdy+88ELzw8E8LKRjQSFtHFmGscI7OqnQlk4WthsdTPzQEd11111tQagvRPQ67SsIB29gNCHnjj76aJOZdNKIm3MefvGLXywxMmjpKEmxlDVVU2woapmhHl7RdlqXZORqY0TU4h7R3CirtK4s4+cXjRB5Vv283CGrTFjRlHVK6vR1UsU6ZtJYG07vKKCOVa4QJzNpGu8iTb9hzZFof33daUfMWnGzIhdz06nKfqSM6dCOAee9zxSZ9ptnZeq1D8ni5sUygq+vjJSmi+dJukYDU6x29afhsO25MgxPGvZqFe2wrjxBXp0+X9IrSbsl9ADIcJcbTChhaxLKZN1Oe7K2v1gbTjriiCOS9hbTF7/4xaQCK2mP1/bksi9UhU1X6CJUsdr+UO31JrVqkzYo868N0fwSdw6e+UYYtajTe9/7Xtuzrg0uqYWWVNBZupMnT07aAJIKMNsTzH5TwuTxqWWZdtxxR9u7qo07qWVvfkhXrat0+umnpwMPPDCp1dj9nmspPD+qZNJuu+1m++3ZG+xl6wuICzrNmzev2xFvqav0zd9rI7d4uFI3Tkvygyula1/h8ahiTtr5SWoRJxVcS+xD58o+9dtuuy3tvvvutlddheoS+6zdD3yigjapUk7f/OY3kypC298PT3leVTFaPKSlHYN0wQUXJBWgxi/uB/ppxzKNHz/e6o9670899ATSwpF38keZVZgaz8FPt956q/G7WoOWvtPe80heyCf5+sAHPmBnNdx+++32rhwIB2+SFnypyiSttdZaaYMNNkhqpVn5aXdO13IgbuI55ZRTLJ8///nPjT/8fTXAH3mHpyhXzm/lHP7KvcfxzR3P0JL43fUV5Itw2rGxff+Uk/J5vJRz5syZVjc77LCD7VU/6qijLG3tMJkfeFmVuvEifKYdrHTMMccYH2qHyvw6qAfkBjJGO5rpoosusnMYqCfPP2lz5gbxIIO0Y2Bp9LV8Xjb4XzsRSTtwS6QDtPNsvMSZH6RRLJPKrM721NLZmlqS1jP7tlvU82Xq3pfStO2eS+3nqzz2/ebz1c1U96i676f07ImPpfa5ypPtWic4ktNm1G48ozyckIf6vmvveTo7pYd2+V9qu1HD6L85Gil74C1Qtt+7teuvs0nfkebUlO76xr3psXM1vXnqnyCL1RHntSk9fdjU1HGvvtS8t3aqbElapx0tqblzUeKvc6HGMyOlV77zcpq676Op43YySRY0nwPY914JNWuh05NzR48UK4MhP4aptAHZvCALdth+xiI3hqJ9SAgobbp75QyTawOwYSPiUGYt9jBLwHt6wwx1/vKXv7TtbZwSdfjhh9vWsY9+9KNm2bFFjn3sLM7Thiu//vWvbSiXfBEHQ2ff/e53bWic8PTGGRoD5IktR6zM5nQvLHaG4dyKKM2Xl4HhNYbwKAdWGem46wnEp0Lf/DFCwD59Tlxjq19fnYfjylAsC62gCwuhVNh3W8/LAljV0JFheBwWtI8UQDMcfhjS5EQ16gL6MYwIDbE84Slog5XEMLp24CyeH/3oR2YRa+fN+AsaEob4GW7FcqHMKoTL8tFAkOed/LENT5WH5ZNtZ87vTBsx2uR8g/PwvCMMfA+/s7qdfJbLK/6hIyu0uWKZUZectsjqddoY+WB0C2vX4ykXH/mCzxg9oy2US68cnIfZvXLAAQcYb9G+SvkvdzkvljrC+xQNzxyVCz0Gmz+d5li31IVPUTAaUjoqwDsWGdJmyDc8xHQSecK6h/+oY+QbsgI+o94YYWKkkK2J1A/AD3XhRyFzMh0jLc7/fQF1DThvgJEV5BZl4T31Ao/zjZPykHfkF0fVUryiJa31B2kZ1lbru33uQmlpXCy3Tb1D7rjkdrn54uvl8fMekFfPniELfjRLpt54n6yx1mSpG10v7Z1tGpH9M0PbTnsz+7j4bBZyi8j8F2dL40oNUhjXZUxXAHP1tmCNASK2z/1dZeeCUbL+LutL/fh6WZQWS6rXmGdr/De0ygszpsmimWp56x+/rt7JRH5dceqBP4O+mrDKStIyv0nSAsuVld9c199goWYVOnCh4YqSeT6GrhBSCBmUXCWhwXsYnIrRnroNw9IxoCHwzr/lsEpUh5JlnhJFTCfAFSINl4ZDQ2L46x3veIc9M3T7pz/9yRQDK9EZwlRrypQ2SoS0PT+eLm7//fe3hk6DpZGWKwv+PG0aOHFRHvJUrgyl4LsLFxbWHXjggTbc3x/nUwX5/ec//3lTLqRBHqvJ02AAmkCvnGZ+Tx4c0In3XncMYVJvCFCEFvl2nkCQ4ZfOGQqNTiL0Ji38AeqAuOBF6oxwS6u8Xj7mZck7PI+id8Xk33EOz4tauNYJoQy0l97y6DzO/C/lYvEoyiIH34GX2eP09KEftIE/i0L/9fkrB48HJcfwPucJMDztvNaTw285d8ghh9jwMfHQOYBuXodLEzlNSsuNHAPwG/UJndiSSv1Af29DxIHcgIZM7Xj+PT7nV3gRXmfuHtnjaZam2xOQP/AKa3yQj7QLQH4APMT5HXQs6RRb2prPVNB09E9NiuJiN5rcHHXPaZgOzcvEDhm32VhpW0PL9aZGaVizUUasOVIWrrRYZo+bJ7K28iRHrXbxFGAuvVPLxQC+UlCJqRfi1azM0zw2jtL6a1C+Mx98zF0RxQF3jZNwqrRfvHuGbDRSlTkvtO8ypnl0cU5eOwn/feEmmTvhVRm54Th7VxDtsLJNrkutcrSNRa2PhXEN0q6yoHhgjjr9xKV6SlcJrbyahVa2ORW8NjR0zTXXJLW20qabbmpD4LzXRmLfSsE7woKf/vSnSS2NqoZJGeJkePfGG2+0YS2Px+PiyvAW6WrP2I691EaYVAGkc88914botSOQHn30URueqpSWv2eI8yc/+YkNa+Z5dvDOy6gdhLT++uvbEBvDibUKyoqDfpWG3IHThaFxpmF8yD3nCb8/++yzbTiYoUNVkPbOae11AV3VykxqQdlQvgpdC48/98MQqHb2jA85bpX3pXU2GPD8MfzJ1A/lYypgwQLGICuDMDimctSiTx/84AeTWr495tPTwt92221n9J4yZYrxeU6nSnAaXXfddUk7HUmtbJvqcJr1Fn5ZgDz0Nx9ehtIhd/jTv8GXXJnSUcWYjj766CWG3AH+uT/xxBNt2kYNAztS1sMC93/eeedZPTBVyBRL7sfvL7nkkqSdKJM9TJkQP23D/fUG/OEee+yxtP3229uxtSeccEKaMWOGlcvx0IMPpgceeKDYltS/udSZ2lJrmp8WqlM+WaRp3qie916UZr/zuTTzO8+mjoXFdmogOrJ1Q0o3Hfnf1PJ4S3Houl15p+sYVby4Nxty79RU5uvTMyk9/oUH0/NfeDx1PKLla+9QQ3m++iuGy11TWqxuUepcoA/3pzTn0y+mjvc3pc7T9Plh9aNxpVnqXlZ3r9bJI0rvdspDmkVHVC0aT7PGZEPur+iLi1K6Y4frUvufNN9tyIMiLfxvsFDsStQo6IXi6LlyZSgP6wGLMB/CxlWCMqH1MpVxl7DcKoHhbyx/hrfoFXvc+dUtFxZRMUTIcCS9ZCxyFq1gBftJdPRoy6XrZeKQG3rqbu31BOKiHJSJq9Z/n3rj9LqhxWA7bfx9yseyQp4nv/fhUK+T3I/XCfWOtej+eOcuR2/1NRB43Cy4YjSA/MBT5L8nuGWlytTK5mXqCdQfYPU1w6oMnfMDJDn/9wTSAO7febOv9CGcKqWyPDYQBy1AX/PTF+R81BsoJ2D0pDRP/uxX2jx1Xq7e3Y/XX19BeMIyFYC8g3fUuLCpRhZIskD0jttvlw023NBGbBr4AZSucMVBcTNUpTNpPriZLvLqS69K69g2WWXdCVLoqJMFbQukub1F0qvqXw3cjhGLpW4dbVOT9F6DJaxlivHapQuakm0Gx+kj8eNXsaS/JaEx25+tW+NQm9XqpG2OJvwXfT5K3SnqLlY3Vd0GKg82GGUr8PnVuDpNCE4mbsYAbFGeQ9PvbNb/WjUz+s/okLnBQpZibQLmh4FgNuaOaaAMPTK8Vy2c8XsCjE1aDD8Rd0/D+cC/MeT86U9/2oaqEEZve9vbug/j6AmeJ4ayuHcBXE1eBwLix6GoBsstL0CvvghSQH6rpbHTCizrcrqQRqEzTQBPsh4A5dlTmastmyOPi6F92hcH0TCc64qnv3H2h2ak5Xw1GK6veV8WIF9+Lc1fad26n57q3OPrL+hYfOMb37BdCsyZs22NnQ5MK+66y65yykk/NB7s6Gg33UqOtZbM1UuDjO7QjlyTvmW4XY2NV8c0SWH90bZavbFhhIxUVxin30eKPN82XerWUm2r31pSu+lp19nFeItuCehHhvjZ2mYeFXYULPe5U2it6/8FaWtQeTo5yQofW1VaNmiXxZ0vS9OjM2Xxja/Iy5dMl0d/9IC0XdkkaohrHph3b9NQKn+hs/17fU6so9D1bon0BxHLVsosY8DECBWubIfBesaS5YQ45nsAzN5To6WHi+UA0+eNgvvSZ0DHweP0tD1+D4NDYXNF8bOljsU3zIWxf5P5dOZh+e5CsRIQ3MTfkyXljZq8ce9WP+8qhSkFeSENaIHzXv9guGqswGWNSrRx4QctQaV88x6/+KMOe6vHwYbzGfuTmW/FOmfBHvzC+0rw8sGLnn/3Xy4c8cHLjPqQFgq9dP7cy18pXX9Ph5Z75wencTUgHGHK8ddAnPN6pXoeLPQlfuelnmhaCu/ggWrD9Ia83ljzw1z5T3/6U1sMygJROpFNixfJmWedKdfyw0Dkt0P5shPeJKTKk86R0pi0rb2qj89oXJ3t0qFWsaypz9g0ShZybmPJWuzVN1xLNt1mC2lobLAT5KAbUblbApCUcOoK6rezTSPoaoZLWM+gi/yN+mfHxZr/NknbqlI/dqKM+dpEadx/jBTe1yiLJ7RKw9w6efr3T0jnY51ahgZX08V42P9uz13oyljdSI13BJnRPHeNLCTL/xK+B4SSUtUWqGwXDgxLswoWZeYL4nqCMYpyHc4XwyGs8oaRwxukrySHyUnbBSTAjzvgDYKOBsOiLkD5vfVrrrnGBDHplVMGHtZXrJMW8PcOf+ZKpwbhS9lJqxqBwHf3wwpv9jSzX5bFRwNxjErwoxxML7BnGnr1RUAta3id9aXzUa7eliXIJyuP4UdWuKOkqwVTUvhnsRTlyPk2h9cZe5Cx0BkpyhW6h0XhV6pbb1Oelk9XVAuPlwWv7PFnNwk8Cn+VOvbl98a/fPc94YRhVwqGQN65GSw4XcvRdjAx2PE7byNPXMYxlcliQnb4/PnPf7Zf6XvvDjvIQq3XG2+6WVqVB+yIVAUL4Ti8pUEVfIHqf0Xd8yKL61ql8Fa1wFcVadN7QM7thFe9GTVxlIybNNpG0xu0KkiZ7+6WgL9QPTpmzDizppNGSQ5sIR4oCVhoVqW+uF5GLFRDg1PgRunHjfXDvtpZPGZFGXXsirL2N9aV1ddZQ8a9PE4672/W/KtMsJwQc5E/NCX7M/BaOyx1ozQjY4uJOReVJD9g1LRCp/EhLLiyBYfTsbDOcTBib0zuwor5IYQbW1cQWDBwpUbI6naGl/CLkqrUAUBZA7a4sa2DOUd+mAHBS17POussU3SERyCXChOPm8NpGN7E+upJ2CBQmQ6gc0J56KBUKkMpPF7oQb4RvDjKifPnapyH50oZvNNCPryueirH0kA16eU0cJTmtfQ+78yB/DsofR5MUL/wO6ucUY7+w0O91bnnmSkgeIUhVOqrUhinB0P7HNYD/3OIEVat1ysHzJx//vk26lROKXrc8D3fmUby9umuJ3h8XGmf8FV+hfe5x9GWch6u5LxTzpU48jRK818tegpX+i3ns1KU+u1LvMDp6d9czlUL6EkcrElidJHDhNiWxnvkAfRCxuy+++62SwADAn4oAjXXoapc6StNxXTR22qdp5e1zupbZBSrxscVpLmAymcou4hOZU2bFtd7DFw1om3OGo51P47uZ2406QkTVpHEsD4KXSNguxyH2thqe/fMJgIGhR5U/Xvqy/LwSQ9Ix2MdMr9zkcwovChzG16VNFEDv19k/E4TpF37xxwhA7CytW+i5eEZq5s/rUMyqyqgs2mR1I/VjsoK9rlYAL7hBhE1rdBzYYCwoCGjzGG23oRE/p2hI4Shz8H7t7wRIDR5ZpsayvX+++/v3h6GYMtBHDA4V7aoIUA41YuTy7AKiIPw7Gfm6ETSptERlwsnhgKJn4bEHmAsKtIvbZj+TBosuEPQM4rg+e0NlNWFPCfe0etmnzxTA1z9vlrHcaJcr7zySrtymhr7b6EHefPO0kAArZxeXkYXWlxB6fvS+0pXB8+l3/LwIK93f5+/w793YgYTng/2hDPyA20ZcodnqrF8CUsnkcWa0BA+411pvfDOeYPFcPAl+6RpX7znO3nhFD14Dj7mXSVgYRPOFXq18Dww8kZHmKN2nb/gN9J3/qvGwdOEY/sp9ygl5ondGu0LfzoN/N6v7krhfqtBHr70nnpzlKbl9/4e53zZW/ruH9B2p0yZYqfOIaeIA/rQjherbMMf6zYalec23XQTabQ6hY/UT6Fexop2MFuUlvP1tSr0Qjun8qm8XW28FDSehrYGGZW6fv0yc8XUVbbbX9cLd93o8g1raBSjVx0vrXNVYzexsUxfWjmY+y7+clrCO0WHDDeKPHH9VJlx3wxZPHOxjEujpVF7BaNkdNEPin+iyPTR06V+PbXiVTlzLC1HuWrh9CNZYWZdPZMnrYr5cxZKw3hV6OPsc3EKoeh1UFFsCTUKGIzGB5My3I7V7Me38t5dJfg3BAwdAYYVEW7E25Mg/uAHP2gLQ2ByFzYIOzoUNDRXxhyRyPGt/A4yh5fglz2wKHeUOucyczQjh5BQBhoKjvDEhcInjwhRrKmehA2WGr1nRgAQTsRXKf89wRv0YLvBAnFBBxQXlgG0giYMAfPO6wN/PCOkoSl+8Mt39wONXIj7O7ccPYzzGOAd/rgSt1/57g7l6lc6fp7mYII8AZQsHVl4l4WW1QC6eHgWaMK38A5WVynP5PeM/hAO/oJGTO9QfhZHUUbmVOFR6JHD6wGacCwxNGFRHWGcxtXA6Ut8S8v1F14+6ALo2DifeNzwA3D6OJ/k5ffw8DLvfcSFuNyf3zvtnP9zWjq/8Y04SYu2gh9PIy83zsG9x0OHkR0Nhx12mGy//faWd3gAnqnvSuOCCy6QTTbZWN6/267S0Kh0aNB8qNppVEXd2NKl0DnA5Tl1ajqvPXGyrLDqOPuhltGt6qdT259tMNc6xnVlhUunxoNlXA68JZv2FdKuqfeY0Aztazz8tjrlIB64natFreR/ddFLUlivQTb/8BYyZt0xUre4IBObVpbRczUM57ovFnnk/ntlxNv1eRMNb1WmdNf/LX8WEW+UBnQAWkVmTpsp41dbQQqTC8LvxViaGsA6EoOIwZUkQxRYp354AgyYD087c5YDDArz08tEUDE8joAkjDfSHPhF6DG8iVLnbHDOZKYjQeOhISLosB44j5lFRCeeeKJZvjQqGgNDnZzuhMOqYi6dk6Cw5Al38803W5zM9flZ8fzGNXlxl8PLyVwqnQn/hTlQ6rcaeAMfTDdY8LgY+WA48Pbbb7cpCTo//GoYNGCUAjrg8MN55fiBN+iAoVQYqqYucAgtOmecQ06HiDjohNFB5Jk08Q9/3X333TbXigKknoiLZ/zQgaND6D+qgeXMYRzwgCvDwaBHHp48QQt415VAb8j9cBAIipw1Hghp8pgDv56eb4mDt1A0WPjwLufXs4UJCx2aE6ZcPqAl297obDPihGLpDy2choPt+gt4j5EHeIP6gAbwHJ0t5AnyAtryzOmC0IBROHgM/oFPoDvhiIdpDXiReoF38AdfEYZ8wovUFz8khB/ipR3wzvmVOImLHyQif8g01scQny/Gzes2r6/8PSNrbJtluy1XOgTI1mJHo05OOvEkbVMPywknfF8mrFI86MaAhTtL3ZNd7g61YKe9JAtGvaQKTv1wVvvT6l5QN1edwo1fy8kS1cGbrvy9ls3u24567YSO1ACq0EdPGC3ts4rTJ6M71WzX11jS3UAbctT7FtqZ3GCkrPrhiVI3WV+isMk6fZ0WkRmXPS1PNj0lW3x+S6mfqJ0YzbOp81RMVVOUulQv9R0agOhfEpm3aIGMX0cV+goFWdze3JV2sUOxRHEGiIIWbjDjGxLwIsFAKFmEMpYvDYl5ahZk+cIw7xFXAo0CPyyM4QhIjlBEQHkvG5eDtD3dm266yZQ6isOtYm98KHz2oCMIEV4u6PhGesRz44032g8tMGSIkkAoEy/fWPjDED1WFPDORyk8Pn6UhtXzdCD22GOPshZAT3CaVut/eQChR1k5bY+hV5Quipo6RNhAP5QFP1rBe+oTIYZQ83qmXlFkxx9/vNUXoyB0BuiU8Yw/lA70g5fYqsPeWwQrwtTrH2uUThzWC8flnn322TaXjPImHvKK0qPuP/e5z9mPl/Bcjqd6g9cN4N7rFUHLscLwPtuKfLFZT3Xo+ccf8+LMg3LEMB1KlDJ58/gB/EUZ6KiyII02xo/Z0GlhiorRJh99Kpc2tOAdHR3aAz8qwo8mkRboKa9DGU4XZAAnQaIooQe0hXfgDdYb8KMlyASOTMWP8xBh8cPuF8LDo9QnCpp4vJ6pU3j7jDPOMFlAPeeKGT7DD/fQFfpST3RefX0EwA/g9DxOuKS+XEaUgjoDfGNtBJ02jBhGggD5e3zqE2alf/XQQ2TLrbbSt9q+6jS+dpW3qvgW/3WBzL9xjozSv1fmz1YFWNzC1p7ai0PkYxplbvtsmbDzJFltz7UwqVX9Ff8AuhOu58mt9q5PBn/V0a68jLqdrmme+ao8n16Q9Q/ZSOrXVUU8osXiKZgJrzeqtO331heKvPzvF6X5qVZZfeVJ0rBSY/GHY5pEpr78sCxYuUnettsmZr0zrw9eyxkoDuPXN+s7dXKVyC1/u1G2OeA90rBrgzTVL5aGgnYalH5Lhhs4ak6h05BoNACGg9kRthw1SiNBMHEUon934VmOcYELHOKgITAcyBA5ihjwrVJYgGWGJY2VR+Nino9VwIwUkDePH+dVkceHAqHBo5zomKAosMhxdErKhXF4w6Nxc4wl1hrCgTIgXPuiOHpKZ6jA84glgiVOGb3jBi14zxXawyNYKgA/+CU8fiijCye36H24mHBYVDimYhC6CGH4jg4DdUo8fEdYMp+MoiYtnokHP4C6RVAjTF3Zgr7SmDKRR/JGWAQxeWLul/O++aWtajtx5B2HH66MDjGCQeeHI295Rz7zeHgHKAsKDH5lyoiOAGs7euIzaEC7PP30063zQUeMo5Ghay2Ajg7tFtq7EUB98R76MRUC72CtQwf3A03pFPGOaULCYFUD51fCQ3P4Cj+EhfbwAZay0x1eJD1GGuFF/OQ8DagH0qMjBS963fq1FOSHbzhGHhhZoK0QD3W+0QYbycabbGzby1KnmrX8VCjas1PTQzlioTP8jdXLhqMunWrWuypUW5wGVlM3WXmMbOr37iF3vVdOtSDFd9y9dnGwU72+RfPJAe6Xitz4j+tk28PfK41bNErzyIVSV6iXRnoQChbJKeFV/Wte+ZW15/Xlc5rdhe1Sp+ELY5Wea+r79fX9aJFFhebiJjd+9tUyR9HQPUULvbBAX2jRF/34VXlg3sPyru9uLfWrNUhbvRZS6dagXQ0LN5hQxqlZKNPaEYQct6lKNO2///5Je692BCHflCm7fFYGfvCvytCOBuVoS35Jrbc4eK/MvcQRiDm0kXUf/eggjMfHe9KslAZxe/g8XA7/zjG3HDHLLzNp77k7TF9QKY2hhuGSz8FEXmb4knu1wKzOOeZYreZuPsr9loN/h7+4Xn311Uk7r0ktMTs2Vjs8xlelcVRqD5XagKcDVCkl7XDYr3U9k/06Xe5nOGIo5n8w80S9Op+URbt+b+EoWn5GjV/aaycDduk+o9XBfe5K0fW+U8NptKld42nnaFciIs4K4TgCll91s19PuzOluw68ObX9QvMzrzM1dSxIizu7jta18OqPEB1apjZ/p468kmccr/W5ub0ttXa26acunje/PPHbcdo+WvVFk767P6Wpez+YZp7zQupo4VfgOrr+SIuICTh4qN5EG+LQsphTwSKqwGwFJsPUvMPCwPLCMnaLAVep95kDPz78xW9nEx9zTwzBeprlQDi3wJXpLV8qCK1HjaVMz5jv3osG3uMFvKdXT/wqKC0OHHHgPH4vh4crB+Zq6XWzMImeO+jJ/3AG5YJmTiunW0476sTrpZwfrnwnHq+3cv5UoHX7yb/lfqi73uJxP30FYTyfjCCxAImRIOLFmmPokyFWRhucLtWm4/zBj3/w616s9makB550qy4HbYS8UBbKioM+vM95PIfnB6ue+WOmHrDs/Rt5GM586jSvVO84vkO3Sn64Op3cTzl/zgf+XOoHmUOd5H5yv+6cp6uByx6P3+q/o1j/rRoXsTQ2Fk3v4nYubrW89R3SVLdAZhdeFv+bXZgjcwvzZE5hvryMk/kyWxbIIjVxtfTFsIBoPKri5bV33S9eAyEtaW42UuN6i/Xk8Vselo6XO2RMxzg7SKYYFg/Kb+qZVeuLGpo1T/MtPwvqFsr8+iaZq26e5qhVrfAGbQMNBeVtLHGLoJhH8mqL4diVzKv/icwfsUAm7jRJUkOdtOufKnFLTqnS5akYdjBQMwrdhSLbTvi5Uo5UnTJlis0TceAFQk2t6yVWuPcFxM9PEjJczxwtc1kwLkzcExBoCEGuKGA6Bjx7Y+gJfPdw7ghLHLzvKTz5xQ9zmih05tyZ5+pruR2E62/YpYlcQLkw8s6Q09odzzi+9+SHq9eP11k5fz7s6fVS6vDj9dRTPL3VZSXAf4ApHaaBGGLnpC4UOe/gzV133dU6c9AGkE5Pafl38gQPMSzLXmMWVbGVknd8h86lgt95FLrgeuJxwnqbveyyy+wcBhaHMpwMesrjcAI0qFTvOMrZkx+u+MG5n3L+nNb+XOqH4XjqxtNy3s398+x8Qr14J6EnwCeeBuHRTcTdyHO9qhd9V1DFVyjQCUTd6LP+aaoyVv/Gd7lxMkb/H63XUfrMdbS+GWXD0gbYQR1J2P5zveEoV/6KH8uj+wsL4xqTrLTLZOkQ7XDe0iypNUl9m8afmPHG4Vv5Vu3cBlXUYxMb1bR96p9KcLsfWxitijwbKl8i6YLUJy0rSr5dP8wQuffuO2S17SdJ4a110pKauxR5kQ6+Z30wUTMKHcB8rO5k1SYre1mMw+IPVoZy+AErvKth0nIgDIzKSWkwPSt4mZfivTeCngCz05jcGfP3Afh31xsQ9J7GJZdcYj+ewLwk82cuaIc78np0ZelC6o0Ayu7lR3mzIpodEljTCFcsahZesqiKZ6dNX+gDXVG6LOojrgsvvNDmg+H3nni+Gh7HokMZcFwoq7BZPMgcbzVtKTAw0HZM6Wr9MmLISCajL66cqQN4q1pewZ/XN3EsWfdcl3QoNCxj1KU77VLIiKQdA3WjUqOMVqddEP1jkt3jKoXHWRlmLauf9oYO6WzQDuRbkmy225Zyz+33SPu0dpurZ9q76wC7Lminhy5Hgb3nIy2HXEepsuaY2te6Jl3wbECzdi37Qn1gYOK6TlnYsEDW+NjaRhM6ArZAT2nDLgDca4EHB/Xf5wT9GgBMCtFYDMQiDbaFMcTOKlJWkx544IEmMPADM/cVhIPRWTQC019++eWmKFmcBoqVNHgV01/QEBHC5JfFUOxh5zhGVm7zjfdDIZ8DBWVwoePbo6gP35I3GICnoKXTa2nTzRU06C0tvsOP8DL5ZNiaThvD1qw8ph1whgHHcbr//uTf2xWdY47zRKFzTweK945q4vbyQVPaELs/2CnAqmpftNefjkegb2A0C9qfc845ct5555nRw2E8fgAQ7ch5a+nVA/GWONLKH7Ov/UcxdAfL4+q0I4MFvX6DtDzbLIseXigrbL6iFOrZIqk+u86G90S7Lq/hdS9egx0io7AfmRmh7j6RW66/Ubbdb3tpWK9BmuuapbHQWDx8RiOpEM2AUTMK3RUV+yGZh4NJmUvfeOON5Utf+pKtLud7f5mUMDgEHNtDmJPnJCm2QbFS1ePsT9yDCYQmvWTKftFFF9lWIKYKXt9zLmJ557evKFV6rKw95ZRTrLw777yzTa24n4GWjfBLU8GU5tPTqTYtzxtlhu+xtDirABx33HE2IjWQ/JM/eAYFzFD45ptvbts3iYvteh53rth7An6JC15kZTbTBIyksQODqTDiK8ejgd7hnc+e6OedU0YWkYl0+tj1wvn2jMCw0p7tc+zgYXoO4H841wc51xJ0zVQzjaC6oqEgq2wwUZ654ylZNHOhrLh5kfe0oOaPQP0qcYfSnpBPi1x/6T9l0902k7HbjpfW+ubiyXdMPRR9LDXU3LY1epYwYC5kYPbBZExvOFjALObZf//9bSsYWJ7M7+UkT5wPj8XGvKRvhcENlrJbXvAyMq2AYmCBIgqBLVXss2X7Tq7E+ltO6ESnjSFJ5pGhIagUZ96M8nvPbyVBi1/3D+/in/x7GapBzt8el1/9fX+Qx8E6BejNnvxzzz3XRsBYk+Jz5tWkQXxu+bF9lGfm/ZnjJ+7+5jPwGvI6KwVyC9qjtDnaljVGjDDCP7QneJypD7Y64lDsuRwdtiiSRDoK2NHJFr7Vt2m7mF2Q/1x6rWyw5Vtl8nvWVqJpWfUfpKueE7si1zgNc0Tu+eOdsvoGk2TyTm/SFx3FrXkaKYP1/L80UTMWugNGhkGdsV3BO4MPhtDw+Bh6ZDifvcauNJcnPF80XFa0cySsL4QpLXfp83CBl9GVCMfjMl+MlbHNNtu8bigY9LWs0I8wDEuefPLJFh8jPJ5mufh4B6/Bd/h3mvs970uFrb9zf8TvIyk5yqWXw9PGAVeanoeBgjiIDzBttfXWW9t8PWsyQLXpOG1QHsTzoQ99qPswncHI51BFLo+8nOXe9QfOqyzSRQnDp0xdgDxe0oPOWOF+VCsHADnPEQ9XrHeO66VjzIgMqJX60VJIZ9f5sVamcQVZ921vkRGjGqRh7Aiz3F3f9rm0rtCbRSa/abKMf8dK0l7PEbjMmmOZV99BHwiWrwZaCoBoMKYLtLznP1gEJR4cjQSFzlY4nr2BLm8wB4bri/U0HAB9ETychMVCKn6YhhX8zAliSbM4jAMuWHAFvJ76C+afsUxJg90SrjDJR2ld+0JE+I3pHraQYcnywxUsOALkHX/wDfc4wOFDTBmw3oORFcrmZSiXVjmQrtc3Vy+3h68mjt7gcXKgDtYbiiNPqzdAH/JBGKbCfNQDDEb+hiKob+hD2eEf6tz5aCC86XC6wUNnnnmm7Woh/tI6d15jpwIHyDAt6TISwD+ADgEHJHF0Me2qJuoFMpsr/jCLcqHdK/Xs189GrT1OCsx7uze7qxZdISAjUa6sT+tqZ0Hppq3RPqW+R9pv1JyF7qjEiIPRiHLQYAENY7Dj7i9o0DgXJFxL3XAE+UYZYkEwV4x1zqI/ykg9oODZ4bDJJpvYnG9/y+pCDjDcfsUVV9hqcdZL5HR1HuMdwpE5SY6MZU6frY10BJhzZmqGjgFrL/Jz9AnPr9exMIyzvikbc8ssTuIoVLZyYQn3pwzA89dfOpQLxzPKwS2+vsbrceaKzt/VIuALTgmknhnixoqmkwf9fNQnr6e+wmlHJ8uPFmYEhXfE7XF6fbH4jXPbOZ+ALbi8w59/Jzy/FUE4jrj246Y9nuELaJxMr6LSufLTqfwuenFBG3Tkf9C/snKqCyMA7Ul5u474lP5df/2Ns89QZqo5KHOWdUsDSzPuwJLI6xLHCWicAHjAAQekZ599tstX8QQr96OWblIlaU4tkyUcp575t1LH6WWcjEb4ww47LH3kIx9Jjz32mMVPON6Tjju1kNJXvvKVdNBBByXtWKT58+enWbNmJRXkdmKbWqXpox/9aFLFbadrEfeRRx6Zdt5553TZZZfZs4P4zjnnnHTUUUeladOmdZ/+Fhg+UOvW6uzJJ59Me+21Vzr88MPTo48+mubMmZPuvPPOtPvuu6fLL7/c+Ay/OS/1xcEb8Cv311xzTdpqq62M/3hP3LwnH85DRx99dNJOajrppJOM5+BF3vv1wQcfTGuuuWbSzmd66qmnLHztgDbk7UjlQ/epbfzxPLA2Voz9tViL8Q0szr6i5obctUxdd4FaBPXLUKAKGjsVjTk/FiRyAp4KNvumgsn8YlUwp46VgcPazh1WvH8rdQwHEyfh+fEVrGV+qAVLmuFJn6v3oUx+RAeL6wc/+IFZ88TNFiC2ZGGd7bnnnmaZsZWMhWWsQmfvOMPsn/jEJywO8s5QO2XkRzKwurDUKRflDd4eHoD/vK6YdoEX+PVEdsMw4oIVzC+msUODenXAr/BUXxy8CL/ChxwixGJFeIy24cPoOd+w0JNnwpJeqeXNM1MplIFRlNpCbiljNysNu//cku4/irG/FmsxvoHF2VfU5K+tOUqLVsq8gwFPY2nEHXg9nN4MYbNal4NJUKIcHMTQIUIMYQWY9/7Vr35lBwsRLueHUt6oBAQl8TLvyF53OgL86Airs1HcpEdczH2z6puFRDwzT0w+EIr44bRCfvWM+XGG7pmf5wdP2FoG7+AHIUoYhDxp3nHHHeb23ntvW3iZly0wdOF1TmeTbaPs3eeHneAb6pE1FkwV0cnjh4JcdjAPTqcO9EWeOJ8RBt6jPTCXztY00mC+nPZCJ/TrX/+6/QgOHUoWx6G8ySt87nzKFjb4j2kttkNyHxgeqGnpEEq2toCwcosGZY31ihWL0Mm3lTkQRLx3K517d6XPPTmUONY6ShrBSXy+kpg0+PUqvuEP4YpgJB8498e+bbbVMb/Jz5KyqIy9195hIFypsvaf3HVFD6rtiASWH6hPFChXDrdisSZHUVP3u+22m43ycNAVFjv1CZ/wjp915ux8zo1gFXq1jrnwHXfc0e7Z3YL1j4XOds699trL2gl5IR34mKuPInCfA/6mjdE+GFkAwXPDB2GhDxCextKIO/B6uAJEAPpvbfMb7whHV36DbckyTMnvA2Cls4CNxW3kweue7W0MubPvn84F7/me5wHLCx7h50j54SC+Y7V98YtftF0SgO+ExXHP0Dyn4DFsT8fFhXLw2vABw+ucxsa+b7aWsUAOXuB3y1lA6T9VyrQKP5HMbo3+1K+P6tCB5Dx/Fozus88+tjWNKSnaBJ1OTofDOoefjzjiCOuwEs4tdCx7LHR277A4k/w53wWGPt4wFvrSYkjiDWZf9mB7GoIRyxerA+X51FNP2dn1DHEioFw55s6VfjUOawXHnCTDpyeccIKl59+pdwQpWwR55kdR8E/a7gdLDYcwZS4e5Y91hiBF8HKcKr/ch0DHMYfOlbAodPwRlryD4LWhDecz+AXLmHo86qijbFsiux5+97vfmdXOPSM7+IVfsIbZncE0zlZbbdVnh/XPlW1pfrAUfMuRz8TtfEMa8BPD++TN4fd0OADbCvHnI2KB4YGaVuggFG5tgiFFhgURUAx1Ixj51S4UIlZKPkSdu2qBYsYy4df76ChgzfipWsTtPOVxIkzxS2eCfGHtAIQi+UGZM9/PvCbb2oiPuBhdYM86nRMEL2HpoCDwiQ9BzdB8XqbA0AV8A37729/aug7O1Wdkh/plkSTD6hyCxKiMW+c4+Mg7kH1xxMsIErzEtk34jA4EQ/C8w0/O93Qm6IDCp3wDdCiIB3+MIvDMtjZf+An4lscTGJoICREYlmBxkVvhWBFYu1z5kQ8EpQNhiVDqi0MQopC5ooSxcjg5i/R4nw9BuhXDgieGNjnSlI4FnQB+cpQ97Ahw9v+edNJJNodKHCyqO/30002wY0ntu+++pugZEuXnSlH4u+++++uG9wNDG15PHEnMeejUNx011kOgIDmpjR/SQdnTUUOpwnPwE7zUH0cnkPAsdmPah7l04qUTyHePm7yxQA7+YnEmc/u845uf2MfUAHwM75Ff75gGhgdqeg49UHtAySKgGDJkWJFVuQhLhBDbv/wX9Vzhgvy+GjBEjiDDWjnttNPsiFIsFgQfypX4K4G5S5Q4Cp14EOYIWObB+RGV0rCswGf+neNrsZr4jhXFL+RxlC1Cmfz3tQyB5QM6ffAI9clBMvyWAtsZUY7MkfMrjWyBZC2FH50L+lu/KG54ldMT99tvP9taCb/Bq8Djpd0AnpmnZ/3GAw88IN/61rfsiGjiwbqnI0Knkt9GoBylCD4c2giFHhjWYDgTIeOLewYD3iR8BIB4SSMXZqWCLW9GfCNfvEOhe76ID4WNywWsx+Uro/nOO/fv3/0aGNrwTic/48yiRtZN8I4hd1aho9D5jiIeaJ16B4KOIfP0DOkzQpXzTSWwOJP84Y8hdxbCHXzwwbatkni9MxkYPgiFHhiWKFWIPLsgzYVQ6XM18CZRGq60qZT7jitNszSvDvcP8m+8Yxg/lHltohI/DBVgrZfrxAaGPkKhB2oK5di5v0Kpt6ZRKd7+5sHD5X7LvQsMHzDqArwefU57sOoz5zWs6mqtfsKhuHP+wrki93eB4YVQ6IFABZQ2jb4IuDxsfwVjLmwDgXIYDD6rhOC/4YdQ6IFAILAUsDSVbSBQDqHQA4FAIBCoAcQ+9EAgEAgEagCh0AOBQCAQqAGEQg8EAoFAoAYQCj0QCAQCgRpAKPRAIBAIBGoAodADgUAgEKgBhEIPBAKBQKAGEAo9EAgEAoEaQCj0QCAQCARqAKHQA4FAIBCoAYRCDwQCgUCgBhAKPRAIBAKBGkAo9EAgEAgEagCh0AOBQCAQqAGEQg8EAoFAoAYQCj0QCAQCgRpAKPRAIBAIBGoAodADgUAgEKgBhEIPBAKBQKAGEAo9EAgEAoEaQCj0QCAQCARqAKHQA4FAIBCoAYRCDwQCgUCgBhAKPRAIBAKBGkAo9EAgEAgEagCh0AOBQCAQqAGEQg8EAoFAoAYQCj0QCAQCgRpAKPRAIBAIBGoAodADgUAgEKgBhEIPBAKBQKAGEAo9EAgEAoEaQCj0QCAQCARqAKHQA4FAIBCoAYRCDwQCgUCgBhAKPRAIBAKBYQ+R/w9ibZUwSSlRpQAAAABJRU5ErkJggg==)"
      ],
      "metadata": {
        "id": "toBQbnmSlYYl"
      }
    },
    {
      "cell_type": "markdown",
      "source": [
        "\\begin{equation}\n",
        "\\frac{96.93e^{-.5}}{s^2+5.033s+80.78} \\times \\frac{1}{s}\\\\\n",
        "\\end{equation}"
      ],
      "metadata": {
        "id": "yHgqUBJolcHW"
      }
    },
    {
      "cell_type": "markdown",
      "source": [
        "\\begin{equation}\n",
        "\\frac{96.93e^{-.5}}{(s^2+5.033s+80.78)s}\n",
        "\\end{equation}"
      ],
      "metadata": {
        "id": "wLeeVCl3mSWI"
      }
    },
    {
      "cell_type": "markdown",
      "source": [
        "\\begin{equation}\n",
        "f(\\infty) = \\lim_{s \\to 0}= \\frac{96.93e^{-.5}}{(s^2+5.033s+80.78)s} = \\frac{96.93e^{-.5}}{(0^2+5.033(0)+80.78)0} = \\frac{96.93e^{-.5}}{0}\n",
        "\\end{equation}"
      ],
      "metadata": {
        "id": "1-AClCXFmmxF"
      }
    }
  ]
}