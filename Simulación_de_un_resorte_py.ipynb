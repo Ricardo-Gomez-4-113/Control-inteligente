{
  "nbformat": 4,
  "nbformat_minor": 0,
  "metadata": {
    "colab": {
      "provenance": [],
      "authorship_tag": "ABX9TyN/z+rk218IbYIHi8KzzVFw",
      "include_colab_link": true
    },
    "kernelspec": {
      "name": "python3",
      "display_name": "Python 3"
    },
    "language_info": {
      "name": "python"
    }
  },
  "cells": [
    {
      "cell_type": "markdown",
      "metadata": {
        "id": "view-in-github",
        "colab_type": "text"
      },
      "source": [
        "<a href=\"https://colab.research.google.com/github/Ricardo-Gomez-4-113/Control-inteligente/blob/main/Simulaci%C3%B3n_de_un_resorte_py.ipynb\" target=\"_parent\"><img src=\"https://colab.research.google.com/assets/colab-badge.svg\" alt=\"Open In Colab\"/></a>"
      ]
    },
    {
      "cell_type": "code",
      "source": [
        "\"Simulación de un resorte\"\n",
        "from vedo import *\n",
        "\n",
        "L = 0.1  # posición del resorte en reposo\n",
        "x0 = 0.85  # coordenada inicial x del bloque\n",
        "k = 25  # constante del resorte\n",
        "m = 20  # masa del bloque\n",
        "b = 0.5  # fricción viscosa (proporcional a la velocidad)\n",
        "dt = 0.15  # paso de tiempo\n",
        "\n",
        "# condiciones iniciales\n",
        "v = vector(0, 0, 0.2)\n",
        "x = vector(x0, 0, 0)\n",
        "xr = vector(L, 0, 0)\n",
        "sx0 = vector(-0.8, 0, 0)\n",
        "offx = vector(0, 0.3, 0)\n",
        "\n",
        "plt = Plotter(size=(1050, 600))\n",
        "\n",
        "plt += Box(pos=(0, -0.1, 0), size=(2.0, 0.02, 0.5),c=\"gray\")  # piso\n",
        "plt += Box(pos=(-0.82, 0.15, 0), size=(0.04,0.50,0.3), c=\"\")  # pared\n",
        "\n",
        "bloque = Cube(pos=x, side=0.2,)\n",
        "resorte = Spring(sx0, x, r1=0.06, thickness=0.01, c=\"red\")\n",
        "plt += [bloque, resorte, __doc__]\n",
        "\n",
        "def loop_func(event):\n",
        "    global v, x\n",
        "    F = -k * (x - xr) - b*v  # fuerza y fricción\n",
        "    a = F / m  # aceleración\n",
        "    v = v + a*dt  # velocidad\n",
        "    x = x + v*dt + 1/2 * a * dt**2  # posición\n",
        "\n",
        "    bloque.pos(x)  # actualizar posición del bloque y rastro\n",
        "    resorte.stretch(sx0, x)  # estirar helicoide en consecuencia\n",
        "    plt.render()\n",
        "\n",
        "plt.add_callback(\"timer\", loop_func)\n",
        "plt.timer_callback(\"start\")\n",
        "plt.show().close()"
      ],
      "metadata": {
        "id": "C_q0s1hJ0ahC"
      },
      "execution_count": null,
      "outputs": []
    }
  ]
}