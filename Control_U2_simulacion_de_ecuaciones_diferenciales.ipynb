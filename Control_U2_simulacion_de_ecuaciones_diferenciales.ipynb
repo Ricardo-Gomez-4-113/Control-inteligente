{
  "nbformat": 4,
  "nbformat_minor": 0,
  "metadata": {
    "colab": {
      "provenance": [],
      "authorship_tag": "ABX9TyO/ElGXWbSm2U6BL0vxdoTe",
      "include_colab_link": true
    },
    "kernelspec": {
      "name": "python3",
      "display_name": "Python 3"
    },
    "language_info": {
      "name": "python"
    }
  },
  "cells": [
    {
      "cell_type": "markdown",
      "metadata": {
        "id": "view-in-github",
        "colab_type": "text"
      },
      "source": [
        "<a href=\"https://colab.research.google.com/github/Ricardo-Gomez-4-113/Control-inteligente/blob/main/Control_U2_simulacion_de_ecuaciones_diferenciales.ipynb\" target=\"_parent\"><img src=\"https://colab.research.google.com/assets/colab-badge.svg\" alt=\"Open In Colab\"/></a>"
      ]
    },
    {
      "cell_type": "markdown",
      "source": [
        "\\begin{equation}\n",
        "x(t_p) = -\\frac{1}{2}gt_p^2 + 10t_p\n",
        "\\end{equation}\n",
        "\\begin{equation}\n",
        "x(t) = -gt\n",
        "\\end{equation}"
      ],
      "metadata": {
        "id": "0QzZxgVJtv5m"
      }
    },
    {
      "cell_type": "code",
      "execution_count": 2,
      "metadata": {
        "colab": {
          "base_uri": "https://localhost:8080/",
          "height": 265
        },
        "id": "j--n0NSztq2P",
        "outputId": "cc042f1a-d2d7-44b4-b4c0-86687089621e"
      },
      "outputs": [
        {
          "output_type": "display_data",
          "data": {
            "text/plain": [
              "<Figure size 432x288 with 1 Axes>"
            ],
            "image/png": "[encoded data removed]"
          },
          "metadata": {
            "needs_background": "light"
          }
        }
      ],
      "source": [
        "import numpy as np\n",
        "from scipy.integrate import odeint\n",
        "import matplotlib.pyplot as plt\n",
        "\n",
        "# Definimos el incio, fin de la simulacion y el incremento para la simulacion\n",
        "tstart = 0\n",
        "tstop = 5\n",
        "increment = 1\n",
        "\n",
        "# Definimos las constantes\n",
        "g = 9.81\n",
        "tp = 1.02\n",
        "x0 = 0\n",
        "# Creamos un arreglo con las constantes\n",
        "t = np.arange(tstart, tstop+increment, increment)\n",
        "\n",
        "# Definimos una funcion con la ecuacion a simular\n",
        "def mydiff(x,g,tp):\n",
        "  dxdt = -g*tp + 10\n",
        "  return dxdt\n",
        "# Resolvemos la ecuacion\n",
        "x = odeint (mydiff,x0,t,args=(tp,))\n",
        "#Graficamos\n",
        "plt.plot (x)\n",
        "plt.grid()\n",
        "plt.show()"
      ]
    }
  ]
}