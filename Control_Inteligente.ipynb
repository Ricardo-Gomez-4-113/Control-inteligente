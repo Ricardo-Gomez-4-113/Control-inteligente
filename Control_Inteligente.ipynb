{
  "nbformat": 4,
  "nbformat_minor": 0,
  "metadata": {
    "colab": {
      "provenance": [],
      "authorship_tag": "ABX9TyOl4SZVa//Q24dgXj7TP3bF",
      "include_colab_link": true
    },
    "kernelspec": {
      "name": "python3",
      "display_name": "Python 3"
    },
    "language_info": {
      "name": "python"
    }
  },
  "cells": [
    {
      "cell_type": "markdown",
      "metadata": {
        "id": "view-in-github",
        "colab_type": "text"
      },
      "source": [
        "<a href=\"https://colab.research.google.com/github/Ricardo-Gomez-4-113/Control-inteligente/blob/main/Control_Inteligente.ipynb\" target=\"_parent\"><img src=\"https://colab.research.google.com/assets/colab-badge.svg\" alt=\"Open In Colab\"/></a>"
      ]
    },
    {
      "cell_type": "markdown",
      "source": [
        "# **Tarea de control ineligente**\n",
        "\n",
        "# ***Por: Ricardo Gomez Martinez***"
      ],
      "metadata": {
        "id": "nczGa2-tihw1"
      }
    },
    {
      "cell_type": "markdown",
      "source": [
        "# Ejercicio 1 \n",
        "Un sistema de medición de luminosidad con curva de respuesta es utilizado en \n",
        "un cuarto, se realizaron 3 mediciones por cada operario (operario a y operario b) para verificar los resultados, ya que éstos tuvieron ciertas discrepancias. Las mediciones entregadas por el luxómetro fueron:\n",
        "\n",
        "\n",
        "* 1a: 300lx, lb: 250 lx\n",
        "* 2a: 190 lx, 2b: 320 lx\n",
        "* 3a: 280 lx, 3b 350 lx\n",
        "\n",
        "\n",
        "Se cambio el instrumento de medicion y se concluyo que la luminosidad en el cuarto era de 305 lx. Determina exactitud (error absoluto y error relativo), fidelidad, incertidumbre y reproducibilidad del prirner instrumento de medición \n",
        "utilizado. "
      ],
      "metadata": {
        "id": "_L04yLAdn9gt"
      }
    },
    {
      "cell_type": "markdown",
      "source": [
        "# **Error absoluto y error relativo**\n",
        "\n",
        "\n"
      ],
      "metadata": {
        "id": "aJ5QmZ4BiLNi"
      }
    },
    {
      "cell_type": "markdown",
      "source": [
        "\\begin{equation}\n",
        "\\text{Error absoluto = resultado - valor verdadero}\n",
        "\\end{equation}\n",
        "\n",
        "\\begin{equation}\n",
        "\\text{Error relativo =} \\tfrac{\\text{Error absoluto}} {\\text{Valor verdadero}}\n",
        "\\end{equation}\n",
        "\n"
      ],
      "metadata": {
        "id": "xNevOhr8jhvJ"
      }
    },
    {
      "cell_type": "markdown",
      "source": [
        "# Error absoluto"
      ],
      "metadata": {
        "id": "FIiRsr6Ezwm2"
      }
    },
    {
      "cell_type": "markdown",
      "source": [
        "# Medicion 1 (Operarios a y b)"
      ],
      "metadata": {
        "id": "OgQycMJ5t0Gt"
      }
    },
    {
      "cell_type": "code",
      "execution_count": null,
      "metadata": {
        "colab": {
          "base_uri": "https://localhost:8080/"
        },
        "id": "aYcrfC_xf6CE",
        "outputId": "e2e9e93c-bade-4f57-dc6d-792d9ff93c2b"
      },
      "outputs": [
        {
          "output_type": "stream",
          "name": "stdout",
          "text": [
            "El error absoluto para el operio a en la medicion 1 es: -5\n",
            "\n",
            "El error absoluto para el operio b en la medicion 1 es: -55\n"
          ]
        }
      ],
      "source": [
        "# Definimos las constantes (valor verdadero como vv).\n",
        "vv=305\n",
        "# Definimos los resultados obtenidos para las maediciones.\n",
        "# Medicion 1 (Operarios a y b como a1 y b1).\n",
        "a1=300\n",
        "b1=250\n",
        "# Plasmamos la ecuacion para el error absoluto en la siguiente linea para cada operario y definimos error apsoluto como ea.\n",
        "# Operio a\n",
        "ea1a=a1-vv\n",
        "print (\"El error absoluto para el operio a en la medicion 1 es: \"+ str(ea1a)+\"\\n\")\n",
        "# Operio b\n",
        "ea1b=b1-vv\n",
        "print (\"El error absoluto para el operio b en la medicion 1 es: \"+ str(ea1b))"
      ]
    },
    {
      "cell_type": "markdown",
      "source": [
        "# Medicion 2 (Operarios a y b)"
      ],
      "metadata": {
        "id": "814gcZJUweDR"
      }
    },
    {
      "cell_type": "code",
      "execution_count": null,
      "metadata": {
        "colab": {
          "base_uri": "https://localhost:8080/"
        },
        "outputId": "deac93b1-54ac-4854-f6e0-8d890d0644b3",
        "id": "xtG1QPe2wkAa"
      },
      "outputs": [
        {
          "output_type": "stream",
          "name": "stdout",
          "text": [
            "El error absoluto para el operio a en la medicion 2 es: -115\n",
            "\n",
            "El error absoluto para el operio b en la medicion 2 es: 15\n"
          ]
        }
      ],
      "source": [
        "# Definimos las constantes (valor verdadero como vv).\n",
        "vv=305\n",
        "# Definimos los resultados obtenidos para las maediciones.\n",
        "# Medicion 2 (Operarios a y b como a2 y b2).\n",
        "a2=190\n",
        "b2=320\n",
        "# Plasmamos la ecuacion para el error absoluto en la siguiente linea para cada operario y definimos error apsoluto como ea.\n",
        "# Operio a\n",
        "ea2a=a2-vv\n",
        "print (\"El error absoluto para el operio a en la medicion 2 es: \"+ str(ea2a)+\"\\n\")\n",
        "# Operio b\n",
        "ea2b=b2-vv\n",
        "print (\"El error absoluto para el operio b en la medicion 2 es: \"+ str(ea2b))"
      ]
    },
    {
      "cell_type": "markdown",
      "source": [
        "# Medicion 3 (Operarios a y b)"
      ],
      "metadata": {
        "id": "BIkd_b8Qy1kE"
      }
    },
    {
      "cell_type": "code",
      "execution_count": null,
      "metadata": {
        "colab": {
          "base_uri": "https://localhost:8080/"
        },
        "outputId": "822549d5-ece7-4c69-c1e3-bb8a5f11fbea",
        "id": "2JBsGH5tywQt"
      },
      "outputs": [
        {
          "output_type": "stream",
          "name": "stdout",
          "text": [
            "El error absoluto para el operio a en la medicion 2 es: -25\n",
            "\n",
            "El error absoluto para el operio b en la medicion 2 es: 45\n"
          ]
        }
      ],
      "source": [
        "# Definimos las constantes (valor verdadero como vv).\n",
        "vv=305\n",
        "# Definimos los resultados obtenidos para las maediciones.\n",
        "# Medicion 2 (Operarios a y b como a3 y b3).\n",
        "a3=280\n",
        "b3=350\n",
        "# Plasmamos la ecuacion para el error apsoluto en la siguiente linea para cada operario y definimos error apsoluto como ea.\n",
        "# Operio a\n",
        "ea3a=a3-vv\n",
        "print (\"El error absoluto para el operio a en la medicion 3 es: \"+ str(ea3a)+\"\\n\")\n",
        "# Operio b\n",
        "ea3b=b3-vv\n",
        "print (\"El error absoluto para el operio b en la medicion 3 es: \"+ str(ea3b))"
      ]
    },
    {
      "cell_type": "markdown",
      "source": [
        "# Error relativo"
      ],
      "metadata": {
        "id": "ShQjcn5yz15O"
      }
    },
    {
      "cell_type": "markdown",
      "source": [
        "# Medicion 1 (Operarios a y b)"
      ],
      "metadata": {
        "id": "Miku4Xzn6YWb"
      }
    },
    {
      "cell_type": "code",
      "execution_count": null,
      "metadata": {
        "colab": {
          "base_uri": "https://localhost:8080/"
        },
        "outputId": "e539aa6c-46ca-4698-8449-68f1afddf206",
        "id": "PZQv2_lJ03e5"
      },
      "outputs": [
        {
          "output_type": "stream",
          "name": "stdout",
          "text": [
            "El error relativo para el operio b en la medicion 1 es: -1.64%\n",
            "\n",
            "El error relativo para el operio b en la medicion 1 es: -18.03%\n"
          ]
        }
      ],
      "source": [
        "# Definimos las constantes (valor verdadero como vv, incluimos los errores absolutos calculados con anterioridad (ea1a y ea1b, ea2a y ea2b, ea3a y ea3b), y los integramos en la ecuacion.\n",
        "vv=305\n",
        "# Definimos error relativo como er y agrgamos la ecuacion\n",
        "# Oprario a\n",
        "er1a=(ea1a/vv)*100\n",
        "print(\"El error relativo para el operio b en la medicion 1 es: \" + \"{:.2f}%\\n\".format(er1a))\n",
        "# Oprario b\n",
        "er1b=(ea1b/vv)*100\n",
        "print(\"El error relativo para el operio b en la medicion 1 es: \" + \"{:.2f}%\".format(er1b))"
      ]
    },
    {
      "cell_type": "markdown",
      "source": [
        "# Medicion 2 (Operarios a y b)"
      ],
      "metadata": {
        "id": "-ZH3Hjk1lt8M"
      }
    },
    {
      "cell_type": "code",
      "execution_count": null,
      "metadata": {
        "colab": {
          "base_uri": "https://localhost:8080/"
        },
        "outputId": "48e3bcb4-f6d2-49fe-9ea0-fb9dc6dd398a",
        "id": "xmH0dtAMl0T4"
      },
      "outputs": [
        {
          "output_type": "stream",
          "name": "stdout",
          "text": [
            "El error relativo para el operio b en la medicion 1 es: -37.70%\n",
            "\n",
            "El error relativo para el operio b en la medicion 1 es: 4.92%\n"
          ]
        }
      ],
      "source": [
        "# Definimos las constantes (valor verdadero como vv, incluimos los errores absolutos calculados con anterioridad (ea1a y ea1b, ea2a y ea2b, ea3a y ea3b), y los integramos en la ecuacion.\n",
        "vv=305\n",
        "# Definimos error relativo como er y agrgamos la ecuacion\n",
        "# Oprario a\n",
        "er2a=(ea2a/vv)*100\n",
        "print(\"El error relativo para el operio b en la medicion 2 es: \" + \"{:.2f}%\\n\".format(er2a))\n",
        "# Oprario b\n",
        "er2b=(ea2b/vv)*100\n",
        "print(\"El error relativo para el operio b en la medicion 2 es: \" + \"{:.2f}%\".format(er2b))"
      ]
    },
    {
      "cell_type": "markdown",
      "source": [
        "# Medicion 3 (Operarios a y b)"
      ],
      "metadata": {
        "id": "YjSrnwujnMZp"
      }
    },
    {
      "cell_type": "code",
      "execution_count": null,
      "metadata": {
        "colab": {
          "base_uri": "https://localhost:8080/"
        },
        "outputId": "4c0482e2-385e-4c92-98bf-87bb541e7b05",
        "id": "kIkAnKSHnSMu"
      },
      "outputs": [
        {
          "output_type": "stream",
          "name": "stdout",
          "text": [
            "El error relativo para el operio b en la medicion 3 es: -8.20%\n",
            "\n",
            "El error relativo para el operio b en la medicion 3 es: 14.75%\n"
          ]
        }
      ],
      "source": [
        "# Definimos las constantes (valor verdadero como vv, incluimos los errores absolutos calculados con anterioridad (ea1a y ea1b, ea2a y ea2b, ea3a y ea3b), y los integramos en la ecuacion.\n",
        "vv=305\n",
        "# Definimos error relativo como er y agrgamos la ecuacion\n",
        "# Oprario a\n",
        "er3a=(ea3a/vv)*100\n",
        "print(\"El error relativo para el operio b en la medicion 3 es: \" + \"{:.2f}%\\n\".format(er3a))\n",
        "# Oprario b\n",
        "er3b=(ea3b/vv)*100\n",
        "print(\"El error relativo para el operio b en la medicion 3 es: \" + \"{:.2f}%\".format(er3b))"
      ]
    },
    {
      "cell_type": "markdown",
      "source": [
        "# Fidelidad e incertidumbre "
      ],
      "metadata": {
        "id": "v9VxBlDFoNap"
      }
    },
    {
      "cell_type": "markdown",
      "source": [
        "\\begin{equation}\n",
        "\\text{Incertidumbre = valor máximo - valor mínimo}\n",
        "\\end{equation}\n",
        "\n",
        "\\begin{equation}\n",
        "\\text{fidelidad = |val_med1 - val_med2|}\n",
        "\\end{equation}\n",
        "\n"
      ],
      "metadata": {
        "id": "oWfKSwlVqQ4j"
      }
    },
    {
      "cell_type": "markdown",
      "source": [
        "# Incertidumbre"
      ],
      "metadata": {
        "id": "PLZIAtWcs71P"
      }
    },
    {
      "cell_type": "markdown",
      "source": [
        "# Incertidumbre (a y b)"
      ],
      "metadata": {
        "id": "NjoAXcFhs4cS"
      }
    },
    {
      "cell_type": "code",
      "source": [
        "# Definimos los valores maximo y minimo como vmax y vmin\n",
        "# Utilizamos la funcion max y min para realizar la tarea anterior\n",
        "\n",
        "# vmax a\n",
        "vmaxa=max([a1, a2, a3])\n",
        "# vmax b\n",
        "vmaxb=max([b1, b2, b3])\n",
        "# vmin a\n",
        "vmina=min([a1, a2, a3])\n",
        "# vmin b\n",
        "vminb=min([b1, b2, b3])\n",
        "\n",
        "# Incertidumbre a\n",
        "# Definimos la formula(incertidumbre queda como inca)\n",
        "inca=vmaxa - vmina\n",
        "print(\"La incertidumbre para a es: \"+str(inca)+\"\\n\")\n",
        "\n",
        "# Incertidumbre b\n",
        "# Definimos la formula(incertidumbre queda como incb)\n",
        "incb=vmaxb - vminb\n",
        "print(\"La incertidumbre para b es: \"+str(incb))\n"
      ],
      "metadata": {
        "colab": {
          "base_uri": "https://localhost:8080/"
        },
        "id": "kcboT2fptHFm",
        "outputId": "1e5af5fe-aedb-4e64-e6c6-1015231f6c92"
      },
      "execution_count": null,
      "outputs": [
        {
          "output_type": "stream",
          "name": "stdout",
          "text": [
            "La incertidumbre para a es: 110\n",
            "\n",
            "La incertidumbre para b es: 100\n"
          ]
        }
      ]
    },
    {
      "cell_type": "markdown",
      "source": [
        "# Fidelidad"
      ],
      "metadata": {
        "id": "ESRfyjV23QOh"
      }
    },
    {
      "cell_type": "markdown",
      "source": [
        "# a"
      ],
      "metadata": {
        "id": "CWpbndyh-MrO"
      }
    },
    {
      "cell_type": "code",
      "source": [
        "# Utilizamos los valores de las medidads previamente declaradas\n",
        "# Y aplicamos la formula, definimos la fidelidad como fa1, fa2 y fa3\n",
        "\n",
        "# la fidelidad de a1\n",
        "fa1=abs(a1-a2)\n",
        "print(\"La fidelidad 1 de a es: \" + str(fa1) + \"\\n\")\n",
        "# la fidelidad de a2\n",
        "fa2=abs(a1-a3)\n",
        "print(\"La fidelidad 2 de a es: \" + str(fa2) + \"\\n\")\n",
        "# la fidelidad de a2\n",
        "fa3=abs(a3-a2)\n",
        "print(\"La fidelidad 3 de a es: \" + str(fa3) + \"\\n\")"
      ],
      "metadata": {
        "colab": {
          "base_uri": "https://localhost:8080/"
        },
        "id": "1J_8cpo23T2h",
        "outputId": "2d04f447-cec2-4007-dc1d-3e2113bbd1cc"
      },
      "execution_count": null,
      "outputs": [
        {
          "output_type": "stream",
          "name": "stdout",
          "text": [
            "La fidelidad 1 de a es: 110\n",
            "\n",
            "La fidelidad 2 de a es: 20\n",
            "\n",
            "La fidelidad 3 de a es: 90\n",
            "\n"
          ]
        }
      ]
    },
    {
      "cell_type": "markdown",
      "source": [
        "# b"
      ],
      "metadata": {
        "id": "3oe1m7zb-POP"
      }
    },
    {
      "cell_type": "code",
      "source": [
        "# Utilizamos los valores de las medidads previamente declaradas\n",
        "# Y aplicamos la formula tomado el absoluto de cada resta, definimos la fidelidad como fb1, fb2 y fb3\n",
        "\n",
        "# la fidelidad de b1\n",
        "fb1=abs(b2-b1)\n",
        "print(\"La fidelidad 1 de b es: \" + str(fb1) + \"\\n\")\n",
        "# la fidelidad de b2\n",
        "fb2=abs(b3-b1)\n",
        "print(\"La fidelidad 2 de b es: \" + str(fb2) + \"\\n\")\n",
        "# la fidelidad de b2\n",
        "fb3=abs(b3-b2)\n",
        "print(\"La fidelidad 3 de b es: \" + str(fb3) + \"\\n\")"
      ],
      "metadata": {
        "colab": {
          "base_uri": "https://localhost:8080/"
        },
        "outputId": "94edc86d-5090-4b2a-ea8d-16d7a661fc08",
        "id": "5gVVLl4h-WG1"
      },
      "execution_count": null,
      "outputs": [
        {
          "output_type": "stream",
          "name": "stdout",
          "text": [
            "La fidelidad 1 de b es: 70\n",
            "\n",
            "La fidelidad 2 de b es: 100\n",
            "\n",
            "La fidelidad 3 de b es: 30\n",
            "\n"
          ]
        }
      ]
    },
    {
      "cell_type": "markdown",
      "source": [
        "# Reproducibilidad"
      ],
      "metadata": {
        "id": "UNWsn9ZwHvDE"
      }
    },
    {
      "cell_type": "markdown",
      "source": [
        "# Medicion 1"
      ],
      "metadata": {
        "id": "f1Qe3LYNKchY"
      }
    },
    {
      "cell_type": "code",
      "source": [
        "# Tomamos el valor absoluto de la resta de la medicion del operador a y b\n",
        "re1=abs(a1-b1)\n",
        "print(\"La resproducibilidad de la medicion 1 es: \"+str(re1))"
      ],
      "metadata": {
        "colab": {
          "base_uri": "https://localhost:8080/"
        },
        "id": "EyOKyjnMHxz2",
        "outputId": "913aad69-2779-40fa-f325-6cd089fb6040"
      },
      "execution_count": null,
      "outputs": [
        {
          "output_type": "stream",
          "name": "stdout",
          "text": [
            "La resproducibilidad de la medicion 1 es: 50\n"
          ]
        }
      ]
    },
    {
      "cell_type": "markdown",
      "source": [
        "# Medicion 2"
      ],
      "metadata": {
        "id": "5N5kOObQL6I2"
      }
    },
    {
      "cell_type": "code",
      "source": [
        "# Tomamos el valor absoluto de la resta de la medicion del operador a y b\n",
        "re2=abs(a2-b2)\n",
        "print(\"La resproducibilidad de la medicion 2 es: \"+str(re2))"
      ],
      "metadata": {
        "colab": {
          "base_uri": "https://localhost:8080/"
        },
        "outputId": "79462d22-2a72-4b63-cddc-6644382d4ccd",
        "id": "m6IWyarVL_Yr"
      },
      "execution_count": null,
      "outputs": [
        {
          "output_type": "stream",
          "name": "stdout",
          "text": [
            "La resproducibilidad de la medicion 2 es: 130\n"
          ]
        }
      ]
    },
    {
      "cell_type": "markdown",
      "source": [
        "# Medicion 3"
      ],
      "metadata": {
        "id": "vA3h3smzMNSf"
      }
    },
    {
      "cell_type": "code",
      "source": [
        "# Tomamos el valor absoluto de la resta de la medicion del operador a y b\n",
        "re3=abs(a3-b3)\n",
        "print(\"La resproducibilidad de la medicion 3 es: \"+str(re3))"
      ],
      "metadata": {
        "colab": {
          "base_uri": "https://localhost:8080/"
        },
        "outputId": "2f6df02a-5d32-4fb1-f3c9-c41f96116c71",
        "id": "sKTQvTGEMU4n"
      },
      "execution_count": null,
      "outputs": [
        {
          "output_type": "stream",
          "name": "stdout",
          "text": [
            "La resproducibilidad de la medicion 3 es: 70\n"
          ]
        }
      ]
    },
    {
      "cell_type": "markdown",
      "source": [
        "# Ejemplo de linealidad"
      ],
      "metadata": {
        "id": "11WEDahracUS"
      }
    },
    {
      "cell_type": "markdown",
      "source": [
        "## Ecuaciones "
      ],
      "metadata": {
        "id": "iItsF_q-bjSB"
      }
    },
    {
      "cell_type": "markdown",
      "source": [
        "\\begin{equation}\n",
        "y = mx + b \n",
        "\\end{equation}\n",
        "\n",
        "\\begin{equation}\n",
        "m = \\frac{n\\sum xy - \\sum x \\sum y}{n \\sum x^{2} - [\\sum x]^{2}}\n",
        "\\end{equation}\n",
        "\n",
        "\\begin{equation}\n",
        "b = \\frac{\\sum y \\sum x^{2} - \\sum x \\sum xy}{n \\sum x^{2} - [\\sum x]^{2}}\n",
        "\\end{equation}"
      ],
      "metadata": {
        "id": "zKuiyvarbsXM"
      }
    },
    {
      "cell_type": "code",
      "source": [
        "# Importamos numpy para trabajar con listas\n",
        "import numpy as np\n",
        "# Definimos la entrada x como una lista de datos\n",
        "x=[0, 10, 20, 30, 40, 50]\n",
        "\n",
        "# Definimos la salida como el doble de x por la ecuacion y = 2x\n",
        "y=[0, 20, 40, 60, 80, 100]\n",
        "\n",
        "# Obenermos el producto de xy mediante la funcion multiply de numpy\n",
        "xy= np.multiply(x,y)\n",
        "\n",
        "# Obenermos el producto de xx mediante la funcion multiply de numpy\n",
        "xx= np.multiply(x,x)\n",
        "\n",
        "# calculamos la sumatorias de x, y, xx, yy con la funcion sum \n",
        "sumx=sum(x)\n",
        "sumy=sum(y)\n",
        "sumxy=sum(xy)\n",
        "sumxx=sum(xx)\n",
        "# Calculamos el numero de datos de entrada\n",
        "n=len(x)\n",
        "# Aplicamos la formula para m\n",
        "m=((n*sumxy) - (sumx*sumy))/((n*sumxx) - (sumx)**2)\n",
        "print(\"El valor de m es: \" +str(m)+\"\\n\")\n",
        "\n",
        "# Aplicamos la formula para b\n",
        "b=((sumy*sumxx) - (sumx*sumxy))/((n*sumxx) - (sumx)**2)\n",
        "print(\"El valor de b es: \" +str(b)+\"\\n\")"
      ],
      "metadata": {
        "colab": {
          "base_uri": "https://localhost:8080/"
        },
        "id": "GHyxPkjHgtNB",
        "outputId": "cd716fda-aeea-4da3-b1f6-9f451482b076"
      },
      "execution_count": null,
      "outputs": [
        {
          "output_type": "stream",
          "name": "stdout",
          "text": [
            "El valor de m es: 2.0\n",
            "\n",
            "El valor de b es: 0.0\n",
            "\n"
          ]
        }
      ]
    },
    {
      "cell_type": "markdown",
      "source": [
        "La recta obtenida por minimos cuadrados es y = 2x, cuya grafica se muestra a continuacion:"
      ],
      "metadata": {
        "id": "LTU9jpb3siVg"
      }
    },
    {
      "cell_type": "code",
      "source": [
        "# importamos matplotlib.pyplot para graficar\n",
        "import matplotlib.pyplot as plt\n",
        "\n",
        "# Graficamos los datos con la funcion plot asignando los datos entre parentesis\n",
        "plt.plot(x,y)\n",
        "\n",
        "# Colocamos etiquetas para reconocer el eje x, y\n",
        "plt.xlabel('x')\n",
        "plt.ylabel('y')\n",
        "\n",
        "# Asignamos un titulo para la grafica\n",
        "plt.title('y = 2x')"
      ],
      "metadata": {
        "colab": {
          "base_uri": "https://localhost:8080/",
          "height": 312
        },
        "id": "lgAaDC7Ls2gS",
        "outputId": "c3ccfca0-11d1-4b0e-e8c7-6157da27ee60"
      },
      "execution_count": null,
      "outputs": [
        {
          "output_type": "execute_result",
          "data": {
            "text/plain": [
              "Text(0.5, 1.0, 'y = 2x')"
            ]
          },
          "metadata": {},
          "execution_count": 24
        },
        {
          "output_type": "display_data",
          "data": {
            "text/plain": [
              "<Figure size 432x288 with 1 Axes>"
            ],
            "image/png": "[encoded data removed]"
          },
          "metadata": {
            "needs_background": "light"
          }
        }
      ]
    },
    {
      "cell_type": "markdown",
      "source": [
        "# Ejercicio 2"
      ],
      "metadata": {
        "id": "68sDWTrvwWjK"
      }
    },
    {
      "cell_type": "code",
      "source": [
        "# Importamos numpy para trabajar con listas\n",
        "import numpy as np\n",
        "# Definimos la entrada x como una lista de datos\n",
        "x2=[0, 10, 20, 30, 40, 50]\n",
        "\n",
        "# Definimos la salida como el doble de x por la ecuacion y = 2x\n",
        "y2=[2, 102, 402, 902, 1602, 2502]\n",
        "\n",
        "# Obenermos el producto de xy mediante la funcion multiply de numpy\n",
        "xy2= np.multiply(x,y)\n",
        "\n",
        "# Obenermos el producto de xx mediante la funcion multiply de numpy\n",
        "xx2= np.multiply(x,x)\n",
        "\n",
        "# calculamos la sumatorias de x, y, xx, yy con la funcion sum \n",
        "sumx2=sum(x)\n",
        "sumy2=sum(y)\n",
        "sumxy2=sum(xy)\n",
        "sumxx2=sum(xx)\n",
        "# Calculamos el numero de datos de entrada\n",
        "n2=len(x)\n",
        "# Aplicamos la formula para m\n",
        "m2=((n2*sumxy2) - (sumx2*sumy2))/((n2*sumxx2) - (sumx2)**2)\n",
        "print(\"El valor de m es: \" +str(m2)+\"\\n\")\n",
        "\n",
        "# Aplicamos la formula para b\n",
        "b2=((sumy2*sumxx2) - (sumx2*sumxy2))/((n2*sumxx2) - (sumx2)**2)\n",
        "print(\"El valor de b es: \" +str(b2)+\"\\n\")"
      ],
      "metadata": {
        "colab": {
          "base_uri": "https://localhost:8080/"
        },
        "outputId": "b41c657f-9149-47f2-8370-0dbc1e1f671a",
        "id": "jSD2WZPDwMAz"
      },
      "execution_count": null,
      "outputs": [
        {
          "output_type": "stream",
          "name": "stdout",
          "text": [
            "El valor de m es: 50.0\n",
            "\n",
            "El valor de b es: -331.3333333333333\n",
            "\n"
          ]
        }
      ]
    },
    {
      "cell_type": "markdown",
      "source": [
        "Se obtiene como resultado y = 50x -331.33 cuya grafica luce de la siguente manera:"
      ],
      "metadata": {
        "id": "wulfAZVlxKJU"
      }
    },
    {
      "cell_type": "code",
      "source": [
        "# importamos matplotlib.pyplot para graficar\n",
        "import matplotlib.pyplot as plt\n",
        "# Definimos la funcion para que nos retorne la el valor de y\n",
        "def f1(g):\n",
        "    return 50*g - 331.33\n",
        "# Valores del eje X que toma el gráfico\n",
        "g = range(0, 50)\n",
        "# Graficar funcion\n",
        "plt.plot(g, [f1(i) for i in g])\n",
        "# Colocamos etiquetas para reconocer el eje x, y\n",
        "plt.xlabel('x')\n",
        "plt.ylabel('y')\n",
        "# Asignamos un titulo para la grafica\n",
        "plt.title('y = 50x - 331.33')"
      ],
      "metadata": {
        "colab": {
          "base_uri": "https://localhost:8080/",
          "height": 312
        },
        "id": "LrlzlD8Sy3q3",
        "outputId": "b8179ce7-a8c9-4498-8db5-83987e64147e"
      },
      "execution_count": null,
      "outputs": [
        {
          "output_type": "execute_result",
          "data": {
            "text/plain": [
              "Text(0.5, 1.0, 'y = 50x - 331.33')"
            ]
          },
          "metadata": {},
          "execution_count": 2
        },
        {
          "output_type": "display_data",
          "data": {
            "text/plain": [
              "<Figure size 432x288 with 1 Axes>"
            ],
            "image/png": "[encoded data removed]"
          },
          "metadata": {
            "needs_background": "light"
          }
        }
      ]
    },
    {
      "cell_type": "code",
      "source": [
        "# importamos matplotlib.pyplot para graficar\n",
        "import matplotlib.pyplot as plt\n",
        "# Definimos la funcion para que nos retorne la el valor de y\n",
        "def f1(g):\n",
        "    return 2*g\n",
        "# Valores del eje X que toma el gráfico\n",
        "g = range(0, 50)\n",
        "# Graficar funcion\n",
        "plt.plot(g, [f1(i) for i in g])\n",
        "# Colocamos etiquetas para reconocer el eje x, y\n",
        "plt.xlabel('x')\n",
        "plt.ylabel('y')\n",
        "# Asignamos un titulo para la grafica\n",
        "plt.title('La sensibilidad es: y = 2 x')"
      ],
      "metadata": {
        "colab": {
          "base_uri": "https://localhost:8080/",
          "height": 312
        },
        "id": "nrVCYv_toI4_",
        "outputId": "0c71daf2-eb80-4ba8-d525-da0d1ef863be"
      },
      "execution_count": null,
      "outputs": [
        {
          "output_type": "execute_result",
          "data": {
            "text/plain": [
              "Text(0.5, 1.0, 'La sensibilidad es: y = 2 x')"
            ]
          },
          "metadata": {},
          "execution_count": 2
        },
        {
          "output_type": "display_data",
          "data": {
            "text/plain": [
              "<Figure size 432x288 with 1 Axes>"
            ],
            "image/png": "[encoded data removed]"
          },
          "metadata": {
            "needs_background": "light"
          }
        }
      ]
    },
    {
      "cell_type": "markdown",
      "source": [
        "# Ejercicio 3 \n",
        "Dos personas realizan 3 mediciones de posición paradas a 2m de distancia de \n",
        "una pared con un sensor ultrasónico, las mediciones son las siguientes: \n",
        "* 1a: 199.8cm, lb: 205cm.\n",
        "* 2a: 197.8cm, 2b: 201.5 cm. \n",
        "* 3a: 203cm, 3b 198 cm. \n",
        "\n",
        "1. Determina la incertidumbre y error relativo en cada medición.\n",
        "2. Determina un rango de fidelidad de cada individuo. \n",
        "3. Determina un rango de repetibilidad"
      ],
      "metadata": {
        "id": "f8eqT9O1nML8"
      }
    },
    {
      "cell_type": "markdown",
      "source": [
        "# Error absoluto"
      ],
      "metadata": {
        "id": "flEERU0XrlUb"
      }
    },
    {
      "cell_type": "markdown",
      "source": [
        "# Medicion 1 (Operarios a y b)"
      ],
      "metadata": {
        "id": "pq_if0dZrscP"
      }
    },
    {
      "cell_type": "code",
      "execution_count": null,
      "metadata": {
        "colab": {
          "base_uri": "https://localhost:8080/"
        },
        "outputId": "e9b1fcbd-a207-45e2-ecec-a607665df3e7",
        "id": "uhmEJLkErwgi"
      },
      "outputs": [
        {
          "output_type": "stream",
          "name": "stdout",
          "text": [
            "El error absoluto para el operio a en la medicion 1 es: -0.19999999999998863\n",
            "\n",
            "El error absoluto para el operio b en la medicion 1 es: 5\n"
          ]
        }
      ],
      "source": [
        "# Definimos las constantes (valor verdadero como vv2).\n",
        "vv2=200\n",
        "# Definimos los resultados obtenidos para las maediciones.\n",
        "# Medicion 1 (Operarios a y b como a4 y b4).\n",
        "a4=199.8\n",
        "b4=205\n",
        "# Plasmamos la ecuacion para el error absoluto en la siguiente linea para cada operario y definimos error apsoluto como ea.\n",
        "# Operio a\n",
        "ea4a=a4-vv2\n",
        "print (\"El error absoluto para el operio a en la medicion 1 es: \"+ str(ea4a)+\"\\n\")\n",
        "# Operio b\n",
        "ea4b=b4-vv2\n",
        "print (\"El error absoluto para el operio b en la medicion 1 es: \"+ str(ea4b))"
      ]
    },
    {
      "cell_type": "markdown",
      "source": [
        "# Medicion 2 (Operarios a y b)"
      ],
      "metadata": {
        "id": "U6OXDFSUtbv3"
      }
    },
    {
      "cell_type": "code",
      "execution_count": null,
      "metadata": {
        "colab": {
          "base_uri": "https://localhost:8080/"
        },
        "outputId": "0ba65636-155b-4356-81e8-78dcde18a59f",
        "id": "159mtZtKte4i"
      },
      "outputs": [
        {
          "output_type": "stream",
          "name": "stdout",
          "text": [
            "El error absoluto para el operio a en la medicion 2 es: -2.1999999999999886\n",
            "\n",
            "El error absoluto para el operio b en la medicion 2 es: 1.5\n"
          ]
        }
      ],
      "source": [
        "# Definimos las constantes (valor verdadero como vv2).\n",
        "vv2=200\n",
        "# Definimos los resultados obtenidos para las maediciones.\n",
        "# Medicion 2 (Operarios a y b como a5 y b5).\n",
        "a5=197.8\n",
        "b5=201.5\n",
        "# Plasmamos la ecuacion para el error absoluto en la siguiente linea para cada operario y definimos error apsoluto como ea.\n",
        "# Operio a\n",
        "ea5a=a5-vv2\n",
        "print (\"El error absoluto para el operio a en la medicion 2 es: \"+ str(ea5a)+\"\\n\")\n",
        "# Operio b\n",
        "ea5b=b5-vv2\n",
        "print (\"El error absoluto para el operio b en la medicion 2 es: \"+ str(ea5b))"
      ]
    },
    {
      "cell_type": "markdown",
      "source": [
        "# Medicion 3 (Operarios a y b)"
      ],
      "metadata": {
        "id": "ADiGe_HYvvUs"
      }
    },
    {
      "cell_type": "code",
      "execution_count": null,
      "metadata": {
        "colab": {
          "base_uri": "https://localhost:8080/"
        },
        "outputId": "8b4916c5-d080-4d04-8e75-8c9cd1b6173b",
        "id": "MukwCyWsvr3b"
      },
      "outputs": [
        {
          "output_type": "stream",
          "name": "stdout",
          "text": [
            "El error absoluto para el operio a en la medicion 2 es: 3\n",
            "\n",
            "El error absoluto para el operio b en la medicion 2 es: -2\n"
          ]
        }
      ],
      "source": [
        "# Definimos las constantes (valor verdadero como vv2).\n",
        "vv2=200\n",
        "# Definimos los resultados obtenidos para las maediciones.\n",
        "# Medicion 2 (Operarios a y b como a6 y b6).\n",
        "a6=203\n",
        "b6=198\n",
        "# Plasmamos la ecuacion para el error absoluto en la siguiente linea para cada operario y definimos error apsoluto como ea.\n",
        "# Operio a\n",
        "ea6a=a6-vv2\n",
        "print (\"El error absoluto para el operio a en la medicion 2 es: \"+ str(ea6a)+\"\\n\")\n",
        "# Operio b\n",
        "ea6b=b6-vv2\n",
        "print (\"El error absoluto para el operio b en la medicion 2 es: \"+ str(ea6b))"
      ]
    },
    {
      "cell_type": "markdown",
      "source": [
        "# Error relativo"
      ],
      "metadata": {
        "id": "7dBIV6gDzNQX"
      }
    },
    {
      "cell_type": "markdown",
      "source": [
        "# Medicion 1 (Operarios a y b)"
      ],
      "metadata": {
        "id": "mk1C4SwP0ZMo"
      }
    },
    {
      "cell_type": "code",
      "execution_count": null,
      "metadata": {
        "colab": {
          "base_uri": "https://localhost:8080/"
        },
        "outputId": "5671a16a-cba3-4f46-a70e-ee6a7462b02c",
        "id": "-t7wYH1K0bz2"
      },
      "outputs": [
        {
          "output_type": "stream",
          "name": "stdout",
          "text": [
            "El error relativo para el operio b en la medicion 1 es: -0.10%\n",
            "\n",
            "El error relativo para el operio b en la medicion 1 es: 2.50%\n"
          ]
        }
      ],
      "source": [
        "# Definimos las constantes (valor verdadero como vv, incluimos los errores absolutos calculados con anterioridad (ea4a y ea4b, ea5a y ea5b, ea6a y ea6b), y los integramos en la ecuacion.\n",
        "vv2=200\n",
        "# Definimos error relativo como er y agrgamos la ecuacion\n",
        "# Oprario a\n",
        "er4a=(ea4a/vv2)*100\n",
        "print(\"El error relativo para el operio b en la medicion 1 es: \" + \"{:.2f}%\\n\".format(er4a))\n",
        "# Oprario b\n",
        "er4b=(ea4b/vv2)*100\n",
        "print(\"El error relativo para el operio b en la medicion 1 es: \" + \"{:.2f}%\".format(er4b))"
      ]
    },
    {
      "cell_type": "markdown",
      "source": [
        "# Medicion 2 (Operarios a y b)"
      ],
      "metadata": {
        "id": "0jge-2aM1l9W"
      }
    },
    {
      "cell_type": "code",
      "execution_count": null,
      "metadata": {
        "colab": {
          "base_uri": "https://localhost:8080/"
        },
        "outputId": "6f548afc-72a2-4902-ac55-b9cf501f1b68",
        "id": "A6AwWpfc1oJu"
      },
      "outputs": [
        {
          "output_type": "stream",
          "name": "stdout",
          "text": [
            "El error relativo para el operio b en la medicion 2 es: -1.10%\n",
            "\n",
            "El error relativo para el operio b en la medicion 2 es: 0.75%\n"
          ]
        }
      ],
      "source": [
        "# Definimos las constantes (valor verdadero como vv, incluimos los errores absolutos calculados con anterioridad (ea4a y ea4b, ea5a y ea5b, ea6a y ea6b), y los integramos en la ecuacion.\n",
        "vv2=200\n",
        "# Definimos error relativo como er y agrgamos la ecuacion\n",
        "# Oprario a\n",
        "er5a=(ea5a/vv2)*100\n",
        "print(\"El error relativo para el operio b en la medicion 2 es: \" + \"{:.2f}%\\n\".format(er5a))\n",
        "# Oprario b\n",
        "er5b=(ea5b/vv2)*100\n",
        "print(\"El error relativo para el operio b en la medicion 2 es: \" + \"{:.2f}%\".format(er5b))"
      ]
    },
    {
      "cell_type": "markdown",
      "source": [
        "# Medicion 3 (Operarios a y b)"
      ],
      "metadata": {
        "id": "9qsWwWG82p2R"
      }
    },
    {
      "cell_type": "code",
      "execution_count": null,
      "metadata": {
        "colab": {
          "base_uri": "https://localhost:8080/"
        },
        "outputId": "22b753b1-2866-4057-f5d2-187ef3dfc71a",
        "id": "RtgYrHkoILMr"
      },
      "outputs": [
        {
          "output_type": "stream",
          "name": "stdout",
          "text": [
            "El error relativo para el operio b en la medicion 3 es: 1.50%\n",
            "\n",
            "El error relativo para el operio b en la medicion 3 es: -1.00%\n"
          ]
        }
      ],
      "source": [
        "# Definimos las constantes (valor verdadero como vv, incluimos los errores absolutos calculados con anterioridad (ea4a y ea4b, ea5a y ea5b, ea6a y ea6b), y los integramos en la ecuacion.\n",
        "vv2=200\n",
        "# Definimos error relativo como er y agrgamos la ecuacion\n",
        "# Oprario a\n",
        "er6a=(ea6a/vv2)*100\n",
        "print(\"El error relativo para el operio b en la medicion 3 es: \" + \"{:.2f}%\\n\".format(er6a))\n",
        "# Oprario b\n",
        "er6b=(ea6b/vv2)*100\n",
        "print(\"El error relativo para el operio b en la medicion 3 es: \" + \"{:.2f}%\".format(er6b))"
      ]
    },
    {
      "cell_type": "markdown",
      "source": [
        "# Incertidumbre"
      ],
      "metadata": {
        "id": "mg9GypeaJfEg"
      }
    },
    {
      "cell_type": "markdown",
      "source": [
        "# Incertidumbre (a y b)"
      ],
      "metadata": {
        "id": "QZAknhU8Jrr0"
      }
    },
    {
      "cell_type": "code",
      "source": [
        "# Definimos los valores maximo y minimo como vmax y vmin\n",
        "# Utilizamos la funcion max y min para realizar la tarea anterior\n",
        "\n",
        "# vmax a\n",
        "vmaxa2=max([a4, a5, a6])\n",
        "# vmax b\n",
        "vmaxb2=max([b4, b5, b6])\n",
        "# vmin a\n",
        "vmina2=min([a4, a5, a6])\n",
        "# vmin b\n",
        "vminb2=min([b4, b5, b6])\n",
        "\n",
        "# Incertidumbre a\n",
        "# Definimos la formula(incertidumbre queda como inca)\n",
        "inca2=vmaxa2 - vmina2\n",
        "print(\"La incertidumbre para a es: \"+str(inca2)+\"\\n\")\n",
        "\n",
        "# Incertidumbre b\n",
        "# Definimos la formula(incertidumbre queda como incb)\n",
        "incb2=vmaxb2 - vminb2\n",
        "print(\"La incertidumbre para b es: \"+str(incb2))\n"
      ],
      "metadata": {
        "colab": {
          "base_uri": "https://localhost:8080/"
        },
        "outputId": "0f6859e6-4ee7-4fc5-acd5-377f46777715",
        "id": "RBup_w9jJuQD"
      },
      "execution_count": null,
      "outputs": [
        {
          "output_type": "stream",
          "name": "stdout",
          "text": [
            "La incertidumbre para a es: 5.199999999999989\n",
            "\n",
            "La incertidumbre para b es: 7\n"
          ]
        }
      ]
    },
    {
      "cell_type": "markdown",
      "source": [
        "# Fidelidad"
      ],
      "metadata": {
        "id": "jeJfGgLmvQmI"
      }
    },
    {
      "cell_type": "markdown",
      "source": [
        "# a"
      ],
      "metadata": {
        "id": "4h6dZ_WBvSuv"
      }
    },
    {
      "cell_type": "code",
      "source": [
        "# Utilizamos los valores de las medidads previamente declaradas\n",
        "# Y aplicamos la formula, definimos la fidelidad como fa1, fa2 y fa3\n",
        "\n",
        "# la fidelidad de a4\n",
        "fa4=abs(a4-a5)\n",
        "print(\"La fidelidad 1 de a es: \" + str(fa4) + \"\\n\")\n",
        "# la fidelidad de a5\n",
        "fa5=abs(a4-a6)\n",
        "print(\"La fidelidad 2 de a es: \" + str(fa5) + \"\\n\")\n",
        "# la fidelidad de a6\n",
        "fa6=abs(a6-a5)\n",
        "print(\"La fidelidad 3 de a es: \" + str(fa6) + \"\\n\")"
      ],
      "metadata": {
        "colab": {
          "base_uri": "https://localhost:8080/"
        },
        "outputId": "476c75ce-220b-4834-a96d-77117a29e3c5",
        "id": "sOYOlZ55vV0A"
      },
      "execution_count": null,
      "outputs": [
        {
          "output_type": "stream",
          "name": "stdout",
          "text": [
            "La fidelidad 1 de a es: 2.0\n",
            "\n",
            "La fidelidad 2 de a es: 3.1999999999999886\n",
            "\n",
            "La fidelidad 3 de a es: 5.199999999999989\n",
            "\n"
          ]
        }
      ]
    },
    {
      "cell_type": "markdown",
      "source": [
        "# b"
      ],
      "metadata": {
        "id": "jpYFKwpx8ns1"
      }
    },
    {
      "cell_type": "code",
      "source": [
        "# Utilizamos los valores de las medidads previamente declaradas\n",
        "# Y aplicamos la formula tomado el absoluto de cada resta, definimos la fidelidad como fb1, fb2 y fb3\n",
        "\n",
        "# la fidelidad de a4\n",
        "fb4=abs(b4-b5)\n",
        "print(\"La fidelidad 1 de b es: \" + str(fb4) + \"\\n\")\n",
        "# la fidelidad de a5\n",
        "fb5=abs(b6-b4)\n",
        "print(\"La fidelidad 2 de b es: \" + str(fb5) + \"\\n\")\n",
        "# la fidelidad de a6\n",
        "fb6=abs(b6-b5)\n",
        "print(\"La fidelidad 3 de b es: \" + str(fb6) + \"\\n\")"
      ],
      "metadata": {
        "colab": {
          "base_uri": "https://localhost:8080/"
        },
        "outputId": "5bd955c0-f26a-4952-f71a-18be7a4fb85c",
        "id": "LgkzKTlF9Fut"
      },
      "execution_count": null,
      "outputs": [
        {
          "output_type": "stream",
          "name": "stdout",
          "text": [
            "La fidelidad 1 de b es: 3.5\n",
            "\n",
            "La fidelidad 2 de b es: 7\n",
            "\n",
            "La fidelidad 3 de b es: 3.5\n",
            "\n"
          ]
        }
      ]
    },
    {
      "cell_type": "markdown",
      "source": [
        "# Reproducibilidad"
      ],
      "metadata": {
        "id": "JIQ97E1PFq7E"
      }
    },
    {
      "cell_type": "markdown",
      "source": [
        "# Medicion 1"
      ],
      "metadata": {
        "id": "qBjKDZTOFmej"
      }
    },
    {
      "cell_type": "code",
      "source": [
        "# Tomamos el valor absoluto de la resta de la medicion del operador a y b\n",
        "re4=abs(a4-b4)\n",
        "print(\"La resproducibilidad de la medicion 1 es: \"+str(re4))"
      ],
      "metadata": {
        "colab": {
          "base_uri": "https://localhost:8080/"
        },
        "outputId": "46a29830-cfe2-4359-e764-7151050ca202",
        "id": "3wFxAxjQFt9n"
      },
      "execution_count": 28,
      "outputs": [
        {
          "output_type": "stream",
          "name": "stdout",
          "text": [
            "La resproducibilidad de la medicion 1 es: 5.199999999999989\n"
          ]
        }
      ]
    },
    {
      "cell_type": "markdown",
      "source": [
        "# Medicion 2"
      ],
      "metadata": {
        "id": "gp_2VPsyHtM-"
      }
    },
    {
      "cell_type": "code",
      "source": [
        "# Tomamos el valor absoluto de la resta de la medicion del operador a y b\n",
        "re5=abs(a5-b5)\n",
        "print(\"La resproducibilidad de la medicion 1 es: \"+str(re5))"
      ],
      "metadata": {
        "colab": {
          "base_uri": "https://localhost:8080/"
        },
        "id": "lMEApeJFHwM4",
        "outputId": "eec9a07c-6f5e-4172-d2c1-5ae0676f74af"
      },
      "execution_count": 27,
      "outputs": [
        {
          "output_type": "stream",
          "name": "stdout",
          "text": [
            "La resproducibilidad de la medicion 1 es: 3.6999999999999886\n"
          ]
        }
      ]
    },
    {
      "cell_type": "markdown",
      "source": [
        "# Medicion 3"
      ],
      "metadata": {
        "id": "M0v5piiLKoKk"
      }
    },
    {
      "cell_type": "code",
      "source": [
        "# Tomamos el valor absoluto de la resta de la medicion del operador a y b\n",
        "re6=abs(a6-b6)\n",
        "print(\"La resproducibilidad de la medicion 1 es: \"+str(re6))"
      ],
      "metadata": {
        "colab": {
          "base_uri": "https://localhost:8080/"
        },
        "id": "G3zvRjpCKqAU",
        "outputId": "dbcaff69-8b0d-4ce5-9518-ab181672f381"
      },
      "execution_count": 26,
      "outputs": [
        {
          "output_type": "stream",
          "name": "stdout",
          "text": [
            "La resproducibilidad de la medicion 1 es: 5\n"
          ]
        }
      ]
    }
  ]
}