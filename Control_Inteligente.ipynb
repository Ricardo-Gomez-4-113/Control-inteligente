{
  "nbformat": 4,
  "nbformat_minor": 0,
  "metadata": {
    "colab": {
      "provenance": [],
      "authorship_tag": "ABX9TyNv2b/R6WIZEl5fulkdnTEt",
      "include_colab_link": true
    },
    "kernelspec": {
      "name": "python3",
      "display_name": "Python 3"
    },
    "language_info": {
      "name": "python"
    }
  },
  "cells": [
    {
      "cell_type": "markdown",
      "metadata": {
        "id": "view-in-github",
        "colab_type": "text"
      },
      "source": [
        "<a href=\"https://colab.research.google.com/github/Ricardo-Gomez-4-113/Control-inteligente/blob/main/Control_Inteligente.ipynb\" target=\"_parent\"><img src=\"https://colab.research.google.com/assets/colab-badge.svg\" alt=\"Open In Colab\"/></a>"
      ]
    },
    {
      "cell_type": "markdown",
      "source": [
        "# **Tarea de control ineligente**\n",
        "\n",
        "# ***Por: Ricardo Gomez Martinez***"
      ],
      "metadata": {
        "id": "nczGa2-tihw1"
      }
    },
    {
      "cell_type": "markdown",
      "source": [
        "# Ejercicio 1 \n",
        "Un sistema de medición de luminosidad con curva de respuesta es utilizado en \n",
        "un cuarto, se realizaron 3 mediciones por cada operario (operario a y operario b) para verificar los resultados, ya que éstos tuvieron ciertas discrepancias. Las mediciones entregadas por el luxómetro fueron:\n",
        "\n",
        "\n",
        "* 1a: 300lx, lb: 250 lx\n",
        "* 2a: 190 lx, 2b: 320 lx\n",
        "* 3a: 280 lx, 3b 350 lx\n",
        "\n",
        "\n",
        "Se cambio el instrumento de medicion y se concluyo que la luminosidad en el cuarto era de 305 lx. Determina exactitud (error absoluto y error relativo), fidelidad, incertidumbre y reproducibilidad del prirner instrumento de medición \n",
        "utilizado. "
      ],
      "metadata": {
        "id": "_L04yLAdn9gt"
      }
    },
    {
      "cell_type": "markdown",
      "source": [
        "# **Error absoluto y error relativo**\n",
        "\n",
        "\n"
      ],
      "metadata": {
        "id": "aJ5QmZ4BiLNi"
      }
    },
    {
      "cell_type": "markdown",
      "source": [
        "\\begin{equation}\n",
        "\\text{Error absoluto = resultado - valor verdadero}\n",
        "\\end{equation}\n",
        "\n",
        "\\begin{equation}\n",
        "\\text{Error relativo =} \\tfrac{\\text{Error absoluto}} {\\text{Valor verdadero}}\n",
        "\\end{equation}\n",
        "\n"
      ],
      "metadata": {
        "id": "xNevOhr8jhvJ"
      }
    },
    {
      "cell_type": "markdown",
      "source": [
        "# Error absoluto"
      ],
      "metadata": {
        "id": "FIiRsr6Ezwm2"
      }
    },
    {
      "cell_type": "markdown",
      "source": [
        "# Medicion 1 (Operarios a y b)"
      ],
      "metadata": {
        "id": "OgQycMJ5t0Gt"
      }
    },
    {
      "cell_type": "code",
      "execution_count": 58,
      "metadata": {
        "colab": {
          "base_uri": "https://localhost:8080/"
        },
        "id": "aYcrfC_xf6CE",
        "outputId": "89773e0c-c66a-42b3-a38e-720a2f2a4d46"
      },
      "outputs": [
        {
          "output_type": "stream",
          "name": "stdout",
          "text": [
            "El error absoluto para el operio a en la medicion 1 es: -5\n",
            "\n",
            "El error absoluto para el operio b en la medicion 1 es: -55\n"
          ]
        }
      ],
      "source": [
        "# Definimos las constantes (valor verdadero como vv).\n",
        "vv=305\n",
        "# Definimos los resultados obtenidos para las maediciones.\n",
        "# Medicion 1 (Operarios a y b como a1 y b1).\n",
        "a1=300\n",
        "b1=250\n",
        "# Plasmamos la ecuacion para el error absoluto en la siguiente linea para cada operario y definimos error apsoluto como ea.\n",
        "# Operio a\n",
        "ea1a=a1-vv\n",
        "print (\"El error absoluto para el operio a en la medicion 1 es: \"+ str(ea1a)+\"\\n\")\n",
        "# Operio b\n",
        "ea1b=b1-vv\n",
        "print (\"El error absoluto para el operio b en la medicion 1 es: \"+ str(ea1b))"
      ]
    },
    {
      "cell_type": "markdown",
      "source": [
        "# Medicion 2 (Operarios a y b)"
      ],
      "metadata": {
        "id": "814gcZJUweDR"
      }
    },
    {
      "cell_type": "code",
      "execution_count": 59,
      "metadata": {
        "colab": {
          "base_uri": "https://localhost:8080/"
        },
        "outputId": "f77e326b-bbb2-4885-adbe-131f5cbd70f1",
        "id": "xtG1QPe2wkAa"
      },
      "outputs": [
        {
          "output_type": "stream",
          "name": "stdout",
          "text": [
            "El error absoluto para el operio a en la medicion 2 es: -115\n",
            "\n",
            "El error absoluto para el operio b en la medicion 2 es: 15\n"
          ]
        }
      ],
      "source": [
        "# Definimos las constantes (valor verdadero como vv).\n",
        "vv=305\n",
        "# Definimos los resultados obtenidos para las maediciones.\n",
        "# Medicion 2 (Operarios a y b como a2 y b2).\n",
        "a2=190\n",
        "b2=320\n",
        "# Plasmamos la ecuacion para el error absoluto en la siguiente linea para cada operario y definimos error apsoluto como ea.\n",
        "# Operio a\n",
        "ea2a=a2-vv\n",
        "print (\"El error absoluto para el operio a en la medicion 2 es: \"+ str(ea2a)+\"\\n\")\n",
        "# Operio b\n",
        "ea2b=b2-vv\n",
        "print (\"El error absoluto para el operio b en la medicion 2 es: \"+ str(ea2b))"
      ]
    },
    {
      "cell_type": "markdown",
      "source": [
        "# Medicion 3 (Operarios a y b)"
      ],
      "metadata": {
        "id": "BIkd_b8Qy1kE"
      }
    },
    {
      "cell_type": "code",
      "execution_count": 60,
      "metadata": {
        "colab": {
          "base_uri": "https://localhost:8080/"
        },
        "outputId": "fb19a19d-83ba-4565-fa06-5488fcaa649e",
        "id": "2JBsGH5tywQt"
      },
      "outputs": [
        {
          "output_type": "stream",
          "name": "stdout",
          "text": [
            "El error absoluto para el operio a en la medicion 3 es: -25\n",
            "\n",
            "El error absoluto para el operio b en la medicion 3 es: 45\n"
          ]
        }
      ],
      "source": [
        "# Definimos las constantes (valor verdadero como vv).\n",
        "vv=305\n",
        "# Definimos los resultados obtenidos para las maediciones.\n",
        "# Medicion 2 (Operarios a y b como a3 y b3).\n",
        "a3=280\n",
        "b3=350\n",
        "# Plasmamos la ecuacion para el error apsoluto en la siguiente linea para cada operario y definimos error apsoluto como ea.\n",
        "# Operio a\n",
        "ea3a=a3-vv\n",
        "print (\"El error absoluto para el operio a en la medicion 3 es: \"+ str(ea3a)+\"\\n\")\n",
        "# Operio b\n",
        "ea3b=b3-vv\n",
        "print (\"El error absoluto para el operio b en la medicion 3 es: \"+ str(ea3b))"
      ]
    },
    {
      "cell_type": "markdown",
      "source": [
        "# Error relativo"
      ],
      "metadata": {
        "id": "ShQjcn5yz15O"
      }
    },
    {
      "cell_type": "markdown",
      "source": [
        "# Medicion 1 (Operarios a y b)"
      ],
      "metadata": {
        "id": "Miku4Xzn6YWb"
      }
    },
    {
      "cell_type": "code",
      "execution_count": 61,
      "metadata": {
        "colab": {
          "base_uri": "https://localhost:8080/"
        },
        "outputId": "2cd82a30-b7c5-4ba5-d65f-d7da78de4868",
        "id": "PZQv2_lJ03e5"
      },
      "outputs": [
        {
          "output_type": "stream",
          "name": "stdout",
          "text": [
            "El error relativo para el operio b en la medicion 1 es: -1.64%\n",
            "\n",
            "El error relativo para el operio b en la medicion 1 es: -18.03%\n"
          ]
        }
      ],
      "source": [
        "# Definimos las constantes (valor verdadero como vv, incluimos los errores absolutos calculados con anterioridad (ea1a y ea1b, ea2a y ea2b, ea3a y ea3b), y los integramos en la ecuacion.\n",
        "vv=305\n",
        "# Definimos error relativo como er y agrgamos la ecuacion\n",
        "# Oprario a\n",
        "er1a=(ea1a/vv)*100\n",
        "print(\"El error relativo para el operio b en la medicion 1 es: \" + \"{:.2f}%\\n\".format(er1a))\n",
        "# Oprario b\n",
        "er1b=(ea1b/vv)*100\n",
        "print(\"El error relativo para el operio b en la medicion 1 es: \" + \"{:.2f}%\".format(er1b))"
      ]
    },
    {
      "cell_type": "markdown",
      "source": [
        "# Medicion 2 (Operarios a y b)"
      ],
      "metadata": {
        "id": "-ZH3Hjk1lt8M"
      }
    },
    {
      "cell_type": "code",
      "execution_count": 62,
      "metadata": {
        "colab": {
          "base_uri": "https://localhost:8080/"
        },
        "outputId": "f4742e90-955e-430c-a0b4-ae7efba7775c",
        "id": "xmH0dtAMl0T4"
      },
      "outputs": [
        {
          "output_type": "stream",
          "name": "stdout",
          "text": [
            "El error relativo para el operio b en la medicion 2 es: -37.70%\n",
            "\n",
            "El error relativo para el operio b en la medicion 2 es: 4.92%\n"
          ]
        }
      ],
      "source": [
        "# Definimos las constantes (valor verdadero como vv, incluimos los errores absolutos calculados con anterioridad (ea1a y ea1b, ea2a y ea2b, ea3a y ea3b), y los integramos en la ecuacion.\n",
        "vv=305\n",
        "# Definimos error relativo como er y agrgamos la ecuacion\n",
        "# Oprario a\n",
        "er2a=(ea2a/vv)*100\n",
        "print(\"El error relativo para el operio b en la medicion 2 es: \" + \"{:.2f}%\\n\".format(er2a))\n",
        "# Oprario b\n",
        "er2b=(ea2b/vv)*100\n",
        "print(\"El error relativo para el operio b en la medicion 2 es: \" + \"{:.2f}%\".format(er2b))"
      ]
    },
    {
      "cell_type": "markdown",
      "source": [
        "# Medicion 3 (Operarios a y b)"
      ],
      "metadata": {
        "id": "YjSrnwujnMZp"
      }
    },
    {
      "cell_type": "code",
      "execution_count": 63,
      "metadata": {
        "colab": {
          "base_uri": "https://localhost:8080/"
        },
        "outputId": "5a6947cc-be38-4dc2-828c-c16c6371e947",
        "id": "kIkAnKSHnSMu"
      },
      "outputs": [
        {
          "output_type": "stream",
          "name": "stdout",
          "text": [
            "El error relativo para el operio b en la medicion 3 es: -8.20%\n",
            "\n",
            "El error relativo para el operio b en la medicion 3 es: 14.75%\n"
          ]
        }
      ],
      "source": [
        "# Definimos las constantes (valor verdadero como vv, incluimos los errores absolutos calculados con anterioridad (ea1a y ea1b, ea2a y ea2b, ea3a y ea3b), y los integramos en la ecuacion.\n",
        "vv=305\n",
        "# Definimos error relativo como er y agrgamos la ecuacion\n",
        "# Oprario a\n",
        "er3a=(ea3a/vv)*100\n",
        "print(\"El error relativo para el operio b en la medicion 3 es: \" + \"{:.2f}%\\n\".format(er3a))\n",
        "# Oprario b\n",
        "er3b=(ea3b/vv)*100\n",
        "print(\"El error relativo para el operio b en la medicion 3 es: \" + \"{:.2f}%\".format(er3b))"
      ]
    },
    {
      "cell_type": "markdown",
      "source": [
        "# Fidelidad e incertidumbre "
      ],
      "metadata": {
        "id": "v9VxBlDFoNap"
      }
    },
    {
      "cell_type": "markdown",
      "source": [
        "\\begin{equation}\n",
        "\\text{Incertidumbre = valor máximo - valor mínimo}\n",
        "\\end{equation}\n",
        "\n",
        "\\begin{equation}\n",
        "\\text{fidelidad = |val_med1 - val_med2|}\n",
        "\\end{equation}\n",
        "\n"
      ],
      "metadata": {
        "id": "oWfKSwlVqQ4j"
      }
    },
    {
      "cell_type": "markdown",
      "source": [
        "# Incertidumbre"
      ],
      "metadata": {
        "id": "PLZIAtWcs71P"
      }
    },
    {
      "cell_type": "markdown",
      "source": [
        "# Incertidumbre (a y b)"
      ],
      "metadata": {
        "id": "NjoAXcFhs4cS"
      }
    },
    {
      "cell_type": "code",
      "source": [
        "# Definimos los valores maximo y minimo como vmax y vmin\n",
        "# Utilizamos la funcion max y min para realizar la tarea anterior\n",
        "\n",
        "# vmax a\n",
        "vmaxa=max([a1, a2, a3])\n",
        "# vmax b\n",
        "vmaxb=max([b1, b2, b3])\n",
        "# vmin a\n",
        "vmina=min([a1, a2, a3])\n",
        "# vmin b\n",
        "vminb=min([b1, b2, b3])\n",
        "\n",
        "# Incertidumbre a\n",
        "# Definimos la formula(incertidumbre queda como inca)\n",
        "inca=vmaxa - vmina\n",
        "print(\"La incertidumbre para a es: \"+str(inca)+\"\\n\")\n",
        "\n",
        "# Incertidumbre b\n",
        "# Definimos la formula(incertidumbre queda como incb)\n",
        "incb=vmaxb - vminb\n",
        "print(\"La incertidumbre para b es: \"+str(incb))\n"
      ],
      "metadata": {
        "colab": {
          "base_uri": "https://localhost:8080/"
        },
        "id": "kcboT2fptHFm",
        "outputId": "330bcfc3-fab6-4b0a-dabe-6c2cd03ba448"
      },
      "execution_count": 64,
      "outputs": [
        {
          "output_type": "stream",
          "name": "stdout",
          "text": [
            "La incertidumbre para a es: 110\n",
            "\n",
            "La incertidumbre para b es: 100\n"
          ]
        }
      ]
    },
    {
      "cell_type": "markdown",
      "source": [
        "# Fidelidad"
      ],
      "metadata": {
        "id": "ESRfyjV23QOh"
      }
    },
    {
      "cell_type": "markdown",
      "source": [
        "# a"
      ],
      "metadata": {
        "id": "CWpbndyh-MrO"
      }
    },
    {
      "cell_type": "code",
      "source": [
        "# Utilizamos los valores de las medidads previamente declaradas\n",
        "# Y aplicamos la formula, definimos la fidelidad como fa1, fa2 y fa3\n",
        "\n",
        "# la fidelidad de a1\n",
        "fa1=abs(a1-a2)\n",
        "print(\"La fidelidad 1 de a es: \" + str(fa1) + \"\\n\")\n",
        "# la fidelidad de a2\n",
        "fa2=abs(a1-a3)\n",
        "print(\"La fidelidad 2 de a es: \" + str(fa2) + \"\\n\")\n",
        "# la fidelidad de a2\n",
        "fa3=abs(a3-a2)\n",
        "print(\"La fidelidad 3 de a es: \" + str(fa3) + \"\\n\")"
      ],
      "metadata": {
        "colab": {
          "base_uri": "https://localhost:8080/"
        },
        "id": "1J_8cpo23T2h",
        "outputId": "b7e73a61-fdb2-4869-fd1a-883769f9ad55"
      },
      "execution_count": 65,
      "outputs": [
        {
          "output_type": "stream",
          "name": "stdout",
          "text": [
            "La fidelidad 1 de a es: 110\n",
            "\n",
            "La fidelidad 2 de a es: 20\n",
            "\n",
            "La fidelidad 3 de a es: 90\n",
            "\n"
          ]
        }
      ]
    },
    {
      "cell_type": "markdown",
      "source": [
        "# b"
      ],
      "metadata": {
        "id": "3oe1m7zb-POP"
      }
    },
    {
      "cell_type": "code",
      "source": [
        "# Utilizamos los valores de las medidads previamente declaradas\n",
        "# Y aplicamos la formula tomado el absoluto de cada resta, definimos la fidelidad como fb1, fb2 y fb3\n",
        "\n",
        "# la fidelidad de b1\n",
        "fb1=abs(b2-b1)\n",
        "print(\"La fidelidad 1 de b es: \" + str(fb1) + \"\\n\")\n",
        "# la fidelidad de b2\n",
        "fb2=abs(b3-b1)\n",
        "print(\"La fidelidad 2 de b es: \" + str(fb2) + \"\\n\")\n",
        "# la fidelidad de b2\n",
        "fb3=abs(b3-b2)\n",
        "print(\"La fidelidad 3 de b es: \" + str(fb3) + \"\\n\")"
      ],
      "metadata": {
        "colab": {
          "base_uri": "https://localhost:8080/"
        },
        "outputId": "46637c33-380d-4c04-a0c6-b2b6e8088092",
        "id": "5gVVLl4h-WG1"
      },
      "execution_count": 66,
      "outputs": [
        {
          "output_type": "stream",
          "name": "stdout",
          "text": [
            "La fidelidad 1 de b es: 70\n",
            "\n",
            "La fidelidad 2 de b es: 100\n",
            "\n",
            "La fidelidad 3 de b es: 30\n",
            "\n"
          ]
        }
      ]
    },
    {
      "cell_type": "markdown",
      "source": [
        "# Reproducibilidad"
      ],
      "metadata": {
        "id": "UNWsn9ZwHvDE"
      }
    },
    {
      "cell_type": "markdown",
      "source": [
        "# Medicion 1"
      ],
      "metadata": {
        "id": "f1Qe3LYNKchY"
      }
    },
    {
      "cell_type": "code",
      "source": [
        "# Tomamos el valor absoluto de la resta de la medicion del operador a y b\n",
        "re1=abs(a1-b1)\n",
        "print(\"La resproducibilidad de la medicion 1 es: \"+str(re1))"
      ],
      "metadata": {
        "colab": {
          "base_uri": "https://localhost:8080/"
        },
        "id": "EyOKyjnMHxz2",
        "outputId": "1551345e-fd72-4240-bd76-c4839ce57d9d"
      },
      "execution_count": 67,
      "outputs": [
        {
          "output_type": "stream",
          "name": "stdout",
          "text": [
            "La resproducibilidad de la medicion 1 es: 50\n"
          ]
        }
      ]
    },
    {
      "cell_type": "markdown",
      "source": [
        "# Medicion 2"
      ],
      "metadata": {
        "id": "5N5kOObQL6I2"
      }
    },
    {
      "cell_type": "code",
      "source": [
        "# Tomamos el valor absoluto de la resta de la medicion del operador a y b\n",
        "re2=abs(a2-b2)\n",
        "print(\"La resproducibilidad de la medicion 2 es: \"+str(re2))"
      ],
      "metadata": {
        "colab": {
          "base_uri": "https://localhost:8080/"
        },
        "outputId": "5e234eda-3d72-49bf-9613-c5e0e535667b",
        "id": "m6IWyarVL_Yr"
      },
      "execution_count": 68,
      "outputs": [
        {
          "output_type": "stream",
          "name": "stdout",
          "text": [
            "La resproducibilidad de la medicion 2 es: 130\n"
          ]
        }
      ]
    },
    {
      "cell_type": "markdown",
      "source": [
        "# Medicion 3"
      ],
      "metadata": {
        "id": "vA3h3smzMNSf"
      }
    },
    {
      "cell_type": "code",
      "source": [
        "# Tomamos el valor absoluto de la resta de la medicion del operador a y b\n",
        "re3=abs(a3-b3)\n",
        "print(\"La resproducibilidad de la medicion 3 es: \"+str(re3))"
      ],
      "metadata": {
        "colab": {
          "base_uri": "https://localhost:8080/"
        },
        "outputId": "6126c001-bdec-4326-f62d-776ab0f910db",
        "id": "sKTQvTGEMU4n"
      },
      "execution_count": 69,
      "outputs": [
        {
          "output_type": "stream",
          "name": "stdout",
          "text": [
            "La resproducibilidad de la medicion 3 es: 70\n"
          ]
        }
      ]
    },
    {
      "cell_type": "markdown",
      "source": [
        "# Ejemplo de linealidad"
      ],
      "metadata": {
        "id": "11WEDahracUS"
      }
    },
    {
      "cell_type": "markdown",
      "source": [
        "## Ecuaciones "
      ],
      "metadata": {
        "id": "iItsF_q-bjSB"
      }
    },
    {
      "cell_type": "markdown",
      "source": [
        "\\begin{equation}\n",
        "y = mx + b \n",
        "\\end{equation}\n",
        "\n",
        "\\begin{equation}\n",
        "m = \\frac{n\\sum xy - \\sum x \\sum y}{n \\sum x^{2} - [\\sum x]^{2}}\n",
        "\\end{equation}\n",
        "\n",
        "\\begin{equation}\n",
        "b = \\frac{\\sum y \\sum x^{2} - \\sum x \\sum xy}{n \\sum x^{2} - [\\sum x]^{2}}\n",
        "\\end{equation}"
      ],
      "metadata": {
        "id": "zKuiyvarbsXM"
      }
    },
    {
      "cell_type": "markdown",
      "source": [
        "# Ejemplo 1"
      ],
      "metadata": {
        "id": "Qmx5SVQ1J1yS"
      }
    },
    {
      "cell_type": "markdown",
      "source": [
        "# Linealidad con minimos cuadrados"
      ],
      "metadata": {
        "id": "Krj0HVT2J8g1"
      }
    },
    {
      "cell_type": "code",
      "source": [
        "# Importamos numpy para trabajar con listas\n",
        "import numpy as np\n",
        "# Definimos la entrada x como una lista de datos\n",
        "x=[0, 10, 20, 30, 40, 50]\n",
        "\n",
        "# Definimos la salida como el doble de x por la ecuacion y = 2x\n",
        "y=[0, 20, 40, 60, 80, 100]\n",
        "\n",
        "# Obenermos el producto de xy mediante la funcion multiply de numpy\n",
        "xy= np.multiply(x,y)\n",
        "\n",
        "# Obenermos el producto de xx mediante la funcion multiply de numpy\n",
        "xx= np.multiply(x,x)\n",
        "\n",
        "# calculamos la sumatorias de x, y, xx, yy con la funcion sum \n",
        "sumx=sum(x)\n",
        "sumy=sum(y)\n",
        "sumxy=sum(xy)\n",
        "sumxx=sum(xx)\n",
        "# Calculamos el numero de datos de entrada\n",
        "n=len(x)\n",
        "# Aplicamos la formula para m\n",
        "m=((n*sumxy) - (sumx*sumy))/((n*sumxx) - (sumx)**2)\n",
        "print(\"El valor de m es: \" +str(m)+\"\\n\")\n",
        "\n",
        "# Aplicamos la formula para b\n",
        "b=((sumy*sumxx) - (sumx*sumxy))/((n*sumxx) - (sumx)**2)\n",
        "print(\"El valor de b es: \" +str(b)+\"\\n\")"
      ],
      "metadata": {
        "colab": {
          "base_uri": "https://localhost:8080/"
        },
        "id": "GHyxPkjHgtNB",
        "outputId": "762a3332-ab05-459c-ac2a-b0e11278f02f"
      },
      "execution_count": 70,
      "outputs": [
        {
          "output_type": "stream",
          "name": "stdout",
          "text": [
            "El valor de m es: 2.0\n",
            "\n",
            "El valor de b es: 0.0\n",
            "\n"
          ]
        }
      ]
    },
    {
      "cell_type": "markdown",
      "source": [
        "La recta obtenida por minimos cuadrados es y = 2x, cuya grafica se muestra a continuacion:"
      ],
      "metadata": {
        "id": "LTU9jpb3siVg"
      }
    },
    {
      "cell_type": "code",
      "source": [
        "# importamos matplotlib.pyplot para graficar\n",
        "import matplotlib.pyplot as plt\n",
        "\n",
        "# Graficamos los datos con la funcion plot asignando los datos entre parentesis\n",
        "plt.scatter(x, y)\n",
        "plt.plot(x, y)\n",
        "\n",
        "# Colocamos etiquetas para reconocer el eje x, y\n",
        "plt.xlabel('x')\n",
        "plt.ylabel('y')\n",
        "\n",
        "# Asignamos un titulo para la grafica\n",
        "plt.title('y = 2x')\n",
        "plt.show()"
      ],
      "metadata": {
        "colab": {
          "base_uri": "https://localhost:8080/",
          "height": 295
        },
        "id": "lgAaDC7Ls2gS",
        "outputId": "a0ff5ee3-ce70-48a4-d38e-3fdf789ad73f"
      },
      "execution_count": 71,
      "outputs": [
        {
          "output_type": "display_data",
          "data": {
            "text/plain": [
              "<Figure size 432x288 with 1 Axes>"
            ],
            "image/png": "[encoded data removed]"
          },
          "metadata": {
            "needs_background": "light"
          }
        }
      ]
    },
    {
      "cell_type": "markdown",
      "source": [
        "# Linealidad ajustada a cero "
      ],
      "metadata": {
        "id": "YyHWvgrmKGs2"
      }
    },
    {
      "cell_type": "markdown",
      "source": [
        "\\begin{equation}\n",
        "\\frac{y}{x} = m\n",
        "\\end{equation}\n",
        "\n",
        "\\begin{equation}\n",
        "a = \\frac{\\displaystyle\\sum_{i=1}^{n}y}{\\displaystyle\\sum_{i=1}^{n}x}\n",
        "\\end{equation}\n",
        "\n",
        "\\begin{equation}\n",
        "b = 0\n",
        "\\end{equation}"
      ],
      "metadata": {
        "id": "iECqQp0kKK6S"
      }
    },
    {
      "cell_type": "code",
      "source": [
        "import numpy as np\n",
        "import matplotlib.pyplot as plt\n",
        "\n",
        "# Datos de ejemplo\n",
        "x = np.array(x)\n",
        "y = np.array(y)\n",
        "\n",
        "# Calcular los coeficientes de la línea de regresión\n",
        "slope, intercept = np.polyfit(x, y, 1)\n",
        "\n",
        "# Graficar los datos y la línea de regresión\n",
        "plt.scatter(x, y)\n",
        "plt.plot(x, slope * x)\n",
        "plt.xlabel('X')\n",
        "plt.ylabel('Y')\n",
        "plt.title('Linealidad ajustada a cero')\n",
        "plt.show()"
      ],
      "metadata": {
        "colab": {
          "base_uri": "https://localhost:8080/",
          "height": 295
        },
        "id": "s5dNVgfrLiNY",
        "outputId": "765b714d-9778-470c-e8b9-d0a930518d28"
      },
      "execution_count": 72,
      "outputs": [
        {
          "output_type": "display_data",
          "data": {
            "text/plain": [
              "<Figure size 432x288 with 1 Axes>"
            ],
            "image/png": "[encoded data removed]"
          },
          "metadata": {
            "needs_background": "light"
          }
        }
      ]
    },
    {
      "cell_type": "markdown",
      "source": [
        "# Linealidad terminal\n"
      ],
      "metadata": {
        "id": "viAY_ki0-kaa"
      }
    },
    {
      "cell_type": "markdown",
      "source": [
        "\\begin{equation}\n",
        "m = \\frac{y_{2}+y_{1}}{x_{2}+x_{1}}\n",
        "\\end{equation}\n",
        "\n",
        "\\begin{equation}\n",
        "y = mx + b\n",
        "\\end{equation}\n",
        "\n",
        "\\begin{equation}\n",
        "b= y - mx\n",
        "\\end{equation}\n"
      ],
      "metadata": {
        "id": "PWcUaIk2-p4p"
      }
    },
    {
      "cell_type": "code",
      "source": [
        "x = np.array(x)\n",
        "y = np.array(y)\n",
        "# Aproximación de la pendiente\n",
        "m = (y[-1] - y[-2]) / (x[-1] - x[-2])\n",
        "\n",
        "# Graficar la curva y la linealidad terminal\n",
        "plt.plot(x, y, label='Respuesta al escalón')\n",
        "plt.plot(x[-2:], y[-2] + m*(x[-2:] - x[-2]), label='Linealidad terminal')\n",
        "plt.legend()\n",
        "plt.show()"
      ],
      "metadata": {
        "colab": {
          "base_uri": "https://localhost:8080/",
          "height": 265
        },
        "id": "SZEXMy8299Si",
        "outputId": "2457c79b-8af0-4287-df6b-e95eb8c123cf"
      },
      "execution_count": 73,
      "outputs": [
        {
          "output_type": "display_data",
          "data": {
            "text/plain": [
              "<Figure size 432x288 with 1 Axes>"
            ],
            "image/png": "[encoded data removed]"
          },
          "metadata": {
            "needs_background": "light"
          }
        }
      ]
    },
    {
      "cell_type": "markdown",
      "source": [
        "# Linealidad a través de los extremos"
      ],
      "metadata": {
        "id": "xiyl--IuPwl7"
      }
    },
    {
      "cell_type": "markdown",
      "source": [
        "\\begin{equation}\n",
        "m = \\frac{y2 - y1}{x2 - x1}\n",
        "\\end{equation}\n",
        "\n",
        "\\begin{equation}\n",
        "b = y1 - m \\times x1\n",
        "\\end{equation}\n",
        "\n",
        "\n"
      ],
      "metadata": {
        "id": "cp7hzh3JQFD1"
      }
    },
    {
      "cell_type": "code",
      "source": [
        "import numpy as np\n",
        "import matplotlib.pyplot as plt\n",
        "\n",
        "# Definir los datos\n",
        "xe = np.array(x)\n",
        "ye = np.array(y)\n",
        "\n",
        "# Realizar una regresión lineal de los puntos extremos\n",
        "slope, intercept = np.polyfit([xe[0], xe[-1]], [ye[0], ye[-1]], 1)\n",
        "\n",
        "# Calcular la predicción de la regresión lineal para todo el rango de valores de x\n",
        "xe_range = np.linspace(xe[0], xe[-1], 100)\n",
        "ye_pred = slope * xe_range + intercept\n",
        "\n",
        "# Graficar los datos y la línea de regresión\n",
        "plt.plot(xe, ye, 'o', label='Datos')\n",
        "plt.plot(xe_range, ye_pred, label='Linealidad')\n",
        "plt.legend()\n",
        "plt.show()"
      ],
      "metadata": {
        "id": "MzjxfJPHMU93",
        "colab": {
          "base_uri": "https://localhost:8080/",
          "height": 265
        },
        "outputId": "e5fe4469-3c45-41b2-e526-9b7111ae4e89"
      },
      "execution_count": 74,
      "outputs": [
        {
          "output_type": "display_data",
          "data": {
            "text/plain": [
              "<Figure size 432x288 with 1 Axes>"
            ],
            "image/png": "[encoded data removed]"
          },
          "metadata": {
            "needs_background": "light"
          }
        }
      ]
    },
    {
      "cell_type": "markdown",
      "source": [
        "# Linealidad teórica"
      ],
      "metadata": {
        "id": "3idit_o20Zd_"
      }
    },
    {
      "cell_type": "code",
      "source": [
        "import matplotlib.pyplot as plt\n",
        "import numpy as np\n",
        "# Datos experimentales\n",
        "xlt = np.array(x)\n",
        "ylt = np.array(y)\n",
        "\n",
        "# Ecuación de la línea teórica\n",
        "m = 0.5  # Pendiente\n",
        "b = 0.2  # Intercepto\n",
        "x_teoria = np.linspace(0, 50, 100)\n",
        "y_teoria = m * x_teoria + b\n",
        "\n",
        "# Graficar los datos experimentales y la línea teórica\n",
        "plt.plot(xlt, ylt, 'o', label='Datos experimentales')\n",
        "plt.plot(x_teoria, y_teoria, label='Línea teórica')\n",
        "plt.legend()\n",
        "plt.xlabel('x')\n",
        "plt.ylabel('y')\n",
        "plt.title('Linealidad teórica')\n",
        "plt.show()"
      ],
      "metadata": {
        "colab": {
          "base_uri": "https://localhost:8080/",
          "height": 295
        },
        "id": "PnuMxkMe1PoH",
        "outputId": "f848dd2a-3abd-4bca-b6da-77420e800558"
      },
      "execution_count": 75,
      "outputs": [
        {
          "output_type": "display_data",
          "data": {
            "text/plain": [
              "<Figure size 432x288 with 1 Axes>"
            ],
            "image/png": "[encoded data removed]"
          },
          "metadata": {
            "needs_background": "light"
          }
        }
      ]
    },
    {
      "cell_type": "markdown",
      "source": [
        "# Ejercicio 2"
      ],
      "metadata": {
        "id": "68sDWTrvwWjK"
      }
    },
    {
      "cell_type": "code",
      "source": [
        "# Importamos numpy para trabajar con listas\n",
        "import numpy as np\n",
        "# Definimos la entrada x como una lista de datos\n",
        "x2=[0, 10, 20, 30, 40, 50]\n",
        "\n",
        "# Definimos la salida como el doble de x por la ecuacion y = 2x\n",
        "y2=[2, 102, 402, 902, 1602, 2502]\n",
        "\n",
        "# Obenermos el producto de xy mediante la funcion multiply de numpy\n",
        "xy2= np.multiply(x,y)\n",
        "\n",
        "# Obenermos el producto de xx mediante la funcion multiply de numpy\n",
        "xx2= np.multiply(x,x)\n",
        "\n",
        "# calculamos la sumatorias de x, y, xx, yy con la funcion sum \n",
        "sumx2=sum(x)\n",
        "sumy2=sum(y)\n",
        "sumxy2=sum(xy)\n",
        "sumxx2=sum(xx)\n",
        "# Calculamos el numero de datos de entrada\n",
        "n2=len(x)\n",
        "# Aplicamos la formula para m\n",
        "m2=((n2*sumxy2) - (sumx2*sumy2))/((n2*sumxx2) - (sumx2)**2)\n",
        "print(\"El valor de m es: \" +str(m2)+\"\\n\")\n",
        "\n",
        "# Aplicamos la formula para b\n",
        "b2=((sumy2*sumxx2) - (sumx2*sumxy2))/((n2*sumxx2) - (sumx2)**2)\n",
        "print(\"El valor de b es: \" +str(b2)+\"\\n\")"
      ],
      "metadata": {
        "colab": {
          "base_uri": "https://localhost:8080/"
        },
        "outputId": "e2989d09-0082-4200-ba1b-4836b836f403",
        "id": "jSD2WZPDwMAz"
      },
      "execution_count": 76,
      "outputs": [
        {
          "output_type": "stream",
          "name": "stdout",
          "text": [
            "El valor de m es: 2.0\n",
            "\n",
            "El valor de b es: 0.0\n",
            "\n"
          ]
        }
      ]
    },
    {
      "cell_type": "markdown",
      "source": [
        "Se obtiene como resultado y = 50x -331.33 cuya grafica luce de la siguente manera:"
      ],
      "metadata": {
        "id": "wulfAZVlxKJU"
      }
    },
    {
      "cell_type": "code",
      "source": [
        "# importamos matplotlib.pyplot para graficar\n",
        "import matplotlib.pyplot as plt\n",
        "# Definimos la funcion para que nos retorne la el valor de y\n",
        "def f1(g):\n",
        "    return 50*g - 331.33\n",
        "# Valores del eje X que toma el gráfico\n",
        "g = range(0, 50)\n",
        "# Graficar funcion\n",
        "plt.scatter(g, [f1(i) for i in g])\n",
        "plt.plot(g, [f1(i) for i in g])\n",
        "# Colocamos etiquetas para reconocer el eje x, y\n",
        "plt.xlabel('x')\n",
        "plt.ylabel('y')\n",
        "# Asignamos un titulo para la grafica\n",
        "plt.title('y = 50x - 331.33')\n",
        "plt.show()"
      ],
      "metadata": {
        "colab": {
          "base_uri": "https://localhost:8080/",
          "height": 295
        },
        "id": "LrlzlD8Sy3q3",
        "outputId": "d2891f56-b6e0-42a8-f1eb-002fda929561"
      },
      "execution_count": 77,
      "outputs": [
        {
          "output_type": "display_data",
          "data": {
            "text/plain": [
              "<Figure size 432x288 with 1 Axes>"
            ],
            "image/png": "[encoded data removed]"
          },
          "metadata": {
            "needs_background": "light"
          }
        }
      ]
    },
    {
      "cell_type": "code",
      "source": [
        "# importamos matplotlib.pyplot para graficar\n",
        "import matplotlib.pyplot as plt\n",
        "# Definimos la funcion para que nos retorne la el valor de y\n",
        "def f2(g):\n",
        "    return 2*g\n",
        "# Valores del eje X que toma el gráfico\n",
        "g = range(0, 50)\n",
        "# Graficar funcion\n",
        "plt.scatter(g, [f2(i) for i in g])\n",
        "plt.plot(g, [f2(i) for i in g],)\n",
        "# Colocamos etiquetas para reconocer el eje x, y\n",
        "plt.xlabel('x')\n",
        "plt.ylabel('y')\n",
        "# Asignamos un titulo para la grafica\n",
        "plt.title('La sensibilidad es: y = 2 x')\n",
        "plt.show()"
      ],
      "metadata": {
        "colab": {
          "base_uri": "https://localhost:8080/",
          "height": 295
        },
        "id": "nrVCYv_toI4_",
        "outputId": "0dc0f372-1616-45fc-fc61-0eaf1645c1c5"
      },
      "execution_count": 78,
      "outputs": [
        {
          "output_type": "display_data",
          "data": {
            "text/plain": [
              "<Figure size 432x288 with 1 Axes>"
            ],
            "image/png": "[encoded data removed]"
          },
          "metadata": {
            "needs_background": "light"
          }
        }
      ]
    },
    {
      "cell_type": "markdown",
      "source": [
        "# Linealidad ajustada a cero"
      ],
      "metadata": {
        "id": "o0d4stBBU_mr"
      }
    },
    {
      "cell_type": "code",
      "source": [
        "import numpy as np\n",
        "import matplotlib.pyplot as plt\n",
        "\n",
        "# Datos de ejemplo\n",
        "x3 = np.array(x2)\n",
        "y3 = np.array(y2)\n",
        "\n",
        "# Calcular los coeficientes de la línea de regresión\n",
        "slope, intercept = np.polyfit(x3, y3, 1)\n",
        "\n",
        "# Graficar los datos y la línea de regresión\n",
        "plt.scatter(x3, y3)\n",
        "plt.plot(x3, slope * x3)\n",
        "plt.xlabel('X')\n",
        "plt.ylabel('Y')\n",
        "plt.title('Linealidad ajustada a cero')\n",
        "plt.show()"
      ],
      "metadata": {
        "colab": {
          "base_uri": "https://localhost:8080/",
          "height": 295
        },
        "id": "GMzUQtj0VGHZ",
        "outputId": "d421e006-5c1e-4ae4-9a2c-d9695fa68e5e"
      },
      "execution_count": 79,
      "outputs": [
        {
          "output_type": "display_data",
          "data": {
            "text/plain": [
              "<Figure size 432x288 with 1 Axes>"
            ],
            "image/png": "[encoded data removed]"
          },
          "metadata": {
            "needs_background": "light"
          }
        }
      ]
    },
    {
      "cell_type": "markdown",
      "source": [
        "# Linealidad terminal"
      ],
      "metadata": {
        "id": "8gk4xrMc-T1O"
      }
    },
    {
      "cell_type": "code",
      "source": [
        "# Arreglos de atos para graficar \n",
        "x2p = np.array(x2)\n",
        "y2p = np.array(y2)\n",
        "# Aproximación de la pendiente\n",
        "m = (y2p[-1] - y2p[-2]) / (x2p[-1] - x2p[-2])\n",
        "\n",
        "# Graficar la curva y la linealidad terminal\n",
        "plt.plot(x2p, y2p, label='Respuesta al escalón')\n",
        "plt.plot(x2p[-2:], y2p[-2] + m*(x2p[-2:] - x2p[-2]), label='Linealidad terminal')\n",
        "plt.legend()\n",
        "plt.show()"
      ],
      "metadata": {
        "colab": {
          "base_uri": "https://localhost:8080/",
          "height": 265
        },
        "outputId": "2046f748-17b8-429d-fd31-4168eb610ca8",
        "id": "R8-0UCEH-V9h"
      },
      "execution_count": 80,
      "outputs": [
        {
          "output_type": "display_data",
          "data": {
            "text/plain": [
              "<Figure size 432x288 with 1 Axes>"
            ],
            "image/png": "[encoded data removed]"
          },
          "metadata": {
            "needs_background": "light"
          }
        }
      ]
    },
    {
      "cell_type": "markdown",
      "source": [
        "# Linealidad a través de los extremos"
      ],
      "metadata": {
        "id": "eVIc0Lf__1wl"
      }
    },
    {
      "cell_type": "code",
      "source": [
        "import numpy as np\n",
        "import matplotlib.pyplot as plt\n",
        "\n",
        "# Definir los datos\n",
        "xe2 = np.array(x2)\n",
        "ye2 = np.array(y2)\n",
        "# Realizar una regresión lineal de los puntos extremos\n",
        "slope, intercept = np.polyfit([xe2[0], xe2[-1]], [ye2[0], ye2[-1]], 1)\n",
        "\n",
        "# Calcular la predicción de la regresión lineal para todo el rango de valores de x\n",
        "xe_range = np.linspace(xe2[0], xe2[-1], 100)\n",
        "ye_pred = slope * xe_range + intercept\n",
        "\n",
        "# Graficar los datos y la línea de regresión\n",
        "plt.plot(xe2, ye2, 'o', label='Datos')\n",
        "plt.plot(xe_range, ye_pred, label='Linealidad')\n",
        "plt.legend()\n",
        "plt.show()"
      ],
      "metadata": {
        "colab": {
          "base_uri": "https://localhost:8080/",
          "height": 265
        },
        "id": "B73_4G0W_5e7",
        "outputId": "3695e3bf-1d6d-4817-896d-02e338a9e5b8"
      },
      "execution_count": 81,
      "outputs": [
        {
          "output_type": "display_data",
          "data": {
            "text/plain": [
              "<Figure size 432x288 with 1 Axes>"
            ],
            "image/png": "[encoded data removed]"
          },
          "metadata": {
            "needs_background": "light"
          }
        }
      ]
    },
    {
      "cell_type": "markdown",
      "source": [
        "# Linealidad teórica\n"
      ],
      "metadata": {
        "id": "WXVVC6uFAnP2"
      }
    },
    {
      "cell_type": "code",
      "source": [
        "import matplotlib.pyplot as plt\n",
        "import numpy as np\n",
        "# Datos experimentales\n",
        "xlt2 = np.array(x2)\n",
        "ylt2 = np.array(y2)\n",
        "# Ecuación de la línea teórica\n",
        "m = 0.5  # Pendiente\n",
        "b = 0.2  # Intercepto\n",
        "x_teoria = np.linspace(0, 50, 100)\n",
        "y_teoria = m * x_teoria + b\n",
        "\n",
        "# Graficar los datos experimentales y la línea teórica\n",
        "plt.plot(xlt2, ylt2, 'o', label='Datos experimentales')\n",
        "plt.plot(x_teoria, y_teoria, label='Línea teórica')\n",
        "plt.legend()\n",
        "plt.xlabel('x')\n",
        "plt.ylabel('y')\n",
        "plt.title('Linealidad teórica')\n",
        "plt.show()"
      ],
      "metadata": {
        "colab": {
          "base_uri": "https://localhost:8080/",
          "height": 295
        },
        "id": "bLDKvfLZAuhs",
        "outputId": "b2a32699-d6b0-4720-8d6c-b80367d180e2"
      },
      "execution_count": 82,
      "outputs": [
        {
          "output_type": "display_data",
          "data": {
            "text/plain": [
              "<Figure size 432x288 with 1 Axes>"
            ],
            "image/png": "[encoded data removed]"
          },
          "metadata": {
            "needs_background": "light"
          }
        }
      ]
    },
    {
      "cell_type": "markdown",
      "source": [
        "# Ejercicio 3 \n",
        "Dos personas realizan 3 mediciones de posición paradas a 2m de distancia de \n",
        "una pared con un sensor ultrasónico, las mediciones son las siguientes: \n",
        "* 1a: 199.8cm, lb: 205cm.\n",
        "* 2a: 197.8cm, 2b: 201.5 cm. \n",
        "* 3a: 203cm, 3b 198 cm. \n",
        "\n",
        "1. Determina la incertidumbre y error relativo en cada medición.\n",
        "2. Determina un rango de fidelidad de cada individuo. \n",
        "3. Determina un rango de repetibilidad"
      ],
      "metadata": {
        "id": "f8eqT9O1nML8"
      }
    },
    {
      "cell_type": "markdown",
      "source": [
        "# Error absoluto"
      ],
      "metadata": {
        "id": "flEERU0XrlUb"
      }
    },
    {
      "cell_type": "markdown",
      "source": [
        "# Medicion 1 (Operarios a y b)"
      ],
      "metadata": {
        "id": "pq_if0dZrscP"
      }
    },
    {
      "cell_type": "code",
      "execution_count": 83,
      "metadata": {
        "colab": {
          "base_uri": "https://localhost:8080/"
        },
        "outputId": "889e2e83-dad2-4de6-eb45-47e8e7c0caa3",
        "id": "uhmEJLkErwgi"
      },
      "outputs": [
        {
          "output_type": "stream",
          "name": "stdout",
          "text": [
            "El error absoluto para el operio a en la medicion 1 es: -0.19999999999998863\n",
            "\n",
            "El error absoluto para el operio b en la medicion 1 es: 5\n"
          ]
        }
      ],
      "source": [
        "# Definimos las constantes (valor verdadero como vv2).\n",
        "vv2=200\n",
        "# Definimos los resultados obtenidos para las maediciones.\n",
        "# Medicion 1 (Operarios a y b como a4 y b4).\n",
        "a4=199.8\n",
        "b4=205\n",
        "# Plasmamos la ecuacion para el error absoluto en la siguiente linea para cada operario y definimos error apsoluto como ea.\n",
        "# Operio a\n",
        "ea4a=a4-vv2\n",
        "print (\"El error absoluto para el operio a en la medicion 1 es: \"+ str(ea4a)+\"\\n\")\n",
        "# Operio b\n",
        "ea4b=b4-vv2\n",
        "print (\"El error absoluto para el operio b en la medicion 1 es: \"+ str(ea4b))"
      ]
    },
    {
      "cell_type": "markdown",
      "source": [
        "# Medicion 2 (Operarios a y b)"
      ],
      "metadata": {
        "id": "U6OXDFSUtbv3"
      }
    },
    {
      "cell_type": "code",
      "execution_count": 84,
      "metadata": {
        "colab": {
          "base_uri": "https://localhost:8080/"
        },
        "outputId": "48e494d1-e27f-4b14-f94d-4264bc3c8a33",
        "id": "159mtZtKte4i"
      },
      "outputs": [
        {
          "output_type": "stream",
          "name": "stdout",
          "text": [
            "El error absoluto para el operio a en la medicion 2 es: -2.1999999999999886\n",
            "\n",
            "El error absoluto para el operio b en la medicion 2 es: 1.5\n"
          ]
        }
      ],
      "source": [
        "# Definimos las constantes (valor verdadero como vv2).\n",
        "vv2=200\n",
        "# Definimos los resultados obtenidos para las maediciones.\n",
        "# Medicion 2 (Operarios a y b como a5 y b5).\n",
        "a5=197.8\n",
        "b5=201.5\n",
        "# Plasmamos la ecuacion para el error absoluto en la siguiente linea para cada operario y definimos error apsoluto como ea.\n",
        "# Operio a\n",
        "ea5a=a5-vv2\n",
        "print (\"El error absoluto para el operio a en la medicion 2 es: \"+ str(ea5a)+\"\\n\")\n",
        "# Operio b\n",
        "ea5b=b5-vv2\n",
        "print (\"El error absoluto para el operio b en la medicion 2 es: \"+ str(ea5b))"
      ]
    },
    {
      "cell_type": "markdown",
      "source": [
        "# Medicion 3 (Operarios a y b)"
      ],
      "metadata": {
        "id": "ADiGe_HYvvUs"
      }
    },
    {
      "cell_type": "code",
      "execution_count": 85,
      "metadata": {
        "colab": {
          "base_uri": "https://localhost:8080/"
        },
        "outputId": "d116416b-9005-436a-dd56-2ffd57e3a27e",
        "id": "MukwCyWsvr3b"
      },
      "outputs": [
        {
          "output_type": "stream",
          "name": "stdout",
          "text": [
            "El error absoluto para el operio a en la medicion 2 es: 3\n",
            "\n",
            "El error absoluto para el operio b en la medicion 2 es: -2\n"
          ]
        }
      ],
      "source": [
        "# Definimos las constantes (valor verdadero como vv2).\n",
        "vv2=200\n",
        "# Definimos los resultados obtenidos para las maediciones.\n",
        "# Medicion 2 (Operarios a y b como a6 y b6).\n",
        "a6=203\n",
        "b6=198\n",
        "# Plasmamos la ecuacion para el error absoluto en la siguiente linea para cada operario y definimos error apsoluto como ea.\n",
        "# Operio a\n",
        "ea6a=a6-vv2\n",
        "print (\"El error absoluto para el operio a en la medicion 2 es: \"+ str(ea6a)+\"\\n\")\n",
        "# Operio b\n",
        "ea6b=b6-vv2\n",
        "print (\"El error absoluto para el operio b en la medicion 2 es: \"+ str(ea6b))"
      ]
    },
    {
      "cell_type": "markdown",
      "source": [
        "# Error relativo"
      ],
      "metadata": {
        "id": "7dBIV6gDzNQX"
      }
    },
    {
      "cell_type": "markdown",
      "source": [
        "# Medicion 1 (Operarios a y b)"
      ],
      "metadata": {
        "id": "mk1C4SwP0ZMo"
      }
    },
    {
      "cell_type": "code",
      "execution_count": 86,
      "metadata": {
        "colab": {
          "base_uri": "https://localhost:8080/"
        },
        "outputId": "8abb4d32-ef32-4e66-80c3-1a8a22ea4fdf",
        "id": "-t7wYH1K0bz2"
      },
      "outputs": [
        {
          "output_type": "stream",
          "name": "stdout",
          "text": [
            "El error relativo para el operio b en la medicion 1 es: -0.10%\n",
            "\n",
            "El error relativo para el operio b en la medicion 1 es: 2.50%\n"
          ]
        }
      ],
      "source": [
        "# Definimos las constantes (valor verdadero como vv, incluimos los errores absolutos calculados con anterioridad (ea4a y ea4b, ea5a y ea5b, ea6a y ea6b), y los integramos en la ecuacion.\n",
        "vv2=200\n",
        "# Definimos error relativo como er y agrgamos la ecuacion\n",
        "# Oprario a\n",
        "er4a=(ea4a/vv2)*100\n",
        "print(\"El error relativo para el operio b en la medicion 1 es: \" + \"{:.2f}%\\n\".format(er4a))\n",
        "# Oprario b\n",
        "er4b=(ea4b/vv2)*100\n",
        "print(\"El error relativo para el operio b en la medicion 1 es: \" + \"{:.2f}%\".format(er4b))"
      ]
    },
    {
      "cell_type": "markdown",
      "source": [
        "# Medicion 2 (Operarios a y b)"
      ],
      "metadata": {
        "id": "0jge-2aM1l9W"
      }
    },
    {
      "cell_type": "code",
      "execution_count": 87,
      "metadata": {
        "colab": {
          "base_uri": "https://localhost:8080/"
        },
        "outputId": "4114b682-c9b0-42df-e819-8574cd51f561",
        "id": "A6AwWpfc1oJu"
      },
      "outputs": [
        {
          "output_type": "stream",
          "name": "stdout",
          "text": [
            "El error relativo para el operio b en la medicion 2 es: -1.10%\n",
            "\n",
            "El error relativo para el operio b en la medicion 2 es: 0.75%\n"
          ]
        }
      ],
      "source": [
        "# Definimos las constantes (valor verdadero como vv, incluimos los errores absolutos calculados con anterioridad (ea4a y ea4b, ea5a y ea5b, ea6a y ea6b), y los integramos en la ecuacion.\n",
        "vv2=200\n",
        "# Definimos error relativo como er y agrgamos la ecuacion\n",
        "# Oprario a\n",
        "er5a=(ea5a/vv2)*100\n",
        "print(\"El error relativo para el operio b en la medicion 2 es: \" + \"{:.2f}%\\n\".format(er5a))\n",
        "# Oprario b\n",
        "er5b=(ea5b/vv2)*100\n",
        "print(\"El error relativo para el operio b en la medicion 2 es: \" + \"{:.2f}%\".format(er5b))"
      ]
    },
    {
      "cell_type": "markdown",
      "source": [
        "# Medicion 3 (Operarios a y b)"
      ],
      "metadata": {
        "id": "9qsWwWG82p2R"
      }
    },
    {
      "cell_type": "code",
      "execution_count": 88,
      "metadata": {
        "colab": {
          "base_uri": "https://localhost:8080/"
        },
        "outputId": "5c09d834-2f06-442e-f5ec-060c456e29e4",
        "id": "RtgYrHkoILMr"
      },
      "outputs": [
        {
          "output_type": "stream",
          "name": "stdout",
          "text": [
            "El error relativo para el operio b en la medicion 3 es: 1.50%\n",
            "\n",
            "El error relativo para el operio b en la medicion 3 es: -1.00%\n"
          ]
        }
      ],
      "source": [
        "# Definimos las constantes (valor verdadero como vv, incluimos los errores absolutos calculados con anterioridad (ea4a y ea4b, ea5a y ea5b, ea6a y ea6b), y los integramos en la ecuacion.\n",
        "vv2=200\n",
        "# Definimos error relativo como er y agrgamos la ecuacion\n",
        "# Oprario a\n",
        "er6a=(ea6a/vv2)*100\n",
        "print(\"El error relativo para el operio b en la medicion 3 es: \" + \"{:.2f}%\\n\".format(er6a))\n",
        "# Oprario b\n",
        "er6b=(ea6b/vv2)*100\n",
        "print(\"El error relativo para el operio b en la medicion 3 es: \" + \"{:.2f}%\".format(er6b))"
      ]
    },
    {
      "cell_type": "markdown",
      "source": [
        "# Incertidumbre"
      ],
      "metadata": {
        "id": "mg9GypeaJfEg"
      }
    },
    {
      "cell_type": "markdown",
      "source": [
        "# Incertidumbre (a y b)"
      ],
      "metadata": {
        "id": "QZAknhU8Jrr0"
      }
    },
    {
      "cell_type": "code",
      "source": [
        "# Definimos los valores maximo y minimo como vmax y vmin\n",
        "# Utilizamos la funcion max y min para realizar la tarea anterior\n",
        "\n",
        "# vmax a\n",
        "vmaxa2=max([a4, a5, a6])\n",
        "# vmax b\n",
        "vmaxb2=max([b4, b5, b6])\n",
        "# vmin a\n",
        "vmina2=min([a4, a5, a6])\n",
        "# vmin b\n",
        "vminb2=min([b4, b5, b6])\n",
        "\n",
        "# Incertidumbre a\n",
        "# Definimos la formula(incertidumbre queda como inca)\n",
        "inca2=vmaxa2 - vmina2\n",
        "print(\"La incertidumbre para a es: \"+str(inca2)+\"\\n\")\n",
        "\n",
        "# Incertidumbre b\n",
        "# Definimos la formula(incertidumbre queda como incb)\n",
        "incb2=vmaxb2 - vminb2\n",
        "print(\"La incertidumbre para b es: \"+str(incb2))\n"
      ],
      "metadata": {
        "colab": {
          "base_uri": "https://localhost:8080/"
        },
        "outputId": "77662117-b614-47d4-a25d-56e30f0b6663",
        "id": "RBup_w9jJuQD"
      },
      "execution_count": 89,
      "outputs": [
        {
          "output_type": "stream",
          "name": "stdout",
          "text": [
            "La incertidumbre para a es: 5.199999999999989\n",
            "\n",
            "La incertidumbre para b es: 7\n"
          ]
        }
      ]
    },
    {
      "cell_type": "markdown",
      "source": [
        "# Fidelidad"
      ],
      "metadata": {
        "id": "jeJfGgLmvQmI"
      }
    },
    {
      "cell_type": "markdown",
      "source": [
        "# a"
      ],
      "metadata": {
        "id": "4h6dZ_WBvSuv"
      }
    },
    {
      "cell_type": "code",
      "source": [
        "# Utilizamos los valores de las medidads previamente declaradas\n",
        "# Y aplicamos la formula, definimos la fidelidad como fa1, fa2 y fa3\n",
        "\n",
        "# la fidelidad de a4\n",
        "fa4=abs(a4-a5)\n",
        "print(\"La fidelidad 1 de a es: \" + str(fa4) + \"\\n\")\n",
        "# la fidelidad de a5\n",
        "fa5=abs(a4-a6)\n",
        "print(\"La fidelidad 2 de a es: \" + str(fa5) + \"\\n\")\n",
        "# la fidelidad de a6\n",
        "fa6=abs(a6-a5)\n",
        "print(\"La fidelidad 3 de a es: \" + str(fa6) + \"\\n\")"
      ],
      "metadata": {
        "colab": {
          "base_uri": "https://localhost:8080/"
        },
        "outputId": "a7341b7f-e221-4ede-824b-674c17a34eb2",
        "id": "sOYOlZ55vV0A"
      },
      "execution_count": 90,
      "outputs": [
        {
          "output_type": "stream",
          "name": "stdout",
          "text": [
            "La fidelidad 1 de a es: 2.0\n",
            "\n",
            "La fidelidad 2 de a es: 3.1999999999999886\n",
            "\n",
            "La fidelidad 3 de a es: 5.199999999999989\n",
            "\n"
          ]
        }
      ]
    },
    {
      "cell_type": "markdown",
      "source": [
        "# b"
      ],
      "metadata": {
        "id": "jpYFKwpx8ns1"
      }
    },
    {
      "cell_type": "code",
      "source": [
        "# Utilizamos los valores de las medidads previamente declaradas\n",
        "# Y aplicamos la formula tomado el absoluto de cada resta, definimos la fidelidad como fb1, fb2 y fb3\n",
        "\n",
        "# la fidelidad de a4\n",
        "fb4=abs(b4-b5)\n",
        "print(\"La fidelidad 1 de b es: \" + str(fb4) + \"\\n\")\n",
        "# la fidelidad de a5\n",
        "fb5=abs(b6-b4)\n",
        "print(\"La fidelidad 2 de b es: \" + str(fb5) + \"\\n\")\n",
        "# la fidelidad de a6\n",
        "fb6=abs(b6-b5)\n",
        "print(\"La fidelidad 3 de b es: \" + str(fb6) + \"\\n\")"
      ],
      "metadata": {
        "colab": {
          "base_uri": "https://localhost:8080/"
        },
        "outputId": "50fe7fec-f45f-4f22-da09-c64a007c6804",
        "id": "LgkzKTlF9Fut"
      },
      "execution_count": 91,
      "outputs": [
        {
          "output_type": "stream",
          "name": "stdout",
          "text": [
            "La fidelidad 1 de b es: 3.5\n",
            "\n",
            "La fidelidad 2 de b es: 7\n",
            "\n",
            "La fidelidad 3 de b es: 3.5\n",
            "\n"
          ]
        }
      ]
    },
    {
      "cell_type": "markdown",
      "source": [
        "# Reproducibilidad"
      ],
      "metadata": {
        "id": "JIQ97E1PFq7E"
      }
    },
    {
      "cell_type": "markdown",
      "source": [
        "# Medicion 1"
      ],
      "metadata": {
        "id": "qBjKDZTOFmej"
      }
    },
    {
      "cell_type": "code",
      "source": [
        "# Tomamos el valor absoluto de la resta de la medicion del operador a y b\n",
        "re4=abs(a4-b4)\n",
        "print(\"La resproducibilidad de la medicion 1 es: \"+str(re4))"
      ],
      "metadata": {
        "colab": {
          "base_uri": "https://localhost:8080/"
        },
        "outputId": "91504fda-0cf8-4afa-b430-71494e5486f3",
        "id": "3wFxAxjQFt9n"
      },
      "execution_count": 92,
      "outputs": [
        {
          "output_type": "stream",
          "name": "stdout",
          "text": [
            "La resproducibilidad de la medicion 1 es: 5.199999999999989\n"
          ]
        }
      ]
    },
    {
      "cell_type": "markdown",
      "source": [
        "# Medicion 2"
      ],
      "metadata": {
        "id": "gp_2VPsyHtM-"
      }
    },
    {
      "cell_type": "code",
      "source": [
        "# Tomamos el valor absoluto de la resta de la medicion del operador a y b\n",
        "re5=abs(a5-b5)\n",
        "print(\"La resproducibilidad de la medicion 1 es: \"+str(re5))"
      ],
      "metadata": {
        "colab": {
          "base_uri": "https://localhost:8080/"
        },
        "id": "lMEApeJFHwM4",
        "outputId": "1b85181e-d56c-494a-8c7c-78439a258bda"
      },
      "execution_count": 93,
      "outputs": [
        {
          "output_type": "stream",
          "name": "stdout",
          "text": [
            "La resproducibilidad de la medicion 1 es: 3.6999999999999886\n"
          ]
        }
      ]
    },
    {
      "cell_type": "markdown",
      "source": [
        "# Medicion 3"
      ],
      "metadata": {
        "id": "M0v5piiLKoKk"
      }
    },
    {
      "cell_type": "code",
      "source": [
        "# Tomamos el valor absoluto de la resta de la medicion del operador a y b\n",
        "re6=abs(a6-b6)\n",
        "print(\"La resproducibilidad de la medicion 1 es: \"+str(re6))"
      ],
      "metadata": {
        "colab": {
          "base_uri": "https://localhost:8080/"
        },
        "id": "G3zvRjpCKqAU",
        "outputId": "d6d63216-4f51-46cd-85df-8934534fb40a"
      },
      "execution_count": 94,
      "outputs": [
        {
          "output_type": "stream",
          "name": "stdout",
          "text": [
            "La resproducibilidad de la medicion 1 es: 5\n"
          ]
        }
      ]
    },
    {
      "cell_type": "markdown",
      "source": [
        "# Función de trasferencia de un motor"
      ],
      "metadata": {
        "id": "cqhk8tX9hdgu"
      }
    },
    {
      "cell_type": "markdown",
      "source": [
        "\\begin{equation}\n",
        "G(s) = \\frac{k}{(tau * s + 1)}\n",
        "\\end{equation}\n"
      ],
      "metadata": {
        "id": "P3X5bYiU8_a1"
      }
    },
    {
      "cell_type": "code",
      "source": [
        "import numpy as np\n",
        "import matplotlib.pyplot as plt\n",
        "import control\n",
        "# Parámetros del motor\n",
        "R = 1.0  # Resistencia\n",
        "L = 0.5  # Inductancia\n",
        "K = 0.01  # Constante de torque\n",
        "J = 0.01  # Momento de inercia\n",
        "B = 0.1  # Fricción\n",
        "\n",
        "# Función de transferencia\n",
        "num = [K]\n",
        "den = [J*L, B*L+J*R, B*R+K**2]\n",
        "s = np.linspace(0, 100, 1000)\n",
        "sys = control.tf(num, den)\n",
        "yout, T = control.step_response(sys, s)\n",
        "\n",
        "# Gráfico de la función de transferencia\n",
        "plt.scatter(T, yout)\n",
        "plt.plot(T, yout)\n",
        "plt.title('Respuesta del sistema')\n",
        "plt.xlabel('Tiempo (s)')\n",
        "plt.ylabel('Posición angular (rad)')\n",
        "plt.grid()\n",
        "plt.show()\n"
      ],
      "metadata": {
        "colab": {
          "base_uri": "https://localhost:8080/",
          "height": 295
        },
        "id": "2fmY1L2ZhpUj",
        "outputId": "5fbe2e60-9a1d-40ed-940c-683ec20c56b7"
      },
      "execution_count": 95,
      "outputs": [
        {
          "output_type": "display_data",
          "data": {
            "text/plain": [
              "<Figure size 432x288 with 1 Axes>"
            ],
            "image/png": "[encoded data removed]"
          },
          "metadata": {
            "needs_background": "light"
          }
        }
      ]
    },
    {
      "cell_type": "markdown",
      "source": [
        "# Funciones de transferencia primer grado "
      ],
      "metadata": {
        "id": "cMdjYvnFCJcZ"
      }
    },
    {
      "cell_type": "markdown",
      "metadata": {
        "id": "XGVptVDxY8jd"
      },
      "source": [
        "Defining transfer funtion with $k=2.4$ and $\\tau=3.19$: transfer function data determined with error 2% that is $n=ln(\\frac{1}{n})$\n",
        "\n",
        "$tf(s)=\\frac{2.4}{3.19s+1}$"
      ]
    },
    {
      "cell_type": "code",
      "source": [
        "# Importamos las librerias\n",
        "import numpy as np\n",
        "import control as cn\n",
        "import matplotlib.pyplot as plt\n",
        "\n",
        "# Definimos las variables\n",
        "num = [2.4]\n",
        "den =[3.19,1]\n",
        "transfer_function = cn.tf(num,den)\n",
        "\n",
        "\n",
        "# Determinamos el inicio y fin de la grafica\n",
        "tstart = 0\n",
        "tend = 30\n",
        "sample = 0.001\n",
        "time = np.arange(tstart,tend+sample, sample)\n",
        "input2 = np.ones(time.shape)\n",
        "input2[0:5]= 0\n",
        "\n",
        "# Definimos la funvion de escalon unitario\n",
        "time, yout = cn.step_response(transfer_function,time)\n",
        "\n",
        "# Definimos el grafico\n",
        "figure = plt.figure(figsize=(10,10))\n",
        "ax = figure.add_subplot(111)\n",
        "ax.plot(time,yout,label ='y(t)')\n",
        "ax.plot(time,input2,'r', label='x(t)')\n",
        "ax.set_title('Plotting Transfer Function')\n",
        "ax.set_xlabel('t')\n",
        "ax.set_ylabel('y(t)')\n",
        "ax.axis([0,30,0,12])#ax.axis([xmin,xmax,ymin,ymax])\n",
        "ax.legend()\n",
        "ax.grid()\n",
        "plt.show()\n",
        "\n"
      ],
      "metadata": {
        "colab": {
          "base_uri": "https://localhost:8080/",
          "height": 621
        },
        "outputId": "b5ca3130-f13f-42ea-b87b-1c2b84d9773d",
        "id": "NW91njV9Y-82"
      },
      "execution_count": 96,
      "outputs": [
        {
          "output_type": "display_data",
          "data": {
            "text/plain": [
              "<Figure size 720x720 with 1 Axes>"
            ],
            "image/png": "[encoded data removed]"
          },
          "metadata": {
            "needs_background": "light"
          }
        }
      ]
    },
    {
      "cell_type": "markdown",
      "metadata": {
        "id": "38cJoMd96aod"
      },
      "source": [
        "Defining transfer funtion with $k=1.3$ and $\\tau=1.3$: transfer function data determined with error 3% that is $n=ln(\\frac{1}{n})$\n",
        "\n",
        "$tf(s)=\\frac{1.3e^{-4.2s}}{1.3s+2}$"
      ]
    },
    {
      "cell_type": "code",
      "source": [
        "# Importamos las librerias\n",
        "import numpy as np\n",
        "import control as cn\n",
        "import matplotlib.pyplot as plt\n",
        "\n",
        "# Definimos las variables\n",
        "num = [1.3]\n",
        "den =[1.3,2]\n",
        "transfer_function = cn.tf(num,den)\n",
        "\n",
        "# Definimos el retardo de la funcion de tranferencia\n",
        "numd, dend = cn.pade(5,25) #exp 5 seg.\n",
        "delay = cn.tf(numd,dend)\n",
        "system_delayed=transfer_function*delay\n",
        "\n",
        "# Determinamos el inicio y fin de la grafica\n",
        "tstart =0\n",
        "tend = 14\n",
        "sample = 0.001\n",
        "time = np.arange(tstart,tend+sample, sample)\n",
        "input2 = np.ones(time.shape)\n",
        "input2[0:6]= 0\n",
        "\n",
        "# Definimos la funvion de escalon unitario\n",
        "time, yout = cn.step_response(system_delayed,time)\n",
        "\n",
        "# Definimos el grafico\n",
        "figure = plt.figure(figsize=(10,10))\n",
        "ax = figure.add_subplot(111)\n",
        "ax.plot(time,yout,label ='y(t)')\n",
        "ax.plot(time,input2,'r', label='x(t)')\n",
        "ax.set_title('Plotting Transfer Function')\n",
        "ax.set_xlabel('t')\n",
        "ax.set_ylabel('y(t)')\n",
        "ax.axis([0,14,0,2])#ax.axis([xmin,xmax,ymin,ymax])\n",
        "ax.legend()\n",
        "ax.grid()\n",
        "plt.show()\n",
        "\n"
      ],
      "metadata": {
        "id": "V2Q9e4GmCY2w",
        "colab": {
          "base_uri": "https://localhost:8080/",
          "height": 656
        },
        "outputId": "c78029f6-f678-4b2a-b9f4-e5847462443f"
      },
      "execution_count": 97,
      "outputs": [
        {
          "output_type": "stream",
          "name": "stderr",
          "text": [
            "/usr/local/lib/python3.8/dist-packages/scipy/sparse/linalg/matfuncs.py:709: LinAlgWarning: Ill-conditioned matrix (rcond=2.84605e-38): result may not be accurate.\n",
            "  return solve(Q, P)\n"
          ]
        },
        {
          "output_type": "display_data",
          "data": {
            "text/plain": [
              "<Figure size 720x720 with 1 Axes>"
            ],
            "image/png": "[encoded data removed]"
          },
          "metadata": {
            "needs_background": "light"
          }
        }
      ]
    },
    {
      "cell_type": "markdown",
      "source": [
        "Defining transfer funtion with $k=0.3$ and $\\tau=5$: transfer function data determined with error 3% that is $n=ln(\\frac{1}{n})$\n",
        "\n",
        "$tf(s)=\\frac{0.3e^{-4.2s}}{5s+10}$"
      ],
      "metadata": {
        "id": "f0CyR-PhhrxQ"
      }
    },
    {
      "cell_type": "code",
      "source": [
        "# Importamos las librerias\n",
        "import numpy as np\n",
        "import control as cn\n",
        "import matplotlib.pyplot as plt\n",
        "\n",
        "# Definimos las variables\n",
        "num = [.3]\n",
        "den =[5,10]\n",
        "transfer_function = cn.tf(num,den)\n",
        "\n",
        "# Definimos el retardo de la funcion de tranferencia\n",
        "numd, dend = cn.pade(5,25) #exp 5 seg.\n",
        "delay = cn.tf(numd,dend)\n",
        "system_delayed=transfer_function*delay\n",
        "\n",
        "# Determinamos el inicio y fin de la grafica\n",
        "tstart =0\n",
        "tend = 14\n",
        "sample = 0.001\n",
        "time = np.arange(tstart,tend+sample, sample)\n",
        "input2 = np.ones(time.shape)\n",
        "input2[0:6]= 0\n",
        "\n",
        "# Definimos la funvion de escalon unitario\n",
        "time, yout = cn.step_response(system_delayed,time)\n",
        "\n",
        "# Definimos el grafico\n",
        "figure = plt.figure(figsize=(10,10))\n",
        "ax = figure.add_subplot(111)\n",
        "ax.plot(time,yout,label ='y(t)')\n",
        "ax.plot(time,input2,'r', label='x(t)')\n",
        "ax.set_title('Plotting Transfer Function')\n",
        "ax.set_xlabel('t')\n",
        "ax.set_ylabel('y(t)')\n",
        "ax.axis([0,14,0,2])#ax.axis([xmin,xmax,ymin,ymax])\n",
        "ax.legend()\n",
        "ax.grid()\n",
        "plt.show()"
      ],
      "metadata": {
        "colab": {
          "base_uri": "https://localhost:8080/",
          "height": 656
        },
        "id": "jeQiLFk0h-VG",
        "outputId": "e04a25cd-712d-44b5-de0c-906c7329e358"
      },
      "execution_count": 98,
      "outputs": [
        {
          "output_type": "stream",
          "name": "stderr",
          "text": [
            "/usr/local/lib/python3.8/dist-packages/scipy/sparse/linalg/matfuncs.py:709: LinAlgWarning: Ill-conditioned matrix (rcond=7.9568e-38): result may not be accurate.\n",
            "  return solve(Q, P)\n"
          ]
        },
        {
          "output_type": "display_data",
          "data": {
            "text/plain": [
              "<Figure size 720x720 with 1 Axes>"
            ],
            "image/png": "[encoded data removed]"
          },
          "metadata": {
            "needs_background": "light"
          }
        }
      ]
    },
    {
      "cell_type": "markdown",
      "source": [
        "Defining transfer funtion with $k=0.3$ and $\\tau=5$: transfer function data determined with error 3% that is $n=ln(\\frac{1}{n})$\n",
        "\n",
        "$tf(s)=\\frac{8e^{-0.4s}}{.2s+.25}$"
      ],
      "metadata": {
        "id": "YZcGhPqxw_w8"
      }
    },
    {
      "cell_type": "code",
      "source": [
        "# Importamos las librerias\n",
        "import numpy as np\n",
        "import control as cn\n",
        "import matplotlib.pyplot as plt\n",
        "\n",
        "# Definimos las variables\n",
        "num = [8]\n",
        "den =[.2,.25]\n",
        "transfer_function = cn.tf(num,den)\n",
        "\n",
        "# Determinamos el inicio y fin de la grafica\n",
        "tstart =0\n",
        "tend = 14\n",
        "sample = 0.001\n",
        "time = np.arange(tstart,tend+sample, sample)\n",
        "input2 = np.ones(time.shape)\n",
        "input2[0:6]= 0\n",
        "\n",
        "# Definimos la funvion de escalon unitario\n",
        "time, yout = cn.step_response(transfer_function,time)\n",
        "\n",
        "# Definimos el grafico\n",
        "figure = plt.figure(figsize=(10,10))\n",
        "ax = figure.add_subplot(111)\n",
        "ax.plot(time,yout,label ='y(t)')\n",
        "ax.plot(time,input2,'r', label='x(t)')\n",
        "ax.set_title('Plotting Transfer Function')\n",
        "ax.set_xlabel('t')\n",
        "ax.set_ylabel('y(t)')\n",
        "ax.axis([-0,14,-0,2])#ax.axis([xmin,xmax,ymin,ymax])\n",
        "ax.legend()\n",
        "ax.grid()\n",
        "plt.show()"
      ],
      "metadata": {
        "colab": {
          "base_uri": "https://localhost:8080/",
          "height": 621
        },
        "id": "yvJH9EwSxRZC",
        "outputId": "7de86ed2-fc39-460b-b54c-8c362e3a64fd"
      },
      "execution_count": 102,
      "outputs": [
        {
          "output_type": "display_data",
          "data": {
            "text/plain": [
              "<Figure size 720x720 with 1 Axes>"
            ],
            "image/png": "[encoded data removed]"
          },
          "metadata": {
            "needs_background": "light"
          }
        }
      ]
    }
  ]
}