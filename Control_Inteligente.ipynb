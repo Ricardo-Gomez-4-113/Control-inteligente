{
  "nbformat": 4,
  "nbformat_minor": 0,
  "metadata": {
    "colab": {
      "provenance": [],
      "authorship_tag": "ABX9TyMPxyCz3CdCRSuNol6vAjtR",
      "include_colab_link": true
    },
    "kernelspec": {
      "name": "python3",
      "display_name": "Python 3"
    },
    "language_info": {
      "name": "python"
    }
  },
  "cells": [
    {
      "cell_type": "markdown",
      "metadata": {
        "id": "view-in-github",
        "colab_type": "text"
      },
      "source": [
        "<a href=\"https://colab.research.google.com/github/Ricardo-Gomez-4-113/Control-inteligente/blob/main/Control_Inteligente.ipynb\" target=\"_parent\"><img src=\"https://colab.research.google.com/assets/colab-badge.svg\" alt=\"Open In Colab\"/></a>"
      ]
    },
    {
      "cell_type": "markdown",
      "source": [
        "# **Tarea de control ineligente**\n",
        "\n",
        "# ***Por: Ricardo Gomez Martinez***"
      ],
      "metadata": {
        "id": "nczGa2-tihw1"
      }
    },
    {
      "cell_type": "markdown",
      "source": [
        "# Ejercicio 1 \n",
        "Un sistema de medición de luminosidad con curva de respuesta es utilizado en \n",
        "un cuarto, se realizaron 3 mediciones por cada operario (operario a y operario b) para verificar los resultados, ya que éstos tuvieron ciertas discrepancias. Las mediciones entregadas por el luxómetro fueron:\n",
        "\n",
        "\n",
        "* 1a: 300lx, lb: 250 lx\n",
        "* 2a: 190 lx, 2b: 320 lx\n",
        "* 3a: 280 lx, 3b 350 lx\n",
        "\n",
        "\n",
        "Se cambio el instrumento de medicion y se concluyo que la luminosidad en el cuarto era de 305 lx. Determina exactitud (error absoluto y error relativo), fidelidad, incertidumbre y reproducibilidad del prirner instrumento de medición \n",
        "utilizado. "
      ],
      "metadata": {
        "id": "_L04yLAdn9gt"
      }
    },
    {
      "cell_type": "markdown",
      "source": [
        "# **Error absoluto y error relativo**\n",
        "\n",
        "\n"
      ],
      "metadata": {
        "id": "aJ5QmZ4BiLNi"
      }
    },
    {
      "cell_type": "markdown",
      "source": [
        "\\begin{equation}\n",
        "\\text{Error absoluto = resultado - valor verdadero}\n",
        "\\end{equation}\n",
        "\n",
        "\\begin{equation}\n",
        "\\text{Error relativo =} \\tfrac{\\text{Error absoluto}} {\\text{Valor verdadero}}\n",
        "\\end{equation}\n",
        "\n"
      ],
      "metadata": {
        "id": "xNevOhr8jhvJ"
      }
    },
    {
      "cell_type": "markdown",
      "source": [
        "# Error absoluto"
      ],
      "metadata": {
        "id": "FIiRsr6Ezwm2"
      }
    },
    {
      "cell_type": "markdown",
      "source": [
        "# Medicion 1 (Operarios a y b)"
      ],
      "metadata": {
        "id": "OgQycMJ5t0Gt"
      }
    },
    {
      "cell_type": "code",
      "execution_count": null,
      "metadata": {
        "colab": {
          "base_uri": "https://localhost:8080/"
        },
        "id": "aYcrfC_xf6CE",
        "outputId": "89773e0c-c66a-42b3-a38e-720a2f2a4d46"
      },
      "outputs": [
        {
          "output_type": "stream",
          "name": "stdout",
          "text": [
            "El error absoluto para el operio a en la medicion 1 es: -5\n",
            "\n",
            "El error absoluto para el operio b en la medicion 1 es: -55\n"
          ]
        }
      ],
      "source": [
        "# Definimos las constantes (valor verdadero como vv).\n",
        "vv=305\n",
        "# Definimos los resultados obtenidos para las maediciones.\n",
        "# Medicion 1 (Operarios a y b como a1 y b1).\n",
        "a1=300\n",
        "b1=250\n",
        "# Plasmamos la ecuacion para el error absoluto en la siguiente linea para cada operario y definimos error apsoluto como ea.\n",
        "# Operio a\n",
        "ea1a=a1-vv\n",
        "print (\"El error absoluto para el operio a en la medicion 1 es: \"+ str(ea1a)+\"\\n\")\n",
        "# Operio b\n",
        "ea1b=b1-vv\n",
        "print (\"El error absoluto para el operio b en la medicion 1 es: \"+ str(ea1b))"
      ]
    },
    {
      "cell_type": "markdown",
      "source": [
        "# Medicion 2 (Operarios a y b)"
      ],
      "metadata": {
        "id": "814gcZJUweDR"
      }
    },
    {
      "cell_type": "code",
      "execution_count": null,
      "metadata": {
        "colab": {
          "base_uri": "https://localhost:8080/"
        },
        "outputId": "f77e326b-bbb2-4885-adbe-131f5cbd70f1",
        "id": "xtG1QPe2wkAa"
      },
      "outputs": [
        {
          "output_type": "stream",
          "name": "stdout",
          "text": [
            "El error absoluto para el operio a en la medicion 2 es: -115\n",
            "\n",
            "El error absoluto para el operio b en la medicion 2 es: 15\n"
          ]
        }
      ],
      "source": [
        "# Definimos las constantes (valor verdadero como vv).\n",
        "vv=305\n",
        "# Definimos los resultados obtenidos para las maediciones.\n",
        "# Medicion 2 (Operarios a y b como a2 y b2).\n",
        "a2=190\n",
        "b2=320\n",
        "# Plasmamos la ecuacion para el error absoluto en la siguiente linea para cada operario y definimos error apsoluto como ea.\n",
        "# Operio a\n",
        "ea2a=a2-vv\n",
        "print (\"El error absoluto para el operio a en la medicion 2 es: \"+ str(ea2a)+\"\\n\")\n",
        "# Operio b\n",
        "ea2b=b2-vv\n",
        "print (\"El error absoluto para el operio b en la medicion 2 es: \"+ str(ea2b))"
      ]
    },
    {
      "cell_type": "markdown",
      "source": [
        "# Medicion 3 (Operarios a y b)"
      ],
      "metadata": {
        "id": "BIkd_b8Qy1kE"
      }
    },
    {
      "cell_type": "code",
      "execution_count": null,
      "metadata": {
        "colab": {
          "base_uri": "https://localhost:8080/"
        },
        "outputId": "fb19a19d-83ba-4565-fa06-5488fcaa649e",
        "id": "2JBsGH5tywQt"
      },
      "outputs": [
        {
          "output_type": "stream",
          "name": "stdout",
          "text": [
            "El error absoluto para el operio a en la medicion 3 es: -25\n",
            "\n",
            "El error absoluto para el operio b en la medicion 3 es: 45\n"
          ]
        }
      ],
      "source": [
        "# Definimos las constantes (valor verdadero como vv).\n",
        "vv=305\n",
        "# Definimos los resultados obtenidos para las maediciones.\n",
        "# Medicion 2 (Operarios a y b como a3 y b3).\n",
        "a3=280\n",
        "b3=350\n",
        "# Plasmamos la ecuacion para el error apsoluto en la siguiente linea para cada operario y definimos error apsoluto como ea.\n",
        "# Operio a\n",
        "ea3a=a3-vv\n",
        "print (\"El error absoluto para el operio a en la medicion 3 es: \"+ str(ea3a)+\"\\n\")\n",
        "# Operio b\n",
        "ea3b=b3-vv\n",
        "print (\"El error absoluto para el operio b en la medicion 3 es: \"+ str(ea3b))"
      ]
    },
    {
      "cell_type": "markdown",
      "source": [
        "# Error relativo"
      ],
      "metadata": {
        "id": "ShQjcn5yz15O"
      }
    },
    {
      "cell_type": "markdown",
      "source": [
        "# Medicion 1 (Operarios a y b)"
      ],
      "metadata": {
        "id": "Miku4Xzn6YWb"
      }
    },
    {
      "cell_type": "code",
      "execution_count": null,
      "metadata": {
        "colab": {
          "base_uri": "https://localhost:8080/"
        },
        "outputId": "2cd82a30-b7c5-4ba5-d65f-d7da78de4868",
        "id": "PZQv2_lJ03e5"
      },
      "outputs": [
        {
          "output_type": "stream",
          "name": "stdout",
          "text": [
            "El error relativo para el operio b en la medicion 1 es: -1.64%\n",
            "\n",
            "El error relativo para el operio b en la medicion 1 es: -18.03%\n"
          ]
        }
      ],
      "source": [
        "# Definimos las constantes (valor verdadero como vv, incluimos los errores absolutos calculados con anterioridad (ea1a y ea1b, ea2a y ea2b, ea3a y ea3b), y los integramos en la ecuacion.\n",
        "vv=305\n",
        "# Definimos error relativo como er y agrgamos la ecuacion\n",
        "# Oprario a\n",
        "er1a=(ea1a/vv)*100\n",
        "print(\"El error relativo para el operio b en la medicion 1 es: \" + \"{:.2f}%\\n\".format(er1a))\n",
        "# Oprario b\n",
        "er1b=(ea1b/vv)*100\n",
        "print(\"El error relativo para el operio b en la medicion 1 es: \" + \"{:.2f}%\".format(er1b))"
      ]
    },
    {
      "cell_type": "markdown",
      "source": [
        "# Medicion 2 (Operarios a y b)"
      ],
      "metadata": {
        "id": "-ZH3Hjk1lt8M"
      }
    },
    {
      "cell_type": "code",
      "execution_count": null,
      "metadata": {
        "colab": {
          "base_uri": "https://localhost:8080/"
        },
        "outputId": "f4742e90-955e-430c-a0b4-ae7efba7775c",
        "id": "xmH0dtAMl0T4"
      },
      "outputs": [
        {
          "output_type": "stream",
          "name": "stdout",
          "text": [
            "El error relativo para el operio b en la medicion 2 es: -37.70%\n",
            "\n",
            "El error relativo para el operio b en la medicion 2 es: 4.92%\n"
          ]
        }
      ],
      "source": [
        "# Definimos las constantes (valor verdadero como vv, incluimos los errores absolutos calculados con anterioridad (ea1a y ea1b, ea2a y ea2b, ea3a y ea3b), y los integramos en la ecuacion.\n",
        "vv=305\n",
        "# Definimos error relativo como er y agrgamos la ecuacion\n",
        "# Oprario a\n",
        "er2a=(ea2a/vv)*100\n",
        "print(\"El error relativo para el operio b en la medicion 2 es: \" + \"{:.2f}%\\n\".format(er2a))\n",
        "# Oprario b\n",
        "er2b=(ea2b/vv)*100\n",
        "print(\"El error relativo para el operio b en la medicion 2 es: \" + \"{:.2f}%\".format(er2b))"
      ]
    },
    {
      "cell_type": "markdown",
      "source": [
        "# Medicion 3 (Operarios a y b)"
      ],
      "metadata": {
        "id": "YjSrnwujnMZp"
      }
    },
    {
      "cell_type": "code",
      "execution_count": null,
      "metadata": {
        "colab": {
          "base_uri": "https://localhost:8080/"
        },
        "outputId": "5a6947cc-be38-4dc2-828c-c16c6371e947",
        "id": "kIkAnKSHnSMu"
      },
      "outputs": [
        {
          "output_type": "stream",
          "name": "stdout",
          "text": [
            "El error relativo para el operio b en la medicion 3 es: -8.20%\n",
            "\n",
            "El error relativo para el operio b en la medicion 3 es: 14.75%\n"
          ]
        }
      ],
      "source": [
        "# Definimos las constantes (valor verdadero como vv, incluimos los errores absolutos calculados con anterioridad (ea1a y ea1b, ea2a y ea2b, ea3a y ea3b), y los integramos en la ecuacion.\n",
        "vv=305\n",
        "# Definimos error relativo como er y agrgamos la ecuacion\n",
        "# Oprario a\n",
        "er3a=(ea3a/vv)*100\n",
        "print(\"El error relativo para el operio b en la medicion 3 es: \" + \"{:.2f}%\\n\".format(er3a))\n",
        "# Oprario b\n",
        "er3b=(ea3b/vv)*100\n",
        "print(\"El error relativo para el operio b en la medicion 3 es: \" + \"{:.2f}%\".format(er3b))"
      ]
    },
    {
      "cell_type": "markdown",
      "source": [
        "# Fidelidad e incertidumbre "
      ],
      "metadata": {
        "id": "v9VxBlDFoNap"
      }
    },
    {
      "cell_type": "markdown",
      "source": [
        "\\begin{equation}\n",
        "\\text{Incertidumbre = valor máximo - valor mínimo}\n",
        "\\end{equation}\n",
        "\n",
        "\\begin{equation}\n",
        "\\text{fidelidad = |val_med1 - val_med2|}\n",
        "\\end{equation}\n",
        "\n"
      ],
      "metadata": {
        "id": "oWfKSwlVqQ4j"
      }
    },
    {
      "cell_type": "markdown",
      "source": [
        "# Incertidumbre"
      ],
      "metadata": {
        "id": "PLZIAtWcs71P"
      }
    },
    {
      "cell_type": "markdown",
      "source": [
        "# Incertidumbre (a y b)"
      ],
      "metadata": {
        "id": "NjoAXcFhs4cS"
      }
    },
    {
      "cell_type": "code",
      "source": [
        "# Definimos los valores maximo y minimo como vmax y vmin\n",
        "# Utilizamos la funcion max y min para realizar la tarea anterior\n",
        "\n",
        "# vmax a\n",
        "vmaxa=max([a1, a2, a3])\n",
        "# vmax b\n",
        "vmaxb=max([b1, b2, b3])\n",
        "# vmin a\n",
        "vmina=min([a1, a2, a3])\n",
        "# vmin b\n",
        "vminb=min([b1, b2, b3])\n",
        "\n",
        "# Incertidumbre a\n",
        "# Definimos la formula(incertidumbre queda como inca)\n",
        "inca=vmaxa - vmina\n",
        "print(\"La incertidumbre para a es: \"+str(inca)+\"\\n\")\n",
        "\n",
        "# Incertidumbre b\n",
        "# Definimos la formula(incertidumbre queda como incb)\n",
        "incb=vmaxb - vminb\n",
        "print(\"La incertidumbre para b es: \"+str(incb))\n"
      ],
      "metadata": {
        "colab": {
          "base_uri": "https://localhost:8080/"
        },
        "id": "kcboT2fptHFm",
        "outputId": "330bcfc3-fab6-4b0a-dabe-6c2cd03ba448"
      },
      "execution_count": null,
      "outputs": [
        {
          "output_type": "stream",
          "name": "stdout",
          "text": [
            "La incertidumbre para a es: 110\n",
            "\n",
            "La incertidumbre para b es: 100\n"
          ]
        }
      ]
    },
    {
      "cell_type": "markdown",
      "source": [
        "# Fidelidad"
      ],
      "metadata": {
        "id": "ESRfyjV23QOh"
      }
    },
    {
      "cell_type": "markdown",
      "source": [
        "# a"
      ],
      "metadata": {
        "id": "CWpbndyh-MrO"
      }
    },
    {
      "cell_type": "code",
      "source": [
        "# Utilizamos los valores de las medidads previamente declaradas\n",
        "# Y aplicamos la formula, definimos la fidelidad como fa1, fa2 y fa3\n",
        "\n",
        "# la fidelidad de a1\n",
        "fa1=abs(a1-a2)\n",
        "print(\"La fidelidad 1 de a es: \" + str(fa1) + \"\\n\")\n",
        "# la fidelidad de a2\n",
        "fa2=abs(a1-a3)\n",
        "print(\"La fidelidad 2 de a es: \" + str(fa2) + \"\\n\")\n",
        "# la fidelidad de a2\n",
        "fa3=abs(a3-a2)\n",
        "print(\"La fidelidad 3 de a es: \" + str(fa3) + \"\\n\")"
      ],
      "metadata": {
        "colab": {
          "base_uri": "https://localhost:8080/"
        },
        "id": "1J_8cpo23T2h",
        "outputId": "b7e73a61-fdb2-4869-fd1a-883769f9ad55"
      },
      "execution_count": null,
      "outputs": [
        {
          "output_type": "stream",
          "name": "stdout",
          "text": [
            "La fidelidad 1 de a es: 110\n",
            "\n",
            "La fidelidad 2 de a es: 20\n",
            "\n",
            "La fidelidad 3 de a es: 90\n",
            "\n"
          ]
        }
      ]
    },
    {
      "cell_type": "markdown",
      "source": [
        "# b"
      ],
      "metadata": {
        "id": "3oe1m7zb-POP"
      }
    },
    {
      "cell_type": "code",
      "source": [
        "# Utilizamos los valores de las medidads previamente declaradas\n",
        "# Y aplicamos la formula tomado el absoluto de cada resta, definimos la fidelidad como fb1, fb2 y fb3\n",
        "\n",
        "# la fidelidad de b1\n",
        "fb1=abs(b2-b1)\n",
        "print(\"La fidelidad 1 de b es: \" + str(fb1) + \"\\n\")\n",
        "# la fidelidad de b2\n",
        "fb2=abs(b3-b1)\n",
        "print(\"La fidelidad 2 de b es: \" + str(fb2) + \"\\n\")\n",
        "# la fidelidad de b2\n",
        "fb3=abs(b3-b2)\n",
        "print(\"La fidelidad 3 de b es: \" + str(fb3) + \"\\n\")"
      ],
      "metadata": {
        "colab": {
          "base_uri": "https://localhost:8080/"
        },
        "outputId": "46637c33-380d-4c04-a0c6-b2b6e8088092",
        "id": "5gVVLl4h-WG1"
      },
      "execution_count": null,
      "outputs": [
        {
          "output_type": "stream",
          "name": "stdout",
          "text": [
            "La fidelidad 1 de b es: 70\n",
            "\n",
            "La fidelidad 2 de b es: 100\n",
            "\n",
            "La fidelidad 3 de b es: 30\n",
            "\n"
          ]
        }
      ]
    },
    {
      "cell_type": "markdown",
      "source": [
        "# Reproducibilidad"
      ],
      "metadata": {
        "id": "UNWsn9ZwHvDE"
      }
    },
    {
      "cell_type": "markdown",
      "source": [
        "# Medicion 1"
      ],
      "metadata": {
        "id": "f1Qe3LYNKchY"
      }
    },
    {
      "cell_type": "code",
      "source": [
        "# Tomamos el valor absoluto de la resta de la medicion del operador a y b\n",
        "re1=abs(a1-b1)\n",
        "print(\"La resproducibilidad de la medicion 1 es: \"+str(re1))"
      ],
      "metadata": {
        "colab": {
          "base_uri": "https://localhost:8080/"
        },
        "id": "EyOKyjnMHxz2",
        "outputId": "1551345e-fd72-4240-bd76-c4839ce57d9d"
      },
      "execution_count": null,
      "outputs": [
        {
          "output_type": "stream",
          "name": "stdout",
          "text": [
            "La resproducibilidad de la medicion 1 es: 50\n"
          ]
        }
      ]
    },
    {
      "cell_type": "markdown",
      "source": [
        "# Medicion 2"
      ],
      "metadata": {
        "id": "5N5kOObQL6I2"
      }
    },
    {
      "cell_type": "code",
      "source": [
        "# Tomamos el valor absoluto de la resta de la medicion del operador a y b\n",
        "re2=abs(a2-b2)\n",
        "print(\"La resproducibilidad de la medicion 2 es: \"+str(re2))"
      ],
      "metadata": {
        "colab": {
          "base_uri": "https://localhost:8080/"
        },
        "outputId": "5e234eda-3d72-49bf-9613-c5e0e535667b",
        "id": "m6IWyarVL_Yr"
      },
      "execution_count": null,
      "outputs": [
        {
          "output_type": "stream",
          "name": "stdout",
          "text": [
            "La resproducibilidad de la medicion 2 es: 130\n"
          ]
        }
      ]
    },
    {
      "cell_type": "markdown",
      "source": [
        "# Medicion 3"
      ],
      "metadata": {
        "id": "vA3h3smzMNSf"
      }
    },
    {
      "cell_type": "code",
      "source": [
        "# Tomamos el valor absoluto de la resta de la medicion del operador a y b\n",
        "re3=abs(a3-b3)\n",
        "print(\"La resproducibilidad de la medicion 3 es: \"+str(re3))"
      ],
      "metadata": {
        "colab": {
          "base_uri": "https://localhost:8080/"
        },
        "outputId": "6126c001-bdec-4326-f62d-776ab0f910db",
        "id": "sKTQvTGEMU4n"
      },
      "execution_count": null,
      "outputs": [
        {
          "output_type": "stream",
          "name": "stdout",
          "text": [
            "La resproducibilidad de la medicion 3 es: 70\n"
          ]
        }
      ]
    },
    {
      "cell_type": "markdown",
      "source": [
        "# Ejemplo de linealidad"
      ],
      "metadata": {
        "id": "11WEDahracUS"
      }
    },
    {
      "cell_type": "markdown",
      "source": [
        "## Ecuaciones "
      ],
      "metadata": {
        "id": "iItsF_q-bjSB"
      }
    },
    {
      "cell_type": "markdown",
      "source": [
        "\\begin{equation}\n",
        "y = mx + b \n",
        "\\end{equation}\n",
        "\n",
        "\\begin{equation}\n",
        "m = \\frac{n\\sum xy - \\sum x \\sum y}{n \\sum x^{2} - [\\sum x]^{2}}\n",
        "\\end{equation}\n",
        "\n",
        "\\begin{equation}\n",
        "b = \\frac{\\sum y \\sum x^{2} - \\sum x \\sum xy}{n \\sum x^{2} - [\\sum x]^{2}}\n",
        "\\end{equation}\n",
        "\n",
        "\\begin{equation}\n",
        "y = x^{2} + 2 \\\\\n",
        "s = \\frac{dy}{dx} = 2\n",
        "\\end{equation}"
      ],
      "metadata": {
        "id": "zKuiyvarbsXM"
      }
    },
    {
      "cell_type": "markdown",
      "source": [
        "# Ejemplo 1"
      ],
      "metadata": {
        "id": "Qmx5SVQ1J1yS"
      }
    },
    {
      "cell_type": "markdown",
      "source": [
        "# Linealidad con minimos cuadrados"
      ],
      "metadata": {
        "id": "Krj0HVT2J8g1"
      }
    },
    {
      "cell_type": "code",
      "source": [
        "# Importamos numpy para trabajar con listas\n",
        "import numpy as np\n",
        "# Definimos la entrada x como una lista de datos\n",
        "x=[0, 10, 20, 30, 40, 50]\n",
        "\n",
        "# Definimos la salida como el doble de x por la ecuacion y = 2x\n",
        "y=[0, 20, 40, 60, 80, 100]\n",
        "\n",
        "# Obenermos el producto de xy mediante la funcion multiply de numpy\n",
        "xy= np.multiply(x,y)\n",
        "\n",
        "# Obenermos el producto de xx mediante la funcion multiply de numpy\n",
        "xx= np.multiply(x,x)\n",
        "\n",
        "# calculamos la sumatorias de x, y, xx, yy con la funcion sum \n",
        "sumx=sum(x)\n",
        "sumy=sum(y)\n",
        "sumxy=sum(xy)\n",
        "sumxx=sum(xx)\n",
        "# Calculamos el numero de datos de entrada\n",
        "n=len(x)\n",
        "# Aplicamos la formula para m\n",
        "m=((n*sumxy) - (sumx*sumy))/((n*sumxx) - (sumx)**2)\n",
        "print(\"El valor de m es: \" +str(m)+\"\\n\")\n",
        "\n",
        "# Aplicamos la formula para b\n",
        "b=((sumy*sumxx) - (sumx*sumxy))/((n*sumxx) - (sumx)**2)\n",
        "print(\"El valor de b es: \" +str(b)+\"\\n\")"
      ],
      "metadata": {
        "colab": {
          "base_uri": "https://localhost:8080/"
        },
        "id": "GHyxPkjHgtNB",
        "outputId": "3a32b8c6-fc87-4079-ce44-74624f9544b4"
      },
      "execution_count": null,
      "outputs": [
        {
          "output_type": "stream",
          "name": "stdout",
          "text": [
            "El valor de m es: 2.0\n",
            "\n",
            "El valor de b es: 0.0\n",
            "\n"
          ]
        }
      ]
    },
    {
      "cell_type": "markdown",
      "source": [
        "La recta obtenida por minimos cuadrados es y = 2x, cuya grafica se muestra a continuacion:"
      ],
      "metadata": {
        "id": "LTU9jpb3siVg"
      }
    },
    {
      "cell_type": "code",
      "source": [
        "# importamos matplotlib.pyplot para graficar\n",
        "import matplotlib.pyplot as plt\n",
        "\n",
        "# Graficamos los datos con la funcion plot asignando los datos entre parentesis\n",
        "plt.scatter(x, y)\n",
        "plt.plot(x, y)\n",
        "\n",
        "# Colocamos etiquetas para reconocer el eje x, y\n",
        "plt.xlabel('x')\n",
        "plt.ylabel('y')\n",
        "\n",
        "# Asignamos un titulo para la grafica\n",
        "plt.title('y = 2x')\n",
        "plt.show()"
      ],
      "metadata": {
        "colab": {
          "base_uri": "https://localhost:8080/",
          "height": 295
        },
        "id": "lgAaDC7Ls2gS",
        "outputId": "a0ff5ee3-ce70-48a4-d38e-3fdf789ad73f"
      },
      "execution_count": null,
      "outputs": [
        {
          "output_type": "display_data",
          "data": {
            "text/plain": [
              "<Figure size 432x288 with 1 Axes>"
            ],
            "image/png": "[encoded data removed]"
          },
          "metadata": {
            "needs_background": "light"
          }
        }
      ]
    },
    {
      "cell_type": "markdown",
      "source": [
        "# Linealidad ajustada a cero "
      ],
      "metadata": {
        "id": "YyHWvgrmKGs2"
      }
    },
    {
      "cell_type": "markdown",
      "source": [
        "\\begin{equation}\n",
        "\\frac{y}{x} = m\n",
        "\\end{equation}\n",
        "\n",
        "\\begin{equation}\n",
        "a = \\frac{\\displaystyle\\sum_{i=1}^{n}y}{\\displaystyle\\sum_{i=1}^{n}x}\n",
        "\\end{equation}\n",
        "\n",
        "\\begin{equation}\n",
        "b = 0\n",
        "\\end{equation}"
      ],
      "metadata": {
        "id": "iECqQp0kKK6S"
      }
    },
    {
      "cell_type": "code",
      "source": [
        "import numpy as np\n",
        "import matplotlib.pyplot as plt\n",
        "\n",
        "# Datos de ejemplo\n",
        "x = np.array(x)\n",
        "y = np.array(y)\n",
        "\n",
        "# Calcular los coeficientes de la línea de regresión\n",
        "slope, intercept = np.polyfit(x, y, 1)\n",
        "\n",
        "# Graficar los datos y la línea de regresión\n",
        "plt.scatter(x, y)\n",
        "plt.plot(x, slope * x)\n",
        "plt.xlabel('X')\n",
        "plt.ylabel('Y')\n",
        "plt.title('Linealidad ajustada a cero')\n",
        "plt.show()"
      ],
      "metadata": {
        "colab": {
          "base_uri": "https://localhost:8080/",
          "height": 235
        },
        "id": "s5dNVgfrLiNY",
        "outputId": "8a993795-2fb8-436e-d746-c8d7fe788aeb"
      },
      "execution_count": null,
      "outputs": [
        {
          "output_type": "error",
          "ename": "NameError",
          "evalue": "ignored",
          "traceback": [
            "\u001b[0;31m---------------------------------------------------------------------------\u001b[0m",
            "\u001b[0;31mNameError\u001b[0m                                 Traceback (most recent call last)",
            "\u001b[0;32m<ipython-input-14-c81d7754aaee>\u001b[0m in \u001b[0;36m<module>\u001b[0;34m\u001b[0m\n\u001b[1;32m      3\u001b[0m \u001b[0;34m\u001b[0m\u001b[0m\n\u001b[1;32m      4\u001b[0m \u001b[0;31m# Datos de ejemplo\u001b[0m\u001b[0;34m\u001b[0m\u001b[0;34m\u001b[0m\u001b[0;34m\u001b[0m\u001b[0m\n\u001b[0;32m----> 5\u001b[0;31m \u001b[0mx\u001b[0m \u001b[0;34m=\u001b[0m \u001b[0mnp\u001b[0m\u001b[0;34m.\u001b[0m\u001b[0marray\u001b[0m\u001b[0;34m(\u001b[0m\u001b[0mx\u001b[0m\u001b[0;34m)\u001b[0m\u001b[0;34m\u001b[0m\u001b[0;34m\u001b[0m\u001b[0m\n\u001b[0m\u001b[1;32m      6\u001b[0m \u001b[0my\u001b[0m \u001b[0;34m=\u001b[0m \u001b[0mnp\u001b[0m\u001b[0;34m.\u001b[0m\u001b[0marray\u001b[0m\u001b[0;34m(\u001b[0m\u001b[0my\u001b[0m\u001b[0;34m)\u001b[0m\u001b[0;34m\u001b[0m\u001b[0;34m\u001b[0m\u001b[0m\n\u001b[1;32m      7\u001b[0m \u001b[0;34m\u001b[0m\u001b[0m\n",
            "\u001b[0;31mNameError\u001b[0m: name 'x' is not defined"
          ]
        }
      ]
    },
    {
      "cell_type": "markdown",
      "source": [
        "# Linealidad terminal\n"
      ],
      "metadata": {
        "id": "viAY_ki0-kaa"
      }
    },
    {
      "cell_type": "markdown",
      "source": [
        "\\begin{equation}\n",
        "m = \\frac{y_{2}+y_{1}}{x_{2}+x_{1}}\n",
        "\\end{equation}\n",
        "\n",
        "\\begin{equation}\n",
        "y = mx + b\n",
        "\\end{equation}\n",
        "\n",
        "\\begin{equation}\n",
        "b= y - mx\n",
        "\\end{equation}\n"
      ],
      "metadata": {
        "id": "PWcUaIk2-p4p"
      }
    },
    {
      "cell_type": "code",
      "source": [
        "x = np.array(x)\n",
        "y = np.array(y)\n",
        "# Aproximación de la pendiente\n",
        "m = (y[-1] - y[-2]) / (x[-1] - x[-2])\n",
        "\n",
        "# Graficar la curva y la linealidad terminal\n",
        "plt.scatter(x, y)\n",
        "plt.plot(x, y, label='Respuesta al escalón')\n",
        "plt.plot(x[-2:], y[-2] + m*(x[-2:] - x[-2]), label='Linealidad terminal')\n",
        "plt.legend()\n",
        "plt.show()"
      ],
      "metadata": {
        "colab": {
          "base_uri": "https://localhost:8080/",
          "height": 265
        },
        "id": "SZEXMy8299Si",
        "outputId": "1890c06f-56ea-4d7e-eac3-f54001027f60"
      },
      "execution_count": null,
      "outputs": [
        {
          "output_type": "display_data",
          "data": {
            "text/plain": [
              "<Figure size 432x288 with 1 Axes>"
            ],
            "image/png": "[encoded data removed]"
          },
          "metadata": {
            "needs_background": "light"
          }
        }
      ]
    },
    {
      "cell_type": "markdown",
      "source": [
        "# Linealidad a través de los extremos"
      ],
      "metadata": {
        "id": "xiyl--IuPwl7"
      }
    },
    {
      "cell_type": "markdown",
      "source": [
        "\\begin{equation}\n",
        "m = \\frac{y2 - y1}{x2 - x1}\n",
        "\\end{equation}\n",
        "\n",
        "\\begin{equation}\n",
        "b = y1 - m \\times x1\n",
        "\\end{equation}\n",
        "\n",
        "\n"
      ],
      "metadata": {
        "id": "cp7hzh3JQFD1"
      }
    },
    {
      "cell_type": "code",
      "source": [
        "import numpy as np\n",
        "import matplotlib.pyplot as plt\n",
        "\n",
        "# Definir los datos\n",
        "xe = np.array(x)\n",
        "ye = np.array(y)\n",
        "\n",
        "# Realizar una regresión lineal de los puntos extremos\n",
        "slope, intercept = np.polyfit([xe[0], xe[-1]], [ye[0], ye[-1]], 1)\n",
        "\n",
        "# Calcular la predicción de la regresión lineal para todo el rango de valores de x\n",
        "xe_range = np.linspace(xe[0], xe[-1], 100)\n",
        "ye_pred = slope * xe_range + intercept\n",
        "\n",
        "# Graficar los datos y la línea de regresión\n",
        "plt.plot(xe, ye, 'o', label='Datos')\n",
        "plt.plot(xe_range, ye_pred, label='Linealidad')\n",
        "plt.legend()\n",
        "plt.show()"
      ],
      "metadata": {
        "id": "MzjxfJPHMU93",
        "colab": {
          "base_uri": "https://localhost:8080/",
          "height": 265
        },
        "outputId": "e5fe4469-3c45-41b2-e526-9b7111ae4e89"
      },
      "execution_count": null,
      "outputs": [
        {
          "output_type": "display_data",
          "data": {
            "text/plain": [
              "<Figure size 432x288 with 1 Axes>"
            ],
            "image/png": "[encoded data removed]"
          },
          "metadata": {
            "needs_background": "light"
          }
        }
      ]
    },
    {
      "cell_type": "markdown",
      "source": [
        "# Linealidad teórica"
      ],
      "metadata": {
        "id": "3idit_o20Zd_"
      }
    },
    {
      "cell_type": "code",
      "source": [
        "import matplotlib.pyplot as plt\n",
        "import numpy as np\n",
        "# Datos experimentales\n",
        "xlt = np.array(x)\n",
        "ylt = np.array(y)\n",
        "\n",
        "# Ecuación de la línea teórica\n",
        "m = 0.5  # Pendiente\n",
        "b = 0.2  # Intercepto\n",
        "x_teoria = np.linspace(0, 50, 100)\n",
        "y_teoria = m * x_teoria + b\n",
        "\n",
        "# Graficar los datos experimentales y la línea teórica\n",
        "plt.plot(xlt, ylt, 'o', label='Datos experimentales')\n",
        "plt.plot(x_teoria, y_teoria, label='Línea teórica')\n",
        "plt.legend()\n",
        "plt.xlabel('x')\n",
        "plt.ylabel('y')\n",
        "plt.title('Linealidad teórica')\n",
        "plt.show()"
      ],
      "metadata": {
        "colab": {
          "base_uri": "https://localhost:8080/",
          "height": 295
        },
        "id": "PnuMxkMe1PoH",
        "outputId": "f848dd2a-3abd-4bca-b6da-77420e800558"
      },
      "execution_count": null,
      "outputs": [
        {
          "output_type": "display_data",
          "data": {
            "text/plain": [
              "<Figure size 432x288 with 1 Axes>"
            ],
            "image/png": "[encoded data removed]"
          },
          "metadata": {
            "needs_background": "light"
          }
        }
      ]
    },
    {
      "cell_type": "markdown",
      "source": [
        "# Ejercicio 2"
      ],
      "metadata": {
        "id": "68sDWTrvwWjK"
      }
    },
    {
      "cell_type": "code",
      "source": [
        "# Importamos numpy para trabajar con listas\n",
        "import numpy as np\n",
        "# Definimos la entrada x como una lista de datos\n",
        "x2=[0, 10, 20, 30, 40, 50]\n",
        "\n",
        "# Definimos la salida como el doble de x por la ecuacion y = 2x\n",
        "y2=[2, 102, 402, 902, 1602, 2502]\n",
        "\n",
        "# Obenermos el producto de xy mediante la funcion multiply de numpy\n",
        "xy2= np.multiply(x,y)\n",
        "\n",
        "# Obenermos el producto de xx mediante la funcion multiply de numpy\n",
        "xx2= np.multiply(x,x)\n",
        "\n",
        "# calculamos la sumatorias de x, y, xx, yy con la funcion sum \n",
        "sumx2=sum(x)\n",
        "sumy2=sum(y)\n",
        "sumxy2=sum(xy)\n",
        "sumxx2=sum(xx)\n",
        "# Calculamos el numero de datos de entrada\n",
        "n2=len(x)\n",
        "# Aplicamos la formula para m\n",
        "m2=((n2*sumxy2) - (sumx2*sumy2))/((n2*sumxx2) - (sumx2)**2)\n",
        "print(\"El valor de m es: \" +str(m2)+\"\\n\")\n",
        "\n",
        "# Aplicamos la formula para b\n",
        "b2=((sumy2*sumxx2) - (sumx2*sumxy2))/((n2*sumxx2) - (sumx2)**2)\n",
        "print(\"El valor de b es: \" +str(b2)+\"\\n\")"
      ],
      "metadata": {
        "colab": {
          "base_uri": "https://localhost:8080/"
        },
        "outputId": "2b513639-e391-448b-da43-a3803cb3cf8d",
        "id": "jSD2WZPDwMAz"
      },
      "execution_count": null,
      "outputs": [
        {
          "output_type": "stream",
          "name": "stdout",
          "text": [
            "El valor de m es: 2.0\n",
            "\n",
            "El valor de b es: 0.0\n",
            "\n"
          ]
        }
      ]
    },
    {
      "cell_type": "markdown",
      "source": [
        "Se obtiene como resultado y = 50x -331.33 cuya grafica luce de la siguente manera:"
      ],
      "metadata": {
        "id": "wulfAZVlxKJU"
      }
    },
    {
      "cell_type": "code",
      "source": [
        "# importamos matplotlib.pyplot para graficar\n",
        "import matplotlib.pyplot as plt\n",
        "# Definimos la funcion para que nos retorne la el valor de y\n",
        "def f1(g):\n",
        "    return 50*g - 331.33\n",
        "# Valores del eje X que toma el gráfico\n",
        "g = range(0, 50)\n",
        "# Graficar funcion\n",
        "plt.scatter(g, [f1(i) for i in g])\n",
        "plt.plot(g, [f1(i) for i in g])\n",
        "# Colocamos etiquetas para reconocer el eje x, y\n",
        "plt.xlabel('x')\n",
        "plt.ylabel('y')\n",
        "# Asignamos un titulo para la grafica\n",
        "plt.title('y = 50x - 331.33')\n",
        "plt.show()"
      ],
      "metadata": {
        "colab": {
          "base_uri": "https://localhost:8080/",
          "height": 295
        },
        "id": "LrlzlD8Sy3q3",
        "outputId": "d2891f56-b6e0-42a8-f1eb-002fda929561"
      },
      "execution_count": null,
      "outputs": [
        {
          "output_type": "display_data",
          "data": {
            "text/plain": [
              "<Figure size 432x288 with 1 Axes>"
            ],
            "image/png": "[encoded data removed]"
          },
          "metadata": {
            "needs_background": "light"
          }
        }
      ]
    },
    {
      "cell_type": "code",
      "source": [
        "# importamos matplotlib.pyplot para graficar\n",
        "import matplotlib.pyplot as plt\n",
        "# Definimos la funcion para que nos retorne la el valor de y\n",
        "def f2(g):\n",
        "    return 2*g\n",
        "# Valores del eje X que toma el gráfico\n",
        "g = range(0, 50)\n",
        "# Graficar funcion\n",
        "plt.scatter(g, [f2(i) for i in g])\n",
        "plt.plot(g, [f2(i) for i in g],)\n",
        "# Colocamos etiquetas para reconocer el eje x, y\n",
        "plt.xlabel('x')\n",
        "plt.ylabel('y')\n",
        "# Asignamos un titulo para la grafica\n",
        "plt.title('La sensibilidad es: y = 2 x')\n",
        "plt.show()"
      ],
      "metadata": {
        "colab": {
          "base_uri": "https://localhost:8080/",
          "height": 295
        },
        "id": "nrVCYv_toI4_",
        "outputId": "0dc0f372-1616-45fc-fc61-0eaf1645c1c5"
      },
      "execution_count": null,
      "outputs": [
        {
          "output_type": "display_data",
          "data": {
            "text/plain": [
              "<Figure size 432x288 with 1 Axes>"
            ],
            "image/png": "[encoded data removed]"
          },
          "metadata": {
            "needs_background": "light"
          }
        }
      ]
    },
    {
      "cell_type": "markdown",
      "source": [
        "# Linealidad ajustada a cero"
      ],
      "metadata": {
        "id": "o0d4stBBU_mr"
      }
    },
    {
      "cell_type": "code",
      "source": [
        "import numpy as np\n",
        "import matplotlib.pyplot as plt\n",
        "\n",
        "# Datos de ejemplo\n",
        "x3 = np.array(x2)\n",
        "y3 = np.array(y2)\n",
        "\n",
        "# Calcular los coeficientes de la línea de regresión\n",
        "slope, intercept = np.polyfit(x3, y3, 1)\n",
        "\n",
        "# Graficar los datos y la línea de regresión\n",
        "plt.scatter(x3, y3)\n",
        "plt.plot(x3, slope * x3)\n",
        "plt.xlabel('X')\n",
        "plt.ylabel('Y')\n",
        "plt.title('Linealidad ajustada a cero')\n",
        "plt.show()"
      ],
      "metadata": {
        "colab": {
          "base_uri": "https://localhost:8080/",
          "height": 295
        },
        "id": "GMzUQtj0VGHZ",
        "outputId": "023fec8d-284d-4d7f-dc01-cb4841391d3e"
      },
      "execution_count": null,
      "outputs": [
        {
          "output_type": "display_data",
          "data": {
            "text/plain": [
              "<Figure size 432x288 with 1 Axes>"
            ],
            "image/png": "[encoded data removed]"
          },
          "metadata": {
            "needs_background": "light"
          }
        }
      ]
    },
    {
      "cell_type": "markdown",
      "source": [
        "# Linealidad terminal"
      ],
      "metadata": {
        "id": "8gk4xrMc-T1O"
      }
    },
    {
      "cell_type": "code",
      "source": [
        "# Arreglos de atos para graficar \n",
        "x2p = np.array(x2)\n",
        "y2p = np.array(y2)\n",
        "# Aproximación de la pendiente\n",
        "m = (y2p[-1] - y2p[-2]) / (x2p[-1] - x2p[-2])\n",
        "\n",
        "# Graficar la curva y la linealidad terminal\n",
        "plt.scatter(x2p, y2p)\n",
        "plt.plot(x2p, y2p, label='Respuesta al escalón')\n",
        "plt.plot(x2p[-2:], y2p[-2] + m*(x2p[-2:] - x2p[-2]), label='Linealidad terminal')\n",
        "plt.legend()\n",
        "plt.show()"
      ],
      "metadata": {
        "colab": {
          "base_uri": "https://localhost:8080/",
          "height": 265
        },
        "outputId": "bc885f72-d38f-4f43-d30e-c8c1b071bc00",
        "id": "R8-0UCEH-V9h"
      },
      "execution_count": null,
      "outputs": [
        {
          "output_type": "display_data",
          "data": {
            "text/plain": [
              "<Figure size 432x288 with 1 Axes>"
            ],
            "image/png": "[encoded data removed]"
          },
          "metadata": {
            "needs_background": "light"
          }
        }
      ]
    },
    {
      "cell_type": "markdown",
      "source": [
        "# Linealidad a través de los extremos"
      ],
      "metadata": {
        "id": "eVIc0Lf__1wl"
      }
    },
    {
      "cell_type": "code",
      "source": [
        "import numpy as np\n",
        "import matplotlib.pyplot as plt\n",
        "\n",
        "# Definir los datos\n",
        "xe2 = np.array(x2)\n",
        "ye2 = np.array(y2)\n",
        "# Realizar una regresión lineal de los puntos extremos\n",
        "slope, intercept = np.polyfit([xe2[0], xe2[-1]], [ye2[0], ye2[-1]], 1)\n",
        "\n",
        "# Calcular la predicción de la regresión lineal para todo el rango de valores de x\n",
        "xe_range = np.linspace(xe2[0], xe2[-1], 100)\n",
        "ye_pred = slope * xe_range + intercept\n",
        "\n",
        "# Graficar los datos y la línea de regresión\n",
        "plt.plot(xe2, ye2, 'o', label='Datos')\n",
        "plt.plot(xe_range, ye_pred, label='Linealidad')\n",
        "plt.legend()\n",
        "plt.show()"
      ],
      "metadata": {
        "colab": {
          "base_uri": "https://localhost:8080/",
          "height": 265
        },
        "id": "B73_4G0W_5e7",
        "outputId": "3695e3bf-1d6d-4817-896d-02e338a9e5b8"
      },
      "execution_count": null,
      "outputs": [
        {
          "output_type": "display_data",
          "data": {
            "text/plain": [
              "<Figure size 432x288 with 1 Axes>"
            ],
            "image/png": "[encoded data removed]"
          },
          "metadata": {
            "needs_background": "light"
          }
        }
      ]
    },
    {
      "cell_type": "markdown",
      "source": [
        "# Linealidad teórica\n"
      ],
      "metadata": {
        "id": "WXVVC6uFAnP2"
      }
    },
    {
      "cell_type": "code",
      "source": [
        "import matplotlib.pyplot as plt\n",
        "import numpy as np\n",
        "# Datos experimentales\n",
        "xlt2 = np.array(x2)\n",
        "ylt2 = np.array(y2)\n",
        "# Ecuación de la línea teórica\n",
        "m = 0.5  # Pendiente\n",
        "b = 0.2  # Intercepto\n",
        "x_teoria = np.linspace(0, 50, 100)\n",
        "y_teoria = m * x_teoria + b\n",
        "\n",
        "# Graficar los datos experimentales y la línea teórica\n",
        "plt.plot(xlt2, ylt2, 'o', label='Datos experimentales')\n",
        "plt.plot(x_teoria, y_teoria, label='Línea teórica')\n",
        "plt.legend()\n",
        "plt.xlabel('x')\n",
        "plt.ylabel('y')\n",
        "plt.title('Linealidad teórica')\n",
        "plt.show()"
      ],
      "metadata": {
        "colab": {
          "base_uri": "https://localhost:8080/",
          "height": 295
        },
        "id": "bLDKvfLZAuhs",
        "outputId": "b2a32699-d6b0-4720-8d6c-b80367d180e2"
      },
      "execution_count": null,
      "outputs": [
        {
          "output_type": "display_data",
          "data": {
            "text/plain": [
              "<Figure size 432x288 with 1 Axes>"
            ],
            "image/png": "[encoded data removed]"
          },
          "metadata": {
            "needs_background": "light"
          }
        }
      ]
    },
    {
      "cell_type": "markdown",
      "source": [
        "# Ejercicio 3 \n",
        "Dos personas realizan 3 mediciones de posición paradas a 2m de distancia de \n",
        "una pared con un sensor ultrasónico, las mediciones son las siguientes: \n",
        "* 1a: 199.8cm, lb: 205cm.\n",
        "* 2a: 197.8cm, 2b: 201.5 cm. \n",
        "* 3a: 203cm, 3b 198 cm. \n",
        "\n",
        "1. Determina la incertidumbre y error relativo en cada medición.\n",
        "2. Determina un rango de fidelidad de cada individuo. \n",
        "3. Determina un rango de repetibilidad"
      ],
      "metadata": {
        "id": "f8eqT9O1nML8"
      }
    },
    {
      "cell_type": "markdown",
      "source": [
        "# Error absoluto"
      ],
      "metadata": {
        "id": "flEERU0XrlUb"
      }
    },
    {
      "cell_type": "markdown",
      "source": [
        "# Medicion 1 (Operarios a y b)"
      ],
      "metadata": {
        "id": "pq_if0dZrscP"
      }
    },
    {
      "cell_type": "code",
      "execution_count": null,
      "metadata": {
        "colab": {
          "base_uri": "https://localhost:8080/"
        },
        "outputId": "889e2e83-dad2-4de6-eb45-47e8e7c0caa3",
        "id": "uhmEJLkErwgi"
      },
      "outputs": [
        {
          "output_type": "stream",
          "name": "stdout",
          "text": [
            "El error absoluto para el operio a en la medicion 1 es: -0.19999999999998863\n",
            "\n",
            "El error absoluto para el operio b en la medicion 1 es: 5\n"
          ]
        }
      ],
      "source": [
        "# Definimos las constantes (valor verdadero como vv2).\n",
        "vv2=200\n",
        "# Definimos los resultados obtenidos para las maediciones.\n",
        "# Medicion 1 (Operarios a y b como a4 y b4).\n",
        "a4=199.8\n",
        "b4=205\n",
        "# Plasmamos la ecuacion para el error absoluto en la siguiente linea para cada operario y definimos error apsoluto como ea.\n",
        "# Operio a\n",
        "ea4a=a4-vv2\n",
        "print (\"El error absoluto para el operio a en la medicion 1 es: \"+ str(ea4a)+\"\\n\")\n",
        "# Operio b\n",
        "ea4b=b4-vv2\n",
        "print (\"El error absoluto para el operio b en la medicion 1 es: \"+ str(ea4b))"
      ]
    },
    {
      "cell_type": "markdown",
      "source": [
        "# Medicion 2 (Operarios a y b)"
      ],
      "metadata": {
        "id": "U6OXDFSUtbv3"
      }
    },
    {
      "cell_type": "code",
      "execution_count": null,
      "metadata": {
        "colab": {
          "base_uri": "https://localhost:8080/"
        },
        "outputId": "48e494d1-e27f-4b14-f94d-4264bc3c8a33",
        "id": "159mtZtKte4i"
      },
      "outputs": [
        {
          "output_type": "stream",
          "name": "stdout",
          "text": [
            "El error absoluto para el operio a en la medicion 2 es: -2.1999999999999886\n",
            "\n",
            "El error absoluto para el operio b en la medicion 2 es: 1.5\n"
          ]
        }
      ],
      "source": [
        "# Definimos las constantes (valor verdadero como vv2).\n",
        "vv2=200\n",
        "# Definimos los resultados obtenidos para las maediciones.\n",
        "# Medicion 2 (Operarios a y b como a5 y b5).\n",
        "a5=197.8\n",
        "b5=201.5\n",
        "# Plasmamos la ecuacion para el error absoluto en la siguiente linea para cada operario y definimos error apsoluto como ea.\n",
        "# Operio a\n",
        "ea5a=a5-vv2\n",
        "print (\"El error absoluto para el operio a en la medicion 2 es: \"+ str(ea5a)+\"\\n\")\n",
        "# Operio b\n",
        "ea5b=b5-vv2\n",
        "print (\"El error absoluto para el operio b en la medicion 2 es: \"+ str(ea5b))"
      ]
    },
    {
      "cell_type": "markdown",
      "source": [
        "# Medicion 3 (Operarios a y b)"
      ],
      "metadata": {
        "id": "ADiGe_HYvvUs"
      }
    },
    {
      "cell_type": "code",
      "execution_count": null,
      "metadata": {
        "colab": {
          "base_uri": "https://localhost:8080/"
        },
        "outputId": "d116416b-9005-436a-dd56-2ffd57e3a27e",
        "id": "MukwCyWsvr3b"
      },
      "outputs": [
        {
          "output_type": "stream",
          "name": "stdout",
          "text": [
            "El error absoluto para el operio a en la medicion 2 es: 3\n",
            "\n",
            "El error absoluto para el operio b en la medicion 2 es: -2\n"
          ]
        }
      ],
      "source": [
        "# Definimos las constantes (valor verdadero como vv2).\n",
        "vv2=200\n",
        "# Definimos los resultados obtenidos para las maediciones.\n",
        "# Medicion 2 (Operarios a y b como a6 y b6).\n",
        "a6=203\n",
        "b6=198\n",
        "# Plasmamos la ecuacion para el error absoluto en la siguiente linea para cada operario y definimos error apsoluto como ea.\n",
        "# Operio a\n",
        "ea6a=a6-vv2\n",
        "print (\"El error absoluto para el operio a en la medicion 2 es: \"+ str(ea6a)+\"\\n\")\n",
        "# Operio b\n",
        "ea6b=b6-vv2\n",
        "print (\"El error absoluto para el operio b en la medicion 2 es: \"+ str(ea6b))"
      ]
    },
    {
      "cell_type": "markdown",
      "source": [
        "# Error relativo"
      ],
      "metadata": {
        "id": "7dBIV6gDzNQX"
      }
    },
    {
      "cell_type": "markdown",
      "source": [
        "# Medicion 1 (Operarios a y b)"
      ],
      "metadata": {
        "id": "mk1C4SwP0ZMo"
      }
    },
    {
      "cell_type": "code",
      "execution_count": null,
      "metadata": {
        "colab": {
          "base_uri": "https://localhost:8080/"
        },
        "outputId": "8abb4d32-ef32-4e66-80c3-1a8a22ea4fdf",
        "id": "-t7wYH1K0bz2"
      },
      "outputs": [
        {
          "output_type": "stream",
          "name": "stdout",
          "text": [
            "El error relativo para el operio b en la medicion 1 es: -0.10%\n",
            "\n",
            "El error relativo para el operio b en la medicion 1 es: 2.50%\n"
          ]
        }
      ],
      "source": [
        "# Definimos las constantes (valor verdadero como vv, incluimos los errores absolutos calculados con anterioridad (ea4a y ea4b, ea5a y ea5b, ea6a y ea6b), y los integramos en la ecuacion.\n",
        "vv2=200\n",
        "# Definimos error relativo como er y agrgamos la ecuacion\n",
        "# Oprario a\n",
        "er4a=(ea4a/vv2)*100\n",
        "print(\"El error relativo para el operio b en la medicion 1 es: \" + \"{:.2f}%\\n\".format(er4a))\n",
        "# Oprario b\n",
        "er4b=(ea4b/vv2)*100\n",
        "print(\"El error relativo para el operio b en la medicion 1 es: \" + \"{:.2f}%\".format(er4b))"
      ]
    },
    {
      "cell_type": "markdown",
      "source": [
        "# Medicion 2 (Operarios a y b)"
      ],
      "metadata": {
        "id": "0jge-2aM1l9W"
      }
    },
    {
      "cell_type": "code",
      "execution_count": null,
      "metadata": {
        "colab": {
          "base_uri": "https://localhost:8080/"
        },
        "outputId": "4114b682-c9b0-42df-e819-8574cd51f561",
        "id": "A6AwWpfc1oJu"
      },
      "outputs": [
        {
          "output_type": "stream",
          "name": "stdout",
          "text": [
            "El error relativo para el operio b en la medicion 2 es: -1.10%\n",
            "\n",
            "El error relativo para el operio b en la medicion 2 es: 0.75%\n"
          ]
        }
      ],
      "source": [
        "# Definimos las constantes (valor verdadero como vv, incluimos los errores absolutos calculados con anterioridad (ea4a y ea4b, ea5a y ea5b, ea6a y ea6b), y los integramos en la ecuacion.\n",
        "vv2=200\n",
        "# Definimos error relativo como er y agrgamos la ecuacion\n",
        "# Oprario a\n",
        "er5a=(ea5a/vv2)*100\n",
        "print(\"El error relativo para el operio b en la medicion 2 es: \" + \"{:.2f}%\\n\".format(er5a))\n",
        "# Oprario b\n",
        "er5b=(ea5b/vv2)*100\n",
        "print(\"El error relativo para el operio b en la medicion 2 es: \" + \"{:.2f}%\".format(er5b))"
      ]
    },
    {
      "cell_type": "markdown",
      "source": [
        "# Medicion 3 (Operarios a y b)"
      ],
      "metadata": {
        "id": "9qsWwWG82p2R"
      }
    },
    {
      "cell_type": "code",
      "execution_count": null,
      "metadata": {
        "colab": {
          "base_uri": "https://localhost:8080/"
        },
        "outputId": "5c09d834-2f06-442e-f5ec-060c456e29e4",
        "id": "RtgYrHkoILMr"
      },
      "outputs": [
        {
          "output_type": "stream",
          "name": "stdout",
          "text": [
            "El error relativo para el operio b en la medicion 3 es: 1.50%\n",
            "\n",
            "El error relativo para el operio b en la medicion 3 es: -1.00%\n"
          ]
        }
      ],
      "source": [
        "# Definimos las constantes (valor verdadero como vv, incluimos los errores absolutos calculados con anterioridad (ea4a y ea4b, ea5a y ea5b, ea6a y ea6b), y los integramos en la ecuacion.\n",
        "vv2=200\n",
        "# Definimos error relativo como er y agrgamos la ecuacion\n",
        "# Oprario a\n",
        "er6a=(ea6a/vv2)*100\n",
        "print(\"El error relativo para el operio b en la medicion 3 es: \" + \"{:.2f}%\\n\".format(er6a))\n",
        "# Oprario b\n",
        "er6b=(ea6b/vv2)*100\n",
        "print(\"El error relativo para el operio b en la medicion 3 es: \" + \"{:.2f}%\".format(er6b))"
      ]
    },
    {
      "cell_type": "markdown",
      "source": [
        "# Incertidumbre"
      ],
      "metadata": {
        "id": "mg9GypeaJfEg"
      }
    },
    {
      "cell_type": "markdown",
      "source": [
        "# Incertidumbre (a y b)"
      ],
      "metadata": {
        "id": "QZAknhU8Jrr0"
      }
    },
    {
      "cell_type": "code",
      "source": [
        "# Definimos los valores maximo y minimo como vmax y vmin\n",
        "# Utilizamos la funcion max y min para realizar la tarea anterior\n",
        "\n",
        "# vmax a\n",
        "vmaxa2=max([a4, a5, a6])\n",
        "# vmax b\n",
        "vmaxb2=max([b4, b5, b6])\n",
        "# vmin a\n",
        "vmina2=min([a4, a5, a6])\n",
        "# vmin b\n",
        "vminb2=min([b4, b5, b6])\n",
        "\n",
        "# Incertidumbre a\n",
        "# Definimos la formula(incertidumbre queda como inca)\n",
        "inca2=vmaxa2 - vmina2\n",
        "print(\"La incertidumbre para a es: \"+str(inca2)+\"\\n\")\n",
        "\n",
        "# Incertidumbre b\n",
        "# Definimos la formula(incertidumbre queda como incb)\n",
        "incb2=vmaxb2 - vminb2\n",
        "print(\"La incertidumbre para b es: \"+str(incb2))\n"
      ],
      "metadata": {
        "colab": {
          "base_uri": "https://localhost:8080/"
        },
        "outputId": "77662117-b614-47d4-a25d-56e30f0b6663",
        "id": "RBup_w9jJuQD"
      },
      "execution_count": null,
      "outputs": [
        {
          "output_type": "stream",
          "name": "stdout",
          "text": [
            "La incertidumbre para a es: 5.199999999999989\n",
            "\n",
            "La incertidumbre para b es: 7\n"
          ]
        }
      ]
    },
    {
      "cell_type": "markdown",
      "source": [
        "# Fidelidad"
      ],
      "metadata": {
        "id": "jeJfGgLmvQmI"
      }
    },
    {
      "cell_type": "markdown",
      "source": [
        "# a"
      ],
      "metadata": {
        "id": "4h6dZ_WBvSuv"
      }
    },
    {
      "cell_type": "code",
      "source": [
        "# Utilizamos los valores de las medidads previamente declaradas\n",
        "# Y aplicamos la formula, definimos la fidelidad como fa1, fa2 y fa3\n",
        "\n",
        "# la fidelidad de a4\n",
        "fa4=abs(a4-a5)\n",
        "print(\"La fidelidad 1 de a es: \" + str(fa4) + \"\\n\")\n",
        "# la fidelidad de a5\n",
        "fa5=abs(a4-a6)\n",
        "print(\"La fidelidad 2 de a es: \" + str(fa5) + \"\\n\")\n",
        "# la fidelidad de a6\n",
        "fa6=abs(a6-a5)\n",
        "print(\"La fidelidad 3 de a es: \" + str(fa6) + \"\\n\")"
      ],
      "metadata": {
        "colab": {
          "base_uri": "https://localhost:8080/"
        },
        "outputId": "a7341b7f-e221-4ede-824b-674c17a34eb2",
        "id": "sOYOlZ55vV0A"
      },
      "execution_count": null,
      "outputs": [
        {
          "output_type": "stream",
          "name": "stdout",
          "text": [
            "La fidelidad 1 de a es: 2.0\n",
            "\n",
            "La fidelidad 2 de a es: 3.1999999999999886\n",
            "\n",
            "La fidelidad 3 de a es: 5.199999999999989\n",
            "\n"
          ]
        }
      ]
    },
    {
      "cell_type": "markdown",
      "source": [
        "# b"
      ],
      "metadata": {
        "id": "jpYFKwpx8ns1"
      }
    },
    {
      "cell_type": "code",
      "source": [
        "# Utilizamos los valores de las medidads previamente declaradas\n",
        "# Y aplicamos la formula tomado el absoluto de cada resta, definimos la fidelidad como fb1, fb2 y fb3\n",
        "\n",
        "# la fidelidad de a4\n",
        "fb4=abs(b4-b5)\n",
        "print(\"La fidelidad 1 de b es: \" + str(fb4) + \"\\n\")\n",
        "# la fidelidad de a5\n",
        "fb5=abs(b6-b4)\n",
        "print(\"La fidelidad 2 de b es: \" + str(fb5) + \"\\n\")\n",
        "# la fidelidad de a6\n",
        "fb6=abs(b6-b5)\n",
        "print(\"La fidelidad 3 de b es: \" + str(fb6) + \"\\n\")"
      ],
      "metadata": {
        "colab": {
          "base_uri": "https://localhost:8080/"
        },
        "outputId": "50fe7fec-f45f-4f22-da09-c64a007c6804",
        "id": "LgkzKTlF9Fut"
      },
      "execution_count": null,
      "outputs": [
        {
          "output_type": "stream",
          "name": "stdout",
          "text": [
            "La fidelidad 1 de b es: 3.5\n",
            "\n",
            "La fidelidad 2 de b es: 7\n",
            "\n",
            "La fidelidad 3 de b es: 3.5\n",
            "\n"
          ]
        }
      ]
    },
    {
      "cell_type": "markdown",
      "source": [
        "# Reproducibilidad"
      ],
      "metadata": {
        "id": "JIQ97E1PFq7E"
      }
    },
    {
      "cell_type": "markdown",
      "source": [
        "# Medicion 1"
      ],
      "metadata": {
        "id": "qBjKDZTOFmej"
      }
    },
    {
      "cell_type": "code",
      "source": [
        "# Tomamos el valor absoluto de la resta de la medicion del operador a y b\n",
        "re4=abs(a4-b4)\n",
        "print(\"La resproducibilidad de la medicion 1 es: \"+str(re4))"
      ],
      "metadata": {
        "colab": {
          "base_uri": "https://localhost:8080/"
        },
        "outputId": "91504fda-0cf8-4afa-b430-71494e5486f3",
        "id": "3wFxAxjQFt9n"
      },
      "execution_count": null,
      "outputs": [
        {
          "output_type": "stream",
          "name": "stdout",
          "text": [
            "La resproducibilidad de la medicion 1 es: 5.199999999999989\n"
          ]
        }
      ]
    },
    {
      "cell_type": "markdown",
      "source": [
        "# Medicion 2"
      ],
      "metadata": {
        "id": "gp_2VPsyHtM-"
      }
    },
    {
      "cell_type": "code",
      "source": [
        "# Tomamos el valor absoluto de la resta de la medicion del operador a y b\n",
        "re5=abs(a5-b5)\n",
        "print(\"La resproducibilidad de la medicion 1 es: \"+str(re5))"
      ],
      "metadata": {
        "colab": {
          "base_uri": "https://localhost:8080/"
        },
        "id": "lMEApeJFHwM4",
        "outputId": "1b85181e-d56c-494a-8c7c-78439a258bda"
      },
      "execution_count": null,
      "outputs": [
        {
          "output_type": "stream",
          "name": "stdout",
          "text": [
            "La resproducibilidad de la medicion 1 es: 3.6999999999999886\n"
          ]
        }
      ]
    },
    {
      "cell_type": "markdown",
      "source": [
        "# Medicion 3"
      ],
      "metadata": {
        "id": "M0v5piiLKoKk"
      }
    },
    {
      "cell_type": "code",
      "source": [
        "# Tomamos el valor absoluto de la resta de la medicion del operador a y b\n",
        "re6=abs(a6-b6)\n",
        "print(\"La resproducibilidad de la medicion 1 es: \"+str(re6))"
      ],
      "metadata": {
        "colab": {
          "base_uri": "https://localhost:8080/"
        },
        "id": "G3zvRjpCKqAU",
        "outputId": "d6d63216-4f51-46cd-85df-8934534fb40a"
      },
      "execution_count": null,
      "outputs": [
        {
          "output_type": "stream",
          "name": "stdout",
          "text": [
            "La resproducibilidad de la medicion 1 es: 5\n"
          ]
        }
      ]
    },
    {
      "cell_type": "markdown",
      "source": [
        "# Función de trasferencia de un motor"
      ],
      "metadata": {
        "id": "cqhk8tX9hdgu"
      }
    },
    {
      "cell_type": "markdown",
      "source": [
        "\\begin{equation}\n",
        "G(s) = \\frac{k}{(\\tau * s + 1)}\n",
        "\\end{equation}\n"
      ],
      "metadata": {
        "id": "P3X5bYiU8_a1"
      }
    },
    {
      "cell_type": "code",
      "source": [
        "import numpy as np\n",
        "import matplotlib.pyplot as plt\n",
        "import control\n",
        "# Parámetros del motor\n",
        "R = 1.0  # Resistencia\n",
        "L = 0.5  # Inductancia\n",
        "K = 0.01  # Constante de torque\n",
        "J = 0.01  # Momento de inercia\n",
        "B = 0.1  # Fricción\n",
        "\n",
        "# Función de transferencia\n",
        "num = [K]\n",
        "den = [J*L, B*L+J*R, B*R+K**2]\n",
        "s = np.linspace(0, 100, 1000)\n",
        "sys = control.tf(num, den)\n",
        "yout, T = control.step_response(sys, s)\n",
        "\n",
        "# Gráfico de la función de transferencia\n",
        "plt.scatter(T, yout)\n",
        "plt.plot(T, yout)\n",
        "plt.title('Respuesta del sistema')\n",
        "plt.xlabel('Tiempo (s)')\n",
        "plt.ylabel('Posición angular (rad)')\n",
        "plt.grid()\n",
        "plt.show()\n"
      ],
      "metadata": {
        "colab": {
          "base_uri": "https://localhost:8080/",
          "height": 295
        },
        "id": "2fmY1L2ZhpUj",
        "outputId": "5fbe2e60-9a1d-40ed-940c-683ec20c56b7"
      },
      "execution_count": null,
      "outputs": [
        {
          "output_type": "display_data",
          "data": {
            "text/plain": [
              "<Figure size 432x288 with 1 Axes>"
            ],
            "image/png": "[encoded data removed]"
          },
          "metadata": {
            "needs_background": "light"
          }
        }
      ]
    },
    {
      "cell_type": "markdown",
      "source": [
        "# Funciones de transferencia primer grado "
      ],
      "metadata": {
        "id": "cMdjYvnFCJcZ"
      }
    },
    {
      "cell_type": "markdown",
      "metadata": {
        "id": "XGVptVDxY8jd"
      },
      "source": [
        "Defining transfer funtion with $k=2.4$ and $\\tau=3.19$: transfer function data determined with error 2% that is $n=ln(\\frac{1}{n})$\n",
        "\n",
        "$tf(s)=\\frac{2.4}{3.19s+1}$"
      ]
    },
    {
      "cell_type": "code",
      "source": [
        "# Importamos las librerias\n",
        "import numpy as np\n",
        "import control as cn\n",
        "import matplotlib.pyplot as plt\n",
        "\n",
        "# Definimos las variables\n",
        "num = [2.4]\n",
        "den =[3.19,1]\n",
        "transfer_function = cn.tf(num,den)\n",
        "\n",
        "\n",
        "# Determinamos el inicio y fin de la grafica\n",
        "tstart = 0\n",
        "tend = 30\n",
        "sample = 0.001\n",
        "time = np.arange(tstart,tend+sample, sample)\n",
        "input2 = np.ones(time.shape)*5\n",
        "input2[0:5]= 0\n",
        "\n",
        "# Definimos la funvion de escalon unitario\n",
        "time, yout = cn.step_response(5*transfer_function,time)\n",
        "\n",
        "# Definimos el grafico\n",
        "figure = plt.figure(figsize=(10,10))\n",
        "ax = figure.add_subplot(111)\n",
        "ax.plot(time,yout,label ='y(t)')\n",
        "ax.plot(time,input2,'r', label='x(t)')\n",
        "ax.set_title('Plotting Transfer Function')\n",
        "ax.set_xlabel('t')\n",
        "ax.set_ylabel('y(t)')\n",
        "ax.axis([0,30,0,13])#ax.axis([xmin,xmax,ymin,ymax])\n",
        "ax.legend()\n",
        "ax.grid()\n",
        "plt.show()\n",
        "\n"
      ],
      "metadata": {
        "colab": {
          "base_uri": "https://localhost:8080/",
          "height": 621
        },
        "outputId": "a44666b4-51ed-4106-c4ca-6656a8de2d0c",
        "id": "NW91njV9Y-82"
      },
      "execution_count": null,
      "outputs": [
        {
          "output_type": "display_data",
          "data": {
            "text/plain": [
              "<Figure size 720x720 with 1 Axes>"
            ],
            "image/png": "[encoded data removed]"
          },
          "metadata": {
            "needs_background": "light"
          }
        }
      ]
    },
    {
      "cell_type": "markdown",
      "metadata": {
        "id": "38cJoMd96aod"
      },
      "source": [
        "Defining transfer funtion with $k=.65$ and $\\tau=.65$: transfer function data determined with error 3% that is $n=ln(\\frac{1}{n})$\n",
        "\n",
        "$tf(s)=\\frac{.65^{-4.2s}}{.65s+1}$"
      ]
    },
    {
      "cell_type": "code",
      "source": [
        "# Importamos las librerias\n",
        "import numpy as np\n",
        "import control as cn\n",
        "import matplotlib.pyplot as plt\n",
        "\n",
        "# Definimos las variables\n",
        "num = [.65]\n",
        "den =[.65,1]\n",
        "transfer_function = cn.tf(num,den)\n",
        "\n",
        "# Definimos el retardo de la funcion de tranferencia\n",
        "numd, dend = cn.pade(4.2,25) #exp 5 seg.\n",
        "delay = cn.tf(numd,dend)\n",
        "system_delayed=transfer_function*delay\n",
        "\n",
        "# Determinamos el inicio y fin de la grafica\n",
        "tstart =0\n",
        "tend = 14\n",
        "sample = 0.001\n",
        "time = np.arange(tstart,tend+sample, sample)\n",
        "input2 = np.ones(time.shape)\n",
        "input2[0:6]= 0\n",
        "\n",
        "# Definimos la funvion de escalon unitario\n",
        "time, yout = cn.step_response(system_delayed,time)\n",
        "\n",
        "# Definimos el grafico\n",
        "figure = plt.figure(figsize=(10,10))\n",
        "ax = figure.add_subplot(111)\n",
        "ax.plot(time,yout,label ='y(t)')\n",
        "ax.plot(time,input2,'r', label='x(t)')\n",
        "ax.set_title('Plotting Transfer Function')\n",
        "ax.set_xlabel('t')\n",
        "ax.set_ylabel('y(t)')\n",
        "ax.axis([0,14,0,2])#ax.axis([xmin,xmax,ymin,ymax])\n",
        "ax.legend()\n",
        "ax.grid()\n",
        "plt.show()\n",
        "\n"
      ],
      "metadata": {
        "id": "V2Q9e4GmCY2w",
        "colab": {
          "base_uri": "https://localhost:8080/",
          "height": 656
        },
        "outputId": "625bb147-7e84-48c2-c86a-b24b46af4578"
      },
      "execution_count": null,
      "outputs": [
        {
          "output_type": "stream",
          "name": "stderr",
          "text": [
            "/usr/local/lib/python3.8/dist-packages/scipy/sparse/linalg/matfuncs.py:709: LinAlgWarning: Ill-conditioned matrix (rcond=3.2923e-41): result may not be accurate.\n",
            "  return solve(Q, P)\n"
          ]
        },
        {
          "output_type": "display_data",
          "data": {
            "text/plain": [
              "<Figure size 720x720 with 1 Axes>"
            ],
            "image/png": "[encoded data removed]"
          },
          "metadata": {
            "needs_background": "light"
          }
        }
      ]
    },
    {
      "cell_type": "markdown",
      "source": [
        "Defining transfer funtion with $k=0.3$ and $\\tau=.5$: transfer function data determined with error 3% that is $n=ln(\\frac{1}{n})$\n",
        "\n",
        "$tf(s)=\\frac{0.15e^{-4.2s}}{.5s+1}$"
      ],
      "metadata": {
        "id": "f0CyR-PhhrxQ"
      }
    },
    {
      "cell_type": "code",
      "source": [
        "!pip install control"
      ],
      "metadata": {
        "colab": {
          "base_uri": "https://localhost:8080/"
        },
        "id": "x2a5Rf-IYtaG",
        "outputId": "18460102-9260-4cb1-dc97-e10b4b399b5c"
      },
      "execution_count": null,
      "outputs": [
        {
          "output_type": "stream",
          "name": "stdout",
          "text": [
            "Looking in indexes: https://pypi.org/simple, https://us-python.pkg.dev/colab-wheels/public/simple/\n",
            "Collecting control\n",
            "  Downloading control-0.9.3.post2-py3-none-any.whl (432 kB)\n",
            "\u001b[2K     \u001b[90m━━━━━━━━━━━━━━━━━━━━━━━━━━━━━━━━━━━━━━━\u001b[0m \u001b[32m432.8/432.8 KB\u001b[0m \u001b[31m5.3 MB/s\u001b[0m eta \u001b[36m0:00:00\u001b[0m\n",
            "\u001b[?25hRequirement already satisfied: matplotlib in /usr/local/lib/python3.8/dist-packages (from control) (3.2.2)\n",
            "Requirement already satisfied: scipy>=1.3 in /usr/local/lib/python3.8/dist-packages (from control) (1.7.3)\n",
            "Requirement already satisfied: numpy in /usr/local/lib/python3.8/dist-packages (from control) (1.21.6)\n",
            "Requirement already satisfied: pyparsing!=2.0.4,!=2.1.2,!=2.1.6,>=2.0.1 in /usr/local/lib/python3.8/dist-packages (from matplotlib->control) (3.0.9)\n",
            "Requirement already satisfied: python-dateutil>=2.1 in /usr/local/lib/python3.8/dist-packages (from matplotlib->control) (2.8.2)\n",
            "Requirement already satisfied: cycler>=0.10 in /usr/local/lib/python3.8/dist-packages (from matplotlib->control) (0.11.0)\n",
            "Requirement already satisfied: kiwisolver>=1.0.1 in /usr/local/lib/python3.8/dist-packages (from matplotlib->control) (1.4.4)\n",
            "Requirement already satisfied: six>=1.5 in /usr/local/lib/python3.8/dist-packages (from python-dateutil>=2.1->matplotlib->control) (1.15.0)\n",
            "Installing collected packages: control\n",
            "Successfully installed control-0.9.3.post2\n"
          ]
        }
      ]
    },
    {
      "cell_type": "code",
      "source": [
        "# Importamos las librerias\n",
        "import numpy as np\n",
        "import control as cn\n",
        "import matplotlib.pyplot as plt\n",
        "\n",
        "# Definimos las variables\n",
        "num = [.15]\n",
        "den =[.5,1]\n",
        "transfer_function = cn.tf(num,den)\n",
        "\n",
        "# Definimos el retardo de la funcion de tranferencia\n",
        "numd, dend = cn.pade(4.2,25) #exp 5 seg.\n",
        "delay = cn.tf(numd,dend)\n",
        "system_delayed=transfer_function*delay\n",
        "\n",
        "# Determinamos el inicio y fin de la grafica\n",
        "tstart =0\n",
        "tend = 14\n",
        "sample = 0.001\n",
        "time = np.arange(tstart,tend+sample, sample)\n",
        "input2 = np.ones(time.shape)\n",
        "input2[0:6]= 0\n",
        "\n",
        "# Definimos la funvion de escalon unitario\n",
        "time, yout = cn.step_response(system_delayed,time)\n",
        "\n",
        "# Definimos el grafico\n",
        "figure = plt.figure(figsize=(10,10))\n",
        "ax = figure.add_subplot(111)\n",
        "ax.plot(time,yout,label ='y(t)')\n",
        "ax.plot(time,input2,'r', label='x(t)')\n",
        "ax.set_title('Plotting Transfer Function')\n",
        "ax.set_xlabel('t')\n",
        "ax.set_ylabel('y(t)')\n",
        "ax.axis([0,14,0,1])#ax.axis([xmin,xmax,ymin,ymax])\n",
        "ax.legend()\n",
        "ax.grid()\n",
        "plt.show()"
      ],
      "metadata": {
        "colab": {
          "base_uri": "https://localhost:8080/",
          "height": 656
        },
        "id": "jeQiLFk0h-VG",
        "outputId": "8593164f-7d27-4ad5-de11-10b1a9bf6eae"
      },
      "execution_count": null,
      "outputs": [
        {
          "output_type": "stream",
          "name": "stderr",
          "text": [
            "/usr/local/lib/python3.8/dist-packages/scipy/sparse/linalg/matfuncs.py:709: LinAlgWarning: Ill-conditioned matrix (rcond=2.34921e-41): result may not be accurate.\n",
            "  return solve(Q, P)\n"
          ]
        },
        {
          "output_type": "display_data",
          "data": {
            "text/plain": [
              "<Figure size 720x720 with 1 Axes>"
            ],
            "image/png": "[encoded data removed]"
          },
          "metadata": {
            "needs_background": "light"
          }
        }
      ]
    },
    {
      "cell_type": "markdown",
      "source": [
        "Defining transfer funtion with $k=0.3$ and $\\tau=5$: transfer function data determined with error 3% that is $n=ln(\\frac{1}{n})$\n",
        "\n",
        "$tf(s)=\\frac{12e^{-0.s}}{.8s+1}$"
      ],
      "metadata": {
        "id": "YZcGhPqxw_w8"
      }
    },
    {
      "cell_type": "code",
      "source": [
        "# Importamos las librerias\n",
        "import numpy as np\n",
        "import control as cn\n",
        "import matplotlib.pyplot as plt\n",
        "\n",
        "# Definimos las variables\n",
        "num = [12]\n",
        "den =[.8,1]\n",
        "transfer_function = cn.tf(num,den)\n",
        "\n",
        "# Definimos el retardo de la funcion de tranferencia\n",
        "numd, dend = cn.pade(.4,25) #exp 5 seg.\n",
        "delay = cn.tf(numd,dend)\n",
        "system_delayed=transfer_function*delay\n",
        "\n",
        "# Determinamos el inicio y fin de la grafica\n",
        "tstart =0\n",
        "tend = 14\n",
        "sample = 0.001\n",
        "time = np.arange(tstart,tend+sample, sample)\n",
        "input2 = np.ones(time.shape)\n",
        "input2[0:6]= 0\n",
        "\n",
        "# Definimos la funvion de escalon unitario\n",
        "time, yout = cn.step_response(system_delayed,time)\n",
        "\n",
        "# Definimos el grafico\n",
        "figure = plt.figure(figsize=(10,10))\n",
        "ax = figure.add_subplot(111)\n",
        "ax.plot(time,yout,label ='y(t)')\n",
        "ax.plot(time,input2,'r', label='x(t)')\n",
        "ax.set_title('Plotting Transfer Function')\n",
        "ax.set_xlabel('t')\n",
        "ax.set_ylabel('y(t)')\n",
        "ax.axis([-0,14,-0,13])#ax.axis([xmin,xmax,ymin,ymax])\n",
        "ax.legend()\n",
        "ax.grid()\n",
        "plt.show()"
      ],
      "metadata": {
        "colab": {
          "base_uri": "https://localhost:8080/",
          "height": 656
        },
        "id": "yvJH9EwSxRZC",
        "outputId": "1937dc26-1293-4cd6-80ac-72bc6d207eda"
      },
      "execution_count": null,
      "outputs": [
        {
          "output_type": "stream",
          "name": "stderr",
          "text": [
            "/usr/local/lib/python3.8/dist-packages/scipy/sparse/linalg/matfuncs.py:709: LinAlgWarning: Ill-conditioned matrix (rcond=1.45011e-82): result may not be accurate.\n",
            "  return solve(Q, P)\n"
          ]
        },
        {
          "output_type": "display_data",
          "data": {
            "text/plain": [
              "<Figure size 720x720 with 1 Axes>"
            ],
            "image/png": "[encoded data removed]"
          },
          "metadata": {
            "needs_background": "light"
          }
        }
      ]
    },
    {
      "cell_type": "markdown",
      "source": [
        "# Calculo de constantes"
      ],
      "metadata": {
        "id": "LvrvrkX3VxzE"
      }
    },
    {
      "cell_type": "markdown",
      "source": [
        "![tabla.PNG](data:image/png;base64,iVBORw0KGgoAAAANSUhEUgAAAvMAAAE9CAYAAACGD+2OAAAAAXNSR0IArs4c6QAAAARnQU1BAACxjwv8YQUAAAAJcEhZcwAADsMAAA7DAcdvqGQAAP+lSURBVHhe7N0HuHRVlSf8Ic44wOAADg0SuomS8ww5gzRJgiTJIA1IFgkSJEcJkiQHyUFAVBQcG4EmCAKSBcXcioqBVhm6Z7TPN7/9sd45FHVz1bmn3net59lP3Vt1zj57r/Bf/73Orjr/oUpJSUlJSUlJSUlJGUhJMp+SkpKSkpKSkpIyoJJkPiUlJSUlJSUlJWVAJcl8SkpKSkpKSkpKyoBKkvmUlJSUlJSUlJSUAZUk8ykpKSkpKSkpKSkDKknmU1JSUlJSUlJSUgZUksynpKSkpKSkpKSkDKgkmU9JSUlJSUlJSUkZUEkyn5KSkpKSkpKSkjKgkmQ+JSUlJSUlJSUlZUBlTGT+r3/9a/WLX/yi+spXvlLdeOON1TXXXJMtW7Zs2bJly5YtW7Y+tJtuuqn66le/Wv3yl798h42/V8ZE5v/P//k/1eOPP17ttNNO1aqrrlotvfTS2bJly5YtW7Zs2bJl60Nbc801q1122aX69re//Q4bf6+Mmcz/4z/+Y+l43nnnrWafffZs2bJly5YtW7Zs2bL1oc0///zVOuusUz3wwAPvsPH3ypjI/P/+3/+7uv/++6vll1++mmWWWarpp5+++i//5b9U88wzT7XQQgtVCy+8cLZs2bJly5YtW7Zs2cbZPvjBD1b/9b/+12qGGWYohH7FFVesvvGNb7zDxt8rYybz//N//s9qlVVWKSR+5plnrpZaaqlq8803rz7xiU9UBx10UHXAAQdky5YtW7Zs2bJly5ZtDO3AAw8sr9ttt13h2u973/uqOeaYo2xt/+Y3v/kOG3+vjIvM//f//t8LmVed33LLLaszzjij+trXvlYu5PNs2bJly5YtW7Zs2bKNvuHRKvCXXXZZteeee5bqfN/JvNK/VYStN//rf/2vd44aXv793/+9+stf/lKaX8eJFu/F+44bSeI847Kfv9t5cb36MeMR/Tg3WrfreH+sc2ijGDtd0Vk0/5vXoM4p5f/ZtQn/jHhwvYi7yfAd1zTfGEfb/Nd46q2Xoj96j/mPxwaOn8j5bZLQR/jCaOZT15/XJiTGWdd7Su+l7g903VY9G2e0lGlD+OR3v/vd6vTTT6/+5m/+phD6//E//kfh30PJhMi8tt9++1X33nvvqMi8gHn77ber3//+99VvfvOb6s0336z++Mc/Vv/yL/9SvfHGG9Wvf/3r6ne/+1315z//uVxrpOB66623yjk/+clPqn/+538u/1NCiOsZ169+9avqxz/+cflZTdcaqxjHv/3bv5VxGbNX/0dweTVe7//2t78t8zOv+lgGQcyDzszx9ddfL3r90Y9+VHT385//vMztX//1XzO5DKCwK//001bigY35bL+E74uBn/3sZyXu/vCHP5SYaVpcE0YYg7mPtujQlNCTmIJdXnuZsPUdGCme2dw1RivinL5gMjvCtTruDZIYc/ikXEEffHK4GHCO48UL/KMH7/V7/sZpbOG34nYQdd5moU+xQM+R28QKnGyTiEH+IO68pkwbwtZPPvlkddJJJ1Vzzz13M2T+H/7hH8rvzo+UJAUPwv70009XDz30UHXfffdVX//618tCwO9n+pWcb33rW+U9kwC2I/X5wx/+sBzvdzjvueeeArr1ZCU4gaH+L7/88nIH4Qc/+ME7n45eKNYi4OWXXy7zd80nnniivOczAefv1157rXzb+Dvf+U7523w1ZBgxRiYsZjqB2f/mClAc61zH/ulPf3rniP6K8RuXZPXTn/60+v73v1+99NJL1QsvvFB+CqnbnJsSuonWa+lXv20UccG2YtWtuu9973vjWtgSCY9vavrtlgB9xo9uu+224jviDjHqlYTd+KI4Nxf9x1h8jryKO/H44IMPFowxDsc2sSA1BnHlemLLOOviczj3/PPPl5hX4OjluJBAxBXeimHXoJPRCt0ilE899VR1yy23VM8+++y7dDxIQtcwVs6QD+jk1VdfHRJjHc8WfBimixuVMu/5rF+ib3Z77rnnSj60fVXc9vOaneJayCOfRXaHivFBFvOxOKXnO+64o/i4+OtngWOswg7GBMPGW4jsFH2GLwU20QOfS+mN1HU8XoG9uNdnPvOZ6r/9t//WHjJvYgaHyJ922mnV0UcfXb4w+9GPfrR8eXazzTarPvnJT5aB+y3NU089tXr00UeLIw8l+kQS3BlYffXVq7333ruAc90pEWkLA5/5rU7XldDHKpweub755purvfbaq4z38MMPn5IMzE2wAV7vf/7zny+ESfL7p3/6p+qGG24oP/pvvJJjHRjNw//69xv+jr3iiitKX5JvEwKsLYQAmkURGz/22GPViy++WMZx/vnnV0cddVR1ySWXlOOaqrCG39BPr5Nove+pXcwVCRNT4vXYY48thIbPjkf4C1KsWYCKj07h5/x92223LbGNTPOdXoj5BOkVf8iOxecrr7wyBYd8zn/N8/rrry8+fMopp1R33nlnOdYc+i3GSQ8WTnDIOENiDvDhc5/7XPXlL3+5jKuXZAL+iWl4etxxx1UPP/xwWTyMVtjV2K+66qry3SgPCjSfpuK/l0LXiCmC7IcaPvvZzxaMpqNuwj6wgQ+fcMIJ1cEHH1zm7z2f9UuMk45d68QTTyzXFbdNClxE5PmsBYw83C3GB1n4MJIsp2+//falIGihN1IBsUnhazjB3XffXT3yyCPl7thEhN+yrUb4mQIlXqaImDJxCdyYKK9go1aSeRMDpMDh0ksvrW6//faSID784Q9XK620UrXuuutWF154YUm8Es/VV19dPfPMMwVQhpMvfelL1cc+9rFqhRVWKIRdFaqeDAG1avIOO+xQLbjggkUx4wFGikUaEN199tmn/DTn3//935cVPQCI+QmKIOLIMICQNMzp05/+dHX22WcXgl4fYyR1xOiLX/xi0eeuu+5ayD9y0m8xFltpvvCFL5QmealWuPVIf8agMmUu9K2yN1FHHUnoxKIM8UBwvLpmL5KoPuIOBJ0PlcynJjFnFRiEWixYmPkbmI9HEGF+HPrrlugRAHffttlmm0Ik+dFEK0t8AM64Jp+QkP3vb6RTU/3WYIGF8XnnnVdIGyJrIY88N0nmLXZUd+EQ8hAi5o0fzrl7EaTJ+70Sfq6ggBRawLnTNhYb0C0sgM3rr79+wSTn9zv++yH0akHLD5B5ecjchtIH22nuHCPz9IdUxfv9En1b9F555ZXVMcccUx122GEllzQpdAXn3dHil3CiTSS3FyL25DiLJsU5r2K1l4vpiUjgA0IHR2HtWO6qdUrkUwVI8+Znkd/ZGY9JmZiEjuE9HU8Ey1tL5p1nksDTt3QlNUlsgw02qJZccskSTN6XfCReCRfB9L/ETEkcWbAhzd7jjMi0yt/KK69cSDaHdBxyQZFASF/uAPgd/AsuuKAkNJ8ZL3BH0vUpkeq3G2n0P+UiQKr7yLwFhL/drvWZc62cLRYEjOsgTbvttlt16KGHlor+kUceWVbCgrQu+ne8iv4aa6xRfo4IERHA/RTXdYvNvPbdd9/yZQsLLnoOMVbHsJcx+t98kSE61Mzd/+zsM+85h269rzkmbEPH0QfbOt77mj5cg/1VI1RSbUNwfP2caGzo1Xmu4X/96MN7/o/r+t/5EhSA5MsCj/jMMfowbud5j6/EZ/Wx6qdOaujS/zFPx/pbQxi0+jn16znWNTX/G3v0EzqOv+lAH86P/p2v/9B3fVzE2NjUNjPxAiBUrfl9jFkfMQ6vxtbZD9G/uJQEEHp2jmON29+aGIcLu+++eyGDxmf8zvca1zIPjb61mIM+Qo/61b/xRvKxcPa/Y1SVxFUsGPzPvu4IHHLIIcV/zF+MO0Zc6TNsG2PSXNd7PnNN/9f1Ux932Fxf9fP9H/Nyx83YVMgBPGFDfRq/z/h5LE7057Owt/e08GN/G1s3MR6fG4M5ufOCCLL3ySefXP73ed0GcR19Or8u5ul8BQmFl7vuuqvMyfj143xjDf14j/jcGEJfcYz36tfwt/7Cdx0b8wzs12f4hv/1TcJ20bcWvhPXcEx9vkiy/OLuqQWU/OCa8blr1ONUP8g8XITN7ESMwTHmE3r0t/E4x+fe955mbPU+6+L/8KE4Vh6zCFUAUgiCvTGXuF5cs9MX9OUz8+BfoRt/m1+MUz9i13uOp3P6i7GLFblAzhY7jo1jooXd9KcPNvNqnOZlbKGrGJPXGINX4/Kea+rfeHzWOS8Seoo5aaFn14l56s+4jCfGpz/NWDTXgQUKh1tssUVZqDku7BB61qe+vRfj816Mw3uOdUzdtv7Wn+vH/EJndBl9+D/sEv7h1fH0zgY4DBzRj3NinI6pN+/Vx0D8b2zyqYWsgqk+6SCwST6Mu4Z1X3Q943OsaxqzORhvvNK3a4ff0Uec47oxZ59p/g9f7LRLzCOO9bdjOsV7Po9xGKu/Ixdpruk6Xh2vOSbGYryaY8037Feff9jXq8+NMd7Tl37ib5/JOzBCMVeOck69v5hfXLPTVnVxbmsr85TOOQEqEFUlQ8KXW2658os4koYJ+tyK0fGIFsfzmaqwqreqvklSiEryeuutV35M33ads846qxwneVMwB7bX02euo/ItoeobSJmLcQB2t+Hd0uIAxlsXhpJsEfeLL7642mOPPcpCxJNw/XyQeSHyKn76MG7EVzXHHQOkAjjT01DVNwF17rnnVptsskmpZsZY+inGwekAmgSn8uaa7BASgWaOwNH/7AMEVP2QFFVHVVHVUJ95/7rrriuLBICpmQ/bOE8/9OAcOtUHffks+nD7UyJDJCyQ2ESwImICxnuaOwn+R1RcI+4ssD1bWyTG1gqA5X3bGj71qU+Va3jfnFzXGMyFXwhI7/EVttWn68VYjaNuHzrzf/gq4NQXX3VHxzYKfiH4Xc94+akxA2u6cgfEOcbpfQmGX0jm+nRtsQOQjE3fcb7PERULSdeoi+uxgQUiMs/P2EDMRsIwN2MXD8YedgoBPNGPRQGSY1x8w9yNCbl3nmPEKRKETIsv2CF5+Ix/sJnxslHYie3oIeLH/I0LSBqncyyQzznnnGJTx9EJ/3WeuSNCt956a9muJ5b8tBe90pH++DvdA0sY4dr8kJ71FT4IX+jR/2zCT10/KvzO0webGx9daLH/3TVgGV0ZK//h1/wYlkS/+jJvNohihPcR5/Bj7/NJ7+lbEukUtmEHxzuPLuCNqrwtjbBRzLEpvbGBORmbcfNz86mLY+GnCjF9mgs7GqNx0Iex0infcW1+Yt4Wi3TumMDw+h2RIBliiy+Zn+NdA05fe+21xb/16T06ci3+b65817lxfa+20Jg3Hetf4mUb79EJv7DN09ZM8UKPbM3+FocWgHQWVVD65Me+hGaM7ECMQZ/mw2f4BH/l3/Tjc/qlA9c1j+jT53UJXBPzjnesayoC7b///mXMdM0fXd842Y2u+Fpn3mUzuoY34i4wQj907Bquxd/hAZzTl8KYeGQ7Y+aXiB/foAf6pTOxJNZ8Tid0LhZc091bY7OQN0/61x/9imNjoit6C/zjX85xHb4IB9i108fZk57ogD+Zk7lFzNK5MerPNYxRDjK+iGfxzg78nx7dnXHnwzYbenBM5PGwq2vAHteI8bk+v/QZX3WsmI74MVZ+ri96ohvzMyY6kGf5rLnwN9fmP+anD35ijMbO9x3j2sbDn+kubKhfvqYZU2cMR+5mf8XHiy66qFyPjehd3+brGMJ/9GO+bBbxwLfN13yMiR+IF/o2F+fpD8byCzaHd47Th8/0Rwfm71zz4CN8ODDJfOjLsf533U6hV/3xZ/3xI/3p19/mYwx8mr714Ry2M3d6hNv0Te/mCxvr2Gb+5ms+Xn0u5o1NHOjLGP3t2nTERrZyWvgbl/5cR/9iis9pcU3+NpSwo+u2jsxzbudqwIsjUbyqvEo0cgVkHOdzCuW0DGG/K+c588wzq6222qpUt4EdJdnDbUGAWH/kIx+pdtppp+KwzhHADItQIPMqS4zIUByBERxngYDIbrzxxsXhgUJnQCAq+gJ2nJexVLI9YhdZkbAoXgMyDCXYzFHw2FLEqYczIOO7/RsP4DJO+uqXBOBweFU7NjCPTnGc5EknbEzv5kgP5sShgY4gkXDZUQAgUezjM+AH9I4//vhiS4SOrlzbIsd7gMlxglrg2ZJEt/pwPWADNF1TYz96tYXDgoq/uEYQPQnKWMyLTwhugeQ6RxxxREmWSLbAF+xARL/mYcHm1rpj2dG5Eh+C4ZgISr4SQpcAjU8hnHyEHozDQlF/xqVPCc6cgABf5Hfma+Hidi/9BPjSs/PMyzjox1j5Mn3zSfOgB7qkQ8BTF/ajb/NiF0nOeIGp8eiXDcQ2oq8foC1Jh4QfsKdjVNsdL14dB9DNRUI1fuNFmsStvunK2IAgHdKnY8QVO7mmY+kNYLqO2LVg55diBzlZe+21CwawP9t5ddfLZ8BWM0/b98QSW+jLws3frg8bYIzrsjcf1thDHNIJ3dA1bKNnnxmL8YlpNmBvdjQfY3Su5m9982OEAZGOxEQPfILOvdKza0SC87m4UAjwalx8zTWRanav+x1hG4nJ3I1Hv5KprRpw0V1LOuHLjmEnOnFN2Oc6+uQTdeGn4scxYlff9MbWbMrvjMecxYY+ESb207fY5b/eN0d6iTxhzDBFkmNn9hfPfqhAQnRHx//65mt8xTUkWWOgE3qPpMoXxZnrwArkylyNj985HilXiIGviCpcZ0fjcx13bumdfuiKTiwUJVTYwyfY1HXN3XvOFbPmaywIjPfFmOPEgxg1T5/VdSwXiFXH0xkfMX5xsOGGG5YcQ+d8yVyMld7pQd7i+/A4hE6Nm5+ah8WAuOBX/Idu5U76cK7+XQtmKZw4Tyybh/75D1/Sr374n9j3mXPYjc7N0bmu5xrGjIzry7Vgj+vRv3gQT+ZDP4oqYsq4LLTo22dsHAJjkD42FDfmI27Yie/qm1/wNXfBjcHYxTu7iAVkC9a4pn6MEZHfeeedS97FNWCMufAF/sT/2JHN2dmdEvOnC/Z0be+5rr7DtvTFtkibuDMneG5ccq14pD+6hQ1w3xzkfHEcec4YzJNu5CznB8nkB973Kh75uTFZeNWFHfgEO1mQ078++RQMFlv+5of8HfbRK7uZl7xinJGTxIjnCpmTvAsb+L/5syO/gxV8nt74nf+dpxgh7vwvnvVrQSN3iyefmbs50bFriAv6rIs4YV/jgE/8AX4oCrMJHzEveUIOFTd0FFuejdvY+IUFKFzCSeGdnML/6VP+dj7f5hv0TicRB3zLdY2F35gj28b/fJgezZvO4ZT39avJB0NxvNaS+U6hWEDgkbW22EiodeLAqREYjmQyDMppXE9y4pCAFRBZEEjmiIN9nUg7UBFIlKcyvvXWWxfg4rQMJ4g5mUAFIJtuumk166yzFgfg0J1knqNzTgHPUTg8h5hrrrnKIoCTcD660b+x0RXw9re5SXLIUKdjhjhfpV810by7rUh7KeZoTJwSaRYQHHw4kfw4uyQNAM1XQNCHQObkAoFufeHYl7fMiwPTtQpIJH36A1AABrgDHCCrP/YXdALJsWwJqASJfgBLBJrvW7gOPevbuAAk4HFdc0Pq+IzxCi4JRELnDwgb8DZ/YKIBaOc4Xh+uox+EnC8aH9BBGELYmz6NWyIGLMDSsciJp7mZL/Dgl4AAMJivcbsbYzEqLiQeOuTLKqsAi0+ICToC6lrMh/4sdCP5d5I9yRBAWjCwkTkCfYBFT4DUeeaE7NtXL1EYe6cAS7FG5+agb7EhdthabPMTumJv/QNtegP6ANq4gSBiRRfOoS/XFud8yJzoXHzqF4AjETBDMqAH4+MTyyyzTNERXYo1x9kGJ7HTMd8xPot+/0sgdIzgs7XEKRnRixinK7owL0nQ/67HNvwLfhijxCop8WXjMxfvS8yA2FiMla+ZI5LCn4yFfV1TooEp7EInfEos8QfJygKVbSQmOMYukl8IPBHL4pK/hS1hD5+nm/BF1+LrbGjOdAcz+YU+Eaa6iCn+59r05hqSmrFLXPTlPbqB03xbUuSb/IOf0A1dyhFiuZ4n4KGxBn7zcfo03sUXX7zoGekRf/pDzvismIW59Gg+/oe7+qEz9nYtGOF8vmd+nqoIX80nco5xiSt20b/vQvE3mMY+8JFt+Jq5sy1CJqbN3fjhIV9la+fQlfmEfhzDV+SROpkPIo80sqtFpv7hkyKXPo2RH7IZn9Ine9EJ30RAQvgCbIRBchrb8wG6EHt0g2zpw/vyuPxIl+JO3BgT8sHuyDf96JceYKIiCDs5lr7FLB91TXhlXPRuoQub+B390zHi7C61+dKLcfBz78Fs9kZ+xSYMCeEzfBF2wANYzT764APmxf70stFGGxX7spG4ky/EpjH5WxMHsAL+2IIbxMx46N8r8gXDzBVeON+XwGEsveuDDpxvTDAt4oe+5AMxD/P5lfHoy/fh5EY+xc/4uib22RdG8Cf24jPhT+uss07ph6/7zDU1eMW36diYOhfkcpI+2Zi96E6/YiTsTpfmSIcwUczwS7HLj8ydDsU8/GNH59I3PkZP9MaO8pAY0g8sgMH09vGPf7zMF0bqg230T2+wiL+xDd7jGNjEPmzeyZuME97IqebEdmKFjvgh36Zv14Vv7MmPjcF3LM2ZDuC6ufBfPhfEm0/BB/3CC9fCFWAN/7Qty/gdBwfgoc/kB/EgXvEZ82dL2GUM/NV7MI6v0zH7dJOBIfMMT7Ef+tCHyitnE7xBMAU+pVMCRZk0RzYpwUHhVo+MYiwUBiCQEM4l4Dg2R19rrbWKggUsgsAhvcdZJAaOCKSMhQMKSM4TwokAKlKiP2PhcBKwfijY+YwqkQIJ1RLnIUz0os/OBUKIawlAjv13f/d3JRiMUTLuFMdyBnMXlMbAITlm6G+0onIgEQgiiYfjqAoMJfo2N/bgjPTnfyAbSY/eBYBA+tu//duSlIyTzhBW9mE79jZu4GablLkDF3r2mcBgF8EhiQoOZI2dzZlu+JCAENCuF9UHYCmYnSMAASVwkSwlNTa0CDReAcwnJCDA7BjJx3g0YwGeAAURMH6B7z0+UL8VbJsCUAXS/IF+kBy+YFw77rhj0bNEA4T5Gp2bCxCzKHQN1wWujkE+/c/eAMycAKv5Se6uF0lRHPFBC7LOW9Tilt7Nmx3YBHCxJUCie7owHsnaAosNOokCHzAvczE+/u48IM02+mQvje3pi51hBv0ieeKUjv0NGOkYkXJdcWoO/MVc2VKi1odkheSuvvrqpa/YHqE/JMIYVGQ1yc6Cit3MTVJFFuiYrowPxtCtMVgssoOEFgt+83Qd12ZvDbBKGuKTPgF+/O18PiE+6UQ/9Om65hC+hkzRHTxxvH69z5f5vDk5R8JgZ7qT3CRFfuWaCFcIv4N15qxviwlxZDz05fs3Ehx/E0Pmy9/4uoqTsblGJ37ALnqCD+KQLyM4bOc69IPcGotEz978iT3FJl1ZaNMXf3O+ccU1+JOFIAzmT4gAH6JzfyvSiGv65xOa8bIbshHJVJ9sjjDzW4UcfRgz2/Bj44QP4k+CN059mQv/0Z8c5n26p0/N++bh2mKNXyAi9Mnf2M+8jIP/+iwKDSp0cpb++QI9yQXmbO6w3NhgadhZ7kPc5FS45tpiSv+wkp+xGzxhTzHB/nWRC9gHSacjRMl7bOK8IF7m6omS+mVX8caOxmBu7E4/5idXGAuirG/6NQ62ha9sRG8+hzFwAdZa3NGd6xm7xYH8YE4wjn7lO6TQ/GMMMDMqzHQlPvmyuOG/MC9yBVJJz/xC//I/fYkTscAvNPMV7+bDF+ACHSGMfMH4zdGYjdGr4+Es29EJssjG4kc8Gz+eQh/mU6/My/n06nM6dqz445+2BZszHckXsWgK30bs5SkLIraDFfyB/WI7C99W/KFv+MnvFHH4V10UB+iVntjOOANzxIg50yOsYnP+CJvZ17zEIPykc/rHyWAR/bCF3ApDnK8vGO4Y8zF2cUAH8EJMwTc5EFcwdue6pv7gnNzlenRvocduETMhMByJF+8W0OzLz+C7McFCc/G55nOxxnZ8hR3EhWvIHeIV9tO964lHf8sf4oXvyoX8id3glTHzY33TL15gLHK48Zs7v6J31+Nv+pC32BtewJP6nbW6wMnQaSvJfAA40KZ4Tk0BQXb1AXgZwlOvKAZoqexJFossskhxMP97ZVArJ0HBwd2apWjOBug4CFIpOTAYJ+Vc3gNUHEsSBfAao9SdhhivpMbwnAhZMk6OyWklyw9+8IOFTAk6AdW5Oh5OzNvtGGAy++yzF+cD6J1GBv70b56C0EIGmCKiwBOpHmoLTzehc3NRmWRDzua9buLaPhMAApNDI1zGiDRwOoFJBwJBwFiYSHocm8Ozl7kBOAmDToFubJswB/0BjSAMPrfAoA/OL7iAPf0KHoDA1mzjPEGCQAJFx7EvGwH48BFJwVgEKBDji8ZAp4AbkJun4JYoEQXzo+eoYvItyabuKwDfPPkakHWMebKv6/FNejYPPur6yAC9SvgWhoDTvIAGHQKaAHV+CJAAPT0AAn1bSAEv45NkjIu9QpwHIIET4KQDyVcs8CFgY46SI4BXqTBOuqsvClzL/xZBYsWiwDiNLwgRsIp+xBk9iFW2Fb90LZ6d6z1gSG9AXLIS7+Yg2cAZd+2AJl/zvwSm2i8OjcX7rs0PkELxwR8lIn5qruYmrmGK5ECHEh978y9jjTss7GkOxsyvnCPxI7qSt/fEnLHzUTo0F3aP86OZAzyI5OIa/EDFlZ2NA47ol9+ZuzhwbX6s4gezxI/x+5wf01U9TvUraYgXZJXf+Vx8Sf581jjpnT3Y3Jj5OT3qP+ZfF3GH+BiLmKFXNkbe6ICOCR8XH8bHVmLKeZK3LZC+o+H65lmPFz7KhnyI7WGFPGJsxoho8hd9wRZ6hLl8ny/BErYn4pSt+QZyiDCJM2OXT4wdIYRPgQ/GSl/8PxYJFh2IERzimwpHGj3qxzGwgh+KO3o2PtgtpumGvxiLeFTVdE3H1PFcTMJq4zcPc4a/3uMjxghHxDo8kKPgh3HCDbaDd65fj3V/m2dUpvmVeEQg9IOowC/vm4Mc7HpiEG6IH77uOkgEX3Mu/GETx4tPfhPkRYzwf2O1gNafggud0YGYMV6Yg9TDFflOvDqHzXweY6gLf4E7MAbmmBdSbTwajOc3SJrrBpl0vHxIzxZh7Oo4+uYrcFc+gHNsZlz0Te9yiVjhs3wTVhiveF9ttdUKudMffzBuCwLX06exEtflc3REJ/w3+Ag9es9Y+DMSyi70InfyN35Pp+zJd5wn5sxd33xMTrR4cn1jU0ToJnDAtYwB3jnOnFxLfMBz/Vn8IOZs6noaP5EL+QB/Y0824DvmBhecIzbp2TXMj+7gmzkoyMAG/g2LHQer6J4uxakYgXGw15zpSnwqaLiWOQeu+pzexZZ+zU2uNgaYSUdwkx7Z1jVgkrg2NrqNGDIO+Mh+8Ik+NHjNz+nYuPQPq/Xrcz7tnMi1sJ4NXZOO2BImwhfxxl/MPfKI68qzA03mnQ/8DdCeVgbhVGEsExZAHBSxtWoFoAwF9JxDoYwN0CnEsZI6hUkAwAFpASica7755isrSsDkugzuOAEAdI3BgoCCBU5djInBOD/HRUQBqPEiwhxHgp1jjjkKmHMCYMHAoxUADnCBojlzFECjn7owblRNBIAgQvbMF/iOlcw7VvAAfWAIGDuvSeiA3YCVawMiARaLFmAhwUpogIme2E0VQzAACjZDngQtEDcX/mKeFhPmYN76YhP2EhR8wxjNz5zpH4izAdBFFFwXaWJv5yB27CgABaJE6LqSnP+BNjshTeETtmSYEz8S+MgNXRijawk4c7F4BPgIAIDnByHA3TEAxBiAH/04X6LxnrlaXEg4wE4f/MgcEB/zlfQADiBwLQEfiZbPeh8YmR8/87c58V969h6bhSBMbABsJDTzE6/G4RygZhzIi3iRNH1WT07EPPipPhAmCV0C0If5mQ89ASCxKS7EJ5vRNxsgLT4XT/zV8ZK4OYsfeo1FmLkivuzCL8wNwJsrH0E2jYGu+JaKk7kiWUin48zJmPmnJASr2N012ALhVEEBsnTGnj7zPvIEuI2RP8A9c/I+v2Ur1+V3xkfYKADePMWW8Rs7GyAvyy67bLEFHTiW3iRQVVS6RJLFEb/lx6q6xm/sqojm1+l3fNjx9MfPjVesmjO8k5jEkDs94swChr6MiR67FR/MiX7FIlvQLf27O2CccJpITuIPPvvcteG4WLIgjWQtsdfHTVfG7lx+wjfMDXaLD77PNyVhSZIexT6iQBfGwP/YzVgjwSPbSIBr8g3+FQUCCzwxbOySPAylM/7H5/ikWICN/BYuwRTn8hPxLVewEb2JD/YTLxav4icWtPIRfHLnkV7quUX/9KRiZ+782Tidy+eQZiQLoUKKkRYYzQcRB5gRd1Ii1r3CK9cJ3+Zjcoax80VzpWfz0a9FDx2Gz5q7c1ybzuOOgvf4jUUXPDI3+oMFrsNGMAzmI8L8i43ohG8GIaJf42FHmKBibW7sEWOoC3+Bw/x/qaWWKnlF7OkDjrkWH9OHMYsbfkEHfJpOjE1O4gvG7X2473hjZF9kXvywhYW6GOLXcpyxIqD8jr/wAfrgz/p0bTph07CFa+gDb+GPchUSLe6RcnrXDywK30b+HU/P/JEPiRFzFMf4AT25hmvBNj7BJgizecb16xJY53z+pF/YxGfpk/0iR7MfH+GPbO9989dwLhjFzsbNfnArCjt0BStcywLAMbgbXHAdfcBS46EDMc5/xLlj2My82NycXUv8GXPMi384hj1XX331Ym/2on/YKseKWzkRBiDv8AXOGBN/hBPsb57s4PqIueuzhTnowzjZjF3kPj7H3nKbfGchFrnW3+bEHjCA7/B5WGEB5X990Kfx8lE2hTn8vpuI7daSeZMG8pIIQy622GIlMQLGUAowsxqk4Pe9733FsQUCwyKuVsaMwVgSK2NzFIAqeQFOwc2JJDDnUYQEwRn1R8H6YUyrOslVwHEsYwtAMR6OZUzOBX4cIgAUmDIGh9afvhlqKON0E/0LAobniHPOOWdxUEmN09bFdSVUZNhYYhUJlIJIsc9oRX/mACgBs7EHwfCZvjgggAfoHJttBC+b0AvCJ/ABhffYEiBJHAIpKjsCjX4ACIIgGZm3IJBYBLNFGQC04peIgas+BaIgUlUVmI6RnASdsbge8saegpFOJA4B5H3j0ASn8ekHgBkbXQIft/TZX6LQv3kJXiDu+hK3AGcbCZrNvVcnJ2wG6IC7QDVGcweyxsFOCCD/RIaBuXPozxgsMPkjYKErpF3QIyJ8kl2cb/z0AsDYRL9BOsRhxFIIO5mrMTsGGRAfEpexAhvXED+uSafGw+YRC8R8xYcxIYh0JWkDRKSWbvUTfSN97ChmgL2qsLEiD+wuqfAtOhDTrg3EjZddxCydsC97AnX6Z6eYO7/wP3B3bcBLf/TE5yQkRM8xfM/8JUHXB8quEUDO1q5tXsgXGwFn/mA8ruHuicSpD8kdGfEq+dJrEBZxys8dSzeuYbx0DSucY7x0TF/srYIjqRuT8Zq3MaloiS84a4HiOnXh5/wbSYWFxoJomIMYYh9xAw+Nn038D9OMdygyrw9jMEcxak5wh/+LMcQC5rOvcdMtv1Tp1y/ds6cxwXs+GNhJYjFPJ4ELzjMXeYE+EAy6s4iRJJ3DlyyYxT//g2FiiC+YL537bgEfhENsTSfwwWd0jWiYg6qcuIBrfDt8kl3oSF4QC4GNfNz8kT/4BceCCIp9Mc2XzMPx5hWLH2MMiYVxLJ7j+nTHL5FGuGwM+jV/OuErcIxfGCf8CX2KVb5nrvyEzfgzDHJtdoQv8jdS6dp8Wn8hxiQ+4ZfcyUcREOewI9vANfnXwojdHS//8FH5lz7YFXGC60iO4/VlLMbtlf3El/lZ+HUT8+N3FqKKHa6h78AIsaUf7/M/+ADbYXaIuYspxyKg8IBezdH1nc/HzJctXIvvmyc/sOhyzdgiw3fEMt9GtGAojK/nAgsQWMzu7i46Vj980DiNUZ6De/TkfWQXPooVx0ccGR/bsxddsxHfgwvs6Hz+DhPruO9vOcPY446cudGNuAmyawzsYTywyZjFnevzM/gAc7wHg2BXYK84NH/+a6z04Xznmr8YjrGzO6yyoGIP74kXvMcx4pS+jY9fsY3j+FYInKJHOCR2zYd95QbX0icCrF/El43hlBwjv8mT4gL2ycPiSt4xJpguXr3PP+jTeHHWWNDhSfCDTnEEIu74hEWVuUS+whfYBfHnc8YNA/k7O0euq9usLrCylWTegA0O+aV4Qa9izpn0FyBvcpROMTPPPHMh9YCJ4VTlORuDcXArdaRC0uaQnItjc0pGcJwKh2o3wGZUAevaznUs480777xTfjOe8gSAsTASQg3sOCvHQrrpwOeaABZg+jcv54+FUOsfyAEaYzUWziBgO/uJ6xmfZADkNH3Q33hEf5xWgAJEAWtRECtRDiuQBYMA5qB0aK7AjnMiCQLaud4TiJyVTziHLYAgQJEQOLfEDTAFkEAQQJIYXSNiKogCI5IN/SAijvG5YOU77O8Y15RckHnjMW5gJ3C8JwiBAhCwLYpvICHGwHaLL754GaO+JGxgBOAkRmNFTOiJn5kr4IhkGqIvnwE4vuL6rmnskrDz6U9S9ZwCQCO58lvXdseDHegW0CIIfNk4XAeQ8Q1+4jr8Hsngw94TJxIpv6mTcBUsiwmLJbGKNNCfGHMd7/kfgURg6ZR+AGt9fogC0HMdtjQf8WAsbGU+QBA587l+gjiZk0WIY8Wu/4EwkKNvyQy5ApLIGcAFssgUm4gRthSjkqpEjjTREbKgP/NErthYf3QHgPkkHelPH3yZbfiFxAkH+CvCwR/5rfPhBCKGVNG1PuDex/8vGUbwjdGcJSJ+iWSyBwzgf86zGHGM2DA2vhmLMXphC2M3L76BVOiPjuCVxQm/MkY65kuSHSwIoUPXkDiMl+/pk1+LK3HNL1wbjrKL94wP9tKbmO8Uc2E/NkM+JDRzpnOkSZ/wWj8SDh9nS/FpHvxDHPE9CV6yrpN58cP/fcbfHA8rJFg+iSAhHeyNEIkbmMSurmcMridxugYbuUsihpyPEEve8MaY+BcdwgLjYmOVfLqlb3lHkqcP/uG6SyyxxBTb8KVYWDiW7WC/+Ru/WGB7uoct4kW8ihd2M78QmC25m4Oc5hjHSvD8LO5K8EnYxmd8/4Btxap58oPIVYRu6dh4zJ+9g0A4h48bIzynP814EcMQOOc4i54gWOZJpxaH/IC+XWP11Vcveqcr/i2e6JzNkHP+B5MV3eia7ozF+XgAvYs/fuO9bmJu5giD6cT89QMP2ADh45OaMbMxW9XnJM5gm7gVp3RqjnxbPoJX+mdX8c3e4pMtzB1esA0bezV2OhRD+qRrflP3bbEChyywHWPMFkXGoR+YZN50ZHFo0Qnn+YMY5g+IOr3CLfaHXcYEg10PLvjb+/yaT9dxQQ6ApUHS4T/fZGOLGpyH/uiDn+A4Fkxsxjccy1/omk2Nx3X4kn7N3103+GwcMJkP0KmxiDn2pR85Lhaa4lHcOEa8iz1zNCf+Zs70QFf+r2OT67IH+8kxbMvX5AAxBpPkBX6qQAcXxSKcgw/ypPHCVnOx4IeRxu5a8rA5ec98YSD/pjPXgoX8BpYHD+Sf5i9fsLU8wJ/Zh79ZcMAyuSXyMNzSR7ciSgh/Ep9s0Soyz7EQT8QMMFAkMoEUSeA+M3hgTXkCjJMLXscDYIbhKAIPmKmYcAQJAYmgeErlIIhIgD7npDyVEk4cQchYQIlyOSFwkBgRGEYyV46EdABGDmTuHCqItuNcj8NwKgFbJ1IjCdCJ1RqdACzApM9uhnY9/RtjNP/Xg3gs4jzEQyABMIHK8eiKQ8arQJR8JRDBxt5AU7ALDHqXBB1H747xv3O8x54AHWAABjZ3bjTApg/68Dlbs4/3nO9zAMcfJDm6Bmz65As+B+TsRJ8xVjalT2MSkMYlWfIH/+vb+QCcXwAd86F/fQgmY0DKvQ+UzcE12Cf07lWw8ytkR+IzL/N0bT5Nz8Zk/EAOuAAffQt4Ph6+jbiYC9LI3/TP1o41Z2AHFNmNDwM+xwOM8N8QoAFEJRfJyAKL/sSVGJJI+C8dGpP+/e26dV9WodC/eBMLEho9RXJkG7oyB3oU25H8ARtSYo71hCzpiSk6oVfvwQK6Zn/x62+LW7Y0V+dKhvrls66hf7bkr3Tn2nQDB8xfYgHiMML/juULxiIR+Jw/+8y82M214Q1soQ9AzC/1w5bA35j5jnnxM/4iKcMNfqxvtpVg+BO9mwP/i4qma0kmri3BBbE0RxU+5EH8sJfxm1NdEH5+hCRYSNKlfs3P38ZtrMagH3GiiR+xzq7dsIaPm2skP/guZvinfo2FP/iMDfmC8dMJG/EF75unc+il7k/mZtz8KWwKP/kJmyIYoWP+DpuQYMfRLX/3mbjj33xYfMU5FgmSsvjzufEESXMduG5u4p6/8GPxRh98i82DFJu3CqU4FneO1ae58Rt60CffcT3z5QvsaNx8kc+FiFEFE9cIXONn+udH8MN8zIVOxSVfEmeujdAYZz3WkQrjYVuExGKEzfmC5m+xz8/4IL8wZvEWQn/G4Tp8xf9wnL+KawsS57AXUkOH7Op9JAahMge285k+4CGbGpvr81f9ugZMMkdz6Sbmxmfo1Rg0PiNexA0/YDO+Km7kd+PFI0IswhwHI+VZPil/sYvYNC6+SycKRPSHyPIrujLfsCNMF/vm7Fzz4w/GxxbEmMW649nNceIehnlP3MA9Y3ZNccsPjNkr3IHJ5kKX4gMmO48dnWfu/I+fiXM6MaY67tObGKMrtjJWPmVOXmORzr8Cm1wX5tElP8PXoqBAB+KFrWGB8bGr//kjO/IB2EAfbGth4jryAaxxXfr3ORyTY8QPHXk/5uVvx7s2vw4xHxhvvvrUD3vTs/EZLw4n1i1UxLpj+Ag9wQO+a6zO54PGDGPpxThgDZz3t3nzZT7kbzpkD/YL3oUL0p2+6YOPKHLozzjYiP+Zp7kZBwwTd+Ez3aS1ZN6gGUKyBrRRLeG8FMuR9W0CHAs4AlGT5yyuKegoR+ABA47tf4ryOUOGgoxFIPiM0wFjjkOJlA0wOXkkH30bG8Cug2MEnXEKRMp1TN3BXMt7UdGuB9RIAhj0aTwSjYTN6OZXv0Y/hVMi0ZIyxxNQKhKCRjNGcwy9SkpsRo9sIxDoFiFgR44tuGOBxp761Ohf87lz2YB+BRxAd7z+AIlkIFAlcPaTJAUsuwty9nKM/iQqAc6exmcsjjEWY3WMAOMTEoL3zJnPAVljA0IBCM71GWAAKsapsZWEFAQ79Mfu9Ke6E0AMuFwfkPAPx9GfsQIEMRPjpQ/ne3V9c3Gc6xhHiGONwRzYip/ow/hdy1w6/Y8PG4PxSFDsYX7eo1P+z850DLDolJ7qixUifl0vjtEvG7umsSMBxk7XMSbH8gm6F9P0Iq7Njf75eCRjcwfw3gvbims2oAfzc5zjnev6bMKP2EQyc42oqnjPmOnevB1nbObPXgCaDgEwgNcv+/A3/cMefmgeUaFzPGLmfP3wT6RIQoBFEr/xh8+yE11ICHwbRvB18xDnXumUrsUXXUayMW62pzu6iEW2a9fFtcyFfWNhY+5wkj34i/kYrzHxO8eJX7o1rm7iM7FGd8bMf41TX/RsTHRqTOxmrObpeuxCb6E78+o2brpxLD2ap378z9b0waaO4V/m4j39eN+4zME42A5OGQOfZAfkR0yzl/E7x9j4nmPEAH3wW36pH8fow2eOiwVP+CqMMh964ZvmT08+i/PY1LyNz9982Zjpr1Ncn4+JQ8eKFXPRP726Lp80B2PR9Os6bBEiTl2DXVU5oxpqvsZv/sanmUNgWeTLEP06ni+ZGx+kV2OLXGBMdAM3+J0+6IBPmLfP+ZTY44ux6HI9Y2R3tmZTx7O594YTOtCvuHCOsckT4sln7MavjcF75hnimogVEkXPsM25mrl6dX3xzWeMFx8wN3MQN/Tv2HjPNbxHj/yTTuv5gE58LsbZH24bP7+GQXQu7tmSrh3jvYhP/sgHYBxdu47zxDQ70CU9hO+Lu04dGo/3nEP/+rBINR/+INfpx9j4L5sYcyxy2M5nbKkP//MD2EK/dG385qXRDR3Rh/izSHGH3WLZtdiM/fgKm4Q417yNT390ZCyu0ZnL2BqWmLPr0I+543n65r8aXbE3m5qva7A7HudVH8ZDh3TAB9lVv3Iv0g5bzEmcsa8xshU91HXNboE3bAbL9OUYYzEuvm5u+nAt8xhJ6N3YWkfmGSWA2GSAAkcxWRP3mWM0kwBqjARMGMMrw2muQ1ECKt7zeb2fCCifcYwALdd3nvf06zrG4zif1RObPvyPSBgnh/C39+pOFsdprjEWEUT6NB76oBfjM79u4N8vYdfQsevTC53RiTEaS+jV/3Qdtgm9+cz849ywhc/0qTlW87lzNfNn0when9O3z7yvX8ezk6Yfx0YfjjceAefaMV7H+N9njvF+9OO9uJ5g1Sf7dn7m+vqoj5Vt6nZ2PoBCCj7+8Y+X5By+G7oInzEu/bNzfbyOcbxXn0dcxHkhjjWG8Flj0UfYrJ7gQ/ShX8eYg/9Df66jr7CJvh3jb2Otizm7XhyjD++5prGH7vQVY3KsY4zbe/xcq+s4ruvVe66rD9fQLxsYs/Prx2k+l6glQ4lE9VCVBh6FnZyrL02//ncNn9MhIsAWMWct+qYf8zBenzveGByjH2MzH/YOe4SdHU8nxm3+3o9z9BH6cY7jfR6Jo2575xq7foy/7nvEufrQH7+KPl1HP/43H/0Zk/4dF7p1jW7is/CZOC50Yyx1nXovxup63ndu6M68nFsX/0c/+neufvzv/dCHv41VP94Ln3Oc972aV+g4PjfPwGz9e8/f+nGMaznPMZp+HKMPnznO+64ffcf75hXX1nfYz+euEXrzd9jM553i+hGDjnWc95wfetW3z+rjjPdD2Jb/qaraWmSBipg5z/jDfjHGGFvnuHzm+Bi/fsOmxuNvjQ6MmZ/pQ/9xXt0OzhMbMT9j1hxDf47vnEs38bnjQvfGZjzG57OwtzFE3ITE56Fn+nWu5nivjvG+PuqxbA76Cz12vmcc3je2usTcw47mG7r1v/Hpy/lxjPdiDDDF+65jzjFfevYafXvfOfrvpkPvOce8Heua+oz39BPnevU/H3N9f0c8ON7/mj68Zy76NC/N+96DLfBYUcv2IEWR8Ftz0Vd9rK5rDj7X9OG9ug1DnGdMjnecuTiWvfQdY6Ej9nacY7zn73hPH65Fh/rxOZvFMXIC/zQn14zzHU8H9fEbZ/ifz81PX3GecdVxynv184cS424lmU8ZLOGg3YIp5d0iKAWpioW7TW4pq8Z0AlZK74V+ga1qk8qM6gdskjxUZlJSphVBSFRb3ZVyd1Bhwf8pKU0KEmsx5I6BrTq+X6eCj+ymjE2SzKekNCgCThXDLT3VMPvt3IpTKRArKf0TicNCSkXethrbU2KLVCaPlGlFFF1UQ20bsC/cdwVim0hKSlPCDxVXYltPfI8qtj5lcXBskmQ+JaVBQSjdRlMFszcOcMVebZ+l9E8kB7dY3cK1N5Le67fHU1KmBREHKvP27dpHbHFrP7aFbkpKUxJ4bLuJff3yof3+tg/bXpJkfmySZD4lpUGx1UPQIZAaMFMV9prbbJoReoZLqe+UaVGQJP4v/3qFR/AnF7QpTQuf43t8UR7kj5EXU8YmSeZTUhoWyRSR1OLvrEI0K6nvlGlZ6rhTbykpTUr4Xd0XMx+OT5LMp6SkpKSkpKSkpAyoJJlPSUlJSUlJSUlJGVBJMp+SkpKSkpKSkpIyoJJkPiUlJSUlJSUlJWVAJcl8SkpKSkpKSkpKyoBK42R+9tlnr/bff//ykIok8ykpKSkpKSkpKSnjF2T+qaeeqk4++eRq7rnnbqYyv99++5WnL3pgy1tvvZUtW7Zs2bJly5YtW7ZxtH/5l3+pHn/88eqkk05qhsy/733vq9Zff/3qU5/6VHX11VdX119/ffWFL3whW7Zs2bJly5YtW7ZsY2zXXnttIfLbbLNN4dpzzDFHteqqq1bf/OY332Hj75UJkfmZZpqp+ru/+7tqjTXWKBf96Ec/Wl6zZcuWLVu2bNmyZcs2+rbtttuW1/XWW69aYoklqv/4H/9jIfOrrbZa78m8cr/98tNNN10h9Cr0s846a7Zs2bJly5YtW7Zs2SbQ/vN//s/VzDPPXHj2nHPO2V8yP/3001ezzDJLNddcc1Xzzz9/afPNN1+2abyFL8wzzzxlRTnjjDMWh5xhhhmK33g/jus8N9vktLCFvXn/6T/9pyn28rf4/uAHP5j26nGjz3nnnbfoF2j/h//wH0oD5PZJps6bbXStwaf3v//9xf8jDtjkAx/4QLXAAgukTRpu4oBN2CBsooAobsRP2qP5xibigR3k9+SCvWuhP79iYwcM3fa9Ms+IwM22my233LK0zTffPNs03rbYYovqIx/5SLXhhhtWyy+//BQQdrtoySWXrDbYYINyXPpLexqbbbrpptWyyy5bQCSIvL/F+9///d8Xezmu2/nZxtYiRjbeeOOCnxZRQeYXXHDBaq211ir2yBhproV/w6elllqq+H/EwUILLVSS6VZbbZUx0GALXNpoo42KDZBH5MZid5VVVinxkzHSbAubrL766mWRpYJc54I+T5uMv9Gftuaaa1aLLrpoKfT0fc+8lZiLn3HGGeUiDz30UPXAAw9km8bbt771rerhhx+ubrnlluroo48uQc4hERa/fnTzzTcXf3nwwQe7nj/R5vpat8+ydW/09fWvf7067LDDSnzHPj0J8+yzzy4/PzsRvaZN3t3oAl7eeeed1ZlnnlnIY5B5JP+KK64oOk9Mba7BI7gEtw444IBSZRQHXrfbbrvqvPPOq/7pn/6pb7iV7b1NnHzjG9+o7r777mr77bev/uZv/qZs7fU9vdNPP7364he/mPZouIVNLrjggmqdddYpNsEFEfzTTjutr7l9WmiRJz//+c9Xu+66a7lLKBcrqvWNzGsf//jHqy996UvVn/70p/L522+/nW0ab//2b/9Wfif1+9//fnXNNddUH/rQh6ZUeREX7/MXx3U7f7ztX//1X7u24Y7r/KzfbSLXnsi5IzW2+O1vf1tddNFF1Yc//OFSAQPSKmL33ntv9fvf/74cM95xx7ndxj/U+020+rXHev3xnqc5B17+9Kc/LQ/dU/UNMm/B++STTxZ7OGY8/Wcbe+Ojf/7zn6sf/OAH1bnnnlu2EogDWzkOPfTQ6v7776/+8pe/9By3snVv/J6u5Ypf/vKXpdDwt3/7t2WBpXKJ4P/4xz8eNy5lG3ujZ41NEE5f1GQTXHDPPfcsxYl+5PZpqdGd5zY98sgj1bHHHtvMQ6M0ieerX/1q+W3Mf//3f8+WrTTyk5/8pLrhhhvKN7KDzEuSCAxA6HZeL5qE+9e//rXrZ9mGbn7b9tJLLy0VFrdO3ULdZJNNSjUg47s/7fXXXy9VLpXGIPMHHnhg9dxzzxV7dDsnW/+aRPqzn/2suvDCCwuZFwde/fwy8kK6nZetfw3v+MMf/lAdeeSRZasNMm+7kyLDP//zP3c9J1t/m2Ldo48+Wu5Y+UVDXHCfffYpzxxCRLudk230jc8/8cQT1Yknntgcmd93330Lmc8nwKZ0iqqJZw/Uyfw555xTSD4y32v5+c9/Xj399NMlCDwKWfv1r3/9zqdVWfW+8cYbZTHhWIm7KRE7Kq2u7c4EojZaEdwWKCqGHiRhTvrrtXQj86r0Yl7F0jjGIjDhhz/8YXmSne0itig8++yz5QFzdK8/i4Tf/OY35Tj6iUVYE8IH3XH40Y9+VPxBggoxhuHG4bM//vGPZT7PP/98IeXjwUDnqfjWybwtHvodi4+k9Eb4pRi1hcCX0YLMH3744dU//uM/vnNUSpMC68TpEUccUYgjMm8rWpD5lOYFVqocI/NRmUfm77nnnuSCPRD6xWNOOOGE5sj8P/zDP5TbxGnAlE5BkjwAob7N5rOf/Wwh+b0k84guoo4w2mvsAWZIqWshRQiiY5Bg/yPEXhHJJgRBsIiw0PBdAvsJ3Tb2vjEEsR1KjN8xKrgqht/97nerN998s+ekF3m0T8+XXWObDTLvum6djuV6jv3Vr35VboVfcskl1VlnnVX2U1511VXVq6++Wq4FsCRjtqCT1157rdip1/PqFP3Dsl/84hfFJvYoeuVD/JJNfE7vQ4nP2PDGG2+sbrrppgK8FiVjFX34roIvkwWZ/8QnPlFsnGS+eRFnig2f+9zn3lWZ/+QnP5lkfpKETSz03R2pk3m8I8l88xL4qTjj2UJB5mPLdXLBiYvcqBj5mc98Jsl8yuRLU2TeLdgXX3yxEFHVG3cDfFnNF6YQUcnAMQjSrbfeWoIEkePP/RbAp9Jnq4q5u775I3HeNxZ6Gq4i7X2fu4UpuL2q0g9HNscjvSTziPEzzzxTiKm7d4j83nvvXUiRxRSi73q2LiD83mOTsVxjvGJs9H/XXXcVfcIvCwyVdgsK+9VHuvthnMZ72WWXFbv6bog7LmOVJPPtkiTz7ZMk8+0S2Jdkvr+SZH4EQX7GSoAcX9+DHeI9c1bFQw56RaziegAM4fXaq76blqbIPFKMmB1//PHlOxxXXnlldfLJJ5ef94svZ7/88sul+uv/V155pbxHz8aBNEkWKqvxiszZWiKoxivsxn7iw6OZ3aqnD3pBkBFApMEdhU7/6hSfIX2C25dUVZMnMrZu0ksybyuN8yTdHXfcsfzilb933nnnstfSthoE+r777ivzsjhxt4EexJW/2UE/FmLs4lWssdt4xRwQAF/UYpP999+/2Edl3njd1aFf/uJaw83ZFpl47PanP/3psggYi45Ikvl2ydRE5vmiWJG3I5f4f6w+Otli3Enm2yP8Z2og83KNHMq/xIc5tYVrJZkfRjggo5nDaCXOYWjKrRvafCVi1TnEr1fk1HX0jbggMrG/eBClKTJvz7KfKfNrBwcffHDZl484I0jAxRYX1Wx7k1VekSS2lNjoF6lExJBM+7sfe+yxsh/QF+Es1sab/PgaUuqLW2uvvXZ1zDHHlMq8KrR90RYbkpIvCY/mGsYXc7MQ6LVf9IrMO46N77jjjvJrB37lwJ0SffkfUfUFTz+9CLAQe/7AJnQmrl566aWiJySbfdnnhRdeKLE2EawJkLSo8LNf9iTCNHcHdtlll/K71RKUBZbrDDdnvgP7LBwtWNx9GStZmlbIPJ2MRS+TJWJqaiHz4smC1B0nZBgW8emJLIYnQ9gkyXx7RBzD6UEn8+agYOf7GPxLnPSSl0xEkswPI4ykguu2/sUXX1zdfvvthSwwYF3MA5hLzPZfS/Lf+c53CrkOQu9vWwjit6ARxPiCIKB0nDbW5KVv4KTqivS6hU/ftiQMojRF5vXHnvr2U06qwMi9QFCxt5+ZHr3SbxB0trI1wm8VH3fccWWLznXXXVf2d1sU8BN73CXE8QiSitDutNNOhSAj8mLl8ssvL/+vtNJK5ToWGaPxFXcWfLtdf8Y4Etkcq/SyMo9082MLDw2Zt5hhF6TIXMwbqUdog8x79Z6Kt205fsr0tttuK+PypUSv8T2Isc5dTOpb5d1C6pBDDil3BsSw6yyzzDKFzBunRcRI+pUAfOHLYk1/bB13fEYrUyuZZ0d3Lmx/g7MW1IMgUxOZN5fvfe97JYedcsopBQvlwEEhWyFJ5tslMHFqIPPu/OJ2eNz5559fyLO81QZJMj+MINsIuAfgeBDOxz72sUIOVNZDJGHJ1a/zSNDrrbdeddRRRxUwZHjzp2TkkdMiYiqkKrv6l8Bia8BYkzpxPLLhS4507JviCL3FwiBKU2Teypre2AnZ01S7ETXvSWISscC1xQbJYB+2RPDt515//fWrddddt5BOJHLppZcuVWSEvnPBN5IAO7a0cARwCPHuu+9exmiRKCl5mhsCaEuQKvRoiKn5+L1rY/UwLnNAanslvSTzjkckxAcd2r7CDn6Bgk3cKdGvOyG22FiwWmRp9GYB4HHh4lQMmO8ee+xRnizo/PEsli3KfFnVnQJPumV38S6WEWgP5thhhx3K4o7v8tHhroGgWkT6TsBiiy1WvtyLdBjbaGVqJPN8Eg6yI/tLlOJuEGRqIvNyMryxBQyeKViISbE5SJJkvl0CE6cGMq/YplDku3WeVg/LcZM2SJL5YQTZRhwA2+yzz16SuaSJSHBOzW1I2ytsgUD4PSyEMik1Ku+ARaI1Z4RRnwgI8ubn7TizPpCBseqEAVUEVZYFCDKp2me7xyBKU2SeX0pQqk6IsWq7LRm2yyBKdIjEGQtywUaIPZvaToE4qsjaZgGgTj311Gq55ZYr5F4l3J2YsQhfQMRcy5M9kWP9IAkIgd8R32yzzUrsIPijTa5Ipu0h4g+5sMhoK5mnA+OzEEUgLHhVacWS2EHINTHkicAWKo51DsLvuw+zzTZbsY0Fl+oJ0uxuBjuy+VjG41jz870Kj8n2U5AWCWIeoPtZtYUXXrhUMC0sxO5IurUoRODdKfEzhn5BCcE3ttHK1Ebm6Rkeshk/t/2I3WyTGgSZmsg8O7jrpOjEP2EQ/zTHQZIk8+0SMT41kHk8QS7xLBX5QN7JyvwAkHkkwZ5jZB44L7roomVF5pY9sJC4rdT81BzjLrLIIgU4/KwecDf3ABUEEBGRhFWckD2EBWlUObVVA3FBgJBWlWMgylEQAATC9QQF0gN0vYdEcCgEZv7556/22muvYlDXdH3X0Y+ql1dzGguhaVqaIvMh+qRHemYPWzmQRGTNdTX2tO8ciXScbRIIx7bbblsqVwLc3Rtj9nvrHnLVSarYTrC5ntZJ+rxnYWfrhhhxhwWxj+upLnvPomGoLVT8gs1dx9+a6jbfVNW3FSQWmL2SXpJ5Qi+q4fo1d7Fm6w2CIUbYA6G27cgdEXEVBFls8hcLW/6CzCP47kqooNCL8WiuA3+MMWK5U+hPzCDtSy65ZFlMWUQYmzsHktLyyy9fxtIpzmVT8VbHOYts24b0BS/YWIw6frQyNZF5tjB3eCm+PNVWrrAAtbAeBOE/UwuZFw983B0tD1uS+3yx293otueOukyNZB52y+PwX/P3oJBgfjOoZF5MBIeSb/x4gXznIWS4ls/bIEnmhxEkzy1HX1bziPoVVlihPBJakmFAykP2JWeJVeUecUCu41ct9KHCaIuA/c/2/CIoABIJ2m233Uol1pfqJGOAicjHF/j0z4EsAIKMIAkACflkPFt/bC1w2x655HiOkdhVnd0JUPXyiiyPhTg0LU2TecIP6ZeebeuwZUpCs8gSuBZckgIyjLjb5iJIVA+RMWNznMUU39aHxVZd2A4Y204VC626ON5izhat6aefvvTDV/gCoor4qea6tj66SdjcdcyJD1pYuGPkliA99lqHrtdLMh8iDuhVLFksW2BZMPFzCxTv+VUZd0/EF9vY4uZhY6rd4gOplywQXQuCEMSd/i0CkDAxKvl3Cl1ZYFm40b+7MBZW9M9OqvUaf+0Uunccf3YdetDc1TOeddZZpyyw/EKO63RbTAwlUxOZN2/zF3uII/8R+7Y1wbZBkKmJzIsF83CHF2644yxv+R5Q23NHXaZGMq8QII8jxO7k+xupHy/GNinGOKhk3t17XCzu9iribb311mVbtRzVFv0nmR9CGAiwSTLIAWKnaiQJS6SSMgJobsg8Im+O9k4j4M5F2H0u2dvTjrCrFCIj9oaqfujTr5YgRIhi7ONmECCKzDhP9Q9pEdAWAwBXpdK1fIHTIsOCI7YBAN9bbrml/H66qqaKs/2+iL+xI0ttlKbJPF2xI0CJuyb0rxLvy60WcuxlqwU722rjvQUWWKCQD4s0AGUR5babYGcnfi+hIHS+d4G0IaPIOKIr0dQFAUfGJB9k3p0WtpV4nCcwgYj+kUOBiwjp3/YgCwi2VzHmQ6radIZQ2AoSi4zORcREpddk3pwQYT5qMSNpiUELKjFhf7oFinmKJT5uUev7BcgHkLX48QVKWwV8YZVtA3TZxALXl2XZ1OfuhhgvG9BriHEgae6ILL744mULiHi2WJaEbKty10NFGZYhOl5VMfmF7TfIkLizmODbEgL9AFnx733njUVPUxOZ56diCukVcxZj7nawZ5L5ZsU85Bfj3mCDDQresINFM99XuFB0aAt5GU6mJjJvHmJEkUk+l4/kBNgFG6PI12YxvkEj8+6YyhX8HpbL4V7hPuyWy4e6Sz4ZkmR+CKEYQaQKj0gg9KruEg2yIAkjyJG0ESak3DYIZAq4Czy/IIJs+zKeeUvk3lPhU9VDWjkGooXMqziqMqoGug5iaYsF4iIxWAQgDz5XDWY8hEHl1TEcDplwDSCMCOsDWQFmtiIYd5ucsC5NkXmkkY1dDyDSKd0icBZQqrrIHntaAFmMCWo2kNjszbaflF6BEUIIXJE14wRe/Ftll61VcmOxp5/OhIJI8hvHzTzzzOXaFgHGZyxzzz13+VlEPsW+khUS6G/EzrX5iUUdEmz7l/moZFt48Adkr9eVtV6SecfSP92IO1udgKl98fyavt3J4veInwWU+HMXy7YVC2p6oF/vIyWOQ371a+7Gy4Y+M+YVV1yxLKj1iciwQ4hzVGUsIPxqjbi0SA4yz57IjrHpF9ZZXPkOC591GxbwW2RbkEvGfAWGWPhZlFiIjVWmBjLPFnRNV2EvCzT2sChjZwuyQZCphcwjL+wBMxSt+KwcIp7ZRWwpfrSdOJKpgczLURZPbAIr5CAFG3gLi+CL+cCdttvE+AaFzBsrfFLYU/Tx89WRtxX45GKxjQO2CW+TzA8hjASgrYgZTfJEGBAjpFmF1Pv24iLqvvhqvzRSiIAgzCp6iDrlIoCqrQLSlgHbd/wySVRzVWERGOTAflH7tDm+41RJEAqEHyk76KCDCrGT/Dic8QBc/yOiyBzgMl56dosIubIY8aVNxyCZbZSmyDywt4WFfdkDcUaSACj7WQABUNV41+fDQBXw0L2ELaAt9NiFfm1jkkD0Qfi+//kCkj7PPPMUUKB/++/qgjgi4Kq4ghC5RM4kHgs8RN1Y+INxAxvXcYcFaTcmJEgzVnOwpzwIqwWF83oN+uKkV2QeGFlkOpdN+K3KLZJhocMvgKl4Eh+IEh2p3lvMIvP07C4WO2n6oFu64j/IuThz14t+YJGFuC1M4q2+yGU//7NZEP6468YnEGiLBf25huPFlbHDBQUAdwfcLRDrxsaGyDzCZNzjWVRPDWSeb1jIWJyKI7ri+76XFJWvrMw3K/CH38obCJfFlLu/vodli6lYEYttJ45kaiDz8Ep+FxsKfzBHnnJnHlYpIih0yAVtt4nxDQqZj6KP4ovip5wjx/kxCX/LcbiBXNJLTjJRSTI/hAh4yRHZ0xA5tx0pyasAc3vfyg0B95N4CDfwVp0FguaMmDvW71Tb34vwaQgggoD40I/z3D7zayj6c01gKtkh/Prm9Ii8/Ywqt8gN4o4YACokEQlFGOwfVr1XtUQ2jCEWBW3+DecmyTxSZksMcESuo39JwBYppJKf0qtEZ+tH7JmzP17FHLkDsJI5giKgQhBI12BbIODXISz82KRzm5PzXNfdGGSGDfmRcfFDOrEoMA7EEThqYkj/yL5fbbFgM242V1Gw9xipQIbrY+uV9JrM0wFAMmek1fzYir+KGwlM7FhIi1G6RMz5NkIv7ujD+RKd/mIMsMjigI+xrz6Asi+3ipVOMs9+yIsqmPhyZyCeIeDVAgkhV9E3dknA9fhTfOfFrVjfrUDgLRjYwt57xM92qfFg4KCTeXOWCM2BfsSRIoi7W7506S5I7plvXuQFC1Zx5Evf4kuxQqHAYhQx5l9jienJkqmBzMsRcBSOyx1+rtWdP5gkL4ghxwyCPYxxUMg8fMftFF5XXnnlkotxNHdFFBkWXHDBUqWX32B+W0QOSjLfRRhTFZRyVJAQAMkYaQcKkg/AsAUDAac481IRlaSAokqhqjnCjUxJ3owv0auiI19ulSGDiL7qPT0BIHoTyL5kodrKiegRsKquIzCqKLaB2LeLjOgH+Uc2vYeEIEF0DZw333zz8l5s02ijNEXmo1IrcL36vy7sZBuAgHWrU6Ag/gLFVhYLMcQSmHaeWxefI32+c4Gkqygj+J3EGti5pqquBZeKL7I5HDlzjhhyDh+0zYuf+N8CBCFCVi04VOX7Ib0k8/TIL/XZDRvEBJto7OZ4BERFFwFRQUfSh0pw3gvSTVTRkRVbCmwnEOedejIOC2Fk2Xa54ciZ/jXj8moejrcIYBt+ox+LdsR7vDLIZJ5eLJgUK8S5L5rTkYWqgofKPDKflfnmRSFIJVIhyF1kZFixSi6Rp9zJ6vxif1tlaiDziLvijjv8c801V8HZwBhtkMR4B4XMy8++Zyh+41kg+CBfUixT/LEFVC5pkx2SzHeIRI8oSJaSCzBG0FXf3DKXlL2v6ibYvGelZh+VqqtEhUy5pa7KJCmZq34kW58jWsBS0lJll9gsDvTFWRBuq29VYFV6JB/5R1xU4f0KhsThi5gAyqLArXzbLWwxEPyOs6DQN2Lo1qm9/WyBZA1HQCdTmiLzgpCto3UGpf8FB//Vwm70jEQhrHyErwwV0N5XQYlfYWErt+okmm76dzxfY0OLu5HIvHEjpMghEhS+Y1sOgORTKvSq0b3UXV16SeYdSy/0bW6d4jM20ZAK81LZ5dvwxcLZ3ZP6vvdOcY0YE90Yu7ilM0S+c5EbCYiO+aHvVwwn0T9sc2fAYt/dNAsr8WcRbjGPaIxXBpXM0y1cg4/uoMAiulBcEN98Hmba9iTh03vYqs0y6GRePIlV4/fLanBE/pI7vKdQpEqJKIiHQZCpgczDIxiuuDPLLLMUf2IDRTvfr1Ook38GQcRxYGnbyTy9K/LgqbidgqmCnLvfvqDvxxDkHf4ldtoixpJkviZAgDFVjJBhpERFFnEAaCrliDxAsOUhnuRofoBPVVAl1C1j75mrVRxn4MhujamAIPOqiSqCqva+AOYc1UXkz3GquL50JMnp0+pQhVelBLHwaypIlEqK85B54wZgPnNbTuJ0m0hFHwEAAG0l8qQpMj8WAUSuL8AtlCQFCyyLK/49FOHwGUKHZPo+hdulI5FBAGGbhu0bkulwxFT/jgU27hgBGyDjjg1fsN+ys9Lca+klmR+L0AtfQZZdm02QZaRqJFyRAC2yxJyxu8OiKt9trGIFeWYLeqXv4SQWIwiqeBd7vqgLO8SfJDxR3BtUMg8b2Uy1F1Yi8qpg9K4wAiPd8YKbihhiQILqlw/1SgadzPNXOCFf2Buv8MBvVSflIF+ERRL4VtttETI1kHnxIs5xBQQSV1B0gFs4CBwYlDsl/IafDQKZh0nxRH9YpGhqUeXulEKqu+B2QNhpYU5tkSTzHYIkqMLblwvIkOj4lQukG4GTeASSPc0AEEmzh92cVJ4YWSKyGEC0VFoReHt+gSZCEA8l4hTARTKw4la5Qy787daz5nMOpm+VXVsn/CQfB1Ox96VYlUNEAYGzn9dxrkH3tvl4RTDatJLsJm0l8+wNQBE6elWlZzNJY6gEx9b8R+XYnm7bNfyW/HDCPnzNoksbzl5IKbKANLgzJK74pwWEc8VXv+09WWTe3NyVsDiS4NhErIxmHzq7IY5iPH75R3wNdYeGjX0OB8TgcBLFAHYXo64DC9wxiEraRBfTg0jm6dECCgbCJo0+Qx+xh14Rwp0SxNh8kJU2Fx/IoJN5GIE4KgAoJMlX8hCMc3eQzRDjbnfL2ipTA5nHneIL9Qga29irHQXGbttD2yrif1DIPL3KCQi9LZJiAX/CtRRc2QH3axs2ieMk8zVhSGRd1chteCAtkZuHRA4g/C1pIp6OMT+kIqpuEhRSwXGBoVf9ARH9S2qq7BwinvrKMfQvSO37dV3JzvYOwMRpXNc1nKc/TcJjQAsN5xuXuwhIvWqj/hBh45ksMjwWaSuZl+yQKEGuxZePuhHAEDZUzVdt9POEwIFNR5IAPnYfqm/CZ9yJ8WsTbv+pIBgjf+o3iQ+ZLDJPP+JSTIkJNrFYdU2fdYpxiE3+ZWyxIEa2LJwlzYizbsLO/G8overfZ2yucqb67C6JRGzxrv/h7rKMRQaRzBPxIo7hlu1kxhrxA1dhInsglTDNPOm8Xz7UKxl0Ms/nzQE2uQPFX+UOeSgWsN1iqs1iPoNO5tkFZrGBgoAinWKNnG5ubY+LuhgrHxoEMg+TYJVcYbw4mvwiT8Al/AufgvdtskGS+ZRWSRvJ/HhEkCNX7tz4boRtNipcFoq9EEAvySKl9vHbaoVANg0uk0XmxyqSO7KvGq+yYruaXydQOXe3BUDzr/FWH51nceFL8/DNrxchdyrQkjDy2qstT4NK5qdWGXQyPzXK1EDmpyYZJDI/qJJkPqVVMjWQeYkEcbO1yj5H+x39komtF+7KTESAIiLvjo1qjV8p8rNxCL3tJk1W5cmgkHnVFV+69LOQvsTuF6KM0/cZbFdTiYwq8VgFxrEre9ty51eL9G9rle9YWHCp7Kj29EKSzLdLksy3T5LMt0uSzPdfksyntEqmBjJv+4tbo/ZxqwAj8r7I7BZpL8i8oEUOxZBfSvFrByrBtnfYly2RNSWDQuaBnJ/W87OtforSnQw/8WoxZG/waLY/DSX80vm21ejPYkHzBXcEwq9J2fpm+10vJMl8uyTJfPskyXy7JMl8/yXJfEqrZGog80isLzyqxPNzWzuQW1stJrrNJkDRnn2V+ejfL094sJmtJL0ijaORQSHz/Mf3WujKF5ostCQR7030+yTORdbZO7btaLbYIN2q/mzWK10kmW+XJJlvnySZb5ckme+/JJlPaZVMDWTeOFXIJQ3j1nwBUlV+oj4PFGN/NkIf/SMTtt4gc2KuKRkUMm+cYQ93NfiZajoSzl4TGScQ9eVWCyn91m3iPbbqpR6SzLdLksy3T5LMt0uSzPdfksyntEqmBjI/LcmgkPmpSZLMt0uSzLdPksy3S5LM91+SzKe0SpLMD5YkmW9eksy3S5LMt0+SzLdLksz3X5LMp7RKkswPliSZb16SzLdLksy3T5LMt0uSzPdfksyntEqSzA+WJJlvXpLMt0uSzLdPksy3S5LM91+SzKe0SpLMD5YkmW9eksy3S5LMt0+SzLdLksz3X5LMp7RKkswPliSZb16SzLdLksy3T5LMt0uSzPdfksyntEqSzA+WJJlvXpLMt0uSzLdPksy3S5LM91+SzKe0SpLMD5YkmW9eksy3S5LMt0+SzLdLksz3X5LMp7RKkswPliSZb16SzLdLksy3T5LMt0uSzPdfJoXM77vvvtVXv/rVNGDKewRpv+GGG6olllhiCpk/55xzSrJMMt8+QR4vvfTSatNNNy0kZp555qk22WST6pvf/Gb11ltvJZnvg7z++uvV/fffX62xxhpTyPyBBx5YPffcc0nmJ0EQR09jvuCCC6r55ptvCpk//PDDqwceeOCdo1KaFLzjD3/4Q3XkkUdOIfNbbbVVde+995anMqc0L8jmo48+Wm233XbFJrjgPvvsU91zzz3JBXsg9Pvkk09WJ554YvNkXrL/61//mi1baYjfcGT+7bff7npetslrb775ZqnMdyPzf/7zn7uek238TYyozHeS+QMOOKB69tlniz26nZetf02RIch8vTKPzKvMs1m387L1r1lgDUXmVebTJs23OpmPynyQ+eSCE2+49hNPPNEsmd9rr72qO++8swSbFZmkn23abvxAUnzllVeqq666qlp88cULmf/ABz5QnX766dX3vve9UnVMf2lHA75s8cYbbxQSs/HGG0/ZZrPRRhuV29k+c4xju/WRbWyNHsWIBa9b06uuuuoUMm/r4uOPP1795je/KYvebudn633j33Dp1VdfLdsBkXhxMO+881YHH3xw2Q7FZolbzbWwCdJ+2GGHFeKIzG+++ebVXXfdVf3whz/MGGmwRa5gE0WerbfeulpwwQULF9xjjz2qO+64oxQhMkbG30J3Dz/8cHXMMccU3tRXMj/77LMXoFt//fXLilkF9pZbbqluuummbNN44we33357ddFFF1X7779/SYYzzTRT8Zmdd965uvDCC8txt95663vOzdZ8u/nmm4strrvuumrvvfeulltuuWrmmWeu3v/+91fLLrts9elPf7q69tpri10zxnvT6PG2224r25qOOuqoarHFFptC5i2gLHrpPGOkucYmN954Y8Gt3XbbrZpjjjlKHHh1t+q4444ruJYx0EyDS3SNW1xxxRWFwKtSzjjjjNVKK61UHXHEESV+xJFju/WRrbetbpMTTjihEExkExdcb731yvcaxFDGyPgb3WmnnHJKtc0225SFEgxS8LGAGkrGReYZEDGbfvrpy4Xcjl9kkUVKW3jhhbNN440fLLrooqWKMvfcc5eEON1001UzzDBDNeecc5aVfPpLu1rYAjDbWsBekqa/LcYWWmihtFkPGz2KEdsG4Kc7V0HmYar92nFc57nZ+tNC1/BprrnmKv4fcWBhq1LPZmmT5lroWpywQdhklllmKXHjfTbpPC9bfxp7hE3Ew6yzzloKdckFe9fojk/LASrywZtWW221/pH5ADqJSHBlyxZNkCOCbokKdCSFvyD23o9jOs/LNrmNvYBH2MvfGd/9aREj9Bs612CqSlcc03letv42NokCRMQBwsJOaY/JaWzCBmGTwCXvp00mp9E/rJLf2SW5YO8an5YDAoeQ+dVXX72/ZF4wuQVgRZYtWzTVXLdE69WUWL17v9s52Sa32SMvrhH6sJe/xbfPup2TbWLNnavYzhFkHqaqDKfOJ6fBJziFMIoDrxKshArXup2Trb9NnLBB2ARpFDfe73Z8tv438cAOYZPkgr1tcgBSLw/3rTIfX4CVgOypta/H7/Daw+Zb/9mm7WbfnO9R+CKf3ywX4Ai9YF9nnXXKt959mclx3c7P1nxjC1/y23DDDcuta/aSPG2V8lvCPnNM2qw3jR7hpe+UbLvttoUkBplffvnly55tOk9Mba6xiTwGt3wXbLbZZivVYAl15ZVXrrbffvuCaxkDzTW6liv8wtMqq6xSig3Io60IeMd+++2X9miw0XXYZMcddyzf9YkCEC7oC7GZ2yfWQse77LJLIfCxSOrLnvkg85L9lltuWZ155pnl59X8Dq+f78o2bTd+8K1vfat8McmXxuxBtfCz/wso+xKZBxGlv7SnsYWfmAXEQAM4qwa4C3f++eeX+O52XrbxtYgRv8hx7rnnVssss8wUMo+kXHPNNeWn9zJGmmt0DZf8IschhxxSKvQqj75HgriIAzZLmzTX6BrnEAs77bRTqVhaYK211lrV2WefXX3xi19MezTcwia+KO5Lr2yCC26xxRbVGWeckVxwgo3ukPbLLrus2nPPPQtvQubl4r6ReSsyDzhhvPxt0WydzQM9JMalllqqJEW3RC+++OLq17/+dfnt4G7nZJu85ifF/GoEUFYNUC3ebLPNqscee6zr8dkm3vzkpycprr322lPIvAWVn0f01N1u52TrX4NLfhL08ssvrxZYYIESB/PPP3/5RaeHHnqo6znZ+t/8JOixxx5bviCo0OBuFuLjOQ3djs/W/+Z30C2w2AQX9OTqr33ta8kFe9BwbU8B96tmtlv2/XfmGdBtYgb025iDKB44Ea2beDiCeQN5f1N0/VgggwRJyn5r/y9/+cuQfU1r8rOf/az8lNWSSy45hcyrbv385z8v+myrsKHxhc2Hsie/iN+EBWD+5x8hEZTRV9v9wm8HqwYg8EiMiottUqqR/LzJ8bsWO/gNaaQ2fn/XODrj0Kv347h4INlI441z9DdZYmGLlKy55ppTyLztNS+++GL1xz/+8Z2jJkfoj9/Sk8YeoxH67xYPQ8lQdnJt/QwXg70WY/ab5ooO8QRYr7Y7iYPJEHOnA3o1vtFIYA/9OW8k/fm82zHeq+PhSP30Q1xfLPgJV7+qhczbznHfffcN1BNgzYMd6XGkWHJc5Bav9TiaTFuEGL8ij61ntmXigraneSZJk1yQnmA4fYxW6M3xzh1OHEfvsI8dxFPo3PvO995I/YxH9Pmd73ynOvnkkwtv6juZ1ybDgL0SDskRVGI89c/f9QDxNzD0yPWXXnqp+tGPflT97ne/mxJMv//976sf/OAH1be//e1y+8OrY52TUhV9feELX6g+9KEPFTLvtrWHsXhQjgBpm/AHfvyrX/2qeu2110p11Fh/+9vfloQYItDYWNJ/+eWXqxdeeKEczx/MS6A73v+O0fgFsjwW0GlajM8TYBF436RXEfjwhz9cth50xkY/JeLSoo8N6Be5jaYaR/+Oo2cLafp3nDiV4Om5ngBDzAGOIQeOcx5C7Xr6a2qOIebiYUR+qSDIvAqXqgx7TJbQn+sbHzvwYUWLekKrS93nHS/2vYqdsBVxruMUPugdnoqn6NNr/dqeFi0e2asJ+7i2a37uc5971xNg7aW36GpSwr/pFH4ojtAFXx2KQNTtwL/hl/PECDv4nA69smXYgW3rmOxz/7ODa7K//vzfNIa5Hj+yjxhxROY/8pGPFN5hXE1K+Ce98V16HkkfPqc3+vOQKw9T9DefrttR3/5HHM3XMZq/2Yo92Il/fv/73y+vbOf4ofyhH2KcxuOOou9TxRNgP/7xj5cH4PWbC7q+2DBv3I1O677p804Jfw58oj/n8W1x0XmOGNKf4+k4co55e3VdsaUfr46rx89EhT3xyc985jOFNyWZH0E4g+Rv36r9d88991wxeoi/gSgyA8zPOeecAuiMywnoAujbB+6xxvZZxlPpUgaPzEuSgPbLX/5y2cdsVcy+9muyaQQ8QOU3vhPg+yJuhXlQhvcENSBw/COPPFL8wSOubUWz0gY6bRXgNdlkXsyJy+eff75sdRBz9EvPJ510UknodIqg0LOEJoF4eMxZZ51V7BXjhVedAiTFL6BU2XMu2zz77LNTCH2T0lYyD/eefvrpoiP+6/sU8BEp7NRrJErxbr+n+dCrB14pcsQTnyMJi3/HeUCKY8VTkBF9wVZVP3aRW7y69lA27aUgA20h8+ZLV0gTfWr0yTcQyW6CaLAD/bFbNHpUeGAnOhY74oAdYJcnDiPGEeOOE2NPPvlkOd+1+YJr840mhU3aQub5Kf9kBzGBA4ykD5/bknL99dcXjPI9MnnRe3w/hG+zK19nP/mDvvkAfmWungrqYXL6OfXUU8udb8fX++m38BFjnSwyD0P4ueINO/BPOPLoo48WXRtbZ65yPP3BkksuuaQ67bTTSm6hSzlfn3GO+BBDfJ8N2Mm12MYiTp53TbsMcARPTZdzFIQ7rzteSTI/RpGYEDe37zbYYIPq7rvvLgDKmMSrZCsprbHGGuXppb6YJrgEkPO8B1h23XXX8kQ0zswRUgaHzAtACcOKXcICkPaOA0z7NA899NBCIPlLHCeYzQ3h9CoukADBzmd8yddT8mxBE+hegTmQFqjhY22SNpD5SJZA1JOCjefqq68uZJ0t3F4HwHQtgYlDn4lLpITeLZrgUScx9z/AlYTYgg0lR3Zic+Dt2k1K28g8/bP1gw8+WF111VVFR+yvwXnJU1Kr+0IsqsSARMnX7S/3fRm69TRDi1t9swFS6b2jjz66JEKkUm7R6INNfLlOzOkHRutT7PTbPm0i88g0nd95551FF3SvsMBXERBjrdsBpiAzMIzOvNKlv30xUT/uJFssw194xg7IpS+Ssos+2Ek/cpmYcm0kiH2999RTT3WNr35Jm8i8ObMLG/BR+KQ6203o0tifeeaZcjwc41cnnnhi+Q6GAkUsUkks3MzLIgtplEPFhPnTu3jypG79xK9dIZX8oQl8Jq4zmWSe3yq+8GfczDj4KP3SG53VfdN4nQPfncNminXyiV/WM2a4Yk5swb7wT6zJJYoR8oZCHRvhiWwg7yg06cevXFncyf/6maiIwSTzYxBGEwh+jg9AMLDACWMIRk4ggHwZ0L5WoMi4gNJPMfkZOV/GQeo4gGoWx3BuNI5VDzR/1z+vtziu2zH1PgZBBonMI06AlR0RGCtxyVv1Y4kllijB6nPHAVmrekEtAbrlZuUvACVKQANo+YrkCQgEJgBHIh3j2LZJG8i85Cc5InEIBgAWp3R65ZVXll/PEo/IhjhTjTnvvPNKZTEqJ7Co21j1zaaSsIQKy9zqtnADyPZJi98mpW1knm/yV2Rh3333nZIc2QRRpzc+XfdfSc5+cvrz02oSIDsgH76DYTHMTuwCx2yVsvjaYYcdyvHuVrGNazvOIs5Pc8or8JfNHC+e6KWfYhxtIfN8UYEoigB8hZ6PP/74kmvoOEgLfzd2eCQeLGptIeNDYmjvvfcutkM4xI3z2MPCGAmDe+zGPuxAz2zjHDbhA/pmY8TJAswirgkxr7aQeXqGR4gj28B02NRN8Ag2Mk6FIXEei6s99tij/EyzBa/ikH4tmNiOLeg8MIyd5Ey2k3f0AR8twuhh3XXXLb5ZJ7D9FOMyt8ki8+7awgPVdaQahuNjbIFf+LvOL/i0mJavEXS6okPH+rlTuML3g8jLd/oVQ0HyzVlcWJixpUWuij2bqs77NTL+YFuo4yYqSebHIMaLnB1zzDFFSX7uCgEDkpyDcII6mRc0gkmgIanx6F1fGEQAOYzAlMQ4FL1YOUpo3gOsHIYzchaOIChVnQAk8qIPpMQ1nK9yogl0AR1jGwQZJDKPjCMV7ISsICj+t5LfeOONS8Aj8fyBzQAXfxHYKmYIEDAV/HxI8keMw+aC3GJR8kRmgHzbpA1kXszRDd3zE/pmC+QCgPqlFxgkRgCr2LLFDegBX7brFiNhY0nYHbVYAMAB8ccvkYXhwLIf0jYyjxwhGxITXdOxcSBTCh/wno74eQhiJ05gI6Jp7AgY20mgUbUSI3IIGyExfnZNAo4Cimuwj4UVXHZ3hi31ZyHn7iddIZH8pB/SBjIvkfN51+OrdMcuSAICoaJrix+yz6cJ/3YO0o+AyyViBM7CHrZjH3mHHRzvOvqx2KJ32EevPndNv+Fu+yn78AF4bqFl8YsMsXsT0iYyT+iD/9KnrX8KP92EftnMQpjd6FURwqsikcUsf/a5mGAb/ckR8j2eEDZUMGJHpNOcYSPOwT/8lC1iPa2QeflIPCLzrkfH9KJIA0/4cn0MkVPcvaA3uQV+wX1Ya7EM5+LOvDuG4h/vUsxgH9cQa+wnb0QRD/nnC3Km/M6OSeYbFkAEkCQOK2QPBlH1U30SrBxAq5N5DxIBiqojVs9+P50jb7rppqUvgMPwnINTcTZAiQxKRm41R4KLB205RgBHAtMPkBbs+mBMfThG8Kq2NEGqeiGDROYlDMFq6way4D1jtKhSoVQJkOTZGJk/6KCDykMddt9990L0gS/iIZiBBEDgNyEAmA/YuiCG+FjbpA1knkhK9cTELqqLQNP44tZ0ALg7Yx/72MdKshdbYlDs1sfrf/NzW1TSYQfJko317ZapajBS2qTwgzaReXcdYZyqLEwKXYoPsSt582uJMUSCk/hgmdv+kp0Ycg7fgWNIo0VskGU5A1lE/p0vt3i1iPAdJNtv2Fk/YsqiTTHFPnukVbLrh8T4JpPM80nYqcBjQaU44D124BdIgzigwygKRK6Sm9hADkJaxAm8ZR9EXGVd3yHiBSFEJOUd/SCncFs1X3zRtfcRF3bhB7aN1Pvpp7BJm8g87mCxQzd8nl93k4gb+IXgwTS69D/9WuQibHDIAlphSLWdbhUmkHqLMySTndnSufrwvwWCMSgqhe2aELg6mWQelsB8eRfZdj14xMflZYusOqGmF+P1ntfI9xavdC53K9Qh9PS5+eabl/cVYi0M+BkbiS94JM+LR/24tqIDzIaL/NExE5Uk86MQBgjAEkBAz89r+skr22b22muvYjjzcVydzHtAgooeJ+BQtl/4DXU/zyToJELGV3HaaKONSqDr2w/+czLJABA4xs/+LbfccoU4OQYARyBbUKy00kqlEiWgfbHW337TH1E0rjpRaasMCpkn4RcAN14RLYsryROBF6TG7X32tqBj10022aQkGj4FEKzu3XoDyCHOkTBVtSRp1Zm2SVvIvOvUrwU83f1APMSQ5AbsJHi3uOlTYpRYImbEb31B4G9VLuDoFrc4i33H4h2592Cgus2akLaRefqEQ0gk/IovftOf2N1qq63Kwsf4QmCk29d0i2TRIf9WuVKAgG3wUsKkb/EPey2SkXlVMvZEPsWRnCJW2Ee8IdfIvLxjQUxn+umH6HeyyTzCxiflHUQNaYp4gC/sgLAgG3ya+BxZsZCSL0455ZSi+/g1KDlH7hLfI5F5+Q22WWzBq7g2m+pDocn7FnpNCJu0jczzX4sjuhiKzBO6o9PI2bCM3pBeudECSTHBIpYd5A02wQEUFyyokVQxFrlJPxa+joNbbNvUwoq4/mSRedfG2aISzt9hBJyiDxzJnavO6njYIcYOmywEYBz986OIBdyNbc3FNcSSPmEeDgCr9OVVLrLYtkjGCfiqzyYqSeZHIZRkrBKoVZhAkbwoClB4spzqjwo4o9TJvMoQMBO85oz8r7jiiiXoVAklAQ6gwq5qq5quYujR+I4BAIBAAL7//e8v+6wQCAnKefoU4BIHsm9RgERyOP24vkSKWJlH22WQyHxd6FaFXpBbtSOSxhyAIKAlUcGNFKpgIT/sB+AcD+RVkkMQFdV9SRJoAPG2SVvIfF2AI/ImTukz9gEbi89UacUdMqlSI7movtNvHdAlQsdKmuJKf4iOPhBY5GRaIfN0J/4kMInI4lOTjPgm/IJB9ClJRuKy5QKJgkH1fcL0jHjbBoV8wjP9xR1MJEwRwvX000nmYaL3g8x7H24EmYcjrgmjYWfsY+2H8Ic2kHkEnD4Rc5W/iD1knh2QeQukIPOETsRHEHdVdHoPm8oj+kRAQnxmIdyNzCsysWUIMo/cwDbvT6tknv/xX/odicyHsJ+8wZfZRI5gS+RezkCExYJCBDvABCTSFzTd5YVVYkE/sNj/tlLpC1bEHZomxBj6Teb1z7ctas1Rg1UKpoi26rk7iAgvvbh7566qu3rdyHxd6I+O48vkYgb2iBt3JHE3BSJ2FfM4iwKQuTkOVhlfbGuDdYp+9biaqLhGkvkRREABBmCkYiRpML6Kkyf+cUwAap5B5gFgkHkOBMQQHESeLpA5AcVJYoXoNo1VtS049uOHg+jPNZF1lX77G8MJgJaFBFIx11xzFYIIQK1E3TEwNsa1KjePtsugknl2lNCBA9DmL3y/m7Anks6HVFP4jQUYIJZsQ9hYdVGSFPxAoW3SRjJvUQVUkStxCGfEZacg6yq/sXXDQoxtQpyjL8lX0tGXfY/8EGiqrPhlKgmySZkMMh+64KcwxlYxycpChx97hY10JdHRLT35LH5NiK47BcGwSOLncFJjC33ZEgDf+NBQZJ4uYKaEjLS7BpyDt/xSoUVhRZJ3fD+kDWTenOnSwtJ1kXk2ozsEUG6JymEniUNi2MzCV26hN4sy2xLkDthD3yHdyLyFGmIjluBVxH2Qef2xg1zXhLSNzI+lMh/CX+GRSrIiongQU/TNr9zdlxvFpNh0LAzDLcSc7Z7eF4tRzbfVB4Y1LU2QeX5sboosnjKrmCkW4Iu7F/QFX+hFvCD5uBPstNgdiszTN/vhYu5csR1SzrctzlTmbQsUZyGuKSeym/ddzyJMnMnx+tEHG/cqRyaZH4VIkIzAmIBKQABNILXaaquVp23ZQ+8zRgMibmcC9DqZV7FdYYUVyrehEW3Jl0EZWyIQhKpUyDwiK2Eyuv4AJwO5naOKGMQOaHEcjhtkXuAixKqJvnCr2s8Z20yGQwaNzAt0Pi5JqSq6DWffLt9mmwDfukimAEzyAyYCEGADBSSfBIFRTUNS+Eq9otYWaSOZj0oWAoGAs0G3cXiP3RAYoKyiIx5DfA7gAbLFuoWXCiTbItOIqkokPGhSJovMS0buJiKGqrZINNuLV2Tde0ie6riYMBZJUlFCRavbYtQx/BwRlejpmt1gpsQcsYMsxxcsJasg8259s10sJBAWVWoxqDLve0ZyTbc47JW0gczTN53IMWzgunSLyPFZOQOZhjPisi70yLbIiVxkISDfyB/syw4+D0HmVX4VjBxPr/KjRa2qMNu5hjHJRewTRQu+24S0kcy7Nv92t6PbwrYusAfOOE5cyCvsw1b0isDDHrkR1sEtzd0ZlWL8gm3kGn4gLvShP3oh+tKaEPMx7n6SeX3Afn4oBjT6ERP8GEbCLotTGAHLLK4C273XTRRCLVbpHK7QqWPFvHwtFnBasRWCK/qyss+Rf/ijOKcqrx+5BlcciiOMR9gyyfwQwgEpW8KXSDRzUY0QKG6T+FUMipt//vlLQnEsowWZR/IRMglOAo5tNoi6PjiEhYGKk2O9uh2EyCLoVnEAEKGbc845y2/bAwOAFAFiXBzVnQABbnwAVRJlTEnGCt2xbZdBIvMSJb1KdoLXbWr2kkgBBZuzE5BFxPmF260SHACWFC0ALPQEt4ojUPF5VFIQG7f1EKE2xotE0TYyT28W1vzGYjj83ivyR5fsIMGynWNVJcUie/Iz5AXY+jvumlm8i3+2sUhAkJDVOog3IZNB5tmRPuCbCiN84+vsLEEjgPwfBkpYdBm3t5F+WIdE0K9ECFclMDbxP7s4RlVNAkT+68TPddkBSZE8xZU+zFcugbGSN73ACjEIM22HVNHspx8ax2STebqED5K5/ACPEBDjMga+SjdINzyit8gJYQfxKibYwfkWq4iQ431OhwiDfKVo5E61WIODzpMPg0AhlbDcGGCaghN/cM0mhE3aQubpjS/HrzchW/RCb8RY6V5jQ/aATxZhij0WVvKFGJMn+LfqsoWBhZJFlVwjj7CBRa07ZbCNvcWnwpHYQiTZ12diTkw3gdGuwYf6SebpkR+Kd3rT2Jsv0h9ORP+wC4Yj9fKr2ODvdKF4w9/hvr/lCsfBEosEscR29M0WuJccYOHrGuym6U/8w0pk3iIKprkD6TPbf/A0/biGa09UkswPI8bu1hUj+dKi5KWCFAkJWFgFA4tZZpmlgIVjBKEAQ649OAq4ciiGXXzxxcsXYBF1xqR8BN4XWy0I/O32pj3zKvRu5bumwJ1tttlKApccBbSgBwicC9FAgC0ukBMVErfaJD+ExnFNBO1EZVDIPF3yXwEdwYzQ2nrAv22/MO7Y5wjEgDIfUCEJYADyQFyCAbbABpnhP179L6HyRfZum7SNzLsegLUw4kdiMZKmigpCA8wlEH8DajYRi+yJxKvEAGAgCyAlRMeJMX36W2IQk4ir45uUySDzhP8FgaZLjb7YGSbCdMmRn9OxRahFD3tIskFQEHPYKYHpw/90qnIsAdOpxa9rETZFPvQLGxUsEEPXFhcWyRKlO1uwj23Fkr6Qm/qioB9inJNN5gn7IHSwQ0zyT/pHROAIHEJUHCNnsAU906H36dR42Q0+8Sd2i9whFthaf4pRyL7jnU8HCJL4sKiTt9iLTREYmCe+Ihb7LcbTFjLPLvwDobYdwxcuEXP6oFekmn9rdGjsOIdfpHNnic+Lb3funcuvFRDgkjti7ryLN7aGUWyPMNoT7lU+UiXGDfxtS5pYMQax3EReMU9+0k8yHz6Km/FnzfzgDJvjWhagFpfw09+4GXyiK3rHtSyUYJW/LUJxMr9K6DuM9IdTye18yTH4FVvBHn9rbCR/431yi20+zsfpcAV9+l9cWmD14q57kvlhBHkUXJK9ipOKhJWUcQdYuJXr1zCQGQZlfIHGQe3Rsm0GwDG6xILscQb7o73H2BxKoMUWGkTE3wKXwwly1/YzmBKZaxoX4wlEYAAsJQ/gJaEaiwqWa49mf15bZJDIPKCQEJF5t+oEKZtZ+PFxSUyFPgCC3fgHoouwABBAI8EhJo7lN0CADtjcsY5rq9BB28i8JIVweAXikayM1Z0QNqBjupZcxAfS4jiklK+xj2TJNs5DgGAWm0icXvWFKDaNY5NF5ocSOqcnOrLwpBvJjJ7oV0xHQpULLIBjEYuIw0vvx8LXZ0Ego3+4q1AC36I4YiHAZvQvxhBQ12Rfx0qSFlqSez9FLmgDmSdIga0AfFsMwBEV4Sgc8A9+ojJI3/RDf7ZwwB/2c2wQf3MLYUMkh45ji5WcBpfZgT3ZFhFFXJF5dtCfBVuTWBD5uQ1kXp6mX4skuUzlXD4I/w2iqQW/oEN3OeQRhTn5XG6R081BrPFrPh7Fn2hsC9PkDXcccRC8AYHUB7/EP6KA0YRdXKPfZH440T9fpxs64cMa4g074D6foRP6hVkwBo6xg+KrRZDcTpeIOxvyMTYTY3DH8V4VJwLLLJxhlvODI4RN8Duf9wK3k8wPI0CKUYERYqb6w8CCyC0YiQiJZkDAGUZE8JABgWVlLFk5ltOEEwFNJJyD6R8wMjjH5mCcRZC6tew8tzMBM3B0TeSjDrSAl3NZnSOXbr+5NhAZ6osdbZRBIfNAWOIUiOyvEoisW/Vr/gYc7Ms2FmTAnE0AGvuJjRBgJxjNn58ha3zIuU1Vs8YjQKgtZN612IUOERPEo+4zyIhYgkdiy6v/A4ecD9QRDyTFZ/rzvpjng2wqfpEWtvF509I2Mh/CTxEUiyhkhH7hXogChHGLGQTGWBEOvuI9d0LqMUHCpnQPJ8UQTBRP9B/Czu6iwkCfix3Y14S0icwTOlNlp39VRwRFDoAv/Fts+Iwt6FycOh4RgE3s1I3k6YNOLWLZQZ5CWILME+ewrYUCH0A2O3NVE9ImMs+n6ZmfI5JyOL3J/2KGvvmtuEHC6RlnQPTwAPjqTkcUg/g+OxL5Bd9AJs2NbcUBvIJjruk8TT+2veEqYoQeOm3cL3GdySTzhK7j7iAb0DcslRf4L5/Bs+Ro2C8mxIi7S5HXNXrk12zqHA3umRv7mg+eKN7YwcILR2DL4Aj6wBmMgb16ER9J5ocRxgd0HECVjvEEEaWFoQAVIBc4XjkHksdAEpBkBlQcq/oKDDVBCASj2iGp2VclwDTXQ0qc7zx9+t+5jg8HDOEMcU3Bzhmd67rGOigyKGQeOEUQszt7saHA1fzNN9jJcYiL49gk9ip2EkF9AnJ+xo8iyJsC3PFIm8g8CR2Kl04di2exJH7Eq1f/ez8EXhk3G/ksxu8Y/bKpGGT3ybJNW8k8XdAfvzVG+oU/If72Pt3BfsfSMSyM9zpjgoRN9RcxZJ70H8I+Qeh97rV+7X6KcRhXW8g8oR96hSUWPXJA2Eds0CVb0LnPHC9P8Xt6q8dESGfOk6ei2FCPA31G/46tk/2mhE3aQubNnU7YA3GHH/RGL/RGp/xVC35h7DCqnle8Opet2JHAOPbk82ztb/2yCRxzTedFwwv0G9ygKQnfm0wybwyhL3rk664b/stOoUu4RM98GPeIvB52iHOdo5mb99iXf7Gj9/Wtr06O4NX/zulVfPCbJPMprZFBIfMp/78AvDaR+WlBJJg2kvlpVdpI5qd1aROZT2kHmZ/aJcl8SqskyfxgSZL55iXJfLskyXz7JMl8uyTJfP8lyXxKqyTJ/GBJkvnmJcl8uyTJfPskyXy7JMl8/yXJfEqrJMn8YEmS+eYlyXy7JMl8+yTJfLskyXz/Jcl8SqskyfxgSZL55iXJfLskyXz7JMl8uyTJfP8lyXxKqyTJ/GBJkvnmJcl8uyTJfPskyXy7JMl8/yXJfEqrJMn8YEmS+eYlyXy7JMl8+yTJfLskyXz/Jcl8SqskyfxgSZL55iXJfLskyXz7JMl8uyTJfP8lyXxKqyTJ/GBJkvnmpRuZ96jwJPOTI0nm2ydB5o844ogk8y2QJPP9lyTzKa0SpP3666+vllhiiSlk/pxzzkky31IZjsx7ameS+d4LMn/fffdVa6yxxrvI/LPPPptkfhJkKDJ/+OGHJ5mfJME7PM2zk8x/9atfTTI/CTIcmb/nnnuSC/ZAkPknnniiOuGEE5oj8/vtt1917733pgFT3iMes3zjjTdOIfNzzz13dd5555XHJEuaKe0S5PHSSy+tNt1000Ji5plnnmqTTTYpJEZ8J5nvvXhUPkxdc801p5D5gw46qHr++efLo8NTmhW45BHwF110UTXffPOVOPCKSH7rW99656iUJgWxgU1HHXXUFDK/1VZblTtav/jFL945KqVJ+ctf/lI99thj1XbbbVdsMvvss5fC7pe//OXkgj0QPv+d73ynOumkkwpv6juZZ0BVJJWlNGBKp6ia3HbbbdWSSy5ZKr2c8sILL6xef/314ksp7RIJ8/LLL68233zzKWQesVeBAS4pvZc33nijeuihh6q11lprCpk/9NBDq+9973tla1NKswKXLLAsaueff/4pZP7oo48udkppXhQR3Mk95phjqoUWWqiQ+W222ab65je/WXJJyuSIyvEOO+xQbIILRmH37bfffueIlPGKfPvMM89Up512Wv/JPOMhaBtssEH5YspVV11V9kdny6bZXnP++edX+++/fzXvvPNWM800U/GZnXfeudzCvuaaa7qel23yGiK/5557Vssvv3w188wzV+9///urZZddtvr0pz9dXX311V3PyTb+JkYuvvjiQhQXW2yxKWR+o402qk4//fTqiiuu6Hpetv41uHTBBRdUu+22WzXHHHOUOPC62WablThgs27nZetfu/baa0ssKDLYcjDjjDNWK620UrlbojjU7Zxs/W3XXXdd2c+NYH7gAx8oXHC99dYr3y3JXDHxxudV5S1aFc5h0KqrrloWsEPJuMg8AyJmgkr1QmDZW2uvrdvy2bLxhXXWWadaZpllqllmmaWafvrpS2JcfPHFy/v8pdt52SavIZFLLbVUAecZZpihVMDmmmuuauWVVy6fdTsn2/ibGJEA4aeFU5D5BRZYoHwhls4TU5ttcAk+xZf2xYFX+4IVsdypSps02zbeeONq/fXXL9s53CmRS5D6FVdcscRP2qP5xiZ4oO9VIfK4oDtYbJJcsDdttdVWqxZeeOEpBQX/943MTzfddAXorBzmnHPOkvi9Zpu2Gz/Q3BqaddZZS0LkK0AYsfd+HNd5brbJaWEL9gIeYS93VOrxnTbrTQtdAmn6lQyDzMNU5L5+XOf52XrfQs/wKQoQEQcIi5yX9miu1XUtTtggcgmMiopl2qS5Vte1eGCHsElywd600DH9xuLV+30h87HNxkUkf6tklQttwQUXzDaNN36gimKlzikRQsEu6CVK76e/tKuFLYCGpBn28rc9e6rFabPeNXoUI+5swk93QYLMzzbbbOX7CnFc57nZ+tPCv+ETkhgkxSuSogppf3DapLkWuhYnsehlEyRH3Hg/7TE5TTywA5sEF5QrIo66nZNt5Bb6kwPwbPjTVzIfgeWibgn7iSJt6623zjaNt2233bbafvvty602WzSQE8GOsCy99NLlFpK9YI7rdn625htb+IWIFVZYoQAyAFFp8befTdxyyy3LMezW7fxsY2v06Jcg7MWGn8A6yDzCaFsBeySmNtfCv+GT74rw/4iDRRZZpFp77bWrHXfcMXGrwcYe4kCcLLroolPumCA64sb7GSPNNzYRD/HzrQp2uKBckVxwYi24kS1ktvvhTX3bZhNknhHtITz55JPLb77ef//95Zdtsk3bjR/4bXJfFvMlJdUTt+NsHdhnn33K++kv7Wpscffdd5efRVxllVWmAIjF2BlnnFEeBuKYtFlvWsTILbfcUn6xwC8+BZnfYostyu/9s0fqu7lG136NAz75ZQ53FeN7I5Lr2WefXfJf2qS5Fja54447CkFUDUYcERu84+abb057TEJjk3PPPbf8CpeCDy6oeOdLm5nbJ9bozs+u+iL+LrvsUniTXNyXL8AGmdf23XffYrz8acqUTsmHRg2WDPU782I+HxrVH/HTegA8HxrVDvE7856PIZHabiMO8qFRkyt4x+9///v3PDQKocyHRk2O+OnERx55pCywVORxwXxoVO+Efht/aFSS+ZShZCgy7wmLSebbJ93IvF8mUA146623ksz3QZB5lZgk8+2Qoci8n19+4IEH3jkqpUnBO/7whz8kmW+RIJuPPvrolIdG4YLuuudDo3ojQeZPPPHEJPN1+etf/1rIyI9+9KPq6aefLhWWhx9+uDzB7Nvf/nZ5tcr0uacuerrZSGK+nj7n4S4SL1DxZFP9+xtZ9fCE1157rTj4U089VY6vP/kUOVLx/P73v18+Fxxx7tRAnAalMs8/6N1DGvj3448/Xv3gBz9410N7jNcjxV9++eViK+2HP/xhSTLiYjj5zW9+U2ysf6+qTG18Am6QebdLffHVLW1knk4mszIP2H7729+W+PnlL39ZxhJizHTqiakvvvhieeCPWB9O6J5NXn311WJH/vjmm28WP2ha2lyZh1/wDVbCeMnFQnyoh8LwD9jJHh6whGzB1XosOUYcec8c9S+G6vHgb+855rvf/W6xE3s1Ia7dtso8n4cdFn3GIMeIh+EExtAb2/Ev5/lfbLCReTomdMwOYidiPGwZmPfcc8+VV/83jd1DVeb5ZJNknk7oT56n1wcffLA8pZPejDF01yn0CLPkCz7/5JNPTskdsC1EvOvbMbCMH9axDj7RPbxiD5gXfKFp7DJusV0n801W5sMWYoMe6M11h+Ju4c/w9qWXXiq4T4f4WR1nzUu/7CMuHEPH3q/blz861+evvPJKyR91DJuouF7jlXmP8P3KV77SajJv3Ixu3++pp55aHgjyiU98ooDDscceW17tFf7iF79YjDgasJJcPN7bw7IQVFUb+5zsfwWcQA/g2uu34YYbVqecckpJcIweEiTyxhtvLHvNDjvssFIFde5QTjlIYnHkAQjxm82c8rOf/WzryLyxsNmZZ55ZHmp15JFHVjfddFMZZ4AkmwjcK6+8sthS4y8S3HBP6nQ+4GDjs846q/QLqAF52wSo2avdSebt7TbHoZJVvwW4AlbxJoFGAjceZIROPTzmkksuKQtisT6UOAcQs4mFJjyQgAByL8F4tGKscMOX+YLMwybznWwyD+M8AMbigk8cd9xxBeuHIpJ8XR7g6/ace8iPp9neeuuthZhEQn3hhRfKXmd7bj0cJQg9cQyM9J7vE9infsMNNxTS1ARh4QMWLB5sF1/u8+phOJNB5ukDcYQdflRg9913LzkG4RtO4BL/5ku2QjiPXZAZizH6ZofQMTsoYkTeoWvHBeZ5AKAHN/lf/DQpbMLn3B2pk3m+2CSZpxPxalElJnAfD05SDFQEHMo/xQT/xwX4vGpr5I46WUcOYcF5551XcPhrX/taIal8gIQe8Bj2sODEF7zXJHYZD07lyeCd22yMrQkuyE8Vd3AqsWrB+utf/3pIXuF44zLmyy67rOA+PXtCPc4XOo4FAlvhKvSM28l/sfByrAUBXPO5B2gFoe+VuJZCM/9KMl8TQQaAEAGPhPateHuBAbREgcT5tQ5fNmBkQDmSYQTZ7bffXkidqs1dd91V+tprr72KkTmEIKMbX55C+BGNeoLmFD//+c/LgmCPPfYoXzz0BEIARdeDLoNA5tkDIWQ7ZMUTa/nBrrvuWpIX0ifAkQkJz3wkSccDU6Brnt0WXxYAEqY7M8678847y3lIp8TJPwIg2iBtJPOSnUqvOwZIBxKowhh3vSQzT65F6MWd4wC7eO9McHAAmVHxYA99IfIIK1BX4WGTJqWtZJ4eVIP5gyfUHnjggUXPiMtQ43rjjTfKOY6zIDYPuCdn0Ls+JVO6llC9igmEEubyMX2wz0UXXVTiLGIGjiKSYqqf0iYyL6fSm9yi2HPwwQdXxx9/fPFXMdFN5A1EXa6je7ZDglX4xAX9+Zx/0TFMQ1z06QvXCCY7aexmAQAH2UJ8OdadAfg9FHnttbSBzBsDvSkoiAlj8bTsnXbaqeQNNvJ5XSfwUl4QM3AJ7iN+SLo+EEH5gU3gFf+S//EK+KRA4e4D4ggH5U1Y7HP2gHmahYHFQlP2MK/JJvOuz1fpyy/AiFf5oL44qos4YjvYZGEcOsbf+LmFgQUZjGEjfs6m9CsuLKjdgWErd1a8h7fRvSZ+2JkP9IK7JZkfRhgZgB111FHl58bMQUAi2IyqiuRpparoDBWE07w0c9cHY/kfmTdvK22P+QZ6DApwOQHnYXhOAFARB2RBH/qSuASwYEYK/cSWbyzrz7WBByBAWvSjSmaB0RYSPBoZBDIvQJEHhEJyA6AIvadvqr4gEvSPkLOzQEe+JEsVskMOOaTYtZOUAzyrdfOXMIEHouMVMeAPbD/UloXJkLaRedcDsnQthty5khTpTRyyA/tojgHWSA/yobLbuSAXd2wtEVrASzwSguP5JR9wXpPSNjJP50gBcg3T/JKRRkcWThJmJ9Y7h/9LhI6jW7HBl2Bk2MuiGdZFNcuCVp8KKDBXvLCP68JR5FHM+EwcwVf26acftonMwyZbGehM3pIbkAu+Lr90E4SEvulXvITt4A6c8rn5IYnyHxxCzuUsf1s8OQ6BRHrYkv5dk61gpAWw6zeV89tA5uVthTfX5NdwyAIJoUdoLbKMpZ4HxBHM4c+KdYgjPdM/WyK/Ksux1clx+kUKYYLFGD8UB8g68ix29OE8/yOzKv2KTuzRBEa7hnlNNpmHBRZInqBth4U73vy7m8AWBQQ53LF0zJbuHIoNMYOv0K2cbh7wTPwpOrC5/13D3+IAJsEr+VF+8r+4GWoMY5Ek88OI8TEoxwcGa665ZvlbcmJYwehRxMstt1wxFiNJtAyMfAITzoOc+x/B0xgYMAJCjqAvQY2kIRNu4XB61UTknZGcx3n0xZH8xJYvHc4777wFuAU7AEOgBLEk4hqSH3IzKDIIZJ6N2Rqg+luSUjnhD3vvvXdJhm7fsa8v+ABbMYAECmh3ZQR4HcSBnYUYu+kDiEQlns35HTAHGL28NTdRaROZdy06RSzoHuGTDN3yp2+2kuwuvvjiEkuIj1gD7hobSr51gQGSXxAjcYlkwi9Vf7Y01yalbWSe34pNpJHvWtDyefilag7XOiuA7GSsSIffn1bFdw68hXXubOnT3S0LZRhnfgoU3pMI3fJ2TeSFnd1BRSCdj6ggpLaKiD15qF++2CYyz6/5qS1L9MZPYCpd00E34fMWt0iKiqV4RgrEBzsgpXKUY5B1ZAUGwT/fcZCLVCXFhOvCa5gYizGxZVHlPLjYhLSBzEcuh0fs4rqIm7zsbrw4oZ96cSbIvFiQ3+GOhRAb8Gc2VUyUGxyjaoxDyPGu5U4KMuc8Wz3YjB/CLT6ANNKB+BEX7NTtDnGvpQ1knm7pAM77Kd/TTz+92GYozGQzGM+nxYZj6Z5+6VDRgA7Fm7vy9C1eQsf0bm7sYwGHF8jl8BuG2aodP5XaC59MMj+MCDK3JiUKD54wB0kHgAEnBrT1RsIAmgDP3jiETaJhSMdxCKtiiUr1StUiVmlW1ioijCCwVO9VMxjZ+RYDwJajeM9tGuTCanHjjTcuX7gClkDBWOlagLsu0qISYJXoc4DQdhkEMg+kLZiQVQChCXIVKbdP2UciYzO+Y/sAMg6M2Yq92blOcACq/iRFdgXUyL8YQWIQBWCgQmyB1xYBhG0h80BUDCByrk/f7pqwByC2CGcL/gQ8AS/CAkwtniQ+x4QYuz7Fry/tO4Yt+CF761v1TDw3KW0k87Ay7kRJYvwdViEdCHgnkQwyD0thapzDZuJGfIgh5yM+MI3NxANbijPVMvimIi8xSqoSrLFYSDjHXVP451r9Ii1tIvNwHn7Sj+908V2YIiaQ224iBuRj5EZudqeK7cQQPIZ37GRRLJaQHPazUEMeXcfcfW4xJ++wN3xjR3GiOmxrAT01IW0g83yVjjQ65H+uzSfEiXxOP8YaAnMcR/ds6E4Je1i0wlnxAePwCXOjd1ggJ5gv/3ce8ijPKF4go4pPIa6P8Fkk6KszNvshbSDzxuA65u8hS/K1wupQmMk2gWlwng/LAXAG/uNm7EKX/B7/CxEv5iaP43q2ZFsIW8y5nhiCXVGUsBCbqCSZH0YiKSBknkjqSaSqSIIFkffURUGDYKk4UKRbxX5lwtMAJViJyBMA3Y4XoIBNcPliEvALQzOogJOQGd3THa3CrepUm1QZF1tssVL9dT2B7GlfkoakxTnolHMgg8bBWdw1MAaAPggV+kEg83WRsPg4gGAjtmFHY0X4gYHvP7itZxsO8FUlRnTrog9J1SLMgx6ABl3oB6m37Qb4+FzlsS0CmNpA5iVA+kas45cfJAnkg+4kOTEipthJvIpvCVDcIC90bsEdok+6jlvjSL/PJV+Eki3sf3WnrEmZTDIfZKPeJJHwUzpHICU3dzL5LCLZeRvZefBfQoRxMA9O8X3kUFEE8UPm4aW4Qu7FifhhQySeXWCpv+EG+xiLc+GiZMa2CiV10tRLaROZ568KRhYwcoVY3GGHHYod+Gw3UeSxCEDM5Sf52TnuKrKnWJG/xAc8E1vsxx6qnGwgJ7oGW4m5EDEpt7EXe8inTUgbyHw3MX94YcHDRnTYDSMtAJBD2zc22GCD4sfiKnKH7YF+eEHc4Ff6EWPsCK/YDwdwt4o9cZMQhJqtjANm9Csu6tIUmXcdObmOT/73vkZ3chMeFzExFGbKD+yAkLtj5fuJsCYKbYqsinMKRBZdqu0h/MyPpliwiUN3WeCDc8wVTlkUOJe9ehEXSeaHkSDzDKIyv/zyyxcSz5hAAmF3uwbZt8J1G1H11BMwHWtV7DYykNSPV0EGYD/2sY8VvQhoT0ST/JCiqPBKCFaDiAgQREKQeQsA+xWBLoe0zQbICnIJEGi6hlWkStfCCy9cxuj4Xqz++i2DRub5sAC1ErcVQDABAABi8QR0VRAt2PiFCq/VPEIWwsbsr6m8iBU2RxDM2WpeguRbiEmS+XeLZCT+xJckSeeSmrte4oBdJBGkkv7FCBsFWCMo4kpcdyPzwBFhEauu43qSAFuINe83KZNB5tlRslABRMBVtDS4hijDedVH1SxYZB+1armqFv/oLCToj37r50jqqvSIOeJiPuLJ3MQMsmIMjoW5jpUwLZad4xj2CTIPFyVgMUVn/SIt+m0LmTd3NjIeuUSxyDjcPVYUCmJTFzqlWzaCNXwL1rirIYdZHMBkMeIzWMx2CCTcYwN2VtlnKxXhEGQeaZFDxVcvSMtohE3aROYjfsSMO4AWQTAEBnXDSLr1OZ+iX0+vpVuYxk78CodA5t3Jd7zYh3vIo59/VNFX3IN5dTJvqwdb4SZTE5nnk/E9BT6rwSqx731jGAuZpxexBMtss1GM0/zYBf2LMfFFx0i5/BIipzgOUZf/fb/RsbCSzY0Lr+Gf7FXPO+OVJPPDCKVLDoAIQEsMsc1GgmKgddZZpxgNkbAXTnCtsMIKhbhJ8ozEgYAsIPS+foCraqGg9r/tOgzLSTiZx0/r18ovVtoILsfinIJaVRCZDxLCkBKYvXgIDICdf/75y8pe8DYFpBORQSLzfBsZBIgAQgADWqABWPgO+0pubAhg2VQVCyEJEAVo5uqBS6q9KprIfFTmAQ5/Y0OkPsn8uwWOWEhbFKlGqc67OyIRqkwBS3YQH2JDfEVl3hYQd63EDbJSjxE2BObin42iMs8mqjDmLaE6v0mZLDJPX3HHA3GGQTCPf0okdeG7yIJExgb+H0kkYTYUK/b8usPCjuaGACEsYi5uUauG+UxM+VucSZLGabsUXKQjfXbb6tMraROZr4v4k2PkEH6K9NHBcDGJ7CPBYghxURCypYP+6dfWDD7A3o6TCxUhEEekXdEJhsWiISrzsIsd6tvY+iltIvP0ADNgDp92J8qiiT/DmE5xPB3DULmQ7ujVnSukUUzQuzsndI5f6QtWyStizm4AeVOcONc5IYod7Aq3xNLUQubNg47dzXMnT+PHYsD7xhBkXqV9JDKv0ADv2UtxQXFCMVdciAdFVXlDfhHr3SrzFsWKR4p5CqpRmWd/7/PPKAZPVJLMDyN1Mo9sIVkU5T23wASEeS211FIlaICm4PKlWFttBI0kEsCG8KvYI++c2MrRe1bdqiASk+o6J3M9SYoDSGz2ePnlHI5ldYdYAGhk3nUlS44iuRqXPgTxAgssUMgVZ+yFw/RbBoXMsynwRP7s8WVLxN4YBZVKANCQ4CVDq3a2tcAS5BKr4/kFAer2cLOvX0lC5mPPvASApAJ1dgfcbZE2kHl6Q5pUYPm9V8RDNQX4WjjTG5Cnfwtd1WA2QoxV2FVNkM866TR2FUtkxCKATRBmNmE/fonIIDhNymSQef5OF3yRH0psvvxLB/y6kxDwUQnLnRLJCtkdSYxdHNnSoV9Ew/XkCzaNROgYmAhzHYfgsKsqssTNH5Ca8Esx5T1z6Ie0lczDFDEIf9gAoaO/kfQAvxAVCyS5xfl8XAwh5Owir/NDi2TztHCC22zF5nTiOuJMDtPkJjZsQly/LWSeHozFnRK8QVzIHfTMRnWMdCzdKtrRq+KN/GKRqghku4bFksV03O2ABfqzTVNRQyzgF+KI3hUgxVGIeBUzdMFvjaPfYo79JvNi3CJIERX2a/KmhQ9cNwaYj48i8wqvfHkozLTw5NNigM5hiwWQnOLcKGgg7Py+c8+8xZbzYJe7h7CK7QPnYKiqvv7xm4lKkvlhxPgEEeXMOOOMRTGqTEHg7Gdbcsklq8UXX7yApcBCmlXmEX8gKIhDnKOSLwlzCAFGD8g9sq4PCwDOMfPMM5c9cQzNIe3VkiA4htWk94HTXHPNVcgJ8FUZluA4jj44yoILLlgWCvroxa2cfssgkHk+LSCBM6IAeP0t+AWrRROiripgYWXBhpibA9KIeIkJVXw+pj+B6BUYA1ogAPhUFByLODkXOZCg2yL0MNlknt7cXkZWbCVA2sUeYo+Q0B0bsAtCjryzl0QmvgGzpOccBEWCDZtY0PviHgKLLOqfbREblRXv66tJmazKvPhTaWVbCZh/80fEma1hnUKDMSAWcEp8SK78GFFBsug1dIv0O0cVLCqXiKNECQv0gbjDOPZBxBwDh2GhsUiosf/UIsu1bSVwp0XCFFOu1y9fbAuZNz94wj/pkx34ChyhK3ZiQ+ONFuQRGWQLCzbnyidyGRvLG6qOcC5yFFt7j33hEjuIjVjgOYetXNPn7AkD9d2EmNtkk3n2oFu+wQdhhrjl00gkzDJGJNRx9aYYoZgXxSB6gz/mAG/FnyZXii+LJn2qRrtLIv+zD/vhL4Ftco7j2cl77M4H+i2hi36Sef3zfaSbr2oWLnIyPZsnnGIDuyrgd+cXYPUhRuQA/sp3HSc/sBfCjmPBG7qGM/KJog7scdecjmGY48S/9+mb/YyHreQo/FGseE/Rd6IC45LMDyFWcYztthWiYg6MIplY9VrdIfOSqhW0YEUgkPN11123kPe6kShagCI7ts0wtC+h+NKX1bM+ERLkYtZZZy0VXI6ib7fYvIccWvVZleuH0ewL5hCSnsWCQOEk3rfPfv311y8G5tT9Smi9kkEg8wDBOBFD9kAaAAeQkLRUoCQMQCqg+QW7IivsbWEF3IE8IgOAAIpgtCAAtggKkEM2kUn+oXJsIdkWPRDjnmwy300kP0RDldDCN0Ab4VBdEWsAFRF3m9TtUlUdyQ0uITZe2QRJpnsJEkhbFOg3/m9q60DIZJD54YQ/SpbwBcbRIz/l4/73PixF3h3nb7ql60iQXp0Dx1R7EQ3YSbcSqbsjcBDJRAjono+JKf2zjzuRbCsJx4JALPXbPm0h88gK/SKL9MkOiI0xwCJj5M98BOlwLNuJU+Rbg2vOFRtwGCGMO1gWxKqddAyXxBe9swN81iwA5C/5nV3ZCk7iAOyPJDUhbSDzdG1xhMzBF3nshhtuKIsheUDxDZbwYXgViymcCf77zpxcYcyOsSDj4+xCt+zJBgo/bE7HQTz5PxvDBPoXU86BdziFKj9MbMoeTZD5kUR80LP8bFuzRQ888Z7xaf6ma+Ph4+yGO9ErXTqe/mER3bvTBIvlZ/aERXQs3izIxKC4iLu/zhOTuCEuiRsokPRi/knmhxCKAQZWXoLQ1geEmqIEGgIDKBhZgEpEAFBgmZ9fZJCQkLUQgIiIAzxf2AJ6muoRwqYPDsRZrBwRQU5h8cCp7H23mpPIkHkJ3D5s4OraSAsAWHvttafc9vS5Cn+S+d6JZCAYrbTd/QC4bOp/AQssgEKQE8DNRoKe30t+QMDnAEGAIx0qisDcXPkdQNaXczTJ1udNVFJGK20l8wiI5EVvdEinsEg82vJk8QV8xaNX7xmvBChJWnzxRbpGOsWlY9nE8eJSUgbEzmtS2kbmESd6k6glJ3ryN7KgCiUW4KmKlbiBQ+YAX5FFWzfYyDn+FxdiAfkznyAqQYDEFN2zTxzDPmwSMWMMQXj6bZ+2kHmxBpvoip74vrygYotUwA66cotfbjI2eubfSAC9wSkLXoTDeYgN28nVSH7oOGKBzWAZHetfHCH98pnP+Sksc/3OLSX9lDaQ+cgB+II7Ggo/crcim1yhoCAm+DG/Zyt+bOyw3lgtSB2HjLONfGGxaqEL49gpMI6+fQ67xJ18yX4IqJhhO8eyD7vpoyl7uM5kk3n+x/Z0ZdskOyg48BM4b3x05XPxDKPEAL0p2NFtYD8dw353VdiPTsUE/TpGfME5PiAu+AHMEheOERdsypbs2ItFVZL5IYRigBzjMo7VraQjsBgTGZBcGFVAmidHYUQBqGLBESS5EMGlCmvlZtWG+FmxcR7VI4kJ2eBgyLjgdH1Bh9CrTkkYPnMNi4hY6Tmfs1i9Aw1kSuA41nXcEuJ8bZdBIPOCnI3YWJCzJTtYyAlWtjJWQSrROVbwAlTJDtCyNZuxoQWhOQIQoKKZr8CUcAG9fgBH26StZF5CpEOACjDFobEATTEmcYpVscgOqmI+N586mY/xs6XjnAe4ESJ+0FRlqy5tI/OwT8IKrIT3/JzP0ltIkHlbL9jAWP0tZuIcGOV9MUD3XsUKW9K988UXHdTjwXXCbhEz4qwJ/2sTmUfeLGJgjUa/CDs84qvsVCfzYQcLJhVkuQ3u8H3xKw+G+N/7oeOIEce4tv7ZwXsIvHykr04/aELaQuZV3uV33EGe8CpPyMd0SPf0E2QeiRdPuBG7eZ9dED9+Lw74ffi1YyyaxYU8A+9gnbgh9ADbYINj2MWCwXuu05QYr+tNNpnn7/xW3mUXumMn+jI+GMZHxDN/Ny5EXLzAfTqEU+JMf+blGP+HrRzL7uwUx4gReOTa4sIrPOxlXCSZH0LCAAwCABlc4Gnxt/clmgAzr+bk/fpnIY5hXMcIJqDCuTgNPdX78Ln3A4T1ZXGB2GsxFs0xzjdW58WqXT/GKrid65i2i0TQdjIfuu7mF2zGVmwJIMKe7BGfhb9Y2AFowA7ggXqAsGvEeV6dE5+1Scy7jWTedelQMtPEUAhdsgO9ao4L3TqOn0XshQTYh907Y7tJaRuZD18PvfHZ0E/dZ9lBjNBh2MRr/Zy6LULClj53bsRD3bfCPhEzTdrHHNpA5knkCjoNH/Ze6Mrf9BN4Ffp2XLxfj4luOg47hL2GsoMWdvB+k8Imk03m67ag185Gh/QSMQBX6Iw+tTi/0y51fTuG7SIuIq5CHOsancd4r95Pv8W1jH0yyXyMgR7ok85dN/Tlc7rGlejd+96jL+ewT2BLp479ry+fh469r8Ux4iDs6Zhex4X+kswPIWGMMEjIaAOh27kh3mdwbSzi2uFk3aTbNf3fdPCOVwaBzJPx6LLzHIsslQEVFSt1ybWb7dpsN6DYRjI/Xgl9DxUv8flkStvI/GiF3mBXP7FoMuwDw9tC5kOG0oP3Iod05pGhzhlEYZPJJvOhz5F06vOwB9t0is8HJX8PJcY+2WSeGEfosf53CD0Hye78rNvxdRnp85DRHjdWSTKf0ioZFDI/URHM7qK4Lep2G+ILzAdNpjYyPwgyqGR+apU2kvlpXdpA5lP+n8gDbSDzU7MkmU9plUwrZJ6IDeTLrTeBOIjEN8l885Jkvl2SZL59kmS+XZJkvv+SZD6lVTItkfmpQZLMNy9J5tslSebbJ0nm2yVJ5vsvSeZTWiVJ5gdLksw3L0nm2yVJ5tsnSebbJUnm+y9J5lNaJUnmB0uSzDcvSebbJUnm2ydJ5tslSeb7L0nmU1olSeYHS5LMNy9J5tslSebbJ0nm2yVJ5vsvSeZTWiVJ5gdLksw3L0nm2yVJ5tsnSebbJUnm+y9J5lNaJUnmB0uSzDcvSebbJUnm2ydJ5tslSeb7L0nmU1olSeYHS5LMNy9J5tslSebbJ0nm2yVJ5vsvjZP52Wefvdp///2rr33ta2nAlPfIz372s+rmm2+ullxyyULm55577ur8888vAAygU9olyONll11WbbbZZoXEzDPPPIXYP/jgg2XxlWS+9/LrX/+6kMQ111xzCpk/+OCDqxdffLE8cjylWZHjPPjt4osvruabb74SB16PPPLI6lvf+tY7R6U0KR7Ap5hw9NFHVwsttFAh81tvvXV1//33l8VwSvPiqaqPP/54tf3225cFFi647777ZmG3R4LMP/XUU9XJJ59ceFMjlfl99tmnuuuuu0pSQgayZdMQkVdeeaW67rrr3lWZP/vss6vvf//71e9+97uu52WbvIbEXHjhhe+qzG+88cbVfffdl/bqQxMj7l7de++976nMf+c73ylEpdt52frX+PkPfvCDUnRQkRcHXg877LByB4XNup2XrX/tzTffrH7zm99Uhx9++JTK/JZbbll9+ctfLrZKm0xOe+CBB6ptt912SmV+7733rr74xS8WW3U7Ptvo2+9///vq4Ycfro4//vhmKvOzzDJLCaozzzyzvP/QQw+V6kW2abup5HLE22+/vTruuOOqBRdcsJp55pmLQyIqt912W6lGpr+0p7EZsmI7waqrrloS5pxzzlli/dxzzy2E3jFat/Ozja1FjNx9991l69nSSy89hcyrOl599dXFHhkjzTU2+eY3v1lwy92RD3zgAyUOvO6www5l642tBRkDzTX+L1d89atfrXbaaadq3nnnrWaaaaZyJ+uss84qhcSMkeYa3w+buHu17rrrlju4uOAWW2xRnXHGGSWG0ibjb4Ev7pLvsccehTfNMcccJS/T7VAybjLvtgqCttRSS1Wbb755IWkHHnhgdcABB2Sbxhs/OOigg6rdd9+92nDDDYszzjjjjOWW9RprrFHttttu6S8ta2zhNilwtvgKey2wwAIFpH03xjFps960iJG99tqr6NddkCDzyyyzTCGP7JH6bq7RNVyCT2uttVY166yzljhAVJZffvlqq622KiQ/bdJcC5uo+q6wwgqliDjDDDOUCj3eseeee5Y46nZutt439tBsr95mm22qRRZZpNgEF7SdNrngxFvobrvttqtWWWWVcnewb2ReuR+Zl3imm266avrppy8Bli1bvfELLUhK+kv7G9uwUdqrmRYxkjpvTwubhD3SJpPfhoqRtMnktaFs0u3YbGNvdf26S24rZt/IvAu55WU/tOpFtmzRVLVUdt2m5pQR7Fbw3o9jOs/LNrmNvQBJ2MvfEd9pr962iBH6DZ1rMFU1Jo7pPC9bf1romk3gVCTSyHNskvZottVtwgZhk8Al76dNmm2hb/HgzhWbRIwkF+xNo2P6DRzqG5mPbTYCyn4p+z3tYVt77bXL7cls03bjB+uss07xk8UXX7wALkLPMf0agffjuM5zszXf2EGzBWrRRRctt/TCXrZI2fbhsziuWx/ZxtZCl26dwk+3qoPM2xe84oorTtF5t/Oz9b6FruHTwgsvPKUQ4dUv2iy77LIF18J2nedn622r63m11VYrNkAW2QS5scVX/KQ9mmt1XS+33HLl+yRRjLBVkE2SC06shY5tK7PN1SJJThYDfSHz3b4A6wtdvviQLZsvivmi6zHHHPOuL8DaaxdfgE1/aU9jC19y9QVYd94QmPgC7DnnnFM+63ZetvG3kb4AS+cZI801uvYLHb4Aax92fAF2rrnmKj/B5xdu4FrapLlG13KFnzzccccdS/EQubHQxTvuvPPOtMcktG5fgLVf/vTTTy+EM20y/kZ38QVY3zuML8DKy30j85ovpggoD3X485//nC1baW+99Vb18ssvV1dddVWpzlu9+4kl33b/3ve+V356qdt52SansdevfvWr6oILLigPinKLT6Vlo402KonUz411Oy/b+Bud+2nKe+65p1Rdgsz74qsHhrCHY7qdm60/7Q9/+EP16quvlgVs/DSlOyW++Op5KuyRNmm2+WlKzybx86B+BtECC3H0SzZ+mjLt0Xzz84kIvS/BKtbhgr6MbCGcXHDijX4Re8VQRQWEvq8/TWmrTb8fGuVBNUO1kM7/B0Hq8xhu7IM2r7r89Kc/rW666aZqiSWWKEkxHhr185//vJUPjRrJFmQ0xwwlbbclAOl8aNQmm2xSqpVvv/12K8bfbQxhk3obrYzl2H4Iwq7aUn9olKrwCy+8MNU/NGo0um/aPnIc4qjqOP/885c4sL3jiCOOKNWyqVHaaIe6eGiUWDjqqKPe9dAod648G2PQhC6jjVcmev5ExbUVHPzqVjw0yi+eTcZDo8ajh9DfRHU40fOHEg+N8qyRRh8apYrkN2B7bUBKEsAIoUlxnKeffrp67bXXSgBLgh7wYdX+xhtvlMqhai/S0WYxLyuv119/fUqLB27RryerAS/VBvPz4Bjzot9+OU6/5Mc//nF1/fXXFzKvMs8p/Wa5x6V7omhbJGzCjyw06DtsEcImfIvfhU1G62uO46fO9arfNtqSD1566aXVpptuOoXMq9Ijm/xxssZMX66vaspG/mYPC0LvwYho7Bd3EQBiN9Gfc9mQLT1dUn+TIeLfkyxtGwgy76fJnnvuuWKPyRR6gjtRLRIToxX6jHPDXiF0b25wD8axU6dv+T9iho2bwnVj40fuUMUTYFXoPbDIorZpoQd6D12O9UnM4ev0TYdxrlefeX84HbueOBFTbGUsY7l+L8Q1jc9TeOOhUR/5yEfKw9YsvJqW8G1+7XU02BEYpmrNvzwdXex3xkYIm/F//dfjwyubwcHAwskQY3r00UfLzyeyCS7oAaLuMhpzv4UejAFHjHzcmbO7ic/5Od1HzuBb3fzasfzf8dpQGObaI113rGJuTzzxRHXiiSc289AorderMQqlXKSds1gouHVjb6mVuPcee+yx8rfH3f7whz+sHnnkkTIuP7YvSNoq5sbogvD555+vvvGNb5Qnpn3pS1+qvvvd705xGI4i6F966aVyq4UuggQOkthC8IUvfOFdT4C1PxjJbwuZFzSSpKB+9tlni775mL/ZKYIcaPCtZ555puybldg9ct8x7NVN9A1sEUxbjhA0r+bPnj7vBJDJFOD0+c9//l1PgEXm+SnCOxljpXeLd3EuDvgUfIA37AED3BmEBxq8YD8LRmPuFPake5+HTTypGClgKzZpUiQiD4fqfAIsPGCPyRI4RPd0xOfhFUwajdCxJCcZKcCwHVuE7sWaOw/6pHv2Df9yXfNmH9vxHGMMYqgJ+4hl1/aAKCQ+yLzvkthW0KTAe/NFPOiJLuhhtHHofDazbShiwnthWzgUOoZl7BI61pB3x/hcnMhHru/cJiXy4ac+9al3kXm8o2kyT3/8kz3ozOto9GEO9KswCaf4Euwyr7pPsw0bwDo5xmsUG/ADx3uCuvzEJrYZWYz5rCnhf2JZHvzoRz865QmwH//4xwuX6TeZpwvXgBt8O3wzcgNdDxUj8IdO5XlFFIUq5+mvzq/C/+EwO9fzA3v7Hy7BMTEkLviFPnqRJ11HAfszn/nMYJL5cBLA4/aClZ5bzrfeemtxHKDiywH2Ye+6666leuJ/Txn1oA/79yXGNgtjcwSBaosSA7nFrmKNVDKiwHQMvfqSz+OPP96X1V+/ZRDIvOAGjhaC/Oyiiy4qt9TdcUJig9ADDb5ln+Z5551X7bLLLtUpp5xSyKOqVTcR3MBWP3fccceU10suuaQAuc8BU1vEeNpG5hHJm2++uSQJGIAYigVkkS34k4od0Dv22GPLQ5jYRbJElOsifgC0RKhPj4PXJx/1pWy2ooMmpa1kHhYhKnDp05/+dHX22WcXW4wkfAThkCQ9vZBt2Emyo3tYJgauuOKKsghznEKN+GIf1zV3caiIw/d8J8tx4lS89lPaRObhDuIQX4bzxNOx5Dd5BK6Zy3777VeqpvKLXI0AXXjhhQXz6PjGG28sWIbo8DukyHxvueWWEh9s4HO2cm6T0iYybyz8EE6KCXcy4cZwIiboFHm0fQtf8Z0MmCMu2CSEbcTC5ZdfXubILooWrutYvsCOYoNN2E88+awpCZ42WWReLsIh2J8eFHPpwo8GWCzJx924knHDfjo96aSTquOPP77kD0UHRD3OcZy4UzT2XZlTTz218F6LavijD3eF7DoQO+x63XXXlZwu5nrB0waezDOSlQ5H99M8nFkioVSrWkYCNq7nVjSA49xI8QYbbFCIhwChTI1ROsV7CJRWN17nsT6LY7r1Q7qdR4Z6n3gfUFrVcRRfDmUsCZyD0oHAB5iq9pKavzlb9OlVcGv16/i7839OMRxh1MdYb92OVgaBzCMYVtYIhEUkgmFv5sYbb1zdcMMNZQ50H3eABL73d9555+KD7MM3uwlfBTYSIpADAkCHTwNg122LHgi/awuZdz36Y49rr722VFIkOUndZ6pRABUw0y+9XnPNNWURBqgtloFvXcQCQgojLMjgiDi88sory/9Ip0TdpLSVzEtKSIpEhgj68iH/H0ngpUWAxLreeuuVX2OQ6MSRBrMRGjEklpBNCwYJEWlRsBEbFtRexQw7IS0WYCMRp4kKPGwLmeevsEf+46NHH310wZPRSBSE2IE/+cKo7y+ZH58T075cR8fyi4WtGOKL4kwc0IHvOCHxxoC8KaSxlQW1vpoQ12kLmWcTuKQgc8IJJ5SiI84ynNCV6i6sQtLZkJ75f71Ip2+45jP+76nD8Fjusch1l0v8wD25ysJYHPkFGXFCT01gtGtMJpmnDz7JBviFPGqR6cc16OPJJ58s46uLPMuHjM+imB3kDfkFLtV1xx5sLF58N+OQQw4p51kwwQZ5xiIurqXQYGGgP3HDVhMVvjDQZN5tE4nbz136KUM/ByYAkN+6IE8U6XYVkEGq1l9//ULorZYke82YKCUIOVIL5Ky6NEpnRMdo/vY5wwNRydRx+nFuPVCiPzpxvPOc7z19eV8bikgbE2c0bl8e8a1wCxNAK6CBrRW4OSIl9eu5loqxFnOMz+tz8FqfQ10X/vY5B7dIMl/naHHcRGUQyDzfMk4rbmPiNwIVmVc9BMJ0SNcSBz0CTkEmyBFHgd8pdIz8HHrooSUBAl59Iy/eQx7Zlm3aIm0h864DNJFu/hOVJ37Jx8NvJVG2czx/5VeA2hyQdgu1ujhPn/YhSoAWCDAAUfSeihn7NCltJfN0CncsVvm5x4vT13DCBmKI37ujiMz7hYsg8+ak8KKi6Rg29B7iIrkiyxIoG7qeBRm/kzDFkPcQiH76IfxsC5kPv6Y7pIN/8tWRxHnwSqUQPsmjYtpiiH0smPSjqMDfxQVCJI/DJTmerS2MTzvttKIPdhCDYouNbGvozMv9EjZpC5mnWzFr4aPoCDdGIvMInsWSRayCgbiWxyMXh8AidpB/LII9awJ5j7uRQfKRPHlI05/dC7gDe/Qib48kxmz8k0XmXdciim8j0HzTDg2+KkZwRj5dF7rhs+5GWcTSIZ8KO4SYG39zDVyFnylkWCzwf3glLlzfohZXE2dwzfUttNw1nqjIdQNL5imRI1OchxEgf5IIsOlc6TCeAEHqVRGc48f2jcttXWAjWSPLjCz4kFUVCKBoZQWUVC30j4whc/XVHofwyqCOA6j1cQSpQBoca8tP3DZDKgS4AAOc3QLMfDkM5/MN/ZVWWqlU6gUn4qcvyUxfrgsA9IlYAWWLmZiHFT6dADbzUelSydEHIuQ4yRVAI+4IZKzyLX70pR8gYs70RB8TBQY6azuZF7h0x7fpmA/Sh5U2woEQ+sx42cGxdIdw0LFVOVCoC73xN8BmZU/P/MB7At+5CI2E2lRCHI20gcyLKzqnV6RW9Uv8iQuxrOrrc/agO+Mikp04AH7sojBA3yHG7lhxKvmJ87gtKk5VIIE0LGtS2krmiaQEE3z5EzbR/3ACW+ChqqEYsvURNiPzCIm4sXWS7lXYxROssT1KckSOJFokE367ZS6vuHuC7G+xxRYlqTqPn/RD2kTmCb+V58SgWIDpw4nxI/L0Kp/Rm4r+VlttVYgP3ZmHoplY52fwTbwgIgizc9iPrcSLfOEYd06QIQs8fct1TUibyDxB4GA7H7GlT8FnOIFZ8jA/Fw/udtE1u9ZJpxiBRWzs7rDdCXI3jiMviSMYpYDJ/zV+oV/2kFeRwH4Ln+QPk0XmFTltp4QRsDO4nQU//Vo01bGfyA/4E5zn1/TrOAW1uh87Dt7IJeyg8MbG5oXP4ATmjLiLHTlIbsfjNDEFPyYqA03mESBgr0IdIGrlxQCdqyzOZLIBQoLcr0FYyRoP5at4A3/EltIlJsFA4ZK5Pc9Wv27NmBMAtMpGZOy9twKmSL/sYUsFklxfcQWZtzrjGH7Ozx0CCUglSZ+uBziHSjwSueSEMC255JLltpq+AKktNirAruF8oAUQOJEKlQCWYI2XE/ucE6omW9h87GMfK8cAY4mIzYCPPoEDguRcx9CBOfpmOkfn4AjTUOMerQwCmQ/hT4IaUEhYdIKY8OsgsY7hb1EhYV/67KyuO47+zN33IRAi5IUt+TMb6R9QO64t0gYyL3FLfnzaz2KKB4tXBIMe+S2d85/6YtOCHA6JWcezGzuEOBbwIo2qxWyjUuN67Kx/MSPGmpTJJPN0Ejiq+buuU+ScXvi6work3U3gBH3Tp0WXRAgX4RNiLk74P2yEL/we3tK9eIDzMAqu+S6UBCpG9MfOSI4FMR3py7nG2w8xpjaReQKXLG7lp+G22YhPRRjkUuEGwQvSue222xYy73M2ol++rijGfkiMQpfcJ0ZU6NnKcfrVkE9kCHZZDPR7y1NI28g8HqDSLk8g5iOReXrjO3SHe7hTwueN38JAXhDriguwIApydhrwd/1bIMvlOIu/Q9jZGNwpcBxd9Vv4gvjrN5l3Hb5Zxyf/K57avaEgZgz0x4/5Mw7mfYvWusjRcET8yBH8HFe00LU4gjPGrR82kBMUL6LIgKfhTXgdTqg4isdYNOBd/ldIdrw+JirmOrBkPgZve4Mfydc30KDAbsQvAEYwCHIEFnEyeQlfpXuxxRYrJBU5pWDOhuC7JaJSseGGG5ZXiQKYWe15fC4CI4EhNhYJHhnNgerg5doSn8ACsh717Ty6ELiuiVRwtnqCrAt9Ii4IulvSs846a3mimjlIiJKW6xArc4sUixD7Hy1KrNIZ2litTCU/IMzwHjvOUYGOKrMntHF0QI6wAhVPFbO6VSEGjvRnUSIR03lce7wyKGTePAW7RRjd77TTTqWiLoD5Vyxq+Di7CFw+EXvpOm+rAVQkDRFaZZVVyiuCYM4CH0DzbRXkJPPvFuAIY/g6P1cFBKz8lm0kOHqj37oPwQ4EI/Zfi7n6eOELQiAWkHlVF5gQhBJm+M3kkSqfvZbJIvN0Y+6uYZGjiQGJMfSGzMPGkci8c/g33LMIU6kSS8i8BIe8wzmxA3thqeuyCcyCf/BIJR/pdJ67q+zDxsiQcYgl5NKCul+kRb9tI/Mq4mJiJDJPn8itqi9CyK/lJzqDZ4pE8EZesjB2HCyGb+yPzCOLFmBswg/FVAg7iC+ExflycxPCJoNM5uV5/s6v8AI4hkzKx7DNHMS7qq+GdIoZORwu+QwGy52wC/kMEZNyCdzSVxN5FT6Yk2v3i8y7Bn+WDwKf6BBJpxs5yuIIzpgzruHadCo/d5J5+SD8iL3sSIAz+B08gsP82+JIfoFLmjzkTrriKlwTI/ISnhULMdgmLuCk/OL/iUrwYb4ycGQeoKjcWPUYPGJr9UrxFDaUCCy3gZFgCwFKlviN0fYV1Wb/M7q+GU9CkZziVzA4gcSlKoTMuzsgQACnRYKKv6BCqDtF4AFHydhxbhO7fSO4AKrP66SiU4CrqouFxIwzzljGrVoeldwQCcw86ERASy4SHz1JhHSHKHIqxBnpMQeBj7BPN9105RqIO7Jj7n5H3KLAbW/AQTcWP4I0COxEZJDIPF0HIKgM0p8glgxjrPzf2NmWr9AnMGfjujjOQkwi9GRPRMQx+gEI/pcs+VSS+XeL67ABvxS7SJ3YFHsIBH3SncRVvyMChOlTdUblvlP4swW7+GE3/QJdNlER07dF3LRQmWdHeG3+cdeDT8I7uuC/ZLRknl7pXz9RiadPhRNVSLZ0LjyEvUil5Ow6CKftI2LOZ+6O+FvssLm4FDv6s4CeFivzoyHzyAqiYosm3EI0VeLlIraTV+QD+MP3LboUdegWcYBDyL3YcB3VSF98FlMhyI78Kp8gVNNqZR6JQ+ZVykdD5omYgzVsKQ7keAsnc5D/xY7ChVwsJsXcUkstVV7Z0fXYhH3YOERfMA1uiSW66reYi/jrJ5mnK9hofnKS+KcXBJcPWpx6xW9ghIWlvAw7u5H5EHEibyDqCL27T8i8fsUYO/AzOAOD4lcS6VgeROqReTyL75lrFCScl5X5/yscRBJWHfPkPWTCLXbVnPr+J8cxiMlK0AIL0CJfAjz2MSPhiy++eEkOjGz/ucozwq2iLUk5zkpY0uA4ggvxNCfVDMZTvVflH4rMGxuA5NTOlZSBILAElCMFl88lTU6AzCMr/javurgOMEXoAYE52Eo022yzFTJvsWJ8HBxxlkg5JqDxHjJvfpKB7UzAfuWVVy5ALwFLlKrynEeVvxcyCGSeP2mEP/FjPsSfAINABwz14wQr3QIvd0rYvy76QUrpeqONNipAxDb6RpbcBhT8wAQRaou0hczzcRUOQCqJhe6Ngz6RQ38jIN6nb7EMgMVBZ+wQxwFxREfsRAVZIkBExYj4cDemSZkMMg8/+Z0qIf+lU/4uaYnXwPLRknn6hrGwg81sl/G69NJLl1xhkUSv5omws5NzYADMdwcRBiGRzpUU4RMcMhZFCiTHGJEW8cjm/ZBBJfP0AW9tt+Dfcpgxs69Czbzzzlt0y+ZsZUGFHMEleZ09bMtxjFiQ//QBu/TNZ+Qf1VCfu47/m5C2kfmxVuZhD/15jf/FAP0ijGJMRZnd5BTvi0n5Uh5nd/Fj8eAzZF5/GhwUOxZmthr2a5FbF+PvN5mH1eIfX+C/irUKaHiYajl8sbjxHQPXg+U+g53e7yTzxlxvxGJUfqdbTd5XjMVB9QMP8SK8UVFCzFgI280hh+MB8pVxOg9OIvmdxb3xyECTeUIJSA7lCVhABLzt8yOMILAlcYoUVCrWvvRgm4oVE5LFwSXHhRdeuBgG8FjBSQa2wzCM9yRSDZDZl+h6iyyySDGiAAN8CLMFQNwq7hRAZwxWg+4MqHYHafa+gBtO6BRQcdAg8/7uJCSAk+MBaM4kuZpHkHkk0fiALeJMF4iZ1XqQefOzstSX4FeFBwQqLZyRMyNDxtMLGQQyT/8WSl7ZShCxHV2pZPElwGC8fJy9jV9QW1RZcHbebuan+lFVYBvE0aJU4COO7iQhC/yrXl2ebGkDmUeu3WVSUZQo6Nm16d44+D4fj8q8z2KRK0FKaENhkff1pxIsJmAC2yI3Yg5wsk+TMhlknh35/Ggr80jUcGSeHZByt6DFuz4lO9ipQACf7T+lb76vAikeLCgkQhjE7+QRsQJLxZXrsa9jYRPCwz5iq1++2EYyj7C69nBknj7kRaTGMWyg0aXf+7ewcn5svXEM3GcTceE8hAY+s0N85wExEl9sJbYQSgSUfzZ1V3GQyTy78GG6Mg/5Q3whvfKLIiMbyMdwSPyIR7wKf1EYlPfFidwtLtjPnS19es+dLP5BR/rvt5iTOTRRmUfWYYPGn/ETnFDBU2GGz8Jw+EKfikAwXh6pi/HCKWPzNz0h8+56wBT4BWfiB1Jci6/bpYFnIeoKRvQMn+Gb89wlVBwVK+KJX3Ryt/HIwJN5zojgcE5fCPUlB0kWcCDGFIcgcmyOxBiIFcLkm99ICBBmYKQYMbcVRaAAMeRVNTq2PlgQqHoABP363DlWfQgDwm+RgMyrUAwVtILVuAG+rT2RvEaquiKPHNEcVBsRKCtBfxuP4A8xfoHsS4HmQEe22/hZSzYACvErK7beSKJ0YRXPyWeaaaYyPyBuvmy24447lkqZZOoYwKBSY/HUi2Q5CGQeKPKj2CPnb2CB8CGIbA4EjBnRoR86tUrnQ175Jh9wDCLgJ/3YDsmPXwsCcgCDT7Ej4NZ3J+hMprSBzAMx+owqoQohck937MHv6ZAP8yHA6e5a6Nn/MU54ZdxIKRv6H0A6TgWFTZAYdkRa2L2pfcAhk0Xm6ZnvI2gq35piCoyNqp+xSWhINIyRyLzvfIsBn8M4eOE8vi+G9BXFAtsCYBI9WzyosMdWAskTbvncFg9jkax9ZhsgPGJ3fSE0bNxv+7SJzNMzfctTfB+ZRaTpnv34M0IHb8RMEDx6hFPypFyIxFtY0btYMD8xjfiIJcfRsdwg7sKGYsSil38ikMgLoonw6Kcp7GoTmWcTurZdNYpgsQCOuKAbTVywk7iCUWKaXfzPl+CPfMN+Fkz+FifIvb7tCLBYcK4FhLyjyCFWHKPJrziS4gZ7GEO/xTXMt59kHtkOjInczK/hDH8VD3ShgIMbwQqFYPFBL3IDn8Hv9MMW9AtP2EtMeTVe54fN2CH8H6dD0sW+AgTbsJ98IU9aNMArsaSwB6OcJ+dMVAaezDOgpOsawNwtpqjEUTrnATiUCFAol/KsXiVDt6YAFwKAsCORgh5AqbyrUjgGAeaE+vUZsoBYuY3jHCRXP4zm9g7yjOwyXDehFwEOGCUwSYcTjkRYnYd8qOBKmL6Q6lociCHrlQ/XVi22sLB9SMJXcZlzzjnL3QdOzA6MP9dccxUyDxCANEczZ/MzNs7KOX1B2HYkOrIdCcm0KuXobDFRYBgEMg8gAINx2Rcn4dGl94xfYAIFSZEeHaciowliwQ9E6cxtPuDCp5wDRMIvrOQRRj7HrwCSmJGs2yJtIPOuEQlQ1QSpkqzoLwBUzDvGsQAaORfzsAHYRz+IJvIncTqHruEL3FABZgtkxSsijxj0AsfGIpNB5gn90AcMQpY0f0dlz9/8n+5hmqKIqpO4dR5CCFsQcn/TW70vOlbNEjMwR18SqveRdfgKj9mU3djH+fqRcOGTeBFvsfASS2Kqn2LsbSHzYR9kjp/CaAsf4xOPyLs8IRfSD+LCfmEHhSI4A8/YUAHB52Effq8/dkAaxZsYiL4ReHiG9MNGdkBi9dmL/DBaMd62kHnzljMscuVpd/HhI32xl9ymmmyRSk/iBZ/h7/TIn/k/3cod/BmWaeH/5grn4DDbiR05BoeJSrX+2MziCrkXG03Zw3WMtZ9kntAnvbC/5pr0X8+r4jRwnC7onC3oy/jomk00OMvf3R20ELAAoE8+pF+tfj3FB8frW/4XX2KD/c1T3IgJ9pCD4JbzjHuiYhwDTeYJR6FcBBc5AupAyHUlDtUBKy+KlggZ1eeCS/UckXKM/xlCH8irJO48ST9uHzKmFS1D60cAMVAQMmNgdM7itqPjQoyT8RnXqllgqsa7rutwOJ8PJwyGcFgZmgPDcRzJDQmR/EIAuMC2+nSc440XATcnczYXga2q7La0MavWS8Kq/Y6XGByHjLqb4TaSbUEqaBYHAhKR5bjsPREZBDLPdlboiAmdCnhBhJyzLRtJihZ8EpmgtmKnR/MIO/ub3egVqPBh55qnxOkcdkAI6B9gNwW+o5U2kPkQ8SrGxSB/pDt/I331O16qKeylakXPbEWMVR8SoBgQPxGzdM+eMEW/Yse1YFgvgHgsMllkfiThu3SLKMIdeCJRwgR6VE0UA+yhINGJFeLKuTCIv7OZROdV0oNTYi4WWlG40LcFWd0+/E+xRSyNhKkTFWNsG5nnm/BDLuMr9M1XxaTcxvcRF/aqC12xA/+HXeKDfkPH8in7wDT24HP6dR49sLFzfR64F1XMJsVY2kTm6Z9v0ikSRyewhr3ojB7pDeljP/4d+cUrIi9fwKpOf9YHPxdr7K0f5NRx7C0vBybqC9eIvpoS/mNe/SbzQwkduQa9IuMwgj3kcX5ibBp/tzUGxvJZGOJYnIQv0y3eRq/dBCbJDebpWvAYLjre/3AJT4QLfMC1eyWuM/BkPoTDILOclxGAliqc4PU+g3JwKzAJgrEAFAP4n2Lj/7j9REH+R5T1h7AxkODRBI1+nFvvR/O3fkLi2iqIwFTl3KtAQyBGI/XxG6sW8zDH+vWMz2cSDT3EGAWy6/nMOVrM23z8H/rxP7AxTtVhtrMYQP5VDVTufdnEQsd8JmrTQSDzfAIQ0gtfA9R1YOQ3fI2fAIXQdecK3HmCXmXf4s8cA6jZMXTPHm2VNpH5ENelW834OscQ4MpX2aT+uf8l2Tg3hN18JkbgiQXZZMyNtJXM05EYhR0IoRbkg678LRbgEP3VY4E4jl0cx/8jFkjdLmzQeW6IWHGM16bwwtjaQubpmX/zA5hDF/RNp943VlivEMUW7NApjqN/fdBhp5/TbeBSNx2HD7iOV/01LeZp3m0g8xEXxhNxQbfGGHHBTnRKX44P/Gcn8e7v4fxZPz5nk4idsJvX8IeIvabFGCaTzIfwRTjCB+iUro1NozM6kofhkPHSqffkea9sNZzog34159ZxKjCM/YfDsPGKuU01ZJ64nn45rxZJ2/t1o1EsZXvVfB5/a6Fox/tfP9GfY32u+bveT735rDMhCVa35wG9L2S4nWy1B/hGI/XxR4vrx7hC/O0zjmXccbz/6cRnzqnPIf6Pfv1tbFaz7j7YuuA2FDKhMqPCz3lUYVSDnDcRGQQyzwaR8EKPnQmr2zHs4f0QelVNVOlSDRDg8Tkb073zvbZVxETbyDy903f4b6eEbei4Hi/E/2G3+rnO8Rn/Zs96XDctbSXzdR2F/ukyfMDfdOdz+uv0jbBL2Kb+edhFn87vPDekHjOdtu2XGE9byDwJPdIVXRif/70f9glc6ubHjvO+c7rpcCQdxzVGslU/xXXbQubreq/HReiubis6jeNDz8Ppui5xTrfY8n7Yo5vN+y3GYwyTTeaNg75dz3jqevI3HeFHYR/Ne44Puw0n+qBfzbn1/v0ftu5HXOh7qiLzbRa6sHK2VSfIvNtubtuMtOKbTEHK3OZG0CxEEE+Veo6D5CMWbk9ZcY7k7CPJIJD5XolVuvm6a4IMAO1BkzaS+ald2krmp1WRmNtE5lPaReZT2kPmp2ZJMt+gcGirMwTOXnmO7ZvO/Vil9VIiEJGI2JfKfirKSL4KM1ua20RlWiLz9EWvmkAcROKbZL55STLfLkky3z5JMt8uCQ6RZL5/kmR+EgTJsT9Os29rUAgPe6m+I9a+O2Dvv31kgLMXRJ5MS2R+apAk881Lkvl2SZL59kmS+XZJkvn+S5L5lFZJkvnBkiTzzUuS+XZJkvn2SZL5dkmS+f5LkvmUVkmS+cGSJPPNS5L5dkmS+fZJkvl2SZL5/kuS+ZRWSZL5wZIk881Lkvl2SZL59kmS+XZJkvn+S5L5lFZJkvnBkiTzzUuS+XZJkvn2SZL5dkmS+f5LkvmUVkmS+cGSJPPNS5L5dkmS+fZJkvl2SZL5/sukkPl99923PNI2DZjSKUi7B2ktscQSU8i8p8tKlknm2yfI46WXXjqFzM8zzzyFzIt5z05IMt978StYfhZ2jTXWmELmDzjggPIzsUnmmxfE0bNCLrjggmq++eabQuYPP/zwJPOTJHiHBzQeccQR7yLzeEeS+ckRNnnkkUfeQ+bvueee5II9EGT+iSeeKE/nb4TMzz777NX+++9ffe1rX0sDprxHPDbZE2aXXHLJQubnnnvu6vzzzy+PHpc0U9olyONll11WbbbZZoXEIPOIvYeJWXwlme+9+HlYJHHNNdecQuYPPvjg6sUXXywPIktpVuQ4BPHiiy+eQua9HnnkkSUOUpoXT+BUTDj66KOrhRZaqJD5rbfeurrvvvvKna2U5kUuUDnefvvtywILF8zCbu8EmX/qqafKw0jxpkYq83vvvXd5CqrfKJd8EIJs2fjCyy+/XF111VXV4osvPqUyf8YZZ5T33TZNf2lX+8UvflG2F6jGxzabjTbaqAC0+O52TrbxN/7v+Q5f/vKXq9VWW20KmZcUJUpEJWOk2QaXPPzPdkAVeXEw77zzVoccckh17733FnukTZptqvKw6bDDDitVYGR+8803r+66667yjJS0R/PNM3U8Pd6iasEFFyxccM8996xuv/328uDJtMnEGp9/8MEHq2OPPbaZyvyss85a7bDDDtWVV15ZAFBi8jj7bNN2e+2114ovcEZJceGFFy4APOecc1ZHHXVUqXDxF8d1Oz9b840tbO046aSTqnXWWacsvj7wgQ9Ua621VnXddddVzz33XNqrx02MPP7449U111xTrbjiilPI/M4771wIPp0npjbX+DdcglvHHXdcWczGHcW99tqruuGGG8r3gDIOmm2KP55WbhuHuyQzzzxzteGGG1ZXXHFF9eijj2aMTEJjk1tuuaXaZJNNik1wQVX6yy+/PLngBBt8sUi98847qwMPPLDwpr6SebdVZppppmqxxRYrgbX77ruXldkee+yRbRpv/EDy22677QoZ5CszzDBDSYwrr7xy2WeX/tKuxha77LJLqRAD5xlnnLFUJVUnN9544/KZY9JmvWtiZMcddyx3P1Rfgsz7wviWW245Refdzs3W+0bXcAk+yXG22IgDr0sttVQhLu5Ep02abbvttlu10047VUsvvXQ122yzlVyywAILFN6hmJj2aL6xiS2Y7pQg8sEFN9hgg/J52mT8LXTn7tPyyy9feNMcc8xRrbrqquVuyFAyLjJvhYCgSTwCS9UV4GkIQLZsfIETqqJMN910xVe8Cnrvdzsn2+Q39hLTYa/pp5++vOezjO/etnqM0HOQeQQyY2TyGt3DqTpusUnkuW7nZOt/Y4OwSfCObsdla6bRPzt02kSMZJxMvNVxSHXeL571lcy7kESULVu3FoEeLf2l3Y196jZLezXTUuftanV71G2CsHQem62ZljHSvpY26W8L/faNzMc2G8DmFy+WWWaZss923XXXLa/ZsvEFt4VsGbBK55hWmfbPe3/ttddOf2lZ84sqiy66aLmlx14qxv5edtlly2fdzsk2/sb/bWuCn76DFEnRFy5XWmmlovOMkWYbXIJPiyyySKkyigOvtp4tt9xy1XrrrZc2abixCSIz//zzl2olm8w111wlbsRP2qP5xia2gPheFZu4a4IL2grl87TJxJvvUflyMd4kD/P1vpB5ycetAEb1TX9fgvVFLq/Zpu3mF2z4wllnnVX2mApyDsln7KP3vi8vXX311V3Pz9Z8Y7NLLrmk7NMGyIi8Bbu//YqEn+pzTLdzs429RYyce+65BT8tcoPMS4QeFsIeGSPNNTbxBT745LsMvnQmDt7//veX7zX4nXNfBk+bNNv8XG78yhYSjzgikn7CVfykPZpvbOLnWhUd2AQX9P04NvF52mT8DQ5pfslmiy22KN8T6due+fqv2fhiigG88MIL5Ru4r7zySrZpvL366qvFF/wqBLCNX7MR9Mccc0z18MMPVy+99FI5rtv52ZpvbPHMM8+UX7NBJlVbfCnTYt2veIhvx6TNetMiRvyajackS4pB5nfdddfyc6CeApv6bq7RNVzyZEuLqfg1G69+SUUc+LWJtElzja79copY8LR51XkLLIsrhNGDixyTNmmmha79Ys1tt91WbbrpplN+zcaXkS2GI1d0Oz/byI3u+Lxfs7E4qv+aTd/IvMpdGx8a5YEGf/3rX9/zkJt4v/OzoY5voxgnO7z99tvlQT7+9l4bpdtDo1RYPJRlWnxoFP9qs4/5fdtuD42yKJush0b1U2dtsIeHRj3wwANT7UOjQsfj0fNk2Aee+k1zd0WQFHHgddAfGjURO0y2TGsPjRoEGxmjZ2Eg8JP90Kh++PVo++zHtcmkPDSqbU/9oljBjyxSSIj3jR8p0RwT4u/O99oo5oDEe6CAp6gixb/73e/Ke22UH//4x9X1119fLbHEElMqveecc071k5/8pOh7UIUdui0Kh5Pwy7YuvAgyf+mllxYC77YpMu/WtpiXTEc7114KfYnjka7tcy1sMpqxOnayF8Ovv/56df/991drrLHGFDJ/wAEHlN/8Z4/JltDlaPTZTfh8Nx2Ppl/nOH+81x6PyBs//elPqwsuuGAKmffzrIcffnh5Uu9kynj1EH4ujjr1OZINQkZ7XD/E2OU825wQR2T+Ix/5SOEdcuDUJHTMXpOl69EKm7grYtssm+CC7l7dc889jXJBeuLXvcZwcTKavOM4rdfi2k888UR1wgknNPPQKM2tr6985SutIfMU+9ZbbxUi+dhjj1V33HFHcTDVRSTyV7/6VQFrVRZPrv36179ebuF58l+/CWY4XiegjkYcz2FVjTwoQwX12muvLbe0AF0bxQNWbCHwJdgg8x4ixTZtIfN0ajFkywNwcpdJ0rYq5hN1kDBmtxdVUj19UGXIcUORrrCZOxR8zINP4uFLbay6msfnP//5KWTe9gJk/hvf+Eb1pz/9acw+O15xHfphE6T2ySefLE21WvK2sAhhI9uDjPHuu+8uT+l8/vnnh12cwwe+yRb6FUP6FZtNi8oiDPIFvyDzn/jEJ4q/TCaZp38FA7p5+umni47pCM4PlzjZjk3o17m2pbj7IMY8NTJsBXvZSxzBaFvvPGiGbVzb3+wjZviAsYwHN8cqyLw84Q4iEh9k/pOf/GTjZN5Y6Mytd4ldo1N4Uo+BbkJXbCXXxa17T3EWF2KZXTyYjP6jIcfmGLpmB7oQI67NdrD7zTfffOcqzQg98KlPfepT7yLzeEfTZJ5eFNDEBOy3LWs4ffBXn9ObSraF+5e+9KXi0/rBqUIs7GEcnw+/Z7MglWKIHlyTPdiFbcVXk/nUWIzbdjTPZPBb80Hmza0JLsgOuBBdRF6FGUMVnYwXntIpvOXvcj0uhROGiDd5J3IDTuAa9E7HsE9fcNsx/EC+EWe9zOlszl9s95tmyTwlCJKHHnqoOu2008rtaz++70t8sVfbPtVDDz207A32RScEBmj1k7BwAqAksDmc/8dyLcdyYEn+oosuKnuZARpwaGt1YhDIPJt4/LT9accff3zZr7zffvtVZ5xxRgl846R79hLQ7jTYBuGLKfvss0+p4PGdbhIJ1T43t+0RBF/8RWToYDhSNBnSFjJPb3zHFi13Cs4///zq7LPPLt/NgT/IDDEe5MbncGirrbYq9rOXVpyxbafoW7xIOvpjP8dboJlj0zZpI5mnV/rnt76IRUcwB6YiHN30SpznM8kNUaRXBNEC2FwQSDEgbvgYe4kjOKzqquhCH2JDPNp/y7Z8EslE9Pu94DL+tpB5Pkx34uD000+vzjzzzGKPwPyh4tH7dIXsiF17m+VoffFx79MvIkb/HlBma50qK+xT+IJbig4Wx7BQ4wP+R3aGunY/hE3aQublA/uZzzvvvPJFaT6ORHYTOoInPqe3U089tfwgBH3TJewKXHUcXqI/ffuumR8dsGBAEuEWHchJvoTNH2Ai30DscZ6mxHgnk8zTFQ4Fj+gCPsEKBF1u6IYRdMif40ce+Lvve9q6RX/6pGOLo1tvvbX8OAEMQKYVTeGxoilf9IpLyk3s6FgYzs766UVsJJn/v0KZgEwlAnEExKusssqUW9dWuozK8QCDp1tKFpyj7gQRYOMxjHM6z1PtYBwOF84zVN/e51iOCYk+rRRPPPHEkgA9JQwgTGYFbzgZBDIfK3ErdGQCmB500EElyUmCUaXiNyoAABaQAo/bb7+9AMpQd0YkTSTRcR597Viv7KcqgDQMRYwmQ9pA5sWgSgkSKPEZD9uImwsvvLAkdEDKJsbks1NOOaWQPuT8pptuKvHFvxxTF/+zNeAFwirCcZcLMCMxTZODtpF5/igmYLpYtfBEHt2FkuRU09mnU7fEohjGOpe9kBMJDilVVfS3+JIkY2GL4GyzzTbFhvzM+a5lYc2WYkb8sJXc02/7tIXMizWLnxtvvLEQFrpgB/aAQfyDTus5gsjR9A2rYI3jYRAsrtuBzyGj5inG/r/27jTmlqrKG3gYv8ANhCEEwpBc5dIMl5kEwihTCKBhaIbLKBACKpNN4HIRWgYHoBnCFGYkiqKomKYFNSFMLdggEhWZoT90pwcx3ZpOd/xiUi+/HdfzFsfzDPc+p+rsc+9ayc55njpVu6rW8F//vfY+VexwxRVXNMuWLSskDe4pXCA/roFNEVLEhk0G82WXUhOZd88wJIiegqEC4TBhGzjke/qG+QZjCon8HRE3OEY02ScKDPxM/FiSKn/CJWRdrucHBmJhD74BFw3UXFsfGO0c4yTzMBNuI9GaFRiwyQBIESF0EeJ66Znf2p+vW77i954KvY5VWccZXb/v9KNfdnCMHMGOsIHu2QWWsVUMeMMfxdh8xfWv8mSeuE7Gk+CRSK/iRuaNuigaMVPB88gxFW6GCqFEyYxRgCniKXkBlJkCxXcCF+hwDAHvk+OZBuMkAtgMAZAdRub9DyQlRed3vPNzoJhuQ3JUtrxafOnSpeU+3W+NMilk3uDOtbKZaTPBjsR6eoXt9K4aw250jowDZ9Ns7Dt4L+zIvqoqghwYBBFxHB8wGDAwY+9apAYyz5f5O9JgVo2/mHpGSJAYVRVJkc7th+SJB+TcddpXrAyLL8fQP1xgF/uLTaRFUlbhQYL6lNrIvHiI2Q6PzKR3OAg7+QbfR7j5Qwhdw3/LMJARDeGQVA102UEMuVfVfkscY3mTpHneeecVkiN5wTd2htf+Rirtzx/gJ/sYSHTlizWQ+SCBBqWeLoXAGRjBTfqjh6jOu9628Bn2cYwfzyGMdGY7G4gv1Uu2Ylt2gFMIDUwyqEVi4KCqpcKFcyM6fFKcKXLAxbYPdCk1kXl+xz/4ONLn8YHywDDhpzF4omc6Y1NxpPouLyj4sAdCiBzCIvvTv8EuXELW4RrcY1O2Zw9xyc5+nC2XsDHf6VrogB+Ni8zTjUGmmSoDTfwMltOVARDcaOdkOoE9yDzd+Z4u5RYVenYQI7aJe/irYMTnYBibyNlwGhaxu/PAONxBvPienehkFLMkYjXJ/IdCERI65SKRnkkLjJE1Rqbs008/vTy70yOuJJIQ1QuBB7AEHKdxfwi2fqcTgcthjKL1hyz4VFXiPCeffHJ5RCOCwmGGkQ19CFIOo0oclRFBzQmBJxBRldefQYhRfVeJbb4yCWSezl2LhIFYI3fszX6CCblhK0EqiPmLSiLdS5piYlD/9gfiiIp9JUj7shXfMj2q8TH91yI1kHkxZoAqSSG44lY1mE0Mrgy0JETXCnCBnZdaSSQIH/I3LE5dO/si7MgjUsIWZvGQGuTVj/mdp0+pjcyLWQkSkaN7hJsvs7/KlyKIhK3QEOJ7hESsH3/88SXG7SN5inUxJibEin40evdpSQ5bsKV92QE5QVjFn30QGRhoWQ5cdKz+upAayDw9wSEzFAis+JOz6Bnxpl+6pl+Y0hbXTldIH7ySfxyD9PJ/ceAeQ/8+nUsF0r6Iu7gQBwbJbM4PnZt95FSDLeSzLyJdE5knyCP/5iP8lH9OJ219+xTvcokcD8fwDeTUTBRskjNwFxiIJNpuYBszMrBBVVrO0vACMyqIKNvPxFFGJe5pnGSejszaygX8kB/Lr/gWUg1P6Ju4VvhjHwMnfsSfxQ39sh9MkQMcZ3Bm5oRtghuIDasgfM//3TN+wG7i0mCODdhKrmeH+Qo7Jpn/UCgiyDxS4tGIZ555ZqlqmCoBVh5t5fmdyIqRGaMLIEY11eh56IBMJcoIENCpztqvLQIU0ZeMjNQQNOs/jz322FLZQtoQE89j3XLLLYtT2G+QzAMIDmRfTmkAwGE4jsSqwiLRAmkzDZ6ugAQA2VplEsg8CXAS7BK2AZQgEkyCnq34TVRB+Lx18wi9isggIed/KpJIkZkfAW4gyVbIi+PYFvkcxSh+VFIDmadr56J7ZISeJTMxKZlJXogjsKZL08xIhylT+/gfeRGXbcLnb4kTeMMCMY+o8kP7s5EBsqTZp9RG5vk5zJIUJSh+S3d8WuzCNX5rvxDXCbsUP+CVpCfhiheJUIEDtkqOIfozIEAI2Mz9Imbijr3FIPuKGZVKVWMvpTGgEzOO70L4zbjJvHtWdTXrJIcg7fBJ/NGTqiAdI05t7LEPYqlCqSH1iIr8TMfsAOPaudox9G5funXvqpTyDZxjB/Z3bnFnsGV5TlSQ+xA2qYnMR8GHDeh5JjIfwl/xBP4ea93xELFjGwwTXwZwcge74hsIotlI55L77QcbQ9jUdnEmJumqa4l8OS4yb4bcwB4vc//iRREU91Kood/2jDf/db2uix3873t65Mv6QMjhGu7mcZvyjBzjOLq1vl7ONoDA5cQg/9cPvZvBMmvPH8TufMV1Jpn/UCgiyDww9mxaxjeNxdmQLK/lVpkPMi/RUJ5k75X2nFQyokz3qJKP0NMBZwhBEIwKJT7ACxRVr7wERpXKoED/fvRi7b7vBwcF/hbYHEISFZxIomO9ztePkoCxbUiLF2dwJiDSVVIbhUwSmRe47Ci42fu0004rwIo4sDc7m1JTUZHoVdyRP4M9wdu2J0BF0tharCAikqR7Znu2BAxmWZLMDxfJW0xI4GbWzGhJbCrvbMXv6Q6QqkoBWTYzSFfhYq92YrO/PvVhQG1ZAaJqH6QeNvgxvBjvU8ZF5tkS5kmEsFvjn4icQZHqFDySsOwrBsQuEoXgqUqFwFqkUSITO3CTz8Bf+Knahew7R/iQvyVRiVkTF4imIoU+EEsJ2jUh/WIo8NN+XZEW/Y6bzAcWIcx+vwP3QyyPYQcNIQz8oFcxKmbkIgNfWKWABWdgFcyJ5QMhjpFH5BxFBj6nD/FgUNWetWYHBa7Yl336EDapicwrvBmswhm4Mxcyz48t2aC3gw46qMQEwui+2AlZRE7xK0ReEUm+ET9+mCzPIItmD9tkHqFmV0SWb/SRV/la12Q+MCdIuAar/C9/ylGKB3DFPcMp50bm6bFN5geFP/EbGAWz6M1Ay//ssv/++xf84e/iCz4h+GzN9y3NgW0KFK7JEkRxYSAgv/h/vpJk/s/SJvNICTKJjEuakiRAQ67blXnHIPkI+MYbb9ycccYZBdR8B1B33333EjT6bQdMEAHBaASNDKkmAk8jPYlNUlTR0gRAO0lzWP3ZTxVXIlclNN2pIm8ggrjTu4AVPJKLvgerXbXJJJF51yOJA2k2QBxivajv+L7Epyoj0aqaGWwZwBnV+z7E3/bjF3vttVchInHPgF9y1bdEmWT+o+IcYpEtgDNSglxKaJKF2Ah90yfSjhCLazFkP4CKaPguRJyoeKn2i21k3j6AHZiz0apC5ulYEqJjhIKeNRVgMxP8Gnltk3k2UfFCouhKDIQgN7AJTkl2pq8Rbr6OfCMglkqp7OpHf+6NvWC0mHMex5j5UrxAZCVFNoYj7C6ZiSnna8fbKKUWMi+v0A98sawihK+yAyLDV+PH9/IIzDFA4uPwyf90Jd8hgrbLZ+0lUnCJ/yGLSBJ9G6jBJn4Iq0KCzCM1vjcY7kNWBjLP7+VrhQcDZbwJTiHsbKYQwa5B5mEX/zcww0nEIqI5SObFrAIkX4CLdNW1iF/x1yWZdx8INl9UGdfkIXEBM/A3MRpkPmay+OxMZN61062YgEnwDr7oA/64fn4Gy3AXKyT4vJwB9+RHD8dge9gNRxUicEPHiaNRDHL5S5L5D4UiBL+pKaRk8eLFpcpgOl1ACSCJu03m3RsDIdQLFiwoCYWRGVzwWSJj5KUy6F45BQAFhACXczmG00k4RuCAV8VKJVBAqroPVnGdl9OqCCNP+jKoiB/2LVq0qPzPaTmY6zVz4LokRMAfrTZiPylkntAdEAWgAtLMCnsBbbpti/8REzbmE0C0fT/8D2AgjNbYIzQCXOADJ3YEzkb/kYxrkBrIfJDueEoNHTk/vxHDKiQA2LXScwjwZwfJDmlBNtsDJbHqGHEmTsW8xMAmEqLlA+JUXPUp4yLzfFgSEp8q7exOr6pQiCLyJ5HAKzahJ2TDYMk+7ankNplHbiyPoW82kRzlCMfE4EmswNFYsoH860NjcxgIu9kT1qpoIvMHH3xwiSmx1bb9KMX1jZvM00/kHufln66LTuEHsoJYGIiFjwSZty+7OTZyAtJN1wZa7svAKUSO4gNsJ1fZ32yXnCNO+IYcpX9kXj/IDV+hpz7EvddE5unZuWOZTXvJ2XRCf7EkwyBNgRD59T/SJtewTSyzUTSU8w2s4ZJBlfiDDbYTcYyP2UecsTNbdS3O6zxdknl4w7ZiDnmna7kAVijwWP3AZw2E7AtzYLrKPPyajsyb8cA/6E3fjmNPPgZT4Jp7cC75PWxs4AWn+b1Zeee2r7yoDwMthQjnbsfXioprSTL/oQAkgC8BIJG77LJLAQLJBFAyqJFWe5mNe2M4y2+QectZgJX17SrtyDxjGb1xHsHpGERNH0bWgE9yRs4lJoRPEO6www5l8MAp9en6QjidpMoZvHFTMpQYBbuBhfX+gFkAu44DDzywLDkwfQrIXQ/nBLQ12YBMEpknbCqo6d/MigAW2INkXqAJYqN2PhPLNUKAnX2QUH7BB5Az/Ui2lhJIyPrmp7UIfxo3madH5A1ZMR0tNsWruHFtBrKqIHyo7e+uzbYgOgZlg7q1v4qiARgwlhjEn4GzAYBBO4LUp4yzMi8++bD7l6T8XkhytI3vS4zIBpvQpdiFm3y4PVAaXGZjNos4jz71FdV3mImYWc7jSS3sgNi7Hn0qhCAnsBZZYB8Elk3NfMo/YqsrX3Sv4ybz8gOft/yCryJ4cgrdmS024JGX2CZigD7gC72a0TVzKx7oz/2Y6YBVsMj/IWxpezz1Bgayhx8WnnXWWWWwpchBL/KZfdnIvuzYhzh3TWSev9MPPII3cyHzJAi9a6ZHBB4ncbz/+bg4cq9sJ++zpftmJ4MAxyhKsrf+7A8vYLTranOLrsS5+WLXlXkkm7/LxxqcpCt/iwtcSfGUTi1FkxfkVj4+3TUg4ApFCjm4Ex4C2/g4XHFfch0bwB3kHG9zHngpZ8Ah5/Z3YJmBL5xzbfqdrySZ/1ACCBEClQiBv+2225YqN0IseTKoCt96661XiDGDcRwAKYFZ2oKEcR4JzD0iOEZq+o5k4tMIzkjNWl1JiFMh56r/ErIKLFLE6Q0uJLQ2keWIrtV02mabbVaSmERijb9BiCd1qEYJVk6EzJvmAfQcG9mREI1W9d1HMM9VJoHMC1xJSnCrUrGdgBREEhwbulaDM9OpqoWa/dgESeFT/EIQG1QFSNgf4NMB0BX0pkP5icqX89USN6QGMg9jkA0+rwpstozeEETxx/cRFfuIYzFAj2LIJ70i5OIZSGvsEYREUgT2Yka869uAnF/qlx/0KeMg8wR20Qkd0p1GpxqCgbDBJMsCJFSJC9mATQavyKV9EQiznQgGvSqC8HHXb3ZEfChy6ANZh0+OYyM2EBuuw3ZYKNE6t6VV+mEffdhPP2KqSz+sgcwHWYIziIRYULyhCwMt1XF64tca/IKpfJ1tEENxbIDGbnJF4FCb9MEe/cpL4kI/zs3v2A45UoU3IEMsInYQWX7bF3bVROYRaHqS9w1GkUq6MRilOzhJNxp/F2dyAv8XE5pYYVPLmthP/Fj2YfaKjdhMfMA7fuhccinyDA/FJF/QD7wzuPO3wVwfGB3+2SWZDzygR7lWw2/gjns1sKGbGFgqSBhY0Rl/dQ1yNh4mLvyNnCvm0Bc9GyzxZXEtd8ChyBcwkL+LDXnC+X0HL/FF58YPxKGYhFfyx6hwO8n8h4JESeQMKtAQkp122qmQc0AGIBlJpVy1XfVbRYnxOAkje4Z7TOOohktQAtdxESw+BbagMxoELqbDOIvkLCBdgyUbnN35BS/nauvK34AYmVDBVx10jJcZ7L333mWmQJDTsWsycLCUwKABSBukIF+ID+OzUS0yCWQekNIbcBWMAtzfwAKxixE7EiE5AlZkny8BYEkPkQcyQMU2g0bbJCDBDQwQRsDLPwByjOr1XYvUQObFFNCkn6jcAmx+hEzyH77Pbj7p1oBWEhFvKstiWRzoJxIpX6RrQA2A9YWYsImBsE/Tpe2Kcx8yLjI/ndC/2KRbPkv34oL+Vafojl5dN12LC5Vc9uAnZjjo0/5iRSzBLgQoCg3sY3Dre2QysIB9xJFzI5FsxC5hXzoRM11KDWQ+hF75hrxBpz7pA4mQR/gHn0Wq5AKERe6Tk+hOXoM3jnM/7OA4JInO6dI96RNJibzEB9gBSXG8c/u0H9IE8+zTBx6Qmsg8H6VDOIlfiFU6FBN0Ii7wCLnAwIqeYRmSyQ5yuThyDNvB1bCF+BFzYscn0ihO5CG24Zf8gR1gl7jUpxiDc33Zw3m6JvMziWVIijh0yQ70QV+It2uCNQZX/NSsFr6B98ER9lIoNcNhKSG+JTYMkOSGyBfso4igoMCe+oNf8gMMFIPyeOAc+7JzFHvnK/pIMv9hYAA0Cje1iBCoMHB+1T1GpST/q9xLGoLLyAswSDQAi5MgElGxk0gAXFs4NQeIxKdypC/7Sm4CG7kzYtSn7YI+khrxt4B2vYIXmQTGEbCSqWsDIBwLyRTggN61+t41qsbYp933uGUSyDxgoF+BK0CN1AExQJAs+Tw7uxcBjsjbF8CyAXsKvPA58QFQbJeEDAb4HJsinginJSB8yfd9AfBcpAYyH4lCcgPY9ClZGUjRvwqy74Amu/mej/lkE/HoWiVWulfNEZ8Sq9iAU2JTJUZi1LcY9b392aRPqY3M0z/d0TFdsz28kezo13b24ft82nXCTTqnVwnU/cA7x0mM7pHew3/Eir7YVz+BWb6nf5VjgwQ2DeLj/z7so/9ayDydIeiKA4g1ffJl10ffMAbRMCBCWugZrjrGdvuzg/ws58FdRB5euU/YFzNa/m7bQT/syb5xbvaIOAlb9iGuld/VQuZhjHjALxDEtv7kDXmAneCTa0fa2UF+oUe2kE8id4g3+9nm2KgYh83ggL5V3p0bXtmHXcSXGBpcCtqlsP04yTxd0R3fNYiF4XCKnvl+DFbphp74LFvQl0GupWNmvAxS8SbHGsyyodjCE/m9/pF7/k7/gU98EX45LvianG47e44iNvSzypN518jQDCjIEDNG9bfEzlgMh2DZ7vtIKuEEAsZ3Ai8SlpHZMKF0xIJxKd9UDlB1Hb6TmCQ4QclZbBsUxrcfZ3SNHEhguwdN/67NNoQdYNC3/twXAAD4/u8TZGcT11s7mQeCkha7AWD69P+gBLkx+rYPQtL2eQEfSz4QD/YKQdwNvPgU+44q4EctNZD5tjhfgCvd8SeJj4gvNqDzqBADcttD2IAt7SOm4/rtw17sKXZ8F9PkfUttZL4tdMJv4Rf9tmct+LSY4c/tJEa3joFH7sH9DepVzDkGrsGBwe/Z2HZYB599wrY+RLKuhcyH8GtkhD7lBvqhM3qUy2xH3tv28TeCIW7kOvpuYy57iWnbo7AwTMSJc+tDf87Zd5wEgaqBzCN1QSRhvRjAHaKAII/DG/ESs1GukX3kF/vbbv9BgVewyD76GLQZ0Z/8yeY4B9/oWyLOx0XmiWugQ7EKw/Ek+uPX7OATDvmO/uk1OJoVFgYBmtwhr8Ai1y2nsK1j2Jm+h4m4gH1sZX8+Osq4cP2rPJmn0DAmBbebbdHcS2z3d4y8NH/b7p4kNN/PZCjna/fX7iu+c05/Tyft/RzfvtboK/6P/h3jfALe50z9j0MmgczTY9g79Oj/QQn7+D72cWxI+3ufg9+xm+981iq1kXkSehvUXdiNrtnN56BN2vu0bWp72Muxg8f1KTWTeTqhc3rS2vji77BJe3scEzZr6z0k9O9zOr23+xk8R5fifLWR+fDhYX4c9nHdg/YJ/YXtBnXtf9uHfRfiuzi3Nt1+XYp7qIXMk9CJ69La+NHWV9jKp/3a+WWYHm2LfR0/nV3C5u1z9CmuybnHSeaJ66ALevXZ1lX7OzrSXHPYod3iWC3sZ39/Tye+c1zYqn3uUYi+V3kyn1KPTAKZT/n/UiOZX9mlZjK/KorkXBuZX9WFTWoi86u6yAM1kPmVWZLMp1QlSeYnS5LM9y9J5uuSJPP1SZL5uiTJfPeSZD6lKkkyP1mSZL5/STJflySZr0+SzNclSea7lyTzKVVJkvnJkiTz/UuS+bokyXx9kmS+Lkky370kmU+pSpLMT5Ykme9fkszXJUnm65Mk83VJkvnuJcl8SlWSZH6yJMl8/5Jkvi5JMl+fJJmvS5LMdy9J5lOqkiTzkyVJ5vuXJPN1SZL5+iTJfF2SZL57STKfUpUkmZ8sSTLfvySZr0uSzNcnSebrkiTz3ctYyPw555xTXpObBkwZFKTdK6+33XbbKTJ/4403lmSZZL4+QR7vuuuu5vDDDy8kZtNNNy1kXsx7u16S+dGLN9R6y/Tee+89ReY/97nPlbeuJpnvXxBHb1m99dZbm80333yKzF988cVJ5sckeIc3AF9yySUfIfNPPPFEkvkxCbLpjbbHHXfcR8i8t+YnF5y/0K+3aH/xi1/sj8yfe+65JajSgCmDgrQ//PDDHyHzN998c3mdtaSZUpcMI/OHHXZY8/TTT5f4TjI/evE6dpi6zz77TJH5888/v/n1r39dXjGe0q/AJa/nv+2226bIvE9EUhyk9C+IDWxaunRps3DhwkLmjzrqqDKj5TX9Kf2LN6D+7Gc/K2TeAGu99dYrqzQef/zx5IIjED7/85//vLn66qubTTbZpB8yH1Mrgg0QqrhmW7UbP+Ar77zzTvPggw9+ZJnN9ddfX7ZbtpH+Uk9jC1PZt99+eyHwsczm0EMPbZ588slSGbNP2mx0jS4NbM1s7rXXXlNk/jOf+UwBcvZIfffX6NoM1HvvvdfcdNNNpSIvDnxedNFFZQYFrqVN+mthE4NesyNRmf/kJz9ZqsBmf9Me/TW61v7v//6veeaZZ5pjjz12qjJ/5plnNo899lgpQqRNVrzRnQGRmY8rrriin8r8OuusU4ypivHyyy+XqeFXX3012yrerPf91a9+VUjgtddeOwXAG2ywQfP5z3++zOTwF/sNOz5b/40tXnjhhebyyy8vSz4MvjbaaKNCMq2j95190majafQIL+HpHXfc0ey0005TZP74449vHnnkkQLmian9NTYxiIJbKvGSaBQhTj311Obee+8tuJY26a/RNZsgjqeffnoZWK299trNAQccUHiH3/OkPfprgVvyt0LdIYcc0my22WbNuuuu2xx99NHltyaZ2+fX6O4Xv/hFWaJstgNvCjL/1FNP/ZmN/6XMi8yvtdZazcc//vESWCeddFJzyimnlM9sq3Y7+eSTS/IT3H7YZwpujTXWKFWuXXfdtUyRLlmypOw37Phs/Te2OOGEE0psA+ewl6U2Bx54YCGY9kmbjabRI7w85phjmk984hPNxhtvPEXmt9566/IjZPZIfffX6BouwafddtutLLFZc801y6fZxYMPPrjgWtqkvxY2UTS0XBNpXH311cvSJ3EjfpJ39NfYQzvxxBMLkd9yyy1LUTe54Oha6Njv1RYvXlwKCgj9nnvu2Q2ZR9AEleBSudhqq63KdIvPbNn4AsBV3RXoq622WiGIRpiqK8OOyTbeBpg33HDDQuLDXv4W31tsscXQY7KteIsYoV8zV0HmFyxYUAZR7DHsuGzdNTqHT5In/484ULyydjVzXP+NTcQJGxhcsYkBlrixPW3Sf2MT8RAD3uSCo2+WuUYhFB6ZJR85mVfudxKJR2BpjKnF/9lW3TboC0FS2v4S+7X/zza+Np292jYbtGu2FW+Duhym72H7ZeuuDep5mE3SHv21YbpOm4y3zWSTmfbJNvc2qD+6VWSzyqGzyrwRg9HD9ttvX57GsO+++5bPbNn4wh577NEsWrSojN45pwq99fO2xz6Dx2UbT2MLYGGq1OwJe1mb6m/xrSow7LhsK97oXGGEflUdIymqyu+yyy7FHhkj/Ta/F4FP8dSUiAPVelPe++23X9qk58YmlhiowltywCbIjbgRP2mP/hub7LjjjmXmnU2SC46+7bzzzmUGBG/qrDIfa+aBnb9PO+205pprrmm+/OUvN1/60peyreKNH3zlK18pPyLz6CrrgU3FmYazFth2P4xNf6mnsYVn2np+8zbbbFMAxHIP67fPOOOM8t2w47KtWIsYWbZsWfPpT3+6TKsGmUdczjvvvKJz+ww7PtvoG5vIY/DpyCOPLAUrcSDXSa6e3PbVr341cavHFja58sory0AKqZFLtttuu/KD2MsuuyxjpOcWNvHjTANcBR+E3iA4ueD8W+jOU838Xg1v6nTNPICT7BnvG9/4RvP++++XZ756iUO2bHzBr9o9qQMhFOxI/VVXXVWeTuCRYukv9TS2eOutt5rrrruuOeigg6bWyvuR2aOPPlrie9hx2Va80bknQ3z7298umBpk3iPevKDo7bffzhjpucGlV155pSRTPwSPH4FLrN/97neLPdIm/TYv8RILXqamUmmmxONzvcPE0z/SHv0372LwTHmPCGUTXNCPXr3xPbng/Brd8XlP1fLWY7MfnT/NRlsZXhrl2Z5/+MMfmj/+8Y/lZQijEi/Z0Z8XAIyy30mRwZdG+cGMl0ZxVM9STalLvCvi7rvv/ouXRiGWtbw0amV7cZXnZ3u8XvsNsKry+dKo8Qhc8uz/wZdGSar50qjxSLw06tJLL516zLEnDiE7iE9K//KnP/2pefHFF6deGoULnn322fnSqBEJn1cMVfzs7aVR55xzTnnpySQaEMF2T7/73e9KVfK3v/1teUEFUm+771eUPDhOH/rz8peZyJDtjOe8kom/VwbSosrlWantN8DeeOONheQbQNUkwInu2cC1hf1D2CP8xX5hp9l8JGwbL4RwvG012nfwDbDWQHo8lpjnx+O4ZuekY/ahu7ZdfGd76JZNZrMHCTs6ph3r45B///d/b3784x9/hMyrQKrYs8c4hR75Lv2Er88mcUzodhie6Sf6Dd23v/d3ex+f7NyHuF745HnZ1smLA59eWGRQOw4JXSyPHhxDd2EHzfGh57aO3bN9B/uOfcJOmv/btupDnNdL6yx/CjJvOSDeoZLZt7j/tj3mog/72Ne9RI4JvAoJe4Su2/YKiXPHPnM9/6jFNXgPxl//9V+XJ9fggpaheZFXX1yw7b8+56KLsMNMcaHNpuO2rXyOOi70+dJLL5WllnhTL2Teuql/+Id/mDgy715UxZ577rnmBz/4QfOtb32r+c53vlOmvBFQ25F7xl4RoY/XXnut9KuqQ2+SM8doi//ty3CWpHzve98ry1C8YW3S5Z//+Z/LtFv7DbDIPJIvmGoRgeNlMPyADdjfdNZ//Md/TIEt27kfdmQjzYuU3Mt0vu8e/+u//qt5/vnnywzFAw88UKp7Bnc13X+Ie/SCKL9rsLwgyLzK8bjIvPgTh8jtP/3TP5Vpdf+LX7Nptlvmx8+8iZqNXOt0wtaqeQj01772tWJvtmZH3/Ut05F5Lw4ZJ5mnCwQKLnlhj1e3w8uZRKywF+zk66rb8E8FT8GE/9gHWbYPMvbss8+WSrg3Qoewn32QBbnFvt7K2odMR+b/5m/+pncyT1f8nE+zA328++67c4pDyyDo9qGHHip2ENf/+I//WGJGn/RtOYRtCJh7U9AKvAtbOrf4Zwdx4v++Z4zYBI7WQObla9eiasqv4ZE4mU3o8vXXXy96vPXWW8sMqLel8n33R2CBJV7uy9uG8QBxE2K/3//+98UX7KPBP9vYtC/hf87Hd8ZF5tmBj7MD3IcR8Wb5mYStzHrKF+LizjvvLHrm0/pkJzqHd2xl1Yn98bF2fnBu8Wh2yLnZcaa8s7ziXPJdkvk5CGNIUkCbUZF4yf2WW24pVZj777+/gNuKJlROhexdf/31hRB985vfLCBAh/pEHpA6DsCRkD0vJZHIkcm5AETtAvgHyfzf/d3fVUXmgywKWtd24YUXlrfUXn311SWJBdhKokiXt97xl9tvv7387TjHtxNskBYgC2CstfUjLYSAf/E7A4XaZCYyz5/nQiJGJTHIpX9vw4M7EhwAFbvAFelybWLMD+H+9m//tgzIrK8ddq36ZCsg6T697Va8+VGj46LfPkUC/9GPflSeXBNk/rOf/ezYyTyfp3tk8Kabbirk4ze/+c2fvx0ucAxBdIwf9oojx4oRAyi6FfsGtLD2vvvuK2Tf/7BCLPIzsSZJwkT7GKzZJ/roUtx3LWQ+yAWy4Y3AZs1gx0xx6Bg5BeFjMz8cde1Lly4tSyA++OCDYif6Rgbp9p577in2QNbFBx2zw5tvvlniiw28/VZeYgc2RjaC+HctbCJXKoq1yTze0TeZd9+WifJbepHX+ctM4hgEkS7lDnHxhS98odgzCCibsLNcoV/8wzlsYxM60Iei0/e///1iM/shsvahn77w2XmmI/Oup2suqH+4iUTjbeGb/AFnM2Ad1EUMjPk0rBcXF110UYkLcY2b8Xu2VXzzOzE2oGP4LKfAY+fmc+7dORUt+ADb2kcfYnC+EmReTksyP4sAMgFlzT9ShjxLNIzCwMiaUTIjr4gAYY7Fcax74iBAVlAaTevfNgmK7gT5+uuvXx7p5Ekvs1XBJkEmgcwDBQQRiApMvgBsrRX3KYnyAUQS6VORF/ySmntBWpAcsRESVS3AIOhVyIAc0qm6ZMCgotAX+M5VaiLzAawIhqRmYCzxSWyuk01UxQA6guO3GNaa+6Eim7FB+3rDJuyBJLIzsBaH3uppuWBU9vuUmsk80ubJCnQj8dHddELX7CMJ0q1YQjr4voqke0F6bDcb4lMcIe1m6+QVurAvzITBkqTY1Ke/44fYXUqNZF5SRyqsGUdeZhI5xmCIDuFNzFjJ0XSLNCIj9I3QiIXAPy2q7zAaFig+2G5/jW3pgT3bmNel1ETm2YQP0o2qqaKPGfiZBLlE9MQDe6jIG+DCNARdYxvfiwt4xmYwDWm3r/tH5A26fAeTwx7s7BrYow+Mdg7nGheZ55sKa2yAyIsPmC8/yxWKP4O+yYcU1xwXhTgrMfBAs37iQm6BR3I6n2cfvs5e8IfdYYNzsIv8gQfwQ6Q78GkUBYck88shQMyTeDz6R4VOMDCUkZugEizIuAqqagYH8r2GvGnIBmHyeLgAAENMSURBVDKugoWgC0j7AmBk1TEcniOYqhG0zhOESVKTtAU7Mu9RaB7vhEQie85vf8f1FaijlEkg8+wnaAWOwRvAlDg9jhE4mRIV5HxCQvcdQFD5kvBVhIeReffHbhIrn+EbpiAdAywATm1SA5l3DkAGFAG05KZ6SN8SN5wBzEiL+ONjKup0e8MNNxR7sNXgtbKJY8WV+9GfwYD4NADwJAaJYbbEPGqplcwjLfSKaLsezcBpmMRACQnh24oRdInIIzEGXnQvttgHQZRHxAYiecUVV5TEaBub+96gV2IVO/rxPTIrVvlHV75YE5mnV/f6xhtvFHJhgINIzCTyD0KOCF5wwQUlfmIJAjuIG7kKkUFEYZn8JR4MAGLZmWPYQEzZX5yxn2UJrgHmIUd9SE1knk3oCyaZbUW25PaZhO7EOF2aqXLd8RQecYNM8ns+TrdiRn7wt6cqOc7/ZlYUBtsDLnYUcwqDCpKur2sRe+Mk85bAGMAg77gVe8AO3ELxQcGNXtsCS8WA/KYwYVaE74stccGXzXD43tPEYA/7wAL3JFbgG/IOh5yLHdmK7vkm2+pTDM5XkswvhyDzxx9/fHlJjh/8MaLEwniSWJvEI3mAzn0yVlSe/B8GBoKCEVlA/pA5QWpdnf04jQBUWUEckFtT/PTpPM7vqQkM5lfhUY2y3fn7CtRRivutnczTPTAW0AgMoBJEAFSlF5mxj9G55AhM2Zndjc4FMFLSnlrTh/+jCUxggaABZMc7pjapgczzcedC4FSEEUOxAMD5k2uU3EPHdAuXJEeEx2ALuA6KfQE839NPDL7YJarPiAob9Sm1knnC75FyyYvvD9MrCf+m/xNOOKFcv2QL2+harNM9G3qmPj2zgwoWoojgiyvY4G+kFYmBpfKKAoslI2bLxKFtXWFhTWQ+hI+IB4RCLMwkcpe8QYcnnXRS0Sk7KCywg9gSz/KXWOdn7Cdn8UOFJLq2hEBBw8DKceIHaVJ00lQ0nasPqYnME3GB7Mn5/NTAZiahY7gkn1jCKycaGIUfI5H8ns+pwstFzmGApdAYfEBFWeHB9hC2RebZQ0yxZdcybjKPiynEyg3sAEfoU149//zzix4Hq+P0GeQYRrGbXExnYoL/wy+zVfiZewthEzaIpYGepGQgB7sUYp2bDdiQjfQ5X2HHJPNzFAYQjN6q5S2lKuKMpBohcFRSOYRKHSdB+N1rVFbPOuus8ozVqCpxkGOPPba8MEGwSW6cQDAecMABZQDgnEBUAHjxheUWKiCAykgRmd91113LtL/BhvM4luMYaEyajieBzLsOASlhAFZJy+BM4pS0DN5UswzG2OTkk08uBNenwBVwBlqDRNf/0SRjdgYgKmb8YhxJaDapgcyzA10DTS/usRQu1kWKVzYxuA170b39Y32watawSplrZ1u21Bwbx4s9g7e5/Mhz1FI7mTdgjaVh7QTXFnqETfSOSHpXgaQKDw2UxIgqF/1KirAQuWRD+CrWkBxkR5JWOWNvJEl8whHX4UfC1uO7rhiMjVpcU21kHml2bgOe2cg8n6FThAfW0iVbyEuRa1QuxYu+VBbFhTjghwiZfeEUW9G778WPmTDknn3Zoc8fJddE5hE/54ZFcyHzCoM4AZ3BKD7OlmYQ9WWQTO/sZTknW8hJcM3+BmXs4RhFhzaZj7yiL9dBV10LXxgnmYfxn/rUpwpm051CQSzx4+v0COPbgsvxFT5Ol/DMEmtFCgVX+ITH4VxwqK1jtlaEUKCga3lJH1GQYCezBIoevnct85Uk88shyLbkAqQttVGh9/KDnXbaqTglx5A0EAfgRaGHHnpoqdQCFc4E5AEegu5FO4j4iSeeWEaLwMdUHGf3qmMAqXookXk2q22qJ6bPADBC4SUldCtgET4O5xmj3nSH0CBUkySTQObbwr9VRQAqOyPylnsILICM5BvEGQAa/FkzCQiGkfkQ25EDVQAkjb8hKgaLzjfdceOQGsg8cKRnoKgSK/ZUJQ2kANvRRx9d4grplrjEqAquKo3pUQBvfzab6Xp9J2ECXhUZSUifffvluMg8/ehfjNIBUsdP4RZyTugW6ZuNzNOl/sQBggf/kHiYKF5UtFTXJScJlP3onv8jIGwtCcM5AwAJlr1dE3sgkUilmBM7dNYVaamRzMcygrmQ+bCrmT+zh3BMjlKMokP2oX9/yzGwGFmXD9mNDRAaBaT4PVkIO5iJFGv8gn36kNrIPJyA55Zg8t3ZyDyyibSLaYNdvo5jqOQq8MkzCniwi53ZwhpuNkTm8QUDXvvjBuIoREwikpbb6H9lIfN8Uj/yruXGfA1WwSQYIEch1Eg3jJCnDWCtdpAzBsl89CeWXLdBKe7qoSMGt/BJsYjv8zO8L4StVevle8UlsWQgB4fY1rHiDE7KUa53viKOk8zPQTgj48YUCXCTrHbfffeiNI1jIvuIAiMjNog6Z/W/7xcuXFiCTdVcMHrl9zHHHFP0gRQKsCVLlhTiLrnFenyjPK8JB5hBbJF5RjOwQPw5LuLrNe/OC1S7TO5dyKSRefpVXUTmTee7ziDcwALoGr2bbUE6osLCroJvOgHkfIS9HYMg8wPkhx/WIu5/3GReEqMbM15iih0AswRq6n+33XYroCouXW8QcjFJt8AZmLtethsm7gNhVVERz0gPG/LJPu6xLeMg8+6RTvk6UicmEQkYw0+DEMyVzBN98mU61zfdwjS2kpAkx2FkXhVZDOlfLoF1/mZrSTEStb68ztw1uq7pbDtfmXQyH74ddlDVd4yBMeLJhnRrgGVpBoyGXfIVci83yWl8wpKOYWReP3BwFBXIucikk/mIDb7sPhBTAyKzu2JfMQGfoNsg8+IDJiGPlgMj7DBxkMyrzMdSRPG8spB5JJnfG2C6d5iOxMNqFXL2F6NB5qMoAzuHkXnXrPF1BSMYwv/jgQn6tfyP75sltPQpJMg8PYvBI444otg+fvMA6+R2/mnQNYpBbpL5OUgEFkdhBMlU0vCjEgBmFKwargLIOSQ3Cc3bMAUf5/K/oFLNR7wRC+sL999//4+QeQFmigyZZ2znCTLvldSc0nUIQH0yGjJiXyBs9Ai8DAiSzHcnfAKJdL2qugZxAhIh5Ct8G3ABE8RWUjdTYlqNHwDUmarzwEMi5GMGAoibyiOSP9MgoG+pgcwDYSALFBE71RbnFSO2W3aGIJpelfT4Ed0DYyCuGgwAxd90PgaAATGwBNRwQB/wLarSfck4yLx75O9wC9Yg6xKY2DSQDb1JeMg+P7eWeiYyPyj0z0ZwC84hGs4nXiyhQsLEVaw3lUQVPJBmM5aqbnRgnxgYIKSqaBGXXUiNZJ6unFuukZPmKuKGLc0e0jsCwiZiSoUYNiOi/J4fii8DKVVHs81yO4JDJ3wmltlofnAud/Uhzl8TmY9lNpZZih+zrHMVfisfyCWIJGyld3lBf7AAFjkHu4kNM44GYGICNsQSEPYVr+KFPQx62bJrcd6uyTwdmUWSZy0Vgz90bcDJ//At1XCzuM5n/TqdmvUQu46fTlw/f4ZJikD0L++LCYMzsYIDhDine4OF8iOO59wGW3AUhpk1yTXzPUtULRgPMHIYBqE8ZM66tl122aWQeUmHswSZR8zdK4AzdYnMG6kxvOlJj5UcrMy3yTzjS0b2VZnnOAKQ7jjJxhtvXCrzRoASCofJyny3EmSdbdjaAAzpQBSBqsaWfAXhYGvrffkMIFA9Zm+DL37Fj7QAPORU/wgIAsmnkBIgpcKTZP6jQleeWAKwJQpVE8BsO+zx2xQ+JJGYgrVdsudTEonvkULJH2kX73Ts0/XbxlbIP7sBclUdNnaMc/VxnyHjIvPsqVpOl6p/yASyZ8ApNulgsDKPCIYEjoqf0DHdigs2ET8GxGazYCqcc0+SrYTnb/2LNYMF51bogK1w0fXAaHZBXiRSCZXdwpZdSI1knr+yS1Tm3Xs0+g/MoRf/swMb+NTMfph5gTlszo7wjO3FmiqwARNCKHbMhiEw/FAOglP2sewD0ZeL2E289CE1knlFgFgzT7/hjxELGlvY7vrlAdjCHuKLrztWPlEw5N/IKN3DBJhk0CU2kUQ2s1bcoBvJ158Ytg+yyz/Ek3N2Le5J7HdJ5vWBP+BL8MGAhS/KAfCEXhQJ3D+sUVDzP12ZdXI8XbjOiAt6tz3soH/FWfrkz+Jb3ONncMa+9CwW6J2/iRGDK4WjyEFIt6WBBtuul/3mK/wnyfwswhEZV2XUaI9RGBRYSDiCzA9bfYfEIHicSLWe4woox6iWI/iMLGEh8TvvvHNzyCGHFIMKLKNpxyDzDB0/TDKqtE1i0z+HMMW2YMGCsh6bQxo1Au+NNtqo/OBCkkMsAzQmQSaBzLM7YqHqISDpXkIT1LaFLQW0ajHA5e+m4YA5kAEGApgdJZcgmfzJvoBYYAJcPiGx+q0EQKnJnjWQeaCLPIipIH5ANpKZuBSjBl+2I3ziyjXyNf6FoNMtG7gn9ogqPmLIhn7khBwYZGvsbflHOzH3IeMg8+5PsqATpEF1VkPWEBX4qBl80qckbdCqCmi74/mDSi2y7TrdB90ijAgi0ihm3BuyIobgAdKCuLOBeLCPJGw/JNp964OdxQq7G9Cxre2usUv71ETm3afG1907n6U3ZIT9XCt7IftsgXiwBzxCboKkICZ0GYUI+4ov2EWvdCwfanKh85lFNqBmfwMI22GZAgabOU9fGF4TmWcP+oYVZgj5Kb/HjSIuxIJGR7aLLdcq17MBH6d/2/QFn1R34Rv85WcwDi7RN4LsPh2LBxiIiReNPxgU6JM9uoyNEOfomszLA/zZfcNkDVbxd3/TndygOCYXq6rLz+zif7qQR+RgNuE/dCxfyBX24fd0yT5sxWb6VbywHY6xE/wxgLWf2PA3O1hqJrYM7BQf7AefXPd8Jcn8HIUzUjzyZlQrgAQk46qmGwmaZlRZYlCkzXpN0y+OA/QSrm2qtcgDR/bDCFV0xuVIQNBUGjIrgal+AFlTZ55c48caRuKSh6A0GIgnQABhSc4aYSNF14PMS6aTIpNA5iU2iUqiUNVlY7ZlN74hYAU6cqIiwPb8BdiyiSqAAEZ8TPXxI8CKKBmQWR4gkfIFAwPn4lNAqQ/gXR6pgcw7ByAD3PEoMJ8Sncaf6Jm+6ZNuVUvELQCWCNlDnKgSSwbsIcaArFgVs5bTWe5mMG6Wja0lB4OsPu0yDjI/F2EDRANuwUlxAfsRK/pBQJB0uvY3/fJtxEJidU90LSFZjoGAiiOEBIbqV+JlQ3aDjfKLe5ZofS9pIrHiLmZQVIi7lJrIPB9mB77A7/moPAE7DFbFpCUedAxTDJjYQv5BzMWGv5FIxJ49kSS20Kd7FF/sZQZGLkJ+2AB+uV82QijhoD7ZS/z1GSM1kXn6kzP4JPJoQET3bMFe9E+3HnZh1t+1sw+78Wd5QBzJE2KHLfg9rKJveoZzcotikjiyn3wpjhzre/vpj43ZrU89sH3XZH4moSu6VRiVG9y/+AhiLz7oHemnUzaRL+AVX5eTXSddig3fRd5B2PUFdzQ61j8b8kH4w/8dL2bsw6b8AUdw73xkvpJkfg7CaIIOuEXAaAAriBrA4ggAEyFjMAQcqVeVQBw4BFLA2EZviICRtKorp0HmjQIZ3OgdqEoSGofyNBzHI4W20aupI9ci2Ul69jPiUyGRKAHsKBylL6mdzPMFBAGZMIBC7ICzpGF0bkYGmPJtQaxaxTZszU/4PT8BLoCWjfTFRyRWiZaP8S3+wgdsc+81DspqIPMhYk8MAeMg9GIEMAcxROLpVdyKI0BuOyB0rcCXvtlFgmUnpNDMGvuyM3uzu4GzOBaLfUqtZJ7++TSso19xC5Ponu8iGEgFHBXnbCUxWiLIhyRalTCJFWYF7kqybNJOxPoSX7EPnEPuxYv4YWc4LP90HTc1kXl+DHsUduQCNoA/MItv8HU5Rr5iC7gKd8SrmJGLfMeXxG/kDnpWGKJTpATRZAf7uX86tq9j2BCJZyvYpjLJPn2Ka6qFzPNBZJ4uVGcNOsUAvdMZX4Y3cAYeBalktxgUsQ9bBU5FM5AyW4VT2F9x0f3FfnxBnMEL+7CLmOQHztOXuJZxknn+CZ8UW80W4lgwgp75pmuTY+ULM4H2g7N8GR+B/+IFWTZTpa8QBR+DXjakY4NZOhZvgT8+cQH+pz/3bHBhH7oZhSSZn4NE4DCuUZjRlGAUOFqMmKMKztgMh6ADOwHnf47hOA4kmfkO6ApgAQgIJUP7qcZHxQOhAIiSmWDQl+0AQn9G9LYZLdrPqN825+B0XSezUcokVOYBIT0LWFNmkqNPjS0DdPk+wmFfPqOxKT/xHRtKsoiKT6Qnpvbsq+LLr5yvVnEPtZB5fi5BiSGVEMQDyYqBkFigT7EhZgE24sgWITBJkrWfQYD+gC6QDDv7REL1oX/x2afUXJl3fljEd8UCTKJffsCPYR/7iAH+DsPglf3ZYzBRhtifHdjUfs7Tths7iTX7sL1PsdSHOHctZD6IAx+BK/KLQQ5diAP+7Vp9F0SGHWAWvckn8CoGVG1xn+wgNvgazGKviHGfjokBMVvxBedwbJ/ifLWQeTqJuKA3vo78IYHsJS7olF+LF/vTa+QNdmGfYbFtW3AGdnY8e4boSzzJq+zBLnCNj/TJC/iGc46LzBP3CyP4f+TWyMWuD37Jz3TOd+QvuUCciAu6E1fiqB0b/nb9dMwOOKL9YkAVIg70zw5iR96wz6hEX0nm5yBtoxD3xdjuIZxhPuL42fpYkXPM97r6lkkg86MStgEw2qTZKUQyqYXMj1Jqvu5ayTydDeqtvc3npPv7MKmJzJNhum1v83fYYmWyQ1tqIvOh77YMbov/B/dbWcR9jZvMz0VcZ8TFpNkiyfwKCoNTnlGZv1NGI6sSmSeTCBptWVnJfM1SK5mfi0y6vw+T2sh8Sl1kPmVyyPwkS5L5lKpkVSPzky5J5vuXSSbzK6Mkma9PkszXJUnmu5ck8ylVSZL5yZIk8/1Lkvm6JMl8fZJkvi5JMt+9JJlPqUqSzE+WJJnvX5LM1yVJ5uuTJPN1SZL57iXJfEpVkmR+siTJfP+SZL4uSTJfnySZr0uSzHcvSeZTqpIk85MlSeb7lyTzdUmS+fokyXxdkmS+e0kyn1KVJJmfLEky378kma9LkszXJ0nm65Ik891LkvmUqiTJ/GRJkvn+Jcl8XZJkvj5JMl+XJJnvXpLMp1QlSDsyv+222yaZnwCZicx7w2GS+dELMv/jH/+42XvvvafI/Oc+97kk82OSJPP1CZt4s+oll1ySZL4CSTLfvYyFzJ9zzjnND3/4wzRgyl+IpPiNb3zjI2T+pptuKq99TzJfnyCPd911V3P44YcXErPpppsWMv/UU0+V14onmR+9eB27wVKbzJ933nnlVeJJ5vsXxNEr9W+77bZm8803nyLzF198cZL5MQne4fX5l1566UfI/BNPPJFkfkyCbL7wwgvNcccdV2yCC5599tnN3//93ycXHIHQ70svvdR88Ytf7IfMr7feemVK2DRxGjBlUP71X/+1+fa3v91st912hcxvsskmpeL1b//2byVpptQlyOM999zTHHnkkVNkXpX+ueeeS3t1JB988EHzzDPPNPvuu+8Umb/gggua119/vSxtSulX5DizJXfeeecUmfe5dOnS5tlnn/3zXil9ireyKyYsW7asWbhwYSHzRx99dPOTn/yk2Cqlf1HYUTk+4YQTCpnHBc8999ws7I5IkPlXXnmlufbaawtv6pzMr7vuus2SJUua++67r3nttdeat99+u3nzzTezreLtrbfeKr4g+d14443Nxz72sQLAG220UQFk23/zm9+U/YYdn63/xha/+MUvmquvvrrZf//9y+Br4403bvbbb7/m61//evPrX/+67JM2G02LGHnxxRebhx56qNltt92myPwpp5xSlhC8+uqrqe8eG13Dpeeff7658soryzIzceDTEgKzjO+8807apMdG1wa2sEnl18Bq7bXXbg4++ODm/vvvL0s90h79tzfeeKMU6hR72AQXROzvvvvuwgXTJivewue/973vlcLOhhtuOEXmzZJPJ/Mi89bVSvYXXnhh88ADDzRf+9rXCrHPtmo3voCgXH/99c2ZZ55ZKrxrrbVW8Rlr7K677rrm3nvvLfsNOz5b/40trJdHJHfYYYeSMFVb/P35z3++VCoffPDBkkCHHZ9t+Ro9ipGbb7654KcBb5D5Aw44oKyVZA86H3Z8ttG3wCO4deKJJ5YEKg7WX3/95pBDDinLPAxs0yb9NTYxW3jLLbc0hx56aCkIrbnmms3OO+/cnH/++WXZZtqj3wa7kHbxoAjBJrjgPvvsU2zi+7TJijc+r33hC19oPvnJTzYLFixoNthgg2bPPffshsxL9GussUapWmy//fbFkKaKrf3Mtmo3vmCQt8ceezSLFi0qgb766qsXQm9Kbvfddy/7pb/U09jME1WQSiSGvRAZf4vvvfbaq9jLfsOOz7Z8LWJEtYV+DXSDzBv8IivskTrvr4Wu4VYs54g4sG5+8eLFxWaJW/00tgjfFydsYKaETZAbyzdxkYyR/lrYBDaJB0SeTXBBy0HYxPcZIyveQsc77bRTs8UWWxTexN/l4JGTeYGFzK+22moF6KwrlIyyZYvGP0y9BZFHUviLwLd92DHZxt/YR+WLrTR/i2/VgWH7Z5tfo1f6lQyDzMPUddZZZ+j+2bpv8ClIY8RB2ASuDTsmW7dNnLBB5JLEpfE38YBoRpz4O7ng6Br9KijQraU2nZJ5CcjIbOutty7VDM20S7ZVu6m8q5jsuOOO5bFVkRgFu/V1RvSx3+Cx2cbT2GLXXXdtttpqqwIkYS9/i+9ddtml7JM2G12Dl6ovH//4xwuBDDLvtwoqXOyRmNpfC9+GTypiQR7FgarjNttsU3AtY6DfJg7ECRuwCXJj6ZO4sT1jpP/GJuLBzC3CmVxwdC3yrKcAmqU1cO2sMh/LbJA0J/DDFGvXPKnEGtBsK1ezXlEb9t2wZt9bb721/IjspJNOKiAsISIs1oBdccUV5Yexy9Nntm4bW/gtg980ABH2UvUC2J5S4Lvl9YNs0zd6hJd+cOxdHZafBZk31eoFOdZuJ6b219gELvm9gqelIIziQK7zOwbP/4drGQP9Nbr2bpIvfelLzSc+8YlCapAbv+Xxo2TxkzHSbwubeISuwRSb4ILWdLNJcsH5tcCXiy66qPxOBG+i487WzMdUwFlnndU89thj5bF2nh3usUTZVp72xz/+sdhV87c2bL92s49HGfpVth/DIISCXcXxK1/5SvnFNn+ZS1/Z+mls8bvf/a48XxuAWB5lEOapER435g2Msd/gsdmWv9GjmPICtccff7wURYLMe3eHx76xR8TdsD6yjbbR8//8z/+UpwwhK5tttlmJA59+pOzlXnAt81w/jT00ucLz5P0Q30yvSrDH5+Id3jKeMdJfa9sEsTTojdncT3/60+UJLMkF59fo10saPVXr8ssvL7wpnmaDf08n8ybz8QZYJ/c82D/96U/ZVrK2InZ1zPvvv1/eAPtXf/VXhczHG2ABMKcddly28TUvZvHUmmFvgEVyPPt22HHZVrx558J0b4Blj8TUfptEaoClsugHl+Ig3gCLvKQ9+m+IoWLC4BtgFRm84GvYMdm6bQa1070BNrng/BufV9Dp7aVR2lxeFOAFAy7Qix9Um37729+Wl6VEdZbh7YMsIA0C1/demsIxYv8//OEP5RpGLXF9+nce5+/rjZfO4Z68rtobU33SSR/nnknYgv5VRFSq/vM//3O5X+k/KW+AdU/ujd29kZMN2J9PhNAHH+e/dBGV6rnoIyoZ+o2qBZ+vTVzb4BtgDzvssPLmy7ne66hEsqAv9vDyMX6I+HpJjOsUM67Hp///+7//u5Bf18lWMwndt23Cz52vz/sLmekNsLBwXEJHdEs39ORzNuz1vWuG1+wkVqbDjLAdO9in3bfvnB8e64ft9TUX285X+MGwN8Ba9vT000//ea9+JPRAR/Sq+XsmcQwdsRnfoj9Y5bg2nrXF9si1jm1jE32IK32JP3aAjX2Ka+IL7TfAHnXUUc2TTz5ZrqlPCb8Ne9DF8vhk2Icv03fbJvJCYBI80387LuxrH7pg08Au+7Rt1oe4Fu/IGHwDrFlG99a10CPfdP+RV/n4XPVgv9BlG/tDx2EHeg472UdzrHtkI/voY6b4WhHhIy+//HJz1VVXlRnyXivzMxkwbl5F1vHIv2qU6pNg1G8ErJfTeOOk7y3T8JIO+0t4XqJCgaMWRnB9+vdWOS81eu+996YM2KW4d/f005/+tDxX2tRK6GQUEg64vAJILIf55je/WdaQek3zu+++u1zXpcKlMt8m8yrztguYWoSd3Ru7m7plA74qiEPow+AEseXv3trpf347k359h4zwdZUMJA3ZmS0pj0MAGB8cVpmni65jIcR5DKrFxA9+8IPybG9+6CUl3/3ud6eq1nQPTH/5y1+WxOL114gYW80kdM8mjmNrOAO0+06IBNmarjLPHuMScU7HXl5CT7BgNuxlCy+MQbK+//3vl1iBo/oa1K3/4T2ss0+7b/HIRt6AyN5sryquCCB5dykSu7iOynyQ+YsvvrjcT59CR67HYNbLrOiWvmaKQzHBb/gPLLPswSCEvw8j4fqS+7wESNEmyE0IrFIhFIePPPJIsYMZ1z7F9fCtYZV599Wn8M2ICzbhu8vjk2LB/nxZzmnbxIAJ/4F7P/vZz8rf7bhgJ4UkL9CSf2BXxGXbZl0Ln3EfwyrzeMJMXHBUIjYMLGE3PcirsHQuedX105f96ZKPB9djD9sjN+AE4sI92cd5nQOHYSP7wCl+2OYL8xVxLJ/1WpmfK5kPcPajLslK+853vlOckZI0StWXB+fffvvtZWTimC9/+cvlBwEAJYKX4ilPkM/XkZ1bX15kZKbB2jzTRQina+9SAC+HUsFGmgEvIsOY8xGAwyn1vyL6oVcEyYsL/PDI8gvgsjx9IcTDltnUROb5LRAVlA8//HCZOeBvPtklqiOuWWB/61vfKt9JLF6Sxj+nI10BvsBZYuXbwI4fG6T6vmv/Wh5xH9OReQlIzHUt9IFQiH0xf80115S4AGqqo15ChtQjXOKETyIZyCPd+vz5z39e8EZctyUwAxn50Y9+VOzxxBNPFNtIjvxgJhzrQsSoa/Hc5iDzn/3sZ8dO5iNhebGVH336lDiHCayCN5IbnBA/qqgw3v/sAU9Cwg50znbsiUyGuG/nsl1fmrgTM13rBL4NI/OW2fRN5ukVuUCm3b/fHyFQM8UhYocEGACLGzgFw93PCy+8UPy7HRfshgj54a+8697Fuji0L1IjL/oBvOY67N+nsInBtvhvk3nx2zeZj1xggOnFPo8++mgh5nMVGMOP+D3+Iz+INcRUvsU7YJLvzJLiA87HD/i/ezaIsR9baP6mhz7wmTjPdGTetXSNobhDFHvMBNAX7KcXOpKzZ9IFXcIbA10xItfwMZhkgCaHKEjoFydwDnmeDzovHhCD28jp4g3O6WMw76yIiH1x7/qqIvMU6+JU3BkcueMAErULDlGBABymFiRv4KM5h1/2AhsjYYoH6pIyYAFIYTyflOlaNaDUNuyw7/0PwD7zmc+UHzt55JVfzzNMe5/BftyT733Gdz5jf59x/tgeLfYVzJwKyfX0FwmRs8U+04lj4z6c398a3bgXVRzBFuA8TKIPx7eb7QZWSIan0XjGqYS6MpJ5Aeq+BCwiy/eOPfbY8oNEgazSyw+QKwCLwCMqHh112mmnlbcT2meYsC17GqjpW9B7cx5iACwAO33XIjWQef4sOSLYpm1jcO3Ngn5s5dFnX/3qVwvoshvARTKAKXstW7asEM9hsx98na1UFxUVJGM+7m9PEIBFbNan1ErmYRAM8cNPU+mwEX4PE9gv1un/jDPOKBgvhtgK6brjjjtKkg1hB3qGBX7sK54QewL3YJZkyc5eZ86m7KuSuSqRebGAmMAm+ZCu6GE6oTuxE0TewynYwdtrEQH3RO+wVyzbXz41aFKwgWfIexTIEESYJfbkX33CPzPYfYprqYXMuxa444eJ4vSyyy4rOptNIteKa9zCUjp+zacReURQ/Bj8ui9EXuECNsE4OAGHIxbgo32d33U4fjbOMCpxL3xzXGSevvigXMqn4ac87MlGdAWL6HqY0BFCTn+wzdN4zP7BO/wTkZdvDNb0yw6KGfpXeGZ7seiJfIpN4kNMnHrqqeWTnUbBbfCCKsk84QAclyN6QoZ1QMcff3wZ3QRJADRGupRr1CXxMgyyi/zEVIokg3RIBpRtysv59cMoSJIAk/AZvp3UETMAoA/9SfqOtQ8jIvLeyOipKyqEgE0frq094vO36hHjMjKyw4EYUnXENejbQEPfzutvjhQJiT7do3tGQNy3AUoQ6umEQ7rP0IVEqR9ATm/We6rGXHvttUUPzj0ozhEO7HjnZR/NvekPERes3gqK+JjinS5IhskkkPm4VwmcHuhLlcp9s4vt/IM92Zt++CJfAegGn3Q4KGxkNA+46Q4Q0zGwAcgGpsBwmG3GJTWQef4lRsQu0s2fVU4AK/CEGexClwAXntgPBgD4G264oWCCQZR+2sLn6F8//NDyFvaVRB2H0DtXn1IrmYcP4oJeEHmEzuzVMBEfYlryUR2zn0+JSMJcunTpRwgPTHV/iIo4koQVbdgedvI3OpAwJVFxon8+CDO7lJrIPAxhBzlGnqRHn8NEbMozsMigS2MP18yvvZETCREj8ppYkNfECVKEHBs4yYmR8+QjxQ1PKYFX+htcEtWH1ETm2USela9hO52yz2ziHhwHcxznXnzKkY4XZ+yAHMoxcOjBBx8seVzRUy6BdaeffnrBP/9bEqzIxj5s49r6EL42TjJv4ILj0Bnshg30CtPlboPf6fgFDiZXmNGwdM4jZ/kRf4fDYkWsmxGBzWxhX/byvX1POeWUgmtiAq4595IlS4r9gi/MV6om8wQIIJ+O8TgjL6IB5MADqUGYKMxNULrt1iupiNouwUviHP5Tn/pUaZKMa6J4xAyx9n9MQUkqjmFcgACsjL4ECpIlIBjM9ypEXtbiVeqqQsiAQDP9JbgABx24TkswDDJUNYzyfO88jjHN6Ry+l6Tch8To3pET16gfwMhpXIvqFRLie/0z5jBxnaEX0z0CnEMDXjqShFRiDJgEl2tpE0aBKGk6h6DQB+fXjwqyipiEoH8DGtVQrxamR/0sD6GbBDLvOmKdKB/mR/xGQPMjgzjfxYDMAAgRcR9sRl8GbW0BqvqlM1VNhITfOZaf0CsgYjN+XovUQObpzrnoJUgH3YsZcYZcSCJ8y2AVqIsjsc92liKoWIk/wBri2tnPd4DYcWzB5uxs6RQCiez3KbWSeQLLJChLNeiM3oeJ+BAD7kW8sBd8ieq6ROh+YBrbwlsk01JKNjSzAvNhooIBTPUDR4MIyRUxhUlwq2sfdC+1kPkQ927AyvcRuWFCL3wZKREbckTEkhzn/R5IIZ+Xh33PJnxfzKgsKjIEmWcH9jEzprrftkM7n/QhbFILmSd83blhCP/FS2YS10+nOEPMzrKFHMDXxJVZFEQU1sI+5zDQcs9mKA2Q5Wf7sUvwC3Yx6MVT+sBn4jzjJPPyqlkqAxl/R06WZxF0Ocy2togF1wx7zALKvbinR5yKD/6Oh4kBPk/3IWwmPnAk8Qef8U7ndyz+5Ly+g3uj4DbVk3kXSMkcUPLy/MwTTjihkEoEj2Mjl9Yz2ZeCOccxxxxTFGgaA/lForyhD0lElihZoKiccnik3JIVU4P614fgQMoFoOqekZRRrn4ZVgJynKq8t3BJQoALsVPJQ5gFDCCTfG2zf4ycOYbrQ9gFJfA86KCDynUYkXMOgxLVKIEoYF23aotzCVgvBTBtpvKLnAwTyZK+9OU4Tk0HAFdQmyplFwMl9wa82+DLqdlKIKoq0IcKAdImgboegWHEyba2GfkbFDh2eWQSyDxgcl/8TSDy7xhc8acgEAFg/AgYsDcwVc0fBA59SZjsayAEXOzHx/hHrEF1HiBfi9RA5gl7RHNO+hU/yDyd8k0YAVANjNgtiAwCqWJioE7nIfoyOBCrloKIVUlYolWtlAhOPvnkYtM+pXYyTy+zkXk2Eif8PuIlCI8ChYGSWOJDigQKFr6Du2IAJkhcbKHowc6wB4Z6mhJ9IPhsrP8uZVLJPKEbGKX5m8/zITnVwAhpV3CSW2AznfI9A1jLPmCa2IJJ8ozqs2q9907AAcs+xJdj+5SaybzcORuZp09+j5CzozgSF/w+OI9qr3yMG8AxNlKkkI/hlTwu7zgGdzniiCOmfpNikDU4C9mlRC4cF5nHyRRycSn3Lq8i6bCbHxskDQ44+ZCcbH+zW3ikQRXeJOfzI3lZTnFPbBICj0488cTyPfLufzwNNuFfrsO5YRwMHEWe1E/VZN5NAhjkQHIAksiOkaYRloSNcCN79uOgFGcfwYu8cmiJ2mPDrFvWjwBxLONwcOTfEggEedGiRQUEGQHJNupCVozAEDaGME0SZN6b5fRrIGBEBtQFjP45jAqh/ZBmgeVaGNmgQdLh4P53bn1Zc44IOz8CbrDBkQxUJDn6cx32N0DhXAgV8GpLVLvog4Hdq/MbMQJZegAsCIm3FtKXawO87BZiEMGh3ROgdj362nHHHZsDDzywVBpM4dEzPXFi5+GoyyuTQOYJv3Q97IssShrAlf2RrSAQAEEyNLAzgDKQG1aZp2/JUPIUK/RLF85hig+B4cu+TzI/s8ABPmuAS9cGsnSJgANSPg8nxIckqEqCzEuWbZ9lQ2AudgxOJQTfs6lqJFvw9ZnIUhcyLjJPr3QGZ/ivxhclwbDzXMl8Wxxr8EW3yKClULAE3rlX+QOZp3OYCB8kX/jKRgZcMFY+cLzvJFg4bZZTXHUptZJ5epuNzNN9O0YRArHiWDmWHdhbcUn8iCl+5m/LnRSe/G0ffsBGfJONfMcOBsPwgK36woMayTycmY3M05EYUwSkR9hFp1E8UNCRC+UEHACZ1x8+gwfhJQZhSLJziCn3jLCafdfwHHHUdVy0hd27JvPwyTlgYOATHzDIwWs8Phl/ghvyqrwsP+B/9DpYwHQsXzegQtQV1eR6fkR/vhcfqu22sY8BlEGYv92nOGA7trANt1PZx7/8P8rZkerJfAgwQYhUwZFtI03khjFU2DkmpTAkUHc+VW4EHKCr6FjbrmLAoEiY7ZKxHy56zJsqA6f3rGxE2Y8YEG7HGNUanTEUgGZYQWcUjIDvuuuuZXmJJGYEpoqHUCDTgMz6Q+cBrIg6nfg/1l8BSWRZXwiycyHyHF1AqxjSgUQlWDmJTwZz7YLaudoi0XJcScXMgYGJQQP9q04i5QAbCUWcAZ/7QsJCODVw57B0A8ABB9JKn8AB0XSNRpqq+xzV/Qxez1xkksg8/0UikDqB63cCfEhAxbX6BKhsK7AACp9sV4CJ5IO4sI/9BDqC4HhA4BxslmR+doE5dMm/DWTFIdLOLnxf8vM/3foUY/Q9jMzTtdji0+KR3dhKNZKtVhUyz47uG86KdeRag71wia4IMm8gurxkXr/ICDxyb/SOpCMtBlqKGQhq4CSbwGE2hFEh/mcjeAWH9TdbFXS+UiOZN1sxFzLfFno0qEJI2IDO3Reck7MQReRFDqRTJMg9KvTwyXas+ztmteVSZIptwk+6ltrIPP+eC5l33Xwfh+FP9G5GURyZ2UfU/K8/RFBOF/v6FXf+t3rAIEqVXg4Wr7iM7ThHPITB933hs/N0TeaRWZgh/hFw53Lv7tPAB4mmU/7NF203qzFI5uNacUSxIw5gKyzix/ig4/iXgoO8QKdWObCB+4E/VnPIP7iLeGRT9jND4Fr4phjFI0cRFxND5o2ujI6QX0CJSKqYI71GWFEdYkxK47SUTsFIO6MgW20yz0jIqPXu++23X1nKg0giTcg/g6nYS5qmRxBYBEXCkjQ5BGJmzbzr8Wx0pNmv/I1+7SfRGXC4HrMF+pAAEWLbEHGVKE7HAZ1HlR954GD2R3CdD9AaEbpOzsIpFixYUAYKquMCvC2OQzjiiR504f6Qb+dCSPSDYHoij4ECUHZfIfQKlFWVOaz+HOuaFy5cWGYFAL/7ASiq9RI5UjTdsp+ZZFLIPBGA7tG10R37GuywdyyjkSDtY1CF6NOh5DYI5gIR6aRX/gNs+ahAByRAiK1UHlWLa5EaybxkSGfiRAEAzrABf0cwxZVYsd0nnSOIBuB0HsJ27g8esBndsxs/hCkSpIEwnOhTxkHmQxfuO9aIKiYgizCKn7J1m8ybqZwLmRdHqo98BiZLxvpDRJBhfanywm0kRYEFZiEubNq+Z9dpgOaaEHkxozLWpdRI5ue6zKYtgWVsINciKnBMTjUrpcLODuIBYdh///2LHegYQYJh7XiPAbQZEvlUP3TVh9RM5ulrOjIv37IBTDUbKGfY3/pquRYfUaRQdKNP+kUY5RzFCPvBOLHCJ/EKuQQHMxgzkMAtxBAbw7I+MNo5uibzdGegiT/oF2abCacfhV8FYAMi1wBfkHOVdtiJYwSZj0Et3sPPxRC9+bSqAc9TKBBfqv/4ZxQ4EXv5BDbZR943+IKJ7CCOxKMc5DeKYmkQw1ZUJobMA3zK5+Aq8wBTP4i7BOJ7DsPB9e0mKIsxVZAomQOpelOkiirQQkIWL15c1p6rehoJUy4yqgphdKXarOkDSLgnimN8iWabbbYpxFZVHUFnbIEXU8PWFxosaBwL8CHlzokAMrAEhsiqfuvDNan60x1QBLTA1b6MpZktQOb1MYzMAwz377wAzT4qWyopRqUc37IZpMC1cziE0r2F0C0nZT9AwhGRF07oB8mW6OgPEQIi+pHs2cqghSOzCZ3NRSaBzNMPMHA94Q/sAqQMmOgLkfUdH7e/gAfCkgtCQi/8FXBo9rEvkhaDJvoT5PxIEgUQgI8+axHXVxuZF0v0JM6t8WUftuDz/FZCFRviil8hfYg53FBBadsFqKsMWyZnP/jgviRm/SNs7rVPGReZh0HuH6lDGvgyouZa2mSeP9ALPzfwDwm9+tTYhQ1gBaIBy1Ub2QTWiRnYgpg4j2YQAYcUZfwvRpyTneCxmIRhYgZWiSOx1qXwrRor8/xSnpC32hK+HbagMzqke/mGPQ3a2AAhRn6RRXFD54iR3MT/2IE/IC3wi4+wBTzztxyDMOmXb841D8xX2KQ2Mg+T+MjgD2AjLjQ+bCDGZnI3fdtfLCne+U2IogL+4jiFHXiHoOIvfI6d2NB94h44CmIaAzz/40G+g2XO27VEvHdJ5vmdYowCLy6iGQi5TzjAF3CJuG/EF+7zZbpzDXThOvUFT+kS/vB5ud0gSGEU/okvWMPX5GTxo2+DKhiokITP6Ac+ixP+JybwQDxPwUM/4m++IuYmgswTAIXQWD6z9tprl4uWCCiecBjKRaai2i4JSyjIluozADLCQtg51llnnVWeG4qA2weAMY4gkbiM7hBUAM2wtgMlQAUskG9EXnWeoY2kndtyIMaTpJB3FQyVDITOICEIsiqsJObeGJTTAR3gw/lUlZxLhd9+zuEeVIINbBiMU9DF4LIWTmQKaY899igDDiQZCBjVS3Cuw49VDRzoCkioarYBV2JF1B0PuAGzezTIoU9TdxKWa2UXfRkgAH9ghPA4H7vMRSaBzPM34Mz+/MG9IQ4C1qyH3w8Ai0iE/ga47gs4qw5I/gEc/M2n//kl8NCPAR/iJlaAHt9QaQl/r0FqJPP8mt/Ro6QG5FwHe6gQ8nNkXCwAYLNobEL3/D/sokDANvzbNK2k6r4QUANfAyzVFsf1KeMg84Q+9C8WJU0NLoXOiEqVQQ/y4fcJbBES+vQZZA/phummr/k5XUpI9Mw28ACpdy7/iyH4rX8kgE3pA366LrYRm6qOiAv8tK1LcU+1kXl24SOqgyqFIUGqXLPGbnQYBRn4JDaQeXmTLeidbvUJxxBRec0SM/lTXjJQRmh8sgWMYjskn50MuqLg1oe4N/dVC5mXmxE4vg436DQk4iKaPCeO6JK+2QC5VyTj9/4XO4T96F3OsQ/70bl7xycQW9VkJBO3YRvYhUfIL46N2O1Swu+6JPP0qB/xT2+auIRPOFj87gz+0w+d0KkZXByV7l2jwoRPOqYv+IPDiAfFILxNLvadY9ybcxssiXfnEHNIuz7wSCsbDC4Ul8SRvnAv/FS8DRZiV0QmiswjTkAESUSMOSpDuQkSCZuRkAvVcYSaIR2HjCLVlArobUdOObub1q913xIKIIrpEVPpnM+IVt8SBCcRcBRn6Y++Hc8xEVwjX0BndGbAEaNrI0HOZCTovIwJHAWVJok5j8GFfTmI4AamCDKnkMQRXPdhIGJpDoINpNqBCQyQENVz1XsDAMBrRsKMASczVa7C71rcu8THZiGczD2rCuiHPjg08mB5j+uXCJzfNJb96AS5Neo0mgXk7DIXmQQyz+7uyX0jK/TINnQjmJALtkSu6Ns25MJAzqyGQObLAp2N+BmyEkCkisKP6NA5EFC204fvw99rkFrJPHLOnyVNQEsQDKCM5IhBfu1vcUbffJ/dYAoAlwwdy/f0qULPzuwjMSA/MGQUQLw8Mi4yz5Z8jx5VEH3y2cAL2IO0GODABfHPf+nQsXyer7t+uub7kh6chHmmstlN0YSuYRR7OBdfcgw7wAfEGWkRQ/qEaRKlT7EpVoLIS85dioReC5kPYmFmOQoqchD9sRN7IRO+pzc2gbn8GVbLB+yAdMqdjo3ZD8fqR/HCsfpW+ZQvEUW5CjFRqIJ5cI79/e2cfWIBm8g5NZB5cUE/cJxe5Uo6DSLIBkHc7cdOvgu/p1c6FBPiQ67g05pcpCjBz2CuwbH4crz4RJ4RfIVK5F38wL5Y3iGn9mEX53BfXZL58H33RHda4BNconN6kIdhh/xgeSUuCO/pDNbDDf4e+KYfOUGc4Jz4oBUOsMe5YC6fkgtsZ2ecwHbnZluYhsfARtgk94gf14If6mu+MlFknvNSNkWEM7aFMQUwEJFMgBPSzNntC5wQ4CDlAImikRFkViVJv8BI0mcglVDTJqZ2JSdGETSOZXAJHWibdgF8QBKps3Zaf7YBesHGcIiDypVzGhE6F6NzQvfnWu3HyTkGh/Kda3Fe50KqjQw5h/Vvqu/6BARtokcXgtt54t6CxBhAAAXHqRQIeE7mGDYLASaSqmMNSILEOM49uw5Bol9JwA/T6Nw57K86ilABrLnIJJB5tqArlRD2RdjZF0AIevqT8CQyulCRsY9ER5d0YR/+I+j15Vh+wH7AQ1ACG+SfjwBi9u0DeJdHXHNNZN75gCrQRm6RubgGceSa+KMYA8z0yzYA1X5AVcWFXfiibWwlQbIx3ArCwmb602+fMi4yP5vwXQMbfovYilv4SX/0yH+RCRiH3IkFFXkzjAodMBOWSXJ8Cpa2dSvZqnYhBLARdsshsJ0dESV2dw72g7t9iOuqhcwjjuxAx/zaNcVAVX7h3/RFh3AHUaRTRR9VfH7kuuU6s9LIBzsN+pU8YSBG74hSDIDlB/nSdjYy8GXrUZCV5RE2qYXM82ExKyfyd77NBnCevVwPf6UrdmvnX2I/OjRQZVO2tA+dyuFwSH7QJxu3YwaWIasGuvKqApFBnv37LEIEjnZJ5meSwH65gQ7hNxyXp+ASf3F9iDwfwTfa1+R4+paXcRoxYRt90yM+Rc/06m82ClGQsL/zBR9wDqTfdudp22xFZaLIPMdHbo1GjWKHJS6ETxAj25IBZ2ZE+zrGdJQbBmK2CRSGY2Tg5jtJHOFiKIbwfQSb4wWfYzmA/hEBzXbnAuwMijQ4j3Mwrn4kXOTXp+uLSitnD4fRJ6fynW2+cy3In+Nch0QGhPXl2t1vgEOI6wuQ5TTuX9/05zxx765Df/TmGOcLcW3uFWjE8Zrj3DOQoSP36XvXFOfwv3M7fhCgppNJIPNsQVfu2f0DarbhM/THBu6X7n1PHwCDPUMXdMyXbbePT/cXfmAwYJtz+NS/89Ym7qcmMk/orh2jIa4l/Nn3dOuTXYJs2N/3dK4f4ji6F8Ns7Tif7B2x26fUSub5PT25PnEMU+gwMIw/8HV6dJ1ww/9IiOIJPPGJ0MDQQf/RP8wSV/AlCh36ck7nY5uIxa4JQgifqYXM0xc9hU7gr88gDK6V7mAS3fN7Db7Su5zFDvKXnGEfffHztuhH7OgbbsE09tAv2/tE8sMOg8d3La6vFjIf+EEf9EnX4iLyAD+nR9flmts5nLAbHfoOVrk3+/hkG/HEpv6OWAtxnO/17dyBXWKkz3zqmtzvuMi88/NBemeHwbxKn5rvcB3Y5HpD4nj+HJzGNvrm94FJ+hNPbBPiOPuzHRuIDfZw/mE2W1Fxnokh822Z7uZtn0kxHFjwRCCFhKGGgY/9KJzifR/BNEwGz+1/+/p0zugjgnlQ7Nc+ZlAcE+DpmjTO6JpH5RTjlEkg8yFsFDaYTu+286W2P4XYBggQFPYb9CnH6ns6X6tB+HNtZH6uQq+DuvW/2GKPYfHJHraP0yaScY1knq0H7d3eFv4ujv09at/QX9h01H3PJPJBLWSeDOpBC4yyTb4I3OHLo9aVc4w7RtikFjJPwg6h67APEQvwRhMbc7GHfRw/W/4Jae8/l/5HLc7JJ8ZF5ttCD66FLtriGsUGMj5X/3WMfthwrvvbVxu16HMiyfx8ZDpntj3aMJnpu7nKbOeYiwweO9/+apJJIvOjkLDdpNpvksn8TFLzdddK5ucik+zr00ltZH42CRusbHZoS21kfjZZ2e3h3moh8zPJJNthlSTzKfXKqkbmJ11WVjJfs0wymV8ZZdLI/Kogk0bmV3aZFDI/yZJkPqUqSTI/WZJkvn9JMl+XJJmvT5LM1yVJ5ruXJPMpVUmS+cmSJPP9S5L5uiTJfH2SZL4uSTLfvSSZT6lKksxPliSZ71+SzNclSebrkyTzdUmS+e4lyXxKVZJkfrIkyXz/kmS+LkkyX58kma9Lksx3L0nmU6qSJPOTJUnm+5ck83VJkvn6JMl8XZJkvntJMp9SlSSZnyxJMt+/JJmvS5LM1ydJ5uuSJPPdS5L5lKokyfxkSZL5/iXJfF2SZL4+STJflySZ717GQubPPffc5oknnkgDpvyFSIoPP/xws+222xYyv8kmmzQ333xzeQ0ygE6pS5DHu+66qzn88MMLidl0002bww47rJAY8Z1kfvTiteAwdZ999pki8+edd155Fb+3F6b0K3DJ6+Fvu+22ZvPNN58i84jk008//ee9UvoUxMYr+ZcuXdosXLiwkPmjjjqqefLJJ8tr9FP6F29KffHFF5vjjjuuDLBwwbPPPrt5/PHHkwuOQPj8yy+/3Fx11VWFN3VO5tdbb71SRRJUXikt2WfLFu1f/uVfmkceeaTZbrvtpsi8ihcAljSHHZNtfE3CvPvuu5sjjjhiisyr0j/33HNpr47aBx980DzzzDPNvvvuO0XmL7jggub1118vZH7YMdm6a/zcbMmdd97ZbLHFFiUOkPpLL720efbZZ4cek63bhjjiF8uWLZsi80cffXTzk5/8pOSSYcdk67699NJLzQknnFBsgguec845zQ9/+MOpwk+2FW+49iuvvNJce+21/ZD5ddddt1myZElz//33N2+88Ubz3nvvNe+88062Vby9++67zfvvv19I4E033dR87GMfKwC84YYbNpdffnnz/PPPN2+++WbZb9jx2fpvbPHLX/6yueaaa5oDDjhgalnUfvvt13z9619vXnvttbJP2mw0jR7hpanUhx56qNltt92myPypp55akuKvfvWrxNQeG5vAJcsHTG9bZiYOfFpCYJYRrqVN+mts8tZbb5VlZ5b0GmCtvfbazSGHHNI88MADpTrMHolL/TR6Dps8+uijZRbXYBcXROzvvffe5ILzbPT79ttvN4899lgp7OBNG2ywQSHzTz311J/Z+F/KvMi8dbWSvRPec889JbgYM9uq3e67777iC9ddd11z5plnlgrvWmut1SxYsKCssbNdBdggcNjx2fpvbHbHHXc0p5xySrPDDjuUhKnasv322zcXXXRRc/vtt5d9tGHHZ1u+Ro/8/8Ybb2wuvPDCMuANMm8wdeWVVxZ7ZIz019gELsEnxEQ1TBysv/76hTxaavPggw+mTXpsbGLp3y233FJ+v7PRRhs1a665ZrPzzjsX3iF+0h79NzYxW6UIwSa4oNnF888/v3DBtMmKt8ixCp9HHnlk4U3I/J577jl6Mm+EINGvvvrqBfC23HLLkvQ1SyqyrdqNHyCEixYtKutNVeVXW221Zo011ihTRltvvfXUfoPHZhtPYwu/bTDwUmUR25Kmv7faaqvyI+aM8dE2utxmm20KflrOEWQeppq6Zo/Ud38tdA2fVOMVICIOVMf80G/x4sVpk56bOBAnbGBwJZcgOOLG9rRH/41N4oevESfJBUfTQn9+i7DxxhsX/OmEzFuntssuuzTrrLNOSTyMyJgImybYsmULX+CIwDeICkLPX9r7ZKunsZeYZit2CzLju7TXaFvoUzy0YyQwtb1Ptv4a3cOpsInPwC32SJuMp7VtkjEy/kb/7DBok4yR+Tf6a+OQ2UGzIJ4sN52sEJk3xWVEFkbLli1btmzZsmXLli3baJtZqZGSeb8q9wOhG264obnkkkvKWtps2bJly5YtW7Zs2bKNvl122WXl9yF+eDydLBeZ98ic3//+982rr77a/PSnPy1PK8mWLVu2bNmyZcuWLdvo2wsvvFCe6IR/TyfLReaJ6rzniP7v//5vtmzZsmXLli1btmzZOmx4N/49nSw3mU9JSUlJSUlJSUlJqUOSzKekpKSkpKSkpKRMqCSZT0lJSUlJSUlJSZlQSTKfkpKSkpKSkpKSMqGSZD4lJSUlJSUlJSVlQiXJfEpKSkpKSkpKSsqESpL5lJSUlJSUlJSUlAmVJPMpKSkpKSkpKSkpEypJ5lNSUlJSUlJSUlImUprm/wGqQD8C6Gzt/wAAAABJRU5ErkJggg==)"
      ],
      "metadata": {
        "id": "nnZO-W2GX2UZ"
      }
    },
    {
      "cell_type": "markdown",
      "source": [
        "# Formulas\n",
        "\n",
        "---\n",
        "\\begin{equation}\n",
        "\\tau = at_1 + bt_2 \\\\\n",
        "t_m = ct_1 + dt_2 \\\\\n",
        "G_p(s) = \\frac{k_pe^{t_ms}}{\\tau s + 1}\n",
        "\\end{equation}\n",
        "\n"
      ],
      "metadata": {
        "id": "IodNCNoSZnTk"
      }
    },
    {
      "cell_type": "markdown",
      "source": [
        "# Alfaro"
      ],
      "metadata": {
        "id": "H7DpW0xFgV1r"
      }
    },
    {
      "cell_type": "code",
      "source": [
        "!pip install control"
      ],
      "metadata": {
        "colab": {
          "base_uri": "https://localhost:8080/"
        },
        "id": "2kAlspfPkWB_",
        "outputId": "bae65cdc-699d-4ae5-eaa3-fb612a7a5383"
      },
      "execution_count": 10,
      "outputs": [
        {
          "output_type": "stream",
          "name": "stdout",
          "text": [
            "Looking in indexes: https://pypi.org/simple, https://us-python.pkg.dev/colab-wheels/public/simple/\n",
            "Collecting control\n",
            "  Downloading control-0.9.3.post2-py3-none-any.whl (432 kB)\n",
            "\u001b[2K     \u001b[90m━━━━━━━━━━━━━━━━━━━━━━━━━━━━━━━━━━━━━━━\u001b[0m \u001b[32m432.8/432.8 KB\u001b[0m \u001b[31m7.7 MB/s\u001b[0m eta \u001b[36m0:00:00\u001b[0m\n",
            "\u001b[?25hRequirement already satisfied: matplotlib in /usr/local/lib/python3.8/dist-packages (from control) (3.2.2)\n",
            "Requirement already satisfied: numpy in /usr/local/lib/python3.8/dist-packages (from control) (1.21.6)\n",
            "Requirement already satisfied: scipy>=1.3 in /usr/local/lib/python3.8/dist-packages (from control) (1.7.3)\n",
            "Requirement already satisfied: python-dateutil>=2.1 in /usr/local/lib/python3.8/dist-packages (from matplotlib->control) (2.8.2)\n",
            "Requirement already satisfied: kiwisolver>=1.0.1 in /usr/local/lib/python3.8/dist-packages (from matplotlib->control) (1.4.4)\n",
            "Requirement already satisfied: pyparsing!=2.0.4,!=2.1.2,!=2.1.6,>=2.0.1 in /usr/local/lib/python3.8/dist-packages (from matplotlib->control) (3.0.9)\n",
            "Requirement already satisfied: cycler>=0.10 in /usr/local/lib/python3.8/dist-packages (from matplotlib->control) (0.11.0)\n",
            "Requirement already satisfied: six>=1.5 in /usr/local/lib/python3.8/dist-packages (from python-dateutil>=2.1->matplotlib->control) (1.15.0)\n",
            "Installing collected packages: control\n",
            "Successfully installed control-0.9.3.post2\n"
          ]
        }
      ]
    },
    {
      "cell_type": "code",
      "source": [
        "# Definimos las constantes\n",
        "td = 1.2\n",
        "t1 = 0.35\n",
        "t2 = 0.6\n",
        "a = -.91\n",
        "b = .91\n",
        "c = 1.262\n",
        "d = -.262\n",
        "k = 2.5\n",
        "# Calculamos el valor de t y tm\n",
        "t = (t1*a) + (t2*b)\n",
        "tm = (t1*c) - (t2*d)\n",
        "e = td + tm\n",
        "# Importamos las librerias\n",
        "import numpy as np\n",
        "import control as cn\n",
        "import matplotlib.pyplot as plt\n",
        "\n",
        "# Definimos las variables\n",
        "num = [k]\n",
        "den =[t,1]\n",
        "transfer_function = cn.tf(num,den)\n",
        "\n",
        "# Definimos el retardo de la funcion de tranferencia\n",
        "numd, dend = cn.pade(e,25) #exp 5 seg.\n",
        "delay = cn.tf(numd,dend)\n",
        "system_delayed=transfer_function*delay\n",
        "\n",
        "# Determinamos el inicio y fin de la grafica\n",
        "tstart =0\n",
        "tend = 14\n",
        "sample = 0.001\n",
        "time = np.arange(tstart,tend+sample, sample)\n",
        "input2 = np.ones(time.shape)\n",
        "input2[0:6]= 0\n",
        "\n",
        "# Definimos la funvion de escalon unitario\n",
        "time, yout = cn.step_response(system_delayed,time)\n",
        "\n",
        "# Definimos el grafico\n",
        "figure = plt.figure(figsize=(10,10))\n",
        "ax = figure.add_subplot(111)\n",
        "ax.plot(time,yout,label ='y(t)')\n",
        "ax.plot(time,input2,'r', label='x(t)')\n",
        "ax.set_title('Plotting Transfer Function')\n",
        "ax.set_xlabel('t')\n",
        "ax.set_ylabel('y(t)')\n",
        "ax.axis([0,8,0,3])#ax.axis([xmin,xmax,ymin,ymax])\n",
        "ax.legend()\n",
        "ax.grid()\n",
        "plt.show()\n"
      ],
      "metadata": {
        "id": "nP2VaWkUWNib",
        "colab": {
          "base_uri": "https://localhost:8080/",
          "height": 676
        },
        "outputId": "3c7ab5a8-8cd8-4d85-cd6a-d12f4f96730d"
      },
      "execution_count": 19,
      "outputs": [
        {
          "output_type": "stream",
          "name": "stderr",
          "text": [
            "/usr/local/lib/python3.8/dist-packages/scipy/sparse/linalg/matfuncs.py:709: LinAlgWarning: Ill-conditioned matrix (rcond=1.56386e-56): result may not be accurate.\n",
            "  return solve(Q, P)\n"
          ]
        },
        {
          "output_type": "display_data",
          "data": {
            "text/plain": [
              "<Figure size 720x720 with 1 Axes>"
            ],
            "image/png": "[encoded data removed]"
          },
          "metadata": {
            "needs_background": "light"
          }
        }
      ]
    },
    {
      "cell_type": "markdown",
      "source": [
        "Bröida"
      ],
      "metadata": {
        "id": "KBabP7lj8lYw"
      }
    },
    {
      "cell_type": "code",
      "source": [
        "# Definimos las constantes\n",
        "td = 1.2\n",
        "t1 = 0.39\n",
        "t2 = 0.65\n",
        "a = -5.5\n",
        "b = 5.5\n",
        "c = 2.8\n",
        "d = -1.8\n",
        "k = 2.5\n",
        "# Calculamos el valor de t y tm\n",
        "t = (t1*a) + (t2*b)\n",
        "tm = (t1*c) - (t2*d)\n",
        "e = td + tm\n",
        "# Importamos las librerias\n",
        "import numpy as np\n",
        "import control as cn\n",
        "import matplotlib.pyplot as plt\n",
        "\n",
        "# Definimos las variables\n",
        "num = [k]\n",
        "den =[t,1]\n",
        "transfer_function = cn.tf(num,den)\n",
        "\n",
        "# Definimos el retardo de la funcion de tranferencia\n",
        "numd, dend = cn.pade(e,25) #exp 5 seg.\n",
        "delay = cn.tf(numd,dend)\n",
        "system_delayed=transfer_function*delay\n",
        "\n",
        "# Determinamos el inicio y fin de la grafica\n",
        "tstart = 0\n",
        "tend = 14\n",
        "sample = 0.001\n",
        "time = np.arange(tstart,tend+sample, sample)\n",
        "input2 = np.ones(time.shape)\n",
        "input2[0:6]= 0\n",
        "\n",
        "# Definimos la funvion de escalon unitario\n",
        "time, yout = cn.step_response(system_delayed,time)\n",
        "\n",
        "# Definimos el grafico\n",
        "figure = plt.figure(figsize=(10,10))\n",
        "ax = figure.add_subplot(111)\n",
        "ax.plot(time,yout,label ='y(t)')\n",
        "ax.plot(time,input2,'r', label='x(t)')\n",
        "ax.set_title('Plotting Transfer Function')\n",
        "ax.set_xlabel('t')\n",
        "ax.set_ylabel('y(t)')\n",
        "ax.axis([0,14,0,3])#ax.axis([xmin,xmax,ymin,ymax])\n",
        "ax.legend()\n",
        "ax.grid()\n",
        "plt.show()\n"
      ],
      "metadata": {
        "colab": {
          "base_uri": "https://localhost:8080/",
          "height": 676
        },
        "id": "BZK-J_6j8jTw",
        "outputId": "7b673ebf-4702-4fc3-d1b3-9d5afb977a26"
      },
      "execution_count": 25,
      "outputs": [
        {
          "output_type": "stream",
          "name": "stderr",
          "text": [
            "/usr/local/lib/python3.8/dist-packages/scipy/sparse/linalg/matfuncs.py:709: LinAlgWarning: Ill-conditioned matrix (rcond=3.24278e-44): result may not be accurate.\n",
            "  return solve(Q, P)\n"
          ]
        },
        {
          "output_type": "display_data",
          "data": {
            "text/plain": [
              "<Figure size 720x720 with 1 Axes>"
            ],
            "image/png": "[encoded data removed]"
          },
          "metadata": {
            "needs_background": "light"
          }
        }
      ]
    }
  ]
}