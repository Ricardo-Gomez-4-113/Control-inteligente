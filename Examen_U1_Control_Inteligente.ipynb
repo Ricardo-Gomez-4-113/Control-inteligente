{
  "nbformat": 4,
  "nbformat_minor": 0,
  "metadata": {
    "colab": {
      "provenance": [],
      "authorship_tag": "ABX9TyMSdPp5eTDZMG9xNIcCexJS",
      "include_colab_link": true
    },
    "kernelspec": {
      "name": "python3",
      "display_name": "Python 3"
    },
    "language_info": {
      "name": "python"
    }
  },
  "cells": [
    {
      "cell_type": "markdown",
      "metadata": {
        "id": "view-in-github",
        "colab_type": "text"
      },
      "source": [
        "<a href=\"https://colab.research.google.com/github/Ricardo-Gomez-4-113/Control-inteligente/blob/main/Examen_U1_Control_Inteligente.ipynb\" target=\"_parent\"><img src=\"https://colab.research.google.com/assets/colab-badge.svg\" alt=\"Open In Colab\"/></a>"
      ]
    },
    {
      "cell_type": "markdown",
      "source": [
        "# CONTROL INTELIGENTE:\n",
        "\n",
        "---\n",
        "\n",
        "## Unidad 1\n",
        "\n",
        "**Ricardo Guadalupe Gomez Martinez**\n",
        "\n",
        "Fecha: 06/03/2023"
      ],
      "metadata": {
        "id": "x4U8Ul2GUGiS"
      }
    },
    {
      "cell_type": "markdown",
      "source": [
        "# INSTRUCTIONES: El alumno realiza lo que se indica en cada ejercicio:"
      ],
      "metadata": {
        "id": "GweApk8rdQK7"
      }
    },
    {
      "cell_type": "markdown",
      "source": [
        "1. Los datos de la medición de velocidad angular en un motor de CD obtenidos \n",
        "mediante un tacómetro por dos personas (A y B), sin realizar cambios en su voltaje de alimentación se muestran a continuación.\n",
        "\n",
        "* Persona A med 1: 648 rpm\n",
        "* Persona A med 2: 640 rpm\n",
        "* Persona A med 3: 630 rpm\n",
        "* Persona B med 1: 670 rpm\n",
        "* Persona B med 2: 650 rpm\n",
        "* Persona B med 3: 645 rpm\n",
        "\n",
        "Si se sabe que la velocidad real del motor es 800 rmp para el valor de voltaje aplicado, determina el error absoluto, relativo, incertidumbre, fidelidad y reproducibilidad con las mediciones obtenidas.\n",
        "\n",
        "¿El sensor es exacto o preciso?\n",
        "\n",
        "El sensor es preciso mas no exacto, debido a que se tiene una diferencia entre la medicion y el valor real, pero los datos son consistentes "
      ],
      "metadata": {
        "id": "CFzXaIaRe56d"
      }
    },
    {
      "cell_type": "markdown",
      "source": [
        "# Formulas\n"
      ],
      "metadata": {
        "id": "WeiRGfNLhxuY"
      }
    },
    {
      "cell_type": "markdown",
      "source": [
        "\\begin{equation}\n",
        "\\text{Error absoluto = resultado - valor verdadero}\n",
        "\\end{equation}\n",
        "\n",
        "\\begin{equation}\n",
        "\\text{Error relativo =} \\tfrac{\\text{Error absoluto}} {\\text{Valor verdadero}}\n",
        "\\end{equation}\n",
        "\n",
        "\\begin{equation}\n",
        "\\text{Incertidumbre = valor máximo - valor mínimo}\n",
        "\\end{equation}\n",
        "\n",
        "\\begin{equation}\n",
        "\\text{fidelidad = |val_med1 - val_med2|}\n",
        "\\end{equation}\n",
        "\n",
        "\\begin{equation}\n",
        "\\text{Reproducibilidad = |val_med1 - val_med2|}\n",
        "\\end{equation}\n"
      ],
      "metadata": {
        "id": "LcdX93aniNMr"
      }
    },
    {
      "cell_type": "markdown",
      "source": [
        "# Error absoluto"
      ],
      "metadata": {
        "id": "BokRppOci1Rx"
      }
    },
    {
      "cell_type": "markdown",
      "source": [
        "# Medicion 1 (Persona a y b)"
      ],
      "metadata": {
        "id": "qQksy4GbjEpz"
      }
    },
    {
      "cell_type": "code",
      "source": [
        "# Definimos las constantes (valor verdadero como vv).\n",
        "vv=800\n",
        "# Definimos los resultados obtenidos para las maediciones.\n",
        "# Medicion 1 (Persona a y b como a1 y b1).\n",
        "a1=648\n",
        "b1=670\n",
        "# Plasmamos la ecuacion para el error absoluto en la siguiente linea para cada operario y definimos error apsoluto como ea.\n",
        "# Operio a\n",
        "ea1a=a1-vv\n",
        "print (\"El error absoluto para el persona a en la medicion 1 es: \"+ str(ea1a)+\"\\n\")\n",
        "# Operio b\n",
        "ea1b=b1-vv\n",
        "print (\"El error absoluto para el persona b en la medicion 1 es: \"+ str(ea1b))"
      ],
      "metadata": {
        "colab": {
          "base_uri": "https://localhost:8080/"
        },
        "id": "lOfP21xqjwVJ",
        "outputId": "641147b5-28ae-448f-ea3c-afb70e3bdb98"
      },
      "execution_count": 60,
      "outputs": [
        {
          "output_type": "stream",
          "name": "stdout",
          "text": [
            "El error absoluto para el persona a en la medicion 1 es: -152\n",
            "\n",
            "El error absoluto para el persona b en la medicion 1 es: -130\n"
          ]
        }
      ]
    },
    {
      "cell_type": "markdown",
      "source": [
        "# Medicion 2 (Persona a y b)"
      ],
      "metadata": {
        "id": "4dgiATSilnSy"
      }
    },
    {
      "cell_type": "code",
      "source": [
        "# Definimos las constantes (valor verdadero como vv).\n",
        "vv=800\n",
        "# Definimos los resultados obtenidos para las maediciones.\n",
        "# Medicion 1 (Persona a y b como a1 y b1).\n",
        "a2=640\n",
        "b2=650\n",
        "# Plasmamos la ecuacion para el error absoluto en la siguiente linea para cada operario y definimos error apsoluto como ea.\n",
        "# Operio a\n",
        "ea2a=a2-vv\n",
        "print (\"El error absoluto para el persona a en la medicion 2 es: \"+ str(ea2a)+\"\\n\")\n",
        "# Operio b\n",
        "ea2b=b2-vv\n",
        "print (\"El error absoluto para el persona b en la medicion 2 es: \"+ str(ea2b))"
      ],
      "metadata": {
        "colab": {
          "base_uri": "https://localhost:8080/"
        },
        "id": "Nm6bl7JLl9Oi",
        "outputId": "ce86d23c-88cd-45f9-cb0b-df5a973d0004"
      },
      "execution_count": 61,
      "outputs": [
        {
          "output_type": "stream",
          "name": "stdout",
          "text": [
            "El error absoluto para el persona a en la medicion 2 es: -160\n",
            "\n",
            "El error absoluto para el persona b en la medicion 2 es: -150\n"
          ]
        }
      ]
    },
    {
      "cell_type": "markdown",
      "source": [
        "# Medicion 3 (Persona a y b)"
      ],
      "metadata": {
        "id": "ekEG7dgho_Wx"
      }
    },
    {
      "cell_type": "code",
      "source": [
        "# Definimos las constantes (valor verdadero como vv).\n",
        "vv=800\n",
        "# Definimos los resultados obtenidos para las maediciones.\n",
        "# Medicion 1 (Persona a y b como a1 y b1).\n",
        "a3=630\n",
        "b3=645\n",
        "# Plasmamos la ecuacion para el error absoluto en la siguiente linea para cada operario y definimos error apsoluto como ea.\n",
        "# Operio a\n",
        "ea3a=a3-vv\n",
        "print (\"El error absoluto para el persona a en la medicion 3 es: \"+ str(ea3a)+\"\\n\")\n",
        "# Operio b\n",
        "ea3b=b3-vv\n",
        "print (\"El error absoluto para el persona b en la medicion 3 es: \"+ str(ea3b))"
      ],
      "metadata": {
        "colab": {
          "base_uri": "https://localhost:8080/"
        },
        "id": "0aggb00IpEfJ",
        "outputId": "ce713fae-4389-4736-905f-2d33e31e8047"
      },
      "execution_count": 62,
      "outputs": [
        {
          "output_type": "stream",
          "name": "stdout",
          "text": [
            "El error absoluto para el persona a en la medicion 3 es: -170\n",
            "\n",
            "El error absoluto para el persona b en la medicion 3 es: -155\n"
          ]
        }
      ]
    },
    {
      "cell_type": "markdown",
      "source": [
        "# Error relativo"
      ],
      "metadata": {
        "id": "R89qWKpqsmNK"
      }
    },
    {
      "cell_type": "markdown",
      "source": [
        "# Medicion 1 (Persona a y b)"
      ],
      "metadata": {
        "id": "eeaVZesQsnn8"
      }
    },
    {
      "cell_type": "code",
      "source": [
        "# Definimos las constantes (valor verdadero como vv, incluimos los errores absolutos calculados con anterioridad (ea1a y ea1b, ea2a y ea2b, ea3a y ea3b), y los integramos en la ecuacion.\n",
        "vv=800\n",
        "# Definimos error relativo como er y agrgamos la ecuacion\n",
        "# Oprario a\n",
        "er1a=(ea1a/vv)*100\n",
        "print(\"El error relativo para el persona a en la medicion 1 es: \" + \"{:.2f}%\\n\".format(er1a))\n",
        "# Oprario b\n",
        "er1b=(ea1b/vv)*100\n",
        "print(\"El error relativo para el persona b en la medicion 1 es: \" + \"{:.2f}%\".format(er1b))"
      ],
      "metadata": {
        "colab": {
          "base_uri": "https://localhost:8080/"
        },
        "id": "xJZkY69Cs8Wv",
        "outputId": "2cce0345-e59b-4fd8-814d-5938bf77ba5c"
      },
      "execution_count": 63,
      "outputs": [
        {
          "output_type": "stream",
          "name": "stdout",
          "text": [
            "El error relativo para el persona a en la medicion 1 es: -19.00%\n",
            "\n",
            "El error relativo para el persona b en la medicion 1 es: -16.25%\n"
          ]
        }
      ]
    },
    {
      "cell_type": "markdown",
      "source": [
        "# Medicion 2 (Persona a y b)"
      ],
      "metadata": {
        "id": "K9IzVYEWt5_3"
      }
    },
    {
      "cell_type": "code",
      "source": [
        "# Definimos las constantes (valor verdadero como vv, incluimos los errores absolutos calculados con anterioridad (ea1a y ea1b, ea2a y ea2b, ea3a y ea3b), y los integramos en la ecuacion.\n",
        "vv=800\n",
        "# Definimos error relativo como er y agrgamos la ecuacion\n",
        "# Oprario a\n",
        "er2a=(ea2a/vv)*100\n",
        "print(\"El error relativo para el persona a en la medicion 2 es: \" + \"{:.2f}%\\n\".format(er2a))\n",
        "# Oprario b\n",
        "er2b=(ea2b/vv)*100\n",
        "print(\"El error relativo para el persona b en la medicion 2 es: \" + \"{:.2f}%\".format(er2b))"
      ],
      "metadata": {
        "colab": {
          "base_uri": "https://localhost:8080/"
        },
        "id": "68yCg2CFuLjY",
        "outputId": "e24e883b-2a0e-4cf4-80af-c75f5571e90c"
      },
      "execution_count": 64,
      "outputs": [
        {
          "output_type": "stream",
          "name": "stdout",
          "text": [
            "El error relativo para el persona a en la medicion 2 es: -20.00%\n",
            "\n",
            "El error relativo para el persona b en la medicion 2 es: -18.75%\n"
          ]
        }
      ]
    },
    {
      "cell_type": "markdown",
      "source": [
        "# Medicion 3 (Persona a y b)"
      ],
      "metadata": {
        "id": "-84cK6hFvaPN"
      }
    },
    {
      "cell_type": "code",
      "source": [
        "# Definimos las constantes (valor verdadero como vv, incluimos los errores absolutos calculados con anterioridad (ea1a y ea1b, ea2a y ea2b, ea3a y ea3b), y los integramos en la ecuacion.\n",
        "vv=800\n",
        "# Definimos error relativo como er y agrgamos la ecuacion\n",
        "# Oprario a\n",
        "er3a=(ea3a/vv)*100\n",
        "print(\"El error relativo para el persona a en la medicion 3 es: \" + \"{:.2f}%\\n\".format(er3a))\n",
        "# Oprario b\n",
        "er3b=(ea3b/vv)*100\n",
        "print(\"El error relativo para el persona b en la medicion 3 es: \" + \"{:.2f}%\".format(er3b))"
      ],
      "metadata": {
        "colab": {
          "base_uri": "https://localhost:8080/"
        },
        "id": "V5trNE3ovdfQ",
        "outputId": "219d04b7-5632-4b0a-a14a-5599196e5a43"
      },
      "execution_count": 65,
      "outputs": [
        {
          "output_type": "stream",
          "name": "stdout",
          "text": [
            "El error relativo para el persona a en la medicion 3 es: -21.25%\n",
            "\n",
            "El error relativo para el persona b en la medicion 3 es: -19.38%\n"
          ]
        }
      ]
    },
    {
      "cell_type": "markdown",
      "source": [
        "# Incertidumbre (a y b)"
      ],
      "metadata": {
        "id": "Fiaf1b_2xGdi"
      }
    },
    {
      "cell_type": "code",
      "source": [
        "# Definimos los valores maximo y minimo como vmax y vmin\n",
        "# Utilizamos la funcion max y min para realizar la tarea anterior\n",
        "\n",
        "# vmax a\n",
        "vmaxa=max([a1, a2, a3])\n",
        "# vmax b\n",
        "vmaxb=max([b1, b2, b3])\n",
        "# vmin a\n",
        "vmina=min([a1, a2, a3])\n",
        "# vmin b\n",
        "vminb=min([b1, b2, b3])\n",
        "\n",
        "# Incertidumbre a\n",
        "# Definimos la formula(incertidumbre queda como inca)\n",
        "inca=vmaxa - vmina\n",
        "print(\"La incertidumbre para a es: \"+str(inca)+\"\\n\")\n",
        "\n",
        "# Incertidumbre b\n",
        "# Definimos la formula(incertidumbre queda como incb)\n",
        "incb=vmaxb - vminb\n",
        "print(\"La incertidumbre para b es: \"+str(incb))"
      ],
      "metadata": {
        "colab": {
          "base_uri": "https://localhost:8080/"
        },
        "id": "t61bCAvixJTU",
        "outputId": "97729914-1624-4e33-e053-ee5cbd47f2a7"
      },
      "execution_count": 66,
      "outputs": [
        {
          "output_type": "stream",
          "name": "stdout",
          "text": [
            "La incertidumbre para a es: 18\n",
            "\n",
            "La incertidumbre para b es: 25\n"
          ]
        }
      ]
    },
    {
      "cell_type": "markdown",
      "source": [
        "# Fidelidad"
      ],
      "metadata": {
        "id": "lkyCDzG5x3M3"
      }
    },
    {
      "cell_type": "markdown",
      "source": [
        "# a"
      ],
      "metadata": {
        "id": "7dMx23Bvx4t1"
      }
    },
    {
      "cell_type": "code",
      "source": [
        "# Utilizamos los valores de las medidads previamente declaradas\n",
        "# Y aplicamos la formula, definimos la fidelidad como fa1, fa2 y fa3\n",
        "\n",
        "# la fidelidad de a1\n",
        "fa1=abs(a1-a2)\n",
        "print(\"La fidelidad 1 de a es: \" + str(fa1) + \"\\n\")\n",
        "# la fidelidad de a2\n",
        "fa2=abs(a1-a3)\n",
        "print(\"La fidelidad 2 de a es: \" + str(fa2) + \"\\n\")\n",
        "# la fidelidad de a2\n",
        "fa3=abs(a3-a2)\n",
        "print(\"La fidelidad 3 de a es: \" + str(fa3) + \"\\n\")"
      ],
      "metadata": {
        "colab": {
          "base_uri": "https://localhost:8080/"
        },
        "id": "suZu_Y1lx_cZ",
        "outputId": "a1f48625-0a21-498d-c47c-23dcb6f3c484"
      },
      "execution_count": 67,
      "outputs": [
        {
          "output_type": "stream",
          "name": "stdout",
          "text": [
            "La fidelidad 1 de a es: 8\n",
            "\n",
            "La fidelidad 2 de a es: 18\n",
            "\n",
            "La fidelidad 3 de a es: 10\n",
            "\n"
          ]
        }
      ]
    },
    {
      "cell_type": "markdown",
      "source": [
        "# b"
      ],
      "metadata": {
        "id": "wx-QDAwLyZmB"
      }
    },
    {
      "cell_type": "code",
      "source": [
        "# Utilizamos los valores de las medidads previamente declaradas\n",
        "# Y aplicamos la formula tomado el absoluto de cada resta, definimos la fidelidad como fb1, fb2 y fb3\n",
        "\n",
        "# la fidelidad de b1\n",
        "fb1=abs(b2-b1)\n",
        "print(\"La fidelidad 1 de b es: \" + str(fb1) + \"\\n\")\n",
        "# la fidelidad de b2\n",
        "fb2=abs(b3-b1)\n",
        "print(\"La fidelidad 2 de b es: \" + str(fb2) + \"\\n\")\n",
        "# la fidelidad de b2\n",
        "fb3=abs(b3-b2)\n",
        "print(\"La fidelidad 3 de b es: \" + str(fb3) + \"\\n\")"
      ],
      "metadata": {
        "colab": {
          "base_uri": "https://localhost:8080/"
        },
        "id": "aOJwnd8uybIe",
        "outputId": "ebce1b34-17b2-46a0-ec22-b2fd2d0dde91"
      },
      "execution_count": 68,
      "outputs": [
        {
          "output_type": "stream",
          "name": "stdout",
          "text": [
            "La fidelidad 1 de b es: 20\n",
            "\n",
            "La fidelidad 2 de b es: 25\n",
            "\n",
            "La fidelidad 3 de b es: 5\n",
            "\n"
          ]
        }
      ]
    },
    {
      "cell_type": "markdown",
      "source": [
        "# Reproducibilidad"
      ],
      "metadata": {
        "id": "IjuRw4Sr1eBp"
      }
    },
    {
      "cell_type": "markdown",
      "source": [
        "# Medicion 1"
      ],
      "metadata": {
        "id": "NPv9MIwk12Wm"
      }
    },
    {
      "cell_type": "code",
      "source": [
        "# Tomamos el valor absoluto de la resta de la medicion del operador a y b\n",
        "re1=abs(a1-b1)\n",
        "print(\"La resproducibilidad de la medicion 1 es: \"+str(re1))"
      ],
      "metadata": {
        "colab": {
          "base_uri": "https://localhost:8080/"
        },
        "id": "0zPDM-MC2Bza",
        "outputId": "d31ddd89-88d7-4c2b-87c8-a07b644d13ab"
      },
      "execution_count": 69,
      "outputs": [
        {
          "output_type": "stream",
          "name": "stdout",
          "text": [
            "La resproducibilidad de la medicion 1 es: 22\n"
          ]
        }
      ]
    },
    {
      "cell_type": "markdown",
      "source": [
        "# Medicion 2"
      ],
      "metadata": {
        "id": "SW42NuJa3pmv"
      }
    },
    {
      "cell_type": "code",
      "source": [
        "# Tomamos el valor absoluto de la resta de la medicion del operador a y b\n",
        "re2=abs(a2-b2)\n",
        "print(\"La resproducibilidad de la medicion 2 es: \"+str(re2))"
      ],
      "metadata": {
        "colab": {
          "base_uri": "https://localhost:8080/"
        },
        "id": "OrPVoCx834eh",
        "outputId": "1336ea02-360b-4009-c001-70e9b7ca23c6"
      },
      "execution_count": 70,
      "outputs": [
        {
          "output_type": "stream",
          "name": "stdout",
          "text": [
            "La resproducibilidad de la medicion 2 es: 10\n"
          ]
        }
      ]
    },
    {
      "cell_type": "markdown",
      "source": [
        "# Medicion 3"
      ],
      "metadata": {
        "id": "8qfA-6FA4Bfz"
      }
    },
    {
      "cell_type": "code",
      "source": [
        "# Tomamos el valor absoluto de la resta de la medicion del operador a y b\n",
        "re3=abs(a3-b3)\n",
        "print(\"La resproducibilidad de la medicion 3 es: \"+str(re3))"
      ],
      "metadata": {
        "colab": {
          "base_uri": "https://localhost:8080/"
        },
        "id": "zbsZivEM4e_I",
        "outputId": "7b9f835d-ee6d-4d2c-b2ba-b83575161c63"
      },
      "execution_count": 71,
      "outputs": [
        {
          "output_type": "stream",
          "name": "stdout",
          "text": [
            "La resproducibilidad de la medicion 3 es: 15\n"
          ]
        }
      ]
    },
    {
      "cell_type": "markdown",
      "source": [
        "2. Se tiene un sensor de distancia con una salida en función de su entrada dada por: \n",
        "\n",
        "\\begin{equation}\n",
        "y(x) = \\frac{x^2}{1000} + 0.01x\n",
        "\\end{equation}\n",
        "\n",
        "La entrada máxima es de 1000 m, determina todas las gráficas de linealidad con una resolución de 200 metros en un umbral de 0 a 1000 m, determina la función que define la sensibilidad del sensor.\n",
        "\n",
        "---\n",
        "\n",
        "\n",
        "\n",
        "# Formulas mínimos cuadrados y sensibilidad\n",
        "\n",
        "\n",
        "---\n",
        "\n",
        "\n",
        "\\begin{equation}\n",
        "y = mx + b \n",
        "\\end{equation}\n",
        "\n",
        "\\begin{equation}\n",
        "m = \\frac{n\\sum xy - \\sum x \\sum y}{n \\sum x^{2} - [\\sum x]^{2}}\n",
        "\\end{equation}\n",
        "\n",
        "\\begin{equation}\n",
        "b = \\frac{\\sum y \\sum x^{2} - \\sum x \\sum xy}{n \\sum x^{2} - [\\sum x]^{2}}\n",
        "\\end{equation}\n",
        "\n",
        "\\begin{equation}\n",
        "y = x^{2} + 2 \\\\\n",
        "s(x) = \\frac{dy}{dx}\n",
        "\\end{equation}"
      ],
      "metadata": {
        "id": "0_wZa8W8GVPR"
      }
    },
    {
      "cell_type": "code",
      "source": [
        "# Calcular y con la ecuación proporcionada en ejercicio\n",
        "x = float(input(\"Introduce el valor de x: \"))\n",
        "y = (x**2/1000)+((x*0.01))\n",
        "print(\"El valor de y para: \"+str(x)+\" es \"+str(y))"
      ],
      "metadata": {
        "colab": {
          "base_uri": "https://localhost:8080/"
        },
        "id": "VhAP0QjvY99L",
        "outputId": "d5510dad-78e8-4cd0-de7b-6bf2bfa416e3"
      },
      "execution_count": 72,
      "outputs": [
        {
          "output_type": "stream",
          "name": "stdout",
          "text": [
            "Introduce el valor de x: 1000\n",
            "El valor de y para: 1000.0 es 1010.0\n"
          ]
        }
      ]
    },
    {
      "cell_type": "code",
      "source": [
        "# Importamos numpy para trabajar con listas\n",
        "import numpy as np\n",
        "# Definimos la entrada x como una lista de datos\n",
        "x2=[0, 200, 400, 600, 800, 1000]\n",
        "\n",
        "# Definimos la salida como el doble de x por la ecuacion y = 2x\n",
        "y2=[0, 42, 164, 366, 648, 1010]\n",
        "\n",
        "# Obenermos el producto de xy mediante la funcion multiply de numpy\n",
        "xy2= np.multiply(x2,y2)\n",
        "\n",
        "# Obenermos el producto de xx mediante la funcion multiply de numpy\n",
        "xx2= np.multiply(x2,x2)\n",
        "\n",
        "# calculamos la sumatorias de x, y, xx, yy con la funcion sum \n",
        "sumx2=sum(x2)\n",
        "sumy2=sum(y2)\n",
        "sumxy2=sum(xy2)\n",
        "sumxx2=sum(xx2)\n",
        "# Calculamos el numero de datos de entrada\n",
        "n2=len(x2)\n",
        "# Aplicamos la formula para m\n",
        "m2=((n2*sumxy2) - (sumx2*sumy2))/((n2*sumxx2) - (sumx2)**2)\n",
        "print(\"El valor de m es: \" +str(m2)+\"\\n\")\n",
        "\n",
        "# Aplicamos la formula para b\n",
        "b2=((sumy2*sumxx2) - (sumx2*sumxy2))/((n2*sumxx2) - (sumx2)**2)\n",
        "print(\"El valor de b es: \" +str(b2)+\"\\n\")"
      ],
      "metadata": {
        "colab": {
          "base_uri": "https://localhost:8080/"
        },
        "id": "5gozj0LhYdiu",
        "outputId": "8c61c547-8a1f-431e-a031-4e82a4b87020"
      },
      "execution_count": 73,
      "outputs": [
        {
          "output_type": "stream",
          "name": "stdout",
          "text": [
            "El valor de m es: 1.01\n",
            "\n",
            "El valor de b es: -133.33333333333334\n",
            "\n"
          ]
        }
      ]
    },
    {
      "cell_type": "markdown",
      "source": [
        "La ecuación resultante es 1.01x -133.33, cuya gráfica se muestra a continuación:"
      ],
      "metadata": {
        "id": "zXddxp2be3we"
      }
    },
    {
      "cell_type": "code",
      "source": [
        "# importamos matplotlib.pyplot para graficar\n",
        "import matplotlib.pyplot as plt\n",
        "# Definimos la funcion para que nos retorne la el valor de y\n",
        "def f1(g):\n",
        "    return (m2*g) + b2\n",
        "# Valores del eje X que toma el gráfico\n",
        "g = range(0, 1000, 200)\n",
        "# Graficar funcion\n",
        "plt.scatter(g, [f1(i) for i in g])\n",
        "plt.plot(g, [f1(i) for i in g])\n",
        "# Colocamos etiquetas para reconocer el eje x, y\n",
        "plt.xlabel('x')\n",
        "plt.ylabel('y')\n",
        "# Asignamos un titulo para la grafica\n",
        "plt.title('1.01x -133.33')\n",
        "plt.show()"
      ],
      "metadata": {
        "colab": {
          "base_uri": "https://localhost:8080/",
          "height": 295
        },
        "id": "qTXEULriezbZ",
        "outputId": "af47276a-03e3-4cba-f1f5-0dade3ddb8d3"
      },
      "execution_count": 74,
      "outputs": [
        {
          "output_type": "display_data",
          "data": {
            "text/plain": [
              "<Figure size 432x288 with 1 Axes>"
            ],
            "image/png": "[encoded data removed]"
          },
          "metadata": {
            "needs_background": "light"
          }
        }
      ]
    },
    {
      "cell_type": "markdown",
      "source": [
        "La sensibilidad de un sensor es igual a la derivada de la funcion que describe el comportamiento del sesor, entonces si tenemos: \n",
        "\n",
        "\\begin{equation}\n",
        "y(x) = \\frac{x^2}{1000} + 0.01x\n",
        "\\end{equation}\n",
        "\n",
        "La sensibilidad seria 0.002x + 0.01  cuya grafica luce de la siguiente manera:"
      ],
      "metadata": {
        "id": "eEwW7CVonm_e"
      }
    },
    {
      "cell_type": "code",
      "source": [
        "# importamos matplotlib.pyplot para graficar\n",
        "import matplotlib.pyplot as plt\n",
        "# Definimos la funcion para que nos retorne la el valor de y\n",
        "def f1(g):\n",
        "    return (.002*g) + .01\n",
        "# Valores del eje X que toma el gráfico\n",
        "g = range(0, 1000, 200)\n",
        "# Graficar funcion\n",
        "plt.scatter(g, [f1(i) for i in g])\n",
        "plt.plot(g, [f1(i) for i in g])\n",
        "# Colocamos etiquetas para reconocer el eje x, y\n",
        "plt.xlabel('x')\n",
        "plt.ylabel('y')\n",
        "# Asignamos un titulo para la grafica\n",
        "plt.title('0.02x + 0.01')\n",
        "plt.show()"
      ],
      "metadata": {
        "colab": {
          "base_uri": "https://localhost:8080/",
          "height": 295
        },
        "id": "aYESErg4hige",
        "outputId": "cd8ff214-98be-4adf-fd66-32d2ae3fcee9"
      },
      "execution_count": 75,
      "outputs": [
        {
          "output_type": "display_data",
          "data": {
            "text/plain": [
              "<Figure size 432x288 with 1 Axes>"
            ],
            "image/png": "[encoded data removed]"
          },
          "metadata": {
            "needs_background": "light"
          }
        }
      ]
    },
    {
      "cell_type": "markdown",
      "source": [
        "# Linealidad ajustada a cero"
      ],
      "metadata": {
        "id": "zc596GEm2LRD"
      }
    },
    {
      "cell_type": "code",
      "source": [
        "import numpy as np\n",
        "import matplotlib.pyplot as plt\n",
        "\n",
        "# Datos de ejemplo\n",
        "x3 = np.array(x2)\n",
        "y3 = np.array(y2)\n",
        "\n",
        "# Calcular los coeficientes de la línea de regresión\n",
        "slope = sumy2/sumx2\n",
        "\n",
        "# Graficar los datos y la línea de regresión\n",
        "plt.scatter(x3, y3)\n",
        "plt.plot(x3, slope * x3)\n",
        "plt.xlabel('X')\n",
        "plt.ylabel('Y')\n",
        "plt.title('Linealidad ajustada a cero')\n",
        "plt.show()"
      ],
      "metadata": {
        "colab": {
          "base_uri": "https://localhost:8080/",
          "height": 295
        },
        "id": "ONP8pLNI2ONj",
        "outputId": "62112739-d522-4ddd-8e0a-383d809fb600"
      },
      "execution_count": 76,
      "outputs": [
        {
          "output_type": "display_data",
          "data": {
            "text/plain": [
              "<Figure size 432x288 with 1 Axes>"
            ],
            "image/png": "[encoded data removed]"
          },
          "metadata": {
            "needs_background": "light"
          }
        }
      ]
    },
    {
      "cell_type": "markdown",
      "source": [
        "# Linealidad terminal"
      ],
      "metadata": {
        "id": "7tJcXiw6oSrk"
      }
    },
    {
      "cell_type": "code",
      "source": [
        "# Arreglos de datos para graficar \n",
        "x2p = np.array(x2)\n",
        "y2p = np.array(y2)\n",
        "# Aproximación de la pendiente\n",
        "m = (y2p[-1] - y2p[-2]) / (x2p[-1] - x2p[-2])\n",
        "\n",
        "# Graficar la curva y la linealidad terminal\n",
        "plt.scatter(x2p, y2p)\n",
        "plt.plot(x2p, y2p, label='Datos experimentales')\n",
        "plt.plot(x2p[-2:], y2p[-2] + m*(x2p[-2:] - x2p[-2]), label='Linealidad terminal')\n",
        "plt.legend()\n",
        "plt.show()"
      ],
      "metadata": {
        "colab": {
          "base_uri": "https://localhost:8080/",
          "height": 265
        },
        "id": "UXYZpi0IoUjc",
        "outputId": "f07f3a60-5877-473f-c58c-9cce5ea127a8"
      },
      "execution_count": 77,
      "outputs": [
        {
          "output_type": "display_data",
          "data": {
            "text/plain": [
              "<Figure size 432x288 with 1 Axes>"
            ],
            "image/png": "[encoded data removed]"
          },
          "metadata": {
            "needs_background": "light"
          }
        }
      ]
    },
    {
      "cell_type": "markdown",
      "source": [
        "# Linealidad a través de los extremos"
      ],
      "metadata": {
        "id": "HD0SZAF-jYsf"
      }
    },
    {
      "cell_type": "code",
      "source": [
        "import numpy as np\n",
        "import matplotlib.pyplot as plt\n",
        "\n",
        "# Definir los datos\n",
        "xe2 = np.array(x2)\n",
        "ye2 = np.array(y2)\n",
        "# Realizar una regresión lineal de los puntos extremos\n",
        "slope, intercept = np.polyfit([xe2[0], xe2[-1]], [ye2[0], ye2[-1]], 1)\n",
        "\n",
        "# Calcular la predicción de la regresión lineal para todo el rango de valores de x\n",
        "xe_range = np.linspace(xe2[0], xe2[-1], 100)\n",
        "ye_pred = slope * xe_range + intercept\n",
        "\n",
        "# Graficar los datos y la línea de regresión\n",
        "plt.plot(xe2, ye2, 'o', label='Datos')\n",
        "plt.plot(xe_range, ye_pred, label='Linealidad')\n",
        "plt.legend()\n",
        "plt.show()"
      ],
      "metadata": {
        "colab": {
          "base_uri": "https://localhost:8080/",
          "height": 265
        },
        "id": "obL40Wo0lZRq",
        "outputId": "2c922b04-830b-4732-c29f-bc32a7176bf6"
      },
      "execution_count": 78,
      "outputs": [
        {
          "output_type": "display_data",
          "data": {
            "text/plain": [
              "<Figure size 432x288 with 1 Axes>"
            ],
            "image/png": "[encoded data removed]"
          },
          "metadata": {
            "needs_background": "light"
          }
        }
      ]
    },
    {
      "cell_type": "markdown",
      "source": [
        "# Linealidad teórica"
      ],
      "metadata": {
        "id": "nmSKIWeylnia"
      }
    },
    {
      "cell_type": "code",
      "source": [
        "import matplotlib.pyplot as plt\n",
        "import numpy as np\n",
        "# Datos experimentales\n",
        "xlt2 = np.array(x2)\n",
        "ylt2 = np.array(y2)\n",
        "# Ecuación de la línea teórica\n",
        "m = m2  # Pendiente\n",
        "b = b2  # Intercepto\n",
        "x_teoria = np.linspace(0, 1000, 5)\n",
        "y_teoria = m * x_teoria + b\n",
        "\n",
        "# Graficar los datos experimentales y la línea teórica\n",
        "plt.plot(xlt2, ylt2, 'o', label='Datos experimentales')\n",
        "plt.plot(x_teoria, y_teoria, label='Línea teórica')\n",
        "plt.legend()\n",
        "plt.xlabel('x')\n",
        "plt.ylabel('y')\n",
        "plt.title('Linealidad teórica')\n",
        "plt.show()"
      ],
      "metadata": {
        "colab": {
          "base_uri": "https://localhost:8080/",
          "height": 295
        },
        "id": "bLDKvfLZAuhs",
        "outputId": "4f7a1e67-0cc3-4f27-b007-4c8017f877c7"
      },
      "execution_count": 79,
      "outputs": [
        {
          "output_type": "display_data",
          "data": {
            "text/plain": [
              "<Figure size 432x288 with 1 Axes>"
            ],
            "image/png": "[encoded data removed]"
          },
          "metadata": {
            "needs_background": "light"
          }
        }
      ]
    },
    {
      "cell_type": "markdown",
      "source": [
        "3. Se consigue un sensor que no tiene error estático para la medición de temperatura en un horno, pero le agrega un comportamiento dinámico al sistema, descrito por: \n",
        "\n",
        "\\begin{equation}\n",
        "\\frac{y(s)}{x(s)} = \\frac{5e^{3s}}{s+5}\n",
        "\\end{equation}\n",
        "\n",
        "Determina la gráfica del comportamiento esperado para el sensor, para una entrada de 450 grados."
      ],
      "metadata": {
        "id": "UFWo8CHqoxLU"
      }
    },
    {
      "cell_type": "markdown",
      "source": [
        "En su forma general queda de la siguinte manera:\n",
        "\n",
        "\\begin{equation}\n",
        "\\frac{y(s)}{x(s)} = \\frac{e^{3s}}{0.2s+1}\n",
        "\\end{equation}"
      ],
      "metadata": {
        "id": "bSmZ_ngUrwat"
      }
    },
    {
      "cell_type": "code",
      "source": [
        "# Importamos las librerias\n",
        "import numpy as np\n",
        "import control as cn\n",
        "import matplotlib.pyplot as plt\n",
        "\n",
        "# Definimos las variables para la fromula general\n",
        "num = [1]\n",
        "den =[.2,1]\n",
        "transfer_function = cn.tf(num,den)\n",
        "\n",
        "# Definimos el retardo de la funcion de tranferencia\n",
        "numd, dend = cn.pade(3,25) #exp 3 seg.\n",
        "delay = cn.tf(numd,dend)\n",
        "system_delayed=transfer_function*delay\n",
        "\n",
        "# Determinamos el inicio y fin de la grafica\n",
        "tstart =0\n",
        "tend = 30\n",
        "sample = 0.001\n",
        "time = np.arange(tstart,tend+sample, sample)\n",
        "input2 = np.ones(time.shape)*450\n",
        "input2[0:6]= 0\n",
        "\n",
        "# Definimos la funcion de escalon unitario lo multiplicamos por 450 de entrada\n",
        "time, yout = cn.step_response(450*system_delayed,time)\n",
        "\n",
        "# Definimos el grafico\n",
        "figure = plt.figure(figsize=(10,10))\n",
        "ax = figure.add_subplot(111)\n",
        "ax.plot(time,yout,label ='y(t)')\n",
        "ax.plot(time,input2,'r', label='x(t)')\n",
        "ax.set_title('Plotting Transfer Function')\n",
        "ax.set_xlabel('t')\n",
        "ax.set_ylabel('y(t)')\n",
        "ax.axis([0,8,0,500])#ax.axis([xmin,xmax,ymin,ymax])\n",
        "ax.legend()\n",
        "ax.grid()\n",
        "plt.show()\n"
      ],
      "metadata": {
        "colab": {
          "base_uri": "https://localhost:8080/",
          "height": 621
        },
        "id": "YGexsF12pe6s",
        "outputId": "f74e45db-3c5c-4855-8e0a-18c85fe0002b"
      },
      "execution_count": 80,
      "outputs": [
        {
          "output_type": "display_data",
          "data": {
            "text/plain": [
              "<Figure size 720x720 with 1 Axes>"
            ],
            "image/png": "[encoded data removed]"
          },
          "metadata": {
            "needs_background": "light"
          }
        }
      ]
    },
    {
      "cell_type": "markdown",
      "source": [
        "\n",
        "\n",
        "---\n",
        "\n",
        "\n",
        "4. Determina la función de transferencia asociada al sensor que tiene la siguiente respuesta a un impulso unitario, el punto de establecimiento se indica con un criterio del 1%."
      ],
      "metadata": {
        "id": "UIXOO5Cv6POB"
      }
    },
    {
      "cell_type": "markdown",
      "source": [
        "\n",
        "\n",
        "---\n",
        "\n",
        "\n",
        "# Formulas\n",
        "\n",
        "\n",
        "---\n",
        "\n",
        "\\begin{equation}\n",
        "k=\\frac{\\varDelta y}{\\varDelta u}\n",
        "\\end{equation}\n",
        "\n",
        "\\begin{equation}\n",
        "n=\\ln (\\frac{1}{\\text{Error deseado}})\n",
        "\\end{equation}\n",
        "\n",
        "\\begin{equation}\n",
        "t_s=\\frac{n}{\\zeta \\omega_n}\\\\\n",
        "\\omega_n=\\frac{n}{\\zeta t_s}\n",
        "\\end{equation}\n",
        "\n",
        "\\begin{equation}\n",
        "\\zeta = \\sqrt(\\frac{\\ln^{2}(Mp)}{\\pi^2+\\ln^{2}(Mp)})\n",
        "\\end{equation}\n",
        "\n",
        "\\begin{equation}\n",
        "Mp = \\frac{y_{max} - y_s}{y_s}\n",
        "\\end{equation}"
      ],
      "metadata": {
        "id": "2PCMkC63Qp9Z"
      }
    },
    {
      "cell_type": "code",
      "source": [
        "# Definimos las variables\n",
        "k = 1.18\n",
        "T = .4\n",
        "Mp = (1.69-1.18)/1.18\n",
        "ts = 1.61\n",
        "# Calculamos z\n",
        "#Importamos la liberia math para realizar operaciones como el logaritmo natural\n",
        "import math as ma\n",
        "p = ma.pi\n",
        "lambd = ((ma.log(Mp)**2)/((p**2) + ((ma.log(Mp))**2)))\n",
        "# Calculamos n\n",
        "n = ma.log(1/.01)\n",
        "# Calculamos w\n",
        "wn = (n)/(lambd*ts)\n",
        "# Definimos la funcion de transferencia\n",
        "num = [k*wn**2]\n",
        "den = [1, 2*lambd*wn, wn**2]\n",
        "transfer_function = cn.tf(num,den)\n",
        "numd, dend = cn.pade(T,25)\n",
        "delay = cn.tf(numd,dend)\n",
        "system_delayed=transfer_function*delay\n",
        "tstart = 0\n",
        "tend = 3\n",
        "sample = 0.001\n",
        "time = np.arange(tstart,tend+sample, sample)\n",
        "input2 = np.ones(time.shape)\n",
        "time, yout = cn.step_response(system_delayed,time)\n",
        "figure = plt.figure(figsize=(10,10))\n",
        "ax = figure.add_subplot(111)\n",
        "ax.plot(time,yout)\n",
        "ax.plot(input2,'r')\n",
        "ax.set_label('Plotting Transfer Function')\n",
        "ax.set_xlabel('t')\n",
        "ax.set_ylabel('x(t)')\n",
        "ax.axis([0,3,0,3])\n",
        "ax.grid()\n",
        "plt.show()"
      ],
      "metadata": {
        "colab": {
          "base_uri": "https://localhost:8080/",
          "height": 609
        },
        "id": "2vVnt7yb6XGO",
        "outputId": "ddc85a5c-80b1-46ed-bc37-bf94f766cf5e"
      },
      "execution_count": 81,
      "outputs": [
        {
          "output_type": "display_data",
          "data": {
            "text/plain": [
              "<Figure size 720x720 with 1 Axes>"
            ],
            "image/png": "[encoded data removed]"
          },
          "metadata": {
            "needs_background": "light"
          }
        }
      ]
    },
    {
      "cell_type": "code",
      "source": [
        "# Imprimir la funcion de traferencia \n",
        "transfer_function"
      ],
      "metadata": {
        "colab": {
          "base_uri": "https://localhost:8080/",
          "height": 39
        },
        "id": "sO_0jlpmVNsn",
        "outputId": "b0217cf9-8433-4e9e-fe8c-cf59d6a31561"
      },
      "execution_count": 82,
      "outputs": [
        {
          "output_type": "execute_result",
          "data": {
            "text/plain": [
              "TransferFunction(array([2179.64596468]), array([1.00000000e+00, 5.72070831e+00, 1.84715760e+03]))"
            ],
            "text/latex": "$$\\frac{2180}{s^2 + 5.721 s + 1847}$$"
          },
          "metadata": {},
          "execution_count": 82
        }
      ]
    },
    {
      "cell_type": "markdown",
      "source": [
        "\n",
        "\n",
        "---\n",
        "\n",
        "\n",
        "5. Identifica la función de transferencia del sistema de segundo orden que corresponde a un sensor de pH, presentar ambos métodos llevándolo a una función de transferencia de primer orden (Bröida) y a una de segundo."
      ],
      "metadata": {
        "id": "6iK9J1a04uPV"
      }
    },
    {
      "cell_type": "markdown",
      "source": [
        "# Bröida"
      ],
      "metadata": {
        "id": "E95R4tivE3iD"
      }
    },
    {
      "cell_type": "markdown",
      "source": [
        "# Formulas\n",
        "\n",
        "---\n",
        "\\begin{equation}\n",
        "\\tau = at_1 + bt_2\n",
        "\\end{equation}\n",
        "\n",
        "\\begin{equation}\n",
        "t_m = ct_1 + dt_2\n",
        "\\end{equation}\n",
        "\n",
        "\\begin{equation}\n",
        "G_p(s) = \\frac{k_pe^{t_ms}}{\\tau s + 1}\n",
        "\\end{equation}\n"
      ],
      "metadata": {
        "id": "GBksK27vF-Ob"
      }
    },
    {
      "cell_type": "code",
      "source": [
        "# Definimos las constantes\n",
        "td = 1.3\n",
        "t1 = 0.1\n",
        "t2 = 0.2\n",
        "a = -5.5\n",
        "b = 5.5\n",
        "c = 2.8\n",
        "d = -1.8\n",
        "k = .2\n",
        "# Calculamos el valor de t y tm\n",
        "t = (t1*a) + (t2*b)\n",
        "tm = (t1*c) - (t2*d)\n",
        "e = td + tm\n",
        "# Importamos las librerias\n",
        "import numpy as np\n",
        "import control as cn\n",
        "import matplotlib.pyplot as plt\n",
        "\n",
        "# Definimos las variables\n",
        "num = [k]\n",
        "den =[t,1]\n",
        "transfer_function = cn.tf(num,den)\n",
        "\n",
        "# Definimos el retardo de la funcion de tranferencia\n",
        "numd, dend = cn.pade(e,25) #exp 5 seg.\n",
        "delay = cn.tf(numd,dend)\n",
        "system_delayed=transfer_function*delay\n",
        "\n",
        "# Determinamos el inicio y fin de la grafica\n",
        "tstart =0\n",
        "tend = 14\n",
        "sample = 0.001\n",
        "time = np.arange(tstart,tend+sample, sample)\n",
        "input2 = np.ones(time.shape)\n",
        "input2[0:6]= 0\n",
        "\n",
        "# Definimos la funvion de escalon unitario\n",
        "time, yout = cn.step_response(system_delayed,time)\n",
        "\n",
        "# Definimos el grafico\n",
        "figure = plt.figure(figsize=(10,10))\n",
        "ax = figure.add_subplot(111)\n",
        "ax.plot(time,yout,label ='y(t)')\n",
        "ax.plot(time,input2,'r', label='x(t)')\n",
        "ax.set_title('Plotting Transfer Function')\n",
        "ax.set_xlabel('t')\n",
        "ax.set_ylabel('y(t)')\n",
        "ax.axis([0,8,0,3])#ax.axis([xmin,xmax,ymin,ymax])\n",
        "ax.legend()\n",
        "ax.grid()\n",
        "plt.show()"
      ],
      "metadata": {
        "colab": {
          "base_uri": "https://localhost:8080/",
          "height": 621
        },
        "id": "90B34FSn6kzb",
        "outputId": "85d3ce23-932c-46b4-8b67-315c38ecf406"
      },
      "execution_count": 83,
      "outputs": [
        {
          "output_type": "display_data",
          "data": {
            "text/plain": [
              "<Figure size 720x720 with 1 Axes>"
            ],
            "image/png": "[encoded data removed]"
          },
          "metadata": {
            "needs_background": "light"
          }
        }
      ]
    },
    {
      "cell_type": "code",
      "source": [
        "# Imprimir la funcion de traferencia \n",
        "transfer_function"
      ],
      "metadata": {
        "colab": {
          "base_uri": "https://localhost:8080/",
          "height": 39
        },
        "id": "3iB5qJtdGk-O",
        "outputId": "a9708129-ebf2-474a-89d7-0e4406b51b2d"
      },
      "execution_count": 84,
      "outputs": [
        {
          "output_type": "execute_result",
          "data": {
            "text/plain": [
              "TransferFunction(array([0.2]), array([0.55, 1.  ]))"
            ],
            "text/latex": "$$\\frac{0.2}{0.55 s + 1}$$"
          },
          "metadata": {},
          "execution_count": 84
        }
      ]
    },
    {
      "cell_type": "markdown",
      "source": [
        "# Segundo metodo \n",
        "\n",
        "# Formulas\n",
        "\n",
        "---\n",
        "\\begin{equation}\n",
        "x_{75} = \\text{Tiempo al 75% de señal}\\\\\n",
        "x_{45} = \\text{Tiempo al 45% de señal}\\\\\n",
        "x_{15} = \\text{Tiempo al 15% de señal}\\\\\n",
        "\\end{equation}\n",
        "\n",
        "\\begin{equation}\n",
        "x = \\frac{t_{45} - t_{15}}{t_{75} - t_{15}}\n",
        "\\end{equation}\n",
        "\n",
        "\\begin{equation}\n",
        "G_p (s) = \\frac{k_p e^{-t_ms}}{(\\tau_1s+t)(\\tau_2s+t)}\n",
        "\\end{equation} \n",
        "\n",
        "\\begin{equation}\n",
        "\\zeta = \\frac{0.0805 - 5.547(0.475-x)^{2}}{x-0.356}\n",
        "\\end{equation}\n",
        "\n",
        "\\begin{equation}\n",
        "f_1(\\zeta) = 0.708(2.811)^2 \\text{ menor o igual a 1}\\\\\n",
        "f_2(\\zeta) = 2.62\\zeta - 0.60 \\text{ menor o igual a 1}\\\\\n",
        "f_3(\\zeta) = 0.922(1.66)^\\zeta\n",
        "\\end{equation}\n",
        "\n",
        "\\begin{equation}\n",
        "\\omega_n = \\frac{f_2(\\zeta)}{t_{75} - t_{15}}\n",
        "\\end{equation}\n",
        "\n",
        "\\begin{equation}\n",
        "t_m = t_{45}-\\frac{f_3(\\zeta)}{\\omega_n}\n",
        "\\end{equation}\n",
        "\n",
        "\\begin{equation}\n",
        "\\tau_1 = \\frac{\\zeta+\t\\sqrt{\\zeta^2-1}}{\\omega_n}\n",
        "\\end{equation}\n",
        "\n",
        "\\begin{equation}\n",
        "\\tau_2 = \\frac{\\zeta-\t\\sqrt{\\zeta^2-1}}{\\omega_n}\n",
        "\\end{equation}\n",
        "\n",
        "\\begin{equation}\n",
        "k_p =\\frac {\\varDelta y}{\\varDelta u}\n",
        "\\end{equation}\n"
      ],
      "metadata": {
        "id": "LZ0vwRTwuPRP"
      }
    },
    {
      "cell_type": "code",
      "source": [
        "# importamos numpy\n",
        "import numpy as np\n",
        "# Definimos las variables\n",
        "t15 = 0.01\n",
        "t45 = .25\n",
        "t75 = .4\n",
        "k = .4\n",
        "# Calculamos x\n",
        "x = (t45-t15)/(t75-t15)\n",
        "# calculamos z\n",
        "z = ((0.0805 - 5.547)*((0.475-x)**2))/(x-0.356)\n",
        "# Calculamos f2 cuando x<=1\n",
        "f2 = 0.708*((2.811)**2)\n",
        "# Calculamos omega\n",
        "w = f2/(t75-t15)\n",
        "# calculamos f3\n",
        "f3 = 0.922*(1.66**z)\n",
        "# Calculamos tm\n",
        "tm = t45 - (f3/w)\n",
        "# Calculamos tau 1 y 2\n",
        "tau1 = (z+(np.sqrt((z**2)-1)))/(w)\n",
        "tau2 = (z-(np.sqrt((z**2)-1)))/(w)\n",
        "#importamos las variables para graficar la funcion de tranferencia \n",
        "import control as cn\n",
        "import matplotlib.pyplot as plt\n",
        "# Definimos la formula general\n",
        "s=cn.tf([1,0],[0,1])\n",
        "transfer_function = k/((tau1*s+1)*(tau2*s+1))\n",
        "# Definimos el retardo de la funcion de tranferencia\n",
        "numd, dend = cn.pade(tm,25) #exp 5 seg.\n",
        "delay = cn.tf(numd,dend)\n",
        "system_delayed=transfer_function*delay\n",
        "\n",
        "# Determinamos el inicio y fin de la grafica\n",
        "tstart = 0\n",
        "tend = 14\n",
        "sample = 0.001\n",
        "time = np.arange(tstart,tend+sample, sample)\n",
        "input2 = np.ones(time.shape)\n",
        "input2[0:6]= 0\n",
        "\n",
        "# Definimos la funvion de escalon unitario\n",
        "time, yout = cn.step_response(system_delayed,time)\n",
        "\n",
        "# Definimos el grafico\n",
        "figure = plt.figure(figsize=(10,10))\n",
        "ax = figure.add_subplot(111)\n",
        "ax.plot(time,yout,label ='y(t)')\n",
        "ax.plot(time,input2,'r', label='x(t)')\n",
        "ax.set_title('Plotting Transfer Function')\n",
        "ax.set_xlabel('t')\n",
        "ax.set_ylabel('y(t)')\n",
        "ax.axis([-3,3,-3,3])#ax.axis([xmin,xmax,ymin,ymax])\n",
        "ax.legend()\n",
        "ax.grid()\n",
        "plt.show()"
      ],
      "metadata": {
        "colab": {
          "base_uri": "https://localhost:8080/",
          "height": 690
        },
        "id": "vYsLeVbvxC4I",
        "outputId": "1ca7144b-f21d-435c-fe12-b113ac05ca71"
      },
      "execution_count": 85,
      "outputs": [
        {
          "output_type": "stream",
          "name": "stderr",
          "text": [
            "<ipython-input-85-6028595139fa>:21: RuntimeWarning: invalid value encountered in sqrt\n",
            "  tau1 = (z+(np.sqrt((z**2)-1)))/(w)\n",
            "<ipython-input-85-6028595139fa>:22: RuntimeWarning: invalid value encountered in sqrt\n",
            "  tau2 = (z-(np.sqrt((z**2)-1)))/(w)\n"
          ]
        },
        {
          "output_type": "display_data",
          "data": {
            "text/plain": [
              "<Figure size 720x720 with 1 Axes>"
            ],
            "image/png": "[encoded data removed]"
          },
          "metadata": {
            "needs_background": "light"
          }
        }
      ]
    },
    {
      "cell_type": "code",
      "source": [
        "# Imprimir la funcion de traferencia \n",
        "transfer_function"
      ],
      "metadata": {
        "colab": {
          "base_uri": "https://localhost:8080/",
          "height": 39
        },
        "id": "nxVYQzGT1x52",
        "outputId": "47960580-31ff-4109-db1f-f161cb8604e6"
      },
      "execution_count": 86,
      "outputs": [
        {
          "output_type": "execute_result",
          "data": {
            "text/plain": [
              "TransferFunction(array([0.4]), array([nan, nan, nan]))"
            ],
            "text/latex": "$$\\frac{0.4}{nan s^2 + nan s + nan}$$"
          },
          "metadata": {},
          "execution_count": 86
        }
      ]
    },
    {
      "cell_type": "code",
      "source": [
        "# Aquí z al cuadrado menos uno da como resultado un numero negativo\n",
        "z**2 -1 "
      ],
      "metadata": {
        "colab": {
          "base_uri": "https://localhost:8080/"
        },
        "id": "SdQNfFwI_TsN",
        "outputId": "f8658a7b-2617-4aa3-9f1c-28f62e1f0bb8"
      },
      "execution_count": 87,
      "outputs": [
        {
          "output_type": "execute_result",
          "data": {
            "text/plain": [
              "-0.8274923561432901"
            ]
          },
          "metadata": {},
          "execution_count": 87
        }
      ]
    },
    {
      "cell_type": "code",
      "source": [
        "# nos da error porque no se puede sacar raíz a un número negativo, al menos no en el plano real\n",
        "np.sqrt(z**2 -1)"
      ],
      "metadata": {
        "colab": {
          "base_uri": "https://localhost:8080/"
        },
        "id": "vsVY-_Nu9Fa7",
        "outputId": "df86f349-83e0-46fa-e52a-b2d552b88a96"
      },
      "execution_count": 88,
      "outputs": [
        {
          "output_type": "stream",
          "name": "stderr",
          "text": [
            "<ipython-input-88-389ee36d9a3a>:2: RuntimeWarning: invalid value encountered in sqrt\n",
            "  np.sqrt(z**2 -1)\n"
          ]
        },
        {
          "output_type": "execute_result",
          "data": {
            "text/plain": [
              "nan"
            ]
          },
          "metadata": {},
          "execution_count": 88
        }
      ]
    },
    {
      "cell_type": "markdown",
      "source": [
        "Esta función no puede resolverse por este método debido a que la raíz de z - 1 seria imaginaria"
      ],
      "metadata": {
        "id": "9ApR4D7595Z9"
      }
    },
    {
      "cell_type": "markdown",
      "source": [
        "\n",
        "\n",
        "---\n",
        "6. Para cada pregunta responde con el concepto e indica un ejemplo:\n",
        "\n"
      ],
      "metadata": {
        "id": "huKl0WvIHSHY"
      }
    },
    {
      "cell_type": "markdown",
      "source": [
        "1. **¿Qué se necesita para que un sistema de control sea controlable?**\n",
        "\n",
        "*   Que se pueda cambiar la respuesta del sistema con el cambio en alguna variable.\n",
        "*   Que se pueda vizualizar el estado del sistema.\n",
        "\n",
        "2. **¿Qué es controlabilidad?**\n",
        "\n",
        "Es la propiedad que describe a un sistema de control y expresa que el mismo puede ser controlado mediante el cambio de una variable, y que a su vez se puede observar su estado en todo momento.\n",
        "\n",
        "3. **¿Qué es observabilidad?**\n",
        "\n",
        "Se refiere a la campacidad del sitema para mostrar al usuario su estado actual.\n",
        "\n",
        "**Ejemplo de las preguntas 1 a 3:**\n",
        "\n",
        "Un aire acondicionado automático, puede aumentar su temperatura conforme lo dicte el ambiente en la proporción que determine el usuario, todo se hace mediante un sensor de temperatura y un microcontrolador que interprete los datos obtenidos por el sensor, mediante ellos se determina el aumento y la disminución de la temperatura, y se muestra al usuario la temperatura actual.\n",
        "\n",
        "4. **¿Qué es la histéresis?**\n",
        "\n",
        "En palabras simples, la respuesta del sistema depende de su estado previo, y no solo de la causa actual.\n",
        "\n",
        "**Ejemplo:**\n",
        "\n",
        "Un ejemplo sería un sensor de temperatura que depende del estado previo del ambiente para la toma de medición.\n",
        "\n",
        "5. **¿Qué es exactitud?**\n",
        "\n",
        "Se refiere a la cercanía de un valor a su valor real.\n",
        "\n",
        "**Ejemplo:**\n",
        "\n",
        "Por ejemplo, si un sensor de temperatura indica 25 grados Celsius cuando la temperatura real es de 27 grados, podemos concluir que el sensor no es exacto.\n",
        "\n",
        "6. **¿Qué es precisión?**\n",
        "\n",
        "Es la capacidad de un resultado o medida de ser cercano\n",
        "\n",
        "**Ejemplo:**\n",
        "\n",
        "Si un sensor es preciso, cada vez que se mida la temperatura, el resultado será cercano al valor verdadero de la temperatura que se está midiendo.\n",
        "7. **¿Qué es fidelidad?**\n",
        "\n",
        "Se refiere a la consistencia o precisión de los datos o mediciones.\n",
        "\n",
        "**Ejemplo:**\n",
        "\n",
        "Si tenemos 10 datos de temperatura tomados con un sensor, todos deberían estar en el mismo rango con pequeñas diferencias. De lo contrario, podríamos concluir que el sensor no es fiable.\n",
        "\n",
        "8. **¿Qué es reproducibilidad?**\n",
        "\n",
        "Es la capacidad de un evento a repetirse en distintos lapsos de tiempo bajo las mismas condiciones.\n",
        "\n",
        "**Ejemplo:**\n",
        "\n",
        "En teoría, si pesamos el mismo objeto 10 veces con una báscula, debería tener el mismo peso en todas las mediciones. De lo contrario, nos daríamos cuenta de que la báscula no está funcionando correctamente."
      ],
      "metadata": {
        "id": "dpRy4A4MIMBI"
      }
    }
  ]
}