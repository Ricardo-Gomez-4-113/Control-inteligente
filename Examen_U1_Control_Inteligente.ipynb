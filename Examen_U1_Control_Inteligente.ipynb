{
  "nbformat": 4,
  "nbformat_minor": 0,
  "metadata": {
    "colab": {
      "provenance": [],
      "authorship_tag": "ABX9TyM/H1iXfiA4a/7iS/ZSBzvt",
      "include_colab_link": true
    },
    "kernelspec": {
      "name": "python3",
      "display_name": "Python 3"
    },
    "language_info": {
      "name": "python"
    }
  },
  "cells": [
    {
      "cell_type": "markdown",
      "metadata": {
        "id": "view-in-github",
        "colab_type": "text"
      },
      "source": [
        "<a href=\"https://colab.research.google.com/github/Ricardo-Gomez-4-113/Control-inteligente/blob/main/Examen_U1_Control_Inteligente.ipynb\" target=\"_parent\"><img src=\"https://colab.research.google.com/assets/colab-badge.svg\" alt=\"Open In Colab\"/></a>"
      ]
    },
    {
      "cell_type": "markdown",
      "source": [
        "# CONTROL INTELIGENTE:\n",
        "\n",
        "---\n",
        "\n",
        "## Unidad 1\n",
        "\n",
        "**Ricardo Guadalupe Gomez Martinez**\n",
        "\n",
        "Fecha: 06/03/2023"
      ],
      "metadata": {
        "id": "x4U8Ul2GUGiS"
      }
    },
    {
      "cell_type": "markdown",
      "source": [
        "# INSTRUCTIONES: El alumno realiza lo que se indica en cada ejercicio:"
      ],
      "metadata": {
        "id": "GweApk8rdQK7"
      }
    },
    {
      "cell_type": "markdown",
      "source": [
        "1. Los datos de la medición de velocidad angular en un motor de CD obtenidos \n",
        "mediante un tacómetro por dos personas (A y B), sin realizar cambios en su voltaje de alimentación se muestran a continuación.\n",
        "\n",
        "* Persona A med 1: 648 rpm\n",
        "* Persona A med 2: 640 rpm\n",
        "* Persona A med 3: 630 rpm\n",
        "* Persona B med 1: 670 rpm\n",
        "* Persona B med 2: 650 rpm\n",
        "* Persona B med 3: 645 rpm\n",
        "\n",
        "Si se sabe que la velocidad real del motor es 800 rmp para el valor de voltaje aplicado, determina el error absoluto, relativo, incertidumbre, fidelidad y reproducibilidad con las mediciones obtenidas.\n",
        "\n",
        "¿El sensor es exacto o preciso?\n",
        "\n",
        "El sensor es preciso mas no exacto, debido a que se tiene una diferencia entre la medicion y el valor real, pero los datos son consistentes "
      ],
      "metadata": {
        "id": "CFzXaIaRe56d"
      }
    },
    {
      "cell_type": "markdown",
      "source": [
        "# Formulas\n"
      ],
      "metadata": {
        "id": "WeiRGfNLhxuY"
      }
    },
    {
      "cell_type": "markdown",
      "source": [
        "\\begin{equation}\n",
        "\\text{Error absoluto = resultado - valor verdadero}\n",
        "\\end{equation}\n",
        "\n",
        "\\begin{equation}\n",
        "\\text{Error relativo =} \\tfrac{\\text{Error absoluto}} {\\text{Valor verdadero}}\n",
        "\\end{equation}\n",
        "\n",
        "\\begin{equation}\n",
        "\\text{Incertidumbre = valor máximo - valor mínimo}\n",
        "\\end{equation}\n",
        "\n",
        "\\begin{equation}\n",
        "\\text{fidelidad = |val_med1 - val_med2|}\n",
        "\\end{equation}\n",
        "\n",
        "\\begin{equation}\n",
        "\\text{Reproducibilidad = |val_med1 - val_med2|}\n",
        "\\end{equation}\n"
      ],
      "metadata": {
        "id": "LcdX93aniNMr"
      }
    },
    {
      "cell_type": "markdown",
      "source": [
        "# Error absoluto"
      ],
      "metadata": {
        "id": "BokRppOci1Rx"
      }
    },
    {
      "cell_type": "markdown",
      "source": [
        "# Medicion 1 (Persona a y b)"
      ],
      "metadata": {
        "id": "qQksy4GbjEpz"
      }
    },
    {
      "cell_type": "code",
      "source": [
        "# Definimos las constantes (valor verdadero como vv).\n",
        "vv=800\n",
        "# Definimos los resultados obtenidos para las maediciones.\n",
        "# Medicion 1 (Persona a y b como a1 y b1).\n",
        "a1=648\n",
        "b1=670\n",
        "# Plasmamos la ecuacion para el error absoluto en la siguiente linea para cada operario y definimos error apsoluto como ea.\n",
        "# Operio a\n",
        "ea1a=a1-vv\n",
        "print (\"El error absoluto para el persona a en la medicion 1 es: \"+ str(ea1a)+\"\\n\")\n",
        "# Operio b\n",
        "ea1b=b1-vv\n",
        "print (\"El error absoluto para el persona b en la medicion 1 es: \"+ str(ea1b))"
      ],
      "metadata": {
        "colab": {
          "base_uri": "https://localhost:8080/"
        },
        "id": "lOfP21xqjwVJ",
        "outputId": "a90339f6-264f-467f-edf5-3b17cebee751"
      },
      "execution_count": 10,
      "outputs": [
        {
          "output_type": "stream",
          "name": "stdout",
          "text": [
            "El error absoluto para el persona a en la medicion 1 es: -152\n",
            "\n",
            "El error absoluto para el persona b en la medicion 1 es: -130\n"
          ]
        }
      ]
    },
    {
      "cell_type": "markdown",
      "source": [
        "# Medicion 2 (Persona a y b)"
      ],
      "metadata": {
        "id": "4dgiATSilnSy"
      }
    },
    {
      "cell_type": "code",
      "source": [
        "# Definimos las constantes (valor verdadero como vv).\n",
        "vv=800\n",
        "# Definimos los resultados obtenidos para las maediciones.\n",
        "# Medicion 1 (Persona a y b como a1 y b1).\n",
        "a2=640\n",
        "b2=650\n",
        "# Plasmamos la ecuacion para el error absoluto en la siguiente linea para cada operario y definimos error apsoluto como ea.\n",
        "# Operio a\n",
        "ea2a=a2-vv\n",
        "print (\"El error absoluto para el persona a en la medicion 2 es: \"+ str(ea2a)+\"\\n\")\n",
        "# Operio b\n",
        "ea2b=b2-vv\n",
        "print (\"El error absoluto para el persona b en la medicion 2 es: \"+ str(ea2b))"
      ],
      "metadata": {
        "colab": {
          "base_uri": "https://localhost:8080/"
        },
        "id": "Nm6bl7JLl9Oi",
        "outputId": "a4e39f30-4916-4e71-8df0-b84bd08491a5"
      },
      "execution_count": 11,
      "outputs": [
        {
          "output_type": "stream",
          "name": "stdout",
          "text": [
            "El error absoluto para el persona a en la medicion 2 es: -160\n",
            "\n",
            "El error absoluto para el persona b en la medicion 2 es: -150\n"
          ]
        }
      ]
    },
    {
      "cell_type": "markdown",
      "source": [
        "# Medicion 3 (Persona a y b)"
      ],
      "metadata": {
        "id": "ekEG7dgho_Wx"
      }
    },
    {
      "cell_type": "code",
      "source": [
        "# Definimos las constantes (valor verdadero como vv).\n",
        "vv=800\n",
        "# Definimos los resultados obtenidos para las maediciones.\n",
        "# Medicion 1 (Persona a y b como a1 y b1).\n",
        "a3=630\n",
        "b3=645\n",
        "# Plasmamos la ecuacion para el error absoluto en la siguiente linea para cada operario y definimos error apsoluto como ea.\n",
        "# Operio a\n",
        "ea3a=a3-vv\n",
        "print (\"El error absoluto para el persona a en la medicion 3 es: \"+ str(ea3a)+\"\\n\")\n",
        "# Operio b\n",
        "ea3b=b3-vv\n",
        "print (\"El error absoluto para el persona b en la medicion 3 es: \"+ str(ea3b))"
      ],
      "metadata": {
        "colab": {
          "base_uri": "https://localhost:8080/"
        },
        "id": "0aggb00IpEfJ",
        "outputId": "db25ceb2-53c4-43c8-c352-e9ff08149745"
      },
      "execution_count": 12,
      "outputs": [
        {
          "output_type": "stream",
          "name": "stdout",
          "text": [
            "El error absoluto para el persona a en la medicion 3 es: -170\n",
            "\n",
            "El error absoluto para el persona b en la medicion 3 es: -155\n"
          ]
        }
      ]
    },
    {
      "cell_type": "markdown",
      "source": [
        "# Error relativo"
      ],
      "metadata": {
        "id": "R89qWKpqsmNK"
      }
    },
    {
      "cell_type": "markdown",
      "source": [
        "# Medicion 1 (Persona a y b)"
      ],
      "metadata": {
        "id": "eeaVZesQsnn8"
      }
    },
    {
      "cell_type": "code",
      "source": [
        "# Definimos las constantes (valor verdadero como vv, incluimos los errores absolutos calculados con anterioridad (ea1a y ea1b, ea2a y ea2b, ea3a y ea3b), y los integramos en la ecuacion.\n",
        "vv=800\n",
        "# Definimos error relativo como er y agrgamos la ecuacion\n",
        "# Oprario a\n",
        "er1a=(ea1a/vv)*100\n",
        "print(\"El error relativo para el persona a en la medicion 1 es: \" + \"{:.2f}%\\n\".format(er1a))\n",
        "# Oprario b\n",
        "er1b=(ea1b/vv)*100\n",
        "print(\"El error relativo para el persona b en la medicion 1 es: \" + \"{:.2f}%\".format(er1b))"
      ],
      "metadata": {
        "colab": {
          "base_uri": "https://localhost:8080/"
        },
        "id": "xJZkY69Cs8Wv",
        "outputId": "78ec1e46-a4f3-4f0f-b2f5-ab12274c2a06"
      },
      "execution_count": 13,
      "outputs": [
        {
          "output_type": "stream",
          "name": "stdout",
          "text": [
            "El error relativo para el persona a en la medicion 1 es: -19.00%\n",
            "\n",
            "El error relativo para el persona b en la medicion 1 es: -16.25%\n"
          ]
        }
      ]
    },
    {
      "cell_type": "markdown",
      "source": [
        "# Medicion 2 (Persona a y b)"
      ],
      "metadata": {
        "id": "K9IzVYEWt5_3"
      }
    },
    {
      "cell_type": "code",
      "source": [
        "# Definimos las constantes (valor verdadero como vv, incluimos los errores absolutos calculados con anterioridad (ea1a y ea1b, ea2a y ea2b, ea3a y ea3b), y los integramos en la ecuacion.\n",
        "vv=800\n",
        "# Definimos error relativo como er y agrgamos la ecuacion\n",
        "# Oprario a\n",
        "er2a=(ea2a/vv)*100\n",
        "print(\"El error relativo para el persona a en la medicion 2 es: \" + \"{:.2f}%\\n\".format(er2a))\n",
        "# Oprario b\n",
        "er2b=(ea2b/vv)*100\n",
        "print(\"El error relativo para el persona b en la medicion 2 es: \" + \"{:.2f}%\".format(er2b))"
      ],
      "metadata": {
        "colab": {
          "base_uri": "https://localhost:8080/"
        },
        "id": "68yCg2CFuLjY",
        "outputId": "0aad143a-1804-49c9-a4b4-8e777f5300e4"
      },
      "execution_count": 14,
      "outputs": [
        {
          "output_type": "stream",
          "name": "stdout",
          "text": [
            "El error relativo para el operio a en la medicion 2 es: -20.00%\n",
            "\n",
            "El error relativo para el operio b en la medicion 2 es: -18.75%\n"
          ]
        }
      ]
    },
    {
      "cell_type": "markdown",
      "source": [
        "# Medicion 3 (Persona a y b)"
      ],
      "metadata": {
        "id": "-84cK6hFvaPN"
      }
    },
    {
      "cell_type": "code",
      "source": [
        "# Definimos las constantes (valor verdadero como vv, incluimos los errores absolutos calculados con anterioridad (ea1a y ea1b, ea2a y ea2b, ea3a y ea3b), y los integramos en la ecuacion.\n",
        "vv=800\n",
        "# Definimos error relativo como er y agrgamos la ecuacion\n",
        "# Oprario a\n",
        "er3a=(ea3a/vv)*100\n",
        "print(\"El error relativo para el persona a en la medicion 3 es: \" + \"{:.2f}%\\n\".format(er3a))\n",
        "# Oprario b\n",
        "er3b=(ea3b/vv)*100\n",
        "print(\"El error relativo para el persona b en la medicion 3 es: \" + \"{:.2f}%\".format(er3b))"
      ],
      "metadata": {
        "colab": {
          "base_uri": "https://localhost:8080/"
        },
        "id": "V5trNE3ovdfQ",
        "outputId": "28355ae5-cde0-4a8e-e528-27a732d2acb5"
      },
      "execution_count": 15,
      "outputs": [
        {
          "output_type": "stream",
          "name": "stdout",
          "text": [
            "El error relativo para el operio b en la medicion 3 es: -21.25%\n",
            "\n",
            "El error relativo para el operio b en la medicion 3 es: -19.38%\n"
          ]
        }
      ]
    },
    {
      "cell_type": "markdown",
      "source": [
        "# Incertidumbre (a y b)"
      ],
      "metadata": {
        "id": "Fiaf1b_2xGdi"
      }
    },
    {
      "cell_type": "code",
      "source": [
        "# Definimos los valores maximo y minimo como vmax y vmin\n",
        "# Utilizamos la funcion max y min para realizar la tarea anterior\n",
        "\n",
        "# vmax a\n",
        "vmaxa=max([a1, a2, a3])\n",
        "# vmax b\n",
        "vmaxb=max([b1, b2, b3])\n",
        "# vmin a\n",
        "vmina=min([a1, a2, a3])\n",
        "# vmin b\n",
        "vminb=min([b1, b2, b3])\n",
        "\n",
        "# Incertidumbre a\n",
        "# Definimos la formula(incertidumbre queda como inca)\n",
        "inca=vmaxa - vmina\n",
        "print(\"La incertidumbre para a es: \"+str(inca)+\"\\n\")\n",
        "\n",
        "# Incertidumbre b\n",
        "# Definimos la formula(incertidumbre queda como incb)\n",
        "incb=vmaxb - vminb\n",
        "print(\"La incertidumbre para b es: \"+str(incb))"
      ],
      "metadata": {
        "colab": {
          "base_uri": "https://localhost:8080/"
        },
        "id": "t61bCAvixJTU",
        "outputId": "f1ddfafe-9071-471b-b2a9-2da8cd409cb3"
      },
      "execution_count": 16,
      "outputs": [
        {
          "output_type": "stream",
          "name": "stdout",
          "text": [
            "La incertidumbre para a es: 18\n",
            "\n",
            "La incertidumbre para b es: 25\n"
          ]
        }
      ]
    },
    {
      "cell_type": "markdown",
      "source": [
        "# Fidelidad"
      ],
      "metadata": {
        "id": "lkyCDzG5x3M3"
      }
    },
    {
      "cell_type": "markdown",
      "source": [
        "# a"
      ],
      "metadata": {
        "id": "7dMx23Bvx4t1"
      }
    },
    {
      "cell_type": "code",
      "source": [
        "# Utilizamos los valores de las medidads previamente declaradas\n",
        "# Y aplicamos la formula, definimos la fidelidad como fa1, fa2 y fa3\n",
        "\n",
        "# la fidelidad de a1\n",
        "fa1=abs(a1-a2)\n",
        "print(\"La fidelidad 1 de a es: \" + str(fa1) + \"\\n\")\n",
        "# la fidelidad de a2\n",
        "fa2=abs(a1-a3)\n",
        "print(\"La fidelidad 2 de a es: \" + str(fa2) + \"\\n\")\n",
        "# la fidelidad de a2\n",
        "fa3=abs(a3-a2)\n",
        "print(\"La fidelidad 3 de a es: \" + str(fa3) + \"\\n\")"
      ],
      "metadata": {
        "colab": {
          "base_uri": "https://localhost:8080/"
        },
        "id": "suZu_Y1lx_cZ",
        "outputId": "7b8a776d-6466-4311-dc6b-ab024f0c33ba"
      },
      "execution_count": 17,
      "outputs": [
        {
          "output_type": "stream",
          "name": "stdout",
          "text": [
            "La fidelidad 1 de a es: 8\n",
            "\n",
            "La fidelidad 2 de a es: 18\n",
            "\n",
            "La fidelidad 3 de a es: 10\n",
            "\n"
          ]
        }
      ]
    },
    {
      "cell_type": "markdown",
      "source": [
        "# b"
      ],
      "metadata": {
        "id": "wx-QDAwLyZmB"
      }
    },
    {
      "cell_type": "code",
      "source": [
        "# Utilizamos los valores de las medidads previamente declaradas\n",
        "# Y aplicamos la formula tomado el absoluto de cada resta, definimos la fidelidad como fb1, fb2 y fb3\n",
        "\n",
        "# la fidelidad de b1\n",
        "fb1=abs(b2-b1)\n",
        "print(\"La fidelidad 1 de b es: \" + str(fb1) + \"\\n\")\n",
        "# la fidelidad de b2\n",
        "fb2=abs(b3-b1)\n",
        "print(\"La fidelidad 2 de b es: \" + str(fb2) + \"\\n\")\n",
        "# la fidelidad de b2\n",
        "fb3=abs(b3-b2)\n",
        "print(\"La fidelidad 3 de b es: \" + str(fb3) + \"\\n\")"
      ],
      "metadata": {
        "colab": {
          "base_uri": "https://localhost:8080/"
        },
        "id": "aOJwnd8uybIe",
        "outputId": "2e24c77f-7565-4056-fc66-e82b971eb6ca"
      },
      "execution_count": 18,
      "outputs": [
        {
          "output_type": "stream",
          "name": "stdout",
          "text": [
            "La fidelidad 1 de b es: 20\n",
            "\n",
            "La fidelidad 2 de b es: 25\n",
            "\n",
            "La fidelidad 3 de b es: 5\n",
            "\n"
          ]
        }
      ]
    },
    {
      "cell_type": "markdown",
      "source": [
        "# Reproducibilidad"
      ],
      "metadata": {
        "id": "IjuRw4Sr1eBp"
      }
    },
    {
      "cell_type": "markdown",
      "source": [
        "# Medicion 1"
      ],
      "metadata": {
        "id": "NPv9MIwk12Wm"
      }
    },
    {
      "cell_type": "code",
      "source": [
        "# Tomamos el valor absoluto de la resta de la medicion del operador a y b\n",
        "re1=abs(a1-b1)\n",
        "print(\"La resproducibilidad de la medicion 1 es: \"+str(re1))"
      ],
      "metadata": {
        "colab": {
          "base_uri": "https://localhost:8080/"
        },
        "id": "0zPDM-MC2Bza",
        "outputId": "d05754da-6440-459f-a5f8-cf9e87751c8f"
      },
      "execution_count": 19,
      "outputs": [
        {
          "output_type": "stream",
          "name": "stdout",
          "text": [
            "La resproducibilidad de la medicion 1 es: 22\n"
          ]
        }
      ]
    },
    {
      "cell_type": "markdown",
      "source": [
        "# Medicion 2"
      ],
      "metadata": {
        "id": "SW42NuJa3pmv"
      }
    },
    {
      "cell_type": "code",
      "source": [
        "# Tomamos el valor absoluto de la resta de la medicion del operador a y b\n",
        "re2=abs(a2-b2)\n",
        "print(\"La resproducibilidad de la medicion 2 es: \"+str(re2))"
      ],
      "metadata": {
        "colab": {
          "base_uri": "https://localhost:8080/"
        },
        "id": "OrPVoCx834eh",
        "outputId": "2f5d6809-735f-41a7-c86c-fd77f4a83466"
      },
      "execution_count": 20,
      "outputs": [
        {
          "output_type": "stream",
          "name": "stdout",
          "text": [
            "La resproducibilidad de la medicion 2 es: 10\n"
          ]
        }
      ]
    },
    {
      "cell_type": "markdown",
      "source": [
        "# Medicion 3"
      ],
      "metadata": {
        "id": "8qfA-6FA4Bfz"
      }
    },
    {
      "cell_type": "code",
      "source": [
        "# Tomamos el valor absoluto de la resta de la medicion del operador a y b\n",
        "re3=abs(a3-b3)\n",
        "print(\"La resproducibilidad de la medicion 3 es: \"+str(re3))"
      ],
      "metadata": {
        "colab": {
          "base_uri": "https://localhost:8080/"
        },
        "id": "zbsZivEM4e_I",
        "outputId": "308a100f-9a31-4ac0-ab74-ce95f090e93c"
      },
      "execution_count": 21,
      "outputs": [
        {
          "output_type": "stream",
          "name": "stdout",
          "text": [
            "La resproducibilidad de la medicion 3 es: 15\n"
          ]
        }
      ]
    },
    {
      "cell_type": "markdown",
      "source": [
        "Se tiene un sensor de distancia con una salida en función de su entrada dada por: \n",
        "\n",
        "\\begin{equation}\n",
        "y(x) = \\frac{x^2}{100} + 0.01x\n",
        "\\end{equation}\n",
        "\n",
        "La entrada máxima es de 1000 m, determina todas las gráficas de linealidad con una resolución de 200 metros en un umbral de 0 a 1000 m, determina la función que define la sensibilidad del sensor.\n",
        "\n",
        "---\n",
        "\n",
        "\n",
        "\n",
        "# Formulas mínimos cuadrados y sensibilidad\n",
        "\n",
        "\n",
        "---\n",
        "\n",
        "\n",
        "\\begin{equation}\n",
        "y = mx + b \n",
        "\\end{equation}\n",
        "\n",
        "\\begin{equation}\n",
        "m = \\frac{n\\sum xy - \\sum x \\sum y}{n \\sum x^{2} - [\\sum x]^{2}}\n",
        "\\end{equation}\n",
        "\n",
        "\\begin{equation}\n",
        "b = \\frac{\\sum y \\sum x^{2} - \\sum x \\sum xy}{n \\sum x^{2} - [\\sum x]^{2}}\n",
        "\\end{equation}\n",
        "\n",
        "\\begin{equation}\n",
        "y = x^{2} + 2 \\\\\n",
        "s(x) = \\frac{dy}{dx}\n",
        "\\end{equation}"
      ],
      "metadata": {
        "id": "0_wZa8W8GVPR"
      }
    },
    {
      "cell_type": "code",
      "source": [
        "# Calcular y con la ecuación proporcionada en ejercicio\n",
        "x = float(input(\"Introduce el valor de x: \"))\n",
        "y = (x**2/100)+((x*0.01))\n",
        "print(\"El valor de y para: \"+str(x)+\" es \"+str(y))"
      ],
      "metadata": {
        "colab": {
          "base_uri": "https://localhost:8080/"
        },
        "id": "VhAP0QjvY99L",
        "outputId": "58da1f75-4e98-4f28-da2e-787790fda15a"
      },
      "execution_count": 12,
      "outputs": [
        {
          "output_type": "stream",
          "name": "stdout",
          "text": [
            "Introduce el valor de x: 1000\n",
            "El valor de y para: 1000.0 es 10010.0\n"
          ]
        }
      ]
    },
    {
      "cell_type": "code",
      "source": [
        "# Importamos numpy para trabajar con listas\n",
        "import numpy as np\n",
        "# Definimos la entrada x como una lista de datos\n",
        "x2=[0, 200, 400, 600, 800, 1000]\n",
        "\n",
        "# Definimos la salida como el doble de x por la ecuacion y = 2x\n",
        "y2=[0, 402, 1604, 3606, 6408, 100102]\n",
        "\n",
        "# Obenermos el producto de xy mediante la funcion multiply de numpy\n",
        "xy2= np.multiply(x2,y2)\n",
        "\n",
        "# Obenermos el producto de xx mediante la funcion multiply de numpy\n",
        "xx2= np.multiply(x2,x2)\n",
        "\n",
        "# calculamos la sumatorias de x, y, xx, yy con la funcion sum \n",
        "sumx2=sum(x2)\n",
        "sumy2=sum(y2)\n",
        "sumxy2=sum(xy2)\n",
        "sumxx2=sum(xx2)\n",
        "# Calculamos el numero de datos de entrada\n",
        "n2=len(x2)\n",
        "# Aplicamos la formula para m\n",
        "m2=((n2*sumxy2) - (sumx2*sumy2))/((n2*sumxx2) - (sumx2)**2)\n",
        "print(\"El valor de m es: \" +str(m2)+\"\\n\")\n",
        "\n",
        "# Aplicamos la formula para b\n",
        "b2=((sumy2*sumxx2) - (sumx2*sumxy2))/((n2*sumxx2) - (sumx2)**2)\n",
        "print(\"El valor de b es: \" +str(b2)+\"\\n\")"
      ],
      "metadata": {
        "colab": {
          "base_uri": "https://localhost:8080/"
        },
        "id": "5gozj0LhYdiu",
        "outputId": "2af58563-980e-4c37-ef3c-b58ac82f2997"
      },
      "execution_count": 2,
      "outputs": [
        {
          "output_type": "stream",
          "name": "stdout",
          "text": [
            "El valor de m es: 74.36142857142858\n",
            "\n",
            "El valor de b es: -18493.714285714286\n",
            "\n"
          ]
        }
      ]
    },
    {
      "cell_type": "markdown",
      "source": [
        "La ecuación resultante es 74.36x - 18493.71, cuya gráfica se muestra a continuación:"
      ],
      "metadata": {
        "id": "zXddxp2be3we"
      }
    },
    {
      "cell_type": "code",
      "source": [
        "# importamos matplotlib.pyplot para graficar\n",
        "import matplotlib.pyplot as plt\n",
        "# Definimos la funcion para que nos retorne la el valor de y\n",
        "def f1(g):\n",
        "    return (m2*g) + b2\n",
        "# Valores del eje X que toma el gráfico\n",
        "g = range(0, 1000, 200)\n",
        "# Graficar funcion\n",
        "plt.scatter(g, [f1(i) for i in g])\n",
        "plt.plot(g, [f1(i) for i in g])\n",
        "# Colocamos etiquetas para reconocer el eje x, y\n",
        "plt.xlabel('x')\n",
        "plt.ylabel('y')\n",
        "# Asignamos un titulo para la grafica\n",
        "plt.title('74.36x - 18493.71')\n",
        "plt.show()"
      ],
      "metadata": {
        "colab": {
          "base_uri": "https://localhost:8080/",
          "height": 295
        },
        "id": "qTXEULriezbZ",
        "outputId": "39c64b4e-768b-4791-b024-66b841bcbe27"
      },
      "execution_count": 29,
      "outputs": [
        {
          "output_type": "display_data",
          "data": {
            "text/plain": [
              "<Figure size 432x288 with 1 Axes>"
            ],
            "image/png": "[encoded data removed]"
          },
          "metadata": {
            "needs_background": "light"
          }
        }
      ]
    },
    {
      "cell_type": "markdown",
      "source": [
        "La sensibilidad de un sensor es igual a la derivada de la funcion que describe el comportamiento del sesor, entonces si tenemos: \n",
        "\n",
        "\\begin{equation}\n",
        "y(x) = \\frac{x^2}{100} + 0.01x\n",
        "\\end{equation}\n",
        "\n",
        "La sensibilidad seria 0.02x + 0.01 cuya grafica luce de la siguiente manera:"
      ],
      "metadata": {
        "id": "eEwW7CVonm_e"
      }
    },
    {
      "cell_type": "code",
      "source": [
        "# importamos matplotlib.pyplot para graficar\n",
        "import matplotlib.pyplot as plt\n",
        "# Definimos la funcion para que nos retorne la el valor de y\n",
        "def f1(g):\n",
        "    return (.02*g) + .01\n",
        "# Valores del eje X que toma el gráfico\n",
        "g = range(0, 1000, 200)\n",
        "# Graficar funcion\n",
        "plt.scatter(g, [f1(i) for i in g])\n",
        "plt.plot(g, [f1(i) for i in g])\n",
        "# Colocamos etiquetas para reconocer el eje x, y\n",
        "plt.xlabel('x')\n",
        "plt.ylabel('y')\n",
        "# Asignamos un titulo para la grafica\n",
        "plt.title('0.02x + 0.01')\n",
        "plt.show()"
      ],
      "metadata": {
        "colab": {
          "base_uri": "https://localhost:8080/",
          "height": 295
        },
        "id": "aYESErg4hige",
        "outputId": "522a8cef-7672-48c6-afef-c11d388c126d"
      },
      "execution_count": 4,
      "outputs": [
        {
          "output_type": "display_data",
          "data": {
            "text/plain": [
              "<Figure size 432x288 with 1 Axes>"
            ],
            "image/png": "[encoded data removed]"
          },
          "metadata": {
            "needs_background": "light"
          }
        }
      ]
    },
    {
      "cell_type": "markdown",
      "source": [
        "# Linealidad ajustada a cero"
      ],
      "metadata": {
        "id": "zc596GEm2LRD"
      }
    },
    {
      "cell_type": "code",
      "source": [
        "import numpy as np\n",
        "import matplotlib.pyplot as plt\n",
        "\n",
        "# Datos de ejemplo\n",
        "x3 = np.array(x2)\n",
        "y3 = np.array(y2)\n",
        "\n",
        "# Calcular los coeficientes de la línea de regresión\n",
        "slope = sumy2/sumx2\n",
        "\n",
        "# Graficar los datos y la línea de regresión\n",
        "plt.scatter(x3, y3)\n",
        "plt.plot(x3, slope * x3)\n",
        "plt.xlabel('X')\n",
        "plt.ylabel('Y')\n",
        "plt.title('Linealidad ajustada a cero')\n",
        "plt.show()"
      ],
      "metadata": {
        "colab": {
          "base_uri": "https://localhost:8080/",
          "height": 295
        },
        "id": "ONP8pLNI2ONj",
        "outputId": "d094e496-2ff1-4d7d-b68e-de8d79dd8db8"
      },
      "execution_count": 8,
      "outputs": [
        {
          "output_type": "display_data",
          "data": {
            "text/plain": [
              "<Figure size 432x288 with 1 Axes>"
            ],
            "image/png": "[encoded data removed]"
          },
          "metadata": {
            "needs_background": "light"
          }
        }
      ]
    },
    {
      "cell_type": "markdown",
      "source": [],
      "metadata": {
        "id": "HD0SZAF-jYsf"
      }
    }
  ]
}