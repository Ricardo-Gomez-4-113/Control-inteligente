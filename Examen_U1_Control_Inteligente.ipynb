{
  "nbformat": 4,
  "nbformat_minor": 0,
  "metadata": {
    "colab": {
      "provenance": [],
      "authorship_tag": "ABX9TyPUIwmdCk1c8vISsyKdjQaj",
      "include_colab_link": true
    },
    "kernelspec": {
      "name": "python3",
      "display_name": "Python 3"
    },
    "language_info": {
      "name": "python"
    }
  },
  "cells": [
    {
      "cell_type": "markdown",
      "metadata": {
        "id": "view-in-github",
        "colab_type": "text"
      },
      "source": [
        "<a href=\"https://colab.research.google.com/github/Ricardo-Gomez-4-113/Control-inteligente/blob/main/Examen_U1_Control_Inteligente.ipynb\" target=\"_parent\"><img src=\"https://colab.research.google.com/assets/colab-badge.svg\" alt=\"Open In Colab\"/></a>"
      ]
    },
    {
      "cell_type": "markdown",
      "source": [
        "# CONTROL INTELIGENTE:\n",
        "\n",
        "---\n",
        "\n",
        "## Unidad 1\n",
        "\n",
        "**Ricardo Guadalupe Gomez Martinez**\n",
        "\n",
        "Fecha: 06/03/2023"
      ],
      "metadata": {
        "id": "x4U8Ul2GUGiS"
      }
    },
    {
      "cell_type": "markdown",
      "source": [
        "# INSTRUCTIONES: El alumno realiza lo que se indica en cada ejercicio:"
      ],
      "metadata": {
        "id": "GweApk8rdQK7"
      }
    },
    {
      "cell_type": "markdown",
      "source": [
        "1. Los datos de la medición de velocidad angular en un motor de CD obtenidos \n",
        "mediante un tacómetro por dos personas (A y B), sin realizar cambios en su voltaje de alimentación se muestran a continuación.\n",
        "\n",
        "* Persona A med 1: 648 rpm\n",
        "* Persona A med 2: 640 rpm\n",
        "* Persona A med 3: 630 rpm\n",
        "* Persona B med 1: 670 rpm\n",
        "* Persona B med 2: 650 rpm\n",
        "* Persona B med 3: 645 rpm\n",
        "\n",
        "Si se sabe que la velocidad real del motor es 800 rmp para el valor de voltaje aplicado, determina el error absoluto, relativo, incertidumbre, fidelidad y reproducibilidad con las mediciones obtenidas.\n",
        "\n",
        "¿El sensor es exacto o preciso?\n",
        "\n",
        "El sensor es preciso mas no exacto, debido a que se tiene una diferencia entre la medicion y el valor real, pero los datos son consistentes "
      ],
      "metadata": {
        "id": "CFzXaIaRe56d"
      }
    },
    {
      "cell_type": "markdown",
      "source": [
        "# Formulas\n"
      ],
      "metadata": {
        "id": "WeiRGfNLhxuY"
      }
    },
    {
      "cell_type": "markdown",
      "source": [
        "\\begin{equation}\n",
        "\\text{Error absoluto = resultado - valor verdadero}\n",
        "\\end{equation}\n",
        "\n",
        "\\begin{equation}\n",
        "\\text{Error relativo =} \\tfrac{\\text{Error absoluto}} {\\text{Valor verdadero}}\n",
        "\\end{equation}\n",
        "\n",
        "\\begin{equation}\n",
        "\\text{Incertidumbre = valor máximo - valor mínimo}\n",
        "\\end{equation}\n",
        "\n",
        "\\begin{equation}\n",
        "\\text{fidelidad = |val_med1 - val_med2|}\n",
        "\\end{equation}\n",
        "\n",
        "\\begin{equation}\n",
        "\\text{Reproducibilidad = |val_med1 - val_med2|}\n",
        "\\end{equation}\n"
      ],
      "metadata": {
        "id": "LcdX93aniNMr"
      }
    },
    {
      "cell_type": "markdown",
      "source": [
        "# Error absoluto"
      ],
      "metadata": {
        "id": "BokRppOci1Rx"
      }
    },
    {
      "cell_type": "markdown",
      "source": [
        "# Medicion 1 (Persona a y b)"
      ],
      "metadata": {
        "id": "qQksy4GbjEpz"
      }
    },
    {
      "cell_type": "code",
      "source": [
        "# Definimos las constantes (valor verdadero como vv).\n",
        "vv=800\n",
        "# Definimos los resultados obtenidos para las maediciones.\n",
        "# Medicion 1 (Persona a y b como a1 y b1).\n",
        "a1=648\n",
        "b1=670\n",
        "# Plasmamos la ecuacion para el error absoluto en la siguiente linea para cada operario y definimos error apsoluto como ea.\n",
        "# Operio a\n",
        "ea1a=a1-vv\n",
        "print (\"El error absoluto para el persona a en la medicion 1 es: \"+ str(ea1a)+\"\\n\")\n",
        "# Operio b\n",
        "ea1b=b1-vv\n",
        "print (\"El error absoluto para el persona b en la medicion 1 es: \"+ str(ea1b))"
      ],
      "metadata": {
        "colab": {
          "base_uri": "https://localhost:8080/"
        },
        "id": "lOfP21xqjwVJ",
        "outputId": "f2740ab6-5989-41f1-f757-c634184014ec"
      },
      "execution_count": null,
      "outputs": [
        {
          "output_type": "stream",
          "name": "stdout",
          "text": [
            "El error absoluto para el persona a en la medicion 1 es: -152\n",
            "\n",
            "El error absoluto para el persona b en la medicion 1 es: -130\n"
          ]
        }
      ]
    },
    {
      "cell_type": "markdown",
      "source": [
        "# Medicion 2 (Persona a y b)"
      ],
      "metadata": {
        "id": "4dgiATSilnSy"
      }
    },
    {
      "cell_type": "code",
      "source": [
        "# Definimos las constantes (valor verdadero como vv).\n",
        "vv=800\n",
        "# Definimos los resultados obtenidos para las maediciones.\n",
        "# Medicion 1 (Persona a y b como a1 y b1).\n",
        "a2=640\n",
        "b2=650\n",
        "# Plasmamos la ecuacion para el error absoluto en la siguiente linea para cada operario y definimos error apsoluto como ea.\n",
        "# Operio a\n",
        "ea2a=a2-vv\n",
        "print (\"El error absoluto para el persona a en la medicion 2 es: \"+ str(ea2a)+\"\\n\")\n",
        "# Operio b\n",
        "ea2b=b2-vv\n",
        "print (\"El error absoluto para el persona b en la medicion 2 es: \"+ str(ea2b))"
      ],
      "metadata": {
        "colab": {
          "base_uri": "https://localhost:8080/"
        },
        "id": "Nm6bl7JLl9Oi",
        "outputId": "202c2b05-1efe-43f4-8a44-6972cd498a7b"
      },
      "execution_count": null,
      "outputs": [
        {
          "output_type": "stream",
          "name": "stdout",
          "text": [
            "El error absoluto para el persona a en la medicion 2 es: -160\n",
            "\n",
            "El error absoluto para el persona b en la medicion 2 es: -150\n"
          ]
        }
      ]
    },
    {
      "cell_type": "markdown",
      "source": [
        "# Medicion 3 (Persona a y b)"
      ],
      "metadata": {
        "id": "ekEG7dgho_Wx"
      }
    },
    {
      "cell_type": "code",
      "source": [
        "# Definimos las constantes (valor verdadero como vv).\n",
        "vv=800\n",
        "# Definimos los resultados obtenidos para las maediciones.\n",
        "# Medicion 1 (Persona a y b como a1 y b1).\n",
        "a3=630\n",
        "b3=645\n",
        "# Plasmamos la ecuacion para el error absoluto en la siguiente linea para cada operario y definimos error apsoluto como ea.\n",
        "# Operio a\n",
        "ea3a=a3-vv\n",
        "print (\"El error absoluto para el persona a en la medicion 3 es: \"+ str(ea3a)+\"\\n\")\n",
        "# Operio b\n",
        "ea3b=b3-vv\n",
        "print (\"El error absoluto para el persona b en la medicion 3 es: \"+ str(ea3b))"
      ],
      "metadata": {
        "colab": {
          "base_uri": "https://localhost:8080/"
        },
        "id": "0aggb00IpEfJ",
        "outputId": "d31791e8-20f4-4814-f14e-93aff61d5e89"
      },
      "execution_count": null,
      "outputs": [
        {
          "output_type": "stream",
          "name": "stdout",
          "text": [
            "El error absoluto para el persona a en la medicion 3 es: -170\n",
            "\n",
            "El error absoluto para el persona b en la medicion 3 es: -155\n"
          ]
        }
      ]
    },
    {
      "cell_type": "markdown",
      "source": [
        "# Error relativo"
      ],
      "metadata": {
        "id": "R89qWKpqsmNK"
      }
    },
    {
      "cell_type": "markdown",
      "source": [
        "# Medicion 1 (Persona a y b)"
      ],
      "metadata": {
        "id": "eeaVZesQsnn8"
      }
    },
    {
      "cell_type": "code",
      "source": [
        "# Definimos las constantes (valor verdadero como vv, incluimos los errores absolutos calculados con anterioridad (ea1a y ea1b, ea2a y ea2b, ea3a y ea3b), y los integramos en la ecuacion.\n",
        "vv=800\n",
        "# Definimos error relativo como er y agrgamos la ecuacion\n",
        "# Oprario a\n",
        "er1a=(ea1a/vv)*100\n",
        "print(\"El error relativo para el persona a en la medicion 1 es: \" + \"{:.2f}%\\n\".format(er1a))\n",
        "# Oprario b\n",
        "er1b=(ea1b/vv)*100\n",
        "print(\"El error relativo para el persona b en la medicion 1 es: \" + \"{:.2f}%\".format(er1b))"
      ],
      "metadata": {
        "colab": {
          "base_uri": "https://localhost:8080/"
        },
        "id": "xJZkY69Cs8Wv",
        "outputId": "32953a28-adaa-416b-9082-3d3d853c7640"
      },
      "execution_count": null,
      "outputs": [
        {
          "output_type": "stream",
          "name": "stdout",
          "text": [
            "El error relativo para el persona a en la medicion 1 es: -19.00%\n",
            "\n",
            "El error relativo para el persona b en la medicion 1 es: -16.25%\n"
          ]
        }
      ]
    },
    {
      "cell_type": "markdown",
      "source": [
        "# Medicion 2 (Persona a y b)"
      ],
      "metadata": {
        "id": "K9IzVYEWt5_3"
      }
    },
    {
      "cell_type": "code",
      "source": [
        "# Definimos las constantes (valor verdadero como vv, incluimos los errores absolutos calculados con anterioridad (ea1a y ea1b, ea2a y ea2b, ea3a y ea3b), y los integramos en la ecuacion.\n",
        "vv=800\n",
        "# Definimos error relativo como er y agrgamos la ecuacion\n",
        "# Oprario a\n",
        "er2a=(ea2a/vv)*100\n",
        "print(\"El error relativo para el persona a en la medicion 2 es: \" + \"{:.2f}%\\n\".format(er2a))\n",
        "# Oprario b\n",
        "er2b=(ea2b/vv)*100\n",
        "print(\"El error relativo para el persona b en la medicion 2 es: \" + \"{:.2f}%\".format(er2b))"
      ],
      "metadata": {
        "colab": {
          "base_uri": "https://localhost:8080/"
        },
        "id": "68yCg2CFuLjY",
        "outputId": "168bf46b-39e2-4fa7-d7fb-c8608eb32adf"
      },
      "execution_count": null,
      "outputs": [
        {
          "output_type": "stream",
          "name": "stdout",
          "text": [
            "El error relativo para el persona a en la medicion 2 es: -20.00%\n",
            "\n",
            "El error relativo para el persona b en la medicion 2 es: -18.75%\n"
          ]
        }
      ]
    },
    {
      "cell_type": "markdown",
      "source": [
        "# Medicion 3 (Persona a y b)"
      ],
      "metadata": {
        "id": "-84cK6hFvaPN"
      }
    },
    {
      "cell_type": "code",
      "source": [
        "# Definimos las constantes (valor verdadero como vv, incluimos los errores absolutos calculados con anterioridad (ea1a y ea1b, ea2a y ea2b, ea3a y ea3b), y los integramos en la ecuacion.\n",
        "vv=800\n",
        "# Definimos error relativo como er y agrgamos la ecuacion\n",
        "# Oprario a\n",
        "er3a=(ea3a/vv)*100\n",
        "print(\"El error relativo para el persona a en la medicion 3 es: \" + \"{:.2f}%\\n\".format(er3a))\n",
        "# Oprario b\n",
        "er3b=(ea3b/vv)*100\n",
        "print(\"El error relativo para el persona b en la medicion 3 es: \" + \"{:.2f}%\".format(er3b))"
      ],
      "metadata": {
        "colab": {
          "base_uri": "https://localhost:8080/"
        },
        "id": "V5trNE3ovdfQ",
        "outputId": "31893540-d1ac-40c4-9504-05e737d7b648"
      },
      "execution_count": null,
      "outputs": [
        {
          "output_type": "stream",
          "name": "stdout",
          "text": [
            "El error relativo para el persona a en la medicion 3 es: -21.25%\n",
            "\n",
            "El error relativo para el persona b en la medicion 3 es: -19.38%\n"
          ]
        }
      ]
    },
    {
      "cell_type": "markdown",
      "source": [
        "# Incertidumbre (a y b)"
      ],
      "metadata": {
        "id": "Fiaf1b_2xGdi"
      }
    },
    {
      "cell_type": "code",
      "source": [
        "# Definimos los valores maximo y minimo como vmax y vmin\n",
        "# Utilizamos la funcion max y min para realizar la tarea anterior\n",
        "\n",
        "# vmax a\n",
        "vmaxa=max([a1, a2, a3])\n",
        "# vmax b\n",
        "vmaxb=max([b1, b2, b3])\n",
        "# vmin a\n",
        "vmina=min([a1, a2, a3])\n",
        "# vmin b\n",
        "vminb=min([b1, b2, b3])\n",
        "\n",
        "# Incertidumbre a\n",
        "# Definimos la formula(incertidumbre queda como inca)\n",
        "inca=vmaxa - vmina\n",
        "print(\"La incertidumbre para a es: \"+str(inca)+\"\\n\")\n",
        "\n",
        "# Incertidumbre b\n",
        "# Definimos la formula(incertidumbre queda como incb)\n",
        "incb=vmaxb - vminb\n",
        "print(\"La incertidumbre para b es: \"+str(incb))"
      ],
      "metadata": {
        "colab": {
          "base_uri": "https://localhost:8080/"
        },
        "id": "t61bCAvixJTU",
        "outputId": "9215b5a2-2097-43e3-f2fe-ed3cd2ed9023"
      },
      "execution_count": null,
      "outputs": [
        {
          "output_type": "stream",
          "name": "stdout",
          "text": [
            "La incertidumbre para a es: 18\n",
            "\n",
            "La incertidumbre para b es: 25\n"
          ]
        }
      ]
    },
    {
      "cell_type": "markdown",
      "source": [
        "# Fidelidad"
      ],
      "metadata": {
        "id": "lkyCDzG5x3M3"
      }
    },
    {
      "cell_type": "markdown",
      "source": [
        "# a"
      ],
      "metadata": {
        "id": "7dMx23Bvx4t1"
      }
    },
    {
      "cell_type": "code",
      "source": [
        "# Utilizamos los valores de las medidads previamente declaradas\n",
        "# Y aplicamos la formula, definimos la fidelidad como fa1, fa2 y fa3\n",
        "\n",
        "# la fidelidad de a1\n",
        "fa1=abs(a1-a2)\n",
        "print(\"La fidelidad 1 de a es: \" + str(fa1) + \"\\n\")\n",
        "# la fidelidad de a2\n",
        "fa2=abs(a1-a3)\n",
        "print(\"La fidelidad 2 de a es: \" + str(fa2) + \"\\n\")\n",
        "# la fidelidad de a2\n",
        "fa3=abs(a3-a2)\n",
        "print(\"La fidelidad 3 de a es: \" + str(fa3) + \"\\n\")"
      ],
      "metadata": {
        "colab": {
          "base_uri": "https://localhost:8080/"
        },
        "id": "suZu_Y1lx_cZ",
        "outputId": "3ffce613-8862-4c7c-f05b-9c00466d0119"
      },
      "execution_count": null,
      "outputs": [
        {
          "output_type": "stream",
          "name": "stdout",
          "text": [
            "La fidelidad 1 de a es: 8\n",
            "\n",
            "La fidelidad 2 de a es: 18\n",
            "\n",
            "La fidelidad 3 de a es: 10\n",
            "\n"
          ]
        }
      ]
    },
    {
      "cell_type": "markdown",
      "source": [
        "# b"
      ],
      "metadata": {
        "id": "wx-QDAwLyZmB"
      }
    },
    {
      "cell_type": "code",
      "source": [
        "# Utilizamos los valores de las medidads previamente declaradas\n",
        "# Y aplicamos la formula tomado el absoluto de cada resta, definimos la fidelidad como fb1, fb2 y fb3\n",
        "\n",
        "# la fidelidad de b1\n",
        "fb1=abs(b2-b1)\n",
        "print(\"La fidelidad 1 de b es: \" + str(fb1) + \"\\n\")\n",
        "# la fidelidad de b2\n",
        "fb2=abs(b3-b1)\n",
        "print(\"La fidelidad 2 de b es: \" + str(fb2) + \"\\n\")\n",
        "# la fidelidad de b2\n",
        "fb3=abs(b3-b2)\n",
        "print(\"La fidelidad 3 de b es: \" + str(fb3) + \"\\n\")"
      ],
      "metadata": {
        "colab": {
          "base_uri": "https://localhost:8080/"
        },
        "id": "aOJwnd8uybIe",
        "outputId": "864c911b-0113-4164-a8e6-af285358ce44"
      },
      "execution_count": null,
      "outputs": [
        {
          "output_type": "stream",
          "name": "stdout",
          "text": [
            "La fidelidad 1 de b es: 20\n",
            "\n",
            "La fidelidad 2 de b es: 25\n",
            "\n",
            "La fidelidad 3 de b es: 5\n",
            "\n"
          ]
        }
      ]
    },
    {
      "cell_type": "markdown",
      "source": [
        "# Reproducibilidad"
      ],
      "metadata": {
        "id": "IjuRw4Sr1eBp"
      }
    },
    {
      "cell_type": "markdown",
      "source": [
        "# Medicion 1"
      ],
      "metadata": {
        "id": "NPv9MIwk12Wm"
      }
    },
    {
      "cell_type": "code",
      "source": [
        "# Tomamos el valor absoluto de la resta de la medicion del operador a y b\n",
        "re1=abs(a1-b1)\n",
        "print(\"La resproducibilidad de la medicion 1 es: \"+str(re1))"
      ],
      "metadata": {
        "colab": {
          "base_uri": "https://localhost:8080/"
        },
        "id": "0zPDM-MC2Bza",
        "outputId": "69b83dd4-cdfe-4062-a778-9bed57bc9767"
      },
      "execution_count": null,
      "outputs": [
        {
          "output_type": "stream",
          "name": "stdout",
          "text": [
            "La resproducibilidad de la medicion 1 es: 22\n"
          ]
        }
      ]
    },
    {
      "cell_type": "markdown",
      "source": [
        "# Medicion 2"
      ],
      "metadata": {
        "id": "SW42NuJa3pmv"
      }
    },
    {
      "cell_type": "code",
      "source": [
        "# Tomamos el valor absoluto de la resta de la medicion del operador a y b\n",
        "re2=abs(a2-b2)\n",
        "print(\"La resproducibilidad de la medicion 2 es: \"+str(re2))"
      ],
      "metadata": {
        "colab": {
          "base_uri": "https://localhost:8080/"
        },
        "id": "OrPVoCx834eh",
        "outputId": "9637f98e-8cb0-4a63-c021-41068f5598a8"
      },
      "execution_count": null,
      "outputs": [
        {
          "output_type": "stream",
          "name": "stdout",
          "text": [
            "La resproducibilidad de la medicion 2 es: 10\n"
          ]
        }
      ]
    },
    {
      "cell_type": "markdown",
      "source": [
        "# Medicion 3"
      ],
      "metadata": {
        "id": "8qfA-6FA4Bfz"
      }
    },
    {
      "cell_type": "code",
      "source": [
        "# Tomamos el valor absoluto de la resta de la medicion del operador a y b\n",
        "re3=abs(a3-b3)\n",
        "print(\"La resproducibilidad de la medicion 3 es: \"+str(re3))"
      ],
      "metadata": {
        "colab": {
          "base_uri": "https://localhost:8080/"
        },
        "id": "zbsZivEM4e_I",
        "outputId": "8175fefb-21b8-4240-af4e-2413bc63a7b0"
      },
      "execution_count": null,
      "outputs": [
        {
          "output_type": "stream",
          "name": "stdout",
          "text": [
            "La resproducibilidad de la medicion 3 es: 15\n"
          ]
        }
      ]
    },
    {
      "cell_type": "markdown",
      "source": [
        "2. Se tiene un sensor de distancia con una salida en función de su entrada dada por: \n",
        "\n",
        "\\begin{equation}\n",
        "y(x) = \\frac{x^2}{100} + 0.01x\n",
        "\\end{equation}\n",
        "\n",
        "La entrada máxima es de 1000 m, determina todas las gráficas de linealidad con una resolución de 200 metros en un umbral de 0 a 1000 m, determina la función que define la sensibilidad del sensor.\n",
        "\n",
        "---\n",
        "\n",
        "\n",
        "\n",
        "# Formulas mínimos cuadrados y sensibilidad\n",
        "\n",
        "\n",
        "---\n",
        "\n",
        "\n",
        "\\begin{equation}\n",
        "y = mx + b \n",
        "\\end{equation}\n",
        "\n",
        "\\begin{equation}\n",
        "m = \\frac{n\\sum xy - \\sum x \\sum y}{n \\sum x^{2} - [\\sum x]^{2}}\n",
        "\\end{equation}\n",
        "\n",
        "\\begin{equation}\n",
        "b = \\frac{\\sum y \\sum x^{2} - \\sum x \\sum xy}{n \\sum x^{2} - [\\sum x]^{2}}\n",
        "\\end{equation}\n",
        "\n",
        "\\begin{equation}\n",
        "y = x^{2} + 2 \\\\\n",
        "s(x) = \\frac{dy}{dx}\n",
        "\\end{equation}"
      ],
      "metadata": {
        "id": "0_wZa8W8GVPR"
      }
    },
    {
      "cell_type": "code",
      "source": [
        "# Calcular y con la ecuación proporcionada en ejercicio\n",
        "x = float(input(\"Introduce el valor de x: \"))\n",
        "y = (x**2/100)+((x*0.01))\n",
        "print(\"El valor de y para: \"+str(x)+\" es \"+str(y))"
      ],
      "metadata": {
        "colab": {
          "base_uri": "https://localhost:8080/"
        },
        "id": "VhAP0QjvY99L",
        "outputId": "5f8dfee0-1c93-45bb-9a37-28391244cddb"
      },
      "execution_count": null,
      "outputs": [
        {
          "output_type": "stream",
          "name": "stdout",
          "text": [
            "Introduce el valor de x: 1\n",
            "El valor de y para: 1.0 es 0.02\n"
          ]
        }
      ]
    },
    {
      "cell_type": "code",
      "source": [
        "# Importamos numpy para trabajar con listas\n",
        "import numpy as np\n",
        "# Definimos la entrada x como una lista de datos\n",
        "x2=[0, 200, 400, 600, 800, 1000]\n",
        "\n",
        "# Definimos la salida como el doble de x por la ecuacion y = 2x\n",
        "y2=[0, 402, 1604, 3606, 6408, 100102]\n",
        "\n",
        "# Obenermos el producto de xy mediante la funcion multiply de numpy\n",
        "xy2= np.multiply(x2,y2)\n",
        "\n",
        "# Obenermos el producto de xx mediante la funcion multiply de numpy\n",
        "xx2= np.multiply(x2,x2)\n",
        "\n",
        "# calculamos la sumatorias de x, y, xx, yy con la funcion sum \n",
        "sumx2=sum(x2)\n",
        "sumy2=sum(y2)\n",
        "sumxy2=sum(xy2)\n",
        "sumxx2=sum(xx2)\n",
        "# Calculamos el numero de datos de entrada\n",
        "n2=len(x2)\n",
        "# Aplicamos la formula para m\n",
        "m2=((n2*sumxy2) - (sumx2*sumy2))/((n2*sumxx2) - (sumx2)**2)\n",
        "print(\"El valor de m es: \" +str(m2)+\"\\n\")\n",
        "\n",
        "# Aplicamos la formula para b\n",
        "b2=((sumy2*sumxx2) - (sumx2*sumxy2))/((n2*sumxx2) - (sumx2)**2)\n",
        "print(\"El valor de b es: \" +str(b2)+\"\\n\")"
      ],
      "metadata": {
        "colab": {
          "base_uri": "https://localhost:8080/"
        },
        "id": "5gozj0LhYdiu",
        "outputId": "49da80eb-74eb-4a2b-f1bf-c3c0246d270e"
      },
      "execution_count": null,
      "outputs": [
        {
          "output_type": "stream",
          "name": "stdout",
          "text": [
            "El valor de m es: 74.36142857142858\n",
            "\n",
            "El valor de b es: -18493.714285714286\n",
            "\n"
          ]
        }
      ]
    },
    {
      "cell_type": "markdown",
      "source": [
        "La ecuación resultante es 74.36x - 18493.71, cuya gráfica se muestra a continuación:"
      ],
      "metadata": {
        "id": "zXddxp2be3we"
      }
    },
    {
      "cell_type": "code",
      "source": [
        "# importamos matplotlib.pyplot para graficar\n",
        "import matplotlib.pyplot as plt\n",
        "# Definimos la funcion para que nos retorne la el valor de y\n",
        "def f1(g):\n",
        "    return (m2*g) + b2\n",
        "# Valores del eje X que toma el gráfico\n",
        "g = range(0, 1000, 200)\n",
        "# Graficar funcion\n",
        "plt.scatter(g, [f1(i) for i in g])\n",
        "plt.plot(g, [f1(i) for i in g])\n",
        "# Colocamos etiquetas para reconocer el eje x, y\n",
        "plt.xlabel('x')\n",
        "plt.ylabel('y')\n",
        "# Asignamos un titulo para la grafica\n",
        "plt.title('74.36x - 18493.71')\n",
        "plt.show()"
      ],
      "metadata": {
        "colab": {
          "base_uri": "https://localhost:8080/",
          "height": 295
        },
        "id": "qTXEULriezbZ",
        "outputId": "e29a91b4-7bad-47d3-b5db-6e9ed5113c1d"
      },
      "execution_count": null,
      "outputs": [
        {
          "output_type": "display_data",
          "data": {
            "text/plain": [
              "<Figure size 432x288 with 1 Axes>"
            ],
            "image/png": "[encoded data removed]"
          },
          "metadata": {
            "needs_background": "light"
          }
        }
      ]
    },
    {
      "cell_type": "markdown",
      "source": [
        "La sensibilidad de un sensor es igual a la derivada de la funcion que describe el comportamiento del sesor, entonces si tenemos: \n",
        "\n",
        "\\begin{equation}\n",
        "y(x) = \\frac{x^2}{100} + 0.01x\n",
        "\\end{equation}\n",
        "\n",
        "La sensibilidad seria 0.02x + 0.01 cuya grafica luce de la siguiente manera:"
      ],
      "metadata": {
        "id": "eEwW7CVonm_e"
      }
    },
    {
      "cell_type": "code",
      "source": [
        "# importamos matplotlib.pyplot para graficar\n",
        "import matplotlib.pyplot as plt\n",
        "# Definimos la funcion para que nos retorne la el valor de y\n",
        "def f1(g):\n",
        "    return (.02*g) + .01\n",
        "# Valores del eje X que toma el gráfico\n",
        "g = range(0, 1000, 200)\n",
        "# Graficar funcion\n",
        "plt.scatter(g, [f1(i) for i in g])\n",
        "plt.plot(g, [f1(i) for i in g])\n",
        "# Colocamos etiquetas para reconocer el eje x, y\n",
        "plt.xlabel('x')\n",
        "plt.ylabel('y')\n",
        "# Asignamos un titulo para la grafica\n",
        "plt.title('0.02x + 0.01')\n",
        "plt.show()"
      ],
      "metadata": {
        "colab": {
          "base_uri": "https://localhost:8080/",
          "height": 295
        },
        "id": "aYESErg4hige",
        "outputId": "14aeb370-432a-4e3b-ee34-e72881ee79a2"
      },
      "execution_count": null,
      "outputs": [
        {
          "output_type": "display_data",
          "data": {
            "text/plain": [
              "<Figure size 432x288 with 1 Axes>"
            ],
            "image/png": "[encoded data removed]"
          },
          "metadata": {
            "needs_background": "light"
          }
        }
      ]
    },
    {
      "cell_type": "markdown",
      "source": [
        "# Linealidad ajustada a cero"
      ],
      "metadata": {
        "id": "zc596GEm2LRD"
      }
    },
    {
      "cell_type": "code",
      "source": [
        "import numpy as np\n",
        "import matplotlib.pyplot as plt\n",
        "\n",
        "# Datos de ejemplo\n",
        "x3 = np.array(x2)\n",
        "y3 = np.array(y2)\n",
        "\n",
        "# Calcular los coeficientes de la línea de regresión\n",
        "slope = sumy2/sumx2\n",
        "\n",
        "# Graficar los datos y la línea de regresión\n",
        "plt.scatter(x3, y3)\n",
        "plt.plot(x3, slope * x3)\n",
        "plt.xlabel('X')\n",
        "plt.ylabel('Y')\n",
        "plt.title('Linealidad ajustada a cero')\n",
        "plt.show()"
      ],
      "metadata": {
        "colab": {
          "base_uri": "https://localhost:8080/",
          "height": 295
        },
        "id": "ONP8pLNI2ONj",
        "outputId": "49686085-0915-435e-808b-963d0e389d22"
      },
      "execution_count": null,
      "outputs": [
        {
          "output_type": "display_data",
          "data": {
            "text/plain": [
              "<Figure size 432x288 with 1 Axes>"
            ],
            "image/png": "[encoded data removed]"
          },
          "metadata": {
            "needs_background": "light"
          }
        }
      ]
    },
    {
      "cell_type": "markdown",
      "source": [
        "# Linealidad terminal"
      ],
      "metadata": {
        "id": "7tJcXiw6oSrk"
      }
    },
    {
      "cell_type": "code",
      "source": [
        "# Arreglos de datos para graficar \n",
        "x2p = np.array(x2)\n",
        "y2p = np.array(y2)\n",
        "# Aproximación de la pendiente\n",
        "m = (y2p[-1] - y2p[-2]) / (x2p[-1] - x2p[-2])\n",
        "\n",
        "# Graficar la curva y la linealidad terminal\n",
        "plt.scatter(x2p, y2p)\n",
        "plt.plot(x2p, y2p, label='Datos experimentales')\n",
        "plt.plot(x2p[-2:], y2p[-2] + m*(x2p[-2:] - x2p[-2]), label='Linealidad terminal')\n",
        "plt.legend()\n",
        "plt.show()"
      ],
      "metadata": {
        "colab": {
          "base_uri": "https://localhost:8080/",
          "height": 265
        },
        "id": "UXYZpi0IoUjc",
        "outputId": "8577a5c3-ef4e-43f9-f044-fc9669c501d3"
      },
      "execution_count": null,
      "outputs": [
        {
          "output_type": "display_data",
          "data": {
            "text/plain": [
              "<Figure size 432x288 with 1 Axes>"
            ],
            "image/png": "[encoded data removed]"
          },
          "metadata": {
            "needs_background": "light"
          }
        }
      ]
    },
    {
      "cell_type": "markdown",
      "source": [
        "# Linealidad a través de los extremos"
      ],
      "metadata": {
        "id": "HD0SZAF-jYsf"
      }
    },
    {
      "cell_type": "code",
      "source": [
        "import numpy as np\n",
        "import matplotlib.pyplot as plt\n",
        "\n",
        "# Definir los datos\n",
        "xe2 = np.array(x2)\n",
        "ye2 = np.array(y2)\n",
        "# Realizar una regresión lineal de los puntos extremos\n",
        "slope, intercept = np.polyfit([xe2[0], xe2[-1]], [ye2[0], ye2[-1]], 1)\n",
        "\n",
        "# Calcular la predicción de la regresión lineal para todo el rango de valores de x\n",
        "xe_range = np.linspace(xe2[0], xe2[-1], 100)\n",
        "ye_pred = slope * xe_range + intercept\n",
        "\n",
        "# Graficar los datos y la línea de regresión\n",
        "plt.plot(xe2, ye2, 'o', label='Datos')\n",
        "plt.plot(xe_range, ye_pred, label='Linealidad')\n",
        "plt.legend()\n",
        "plt.show()"
      ],
      "metadata": {
        "colab": {
          "base_uri": "https://localhost:8080/",
          "height": 265
        },
        "id": "obL40Wo0lZRq",
        "outputId": "9103cd2d-7a7e-41a6-bf13-48fedc476da1"
      },
      "execution_count": null,
      "outputs": [
        {
          "output_type": "display_data",
          "data": {
            "text/plain": [
              "<Figure size 432x288 with 1 Axes>"
            ],
            "image/png": "[encoded data removed]"
          },
          "metadata": {
            "needs_background": "light"
          }
        }
      ]
    },
    {
      "cell_type": "markdown",
      "source": [
        "# Linealidad teórica"
      ],
      "metadata": {
        "id": "nmSKIWeylnia"
      }
    },
    {
      "cell_type": "code",
      "source": [
        "import matplotlib.pyplot as plt\n",
        "import numpy as np\n",
        "# Datos experimentales\n",
        "xlt2 = np.array(x2)\n",
        "ylt2 = np.array(y2)\n",
        "# Ecuación de la línea teórica\n",
        "m = m2  # Pendiente\n",
        "b = b2  # Intercepto\n",
        "x_teoria = np.linspace(0, 1000, 5)\n",
        "y_teoria = m * x_teoria + b\n",
        "\n",
        "# Graficar los datos experimentales y la línea teórica\n",
        "plt.plot(xlt2, ylt2, 'o', label='Datos experimentales')\n",
        "plt.plot(x_teoria, y_teoria, label='Línea teórica')\n",
        "plt.legend()\n",
        "plt.xlabel('x')\n",
        "plt.ylabel('y')\n",
        "plt.title('Linealidad teórica')\n",
        "plt.show()"
      ],
      "metadata": {
        "colab": {
          "base_uri": "https://localhost:8080/",
          "height": 295
        },
        "id": "bLDKvfLZAuhs",
        "outputId": "5913e96c-cbab-4ee8-9db4-e3742859f771"
      },
      "execution_count": null,
      "outputs": [
        {
          "output_type": "display_data",
          "data": {
            "text/plain": [
              "<Figure size 432x288 with 1 Axes>"
            ],
            "image/png": "[encoded data removed]"
          },
          "metadata": {
            "needs_background": "light"
          }
        }
      ]
    },
    {
      "cell_type": "markdown",
      "source": [
        "3. Se consigue un sensor que no tiene error estático para la medición de temperatura en un horno, pero le agrega un comportamiento dinámico al sistema, descrito por: \n",
        "\n",
        "\\begin{equation}\n",
        "\\frac{y(s)}{x(s)} = \\frac{5e^{3s}}{s+5}\n",
        "\\end{equation}\n",
        "\n",
        "Determina la gráfica del comportamiento esperado para el sensor, para una entrada de 450 grados."
      ],
      "metadata": {
        "id": "UFWo8CHqoxLU"
      }
    },
    {
      "cell_type": "markdown",
      "source": [
        "En su forma general queda de la siguinte manera:\n",
        "\n",
        "\\begin{equation}\n",
        "\\frac{y(s)}{x(s)} = \\frac{e^{3s}}{0.2s+1}\n",
        "\\end{equation}"
      ],
      "metadata": {
        "id": "bSmZ_ngUrwat"
      }
    },
    {
      "cell_type": "code",
      "source": [
        "# Importamos las librerias\n",
        "import numpy as np\n",
        "import control as cn\n",
        "import matplotlib.pyplot as plt\n",
        "\n",
        "# Definimos las variables para la fromula general\n",
        "num = [1]\n",
        "den =[.2,1]\n",
        "transfer_function = cn.tf(num,den)\n",
        "\n",
        "# Definimos el retardo de la funcion de tranferencia\n",
        "numd, dend = cn.pade(3,25) #exp 3 seg.\n",
        "delay = cn.tf(numd,dend)\n",
        "system_delayed=transfer_function*delay\n",
        "\n",
        "# Determinamos el inicio y fin de la grafica\n",
        "tstart =0\n",
        "tend = 30\n",
        "sample = 0.001\n",
        "time = np.arange(tstart,tend+sample, sample)\n",
        "input2 = np.ones(time.shape)*450\n",
        "input2[0:6]= 0\n",
        "\n",
        "# Definimos la funcion de escalon unitario lo multiplicamos por 450 de entrada\n",
        "time, yout = cn.step_response(450*system_delayed,time)\n",
        "\n",
        "# Definimos el grafico\n",
        "figure = plt.figure(figsize=(10,10))\n",
        "ax = figure.add_subplot(111)\n",
        "ax.plot(time,yout,label ='y(t)')\n",
        "ax.plot(time,input2,'r', label='x(t)')\n",
        "ax.set_title('Plotting Transfer Function')\n",
        "ax.set_xlabel('t')\n",
        "ax.set_ylabel('y(t)')\n",
        "ax.axis([0,8,0,500])#ax.axis([xmin,xmax,ymin,ymax])\n",
        "ax.legend()\n",
        "ax.grid()\n",
        "plt.show()\n"
      ],
      "metadata": {
        "colab": {
          "base_uri": "https://localhost:8080/",
          "height": 621
        },
        "id": "YGexsF12pe6s",
        "outputId": "76f3836d-eb88-4372-8bf5-f2bb16d7dc6f"
      },
      "execution_count": null,
      "outputs": [
        {
          "output_type": "display_data",
          "data": {
            "text/plain": [
              "<Figure size 720x720 with 1 Axes>"
            ],
            "image/png": "[encoded data removed]"
          },
          "metadata": {
            "needs_background": "light"
          }
        }
      ]
    },
    {
      "cell_type": "markdown",
      "source": [
        "\n",
        "\n",
        "---\n",
        "\n",
        "\n",
        "4. Determina la función de transferencia asociada al sensor que tiene la siguiente respuesta a un impulso unitario, el punto de establecimiento se indica con un criterio del 1%."
      ],
      "metadata": {
        "id": "UIXOO5Cv6POB"
      }
    },
    {
      "cell_type": "markdown",
      "source": [
        "\n",
        "\n",
        "---\n",
        "\n",
        "\n",
        "# Formulas\n",
        "\n",
        "\n",
        "---\n",
        "\n",
        "\\begin{equation}\n",
        "k=\\frac{\\varDelta y}{\\varDelta u}\n",
        "\\end{equation}\n",
        "\n",
        "\\begin{equation}\n",
        "n=\\ln (\\frac{1}{\\text{Error deseado}})\n",
        "\\end{equation}\n",
        "\n",
        "\\begin{equation}\n",
        "t_s=\\frac{n}{\\zeta \\omega_n}\\\\\n",
        "\\omega_n=\\frac{n}{\\zeta t_s}\n",
        "\\end{equation}\n",
        "\n",
        "\\begin{equation}\n",
        "\\zeta = \\sqrt(\\frac{\\ln^{2}(Mp)}{\\pi^2+\\ln^{2}(Mp)})\n",
        "\\end{equation}\n",
        "\n",
        "\\begin{equation}\n",
        "Mp = \\frac{y_{max} - y_s}{y_s}\n",
        "\\end{equation}"
      ],
      "metadata": {
        "id": "2PCMkC63Qp9Z"
      }
    },
    {
      "cell_type": "code",
      "source": [
        "# Definimos las variables\n",
        "k = 1.18\n",
        "T = .4\n",
        "Mp = (1.69-1.18)/1.18\n",
        "ts = 1.61\n",
        "# Calculamos z\n",
        "#Importamos la liberia math para realizar operaciones como el logaritmo natural\n",
        "import math as ma\n",
        "p = ma.pi\n",
        "lambd = ((ma.log(Mp)**2)/((p**2) + ((ma.log(Mp))**2)))\n",
        "# Calculamos n\n",
        "n = ma.log(1/.01)\n",
        "# Calculamos w\n",
        "wn = (n)/(lambd*ts)\n",
        "# Definimos la funcion de transferencia\n",
        "num = [k*wn**2]\n",
        "den = [1, 2*lambd*wn, wn**2]\n",
        "transfer_function = cn.tf(num,den)\n",
        "numd, dend = cn.pade(T,25)\n",
        "delay = cn.tf(numd,dend)\n",
        "system_delayed=transfer_function*delay\n",
        "tstart = 0\n",
        "tend = 3\n",
        "sample = 0.001\n",
        "time = np.arange(tstart,tend+sample, sample)\n",
        "input2 = np.ones(time.shape)\n",
        "time, yout = cn.step_response(system_delayed,time)\n",
        "figure = plt.figure(figsize=(10,10))\n",
        "ax = figure.add_subplot(111)\n",
        "ax.plot(time,yout)\n",
        "ax.plot(input2,'r')\n",
        "ax.set_label('Plotting Transfer Function')\n",
        "ax.set_xlabel('t')\n",
        "ax.set_ylabel('x(t)')\n",
        "ax.axis([0,3,0,3])\n",
        "ax.grid()\n",
        "plt.show()"
      ],
      "metadata": {
        "colab": {
          "base_uri": "https://localhost:8080/",
          "height": 609
        },
        "id": "2vVnt7yb6XGO",
        "outputId": "fc57598e-228f-4aa7-99f6-c70b416ea2da"
      },
      "execution_count": null,
      "outputs": [
        {
          "output_type": "display_data",
          "data": {
            "text/plain": [
              "<Figure size 720x720 with 1 Axes>"
            ],
            "image/png": "[encoded data removed]"
          },
          "metadata": {
            "needs_background": "light"
          }
        }
      ]
    },
    {
      "cell_type": "code",
      "source": [
        "# Imprimir la funcion de traferencia \n",
        "transfer_function"
      ],
      "metadata": {
        "colab": {
          "base_uri": "https://localhost:8080/",
          "height": 39
        },
        "id": "sO_0jlpmVNsn",
        "outputId": "8819a51a-8b7a-4050-d2f9-370d370e365e"
      },
      "execution_count": null,
      "outputs": [
        {
          "output_type": "execute_result",
          "data": {
            "text/plain": [
              "TransferFunction(array([2179.64596468]), array([1.00000000e+00, 5.72070831e+00, 1.84715760e+03]))"
            ],
            "text/latex": "$$\\frac{2180}{s^2 + 5.721 s + 1847}$$"
          },
          "metadata": {},
          "execution_count": 77
        }
      ]
    },
    {
      "cell_type": "markdown",
      "source": [
        "\n",
        "\n",
        "---\n",
        "\n",
        "\n",
        "5. Identifica la función de transferencia del sistema de segundo orden que corresponde a un sensor de pH, presentar ambos métodos llevándolo a una función de transferencia de primer orden (Bröida) y a una de segundo."
      ],
      "metadata": {
        "id": "6iK9J1a04uPV"
      }
    },
    {
      "cell_type": "markdown",
      "source": [
        "# Bröida"
      ],
      "metadata": {
        "id": "E95R4tivE3iD"
      }
    },
    {
      "cell_type": "markdown",
      "source": [
        "# Formulas\n",
        "\n",
        "---\n",
        "\\begin{equation}\n",
        "\\tau = at_1 + bt_2\n",
        "\\end{equation}\n",
        "\n",
        "\\begin{equation}\n",
        "t_m = ct_1 + dt_2\n",
        "\\end{equation}\n",
        "\n",
        "\\begin{equation}\n",
        "G_p(s) = \\frac{k_pe^{t_ms}}{\\tau s + 1}\n",
        "\\end{equation}\n"
      ],
      "metadata": {
        "id": "GBksK27vF-Ob"
      }
    },
    {
      "cell_type": "code",
      "source": [
        "# Definimos las constantes\n",
        "td = 1.3\n",
        "t1 = 0.1\n",
        "t2 = 0.2\n",
        "a = -5.5\n",
        "b = 5.5\n",
        "c = 2.8\n",
        "d = -1.8\n",
        "k = .2\n",
        "# Calculamos el valor de t y tm\n",
        "t = (t1*a) + (t2*b)\n",
        "tm = (t1*c) - (t2*d)\n",
        "e = td + tm\n",
        "# Importamos las librerias\n",
        "import numpy as np\n",
        "import control as cn\n",
        "import matplotlib.pyplot as plt\n",
        "\n",
        "# Definimos las variables\n",
        "num = [k]\n",
        "den =[t,1]\n",
        "transfer_function = cn.tf(num,den)\n",
        "\n",
        "# Definimos el retardo de la funcion de tranferencia\n",
        "numd, dend = cn.pade(e,25) #exp 5 seg.\n",
        "delay = cn.tf(numd,dend)\n",
        "system_delayed=transfer_function*delay\n",
        "\n",
        "# Determinamos el inicio y fin de la grafica\n",
        "tstart =0\n",
        "tend = 14\n",
        "sample = 0.001\n",
        "time = np.arange(tstart,tend+sample, sample)\n",
        "input2 = np.ones(time.shape)\n",
        "input2[0:6]= 0\n",
        "\n",
        "# Definimos la funvion de escalon unitario\n",
        "time, yout = cn.step_response(system_delayed,time)\n",
        "\n",
        "# Definimos el grafico\n",
        "figure = plt.figure(figsize=(10,10))\n",
        "ax = figure.add_subplot(111)\n",
        "ax.plot(time,yout,label ='y(t)')\n",
        "ax.plot(time,input2,'r', label='x(t)')\n",
        "ax.set_title('Plotting Transfer Function')\n",
        "ax.set_xlabel('t')\n",
        "ax.set_ylabel('y(t)')\n",
        "ax.axis([0,8,0,3])#ax.axis([xmin,xmax,ymin,ymax])\n",
        "ax.legend()\n",
        "ax.grid()\n",
        "plt.show()"
      ],
      "metadata": {
        "colab": {
          "base_uri": "https://localhost:8080/",
          "height": 621
        },
        "id": "90B34FSn6kzb",
        "outputId": "ca145c0e-f7f2-4a0b-ebf7-e61e30e792c5"
      },
      "execution_count": null,
      "outputs": [
        {
          "output_type": "display_data",
          "data": {
            "text/plain": [
              "<Figure size 720x720 with 1 Axes>"
            ],
            "image/png": "[encoded data removed]"
          },
          "metadata": {
            "needs_background": "light"
          }
        }
      ]
    },
    {
      "cell_type": "code",
      "source": [
        "# Imprimir la funcion de traferencia \n",
        "transfer_function"
      ],
      "metadata": {
        "colab": {
          "base_uri": "https://localhost:8080/",
          "height": 39
        },
        "id": "3iB5qJtdGk-O",
        "outputId": "6d4df30c-e73d-4514-a584-fc02205ce695"
      },
      "execution_count": null,
      "outputs": [
        {
          "output_type": "execute_result",
          "data": {
            "text/plain": [
              "TransferFunction(array([0.2]), array([0.55, 1.  ]))"
            ],
            "text/latex": "$$\\frac{0.2}{0.55 s + 1}$$"
          },
          "metadata": {},
          "execution_count": 79
        }
      ]
    },
    {
      "cell_type": "markdown",
      "source": [
        "# Segundo metodo \n",
        "\n",
        "# Formulas\n",
        "\n",
        "---\n",
        "\\begin{equation}\n",
        "x_{75} = \\text{Tiempo al 75% de señal}\\\\\n",
        "x_{45} = \\text{Tiempo al 45% de señal}\\\\\n",
        "x_{15} = \\text{Tiempo al 15% de señal}\\\\\n",
        "\\end{equation}\n",
        "\n",
        "\\begin{equation}\n",
        "x = \\frac{t_{45} - t_{15}}{t_{75} - t_{15}}\n",
        "\\end{equation}\n",
        "\n",
        "\\begin{equation}\n",
        "G_p (s) = \\frac{k_p e^{-t_ms}}{(\\tau_1s+t)(\\tau_2s+t)}\n",
        "\\end{equation} \n",
        "\n",
        "\\begin{equation}\n",
        "\\zeta = \\frac{0.0805 - 5.547(0.475-x)^{2}}{x-0.356}\n",
        "\\end{equation}\n",
        "\n",
        "\\begin{equation}\n",
        "f_1(\\zeta) = 0.708(2.811)^2 \\text{ menor o igual a 1}\\\\\n",
        "f_2(\\zeta) = 2.62\\zeta - 0.60 \\text{ menor o igual a 1}\\\\\n",
        "f_3(\\zeta) = 0.922(1.66)^\\zeta\n",
        "\\end{equation}\n",
        "\n",
        "\\begin{equation}\n",
        "\\omega_n = \\frac{f_2(\\zeta)}{t_{75} - t_{15}}\n",
        "\\end{equation}\n",
        "\n",
        "\\begin{equation}\n",
        "t_m = t_{45}-\\frac{f_3(\\zeta)}{\\omega_n}\n",
        "\\end{equation}\n",
        "\n",
        "\\begin{equation}\n",
        "\\tau_1 = \\frac{\\zeta+\t\\sqrt{\\zeta^2-1}}{\\omega_n}\n",
        "\\end{equation}\n",
        "\n",
        "\\begin{equation}\n",
        "\\tau_2 = \\frac{\\zeta-\t\\sqrt{\\zeta^2-1}}{\\omega_n}\n",
        "\\end{equation}\n",
        "\n",
        "\\begin{equation}\n",
        "k_p =\\frac {\\varDelta y}{\\varDelta u}\n",
        "\\end{equation}\n"
      ],
      "metadata": {
        "id": "LZ0vwRTwuPRP"
      }
    },
    {
      "cell_type": "code",
      "source": [
        "# importamos numpy\n",
        "import numpy as np\n",
        "# Definimos las variables\n",
        "t15 = 0.01\n",
        "t45 = .25\n",
        "t75 = .4\n",
        "k = .4\n",
        "# Calculamos x\n",
        "x = (t45-t15)/(t75-t15)\n",
        "# calculamos z\n",
        "z = ((0.0805 - 5.547)*((0.475-x)**2))/(x-0.356)\n",
        "# Calculamos f2 cuando x<=1\n",
        "f2 = 0.708*((2.811)**2)\n",
        "# Calculamos omega\n",
        "w = f2/(t75-t15)\n",
        "# calculamos f3\n",
        "f3 = 0.922*(1.66**z)\n",
        "# Calculamos tm\n",
        "tm = t45 - (f3/w)\n",
        "# Calculamos tau 1 y 2\n",
        "tau1 = (z+(np.sqrt((z**2)-1)))/(w)\n",
        "tau2 = (z-(np.sqrt((z**2)-1)))/(w)\n",
        "#importamos las variables para graficar la funcion de tranferencia \n",
        "import control as cn\n",
        "import matplotlib.pyplot as plt\n",
        "# Definimos la formula general\n",
        "s=cn.tf([1,0],[0,1])\n",
        "transfer_function = k/((tau1*s+1)*(tau2*s+1))\n",
        "# Definimos el retardo de la funcion de tranferencia\n",
        "numd, dend = cn.pade(tm,25) #exp 5 seg.\n",
        "delay = cn.tf(numd,dend)\n",
        "system_delayed=transfer_function*delay\n",
        "\n",
        "# Determinamos el inicio y fin de la grafica\n",
        "tstart = 0\n",
        "tend = 14\n",
        "sample = 0.001\n",
        "time = np.arange(tstart,tend+sample, sample)\n",
        "input2 = np.ones(time.shape)\n",
        "input2[0:6]= 0\n",
        "\n",
        "# Definimos la funvion de escalon unitario\n",
        "time, yout = cn.step_response(system_delayed,time)\n",
        "\n",
        "# Definimos el grafico\n",
        "figure = plt.figure(figsize=(10,10))\n",
        "ax = figure.add_subplot(111)\n",
        "ax.plot(time,yout,label ='y(t)')\n",
        "ax.plot(time,input2,'r', label='x(t)')\n",
        "ax.set_title('Plotting Transfer Function')\n",
        "ax.set_xlabel('t')\n",
        "ax.set_ylabel('y(t)')\n",
        "ax.axis([-3,3,-3,3])#ax.axis([xmin,xmax,ymin,ymax])\n",
        "ax.legend()\n",
        "ax.grid()\n",
        "plt.show()"
      ],
      "metadata": {
        "colab": {
          "base_uri": "https://localhost:8080/",
          "height": 450
        },
        "id": "vYsLeVbvxC4I",
        "outputId": "c7db22d2-4d6e-42e9-874b-e6bb6d449053"
      },
      "execution_count": null,
      "outputs": [
        {
          "output_type": "stream",
          "name": "stderr",
          "text": [
            "<ipython-input-99-6028595139fa>:21: RuntimeWarning: invalid value encountered in sqrt\n",
            "  tau1 = (z+(np.sqrt((z**2)-1)))/(w)\n",
            "<ipython-input-99-6028595139fa>:22: RuntimeWarning: invalid value encountered in sqrt\n",
            "  tau2 = (z-(np.sqrt((z**2)-1)))/(w)\n"
          ]
        },
        {
          "output_type": "error",
          "ename": "ValueError",
          "evalue": "ignored",
          "traceback": [
            "\u001b[0;31m---------------------------------------------------------------------------\u001b[0m",
            "\u001b[0;31mValueError\u001b[0m                                Traceback (most recent call last)",
            "\u001b[0;32m<ipython-input-99-6028595139fa>\u001b[0m in \u001b[0;36m<module>\u001b[0;34m\u001b[0m\n\u001b[1;32m     41\u001b[0m \u001b[0;34m\u001b[0m\u001b[0m\n\u001b[1;32m     42\u001b[0m \u001b[0;31m# Definimos la funvion de escalon unitario\u001b[0m\u001b[0;34m\u001b[0m\u001b[0;34m\u001b[0m\u001b[0;34m\u001b[0m\u001b[0m\n\u001b[0;32m---> 43\u001b[0;31m \u001b[0mtime\u001b[0m\u001b[0;34m,\u001b[0m \u001b[0myout\u001b[0m \u001b[0;34m=\u001b[0m \u001b[0mcn\u001b[0m\u001b[0;34m.\u001b[0m\u001b[0mstep_response\u001b[0m\u001b[0;34m(\u001b[0m\u001b[0msystem_delayed\u001b[0m\u001b[0;34m,\u001b[0m\u001b[0mtime\u001b[0m\u001b[0;34m)\u001b[0m\u001b[0;34m\u001b[0m\u001b[0;34m\u001b[0m\u001b[0m\n\u001b[0m\u001b[1;32m     44\u001b[0m \u001b[0;34m\u001b[0m\u001b[0m\n\u001b[1;32m     45\u001b[0m \u001b[0;31m# Definimos el grafico\u001b[0m\u001b[0;34m\u001b[0m\u001b[0;34m\u001b[0m\u001b[0;34m\u001b[0m\u001b[0m\n",
            "\u001b[0;32m/usr/local/lib/python3.8/dist-packages/control/timeresp.py\u001b[0m in \u001b[0;36mstep_response\u001b[0;34m(sys, T, X0, input, output, T_num, transpose, return_x, squeeze)\u001b[0m\n\u001b[1;32m   1363\u001b[0m         \u001b[0msqueeze\u001b[0m\u001b[0;34m,\u001b[0m \u001b[0msimo\u001b[0m \u001b[0;34m=\u001b[0m \u001b[0m_get_ss_simo\u001b[0m\u001b[0;34m(\u001b[0m\u001b[0msys\u001b[0m\u001b[0;34m,\u001b[0m \u001b[0mi\u001b[0m\u001b[0;34m,\u001b[0m \u001b[0moutput\u001b[0m\u001b[0;34m,\u001b[0m \u001b[0msqueeze\u001b[0m\u001b[0;34m=\u001b[0m\u001b[0msqueeze\u001b[0m\u001b[0;34m)\u001b[0m\u001b[0;34m\u001b[0m\u001b[0;34m\u001b[0m\u001b[0m\n\u001b[1;32m   1364\u001b[0m \u001b[0;34m\u001b[0m\u001b[0m\n\u001b[0;32m-> 1365\u001b[0;31m         \u001b[0mresponse\u001b[0m \u001b[0;34m=\u001b[0m \u001b[0mforced_response\u001b[0m\u001b[0;34m(\u001b[0m\u001b[0msimo\u001b[0m\u001b[0;34m,\u001b[0m \u001b[0mT\u001b[0m\u001b[0;34m,\u001b[0m \u001b[0mU\u001b[0m\u001b[0;34m,\u001b[0m \u001b[0mX0\u001b[0m\u001b[0;34m,\u001b[0m \u001b[0msqueeze\u001b[0m\u001b[0;34m=\u001b[0m\u001b[0;32mTrue\u001b[0m\u001b[0;34m)\u001b[0m\u001b[0;34m\u001b[0m\u001b[0;34m\u001b[0m\u001b[0m\n\u001b[0m\u001b[1;32m   1366\u001b[0m         \u001b[0minpidx\u001b[0m \u001b[0;34m=\u001b[0m \u001b[0mi\u001b[0m \u001b[0;32mif\u001b[0m \u001b[0minput\u001b[0m \u001b[0;32mis\u001b[0m \u001b[0;32mNone\u001b[0m \u001b[0;32melse\u001b[0m \u001b[0;36m0\u001b[0m\u001b[0;34m\u001b[0m\u001b[0;34m\u001b[0m\u001b[0m\n\u001b[1;32m   1367\u001b[0m         \u001b[0myout\u001b[0m\u001b[0;34m[\u001b[0m\u001b[0;34m:\u001b[0m\u001b[0;34m,\u001b[0m \u001b[0minpidx\u001b[0m\u001b[0;34m,\u001b[0m \u001b[0;34m:\u001b[0m\u001b[0;34m]\u001b[0m \u001b[0;34m=\u001b[0m \u001b[0mresponse\u001b[0m\u001b[0;34m.\u001b[0m\u001b[0my\u001b[0m\u001b[0;34m\u001b[0m\u001b[0;34m\u001b[0m\u001b[0m\n",
            "\u001b[0;32m/usr/local/lib/python3.8/dist-packages/control/timeresp.py\u001b[0m in \u001b[0;36mforced_response\u001b[0;34m(sys, T, U, X0, transpose, interpolate, return_x, squeeze)\u001b[0m\n\u001b[1;32m   1041\u001b[0m                           np.identity(n_inputs)],\n\u001b[1;32m   1042\u001b[0m                          [np.zeros((n_inputs, n_states + 2 * n_inputs))]])\n\u001b[0;32m-> 1043\u001b[0;31m             \u001b[0mexpM\u001b[0m \u001b[0;34m=\u001b[0m \u001b[0msp\u001b[0m\u001b[0;34m.\u001b[0m\u001b[0mlinalg\u001b[0m\u001b[0;34m.\u001b[0m\u001b[0mexpm\u001b[0m\u001b[0;34m(\u001b[0m\u001b[0mM\u001b[0m\u001b[0;34m)\u001b[0m\u001b[0;34m\u001b[0m\u001b[0;34m\u001b[0m\u001b[0m\n\u001b[0m\u001b[1;32m   1044\u001b[0m             \u001b[0mAd\u001b[0m \u001b[0;34m=\u001b[0m \u001b[0mexpM\u001b[0m\u001b[0;34m[\u001b[0m\u001b[0;34m:\u001b[0m\u001b[0mn_states\u001b[0m\u001b[0;34m,\u001b[0m \u001b[0;34m:\u001b[0m\u001b[0mn_states\u001b[0m\u001b[0;34m]\u001b[0m\u001b[0;34m\u001b[0m\u001b[0;34m\u001b[0m\u001b[0m\n\u001b[1;32m   1045\u001b[0m             \u001b[0mBd1\u001b[0m \u001b[0;34m=\u001b[0m \u001b[0mexpM\u001b[0m\u001b[0;34m[\u001b[0m\u001b[0;34m:\u001b[0m\u001b[0mn_states\u001b[0m\u001b[0;34m,\u001b[0m \u001b[0mn_states\u001b[0m\u001b[0;34m+\u001b[0m\u001b[0mn_inputs\u001b[0m\u001b[0;34m:\u001b[0m\u001b[0;34m]\u001b[0m\u001b[0;34m\u001b[0m\u001b[0;34m\u001b[0m\u001b[0m\n",
            "\u001b[0;32m/usr/local/lib/python3.8/dist-packages/scipy/linalg/matfuncs.py\u001b[0m in \u001b[0;36mexpm\u001b[0;34m(A)\u001b[0m\n\u001b[1;32m    253\u001b[0m     \u001b[0;31m# Input checking and conversion is provided by sparse.linalg.expm().\u001b[0m\u001b[0;34m\u001b[0m\u001b[0;34m\u001b[0m\u001b[0;34m\u001b[0m\u001b[0m\n\u001b[1;32m    254\u001b[0m     \u001b[0;32mimport\u001b[0m \u001b[0mscipy\u001b[0m\u001b[0;34m.\u001b[0m\u001b[0msparse\u001b[0m\u001b[0;34m.\u001b[0m\u001b[0mlinalg\u001b[0m\u001b[0;34m\u001b[0m\u001b[0;34m\u001b[0m\u001b[0m\n\u001b[0;32m--> 255\u001b[0;31m     \u001b[0;32mreturn\u001b[0m \u001b[0mscipy\u001b[0m\u001b[0;34m.\u001b[0m\u001b[0msparse\u001b[0m\u001b[0;34m.\u001b[0m\u001b[0mlinalg\u001b[0m\u001b[0;34m.\u001b[0m\u001b[0mexpm\u001b[0m\u001b[0;34m(\u001b[0m\u001b[0mA\u001b[0m\u001b[0;34m)\u001b[0m\u001b[0;34m\u001b[0m\u001b[0;34m\u001b[0m\u001b[0m\n\u001b[0m\u001b[1;32m    256\u001b[0m \u001b[0;34m\u001b[0m\u001b[0m\n\u001b[1;32m    257\u001b[0m \u001b[0;34m\u001b[0m\u001b[0m\n",
            "\u001b[0;32m/usr/local/lib/python3.8/dist-packages/scipy/sparse/linalg/matfuncs.py\u001b[0m in \u001b[0;36mexpm\u001b[0;34m(A)\u001b[0m\n\u001b[1;32m    589\u001b[0m             [  0.        ,   0.        ,  20.08553692]])\n\u001b[1;32m    590\u001b[0m     \"\"\"\n\u001b[0;32m--> 591\u001b[0;31m     \u001b[0;32mreturn\u001b[0m \u001b[0m_expm\u001b[0m\u001b[0;34m(\u001b[0m\u001b[0mA\u001b[0m\u001b[0;34m,\u001b[0m \u001b[0muse_exact_onenorm\u001b[0m\u001b[0;34m=\u001b[0m\u001b[0;34m'auto'\u001b[0m\u001b[0;34m)\u001b[0m\u001b[0;34m\u001b[0m\u001b[0;34m\u001b[0m\u001b[0m\n\u001b[0m\u001b[1;32m    592\u001b[0m \u001b[0;34m\u001b[0m\u001b[0m\n\u001b[1;32m    593\u001b[0m \u001b[0;34m\u001b[0m\u001b[0m\n",
            "\u001b[0;32m/usr/local/lib/python3.8/dist-packages/scipy/sparse/linalg/matfuncs.py\u001b[0m in \u001b[0;36m_expm\u001b[0;34m(A, use_exact_onenorm)\u001b[0m\n\u001b[1;32m    668\u001b[0m         \u001b[0ms\u001b[0m \u001b[0;34m=\u001b[0m \u001b[0;36m0\u001b[0m\u001b[0;34m\u001b[0m\u001b[0;34m\u001b[0m\u001b[0m\n\u001b[1;32m    669\u001b[0m     \u001b[0;32melse\u001b[0m\u001b[0;34m:\u001b[0m\u001b[0;34m\u001b[0m\u001b[0;34m\u001b[0m\u001b[0m\n\u001b[0;32m--> 670\u001b[0;31m         \u001b[0ms\u001b[0m \u001b[0;34m=\u001b[0m \u001b[0mmax\u001b[0m\u001b[0;34m(\u001b[0m\u001b[0mint\u001b[0m\u001b[0;34m(\u001b[0m\u001b[0mnp\u001b[0m\u001b[0;34m.\u001b[0m\u001b[0mceil\u001b[0m\u001b[0;34m(\u001b[0m\u001b[0mnp\u001b[0m\u001b[0;34m.\u001b[0m\u001b[0mlog2\u001b[0m\u001b[0;34m(\u001b[0m\u001b[0meta_5\u001b[0m \u001b[0;34m/\u001b[0m \u001b[0mtheta_13\u001b[0m\u001b[0;34m)\u001b[0m\u001b[0;34m)\u001b[0m\u001b[0;34m)\u001b[0m\u001b[0;34m,\u001b[0m \u001b[0;36m0\u001b[0m\u001b[0;34m)\u001b[0m\u001b[0;34m\u001b[0m\u001b[0;34m\u001b[0m\u001b[0m\n\u001b[0m\u001b[1;32m    671\u001b[0m     \u001b[0ms\u001b[0m \u001b[0;34m=\u001b[0m \u001b[0ms\u001b[0m \u001b[0;34m+\u001b[0m \u001b[0m_ell\u001b[0m\u001b[0;34m(\u001b[0m\u001b[0;36m2\u001b[0m\u001b[0;34m**\u001b[0m\u001b[0;34m-\u001b[0m\u001b[0ms\u001b[0m \u001b[0;34m*\u001b[0m \u001b[0mh\u001b[0m\u001b[0;34m.\u001b[0m\u001b[0mA\u001b[0m\u001b[0;34m,\u001b[0m \u001b[0;36m13\u001b[0m\u001b[0;34m)\u001b[0m\u001b[0;34m\u001b[0m\u001b[0;34m\u001b[0m\u001b[0m\n\u001b[1;32m    672\u001b[0m     \u001b[0mU\u001b[0m\u001b[0;34m,\u001b[0m \u001b[0mV\u001b[0m \u001b[0;34m=\u001b[0m \u001b[0mh\u001b[0m\u001b[0;34m.\u001b[0m\u001b[0mpade13_scaled\u001b[0m\u001b[0;34m(\u001b[0m\u001b[0ms\u001b[0m\u001b[0;34m)\u001b[0m\u001b[0;34m\u001b[0m\u001b[0;34m\u001b[0m\u001b[0m\n",
            "\u001b[0;31mValueError\u001b[0m: cannot convert float NaN to integer"
          ]
        }
      ]
    },
    {
      "cell_type": "code",
      "source": [
        "# Imprimir la funcion de traferencia \n",
        "transfer_function"
      ],
      "metadata": {
        "colab": {
          "base_uri": "https://localhost:8080/",
          "height": 39
        },
        "id": "nxVYQzGT1x52",
        "outputId": "abf514e8-5db2-45bd-cd11-13f9615e2cbf"
      },
      "execution_count": null,
      "outputs": [
        {
          "output_type": "execute_result",
          "data": {
            "text/plain": [
              "TransferFunction(array([0.4]), array([-0.00485981, -0.01549103,  1.        ]))"
            ],
            "text/latex": "$$\\frac{0.4}{-0.00486 s^2 - 0.01549 s + 1}$$"
          },
          "metadata": {},
          "execution_count": 92
        }
      ]
    },
    {
      "cell_type": "code",
      "source": [
        "# Aquí z al cuadrado menos uno da como resultado un numero negativo\n",
        "z**2 -1 "
      ],
      "metadata": {
        "colab": {
          "base_uri": "https://localhost:8080/"
        },
        "id": "SdQNfFwI_TsN",
        "outputId": "ef5cfeca-e0ba-49e6-b90f-9b858a768840"
      },
      "execution_count": null,
      "outputs": [
        {
          "output_type": "execute_result",
          "data": {
            "text/plain": [
              "-0.8274923561432901"
            ]
          },
          "metadata": {},
          "execution_count": 103
        }
      ]
    },
    {
      "cell_type": "code",
      "source": [
        "# nos da error porque no se puede sacar raíz a un número negativo, al menos no en el plano real\n",
        "np.sqrt(z**2 -1)"
      ],
      "metadata": {
        "colab": {
          "base_uri": "https://localhost:8080/"
        },
        "id": "vsVY-_Nu9Fa7",
        "outputId": "7b9d7ce9-b57c-44d9-896e-8b7f421e5cf5"
      },
      "execution_count": null,
      "outputs": [
        {
          "output_type": "stream",
          "name": "stderr",
          "text": [
            "<ipython-input-100-d0086ae8cfe7>:1: RuntimeWarning: invalid value encountered in sqrt\n",
            "  np.sqrt(z**2 -1)\n"
          ]
        },
        {
          "output_type": "execute_result",
          "data": {
            "text/plain": [
              "nan"
            ]
          },
          "metadata": {},
          "execution_count": 100
        }
      ]
    },
    {
      "cell_type": "markdown",
      "source": [
        "Esta función no puede resolverse por este método debido a que la raíz de z - 1 seria imaginaria"
      ],
      "metadata": {
        "id": "9ApR4D7595Z9"
      }
    },
    {
      "cell_type": "markdown",
      "source": [
        "\n",
        "\n",
        "---\n",
        "6. Para cada pregunta responde con el concepto e indica un ejemplo:\n",
        "\n"
      ],
      "metadata": {
        "id": "huKl0WvIHSHY"
      }
    },
    {
      "cell_type": "markdown",
      "source": [
        "1. **¿Qué se necesita para que un sistema de control sea controlable?**\n",
        "\n",
        "*   Que se pueda cambiar la respuesta del sistema con el cambio en alguna variable.\n",
        "*   Que se pueda vizualizar el estado del sistema.\n",
        "\n",
        "2. **¿Qué es controlabilidad?**\n",
        "\n",
        "Es la propiedad que describe a un sistema de control y expresa que el mismo puede ser controlado mediante el cambio de una variable, y que a su vez se puede observar su estado en todo momento.\n",
        "\n",
        "3. **¿Qué es observabilidad?**\n",
        "\n",
        "Se refiere a la campacidad del sitema para mostrar al usuario su estado actual.\n",
        "\n",
        "**Ejemplo de las preguntas 1 a 3:**\n",
        "\n",
        "Un aire acondicionado automático, puede aumentar su temperatura conforme lo dicte el ambiente en la proporción que determine el usuario, todo se hace mediante un sensor de temperatura y un microcontrolador que interprete los datos obtenidos por el sensor, mediante ellos se determina el aumento y la disminución de la temperatura, y se muestra al usuario la temperatura actual.\n",
        "\n",
        "4. **¿Qué es la histéresis?**\n",
        "\n",
        "En palabras simples, la respuesta del sistema depende de su estado previo, y no solo de la causa actual.\n",
        "\n",
        "**Ejemplo:**\n",
        "\n",
        "Un ejemplo sería un sensor de temperatura que depende del estado previo del ambiente para la toma de medición.\n",
        "\n",
        "5. **¿Qué es exactitud?**\n",
        "\n",
        "Se refiere a la cercanía de un valor a su valor real.\n",
        "\n",
        "**Ejemplo:**\n",
        "\n",
        "Por ejemplo, si un sensor de temperatura indica 25 grados Celsius cuando la temperatura real es de 27 grados, podemos concluir que el sensor no es exacto.\n",
        "\n",
        "6. **¿Qué es precisión?**\n",
        "\n",
        "Es la capacidad de un resultado o medida de ser cercano\n",
        "\n",
        "**Ejemplo:**\n",
        "\n",
        "Si un sensor es preciso, cada vez que se mida la temperatura, el resultado será cercano al valor verdadero de la temperatura que se está midiendo.\n",
        "7. **¿Qué es fidelidad?**\n",
        "\n",
        "Se refiere a la consistencia o precisión de los datos o mediciones.\n",
        "\n",
        "**Ejemplo:**\n",
        "\n",
        "Si tenemos 10 datos de temperatura tomados con un sensor, todos deberían estar en el mismo rango con pequeñas diferencias. De lo contrario, podríamos concluir que el sensor no es fiable.\n",
        "\n",
        "8. **¿Qué es reproducibilidad?**\n",
        "\n",
        "Es la capacidad de un evento a repetirse en distintos lapsos de tiempo bajo las mismas condiciones.\n",
        "\n",
        "**Ejemplo:**\n",
        "\n",
        "En teoría, si pesamos el mismo objeto 10 veces con una báscula, debería tener el mismo peso en todas las mediciones. De lo contrario, nos daríamos cuenta de que la báscula no está funcionando correctamente."
      ],
      "metadata": {
        "id": "dpRy4A4MIMBI"
      }
    }
  ]
}